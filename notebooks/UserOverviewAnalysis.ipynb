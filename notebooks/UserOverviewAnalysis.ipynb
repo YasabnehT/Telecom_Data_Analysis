{
  "cells": [
    {
      "cell_type": "markdown",
      "id": "aa4ed27a",
      "metadata": {
        "id": "aa4ed27a"
      },
      "source": [
        "## Module Imports"
      ]
    },
    {
      "cell_type": "code",
      "execution_count": 108,
      "id": "ee45d041",
      "metadata": {
        "id": "ee45d041"
      },
      "outputs": [],
      "source": [
        "import pandas as pd\n",
        "import numpy as np\n",
        "from sklearn import preprocessing\n",
        "from sklearn.preprocessing import Normalizer\n",
        "from sklearn.preprocessing import MinMaxScaler\n",
        "from matplotlib import pyplot as plt\n",
        "import seaborn as sns"
      ]
    },
    {
      "cell_type": "markdown",
      "source": [
        "### Mount Google Drive to Google Colab"
      ],
      "metadata": {
        "id": "FhOuq3a880aA"
      },
      "id": "FhOuq3a880aA"
    },
    {
      "cell_type": "code",
      "source": [
        "from google.colab import drive\n",
        "drive.mount('/content/drive')"
      ],
      "metadata": {
        "colab": {
          "base_uri": "https://localhost:8080/"
        },
        "id": "49URzGF-GcAN",
        "outputId": "c0c1bee8-ecf9-463c-e1fb-82019c70e041"
      },
      "id": "49URzGF-GcAN",
      "execution_count": 58,
      "outputs": [
        {
          "output_type": "stream",
          "name": "stdout",
          "text": [
            "Drive already mounted at /content/drive; to attempt to forcibly remount, call drive.mount(\"/content/drive\", force_remount=True).\n"
          ]
        }
      ]
    },
    {
      "cell_type": "markdown",
      "source": [
        "# Data Understanding"
      ],
      "metadata": {
        "id": "i9-dwT1ifU_F"
      },
      "id": "i9-dwT1ifU_F"
    },
    {
      "cell_type": "markdown",
      "source": [
        "### **Identify datasets with NaN or None values**"
      ],
      "metadata": {
        "id": "ChJRgw2D9PfD"
      },
      "id": "ChJRgw2D9PfD"
    },
    {
      "cell_type": "code",
      "execution_count": 59,
      "id": "f1d57c38",
      "metadata": {
        "colab": {
          "base_uri": "https://localhost:8080/",
          "height": 583
        },
        "id": "f1d57c38",
        "outputId": "76eee5cc-3dce-401c-bba9-aa04d5706000"
      },
      "outputs": [
        {
          "output_type": "execute_result",
          "data": {
            "text/plain": [
              "      Bearer Id            Start  Start ms              End  End ms  \\\n",
              "0  1.311448e+19   4/4/2019 12:01     770.0  4/25/2019 14:35   662.0   \n",
              "1  1.311448e+19   4/9/2019 13:04     235.0   4/25/2019 8:15   606.0   \n",
              "2  1.311448e+19   4/9/2019 17:42       1.0  4/25/2019 11:58   652.0   \n",
              "3  1.311448e+19   4/10/2019 0:31     486.0   4/25/2019 7:36   171.0   \n",
              "4  1.311448e+19  4/12/2019 20:10     565.0  4/25/2019 10:40   954.0   \n",
              "\n",
              "   Dur. (ms)          IMSI  MSISDN/Number          IMEI  \\\n",
              "0  1823652.0  2.082014e+14   3.366496e+10  3.552121e+13   \n",
              "1  1365104.0  2.082019e+14   3.368185e+10  3.579401e+13   \n",
              "2  1361762.0  2.082003e+14   3.376063e+10  3.528151e+13   \n",
              "3  1321509.0  2.082014e+14   3.375034e+10  3.535661e+13   \n",
              "4  1089009.0  2.082014e+14   3.369980e+10  3.540701e+13   \n",
              "\n",
              "      Last Location Name  Avg RTT DL (ms)  Avg RTT UL (ms)  \\\n",
              "0  9.16456699548519E+015             42.0              5.0   \n",
              "1                L77566A             65.0              5.0   \n",
              "2                D42335A              NaN              NaN   \n",
              "3                T21824A              NaN              NaN   \n",
              "4                D88865A              NaN              NaN   \n",
              "\n",
              "   Avg Bearer TP DL (kbps)  Avg Bearer TP UL (kbps)  \\\n",
              "0                     23.0                     44.0   \n",
              "1                     16.0                     26.0   \n",
              "2                      6.0                      9.0   \n",
              "3                     44.0                     44.0   \n",
              "4                      6.0                      9.0   \n",
              "\n",
              "   TCP DL Retrans. Vol (Bytes)  TCP UL Retrans. Vol (Bytes)  \\\n",
              "0                          NaN                          NaN   \n",
              "1                          NaN                          NaN   \n",
              "2                          NaN                          NaN   \n",
              "3                          NaN                          NaN   \n",
              "4                          NaN                          NaN   \n",
              "\n",
              "   DL TP < 50 Kbps (%)  50 Kbps < DL TP < 250 Kbps (%)  \\\n",
              "0                100.0                             0.0   \n",
              "1                100.0                             0.0   \n",
              "2                100.0                             0.0   \n",
              "3                100.0                             0.0   \n",
              "4                100.0                             0.0   \n",
              "\n",
              "   250 Kbps < DL TP < 1 Mbps (%)  DL TP > 1 Mbps (%)  UL TP < 10 Kbps (%)  \\\n",
              "0                            0.0                 0.0                100.0   \n",
              "1                            0.0                 0.0                100.0   \n",
              "2                            0.0                 0.0                100.0   \n",
              "3                            0.0                 0.0                100.0   \n",
              "4                            0.0                 0.0                100.0   \n",
              "\n",
              "   10 Kbps < UL TP < 50 Kbps (%)  50 Kbps < UL TP < 300 Kbps (%)  \\\n",
              "0                            0.0                             0.0   \n",
              "1                            0.0                             0.0   \n",
              "2                            0.0                             0.0   \n",
              "3                            0.0                             0.0   \n",
              "4                            0.0                             0.0   \n",
              "\n",
              "   UL TP > 300 Kbps (%)  HTTP DL (Bytes)  HTTP UL (Bytes)  \\\n",
              "0                   0.0              NaN              NaN   \n",
              "1                   0.0              NaN              NaN   \n",
              "2                   0.0              NaN              NaN   \n",
              "3                   0.0              NaN              NaN   \n",
              "4                   0.0              NaN              NaN   \n",
              "\n",
              "   Activity Duration DL (ms)  Activity Duration UL (ms)   Dur. (ms).1  \\\n",
              "0                    37624.0                    38787.0  1.823653e+09   \n",
              "1                      168.0                     3560.0  1.365104e+09   \n",
              "2                        0.0                        0.0  1.361763e+09   \n",
              "3                     3330.0                    37882.0  1.321510e+09   \n",
              "4                        0.0                        0.0  1.089009e+09   \n",
              "\n",
              "  Handset Manufacturer                 Handset Type  \\\n",
              "0              Samsung   Samsung Galaxy A5 Sm-A520F   \n",
              "1              Samsung  Samsung Galaxy J5 (Sm-J530)   \n",
              "2              Samsung     Samsung Galaxy A8 (2018)   \n",
              "3                  NaN                          NaN   \n",
              "4              Samsung             Samsung Sm-G390F   \n",
              "\n",
              "   Nb of sec with 125000B < Vol DL  Nb of sec with 1250B < Vol UL < 6250B  \\\n",
              "0                              NaN                                    NaN   \n",
              "1                              NaN                                    NaN   \n",
              "2                              NaN                                    NaN   \n",
              "3                              NaN                                    NaN   \n",
              "4                              NaN                                    NaN   \n",
              "\n",
              "   Nb of sec with 31250B < Vol DL < 125000B  Nb of sec with 37500B < Vol UL  \\\n",
              "0                                       NaN                             NaN   \n",
              "1                                       NaN                             NaN   \n",
              "2                                       NaN                             NaN   \n",
              "3                                       NaN                             NaN   \n",
              "4                                       NaN                             NaN   \n",
              "\n",
              "   Nb of sec with 6250B < Vol DL < 31250B  \\\n",
              "0                                     NaN   \n",
              "1                                     NaN   \n",
              "2                                     NaN   \n",
              "3                                     NaN   \n",
              "4                                     NaN   \n",
              "\n",
              "   Nb of sec with 6250B < Vol UL < 37500B  Nb of sec with Vol DL < 6250B  \\\n",
              "0                                     NaN                          213.0   \n",
              "1                                     NaN                          971.0   \n",
              "2                                     NaN                          751.0   \n",
              "3                                     NaN                           17.0   \n",
              "4                                     NaN                          607.0   \n",
              "\n",
              "   Nb of sec with Vol UL < 1250B  Social Media DL (Bytes)  \\\n",
              "0                          214.0                1545765.0   \n",
              "1                         1022.0                1926113.0   \n",
              "2                          695.0                1684053.0   \n",
              "3                          207.0                 644121.0   \n",
              "4                          604.0                 862600.0   \n",
              "\n",
              "   Social Media UL (Bytes)  Google DL (Bytes)  Google UL (Bytes)  \\\n",
              "0                  24420.0          1634479.0          1271433.0   \n",
              "1                   7165.0          3493924.0           920172.0   \n",
              "2                  42224.0          8535055.0          1694064.0   \n",
              "3                  13372.0          9023734.0          2788027.0   \n",
              "4                  50188.0          6248284.0          1500559.0   \n",
              "\n",
              "   Email DL (Bytes)  Email UL (Bytes)  Youtube DL (Bytes)  Youtube UL (Bytes)  \\\n",
              "0         3563542.0          137762.0          15854611.0           2501332.0   \n",
              "1          629046.0          308339.0          20247395.0          19111729.0   \n",
              "2         2690151.0          672973.0          19725661.0          14699576.0   \n",
              "3         1439754.0          631229.0          21388122.0          15146643.0   \n",
              "4         1936496.0          173853.0          15259380.0          18962873.0   \n",
              "\n",
              "   Netflix DL (Bytes)  Netflix UL (Bytes)  Gaming DL (Bytes)  \\\n",
              "0           8198936.0           9656251.0        278082303.0   \n",
              "1          18338413.0          17227132.0        608750074.0   \n",
              "2          17587794.0           6163408.0        229584621.0   \n",
              "3          13994646.0           1097942.0        799538153.0   \n",
              "4          17124581.0            415218.0        527707248.0   \n",
              "\n",
              "   Gaming UL (Bytes)  Other DL (Bytes)  Other UL (Bytes)  Total UL (Bytes)  \\\n",
              "0         14344150.0       171744450.0         8814393.0        36749741.0   \n",
              "1          1170709.0       526904238.0        15055145.0        53800391.0   \n",
              "2           395630.0       410692588.0         4215763.0        27883638.0   \n",
              "3         10849722.0       749039933.0        12797283.0        43324218.0   \n",
              "4          3529801.0       550709500.0        13910322.0        38542814.0   \n",
              "\n",
              "   Total DL (Bytes)  \n",
              "0       308879636.0  \n",
              "1       653384965.0  \n",
              "2       279807335.0  \n",
              "3       846028530.0  \n",
              "4       569138589.0  "
            ],
            "text/html": [
              "\n",
              "  <div id=\"df-642b5fdc-6a79-4638-8c3b-1fc7624e443b\">\n",
              "    <div class=\"colab-df-container\">\n",
              "      <div>\n",
              "<style scoped>\n",
              "    .dataframe tbody tr th:only-of-type {\n",
              "        vertical-align: middle;\n",
              "    }\n",
              "\n",
              "    .dataframe tbody tr th {\n",
              "        vertical-align: top;\n",
              "    }\n",
              "\n",
              "    .dataframe thead th {\n",
              "        text-align: right;\n",
              "    }\n",
              "</style>\n",
              "<table border=\"1\" class=\"dataframe\">\n",
              "  <thead>\n",
              "    <tr style=\"text-align: right;\">\n",
              "      <th></th>\n",
              "      <th>Bearer Id</th>\n",
              "      <th>Start</th>\n",
              "      <th>Start ms</th>\n",
              "      <th>End</th>\n",
              "      <th>End ms</th>\n",
              "      <th>Dur. (ms)</th>\n",
              "      <th>IMSI</th>\n",
              "      <th>MSISDN/Number</th>\n",
              "      <th>IMEI</th>\n",
              "      <th>Last Location Name</th>\n",
              "      <th>Avg RTT DL (ms)</th>\n",
              "      <th>Avg RTT UL (ms)</th>\n",
              "      <th>Avg Bearer TP DL (kbps)</th>\n",
              "      <th>Avg Bearer TP UL (kbps)</th>\n",
              "      <th>TCP DL Retrans. Vol (Bytes)</th>\n",
              "      <th>TCP UL Retrans. Vol (Bytes)</th>\n",
              "      <th>DL TP &lt; 50 Kbps (%)</th>\n",
              "      <th>50 Kbps &lt; DL TP &lt; 250 Kbps (%)</th>\n",
              "      <th>250 Kbps &lt; DL TP &lt; 1 Mbps (%)</th>\n",
              "      <th>DL TP &gt; 1 Mbps (%)</th>\n",
              "      <th>UL TP &lt; 10 Kbps (%)</th>\n",
              "      <th>10 Kbps &lt; UL TP &lt; 50 Kbps (%)</th>\n",
              "      <th>50 Kbps &lt; UL TP &lt; 300 Kbps (%)</th>\n",
              "      <th>UL TP &gt; 300 Kbps (%)</th>\n",
              "      <th>HTTP DL (Bytes)</th>\n",
              "      <th>HTTP UL (Bytes)</th>\n",
              "      <th>Activity Duration DL (ms)</th>\n",
              "      <th>Activity Duration UL (ms)</th>\n",
              "      <th>Dur. (ms).1</th>\n",
              "      <th>Handset Manufacturer</th>\n",
              "      <th>Handset Type</th>\n",
              "      <th>Nb of sec with 125000B &lt; Vol DL</th>\n",
              "      <th>Nb of sec with 1250B &lt; Vol UL &lt; 6250B</th>\n",
              "      <th>Nb of sec with 31250B &lt; Vol DL &lt; 125000B</th>\n",
              "      <th>Nb of sec with 37500B &lt; Vol UL</th>\n",
              "      <th>Nb of sec with 6250B &lt; Vol DL &lt; 31250B</th>\n",
              "      <th>Nb of sec with 6250B &lt; Vol UL &lt; 37500B</th>\n",
              "      <th>Nb of sec with Vol DL &lt; 6250B</th>\n",
              "      <th>Nb of sec with Vol UL &lt; 1250B</th>\n",
              "      <th>Social Media DL (Bytes)</th>\n",
              "      <th>Social Media UL (Bytes)</th>\n",
              "      <th>Google DL (Bytes)</th>\n",
              "      <th>Google UL (Bytes)</th>\n",
              "      <th>Email DL (Bytes)</th>\n",
              "      <th>Email UL (Bytes)</th>\n",
              "      <th>Youtube DL (Bytes)</th>\n",
              "      <th>Youtube UL (Bytes)</th>\n",
              "      <th>Netflix DL (Bytes)</th>\n",
              "      <th>Netflix UL (Bytes)</th>\n",
              "      <th>Gaming DL (Bytes)</th>\n",
              "      <th>Gaming UL (Bytes)</th>\n",
              "      <th>Other DL (Bytes)</th>\n",
              "      <th>Other UL (Bytes)</th>\n",
              "      <th>Total UL (Bytes)</th>\n",
              "      <th>Total DL (Bytes)</th>\n",
              "    </tr>\n",
              "  </thead>\n",
              "  <tbody>\n",
              "    <tr>\n",
              "      <th>0</th>\n",
              "      <td>1.311448e+19</td>\n",
              "      <td>4/4/2019 12:01</td>\n",
              "      <td>770.0</td>\n",
              "      <td>4/25/2019 14:35</td>\n",
              "      <td>662.0</td>\n",
              "      <td>1823652.0</td>\n",
              "      <td>2.082014e+14</td>\n",
              "      <td>3.366496e+10</td>\n",
              "      <td>3.552121e+13</td>\n",
              "      <td>9.16456699548519E+015</td>\n",
              "      <td>42.0</td>\n",
              "      <td>5.0</td>\n",
              "      <td>23.0</td>\n",
              "      <td>44.0</td>\n",
              "      <td>NaN</td>\n",
              "      <td>NaN</td>\n",
              "      <td>100.0</td>\n",
              "      <td>0.0</td>\n",
              "      <td>0.0</td>\n",
              "      <td>0.0</td>\n",
              "      <td>100.0</td>\n",
              "      <td>0.0</td>\n",
              "      <td>0.0</td>\n",
              "      <td>0.0</td>\n",
              "      <td>NaN</td>\n",
              "      <td>NaN</td>\n",
              "      <td>37624.0</td>\n",
              "      <td>38787.0</td>\n",
              "      <td>1.823653e+09</td>\n",
              "      <td>Samsung</td>\n",
              "      <td>Samsung Galaxy A5 Sm-A520F</td>\n",
              "      <td>NaN</td>\n",
              "      <td>NaN</td>\n",
              "      <td>NaN</td>\n",
              "      <td>NaN</td>\n",
              "      <td>NaN</td>\n",
              "      <td>NaN</td>\n",
              "      <td>213.0</td>\n",
              "      <td>214.0</td>\n",
              "      <td>1545765.0</td>\n",
              "      <td>24420.0</td>\n",
              "      <td>1634479.0</td>\n",
              "      <td>1271433.0</td>\n",
              "      <td>3563542.0</td>\n",
              "      <td>137762.0</td>\n",
              "      <td>15854611.0</td>\n",
              "      <td>2501332.0</td>\n",
              "      <td>8198936.0</td>\n",
              "      <td>9656251.0</td>\n",
              "      <td>278082303.0</td>\n",
              "      <td>14344150.0</td>\n",
              "      <td>171744450.0</td>\n",
              "      <td>8814393.0</td>\n",
              "      <td>36749741.0</td>\n",
              "      <td>308879636.0</td>\n",
              "    </tr>\n",
              "    <tr>\n",
              "      <th>1</th>\n",
              "      <td>1.311448e+19</td>\n",
              "      <td>4/9/2019 13:04</td>\n",
              "      <td>235.0</td>\n",
              "      <td>4/25/2019 8:15</td>\n",
              "      <td>606.0</td>\n",
              "      <td>1365104.0</td>\n",
              "      <td>2.082019e+14</td>\n",
              "      <td>3.368185e+10</td>\n",
              "      <td>3.579401e+13</td>\n",
              "      <td>L77566A</td>\n",
              "      <td>65.0</td>\n",
              "      <td>5.0</td>\n",
              "      <td>16.0</td>\n",
              "      <td>26.0</td>\n",
              "      <td>NaN</td>\n",
              "      <td>NaN</td>\n",
              "      <td>100.0</td>\n",
              "      <td>0.0</td>\n",
              "      <td>0.0</td>\n",
              "      <td>0.0</td>\n",
              "      <td>100.0</td>\n",
              "      <td>0.0</td>\n",
              "      <td>0.0</td>\n",
              "      <td>0.0</td>\n",
              "      <td>NaN</td>\n",
              "      <td>NaN</td>\n",
              "      <td>168.0</td>\n",
              "      <td>3560.0</td>\n",
              "      <td>1.365104e+09</td>\n",
              "      <td>Samsung</td>\n",
              "      <td>Samsung Galaxy J5 (Sm-J530)</td>\n",
              "      <td>NaN</td>\n",
              "      <td>NaN</td>\n",
              "      <td>NaN</td>\n",
              "      <td>NaN</td>\n",
              "      <td>NaN</td>\n",
              "      <td>NaN</td>\n",
              "      <td>971.0</td>\n",
              "      <td>1022.0</td>\n",
              "      <td>1926113.0</td>\n",
              "      <td>7165.0</td>\n",
              "      <td>3493924.0</td>\n",
              "      <td>920172.0</td>\n",
              "      <td>629046.0</td>\n",
              "      <td>308339.0</td>\n",
              "      <td>20247395.0</td>\n",
              "      <td>19111729.0</td>\n",
              "      <td>18338413.0</td>\n",
              "      <td>17227132.0</td>\n",
              "      <td>608750074.0</td>\n",
              "      <td>1170709.0</td>\n",
              "      <td>526904238.0</td>\n",
              "      <td>15055145.0</td>\n",
              "      <td>53800391.0</td>\n",
              "      <td>653384965.0</td>\n",
              "    </tr>\n",
              "    <tr>\n",
              "      <th>2</th>\n",
              "      <td>1.311448e+19</td>\n",
              "      <td>4/9/2019 17:42</td>\n",
              "      <td>1.0</td>\n",
              "      <td>4/25/2019 11:58</td>\n",
              "      <td>652.0</td>\n",
              "      <td>1361762.0</td>\n",
              "      <td>2.082003e+14</td>\n",
              "      <td>3.376063e+10</td>\n",
              "      <td>3.528151e+13</td>\n",
              "      <td>D42335A</td>\n",
              "      <td>NaN</td>\n",
              "      <td>NaN</td>\n",
              "      <td>6.0</td>\n",
              "      <td>9.0</td>\n",
              "      <td>NaN</td>\n",
              "      <td>NaN</td>\n",
              "      <td>100.0</td>\n",
              "      <td>0.0</td>\n",
              "      <td>0.0</td>\n",
              "      <td>0.0</td>\n",
              "      <td>100.0</td>\n",
              "      <td>0.0</td>\n",
              "      <td>0.0</td>\n",
              "      <td>0.0</td>\n",
              "      <td>NaN</td>\n",
              "      <td>NaN</td>\n",
              "      <td>0.0</td>\n",
              "      <td>0.0</td>\n",
              "      <td>1.361763e+09</td>\n",
              "      <td>Samsung</td>\n",
              "      <td>Samsung Galaxy A8 (2018)</td>\n",
              "      <td>NaN</td>\n",
              "      <td>NaN</td>\n",
              "      <td>NaN</td>\n",
              "      <td>NaN</td>\n",
              "      <td>NaN</td>\n",
              "      <td>NaN</td>\n",
              "      <td>751.0</td>\n",
              "      <td>695.0</td>\n",
              "      <td>1684053.0</td>\n",
              "      <td>42224.0</td>\n",
              "      <td>8535055.0</td>\n",
              "      <td>1694064.0</td>\n",
              "      <td>2690151.0</td>\n",
              "      <td>672973.0</td>\n",
              "      <td>19725661.0</td>\n",
              "      <td>14699576.0</td>\n",
              "      <td>17587794.0</td>\n",
              "      <td>6163408.0</td>\n",
              "      <td>229584621.0</td>\n",
              "      <td>395630.0</td>\n",
              "      <td>410692588.0</td>\n",
              "      <td>4215763.0</td>\n",
              "      <td>27883638.0</td>\n",
              "      <td>279807335.0</td>\n",
              "    </tr>\n",
              "    <tr>\n",
              "      <th>3</th>\n",
              "      <td>1.311448e+19</td>\n",
              "      <td>4/10/2019 0:31</td>\n",
              "      <td>486.0</td>\n",
              "      <td>4/25/2019 7:36</td>\n",
              "      <td>171.0</td>\n",
              "      <td>1321509.0</td>\n",
              "      <td>2.082014e+14</td>\n",
              "      <td>3.375034e+10</td>\n",
              "      <td>3.535661e+13</td>\n",
              "      <td>T21824A</td>\n",
              "      <td>NaN</td>\n",
              "      <td>NaN</td>\n",
              "      <td>44.0</td>\n",
              "      <td>44.0</td>\n",
              "      <td>NaN</td>\n",
              "      <td>NaN</td>\n",
              "      <td>100.0</td>\n",
              "      <td>0.0</td>\n",
              "      <td>0.0</td>\n",
              "      <td>0.0</td>\n",
              "      <td>100.0</td>\n",
              "      <td>0.0</td>\n",
              "      <td>0.0</td>\n",
              "      <td>0.0</td>\n",
              "      <td>NaN</td>\n",
              "      <td>NaN</td>\n",
              "      <td>3330.0</td>\n",
              "      <td>37882.0</td>\n",
              "      <td>1.321510e+09</td>\n",
              "      <td>NaN</td>\n",
              "      <td>NaN</td>\n",
              "      <td>NaN</td>\n",
              "      <td>NaN</td>\n",
              "      <td>NaN</td>\n",
              "      <td>NaN</td>\n",
              "      <td>NaN</td>\n",
              "      <td>NaN</td>\n",
              "      <td>17.0</td>\n",
              "      <td>207.0</td>\n",
              "      <td>644121.0</td>\n",
              "      <td>13372.0</td>\n",
              "      <td>9023734.0</td>\n",
              "      <td>2788027.0</td>\n",
              "      <td>1439754.0</td>\n",
              "      <td>631229.0</td>\n",
              "      <td>21388122.0</td>\n",
              "      <td>15146643.0</td>\n",
              "      <td>13994646.0</td>\n",
              "      <td>1097942.0</td>\n",
              "      <td>799538153.0</td>\n",
              "      <td>10849722.0</td>\n",
              "      <td>749039933.0</td>\n",
              "      <td>12797283.0</td>\n",
              "      <td>43324218.0</td>\n",
              "      <td>846028530.0</td>\n",
              "    </tr>\n",
              "    <tr>\n",
              "      <th>4</th>\n",
              "      <td>1.311448e+19</td>\n",
              "      <td>4/12/2019 20:10</td>\n",
              "      <td>565.0</td>\n",
              "      <td>4/25/2019 10:40</td>\n",
              "      <td>954.0</td>\n",
              "      <td>1089009.0</td>\n",
              "      <td>2.082014e+14</td>\n",
              "      <td>3.369980e+10</td>\n",
              "      <td>3.540701e+13</td>\n",
              "      <td>D88865A</td>\n",
              "      <td>NaN</td>\n",
              "      <td>NaN</td>\n",
              "      <td>6.0</td>\n",
              "      <td>9.0</td>\n",
              "      <td>NaN</td>\n",
              "      <td>NaN</td>\n",
              "      <td>100.0</td>\n",
              "      <td>0.0</td>\n",
              "      <td>0.0</td>\n",
              "      <td>0.0</td>\n",
              "      <td>100.0</td>\n",
              "      <td>0.0</td>\n",
              "      <td>0.0</td>\n",
              "      <td>0.0</td>\n",
              "      <td>NaN</td>\n",
              "      <td>NaN</td>\n",
              "      <td>0.0</td>\n",
              "      <td>0.0</td>\n",
              "      <td>1.089009e+09</td>\n",
              "      <td>Samsung</td>\n",
              "      <td>Samsung Sm-G390F</td>\n",
              "      <td>NaN</td>\n",
              "      <td>NaN</td>\n",
              "      <td>NaN</td>\n",
              "      <td>NaN</td>\n",
              "      <td>NaN</td>\n",
              "      <td>NaN</td>\n",
              "      <td>607.0</td>\n",
              "      <td>604.0</td>\n",
              "      <td>862600.0</td>\n",
              "      <td>50188.0</td>\n",
              "      <td>6248284.0</td>\n",
              "      <td>1500559.0</td>\n",
              "      <td>1936496.0</td>\n",
              "      <td>173853.0</td>\n",
              "      <td>15259380.0</td>\n",
              "      <td>18962873.0</td>\n",
              "      <td>17124581.0</td>\n",
              "      <td>415218.0</td>\n",
              "      <td>527707248.0</td>\n",
              "      <td>3529801.0</td>\n",
              "      <td>550709500.0</td>\n",
              "      <td>13910322.0</td>\n",
              "      <td>38542814.0</td>\n",
              "      <td>569138589.0</td>\n",
              "    </tr>\n",
              "  </tbody>\n",
              "</table>\n",
              "</div>\n",
              "      <button class=\"colab-df-convert\" onclick=\"convertToInteractive('df-642b5fdc-6a79-4638-8c3b-1fc7624e443b')\"\n",
              "              title=\"Convert this dataframe to an interactive table.\"\n",
              "              style=\"display:none;\">\n",
              "        \n",
              "  <svg xmlns=\"http://www.w3.org/2000/svg\" height=\"24px\"viewBox=\"0 0 24 24\"\n",
              "       width=\"24px\">\n",
              "    <path d=\"M0 0h24v24H0V0z\" fill=\"none\"/>\n",
              "    <path d=\"M18.56 5.44l.94 2.06.94-2.06 2.06-.94-2.06-.94-.94-2.06-.94 2.06-2.06.94zm-11 1L8.5 8.5l.94-2.06 2.06-.94-2.06-.94L8.5 2.5l-.94 2.06-2.06.94zm10 10l.94 2.06.94-2.06 2.06-.94-2.06-.94-.94-2.06-.94 2.06-2.06.94z\"/><path d=\"M17.41 7.96l-1.37-1.37c-.4-.4-.92-.59-1.43-.59-.52 0-1.04.2-1.43.59L10.3 9.45l-7.72 7.72c-.78.78-.78 2.05 0 2.83L4 21.41c.39.39.9.59 1.41.59.51 0 1.02-.2 1.41-.59l7.78-7.78 2.81-2.81c.8-.78.8-2.07 0-2.86zM5.41 20L4 18.59l7.72-7.72 1.47 1.35L5.41 20z\"/>\n",
              "  </svg>\n",
              "      </button>\n",
              "      \n",
              "  <style>\n",
              "    .colab-df-container {\n",
              "      display:flex;\n",
              "      flex-wrap:wrap;\n",
              "      gap: 12px;\n",
              "    }\n",
              "\n",
              "    .colab-df-convert {\n",
              "      background-color: #E8F0FE;\n",
              "      border: none;\n",
              "      border-radius: 50%;\n",
              "      cursor: pointer;\n",
              "      display: none;\n",
              "      fill: #1967D2;\n",
              "      height: 32px;\n",
              "      padding: 0 0 0 0;\n",
              "      width: 32px;\n",
              "    }\n",
              "\n",
              "    .colab-df-convert:hover {\n",
              "      background-color: #E2EBFA;\n",
              "      box-shadow: 0px 1px 2px rgba(60, 64, 67, 0.3), 0px 1px 3px 1px rgba(60, 64, 67, 0.15);\n",
              "      fill: #174EA6;\n",
              "    }\n",
              "\n",
              "    [theme=dark] .colab-df-convert {\n",
              "      background-color: #3B4455;\n",
              "      fill: #D2E3FC;\n",
              "    }\n",
              "\n",
              "    [theme=dark] .colab-df-convert:hover {\n",
              "      background-color: #434B5C;\n",
              "      box-shadow: 0px 1px 3px 1px rgba(0, 0, 0, 0.15);\n",
              "      filter: drop-shadow(0px 1px 2px rgba(0, 0, 0, 0.3));\n",
              "      fill: #FFFFFF;\n",
              "    }\n",
              "  </style>\n",
              "\n",
              "      <script>\n",
              "        const buttonEl =\n",
              "          document.querySelector('#df-642b5fdc-6a79-4638-8c3b-1fc7624e443b button.colab-df-convert');\n",
              "        buttonEl.style.display =\n",
              "          google.colab.kernel.accessAllowed ? 'block' : 'none';\n",
              "\n",
              "        async function convertToInteractive(key) {\n",
              "          const element = document.querySelector('#df-642b5fdc-6a79-4638-8c3b-1fc7624e443b');\n",
              "          const dataTable =\n",
              "            await google.colab.kernel.invokeFunction('convertToInteractive',\n",
              "                                                     [key], {});\n",
              "          if (!dataTable) return;\n",
              "\n",
              "          const docLinkHtml = 'Like what you see? Visit the ' +\n",
              "            '<a target=\"_blank\" href=https://colab.research.google.com/notebooks/data_table.ipynb>data table notebook</a>'\n",
              "            + ' to learn more about interactive tables.';\n",
              "          element.innerHTML = '';\n",
              "          dataTable['output_type'] = 'display_data';\n",
              "          await google.colab.output.renderOutput(dataTable, element);\n",
              "          const docLink = document.createElement('div');\n",
              "          docLink.innerHTML = docLinkHtml;\n",
              "          element.appendChild(docLink);\n",
              "        }\n",
              "      </script>\n",
              "    </div>\n",
              "  </div>\n",
              "  "
            ]
          },
          "metadata": {},
          "execution_count": 59
        }
      ],
      "source": [
        "import warnings\n",
        "warnings.filterwarnings('ignore')\n",
        "pd.set_option('max_column', None)\n",
        "db = pd.read_csv('/content/drive/MyDrive/Colab Notebooks/data/Week1_challenge_data_source(CSV).csv', na_values=['undefined','?', None])\n",
        "db.head() # the fisrt five rows"
      ]
    },
    {
      "cell_type": "markdown",
      "id": "4428adf1",
      "metadata": {
        "id": "4428adf1"
      },
      "source": [
        "# Size of the dataset\n",
        "### Columns of the dataset"
      ]
    },
    {
      "cell_type": "code",
      "execution_count": 60,
      "id": "d3d9e577",
      "metadata": {
        "scrolled": true,
        "colab": {
          "base_uri": "https://localhost:8080/"
        },
        "id": "d3d9e577",
        "outputId": "72a14ee0-4d04-4427-bac4-8919bf120bc3"
      },
      "outputs": [
        {
          "output_type": "execute_result",
          "data": {
            "text/plain": [
              "['Bearer Id',\n",
              " 'Start',\n",
              " 'Start ms',\n",
              " 'End',\n",
              " 'End ms',\n",
              " 'Dur. (ms)',\n",
              " 'IMSI',\n",
              " 'MSISDN/Number',\n",
              " 'IMEI',\n",
              " 'Last Location Name',\n",
              " 'Avg RTT DL (ms)',\n",
              " 'Avg RTT UL (ms)',\n",
              " 'Avg Bearer TP DL (kbps)',\n",
              " 'Avg Bearer TP UL (kbps)',\n",
              " 'TCP DL Retrans. Vol (Bytes)',\n",
              " 'TCP UL Retrans. Vol (Bytes)',\n",
              " 'DL TP < 50 Kbps (%)',\n",
              " '50 Kbps < DL TP < 250 Kbps (%)',\n",
              " '250 Kbps < DL TP < 1 Mbps (%)',\n",
              " 'DL TP > 1 Mbps (%)',\n",
              " 'UL TP < 10 Kbps (%)',\n",
              " '10 Kbps < UL TP < 50 Kbps (%)',\n",
              " '50 Kbps < UL TP < 300 Kbps (%)',\n",
              " 'UL TP > 300 Kbps (%)',\n",
              " 'HTTP DL (Bytes)',\n",
              " 'HTTP UL (Bytes)',\n",
              " 'Activity Duration DL (ms)',\n",
              " 'Activity Duration UL (ms)',\n",
              " 'Dur. (ms).1',\n",
              " 'Handset Manufacturer',\n",
              " 'Handset Type',\n",
              " 'Nb of sec with 125000B < Vol DL',\n",
              " 'Nb of sec with 1250B < Vol UL < 6250B',\n",
              " 'Nb of sec with 31250B < Vol DL < 125000B',\n",
              " 'Nb of sec with 37500B < Vol UL',\n",
              " 'Nb of sec with 6250B < Vol DL < 31250B',\n",
              " 'Nb of sec with 6250B < Vol UL < 37500B',\n",
              " 'Nb of sec with Vol DL < 6250B',\n",
              " 'Nb of sec with Vol UL < 1250B',\n",
              " 'Social Media DL (Bytes)',\n",
              " 'Social Media UL (Bytes)',\n",
              " 'Google DL (Bytes)',\n",
              " 'Google UL (Bytes)',\n",
              " 'Email DL (Bytes)',\n",
              " 'Email UL (Bytes)',\n",
              " 'Youtube DL (Bytes)',\n",
              " 'Youtube UL (Bytes)',\n",
              " 'Netflix DL (Bytes)',\n",
              " 'Netflix UL (Bytes)',\n",
              " 'Gaming DL (Bytes)',\n",
              " 'Gaming UL (Bytes)',\n",
              " 'Other DL (Bytes)',\n",
              " 'Other UL (Bytes)',\n",
              " 'Total UL (Bytes)',\n",
              " 'Total DL (Bytes)']"
            ]
          },
          "metadata": {},
          "execution_count": 60
        }
      ],
      "source": [
        "# list of column  names\n",
        "db.columns.tolist()"
      ]
    },
    {
      "cell_type": "markdown",
      "source": [
        "### Number of columns"
      ],
      "metadata": {
        "id": "qjL3zKn8-30S"
      },
      "id": "qjL3zKn8-30S"
    },
    {
      "cell_type": "code",
      "source": [
        "print(f\"Number of columns: \", len(db.columns))"
      ],
      "metadata": {
        "colab": {
          "base_uri": "https://localhost:8080/"
        },
        "id": "Bb_baujC-zIn",
        "outputId": "f99cb784-6ae9-4886-97de-833c96e9232f"
      },
      "id": "Bb_baujC-zIn",
      "execution_count": 61,
      "outputs": [
        {
          "output_type": "stream",
          "name": "stdout",
          "text": [
            "Number of columns:  55\n"
          ]
        }
      ]
    },
    {
      "cell_type": "markdown",
      "id": "9ee8e8f3",
      "metadata": {
        "id": "9ee8e8f3"
      },
      "source": [
        "### Number of data points and data size"
      ]
    },
    {
      "cell_type": "code",
      "execution_count": 62,
      "id": "1e3e673f",
      "metadata": {
        "id": "1e3e673f",
        "outputId": "c9e3b94a-6f79-4728-f6b4-dc5405405032",
        "colab": {
          "base_uri": "https://localhost:8080/"
        }
      },
      "outputs": [
        {
          "output_type": "stream",
          "name": "stdout",
          "text": [
            " There are 150001 rows and 55 columns\n"
          ]
        }
      ],
      "source": [
        "print(f\" There are {db.shape[0]} rows and {db.shape[1]} columns\")"
      ]
    },
    {
      "cell_type": "markdown",
      "source": [
        "### Features/columns and their data type"
      ],
      "metadata": {
        "id": "5_yTjSY_AO1m"
      },
      "id": "5_yTjSY_AO1m"
    },
    {
      "cell_type": "code",
      "source": [
        "db.dtypes"
      ],
      "metadata": {
        "id": "WzXiV-kds7YO",
        "outputId": "7a6b6f41-345e-4621-dfd5-c45cf41a8521",
        "colab": {
          "base_uri": "https://localhost:8080/"
        }
      },
      "id": "WzXiV-kds7YO",
      "execution_count": 63,
      "outputs": [
        {
          "output_type": "execute_result",
          "data": {
            "text/plain": [
              "Bearer Id                                   float64\n",
              "Start                                        object\n",
              "Start ms                                    float64\n",
              "End                                          object\n",
              "End ms                                      float64\n",
              "Dur. (ms)                                   float64\n",
              "IMSI                                        float64\n",
              "MSISDN/Number                               float64\n",
              "IMEI                                        float64\n",
              "Last Location Name                           object\n",
              "Avg RTT DL (ms)                             float64\n",
              "Avg RTT UL (ms)                             float64\n",
              "Avg Bearer TP DL (kbps)                     float64\n",
              "Avg Bearer TP UL (kbps)                     float64\n",
              "TCP DL Retrans. Vol (Bytes)                 float64\n",
              "TCP UL Retrans. Vol (Bytes)                 float64\n",
              "DL TP < 50 Kbps (%)                         float64\n",
              "50 Kbps < DL TP < 250 Kbps (%)              float64\n",
              "250 Kbps < DL TP < 1 Mbps (%)               float64\n",
              "DL TP > 1 Mbps (%)                          float64\n",
              "UL TP < 10 Kbps (%)                         float64\n",
              "10 Kbps < UL TP < 50 Kbps (%)               float64\n",
              "50 Kbps < UL TP < 300 Kbps (%)              float64\n",
              "UL TP > 300 Kbps (%)                        float64\n",
              "HTTP DL (Bytes)                             float64\n",
              "HTTP UL (Bytes)                             float64\n",
              "Activity Duration DL (ms)                   float64\n",
              "Activity Duration UL (ms)                   float64\n",
              "Dur. (ms).1                                 float64\n",
              "Handset Manufacturer                         object\n",
              "Handset Type                                 object\n",
              "Nb of sec with 125000B < Vol DL             float64\n",
              "Nb of sec with 1250B < Vol UL < 6250B       float64\n",
              "Nb of sec with 31250B < Vol DL < 125000B    float64\n",
              "Nb of sec with 37500B < Vol UL              float64\n",
              "Nb of sec with 6250B < Vol DL < 31250B      float64\n",
              "Nb of sec with 6250B < Vol UL < 37500B      float64\n",
              "Nb of sec with Vol DL < 6250B               float64\n",
              "Nb of sec with Vol UL < 1250B               float64\n",
              "Social Media DL (Bytes)                     float64\n",
              "Social Media UL (Bytes)                     float64\n",
              "Google DL (Bytes)                           float64\n",
              "Google UL (Bytes)                           float64\n",
              "Email DL (Bytes)                            float64\n",
              "Email UL (Bytes)                            float64\n",
              "Youtube DL (Bytes)                          float64\n",
              "Youtube UL (Bytes)                          float64\n",
              "Netflix DL (Bytes)                          float64\n",
              "Netflix UL (Bytes)                          float64\n",
              "Gaming DL (Bytes)                           float64\n",
              "Gaming UL (Bytes)                           float64\n",
              "Other DL (Bytes)                            float64\n",
              "Other UL (Bytes)                            float64\n",
              "Total UL (Bytes)                            float64\n",
              "Total DL (Bytes)                            float64\n",
              "dtype: object"
            ]
          },
          "metadata": {},
          "execution_count": 63
        }
      ]
    },
    {
      "cell_type": "markdown",
      "id": "2f58547a",
      "metadata": {
        "id": "2f58547a"
      },
      "source": [
        "##Missing values percentile"
      ]
    },
    {
      "cell_type": "code",
      "execution_count": 64,
      "id": "67977677",
      "metadata": {
        "colab": {
          "base_uri": "https://localhost:8080/"
        },
        "id": "67977677",
        "outputId": "b7342015-2f2d-4932-bd56-3ca1e7363e90"
      },
      "outputs": [
        {
          "output_type": "stream",
          "name": "stdout",
          "text": [
            "The dataset contains 12.72 % missing values.\n"
          ]
        }
      ],
      "source": [
        "# how many missing values exist or better still what is the % of missing values in the dataset?\n",
        "def percent_missing(df):\n",
        "\n",
        "    # Calculate total number of cells in dataframe\n",
        "    totalCells = np.product(df.shape)\n",
        "\n",
        "    # Count number of missing values per column\n",
        "    missingCount = df.isnull().sum()\n",
        "\n",
        "    # Calculate total number of missing values\n",
        "    totalMissing = missingCount.sum()\n",
        "\n",
        "    # Calculate percentage of missing values\n",
        "    print(\"The dataset contains\", round(((totalMissing/totalCells) * 100), 3), \"%\", \"missing values.\")\n",
        "\n",
        "percent_missing(db)"
      ]
    },
    {
      "cell_type": "markdown",
      "source": [
        "### Columns with missing values count\n",
        "\n",
        "The Column \"Nb of sec with 37500B < Vol UL\" has maximum missing values of 130254 occurances"
      ],
      "metadata": {
        "id": "DCLGcOnkAzN8"
      },
      "id": "DCLGcOnkAzN8"
    },
    {
      "cell_type": "code",
      "execution_count": 65,
      "id": "33dae472",
      "metadata": {
        "scrolled": true,
        "id": "33dae472",
        "outputId": "cdf01920-54d6-49d7-e0b0-36f6ec3a4755",
        "colab": {
          "base_uri": "https://localhost:8080/"
        }
      },
      "outputs": [
        {
          "output_type": "execute_result",
          "data": {
            "text/plain": [
              "Bearer Id                                      991\n",
              "Start                                            1\n",
              "Start ms                                         1\n",
              "End                                              1\n",
              "End ms                                           1\n",
              "Dur. (ms)                                        1\n",
              "IMSI                                           570\n",
              "MSISDN/Number                                 1066\n",
              "IMEI                                           572\n",
              "Last Location Name                            1153\n",
              "Avg RTT DL (ms)                              27829\n",
              "Avg RTT UL (ms)                              27812\n",
              "Avg Bearer TP DL (kbps)                          1\n",
              "Avg Bearer TP UL (kbps)                          1\n",
              "TCP DL Retrans. Vol (Bytes)                  88146\n",
              "TCP UL Retrans. Vol (Bytes)                  96649\n",
              "DL TP < 50 Kbps (%)                            754\n",
              "50 Kbps < DL TP < 250 Kbps (%)                 754\n",
              "250 Kbps < DL TP < 1 Mbps (%)                  754\n",
              "DL TP > 1 Mbps (%)                             754\n",
              "UL TP < 10 Kbps (%)                            792\n",
              "10 Kbps < UL TP < 50 Kbps (%)                  792\n",
              "50 Kbps < UL TP < 300 Kbps (%)                 792\n",
              "UL TP > 300 Kbps (%)                           792\n",
              "HTTP DL (Bytes)                              81474\n",
              "HTTP UL (Bytes)                              81810\n",
              "Activity Duration DL (ms)                        1\n",
              "Activity Duration UL (ms)                        1\n",
              "Dur. (ms).1                                      1\n",
              "Handset Manufacturer                          9559\n",
              "Handset Type                                  9559\n",
              "Nb of sec with 125000B < Vol DL              97538\n",
              "Nb of sec with 1250B < Vol UL < 6250B        92894\n",
              "Nb of sec with 31250B < Vol DL < 125000B     93586\n",
              "Nb of sec with 37500B < Vol UL              130254\n",
              "Nb of sec with 6250B < Vol DL < 31250B       88317\n",
              "Nb of sec with 6250B < Vol UL < 37500B      111843\n",
              "Nb of sec with Vol DL < 6250B                  755\n",
              "Nb of sec with Vol UL < 1250B                  793\n",
              "Social Media DL (Bytes)                          0\n",
              "Social Media UL (Bytes)                          0\n",
              "Google DL (Bytes)                                0\n",
              "Google UL (Bytes)                                0\n",
              "Email DL (Bytes)                                 0\n",
              "Email UL (Bytes)                                 0\n",
              "Youtube DL (Bytes)                               0\n",
              "Youtube UL (Bytes)                               0\n",
              "Netflix DL (Bytes)                               0\n",
              "Netflix UL (Bytes)                               0\n",
              "Gaming DL (Bytes)                                0\n",
              "Gaming UL (Bytes)                                0\n",
              "Other DL (Bytes)                                 0\n",
              "Other UL (Bytes)                                 0\n",
              "Total UL (Bytes)                                 1\n",
              "Total DL (Bytes)                                 1\n",
              "dtype: int64"
            ]
          },
          "metadata": {},
          "execution_count": 65
        }
      ],
      "source": [
        "db.isna().sum() # missing values of each column"
      ]
    },
    {
      "cell_type": "code",
      "source": [
        "print (\"Maximum missing values per column: \", np.max(db.isna().sum())) # print(db.isna().sum().max())"
      ],
      "metadata": {
        "colab": {
          "base_uri": "https://localhost:8080/"
        },
        "id": "6LGr9zaXBZqP",
        "outputId": "6c473959-93f8-4ea8-fcb3-21ee3cefabff"
      },
      "id": "6LGr9zaXBZqP",
      "execution_count": 66,
      "outputs": [
        {
          "output_type": "stream",
          "name": "stdout",
          "text": [
            "Maximum missing values per column:  130254\n"
          ]
        }
      ]
    },
    {
      "cell_type": "markdown",
      "source": [
        "### Maximum values of each column"
      ],
      "metadata": {
        "id": "giNwKOiXHYrn"
      },
      "id": "giNwKOiXHYrn"
    },
    {
      "cell_type": "code",
      "source": [
        "db.max()"
      ],
      "metadata": {
        "colab": {
          "base_uri": "https://localhost:8080/"
        },
        "id": "rZK9rbcSGPRW",
        "outputId": "6db744f0-b3f7-4054-894e-512bc9c868e4"
      },
      "id": "rZK9rbcSGPRW",
      "execution_count": 67,
      "outputs": [
        {
          "output_type": "execute_result",
          "data": {
            "text/plain": [
              "Bearer Id                                   1.318654e+19\n",
              "Start ms                                    9.990000e+02\n",
              "End ms                                      9.990000e+02\n",
              "Dur. (ms)                                   1.859336e+06\n",
              "IMSI                                        2.140743e+14\n",
              "MSISDN/Number                               8.823971e+14\n",
              "IMEI                                        9.900120e+13\n",
              "Avg RTT DL (ms)                             9.692300e+04\n",
              "Avg RTT UL (ms)                             7.120000e+03\n",
              "Avg Bearer TP DL (kbps)                     3.781600e+05\n",
              "Avg Bearer TP UL (kbps)                     5.861300e+04\n",
              "TCP DL Retrans. Vol (Bytes)                 4.294426e+09\n",
              "TCP UL Retrans. Vol (Bytes)                 2.908226e+09\n",
              "DL TP < 50 Kbps (%)                         1.000000e+02\n",
              "50 Kbps < DL TP < 250 Kbps (%)              9.300000e+01\n",
              "250 Kbps < DL TP < 1 Mbps (%)               1.000000e+02\n",
              "DL TP > 1 Mbps (%)                          9.400000e+01\n",
              "UL TP < 10 Kbps (%)                         1.000000e+02\n",
              "10 Kbps < UL TP < 50 Kbps (%)               9.800000e+01\n",
              "50 Kbps < UL TP < 300 Kbps (%)              1.000000e+02\n",
              "UL TP > 300 Kbps (%)                        9.600000e+01\n",
              "HTTP DL (Bytes)                             7.253064e+10\n",
              "HTTP UL (Bytes)                             1.491890e+09\n",
              "Activity Duration DL (ms)                   1.365365e+08\n",
              "Activity Duration UL (ms)                   1.449113e+08\n",
              "Dur. (ms).1                                 1.859336e+09\n",
              "Nb of sec with 125000B < Vol DL             8.147600e+04\n",
              "Nb of sec with 1250B < Vol UL < 6250B       8.541200e+04\n",
              "Nb of sec with 31250B < Vol DL < 125000B    5.852500e+04\n",
              "Nb of sec with 37500B < Vol UL              5.055300e+04\n",
              "Nb of sec with 6250B < Vol DL < 31250B      6.691300e+04\n",
              "Nb of sec with 6250B < Vol UL < 37500B      4.956500e+04\n",
              "Nb of sec with Vol DL < 6250B               6.040610e+05\n",
              "Nb of sec with Vol UL < 1250B               6.041220e+05\n",
              "Social Media DL (Bytes)                     3.586064e+06\n",
              "Social Media UL (Bytes)                     6.587000e+04\n",
              "Google DL (Bytes)                           1.146283e+07\n",
              "Google UL (Bytes)                           4.121357e+06\n",
              "Email DL (Bytes)                            3.586146e+06\n",
              "Email UL (Bytes)                            9.364180e+05\n",
              "Youtube DL (Bytes)                          2.325910e+07\n",
              "Youtube UL (Bytes)                          2.201196e+07\n",
              "Netflix DL (Bytes)                          2.325919e+07\n",
              "Netflix UL (Bytes)                          2.201196e+07\n",
              "Gaming DL (Bytes)                           8.434419e+08\n",
              "Gaming UL (Bytes)                           1.655879e+07\n",
              "Other DL (Bytes)                            8.434425e+08\n",
              "Other UL (Bytes)                            1.655882e+07\n",
              "Total UL (Bytes)                            7.833131e+07\n",
              "Total DL (Bytes)                            9.029696e+08\n",
              "dtype: float64"
            ]
          },
          "metadata": {},
          "execution_count": 67
        }
      ]
    },
    {
      "cell_type": "markdown",
      "source": [
        "### Top 10 Handsets used"
      ],
      "metadata": {
        "id": "U121nP_ZVHpi"
      },
      "id": "U121nP_ZVHpi"
    },
    {
      "cell_type": "code",
      "source": [
        "db_hndset_count = db['Handset Type'].value_counts()\n",
        "top_10_hndsets = db_hndset_count.head(10)\n",
        "print(\"Most used handset types in Descending order:\\n\", db_hndset_count)\n",
        "print(\"\\n\\nTop 10 handsets used: \\n\", top_10_hndsets)"
      ],
      "metadata": {
        "colab": {
          "base_uri": "https://localhost:8080/"
        },
        "id": "0H2elwfdHwye",
        "outputId": "c6b18af1-c02d-40a1-b1c1-cd317ec969b9"
      },
      "id": "0H2elwfdHwye",
      "execution_count": 68,
      "outputs": [
        {
          "output_type": "stream",
          "name": "stdout",
          "text": [
            "Most used handset types in Descending order:\n",
            " Huawei B528S-23A                                           19752\n",
            "Apple iPhone 6S (A1688)                                     9419\n",
            "Apple iPhone 6 (A1586)                                      9023\n",
            "Apple iPhone 7 (A1778)                                      6326\n",
            "Apple iPhone Se (A1723)                                     5187\n",
            "                                                           ...  \n",
            "Tct Mobile Suzho. Alcatel One Touch Y580D                      1\n",
            "Shenzhen Fortune. M-Ppas6                                      1\n",
            "Wiko Global Sasu Wiko Ridge 4G                                 1\n",
            "Hongkong Ipro Te. Ipro I9350 I9400 S3 Wave 3.5 Wave 4.0        1\n",
            "Shenzhen Jeko Co. Blackview Bv5800 Pro                         1\n",
            "Name: Handset Type, Length: 1395, dtype: int64\n",
            "\n",
            "\n",
            "Top 10 handsets used: \n",
            " Huawei B528S-23A                19752\n",
            "Apple iPhone 6S (A1688)          9419\n",
            "Apple iPhone 6 (A1586)           9023\n",
            "Apple iPhone 7 (A1778)           6326\n",
            "Apple iPhone Se (A1723)          5187\n",
            "Apple iPhone 8 (A1905)           4993\n",
            "Apple iPhone Xr (A2105)          4568\n",
            "Samsung Galaxy S8 (Sm-G950F)     4520\n",
            "Apple iPhone X (A1901)           3813\n",
            "Samsung Galaxy A5 Sm-A520F       3724\n",
            "Name: Handset Type, dtype: int64\n"
          ]
        }
      ]
    },
    {
      "cell_type": "markdown",
      "source": [
        "### Top 3 handset manufacturers"
      ],
      "metadata": {
        "id": "c-K8AOj3VOaM"
      },
      "id": "c-K8AOj3VOaM"
    },
    {
      "cell_type": "code",
      "source": [
        "db_hndset_manufac_count = db['Handset Manufacturer'].value_counts()\n",
        "top_3_manufact = db_hndset_manufac_count.head(3)\n",
        "print(\"Dominant manufacturers in descending order:\\n\", db_hndset_manufac_count)\n",
        "print(\"\\n\\nTop 3 manufacturers: \\n\", top_3_manufact)"
      ],
      "metadata": {
        "colab": {
          "base_uri": "https://localhost:8080/"
        },
        "id": "2ETLDPfxVVWP",
        "outputId": "12a2f9e5-ff41-4bc2-afc6-265dae67229f"
      },
      "id": "2ETLDPfxVVWP",
      "execution_count": 69,
      "outputs": [
        {
          "output_type": "stream",
          "name": "stdout",
          "text": [
            "Dominant manufacturers in descending order:\n",
            " Apple                               59565\n",
            "Samsung                             40839\n",
            "Huawei                              34423\n",
            "Sony Mobile Communications Ab         980\n",
            "Wiko Global Sasu                      747\n",
            "                                    ...  \n",
            "Pt. Arga Mas Lestari                    1\n",
            "Doke Communication (Hk) Limited         1\n",
            "Vastking Technology (Hk) Limited        1\n",
            "Mobiwire Sas                            1\n",
            "Shenzhen Gaoxinqi                       1\n",
            "Name: Handset Manufacturer, Length: 169, dtype: int64\n",
            "\n",
            "\n",
            "Top 3 manufacturers: \n",
            " Apple      59565\n",
            "Samsung    40839\n",
            "Huawei     34423\n",
            "Name: Handset Manufacturer, dtype: int64\n"
          ]
        }
      ]
    },
    {
      "cell_type": "markdown",
      "source": [
        "### Manufacturer-Handset pairs"
      ],
      "metadata": {
        "id": "dPOkS4FmcRcJ"
      },
      "id": "dPOkS4FmcRcJ"
    },
    {
      "cell_type": "code",
      "source": [
        "db_hndset_manufac_pair = db.value_counts([\"Handset Manufacturer\", \"Handset Type\"])\n",
        "top_3_manufact_5_hndset = db_hndset_manufac_pair.head(3)\n",
        "print(\"Manufacturers-handset pair:\\n\", top_3_manufact_5_hndset)\n",
        "# print(\"\\n\\nTop 3 manufacturers: \\n\", top_3_manufact)\n",
        "# db_manufac_hndset = db.groupby(\"Handset Manufacturer\", \"Handset Type\")"
      ],
      "metadata": {
        "colab": {
          "base_uri": "https://localhost:8080/"
        },
        "id": "4MidPe74X2l2",
        "outputId": "9a056925-0afd-4e74-d74d-3e06e61bc7d3"
      },
      "id": "4MidPe74X2l2",
      "execution_count": 70,
      "outputs": [
        {
          "output_type": "stream",
          "name": "stdout",
          "text": [
            "Manufacturers-handset pair:\n",
            " Handset Manufacturer  Handset Type           \n",
            "Huawei                Huawei B528S-23A           19752\n",
            "Apple                 Apple iPhone 6S (A1688)     9419\n",
            "                      Apple iPhone 6 (A1586)      9023\n",
            "dtype: int64\n"
          ]
        }
      ]
    },
    {
      "cell_type": "markdown",
      "source": [
        ""
      ],
      "metadata": {
        "id": "kCknEPly-ESn"
      },
      "id": "kCknEPly-ESn"
    },
    {
      "cell_type": "markdown",
      "source": [
        "### Data Aggregation with each column"
      ],
      "metadata": {
        "id": "SrTo5Dqz-EXW"
      },
      "id": "SrTo5Dqz-EXW"
    },
    {
      "cell_type": "code",
      "source": [
        "db['Bearer Id'].value_counts() # Each BearerID occurances aggregated\n",
        "# db.value_counts('Bearer Id') also works"
      ],
      "metadata": {
        "colab": {
          "base_uri": "https://localhost:8080/"
        },
        "id": "Zq-jkyNed0hg",
        "outputId": "6bc68148-8aab-4cb8-81c5-79027bee4b96"
      },
      "id": "Zq-jkyNed0hg",
      "execution_count": 71,
      "outputs": [
        {
          "output_type": "execute_result",
          "data": {
            "text/plain": [
              "1.304243e+19    16\n",
              "1.304243e+19    10\n",
              "1.304243e+19     9\n",
              "1.304243e+19     9\n",
              "1.304243e+19     9\n",
              "                ..\n",
              "7.349883e+18     1\n",
              "7.349883e+18     1\n",
              "1.311448e+19     1\n",
              "7.349883e+18     1\n",
              "7.349883e+18     1\n",
              "Name: Bearer Id, Length: 134708, dtype: int64"
            ]
          },
          "metadata": {},
          "execution_count": 71
        }
      ]
    },
    {
      "cell_type": "markdown",
      "source": [
        "### User (IMEI) Grouped and Agregated with Bearer Id(xDR session)"
      ],
      "metadata": {
        "id": "5RCFersHkfpS"
      },
      "id": "5RCFersHkfpS"
    },
    {
      "cell_type": "code",
      "source": [
        "# db_user_xDR = db.groupby([\"IMEI\",\"Bearer Id\"]).agg(session_count = ('Bearer Id', 'value_counts')) # it also works\n",
        "db_user_xDR = db.groupby([\"IMEI\",\"Bearer Id\"]).size()\n",
        "db_user_xDR"
      ],
      "metadata": {
        "colab": {
          "base_uri": "https://localhost:8080/"
        },
        "id": "J_C6-j2ghRCB",
        "outputId": "55b97ed4-754c-4f5e-df22-4f2f971e00c8"
      },
      "id": "J_C6-j2ghRCB",
      "execution_count": 72,
      "outputs": [
        {
          "output_type": "execute_result",
          "data": {
            "text/plain": [
              "IMEI          Bearer Id   \n",
              "4.400152e+11  6.917538e+18    1\n",
              "4.402138e+11  6.917538e+18    1\n",
              "1.194901e+12  6.917538e+18    1\n",
              "1.198201e+12  6.917538e+18    1\n",
              "1.202601e+12  6.917538e+18    1\n",
              "                             ..\n",
              "9.900120e+13  7.277826e+18    1\n",
              "              1.311448e+19    1\n",
              "              1.304243e+19    1\n",
              "              7.349883e+18    1\n",
              "              1.304243e+19    1\n",
              "Length: 147517, dtype: int64"
            ]
          },
          "metadata": {},
          "execution_count": 72
        }
      ]
    },
    {
      "cell_type": "markdown",
      "source": [
        "### User(IMEI) Grouped and Aggregated with session duration"
      ],
      "metadata": {
        "id": "7bEI9z8mnQ0a"
      },
      "id": "7bEI9z8mnQ0a"
    },
    {
      "cell_type": "code",
      "source": [
        "# db_user_Duration = db.groupby([\"IMEI\",\"Dur. (ms)\"]).size()\n",
        "# db_user_Duration = pd.pivot_table(db, values = \"Dur. (ms)\",index=[\"IMEI\"],aggfunc=np.sum)\n",
        "db_user_Duration = db.groupby([\"IMEI\",\"Dur. (ms)\"]).size() #transform(sum)\n",
        "db_user_Duration"
      ],
      "metadata": {
        "colab": {
          "base_uri": "https://localhost:8080/"
        },
        "id": "P941MAz-nP2i",
        "outputId": "60d6e2a2-5728-43e6-cf50-4bb0ba2d5cb5"
      },
      "id": "P941MAz-nP2i",
      "execution_count": 73,
      "outputs": [
        {
          "output_type": "execute_result",
          "data": {
            "text/plain": [
              "IMEI          Dur. (ms)\n",
              "4.400152e+11  74399.0      1\n",
              "4.402138e+11  86399.0      1\n",
              "1.194901e+12  87799.0      1\n",
              "1.198201e+12  56344.0      1\n",
              "1.202601e+12  18004.0      1\n",
              "                          ..\n",
              "9.900120e+13  17217.0      1\n",
              "              84563.0      1\n",
              "              9321.0       1\n",
              "              100874.0     1\n",
              "              32614.0      1\n",
              "Length: 141917, dtype: int64"
            ]
          },
          "metadata": {},
          "execution_count": 73
        }
      ]
    },
    {
      "cell_type": "markdown",
      "source": [
        "### User(IMEI) and Total UL(Upload) Grouped and Aggregated"
      ],
      "metadata": {
        "id": "Y9KmONNCvvrk"
      },
      "id": "Y9KmONNCvvrk"
    },
    {
      "cell_type": "code",
      "source": [
        "db_user_UL_data = db.groupby([\"IMEI\",\"Total UL (Bytes)\"]).size()\n",
        "db_user_UL_data"
      ],
      "metadata": {
        "colab": {
          "base_uri": "https://localhost:8080/"
        },
        "id": "pu9uuB5Tv51B",
        "outputId": "9256ee71-6a3b-434b-898f-dadc4a773944"
      },
      "id": "pu9uuB5Tv51B",
      "execution_count": 74,
      "outputs": [
        {
          "output_type": "execute_result",
          "data": {
            "text/plain": [
              "IMEI          Total UL (Bytes)\n",
              "4.400152e+11  39425114.0          1\n",
              "4.402138e+11  24856321.0          1\n",
              "1.194901e+12  44409558.0          1\n",
              "1.198201e+12  54841047.0          1\n",
              "1.202601e+12  38070613.0          1\n",
              "                                 ..\n",
              "9.900120e+13  27515078.0          1\n",
              "              52510613.0          1\n",
              "              60705879.0          1\n",
              "              62463092.0          1\n",
              "              47523160.0          1\n",
              "Length: 149429, dtype: int64"
            ]
          },
          "metadata": {},
          "execution_count": 74
        }
      ]
    },
    {
      "cell_type": "markdown",
      "source": [
        "### User(IMEI) and total download(DL) grouped and aggregated"
      ],
      "metadata": {
        "id": "z-3dxxdfwziK"
      },
      "id": "z-3dxxdfwziK"
    },
    {
      "cell_type": "code",
      "source": [
        "db_user_DL_data = db.groupby([\"IMEI\",\"Total DL (Bytes)\"]).size()\n",
        "db_user_DL_data"
      ],
      "metadata": {
        "colab": {
          "base_uri": "https://localhost:8080/"
        },
        "id": "Fda129YfxAwR",
        "outputId": "fb17ca4f-28c4-48a3-9cda-f09a22cfa234"
      },
      "id": "Fda129YfxAwR",
      "execution_count": 75,
      "outputs": [
        {
          "output_type": "execute_result",
          "data": {
            "text/plain": [
              "IMEI          Total DL (Bytes)\n",
              "4.400152e+11  196385061.0         1\n",
              "4.402138e+11  133661264.0         1\n",
              "1.194901e+12  858892798.0         1\n",
              "1.198201e+12  791029122.0         1\n",
              "1.202601e+12  795829234.0         1\n",
              "                                 ..\n",
              "9.900120e+13  857848384.0         1\n",
              "              287049110.0         1\n",
              "              334422603.0         1\n",
              "              865582569.0         1\n",
              "              483796100.0         1\n",
              "Length: 149429, dtype: int64"
            ]
          },
          "metadata": {},
          "execution_count": 75
        }
      ]
    },
    {
      "cell_type": "markdown",
      "source": [
        "### Data Volume for Social Media DL (Bytes)"
      ],
      "metadata": {
        "id": "LtXeDKCizNra"
      },
      "id": "LtXeDKCizNra"
    },
    {
      "cell_type": "code",
      "source": [
        "db_user_DL_social_media = db.groupby([\"IMEI\",\"Social Media DL (Bytes)\"]).size()\n",
        "db_user_DL_social_media"
      ],
      "metadata": {
        "colab": {
          "base_uri": "https://localhost:8080/"
        },
        "id": "GwczfglzzMrE",
        "outputId": "fbcd4ad2-dccd-4c6a-8e99-74b71f29c024"
      },
      "id": "GwczfglzzMrE",
      "execution_count": 76,
      "outputs": [
        {
          "output_type": "execute_result",
          "data": {
            "text/plain": [
              "IMEI          Social Media DL (Bytes)\n",
              "4.400152e+11  2530606.0                  1\n",
              "4.402138e+11  1301037.0                  1\n",
              "1.194901e+12  3440702.0                  1\n",
              "1.198201e+12  2155310.0                  1\n",
              "1.202601e+12  356443.0                   1\n",
              "                                        ..\n",
              "9.900120e+13  2548908.0                  1\n",
              "              1823780.0                  1\n",
              "              1194056.0                  1\n",
              "              1523973.0                  1\n",
              "              3160354.0                  1\n",
              "Length: 149429, dtype: int64"
            ]
          },
          "metadata": {},
          "execution_count": 76
        }
      ]
    },
    {
      "cell_type": "markdown",
      "source": [
        "### Data volume for Social Media UL (Bytes)"
      ],
      "metadata": {
        "id": "0oYA_XGs0FGn"
      },
      "id": "0oYA_XGs0FGn"
    },
    {
      "cell_type": "code",
      "source": [
        "db_user_UL_social_media = db.groupby([\"IMEI\",\"Social Media UL (Bytes)\"]).size()\n",
        "db_user_UL_social_media"
      ],
      "metadata": {
        "colab": {
          "base_uri": "https://localhost:8080/"
        },
        "id": "XJKwpETi0N2X",
        "outputId": "ffb92883-f274-4b9c-bfe2-084a310b1164"
      },
      "id": "XJKwpETi0N2X",
      "execution_count": 77,
      "outputs": [
        {
          "output_type": "execute_result",
          "data": {
            "text/plain": [
              "IMEI          Social Media UL (Bytes)\n",
              "4.400152e+11  23968.0                    1\n",
              "4.402138e+11  10391.0                    1\n",
              "1.194901e+12  21582.0                    1\n",
              "1.198201e+12  47026.0                    1\n",
              "1.202601e+12  40729.0                    1\n",
              "                                        ..\n",
              "9.900120e+13  19423.0                    1\n",
              "              40173.0                    1\n",
              "              11484.0                    1\n",
              "              36687.0                    1\n",
              "              47571.0                    1\n",
              "Length: 149429, dtype: int64"
            ]
          },
          "metadata": {},
          "execution_count": 77
        }
      ]
    },
    {
      "cell_type": "markdown",
      "source": [
        "### Data volume for YouTube DL (Bytes)"
      ],
      "metadata": {
        "id": "GKnXSube0hO0"
      },
      "id": "GKnXSube0hO0"
    },
    {
      "cell_type": "code",
      "source": [
        "db_user_DL_Youtube = db.groupby([\"IMEI\",\"Youtube DL (Bytes)\"]).size()\n",
        "db_user_DL_Youtube"
      ],
      "metadata": {
        "colab": {
          "base_uri": "https://localhost:8080/"
        },
        "id": "xU2K89q313bI",
        "outputId": "cdd8e214-b43a-488b-9793-883236c668da"
      },
      "id": "xU2K89q313bI",
      "execution_count": 78,
      "outputs": [
        {
          "output_type": "execute_result",
          "data": {
            "text/plain": [
              "IMEI          Youtube DL (Bytes)\n",
              "4.400152e+11  17663991.0            1\n",
              "4.402138e+11  16138988.0            1\n",
              "1.194901e+12  11564842.0            1\n",
              "1.198201e+12  17902177.0            1\n",
              "1.202601e+12  14930167.0            1\n",
              "                                   ..\n",
              "9.900120e+13  23028070.0            1\n",
              "              7657831.0             1\n",
              "              7758118.0             1\n",
              "              21892427.0            1\n",
              "              11712040.0            1\n",
              "Length: 149429, dtype: int64"
            ]
          },
          "metadata": {},
          "execution_count": 78
        }
      ]
    },
    {
      "cell_type": "markdown",
      "source": [
        "### Data volume for YouTube UL (Bytes)"
      ],
      "metadata": {
        "id": "h7cIUkeO0mGP"
      },
      "id": "h7cIUkeO0mGP"
    },
    {
      "cell_type": "code",
      "source": [
        "db_user_UL_Youtube = db.groupby([\"IMEI\",\"Youtube UL (Bytes)\"]).size()\n",
        "db_user_UL_Youtube"
      ],
      "metadata": {
        "colab": {
          "base_uri": "https://localhost:8080/"
        },
        "id": "CE7w_Xu02er2",
        "outputId": "86228620-a836-4bc6-c8b9-f4f54be6f599"
      },
      "id": "CE7w_Xu02er2",
      "execution_count": 79,
      "outputs": [
        {
          "output_type": "execute_result",
          "data": {
            "text/plain": [
              "IMEI          Youtube UL (Bytes)\n",
              "4.400152e+11  10703865.0            1\n",
              "4.402138e+11  5122393.0             1\n",
              "1.194901e+12  12364791.0            1\n",
              "1.198201e+12  19542058.0            1\n",
              "1.202601e+12  5631939.0             1\n",
              "                                   ..\n",
              "9.900120e+13  3288163.0             1\n",
              "              16255095.0            1\n",
              "              18200855.0            1\n",
              "              20132095.0            1\n",
              "              17491066.0            1\n",
              "Length: 149429, dtype: int64"
            ]
          },
          "metadata": {},
          "execution_count": 79
        }
      ]
    },
    {
      "cell_type": "markdown",
      "source": [
        "### Data volume for Netflix DL (Bytes)"
      ],
      "metadata": {
        "id": "H7AuqlsB03i1"
      },
      "id": "H7AuqlsB03i1"
    },
    {
      "cell_type": "code",
      "source": [
        "db_user_DL_Netflix = db.groupby([\"IMEI\",\"Netflix DL (Bytes)\"]).size()\n",
        "db_user_DL_Netflix"
      ],
      "metadata": {
        "colab": {
          "base_uri": "https://localhost:8080/"
        },
        "id": "MpLLrcHA2trj",
        "outputId": "5e33a1f4-0317-4897-f180-eb7a6bedbcec"
      },
      "id": "MpLLrcHA2trj",
      "execution_count": 80,
      "outputs": [
        {
          "output_type": "execute_result",
          "data": {
            "text/plain": [
              "IMEI          Netflix DL (Bytes)\n",
              "4.400152e+11  6289240.0             1\n",
              "4.402138e+11  18158139.0            1\n",
              "1.194901e+12  6415185.0             1\n",
              "1.198201e+12  21142414.0            1\n",
              "1.202601e+12  3775834.0             1\n",
              "                                   ..\n",
              "9.900120e+13  12108876.0            1\n",
              "              13351462.0            1\n",
              "              568035.0              1\n",
              "              17069544.0            1\n",
              "              6866986.0             1\n",
              "Length: 149429, dtype: int64"
            ]
          },
          "metadata": {},
          "execution_count": 80
        }
      ]
    },
    {
      "cell_type": "markdown",
      "source": [
        "### Data volume for Netflix UL (Bytes)"
      ],
      "metadata": {
        "id": "yKEYyvoH08l4"
      },
      "id": "yKEYyvoH08l4"
    },
    {
      "cell_type": "code",
      "source": [
        "db_user_UL_Netflix = db.groupby([\"IMEI\",\"Netflix UL (Bytes)\"]).size()\n",
        "db_user_UL_Netflix"
      ],
      "metadata": {
        "colab": {
          "base_uri": "https://localhost:8080/"
        },
        "id": "Xm4eOpAK2yaq",
        "outputId": "ade184e2-2f56-4c31-c005-3625f6f8bc2e"
      },
      "id": "Xm4eOpAK2yaq",
      "execution_count": 81,
      "outputs": [
        {
          "output_type": "execute_result",
          "data": {
            "text/plain": [
              "IMEI          Netflix UL (Bytes)\n",
              "4.400152e+11  16570359.0            1\n",
              "4.402138e+11  3929179.0             1\n",
              "1.194901e+12  7003752.0             1\n",
              "1.198201e+12  6731353.0             1\n",
              "1.202601e+12  16166734.0            1\n",
              "                                   ..\n",
              "9.900120e+13  7786350.0             1\n",
              "              20540669.0            1\n",
              "              18503538.0            1\n",
              "              10935676.0            1\n",
              "              15478761.0            1\n",
              "Length: 149429, dtype: int64"
            ]
          },
          "metadata": {},
          "execution_count": 81
        }
      ]
    },
    {
      "cell_type": "markdown",
      "source": [
        "### Data volume for Google DL (Bytes)"
      ],
      "metadata": {
        "id": "sV-j80Wl1AwR"
      },
      "id": "sV-j80Wl1AwR"
    },
    {
      "cell_type": "code",
      "source": [
        "db_user_DL_Google = db.groupby([\"IMEI\",\"Google DL (Bytes)\"]).size()\n",
        "db_user_DL_Google"
      ],
      "metadata": {
        "colab": {
          "base_uri": "https://localhost:8080/"
        },
        "id": "g7hJE8_72zz5",
        "outputId": "fa6c8a5b-f261-4b34-f277-01a240825af7"
      },
      "id": "g7hJE8_72zz5",
      "execution_count": 82,
      "outputs": [
        {
          "output_type": "execute_result",
          "data": {
            "text/plain": [
              "IMEI          Google DL (Bytes)\n",
              "4.400152e+11  9125569.0            1\n",
              "4.402138e+11  8520422.0            1\n",
              "1.194901e+12  8410141.0            1\n",
              "1.198201e+12  5157701.0            1\n",
              "1.202601e+12  5895854.0            1\n",
              "                                  ..\n",
              "9.900120e+13  6692349.0            1\n",
              "              10320330.0           1\n",
              "              8423513.0            1\n",
              "              7989805.0            1\n",
              "              2273925.0            1\n",
              "Length: 149429, dtype: int64"
            ]
          },
          "metadata": {},
          "execution_count": 82
        }
      ]
    },
    {
      "cell_type": "markdown",
      "source": [
        "### Data volume for Google UL (Bytes)"
      ],
      "metadata": {
        "id": "Vrzk5muO1HZo"
      },
      "id": "Vrzk5muO1HZo"
    },
    {
      "cell_type": "code",
      "source": [
        "db_user_UL_Google = db.groupby([\"IMEI\",\"Google UL (Bytes)\"]).size()\n",
        "db_user_UL_Google"
      ],
      "metadata": {
        "colab": {
          "base_uri": "https://localhost:8080/"
        },
        "id": "vDIf71GF20_w",
        "outputId": "34355979-7cf1-45bb-c543-2fc4e55ccc36"
      },
      "id": "vDIf71GF20_w",
      "execution_count": 83,
      "outputs": [
        {
          "output_type": "execute_result",
          "data": {
            "text/plain": [
              "IMEI          Google UL (Bytes)\n",
              "4.400152e+11  3608143.0            1\n",
              "4.402138e+11  1514991.0            1\n",
              "1.194901e+12  1073199.0            1\n",
              "1.198201e+12  1790556.0            1\n",
              "1.202601e+12  1209943.0            1\n",
              "                                  ..\n",
              "9.900120e+13  1614004.0            1\n",
              "              3955033.0            1\n",
              "              224804.0             1\n",
              "              3664900.0            1\n",
              "              692421.0             1\n",
              "Length: 149429, dtype: int64"
            ]
          },
          "metadata": {},
          "execution_count": 83
        }
      ]
    },
    {
      "cell_type": "markdown",
      "source": [
        "### Data volume for Email DL (Bytes)"
      ],
      "metadata": {
        "id": "MP35Uhc61NNt"
      },
      "id": "MP35Uhc61NNt"
    },
    {
      "cell_type": "code",
      "source": [
        "db_user_DL_Email = db.groupby([\"IMEI\",\"Email DL (Bytes)\"]).size()\n",
        "db_user_DL_Email"
      ],
      "metadata": {
        "colab": {
          "base_uri": "https://localhost:8080/"
        },
        "id": "l7p0k80a22gz",
        "outputId": "e2c8f8f1-cc76-4da4-f709-24115054ad21"
      },
      "id": "l7p0k80a22gz",
      "execution_count": 84,
      "outputs": [
        {
          "output_type": "execute_result",
          "data": {
            "text/plain": [
              "IMEI          Email DL (Bytes)\n",
              "4.400152e+11  989198.0            1\n",
              "4.402138e+11  2585927.0           1\n",
              "1.194901e+12  1483785.0           1\n",
              "1.198201e+12  1641265.0           1\n",
              "1.202601e+12  413901.0            1\n",
              "                                 ..\n",
              "9.900120e+13  3072288.0           1\n",
              "              855847.0            1\n",
              "              2540187.0           1\n",
              "              3518168.0           1\n",
              "              1412808.0           1\n",
              "Length: 149429, dtype: int64"
            ]
          },
          "metadata": {},
          "execution_count": 84
        }
      ]
    },
    {
      "cell_type": "markdown",
      "source": [
        "### Data volume for Email UL (Bytes)"
      ],
      "metadata": {
        "id": "tXriBPsK1Q_S"
      },
      "id": "tXriBPsK1Q_S"
    },
    {
      "cell_type": "code",
      "source": [
        "db_user_UL_Email = db.groupby([\"IMEI\",\"Email UL (Bytes)\"]).size()\n",
        "db_user_UL_Email"
      ],
      "metadata": {
        "colab": {
          "base_uri": "https://localhost:8080/"
        },
        "id": "9uZOZpw225A3",
        "outputId": "6b06b14c-bac7-4f45-87b1-c0f86e4e148c"
      },
      "id": "9uZOZpw225A3",
      "execution_count": 85,
      "outputs": [
        {
          "output_type": "execute_result",
          "data": {
            "text/plain": [
              "IMEI          Email UL (Bytes)\n",
              "4.400152e+11  144441.0            1\n",
              "4.402138e+11  688283.0            1\n",
              "1.194901e+12  580787.0            1\n",
              "1.198201e+12  17994.0             1\n",
              "1.202601e+12  422686.0            1\n",
              "                                 ..\n",
              "9.900120e+13  262886.0            1\n",
              "              407553.0            1\n",
              "              714363.0            1\n",
              "              332090.0            1\n",
              "              303858.0            1\n",
              "Length: 149429, dtype: int64"
            ]
          },
          "metadata": {},
          "execution_count": 85
        }
      ]
    },
    {
      "cell_type": "markdown",
      "source": [
        "### Data volume for Gaming DL (Bytes)"
      ],
      "metadata": {
        "id": "RLhFZOnF1ROV"
      },
      "id": "RLhFZOnF1ROV"
    },
    {
      "cell_type": "code",
      "source": [
        "db_user_DL_Gaming = db.groupby([\"IMEI\",\"Gaming DL (Bytes)\"]).size()\n",
        "db_user_DL_Gaming"
      ],
      "metadata": {
        "colab": {
          "base_uri": "https://localhost:8080/"
        },
        "id": "1Hiqbs8i2511",
        "outputId": "df358b16-53b5-4ddf-e997-bc94bd18044e"
      },
      "id": "1Hiqbs8i2511",
      "execution_count": 86,
      "outputs": [
        {
          "output_type": "execute_result",
          "data": {
            "text/plain": [
              "IMEI          Gaming DL (Bytes)\n",
              "4.400152e+11  159786457.0          1\n",
              "4.402138e+11  86956751.0           1\n",
              "1.194901e+12  827578143.0          1\n",
              "1.198201e+12  743030255.0          1\n",
              "1.202601e+12  770457035.0          1\n",
              "                                  ..\n",
              "9.900120e+13  810397893.0          1\n",
              "              253039860.0          1\n",
              "              313938694.0          1\n",
              "              813588652.0          1\n",
              "              458369987.0          1\n",
              "Length: 149429, dtype: int64"
            ]
          },
          "metadata": {},
          "execution_count": 86
        }
      ]
    },
    {
      "cell_type": "markdown",
      "source": [
        "### Data volume for Gaming UL (Bytes)"
      ],
      "metadata": {
        "id": "UWl0Ko391e-d"
      },
      "id": "UWl0Ko391e-d"
    },
    {
      "cell_type": "code",
      "source": [
        "db_user_UL_Gaming = db.groupby([\"IMEI\",\"Gaming UL (Bytes)\"]).size()\n",
        "db_user_UL_Gaming"
      ],
      "metadata": {
        "colab": {
          "base_uri": "https://localhost:8080/"
        },
        "id": "IV55-Shb26zV",
        "outputId": "4b5a89ec-8d62-4964-9545-43766744265e"
      },
      "id": "IV55-Shb26zV",
      "execution_count": 87,
      "outputs": [
        {
          "output_type": "execute_result",
          "data": {
            "text/plain": [
              "IMEI          Gaming UL (Bytes)\n",
              "4.400152e+11  1317702.0            1\n",
              "4.402138e+11  4188367.0            1\n",
              "1.194901e+12  11383285.0           1\n",
              "1.198201e+12  11575761.0           1\n",
              "1.202601e+12  3537598.0            1\n",
              "                                  ..\n",
              "9.900120e+13  8034861.0            1\n",
              "              5811282.0            1\n",
              "              14484574.0           1\n",
              "              15139625.0           1\n",
              "              8456271.0            1\n",
              "Length: 149429, dtype: int64"
            ]
          },
          "metadata": {},
          "execution_count": 87
        }
      ]
    },
    {
      "cell_type": "markdown",
      "source": [
        "### Data volume for Other DL"
      ],
      "metadata": {
        "id": "KkPaj8xd1fEe"
      },
      "id": "KkPaj8xd1fEe"
    },
    {
      "cell_type": "code",
      "source": [
        "db_user_DL_Other = db.groupby([\"IMEI\",\"Other DL (Bytes)\"]).size()\n",
        "db_user_DL_Other"
      ],
      "metadata": {
        "colab": {
          "base_uri": "https://localhost:8080/"
        },
        "id": "EbN46Hqp28Jk",
        "outputId": "197149c4-6431-4fb6-b247-f537fa491e4d"
      },
      "id": "EbN46Hqp28Jk",
      "execution_count": 88,
      "outputs": [
        {
          "output_type": "execute_result",
          "data": {
            "text/plain": [
              "IMEI          Other DL (Bytes)\n",
              "4.400152e+11  312057084.0         1\n",
              "4.402138e+11  510810737.0         1\n",
              "1.194901e+12  74601835.0          1\n",
              "1.198201e+12  805940256.0         1\n",
              "1.202601e+12  585417309.0         1\n",
              "                                 ..\n",
              "9.900120e+13  832539560.0         1\n",
              "              451146519.0         1\n",
              "              48646759.0          1\n",
              "              338473361.0         1\n",
              "              79836909.0          1\n",
              "Length: 149429, dtype: int64"
            ]
          },
          "metadata": {},
          "execution_count": 88
        }
      ]
    },
    {
      "cell_type": "markdown",
      "source": [
        "### Data Volume for Other UL"
      ],
      "metadata": {
        "id": "93E8L26b1fKV"
      },
      "id": "93E8L26b1fKV"
    },
    {
      "cell_type": "code",
      "source": [
        "db_user_UL_Other = db.groupby([\"IMEI\",\"Other UL (Bytes)\"]).size()\n",
        "db_user_UL_Other"
      ],
      "metadata": {
        "colab": {
          "base_uri": "https://localhost:8080/"
        },
        "id": "lrMYwRQ62-s6",
        "outputId": "c5f6fefe-b44e-4546-b152-e3001bb482d8"
      },
      "id": "lrMYwRQ62-s6",
      "execution_count": 89,
      "outputs": [
        {
          "output_type": "execute_result",
          "data": {
            "text/plain": [
              "IMEI          Other UL (Bytes)\n",
              "4.400152e+11  7056636.0           1\n",
              "4.402138e+11  9402717.0           1\n",
              "1.194901e+12  11982162.0          1\n",
              "1.198201e+12  15136299.0          1\n",
              "1.202601e+12  11060984.0          1\n",
              "                                 ..\n",
              "9.900120e+13  6509391.0           1\n",
              "              5500808.0           1\n",
              "              8566261.0           1\n",
              "              12222019.0          1\n",
              "              5053212.0           1\n",
              "Length: 149429, dtype: int64"
            ]
          },
          "metadata": {},
          "execution_count": 89
        }
      ]
    },
    {
      "cell_type": "markdown",
      "source": [
        "# Data Exploration"
      ],
      "metadata": {
        "id": "7kRXUvfAfeSz"
      },
      "id": "7kRXUvfAfeSz"
    },
    {
      "cell_type": "markdown",
      "id": "c83faeff",
      "metadata": {
        "id": "c83faeff"
      },
      "source": [
        "Use Mode method to fill the missing datapoints of all 'object' type features and Mean/Median methods for all numuric type features.\n",
        "*   use Median method for skewed(negative/positive) numeric feature and \n",
        "*   use MEAN/Median for non-skewd/symetrical numeric feature\n"
      ]
    },
    {
      "cell_type": "markdown",
      "source": [
        "### Method selection based on data skewness"
      ],
      "metadata": {
        "id": "2dIPGu_3AbDb"
      },
      "id": "2dIPGu_3AbDb"
    },
    {
      "cell_type": "code",
      "source": [
        "db.skew(axis=0)"
      ],
      "metadata": {
        "id": "tk6dinhg9MFg",
        "outputId": "c9a5b753-f317-4138-a217-1b80c7ee0a4b",
        "colab": {
          "base_uri": "https://localhost:8080/"
        }
      },
      "id": "tk6dinhg9MFg",
      "execution_count": 90,
      "outputs": [
        {
          "output_type": "execute_result",
          "data": {
            "text/plain": [
              "Bearer Id                                     0.026666\n",
              "Start ms                                      0.000968\n",
              "End ms                                       -0.001163\n",
              "Dur. (ms)                                     3.952609\n",
              "IMSI                                         41.045956\n",
              "MSISDN/Number                               332.155856\n",
              "IMEI                                          1.071470\n",
              "Avg RTT DL (ms)                              62.907828\n",
              "Avg RTT UL (ms)                              28.457415\n",
              "Avg Bearer TP DL (kbps)                       2.589437\n",
              "Avg Bearer TP UL (kbps)                       4.503413\n",
              "TCP DL Retrans. Vol (Bytes)                  15.951809\n",
              "TCP UL Retrans. Vol (Bytes)                  84.113393\n",
              "DL TP < 50 Kbps (%)                          -2.297803\n",
              "50 Kbps < DL TP < 250 Kbps (%)                3.271453\n",
              "250 Kbps < DL TP < 1 Mbps (%)                 4.566158\n",
              "DL TP > 1 Mbps (%)                            5.370351\n",
              "UL TP < 10 Kbps (%)                          -8.985016\n",
              "10 Kbps < UL TP < 50 Kbps (%)                10.943888\n",
              "50 Kbps < UL TP < 300 Kbps (%)               21.878495\n",
              "UL TP > 300 Kbps (%)                         36.174053\n",
              "HTTP DL (Bytes)                              38.944710\n",
              "HTTP UL (Bytes)                              32.474970\n",
              "Activity Duration DL (ms)                     5.872256\n",
              "Activity Duration UL (ms)                     7.382557\n",
              "Dur. (ms).1                                   3.952609\n",
              "Nb of sec with 125000B < Vol DL               6.592502\n",
              "Nb of sec with 1250B < Vol UL < 6250B        22.035745\n",
              "Nb of sec with 31250B < Vol DL < 125000B      6.610541\n",
              "Nb of sec with 37500B < Vol UL               21.560028\n",
              "Nb of sec with 6250B < Vol DL < 31250B        6.896050\n",
              "Nb of sec with 6250B < Vol UL < 37500B       19.642752\n",
              "Nb of sec with Vol DL < 6250B                 9.042166\n",
              "Nb of sec with Vol UL < 1250B                 7.495176\n",
              "Social Media DL (Bytes)                      -0.002136\n",
              "Social Media UL (Bytes)                      -0.000359\n",
              "Google DL (Bytes)                            -0.008092\n",
              "Google UL (Bytes)                             0.002216\n",
              "Email DL (Bytes)                             -0.002463\n",
              "Email UL (Bytes)                              0.007358\n",
              "Youtube DL (Bytes)                            0.000231\n",
              "Youtube UL (Bytes)                           -0.001142\n",
              "Netflix DL (Bytes)                           -0.002442\n",
              "Netflix UL (Bytes)                           -0.000113\n",
              "Gaming DL (Bytes)                            -0.003460\n",
              "Gaming UL (Bytes)                            -0.001840\n",
              "Other DL (Bytes)                              0.001400\n",
              "Other UL (Bytes)                              0.001392\n",
              "Total UL (Bytes)                             -0.002456\n",
              "Total DL (Bytes)                             -0.003153\n",
              "dtype: float64"
            ]
          },
          "metadata": {},
          "execution_count": 90
        }
      ]
    },
    {
      "cell_type": "markdown",
      "source": [
        "### Skewness visualization with histogram"
      ],
      "metadata": {
        "id": "aWt3hCKI8paZ"
      },
      "id": "aWt3hCKI8paZ"
    },
    {
      "cell_type": "code",
      "source": [
        "db['Total UL (Bytes)'].hist()"
      ],
      "metadata": {
        "colab": {
          "base_uri": "https://localhost:8080/",
          "height": 295
        },
        "id": "Mc-39xGk8ZHv",
        "outputId": "7e60c3f8-7ec3-4dc3-92d2-f928d4a14f85"
      },
      "id": "Mc-39xGk8ZHv",
      "execution_count": 91,
      "outputs": [
        {
          "output_type": "execute_result",
          "data": {
            "text/plain": [
              "<matplotlib.axes._subplots.AxesSubplot at 0x7f2939e38b10>"
            ]
          },
          "metadata": {},
          "execution_count": 91
        },
        {
          "output_type": "display_data",
          "data": {
            "text/plain": [
              "<Figure size 432x288 with 1 Axes>"
            ],
            "image/png": "[encoded data removed]"
          },
          "metadata": {
            "needs_background": "light"
          }
        }
      ]
    },
    {
      "cell_type": "code",
      "source": [
        "db['Total DL (Bytes)'].hist()"
      ],
      "metadata": {
        "colab": {
          "base_uri": "https://localhost:8080/",
          "height": 295
        },
        "id": "rAunCOq88uoS",
        "outputId": "108778c7-aa27-414f-8e85-3396c030f909"
      },
      "id": "rAunCOq88uoS",
      "execution_count": 92,
      "outputs": [
        {
          "output_type": "execute_result",
          "data": {
            "text/plain": [
              "<matplotlib.axes._subplots.AxesSubplot at 0x7f2939dd2650>"
            ]
          },
          "metadata": {},
          "execution_count": 92
        },
        {
          "output_type": "display_data",
          "data": {
            "text/plain": [
              "<Figure size 432x288 with 1 Axes>"
            ],
            "image/png": "[encoded data removed]"
          },
          "metadata": {
            "needs_background": "light"
          }
        }
      ]
    },
    {
      "cell_type": "code",
      "source": [
        "db['Total UL (Bytes)'].hist()"
      ],
      "metadata": {
        "colab": {
          "base_uri": "https://localhost:8080/",
          "height": 295
        },
        "id": "mkpDG9oG9GI4",
        "outputId": "fa35a960-d43b-43f0-93a4-1584a580bd65"
      },
      "id": "mkpDG9oG9GI4",
      "execution_count": 93,
      "outputs": [
        {
          "output_type": "execute_result",
          "data": {
            "text/plain": [
              "<matplotlib.axes._subplots.AxesSubplot at 0x7f2939d55ad0>"
            ]
          },
          "metadata": {},
          "execution_count": 93
        },
        {
          "output_type": "display_data",
          "data": {
            "text/plain": [
              "<Figure size 432x288 with 1 Axes>"
            ],
            "image/png": "[encoded data removed]"
          },
          "metadata": {
            "needs_background": "light"
          }
        }
      ]
    },
    {
      "cell_type": "markdown",
      "source": [
        "### Positively skewed parameter"
      ],
      "metadata": {
        "id": "YXVTAOvD9WZS"
      },
      "id": "YXVTAOvD9WZS"
    },
    {
      "cell_type": "code",
      "source": [
        "db['HTTP DL (Bytes)'].hist()"
      ],
      "metadata": {
        "colab": {
          "base_uri": "https://localhost:8080/",
          "height": 295
        },
        "id": "-sjQK6o49QuI",
        "outputId": "63754599-be96-46b8-dfc9-195fd835487b"
      },
      "id": "-sjQK6o49QuI",
      "execution_count": 94,
      "outputs": [
        {
          "output_type": "execute_result",
          "data": {
            "text/plain": [
              "<matplotlib.axes._subplots.AxesSubplot at 0x7f2939c71710>"
            ]
          },
          "metadata": {},
          "execution_count": 94
        },
        {
          "output_type": "display_data",
          "data": {
            "text/plain": [
              "<Figure size 432x288 with 1 Axes>"
            ],
            "image/png": "[encoded data removed]"
          },
          "metadata": {
            "needs_background": "light"
          }
        }
      ]
    },
    {
      "cell_type": "markdown",
      "source": [
        "### Negatively skewwed parameter\n"
      ],
      "metadata": {
        "id": "Cy6A_kTw9llO"
      },
      "id": "Cy6A_kTw9llO"
    },
    {
      "cell_type": "code",
      "source": [
        "db['UL TP < 10 Kbps (%)'].hist()"
      ],
      "metadata": {
        "colab": {
          "base_uri": "https://localhost:8080/",
          "height": 282
        },
        "id": "dShKar3X9poc",
        "outputId": "685c2ce1-4d4d-42b8-9436-c8ca81a4e479"
      },
      "id": "dShKar3X9poc",
      "execution_count": 95,
      "outputs": [
        {
          "output_type": "execute_result",
          "data": {
            "text/plain": [
              "<matplotlib.axes._subplots.AxesSubplot at 0x7f2939bf97d0>"
            ]
          },
          "metadata": {},
          "execution_count": 95
        },
        {
          "output_type": "display_data",
          "data": {
            "text/plain": [
              "<Figure size 432x288 with 1 Axes>"
            ],
            "image/png": "[encoded data removed]"
          },
          "metadata": {
            "needs_background": "light"
          }
        }
      ]
    },
    {
      "cell_type": "markdown",
      "id": "280fa475",
      "metadata": {
        "id": "280fa475"
      },
      "source": [
        "### Data with sum of missing values in each column - revisited"
      ]
    },
    {
      "cell_type": "code",
      "source": [
        "db.isna().sum()"
      ],
      "metadata": {
        "colab": {
          "base_uri": "https://localhost:8080/"
        },
        "id": "O4iOgqxy90W8",
        "outputId": "8320f010-0978-48d2-eb2c-82507f81ceca"
      },
      "id": "O4iOgqxy90W8",
      "execution_count": 96,
      "outputs": [
        {
          "output_type": "execute_result",
          "data": {
            "text/plain": [
              "Bearer Id                                      991\n",
              "Start                                            1\n",
              "Start ms                                         1\n",
              "End                                              1\n",
              "End ms                                           1\n",
              "Dur. (ms)                                        1\n",
              "IMSI                                           570\n",
              "MSISDN/Number                                 1066\n",
              "IMEI                                           572\n",
              "Last Location Name                            1153\n",
              "Avg RTT DL (ms)                              27829\n",
              "Avg RTT UL (ms)                              27812\n",
              "Avg Bearer TP DL (kbps)                          1\n",
              "Avg Bearer TP UL (kbps)                          1\n",
              "TCP DL Retrans. Vol (Bytes)                  88146\n",
              "TCP UL Retrans. Vol (Bytes)                  96649\n",
              "DL TP < 50 Kbps (%)                            754\n",
              "50 Kbps < DL TP < 250 Kbps (%)                 754\n",
              "250 Kbps < DL TP < 1 Mbps (%)                  754\n",
              "DL TP > 1 Mbps (%)                             754\n",
              "UL TP < 10 Kbps (%)                            792\n",
              "10 Kbps < UL TP < 50 Kbps (%)                  792\n",
              "50 Kbps < UL TP < 300 Kbps (%)                 792\n",
              "UL TP > 300 Kbps (%)                           792\n",
              "HTTP DL (Bytes)                              81474\n",
              "HTTP UL (Bytes)                              81810\n",
              "Activity Duration DL (ms)                        1\n",
              "Activity Duration UL (ms)                        1\n",
              "Dur. (ms).1                                      1\n",
              "Handset Manufacturer                          9559\n",
              "Handset Type                                  9559\n",
              "Nb of sec with 125000B < Vol DL              97538\n",
              "Nb of sec with 1250B < Vol UL < 6250B        92894\n",
              "Nb of sec with 31250B < Vol DL < 125000B     93586\n",
              "Nb of sec with 37500B < Vol UL              130254\n",
              "Nb of sec with 6250B < Vol DL < 31250B       88317\n",
              "Nb of sec with 6250B < Vol UL < 37500B      111843\n",
              "Nb of sec with Vol DL < 6250B                  755\n",
              "Nb of sec with Vol UL < 1250B                  793\n",
              "Social Media DL (Bytes)                          0\n",
              "Social Media UL (Bytes)                          0\n",
              "Google DL (Bytes)                                0\n",
              "Google UL (Bytes)                                0\n",
              "Email DL (Bytes)                                 0\n",
              "Email UL (Bytes)                                 0\n",
              "Youtube DL (Bytes)                               0\n",
              "Youtube UL (Bytes)                               0\n",
              "Netflix DL (Bytes)                               0\n",
              "Netflix UL (Bytes)                               0\n",
              "Gaming DL (Bytes)                                0\n",
              "Gaming UL (Bytes)                                0\n",
              "Other DL (Bytes)                                 0\n",
              "Other UL (Bytes)                                 0\n",
              "Total UL (Bytes)                                 1\n",
              "Total DL (Bytes)                                 1\n",
              "dtype: int64"
            ]
          },
          "metadata": {},
          "execution_count": 96
        }
      ]
    },
    {
      "cell_type": "markdown",
      "source": [
        "### Column data types - revisited"
      ],
      "metadata": {
        "id": "POfjys0CAn1h"
      },
      "id": "POfjys0CAn1h"
    },
    {
      "cell_type": "code",
      "source": [
        "db.dtypes"
      ],
      "metadata": {
        "colab": {
          "base_uri": "https://localhost:8080/"
        },
        "id": "w2paxz2WAw2P",
        "outputId": "d3c49554-e9c0-4d30-b8df-dfe114ce8019"
      },
      "id": "w2paxz2WAw2P",
      "execution_count": 97,
      "outputs": [
        {
          "output_type": "execute_result",
          "data": {
            "text/plain": [
              "Bearer Id                                   float64\n",
              "Start                                        object\n",
              "Start ms                                    float64\n",
              "End                                          object\n",
              "End ms                                      float64\n",
              "Dur. (ms)                                   float64\n",
              "IMSI                                        float64\n",
              "MSISDN/Number                               float64\n",
              "IMEI                                        float64\n",
              "Last Location Name                           object\n",
              "Avg RTT DL (ms)                             float64\n",
              "Avg RTT UL (ms)                             float64\n",
              "Avg Bearer TP DL (kbps)                     float64\n",
              "Avg Bearer TP UL (kbps)                     float64\n",
              "TCP DL Retrans. Vol (Bytes)                 float64\n",
              "TCP UL Retrans. Vol (Bytes)                 float64\n",
              "DL TP < 50 Kbps (%)                         float64\n",
              "50 Kbps < DL TP < 250 Kbps (%)              float64\n",
              "250 Kbps < DL TP < 1 Mbps (%)               float64\n",
              "DL TP > 1 Mbps (%)                          float64\n",
              "UL TP < 10 Kbps (%)                         float64\n",
              "10 Kbps < UL TP < 50 Kbps (%)               float64\n",
              "50 Kbps < UL TP < 300 Kbps (%)              float64\n",
              "UL TP > 300 Kbps (%)                        float64\n",
              "HTTP DL (Bytes)                             float64\n",
              "HTTP UL (Bytes)                             float64\n",
              "Activity Duration DL (ms)                   float64\n",
              "Activity Duration UL (ms)                   float64\n",
              "Dur. (ms).1                                 float64\n",
              "Handset Manufacturer                         object\n",
              "Handset Type                                 object\n",
              "Nb of sec with 125000B < Vol DL             float64\n",
              "Nb of sec with 1250B < Vol UL < 6250B       float64\n",
              "Nb of sec with 31250B < Vol DL < 125000B    float64\n",
              "Nb of sec with 37500B < Vol UL              float64\n",
              "Nb of sec with 6250B < Vol DL < 31250B      float64\n",
              "Nb of sec with 6250B < Vol UL < 37500B      float64\n",
              "Nb of sec with Vol DL < 6250B               float64\n",
              "Nb of sec with Vol UL < 1250B               float64\n",
              "Social Media DL (Bytes)                     float64\n",
              "Social Media UL (Bytes)                     float64\n",
              "Google DL (Bytes)                           float64\n",
              "Google UL (Bytes)                           float64\n",
              "Email DL (Bytes)                            float64\n",
              "Email UL (Bytes)                            float64\n",
              "Youtube DL (Bytes)                          float64\n",
              "Youtube UL (Bytes)                          float64\n",
              "Netflix DL (Bytes)                          float64\n",
              "Netflix UL (Bytes)                          float64\n",
              "Gaming DL (Bytes)                           float64\n",
              "Gaming UL (Bytes)                           float64\n",
              "Other DL (Bytes)                            float64\n",
              "Other UL (Bytes)                            float64\n",
              "Total UL (Bytes)                            float64\n",
              "Total DL (Bytes)                            float64\n",
              "dtype: object"
            ]
          },
          "metadata": {},
          "execution_count": 97
        }
      ]
    },
    {
      "cell_type": "markdown",
      "source": [
        "### Utility function to fill missing values\n",
        "* numeric missing values with mean method\n",
        "* object type missing values with mode method"
      ],
      "metadata": {
        "id": "vIe7AIhW7ngQ"
      },
      "id": "vIe7AIhW7ngQ"
    },
    {
      "cell_type": "code",
      "execution_count": 98,
      "id": "85f2e55b",
      "metadata": {
        "id": "85f2e55b"
      },
      "outputs": [],
      "source": [
        "# fill numeric columns with ffill and bfill\n",
        "\"\"\"\n",
        "df[col].fillna(method='ffill') and df[col].fillna(method='bfill') or \n",
        "df[col].ffill(axis = 0) and df[col].bfill(axis = 0) fills the missing values with the value before/after it\n",
        "\"\"\"\n",
        "# fill missing numeric values with mean and object type values with mode\n",
        "def fill_missing_values(df):\n",
        "  for column in df.columns:\n",
        "    if df[column].dtype == 'float64':\n",
        "      df[column] = df[column].fillna(df[column].mean())\n",
        "    elif df[column].dtypes == 'object':\n",
        "      df[column] = df[column].fillna(df[column].mode()[0])\n",
        "  return df\n"
      ]
    },
    {
      "cell_type": "markdown",
      "source": [
        "### Data with all missing values filled - zero null count\n",
        "\n"
      ],
      "metadata": {
        "id": "cIvi0YfE79_S"
      },
      "id": "cIvi0YfE79_S"
    },
    {
      "cell_type": "code",
      "source": [
        "fill_missing_values(db).isna().sum()"
      ],
      "metadata": {
        "colab": {
          "base_uri": "https://localhost:8080/"
        },
        "id": "UgcopQW26yID",
        "outputId": "c53e40da-77b8-4938-f5f2-07455ce10ce5"
      },
      "id": "UgcopQW26yID",
      "execution_count": 99,
      "outputs": [
        {
          "output_type": "execute_result",
          "data": {
            "text/plain": [
              "Bearer Id                                   0\n",
              "Start                                       0\n",
              "Start ms                                    0\n",
              "End                                         0\n",
              "End ms                                      0\n",
              "Dur. (ms)                                   0\n",
              "IMSI                                        0\n",
              "MSISDN/Number                               0\n",
              "IMEI                                        0\n",
              "Last Location Name                          0\n",
              "Avg RTT DL (ms)                             0\n",
              "Avg RTT UL (ms)                             0\n",
              "Avg Bearer TP DL (kbps)                     0\n",
              "Avg Bearer TP UL (kbps)                     0\n",
              "TCP DL Retrans. Vol (Bytes)                 0\n",
              "TCP UL Retrans. Vol (Bytes)                 0\n",
              "DL TP < 50 Kbps (%)                         0\n",
              "50 Kbps < DL TP < 250 Kbps (%)              0\n",
              "250 Kbps < DL TP < 1 Mbps (%)               0\n",
              "DL TP > 1 Mbps (%)                          0\n",
              "UL TP < 10 Kbps (%)                         0\n",
              "10 Kbps < UL TP < 50 Kbps (%)               0\n",
              "50 Kbps < UL TP < 300 Kbps (%)              0\n",
              "UL TP > 300 Kbps (%)                        0\n",
              "HTTP DL (Bytes)                             0\n",
              "HTTP UL (Bytes)                             0\n",
              "Activity Duration DL (ms)                   0\n",
              "Activity Duration UL (ms)                   0\n",
              "Dur. (ms).1                                 0\n",
              "Handset Manufacturer                        0\n",
              "Handset Type                                0\n",
              "Nb of sec with 125000B < Vol DL             0\n",
              "Nb of sec with 1250B < Vol UL < 6250B       0\n",
              "Nb of sec with 31250B < Vol DL < 125000B    0\n",
              "Nb of sec with 37500B < Vol UL              0\n",
              "Nb of sec with 6250B < Vol DL < 31250B      0\n",
              "Nb of sec with 6250B < Vol UL < 37500B      0\n",
              "Nb of sec with Vol DL < 6250B               0\n",
              "Nb of sec with Vol UL < 1250B               0\n",
              "Social Media DL (Bytes)                     0\n",
              "Social Media UL (Bytes)                     0\n",
              "Google DL (Bytes)                           0\n",
              "Google UL (Bytes)                           0\n",
              "Email DL (Bytes)                            0\n",
              "Email UL (Bytes)                            0\n",
              "Youtube DL (Bytes)                          0\n",
              "Youtube UL (Bytes)                          0\n",
              "Netflix DL (Bytes)                          0\n",
              "Netflix UL (Bytes)                          0\n",
              "Gaming DL (Bytes)                           0\n",
              "Gaming UL (Bytes)                           0\n",
              "Other DL (Bytes)                            0\n",
              "Other UL (Bytes)                            0\n",
              "Total UL (Bytes)                            0\n",
              "Total DL (Bytes)                            0\n",
              "dtype: int64"
            ]
          },
          "metadata": {},
          "execution_count": 99
        }
      ]
    },
    {
      "cell_type": "markdown",
      "source": [
        "### Other method of handling missing values - Interpolation\n",
        "* We can use interpolation while working with time-series data because in time-series data we like to fill missing values with previous one or two values.\n",
        "* It can be used to estimate unknown data points between two known data points.\n",
        "\n",
        "##### Since we are not considering the time-series nature of the telecom data, we choose not to use interpolation here."
      ],
      "metadata": {
        "id": "iV4n53BBRbzQ"
      },
      "id": "iV4n53BBRbzQ"
    },
    {
      "cell_type": "code",
      "source": [
        "# db.interpolate(inplace=True)"
      ],
      "metadata": {
        "id": "M5dhj-iiBAr-"
      },
      "id": "M5dhj-iiBAr-",
      "execution_count": 47,
      "outputs": []
    },
    {
      "cell_type": "markdown",
      "id": "2f92e917",
      "metadata": {
        "id": "2f92e917"
      },
      "source": [
        "## Transforming Data\n",
        "\n",
        "**Scaling and Normalization**"
      ]
    },
    {
      "cell_type": "markdown",
      "id": "31af9f33",
      "metadata": {
        "id": "31af9f33"
      },
      "source": [
        "##### Scaling - changing the range of your data \n",
        "##### Normalization, you're changing the shape of the distribution of your data.\n",
        "\n",
        "#### Scaling\n",
        "\n",
        "* This transforms data so that it fits within a specific scale, like 0-100 or 0-1. \n",
        "* It is important when we're using methods based on distance measures of data points like support vector machines (SVM) or k-nearest neighbors (KNN).\n",
        "* We use the scaler method from sklearn.\n",
        "\n",
        "#### Normalization\n",
        "\n",
        "Scaling just changes the range of your data. Normalization is a more radical transformation. The point of normalization is to change your observations so that they can be described as a normal distribution.\n",
        "\n",
        "* Normal distribution (\"bell curve\", Gaussian distribution) is a specific statistical distribution where a roughly equal observations fall above and below the mean\n",
        " * The mean and the median are the same, and there are more observations closer to the mean.\n",
        "\n",
        "* In general, you'll normalize your data if you're going to be using a machine learning or statistics technique like LDA and Gaussian naive Bayes that assumes your data is normally distributed. Some examples of these include linear discriminant analysis (LDA) and Gaussian naive Bayes. (Pro tip: any method with \"Gaussian\" in the name probably assumes normality.)\n",
        "\n",
        "* We usee the Normalizer method from sklearn\n",
        "\n"
      ]
    },
    {
      "cell_type": "markdown",
      "source": [
        "### Numeric value scalling"
      ],
      "metadata": {
        "id": "iHZChLrTTqKG"
      },
      "id": "iHZChLrTTqKG"
    },
    {
      "cell_type": "code",
      "execution_count": 100,
      "id": "4db69c6f",
      "metadata": {
        "id": "4db69c6f"
      },
      "outputs": [],
      "source": [
        "minmax_scaler = preprocessing.MinMaxScaler()\n",
        "def scalling_numeric_values(df):\n",
        "  col_values = []\n",
        "  for column in df.columns:\n",
        "    if df[column].dtype == 'float64':\n",
        "      col_values.append(list(df[column].values))\n",
        "  col_values_skaled = minmax_scaler.fit_transform(col_values)\n",
        "  db_scaled = pd.DataFrame(col_values_skaled)\n",
        "  return df\n",
        "\n"
      ]
    },
    {
      "cell_type": "code",
      "source": [
        "db_sklearn = fill_missing_values(db.copy())\n",
        "scalling_numeric_values(db_sklearn)"
      ],
      "metadata": {
        "colab": {
          "base_uri": "https://localhost:8080/",
          "height": 852
        },
        "id": "ogVJ2dm9ON-0",
        "outputId": "9e91274a-7a3b-4fe5-9c40-34e933f97f78"
      },
      "id": "ogVJ2dm9ON-0",
      "execution_count": 101,
      "outputs": [
        {
          "output_type": "execute_result",
          "data": {
            "text/plain": [
              "           Bearer Id            Start  Start ms              End     End ms  \\\n",
              "0       1.311448e+19   4/4/2019 12:01  770.0000  4/25/2019 14:35  662.00000   \n",
              "1       1.311448e+19   4/9/2019 13:04  235.0000   4/25/2019 8:15  606.00000   \n",
              "2       1.311448e+19   4/9/2019 17:42    1.0000  4/25/2019 11:58  652.00000   \n",
              "3       1.311448e+19   4/10/2019 0:31  486.0000   4/25/2019 7:36  171.00000   \n",
              "4       1.311448e+19  4/12/2019 20:10  565.0000  4/25/2019 10:40  954.00000   \n",
              "...              ...              ...       ...              ...        ...   \n",
              "149996  7.277826e+18   4/29/2019 7:28  451.0000   4/30/2019 6:02  214.00000   \n",
              "149997  7.349883e+18   4/29/2019 7:28  483.0000  4/30/2019 10:41  187.00000   \n",
              "149998  1.311448e+19   4/29/2019 7:28  283.0000  4/30/2019 10:46  810.00000   \n",
              "149999  1.311448e+19   4/29/2019 7:28  696.0000  4/30/2019 10:40  327.00000   \n",
              "150000  1.013887e+19   4/26/2019 7:25  499.1882   4/25/2019 0:01  498.80088   \n",
              "\n",
              "           Dur. (ms)          IMSI  MSISDN/Number          IMEI  \\\n",
              "0       1.823652e+06  2.082014e+14   3.366496e+10  3.552121e+13   \n",
              "1       1.365104e+06  2.082019e+14   3.368185e+10  3.579401e+13   \n",
              "2       1.361762e+06  2.082003e+14   3.376063e+10  3.528151e+13   \n",
              "3       1.321509e+06  2.082014e+14   3.375034e+10  3.535661e+13   \n",
              "4       1.089009e+06  2.082014e+14   3.369980e+10  3.540701e+13   \n",
              "...              ...           ...            ...           ...   \n",
              "149996  8.123000e+04  2.082022e+14   3.365069e+10  3.548311e+13   \n",
              "149997  9.797000e+04  2.082019e+14   3.366345e+10  3.566051e+13   \n",
              "149998  9.824900e+04  2.082017e+14   3.362189e+10  3.572121e+13   \n",
              "149999  9.791000e+04  2.082021e+14   3.361962e+10  8.618620e+13   \n",
              "150000  1.046086e+05  2.082016e+14   4.188282e+10  4.847455e+13   \n",
              "\n",
              "           Last Location Name  Avg RTT DL (ms)  Avg RTT UL (ms)  \\\n",
              "0       9.16456699548519E+015        42.000000         5.000000   \n",
              "1                     L77566A        65.000000         5.000000   \n",
              "2                     D42335A       109.795706        17.662883   \n",
              "3                     T21824A       109.795706        17.662883   \n",
              "4                     D88865A       109.795706        17.662883   \n",
              "...                       ...              ...              ...   \n",
              "149996                D20434A        32.000000         0.000000   \n",
              "149997                D10223C        27.000000         2.000000   \n",
              "149998                T51102A        43.000000         6.000000   \n",
              "149999                L88342B        37.000000         5.000000   \n",
              "150000                D41377B       109.795706        17.662883   \n",
              "\n",
              "        Avg Bearer TP DL (kbps)  Avg Bearer TP UL (kbps)  \\\n",
              "0                     23.000000                44.000000   \n",
              "1                     16.000000                26.000000   \n",
              "2                      6.000000                 9.000000   \n",
              "3                     44.000000                44.000000   \n",
              "4                      6.000000                 9.000000   \n",
              "...                         ...                      ...   \n",
              "149996                52.000000                65.000000   \n",
              "149997                23.000000                54.000000   \n",
              "149998                43.000000                47.000000   \n",
              "149999                34.000000                37.000000   \n",
              "150000             13300.045927              1770.428647   \n",
              "\n",
              "        TCP DL Retrans. Vol (Bytes)  TCP UL Retrans. Vol (Bytes)  \\\n",
              "0                      2.080991e+07                759658.664811   \n",
              "1                      2.080991e+07                759658.664811   \n",
              "2                      2.080991e+07                759658.664811   \n",
              "3                      2.080991e+07                759658.664811   \n",
              "4                      2.080991e+07                759658.664811   \n",
              "...                             ...                          ...   \n",
              "149996                 2.080991e+07                759658.664811   \n",
              "149997                 2.080991e+07                759658.664811   \n",
              "149998                 2.080991e+07                759658.664811   \n",
              "149999                 2.080991e+07                759658.664811   \n",
              "150000                 2.080991e+07                759658.664811   \n",
              "\n",
              "        DL TP < 50 Kbps (%)  50 Kbps < DL TP < 250 Kbps (%)  \\\n",
              "0                100.000000                        0.000000   \n",
              "1                100.000000                        0.000000   \n",
              "2                100.000000                        0.000000   \n",
              "3                100.000000                        0.000000   \n",
              "4                100.000000                        0.000000   \n",
              "...                     ...                             ...   \n",
              "149996           100.000000                        0.000000   \n",
              "149997           100.000000                        0.000000   \n",
              "149998           100.000000                        0.000000   \n",
              "149999           100.000000                        0.000000   \n",
              "150000            92.844754                        3.069355   \n",
              "\n",
              "        250 Kbps < DL TP < 1 Mbps (%)  DL TP > 1 Mbps (%)  \\\n",
              "0                            0.000000            0.000000   \n",
              "1                            0.000000            0.000000   \n",
              "2                            0.000000            0.000000   \n",
              "3                            0.000000            0.000000   \n",
              "4                            0.000000            0.000000   \n",
              "...                               ...                 ...   \n",
              "149996                       0.000000            0.000000   \n",
              "149997                       0.000000            0.000000   \n",
              "149998                       0.000000            0.000000   \n",
              "149999                       0.000000            0.000000   \n",
              "150000                       1.717341            1.609654   \n",
              "\n",
              "        UL TP < 10 Kbps (%)  10 Kbps < UL TP < 50 Kbps (%)  \\\n",
              "0                100.000000                       0.000000   \n",
              "1                100.000000                       0.000000   \n",
              "2                100.000000                       0.000000   \n",
              "3                100.000000                       0.000000   \n",
              "4                100.000000                       0.000000   \n",
              "...                     ...                            ...   \n",
              "149996           100.000000                       0.000000   \n",
              "149997           100.000000                       0.000000   \n",
              "149998           100.000000                       0.000000   \n",
              "149999           100.000000                       0.000000   \n",
              "150000            98.530142                       0.776749   \n",
              "\n",
              "        50 Kbps < UL TP < 300 Kbps (%)  UL TP > 300 Kbps (%)  HTTP DL (Bytes)  \\\n",
              "0                             0.000000              0.000000     1.144710e+08   \n",
              "1                             0.000000              0.000000     1.144710e+08   \n",
              "2                             0.000000              0.000000     1.144710e+08   \n",
              "3                             0.000000              0.000000     1.144710e+08   \n",
              "4                             0.000000              0.000000     1.144710e+08   \n",
              "...                                ...                   ...              ...   \n",
              "149996                        0.000000              0.000000     1.144710e+08   \n",
              "149997                        0.000000              0.000000     1.144710e+08   \n",
              "149998                        0.000000              0.000000     1.144710e+08   \n",
              "149999                        0.000000              0.000000     1.144710e+08   \n",
              "150000                        0.147987              0.078923     1.144710e+08   \n",
              "\n",
              "        HTTP UL (Bytes)  Activity Duration DL (ms)  Activity Duration UL (ms)  \\\n",
              "0          3.242301e+06               3.762400e+04               3.878700e+04   \n",
              "1          3.242301e+06               1.680000e+02               3.560000e+03   \n",
              "2          3.242301e+06               0.000000e+00               0.000000e+00   \n",
              "3          3.242301e+06               3.330000e+03               3.788200e+04   \n",
              "4          3.242301e+06               0.000000e+00               0.000000e+00   \n",
              "...                 ...                        ...                        ...   \n",
              "149996     3.242301e+06               4.237600e+04               4.191500e+04   \n",
              "149997     3.242301e+06               1.726400e+04               1.675900e+04   \n",
              "149998     3.242301e+06               2.500300e+04               2.864000e+04   \n",
              "149999     3.242301e+06               1.340500e+04               3.408800e+04   \n",
              "150000     3.242301e+06               1.829177e+06               1.408880e+06   \n",
              "\n",
              "         Dur. (ms).1 Handset Manufacturer                 Handset Type  \\\n",
              "0       1.823653e+09              Samsung   Samsung Galaxy A5 Sm-A520F   \n",
              "1       1.365104e+09              Samsung  Samsung Galaxy J5 (Sm-J530)   \n",
              "2       1.361763e+09              Samsung     Samsung Galaxy A8 (2018)   \n",
              "3       1.321510e+09                Apple             Huawei B528S-23A   \n",
              "4       1.089009e+09              Samsung             Samsung Sm-G390F   \n",
              "...              ...                  ...                          ...   \n",
              "149996  8.123076e+07                Apple  Apple iPhone 8 Plus (A1897)   \n",
              "149997  9.797070e+07                Apple      Apple iPhone Se (A1723)   \n",
              "149998  9.824953e+07                Apple      Apple iPhone Xs (A2097)   \n",
              "149999  9.791063e+07               Huawei               Huawei Fig-Lx1   \n",
              "150000  1.046091e+08                Apple             Huawei B528S-23A   \n",
              "\n",
              "        Nb of sec with 125000B < Vol DL  \\\n",
              "0                            989.699998   \n",
              "1                            989.699998   \n",
              "2                            989.699998   \n",
              "3                            989.699998   \n",
              "4                            989.699998   \n",
              "...                                 ...   \n",
              "149996                       989.699998   \n",
              "149997                       989.699998   \n",
              "149998                       989.699998   \n",
              "149999                       989.699998   \n",
              "150000                       989.699998   \n",
              "\n",
              "        Nb of sec with 1250B < Vol UL < 6250B  \\\n",
              "0                                  340.434395   \n",
              "1                                  340.434395   \n",
              "2                                  340.434395   \n",
              "3                                  340.434395   \n",
              "4                                  340.434395   \n",
              "...                                       ...   \n",
              "149996                             340.434395   \n",
              "149997                             340.434395   \n",
              "149998                             340.434395   \n",
              "149999                             340.434395   \n",
              "150000                             340.434395   \n",
              "\n",
              "        Nb of sec with 31250B < Vol DL < 125000B  \\\n",
              "0                                     810.837401   \n",
              "1                                     810.837401   \n",
              "2                                     810.837401   \n",
              "3                                     810.837401   \n",
              "4                                     810.837401   \n",
              "...                                          ...   \n",
              "149996                                810.837401   \n",
              "149997                                810.837401   \n",
              "149998                                810.837401   \n",
              "149999                                810.837401   \n",
              "150000                                810.837401   \n",
              "\n",
              "        Nb of sec with 37500B < Vol UL  \\\n",
              "0                           149.257052   \n",
              "1                           149.257052   \n",
              "2                           149.257052   \n",
              "3                           149.257052   \n",
              "4                           149.257052   \n",
              "...                                ...   \n",
              "149996                      149.257052   \n",
              "149997                      149.257052   \n",
              "149998                      149.257052   \n",
              "149999                      149.257052   \n",
              "150000                      149.257052   \n",
              "\n",
              "        Nb of sec with 6250B < Vol DL < 31250B  \\\n",
              "0                                   965.464756   \n",
              "1                                   965.464756   \n",
              "2                                   965.464756   \n",
              "3                                   965.464756   \n",
              "4                                   965.464756   \n",
              "...                                        ...   \n",
              "149996                              965.464756   \n",
              "149997                              965.464756   \n",
              "149998                              965.464756   \n",
              "149999                              965.464756   \n",
              "150000                              965.464756   \n",
              "\n",
              "        Nb of sec with 6250B < Vol UL < 37500B  Nb of sec with Vol DL < 6250B  \\\n",
              "0                                   141.304812                     213.000000   \n",
              "1                                   141.304812                     971.000000   \n",
              "2                                   141.304812                     751.000000   \n",
              "3                                   141.304812                      17.000000   \n",
              "4                                   141.304812                     607.000000   \n",
              "...                                        ...                            ...   \n",
              "149996                              141.304812                     223.000000   \n",
              "149997                              141.304812                     105.000000   \n",
              "149998                              141.304812                     104.000000   \n",
              "149999                              141.304812                      43.000000   \n",
              "150000                              141.304812                    3719.787552   \n",
              "\n",
              "        Nb of sec with Vol UL < 1250B  Social Media DL (Bytes)  \\\n",
              "0                          214.000000             1.545765e+06   \n",
              "1                         1022.000000             1.926113e+06   \n",
              "2                          695.000000             1.684053e+06   \n",
              "3                          207.000000             6.441210e+05   \n",
              "4                          604.000000             8.626000e+05   \n",
              "...                               ...                      ...   \n",
              "149996                     229.000000             3.464974e+06   \n",
              "149997                     102.000000             2.344568e+06   \n",
              "149998                     108.000000             1.245845e+06   \n",
              "149999                      82.000000             8.015470e+05   \n",
              "150000                    4022.083454             1.795322e+06   \n",
              "\n",
              "        Social Media UL (Bytes)  Google DL (Bytes)  Google UL (Bytes)  \\\n",
              "0                   24420.00000       1.634479e+06       1.271433e+06   \n",
              "1                    7165.00000       3.493924e+06       9.201720e+05   \n",
              "2                   42224.00000       8.535055e+06       1.694064e+06   \n",
              "3                   13372.00000       9.023734e+06       2.788027e+06   \n",
              "4                   50188.00000       6.248284e+06       1.500559e+06   \n",
              "...                         ...                ...                ...   \n",
              "149996              52091.00000       9.967603e+06       2.817311e+06   \n",
              "149997               7613.00000       2.229420e+06       2.185941e+06   \n",
              "149998              14394.00000       3.850890e+06       2.734579e+06   \n",
              "149999              21562.00000       4.189773e+06       3.567494e+06   \n",
              "150000              32928.43438       5.750753e+06       2.056542e+06   \n",
              "\n",
              "        Email DL (Bytes)  Email UL (Bytes)  Youtube DL (Bytes)  \\\n",
              "0           3.563542e+06      137762.00000        1.585461e+07   \n",
              "1           6.290460e+05      308339.00000        2.024740e+07   \n",
              "2           2.690151e+06      672973.00000        1.972566e+07   \n",
              "3           1.439754e+06      631229.00000        2.138812e+07   \n",
              "4           1.936496e+06      173853.00000        1.525938e+07   \n",
              "...                  ...               ...                 ...   \n",
              "149996      5.763900e+04      633237.00000        1.619167e+07   \n",
              "149997      1.954414e+06      167304.00000        1.387723e+07   \n",
              "149998      1.525734e+06      532543.00000        2.266051e+07   \n",
              "149999      2.228270e+06      622644.00000        8.817106e+06   \n",
              "150000      1.791729e+06      467373.44194        1.163407e+07   \n",
              "\n",
              "        Youtube UL (Bytes)  Netflix DL (Bytes)  Netflix UL (Bytes)  \\\n",
              "0             2.501332e+06        8.198936e+06        9.656251e+06   \n",
              "1             1.911173e+07        1.833841e+07        1.722713e+07   \n",
              "2             1.469958e+07        1.758779e+07        6.163408e+06   \n",
              "3             1.514664e+07        1.399465e+07        1.097942e+06   \n",
              "4             1.896287e+07        1.712458e+07        4.152180e+05   \n",
              "...                    ...                 ...                 ...   \n",
              "149996        1.176343e+07        1.788370e+07        1.967816e+07   \n",
              "149997        8.288284e+06        1.935015e+07        2.129315e+07   \n",
              "149998        1.855903e+06        9.963942e+06        5.065760e+06   \n",
              "149999        8.305402e+06        3.322253e+06        1.317259e+07   \n",
              "150000        1.100941e+07        1.162685e+07        1.100175e+07   \n",
              "\n",
              "        Gaming DL (Bytes)  Gaming UL (Bytes)  Other DL (Bytes)  \\\n",
              "0            2.780823e+08       1.434415e+07      1.717444e+08   \n",
              "1            6.087501e+08       1.170709e+06      5.269042e+08   \n",
              "2            2.295846e+08       3.956300e+05      4.106926e+08   \n",
              "3            7.995382e+08       1.084972e+07      7.490399e+08   \n",
              "4            5.277072e+08       3.529801e+06      5.507095e+08   \n",
              "...                   ...                ...               ...   \n",
              "149996       5.266097e+08       9.197207e+06      3.264510e+06   \n",
              "149997       6.268931e+08       4.735033e+06      7.121804e+08   \n",
              "149998       5.535395e+08       1.339432e+07      1.211009e+08   \n",
              "149999       3.525370e+08       2.529475e+06      8.147131e+08   \n",
              "150000       4.220447e+08       8.288398e+06      4.211005e+08   \n",
              "\n",
              "        Other UL (Bytes)  Total UL (Bytes)  Total DL (Bytes)  \n",
              "0           8.814393e+06      3.674974e+07      3.088796e+08  \n",
              "1           1.505514e+07      5.380039e+07      6.533850e+08  \n",
              "2           4.215763e+06      2.788364e+07      2.798073e+08  \n",
              "3           1.279728e+07      4.332422e+07      8.460285e+08  \n",
              "4           1.391032e+07      3.854281e+07      5.691386e+08  \n",
              "...                  ...               ...               ...  \n",
              "149996      1.348742e+07      5.762885e+07      5.741753e+08  \n",
              "149997      2.457758e+06      3.913508e+07      6.666488e+08  \n",
              "149998      1.131473e+07      3.491222e+07      5.927864e+08  \n",
              "149999      1.406930e+06      2.962610e+07      3.718959e+08  \n",
              "150000      8.264799e+06      4.112121e+07      4.546434e+08  \n",
              "\n",
              "[150001 rows x 55 columns]"
            ],
            "text/html": [
              "\n",
              "  <div id=\"df-e335032c-024b-4c45-bdbd-0f69c837f7f0\">\n",
              "    <div class=\"colab-df-container\">\n",
              "      <div>\n",
              "<style scoped>\n",
              "    .dataframe tbody tr th:only-of-type {\n",
              "        vertical-align: middle;\n",
              "    }\n",
              "\n",
              "    .dataframe tbody tr th {\n",
              "        vertical-align: top;\n",
              "    }\n",
              "\n",
              "    .dataframe thead th {\n",
              "        text-align: right;\n",
              "    }\n",
              "</style>\n",
              "<table border=\"1\" class=\"dataframe\">\n",
              "  <thead>\n",
              "    <tr style=\"text-align: right;\">\n",
              "      <th></th>\n",
              "      <th>Bearer Id</th>\n",
              "      <th>Start</th>\n",
              "      <th>Start ms</th>\n",
              "      <th>End</th>\n",
              "      <th>End ms</th>\n",
              "      <th>Dur. (ms)</th>\n",
              "      <th>IMSI</th>\n",
              "      <th>MSISDN/Number</th>\n",
              "      <th>IMEI</th>\n",
              "      <th>Last Location Name</th>\n",
              "      <th>Avg RTT DL (ms)</th>\n",
              "      <th>Avg RTT UL (ms)</th>\n",
              "      <th>Avg Bearer TP DL (kbps)</th>\n",
              "      <th>Avg Bearer TP UL (kbps)</th>\n",
              "      <th>TCP DL Retrans. Vol (Bytes)</th>\n",
              "      <th>TCP UL Retrans. Vol (Bytes)</th>\n",
              "      <th>DL TP &lt; 50 Kbps (%)</th>\n",
              "      <th>50 Kbps &lt; DL TP &lt; 250 Kbps (%)</th>\n",
              "      <th>250 Kbps &lt; DL TP &lt; 1 Mbps (%)</th>\n",
              "      <th>DL TP &gt; 1 Mbps (%)</th>\n",
              "      <th>UL TP &lt; 10 Kbps (%)</th>\n",
              "      <th>10 Kbps &lt; UL TP &lt; 50 Kbps (%)</th>\n",
              "      <th>50 Kbps &lt; UL TP &lt; 300 Kbps (%)</th>\n",
              "      <th>UL TP &gt; 300 Kbps (%)</th>\n",
              "      <th>HTTP DL (Bytes)</th>\n",
              "      <th>HTTP UL (Bytes)</th>\n",
              "      <th>Activity Duration DL (ms)</th>\n",
              "      <th>Activity Duration UL (ms)</th>\n",
              "      <th>Dur. (ms).1</th>\n",
              "      <th>Handset Manufacturer</th>\n",
              "      <th>Handset Type</th>\n",
              "      <th>Nb of sec with 125000B &lt; Vol DL</th>\n",
              "      <th>Nb of sec with 1250B &lt; Vol UL &lt; 6250B</th>\n",
              "      <th>Nb of sec with 31250B &lt; Vol DL &lt; 125000B</th>\n",
              "      <th>Nb of sec with 37500B &lt; Vol UL</th>\n",
              "      <th>Nb of sec with 6250B &lt; Vol DL &lt; 31250B</th>\n",
              "      <th>Nb of sec with 6250B &lt; Vol UL &lt; 37500B</th>\n",
              "      <th>Nb of sec with Vol DL &lt; 6250B</th>\n",
              "      <th>Nb of sec with Vol UL &lt; 1250B</th>\n",
              "      <th>Social Media DL (Bytes)</th>\n",
              "      <th>Social Media UL (Bytes)</th>\n",
              "      <th>Google DL (Bytes)</th>\n",
              "      <th>Google UL (Bytes)</th>\n",
              "      <th>Email DL (Bytes)</th>\n",
              "      <th>Email UL (Bytes)</th>\n",
              "      <th>Youtube DL (Bytes)</th>\n",
              "      <th>Youtube UL (Bytes)</th>\n",
              "      <th>Netflix DL (Bytes)</th>\n",
              "      <th>Netflix UL (Bytes)</th>\n",
              "      <th>Gaming DL (Bytes)</th>\n",
              "      <th>Gaming UL (Bytes)</th>\n",
              "      <th>Other DL (Bytes)</th>\n",
              "      <th>Other UL (Bytes)</th>\n",
              "      <th>Total UL (Bytes)</th>\n",
              "      <th>Total DL (Bytes)</th>\n",
              "    </tr>\n",
              "  </thead>\n",
              "  <tbody>\n",
              "    <tr>\n",
              "      <th>0</th>\n",
              "      <td>1.311448e+19</td>\n",
              "      <td>4/4/2019 12:01</td>\n",
              "      <td>770.0000</td>\n",
              "      <td>4/25/2019 14:35</td>\n",
              "      <td>662.00000</td>\n",
              "      <td>1.823652e+06</td>\n",
              "      <td>2.082014e+14</td>\n",
              "      <td>3.366496e+10</td>\n",
              "      <td>3.552121e+13</td>\n",
              "      <td>9.16456699548519E+015</td>\n",
              "      <td>42.000000</td>\n",
              "      <td>5.000000</td>\n",
              "      <td>23.000000</td>\n",
              "      <td>44.000000</td>\n",
              "      <td>2.080991e+07</td>\n",
              "      <td>759658.664811</td>\n",
              "      <td>100.000000</td>\n",
              "      <td>0.000000</td>\n",
              "      <td>0.000000</td>\n",
              "      <td>0.000000</td>\n",
              "      <td>100.000000</td>\n",
              "      <td>0.000000</td>\n",
              "      <td>0.000000</td>\n",
              "      <td>0.000000</td>\n",
              "      <td>1.144710e+08</td>\n",
              "      <td>3.242301e+06</td>\n",
              "      <td>3.762400e+04</td>\n",
              "      <td>3.878700e+04</td>\n",
              "      <td>1.823653e+09</td>\n",
              "      <td>Samsung</td>\n",
              "      <td>Samsung Galaxy A5 Sm-A520F</td>\n",
              "      <td>989.699998</td>\n",
              "      <td>340.434395</td>\n",
              "      <td>810.837401</td>\n",
              "      <td>149.257052</td>\n",
              "      <td>965.464756</td>\n",
              "      <td>141.304812</td>\n",
              "      <td>213.000000</td>\n",
              "      <td>214.000000</td>\n",
              "      <td>1.545765e+06</td>\n",
              "      <td>24420.00000</td>\n",
              "      <td>1.634479e+06</td>\n",
              "      <td>1.271433e+06</td>\n",
              "      <td>3.563542e+06</td>\n",
              "      <td>137762.00000</td>\n",
              "      <td>1.585461e+07</td>\n",
              "      <td>2.501332e+06</td>\n",
              "      <td>8.198936e+06</td>\n",
              "      <td>9.656251e+06</td>\n",
              "      <td>2.780823e+08</td>\n",
              "      <td>1.434415e+07</td>\n",
              "      <td>1.717444e+08</td>\n",
              "      <td>8.814393e+06</td>\n",
              "      <td>3.674974e+07</td>\n",
              "      <td>3.088796e+08</td>\n",
              "    </tr>\n",
              "    <tr>\n",
              "      <th>1</th>\n",
              "      <td>1.311448e+19</td>\n",
              "      <td>4/9/2019 13:04</td>\n",
              "      <td>235.0000</td>\n",
              "      <td>4/25/2019 8:15</td>\n",
              "      <td>606.00000</td>\n",
              "      <td>1.365104e+06</td>\n",
              "      <td>2.082019e+14</td>\n",
              "      <td>3.368185e+10</td>\n",
              "      <td>3.579401e+13</td>\n",
              "      <td>L77566A</td>\n",
              "      <td>65.000000</td>\n",
              "      <td>5.000000</td>\n",
              "      <td>16.000000</td>\n",
              "      <td>26.000000</td>\n",
              "      <td>2.080991e+07</td>\n",
              "      <td>759658.664811</td>\n",
              "      <td>100.000000</td>\n",
              "      <td>0.000000</td>\n",
              "      <td>0.000000</td>\n",
              "      <td>0.000000</td>\n",
              "      <td>100.000000</td>\n",
              "      <td>0.000000</td>\n",
              "      <td>0.000000</td>\n",
              "      <td>0.000000</td>\n",
              "      <td>1.144710e+08</td>\n",
              "      <td>3.242301e+06</td>\n",
              "      <td>1.680000e+02</td>\n",
              "      <td>3.560000e+03</td>\n",
              "      <td>1.365104e+09</td>\n",
              "      <td>Samsung</td>\n",
              "      <td>Samsung Galaxy J5 (Sm-J530)</td>\n",
              "      <td>989.699998</td>\n",
              "      <td>340.434395</td>\n",
              "      <td>810.837401</td>\n",
              "      <td>149.257052</td>\n",
              "      <td>965.464756</td>\n",
              "      <td>141.304812</td>\n",
              "      <td>971.000000</td>\n",
              "      <td>1022.000000</td>\n",
              "      <td>1.926113e+06</td>\n",
              "      <td>7165.00000</td>\n",
              "      <td>3.493924e+06</td>\n",
              "      <td>9.201720e+05</td>\n",
              "      <td>6.290460e+05</td>\n",
              "      <td>308339.00000</td>\n",
              "      <td>2.024740e+07</td>\n",
              "      <td>1.911173e+07</td>\n",
              "      <td>1.833841e+07</td>\n",
              "      <td>1.722713e+07</td>\n",
              "      <td>6.087501e+08</td>\n",
              "      <td>1.170709e+06</td>\n",
              "      <td>5.269042e+08</td>\n",
              "      <td>1.505514e+07</td>\n",
              "      <td>5.380039e+07</td>\n",
              "      <td>6.533850e+08</td>\n",
              "    </tr>\n",
              "    <tr>\n",
              "      <th>2</th>\n",
              "      <td>1.311448e+19</td>\n",
              "      <td>4/9/2019 17:42</td>\n",
              "      <td>1.0000</td>\n",
              "      <td>4/25/2019 11:58</td>\n",
              "      <td>652.00000</td>\n",
              "      <td>1.361762e+06</td>\n",
              "      <td>2.082003e+14</td>\n",
              "      <td>3.376063e+10</td>\n",
              "      <td>3.528151e+13</td>\n",
              "      <td>D42335A</td>\n",
              "      <td>109.795706</td>\n",
              "      <td>17.662883</td>\n",
              "      <td>6.000000</td>\n",
              "      <td>9.000000</td>\n",
              "      <td>2.080991e+07</td>\n",
              "      <td>759658.664811</td>\n",
              "      <td>100.000000</td>\n",
              "      <td>0.000000</td>\n",
              "      <td>0.000000</td>\n",
              "      <td>0.000000</td>\n",
              "      <td>100.000000</td>\n",
              "      <td>0.000000</td>\n",
              "      <td>0.000000</td>\n",
              "      <td>0.000000</td>\n",
              "      <td>1.144710e+08</td>\n",
              "      <td>3.242301e+06</td>\n",
              "      <td>0.000000e+00</td>\n",
              "      <td>0.000000e+00</td>\n",
              "      <td>1.361763e+09</td>\n",
              "      <td>Samsung</td>\n",
              "      <td>Samsung Galaxy A8 (2018)</td>\n",
              "      <td>989.699998</td>\n",
              "      <td>340.434395</td>\n",
              "      <td>810.837401</td>\n",
              "      <td>149.257052</td>\n",
              "      <td>965.464756</td>\n",
              "      <td>141.304812</td>\n",
              "      <td>751.000000</td>\n",
              "      <td>695.000000</td>\n",
              "      <td>1.684053e+06</td>\n",
              "      <td>42224.00000</td>\n",
              "      <td>8.535055e+06</td>\n",
              "      <td>1.694064e+06</td>\n",
              "      <td>2.690151e+06</td>\n",
              "      <td>672973.00000</td>\n",
              "      <td>1.972566e+07</td>\n",
              "      <td>1.469958e+07</td>\n",
              "      <td>1.758779e+07</td>\n",
              "      <td>6.163408e+06</td>\n",
              "      <td>2.295846e+08</td>\n",
              "      <td>3.956300e+05</td>\n",
              "      <td>4.106926e+08</td>\n",
              "      <td>4.215763e+06</td>\n",
              "      <td>2.788364e+07</td>\n",
              "      <td>2.798073e+08</td>\n",
              "    </tr>\n",
              "    <tr>\n",
              "      <th>3</th>\n",
              "      <td>1.311448e+19</td>\n",
              "      <td>4/10/2019 0:31</td>\n",
              "      <td>486.0000</td>\n",
              "      <td>4/25/2019 7:36</td>\n",
              "      <td>171.00000</td>\n",
              "      <td>1.321509e+06</td>\n",
              "      <td>2.082014e+14</td>\n",
              "      <td>3.375034e+10</td>\n",
              "      <td>3.535661e+13</td>\n",
              "      <td>T21824A</td>\n",
              "      <td>109.795706</td>\n",
              "      <td>17.662883</td>\n",
              "      <td>44.000000</td>\n",
              "      <td>44.000000</td>\n",
              "      <td>2.080991e+07</td>\n",
              "      <td>759658.664811</td>\n",
              "      <td>100.000000</td>\n",
              "      <td>0.000000</td>\n",
              "      <td>0.000000</td>\n",
              "      <td>0.000000</td>\n",
              "      <td>100.000000</td>\n",
              "      <td>0.000000</td>\n",
              "      <td>0.000000</td>\n",
              "      <td>0.000000</td>\n",
              "      <td>1.144710e+08</td>\n",
              "      <td>3.242301e+06</td>\n",
              "      <td>3.330000e+03</td>\n",
              "      <td>3.788200e+04</td>\n",
              "      <td>1.321510e+09</td>\n",
              "      <td>Apple</td>\n",
              "      <td>Huawei B528S-23A</td>\n",
              "      <td>989.699998</td>\n",
              "      <td>340.434395</td>\n",
              "      <td>810.837401</td>\n",
              "      <td>149.257052</td>\n",
              "      <td>965.464756</td>\n",
              "      <td>141.304812</td>\n",
              "      <td>17.000000</td>\n",
              "      <td>207.000000</td>\n",
              "      <td>6.441210e+05</td>\n",
              "      <td>13372.00000</td>\n",
              "      <td>9.023734e+06</td>\n",
              "      <td>2.788027e+06</td>\n",
              "      <td>1.439754e+06</td>\n",
              "      <td>631229.00000</td>\n",
              "      <td>2.138812e+07</td>\n",
              "      <td>1.514664e+07</td>\n",
              "      <td>1.399465e+07</td>\n",
              "      <td>1.097942e+06</td>\n",
              "      <td>7.995382e+08</td>\n",
              "      <td>1.084972e+07</td>\n",
              "      <td>7.490399e+08</td>\n",
              "      <td>1.279728e+07</td>\n",
              "      <td>4.332422e+07</td>\n",
              "      <td>8.460285e+08</td>\n",
              "    </tr>\n",
              "    <tr>\n",
              "      <th>4</th>\n",
              "      <td>1.311448e+19</td>\n",
              "      <td>4/12/2019 20:10</td>\n",
              "      <td>565.0000</td>\n",
              "      <td>4/25/2019 10:40</td>\n",
              "      <td>954.00000</td>\n",
              "      <td>1.089009e+06</td>\n",
              "      <td>2.082014e+14</td>\n",
              "      <td>3.369980e+10</td>\n",
              "      <td>3.540701e+13</td>\n",
              "      <td>D88865A</td>\n",
              "      <td>109.795706</td>\n",
              "      <td>17.662883</td>\n",
              "      <td>6.000000</td>\n",
              "      <td>9.000000</td>\n",
              "      <td>2.080991e+07</td>\n",
              "      <td>759658.664811</td>\n",
              "      <td>100.000000</td>\n",
              "      <td>0.000000</td>\n",
              "      <td>0.000000</td>\n",
              "      <td>0.000000</td>\n",
              "      <td>100.000000</td>\n",
              "      <td>0.000000</td>\n",
              "      <td>0.000000</td>\n",
              "      <td>0.000000</td>\n",
              "      <td>1.144710e+08</td>\n",
              "      <td>3.242301e+06</td>\n",
              "      <td>0.000000e+00</td>\n",
              "      <td>0.000000e+00</td>\n",
              "      <td>1.089009e+09</td>\n",
              "      <td>Samsung</td>\n",
              "      <td>Samsung Sm-G390F</td>\n",
              "      <td>989.699998</td>\n",
              "      <td>340.434395</td>\n",
              "      <td>810.837401</td>\n",
              "      <td>149.257052</td>\n",
              "      <td>965.464756</td>\n",
              "      <td>141.304812</td>\n",
              "      <td>607.000000</td>\n",
              "      <td>604.000000</td>\n",
              "      <td>8.626000e+05</td>\n",
              "      <td>50188.00000</td>\n",
              "      <td>6.248284e+06</td>\n",
              "      <td>1.500559e+06</td>\n",
              "      <td>1.936496e+06</td>\n",
              "      <td>173853.00000</td>\n",
              "      <td>1.525938e+07</td>\n",
              "      <td>1.896287e+07</td>\n",
              "      <td>1.712458e+07</td>\n",
              "      <td>4.152180e+05</td>\n",
              "      <td>5.277072e+08</td>\n",
              "      <td>3.529801e+06</td>\n",
              "      <td>5.507095e+08</td>\n",
              "      <td>1.391032e+07</td>\n",
              "      <td>3.854281e+07</td>\n",
              "      <td>5.691386e+08</td>\n",
              "    </tr>\n",
              "    <tr>\n",
              "      <th>...</th>\n",
              "      <td>...</td>\n",
              "      <td>...</td>\n",
              "      <td>...</td>\n",
              "      <td>...</td>\n",
              "      <td>...</td>\n",
              "      <td>...</td>\n",
              "      <td>...</td>\n",
              "      <td>...</td>\n",
              "      <td>...</td>\n",
              "      <td>...</td>\n",
              "      <td>...</td>\n",
              "      <td>...</td>\n",
              "      <td>...</td>\n",
              "      <td>...</td>\n",
              "      <td>...</td>\n",
              "      <td>...</td>\n",
              "      <td>...</td>\n",
              "      <td>...</td>\n",
              "      <td>...</td>\n",
              "      <td>...</td>\n",
              "      <td>...</td>\n",
              "      <td>...</td>\n",
              "      <td>...</td>\n",
              "      <td>...</td>\n",
              "      <td>...</td>\n",
              "      <td>...</td>\n",
              "      <td>...</td>\n",
              "      <td>...</td>\n",
              "      <td>...</td>\n",
              "      <td>...</td>\n",
              "      <td>...</td>\n",
              "      <td>...</td>\n",
              "      <td>...</td>\n",
              "      <td>...</td>\n",
              "      <td>...</td>\n",
              "      <td>...</td>\n",
              "      <td>...</td>\n",
              "      <td>...</td>\n",
              "      <td>...</td>\n",
              "      <td>...</td>\n",
              "      <td>...</td>\n",
              "      <td>...</td>\n",
              "      <td>...</td>\n",
              "      <td>...</td>\n",
              "      <td>...</td>\n",
              "      <td>...</td>\n",
              "      <td>...</td>\n",
              "      <td>...</td>\n",
              "      <td>...</td>\n",
              "      <td>...</td>\n",
              "      <td>...</td>\n",
              "      <td>...</td>\n",
              "      <td>...</td>\n",
              "      <td>...</td>\n",
              "      <td>...</td>\n",
              "    </tr>\n",
              "    <tr>\n",
              "      <th>149996</th>\n",
              "      <td>7.277826e+18</td>\n",
              "      <td>4/29/2019 7:28</td>\n",
              "      <td>451.0000</td>\n",
              "      <td>4/30/2019 6:02</td>\n",
              "      <td>214.00000</td>\n",
              "      <td>8.123000e+04</td>\n",
              "      <td>2.082022e+14</td>\n",
              "      <td>3.365069e+10</td>\n",
              "      <td>3.548311e+13</td>\n",
              "      <td>D20434A</td>\n",
              "      <td>32.000000</td>\n",
              "      <td>0.000000</td>\n",
              "      <td>52.000000</td>\n",
              "      <td>65.000000</td>\n",
              "      <td>2.080991e+07</td>\n",
              "      <td>759658.664811</td>\n",
              "      <td>100.000000</td>\n",
              "      <td>0.000000</td>\n",
              "      <td>0.000000</td>\n",
              "      <td>0.000000</td>\n",
              "      <td>100.000000</td>\n",
              "      <td>0.000000</td>\n",
              "      <td>0.000000</td>\n",
              "      <td>0.000000</td>\n",
              "      <td>1.144710e+08</td>\n",
              "      <td>3.242301e+06</td>\n",
              "      <td>4.237600e+04</td>\n",
              "      <td>4.191500e+04</td>\n",
              "      <td>8.123076e+07</td>\n",
              "      <td>Apple</td>\n",
              "      <td>Apple iPhone 8 Plus (A1897)</td>\n",
              "      <td>989.699998</td>\n",
              "      <td>340.434395</td>\n",
              "      <td>810.837401</td>\n",
              "      <td>149.257052</td>\n",
              "      <td>965.464756</td>\n",
              "      <td>141.304812</td>\n",
              "      <td>223.000000</td>\n",
              "      <td>229.000000</td>\n",
              "      <td>3.464974e+06</td>\n",
              "      <td>52091.00000</td>\n",
              "      <td>9.967603e+06</td>\n",
              "      <td>2.817311e+06</td>\n",
              "      <td>5.763900e+04</td>\n",
              "      <td>633237.00000</td>\n",
              "      <td>1.619167e+07</td>\n",
              "      <td>1.176343e+07</td>\n",
              "      <td>1.788370e+07</td>\n",
              "      <td>1.967816e+07</td>\n",
              "      <td>5.266097e+08</td>\n",
              "      <td>9.197207e+06</td>\n",
              "      <td>3.264510e+06</td>\n",
              "      <td>1.348742e+07</td>\n",
              "      <td>5.762885e+07</td>\n",
              "      <td>5.741753e+08</td>\n",
              "    </tr>\n",
              "    <tr>\n",
              "      <th>149997</th>\n",
              "      <td>7.349883e+18</td>\n",
              "      <td>4/29/2019 7:28</td>\n",
              "      <td>483.0000</td>\n",
              "      <td>4/30/2019 10:41</td>\n",
              "      <td>187.00000</td>\n",
              "      <td>9.797000e+04</td>\n",
              "      <td>2.082019e+14</td>\n",
              "      <td>3.366345e+10</td>\n",
              "      <td>3.566051e+13</td>\n",
              "      <td>D10223C</td>\n",
              "      <td>27.000000</td>\n",
              "      <td>2.000000</td>\n",
              "      <td>23.000000</td>\n",
              "      <td>54.000000</td>\n",
              "      <td>2.080991e+07</td>\n",
              "      <td>759658.664811</td>\n",
              "      <td>100.000000</td>\n",
              "      <td>0.000000</td>\n",
              "      <td>0.000000</td>\n",
              "      <td>0.000000</td>\n",
              "      <td>100.000000</td>\n",
              "      <td>0.000000</td>\n",
              "      <td>0.000000</td>\n",
              "      <td>0.000000</td>\n",
              "      <td>1.144710e+08</td>\n",
              "      <td>3.242301e+06</td>\n",
              "      <td>1.726400e+04</td>\n",
              "      <td>1.675900e+04</td>\n",
              "      <td>9.797070e+07</td>\n",
              "      <td>Apple</td>\n",
              "      <td>Apple iPhone Se (A1723)</td>\n",
              "      <td>989.699998</td>\n",
              "      <td>340.434395</td>\n",
              "      <td>810.837401</td>\n",
              "      <td>149.257052</td>\n",
              "      <td>965.464756</td>\n",
              "      <td>141.304812</td>\n",
              "      <td>105.000000</td>\n",
              "      <td>102.000000</td>\n",
              "      <td>2.344568e+06</td>\n",
              "      <td>7613.00000</td>\n",
              "      <td>2.229420e+06</td>\n",
              "      <td>2.185941e+06</td>\n",
              "      <td>1.954414e+06</td>\n",
              "      <td>167304.00000</td>\n",
              "      <td>1.387723e+07</td>\n",
              "      <td>8.288284e+06</td>\n",
              "      <td>1.935015e+07</td>\n",
              "      <td>2.129315e+07</td>\n",
              "      <td>6.268931e+08</td>\n",
              "      <td>4.735033e+06</td>\n",
              "      <td>7.121804e+08</td>\n",
              "      <td>2.457758e+06</td>\n",
              "      <td>3.913508e+07</td>\n",
              "      <td>6.666488e+08</td>\n",
              "    </tr>\n",
              "    <tr>\n",
              "      <th>149998</th>\n",
              "      <td>1.311448e+19</td>\n",
              "      <td>4/29/2019 7:28</td>\n",
              "      <td>283.0000</td>\n",
              "      <td>4/30/2019 10:46</td>\n",
              "      <td>810.00000</td>\n",
              "      <td>9.824900e+04</td>\n",
              "      <td>2.082017e+14</td>\n",
              "      <td>3.362189e+10</td>\n",
              "      <td>3.572121e+13</td>\n",
              "      <td>T51102A</td>\n",
              "      <td>43.000000</td>\n",
              "      <td>6.000000</td>\n",
              "      <td>43.000000</td>\n",
              "      <td>47.000000</td>\n",
              "      <td>2.080991e+07</td>\n",
              "      <td>759658.664811</td>\n",
              "      <td>100.000000</td>\n",
              "      <td>0.000000</td>\n",
              "      <td>0.000000</td>\n",
              "      <td>0.000000</td>\n",
              "      <td>100.000000</td>\n",
              "      <td>0.000000</td>\n",
              "      <td>0.000000</td>\n",
              "      <td>0.000000</td>\n",
              "      <td>1.144710e+08</td>\n",
              "      <td>3.242301e+06</td>\n",
              "      <td>2.500300e+04</td>\n",
              "      <td>2.864000e+04</td>\n",
              "      <td>9.824953e+07</td>\n",
              "      <td>Apple</td>\n",
              "      <td>Apple iPhone Xs (A2097)</td>\n",
              "      <td>989.699998</td>\n",
              "      <td>340.434395</td>\n",
              "      <td>810.837401</td>\n",
              "      <td>149.257052</td>\n",
              "      <td>965.464756</td>\n",
              "      <td>141.304812</td>\n",
              "      <td>104.000000</td>\n",
              "      <td>108.000000</td>\n",
              "      <td>1.245845e+06</td>\n",
              "      <td>14394.00000</td>\n",
              "      <td>3.850890e+06</td>\n",
              "      <td>2.734579e+06</td>\n",
              "      <td>1.525734e+06</td>\n",
              "      <td>532543.00000</td>\n",
              "      <td>2.266051e+07</td>\n",
              "      <td>1.855903e+06</td>\n",
              "      <td>9.963942e+06</td>\n",
              "      <td>5.065760e+06</td>\n",
              "      <td>5.535395e+08</td>\n",
              "      <td>1.339432e+07</td>\n",
              "      <td>1.211009e+08</td>\n",
              "      <td>1.131473e+07</td>\n",
              "      <td>3.491222e+07</td>\n",
              "      <td>5.927864e+08</td>\n",
              "    </tr>\n",
              "    <tr>\n",
              "      <th>149999</th>\n",
              "      <td>1.311448e+19</td>\n",
              "      <td>4/29/2019 7:28</td>\n",
              "      <td>696.0000</td>\n",
              "      <td>4/30/2019 10:40</td>\n",
              "      <td>327.00000</td>\n",
              "      <td>9.791000e+04</td>\n",
              "      <td>2.082021e+14</td>\n",
              "      <td>3.361962e+10</td>\n",
              "      <td>8.618620e+13</td>\n",
              "      <td>L88342B</td>\n",
              "      <td>37.000000</td>\n",
              "      <td>5.000000</td>\n",
              "      <td>34.000000</td>\n",
              "      <td>37.000000</td>\n",
              "      <td>2.080991e+07</td>\n",
              "      <td>759658.664811</td>\n",
              "      <td>100.000000</td>\n",
              "      <td>0.000000</td>\n",
              "      <td>0.000000</td>\n",
              "      <td>0.000000</td>\n",
              "      <td>100.000000</td>\n",
              "      <td>0.000000</td>\n",
              "      <td>0.000000</td>\n",
              "      <td>0.000000</td>\n",
              "      <td>1.144710e+08</td>\n",
              "      <td>3.242301e+06</td>\n",
              "      <td>1.340500e+04</td>\n",
              "      <td>3.408800e+04</td>\n",
              "      <td>9.791063e+07</td>\n",
              "      <td>Huawei</td>\n",
              "      <td>Huawei Fig-Lx1</td>\n",
              "      <td>989.699998</td>\n",
              "      <td>340.434395</td>\n",
              "      <td>810.837401</td>\n",
              "      <td>149.257052</td>\n",
              "      <td>965.464756</td>\n",
              "      <td>141.304812</td>\n",
              "      <td>43.000000</td>\n",
              "      <td>82.000000</td>\n",
              "      <td>8.015470e+05</td>\n",
              "      <td>21562.00000</td>\n",
              "      <td>4.189773e+06</td>\n",
              "      <td>3.567494e+06</td>\n",
              "      <td>2.228270e+06</td>\n",
              "      <td>622644.00000</td>\n",
              "      <td>8.817106e+06</td>\n",
              "      <td>8.305402e+06</td>\n",
              "      <td>3.322253e+06</td>\n",
              "      <td>1.317259e+07</td>\n",
              "      <td>3.525370e+08</td>\n",
              "      <td>2.529475e+06</td>\n",
              "      <td>8.147131e+08</td>\n",
              "      <td>1.406930e+06</td>\n",
              "      <td>2.962610e+07</td>\n",
              "      <td>3.718959e+08</td>\n",
              "    </tr>\n",
              "    <tr>\n",
              "      <th>150000</th>\n",
              "      <td>1.013887e+19</td>\n",
              "      <td>4/26/2019 7:25</td>\n",
              "      <td>499.1882</td>\n",
              "      <td>4/25/2019 0:01</td>\n",
              "      <td>498.80088</td>\n",
              "      <td>1.046086e+05</td>\n",
              "      <td>2.082016e+14</td>\n",
              "      <td>4.188282e+10</td>\n",
              "      <td>4.847455e+13</td>\n",
              "      <td>D41377B</td>\n",
              "      <td>109.795706</td>\n",
              "      <td>17.662883</td>\n",
              "      <td>13300.045927</td>\n",
              "      <td>1770.428647</td>\n",
              "      <td>2.080991e+07</td>\n",
              "      <td>759658.664811</td>\n",
              "      <td>92.844754</td>\n",
              "      <td>3.069355</td>\n",
              "      <td>1.717341</td>\n",
              "      <td>1.609654</td>\n",
              "      <td>98.530142</td>\n",
              "      <td>0.776749</td>\n",
              "      <td>0.147987</td>\n",
              "      <td>0.078923</td>\n",
              "      <td>1.144710e+08</td>\n",
              "      <td>3.242301e+06</td>\n",
              "      <td>1.829177e+06</td>\n",
              "      <td>1.408880e+06</td>\n",
              "      <td>1.046091e+08</td>\n",
              "      <td>Apple</td>\n",
              "      <td>Huawei B528S-23A</td>\n",
              "      <td>989.699998</td>\n",
              "      <td>340.434395</td>\n",
              "      <td>810.837401</td>\n",
              "      <td>149.257052</td>\n",
              "      <td>965.464756</td>\n",
              "      <td>141.304812</td>\n",
              "      <td>3719.787552</td>\n",
              "      <td>4022.083454</td>\n",
              "      <td>1.795322e+06</td>\n",
              "      <td>32928.43438</td>\n",
              "      <td>5.750753e+06</td>\n",
              "      <td>2.056542e+06</td>\n",
              "      <td>1.791729e+06</td>\n",
              "      <td>467373.44194</td>\n",
              "      <td>1.163407e+07</td>\n",
              "      <td>1.100941e+07</td>\n",
              "      <td>1.162685e+07</td>\n",
              "      <td>1.100175e+07</td>\n",
              "      <td>4.220447e+08</td>\n",
              "      <td>8.288398e+06</td>\n",
              "      <td>4.211005e+08</td>\n",
              "      <td>8.264799e+06</td>\n",
              "      <td>4.112121e+07</td>\n",
              "      <td>4.546434e+08</td>\n",
              "    </tr>\n",
              "  </tbody>\n",
              "</table>\n",
              "<p>150001 rows × 55 columns</p>\n",
              "</div>\n",
              "      <button class=\"colab-df-convert\" onclick=\"convertToInteractive('df-e335032c-024b-4c45-bdbd-0f69c837f7f0')\"\n",
              "              title=\"Convert this dataframe to an interactive table.\"\n",
              "              style=\"display:none;\">\n",
              "        \n",
              "  <svg xmlns=\"http://www.w3.org/2000/svg\" height=\"24px\"viewBox=\"0 0 24 24\"\n",
              "       width=\"24px\">\n",
              "    <path d=\"M0 0h24v24H0V0z\" fill=\"none\"/>\n",
              "    <path d=\"M18.56 5.44l.94 2.06.94-2.06 2.06-.94-2.06-.94-.94-2.06-.94 2.06-2.06.94zm-11 1L8.5 8.5l.94-2.06 2.06-.94-2.06-.94L8.5 2.5l-.94 2.06-2.06.94zm10 10l.94 2.06.94-2.06 2.06-.94-2.06-.94-.94-2.06-.94 2.06-2.06.94z\"/><path d=\"M17.41 7.96l-1.37-1.37c-.4-.4-.92-.59-1.43-.59-.52 0-1.04.2-1.43.59L10.3 9.45l-7.72 7.72c-.78.78-.78 2.05 0 2.83L4 21.41c.39.39.9.59 1.41.59.51 0 1.02-.2 1.41-.59l7.78-7.78 2.81-2.81c.8-.78.8-2.07 0-2.86zM5.41 20L4 18.59l7.72-7.72 1.47 1.35L5.41 20z\"/>\n",
              "  </svg>\n",
              "      </button>\n",
              "      \n",
              "  <style>\n",
              "    .colab-df-container {\n",
              "      display:flex;\n",
              "      flex-wrap:wrap;\n",
              "      gap: 12px;\n",
              "    }\n",
              "\n",
              "    .colab-df-convert {\n",
              "      background-color: #E8F0FE;\n",
              "      border: none;\n",
              "      border-radius: 50%;\n",
              "      cursor: pointer;\n",
              "      display: none;\n",
              "      fill: #1967D2;\n",
              "      height: 32px;\n",
              "      padding: 0 0 0 0;\n",
              "      width: 32px;\n",
              "    }\n",
              "\n",
              "    .colab-df-convert:hover {\n",
              "      background-color: #E2EBFA;\n",
              "      box-shadow: 0px 1px 2px rgba(60, 64, 67, 0.3), 0px 1px 3px 1px rgba(60, 64, 67, 0.15);\n",
              "      fill: #174EA6;\n",
              "    }\n",
              "\n",
              "    [theme=dark] .colab-df-convert {\n",
              "      background-color: #3B4455;\n",
              "      fill: #D2E3FC;\n",
              "    }\n",
              "\n",
              "    [theme=dark] .colab-df-convert:hover {\n",
              "      background-color: #434B5C;\n",
              "      box-shadow: 0px 1px 3px 1px rgba(0, 0, 0, 0.15);\n",
              "      filter: drop-shadow(0px 1px 2px rgba(0, 0, 0, 0.3));\n",
              "      fill: #FFFFFF;\n",
              "    }\n",
              "  </style>\n",
              "\n",
              "      <script>\n",
              "        const buttonEl =\n",
              "          document.querySelector('#df-e335032c-024b-4c45-bdbd-0f69c837f7f0 button.colab-df-convert');\n",
              "        buttonEl.style.display =\n",
              "          google.colab.kernel.accessAllowed ? 'block' : 'none';\n",
              "\n",
              "        async function convertToInteractive(key) {\n",
              "          const element = document.querySelector('#df-e335032c-024b-4c45-bdbd-0f69c837f7f0');\n",
              "          const dataTable =\n",
              "            await google.colab.kernel.invokeFunction('convertToInteractive',\n",
              "                                                     [key], {});\n",
              "          if (!dataTable) return;\n",
              "\n",
              "          const docLinkHtml = 'Like what you see? Visit the ' +\n",
              "            '<a target=\"_blank\" href=https://colab.research.google.com/notebooks/data_table.ipynb>data table notebook</a>'\n",
              "            + ' to learn more about interactive tables.';\n",
              "          element.innerHTML = '';\n",
              "          dataTable['output_type'] = 'display_data';\n",
              "          await google.colab.output.renderOutput(dataTable, element);\n",
              "          const docLink = document.createElement('div');\n",
              "          docLink.innerHTML = docLinkHtml;\n",
              "          element.appendChild(docLink);\n",
              "        }\n",
              "      </script>\n",
              "    </div>\n",
              "  </div>\n",
              "  "
            ]
          },
          "metadata": {},
          "execution_count": 101
        }
      ]
    },
    {
      "cell_type": "markdown",
      "source": [
        "### Scaling between [0,1]"
      ],
      "metadata": {
        "id": "Bphm1ckjUAK0"
      },
      "id": "Bphm1ckjUAK0"
    },
    {
      "cell_type": "code",
      "source": [
        "def scalling_numeric_values_0_1(df):\n",
        "  for column in df.columns:\n",
        "    if df[column].dtype == 'float64':\n",
        "      df[column] = MinMaxScaler().fit_transform(np.array(df[column]).reshape(150001,1))\n",
        "  return df"
      ],
      "metadata": {
        "id": "r4Prs1aJUIvy"
      },
      "id": "r4Prs1aJUIvy",
      "execution_count": 102,
      "outputs": []
    },
    {
      "cell_type": "code",
      "source": [
        "db_sklearn = fill_missing_values(db.copy())\n",
        "scalling_numeric_values_0_1(db_sklearn)"
      ],
      "metadata": {
        "colab": {
          "base_uri": "https://localhost:8080/",
          "height": 887
        },
        "id": "FwFHO9yYUKcf",
        "outputId": "bad52671-35ae-4667-8e45-edc892352eb6"
      },
      "id": "FwFHO9yYUKcf",
      "execution_count": 103,
      "outputs": [
        {
          "output_type": "execute_result",
          "data": {
            "text/plain": [
              "        Bearer Id            Start  Start ms              End    End ms  \\\n",
              "0        0.988506   4/4/2019 12:01  0.770771  4/25/2019 14:35  0.662663   \n",
              "1        0.988506   4/9/2019 13:04  0.235235   4/25/2019 8:15  0.606607   \n",
              "2        0.988506   4/9/2019 17:42  0.001001  4/25/2019 11:58  0.652653   \n",
              "3        0.988506   4/10/2019 0:31  0.486486   4/25/2019 7:36  0.171171   \n",
              "4        0.988506  4/12/2019 20:10  0.565566  4/25/2019 10:40  0.954955   \n",
              "...           ...              ...       ...              ...       ...   \n",
              "149996   0.057471   4/29/2019 7:28  0.451451   4/30/2019 6:02  0.214214   \n",
              "149997   0.068966   4/29/2019 7:28  0.483483  4/30/2019 10:41  0.187187   \n",
              "149998   0.988506   4/29/2019 7:28  0.283283  4/30/2019 10:46  0.810811   \n",
              "149999   0.988506   4/29/2019 7:28  0.696697  4/30/2019 10:40  0.327327   \n",
              "150000   0.513852   4/26/2019 7:25  0.499688   4/25/2019 0:01  0.499300   \n",
              "\n",
              "        Dur. (ms)      IMSI  MSISDN/Number      IMEI     Last Location Name  \\\n",
              "0        0.980734  0.414307   7.248772e-08  0.355933  9.16456699548519E+015   \n",
              "1        0.733164  0.414353   9.163195e-08  0.358701                L77566A   \n",
              "2        0.731360  0.414194   1.809066e-07  0.353501                D42335A   \n",
              "3        0.709627  0.414303   1.692516e-07  0.354263                T21824A   \n",
              "4        0.584100  0.414303   1.119654e-07  0.354774                D88865A   \n",
              "...           ...       ...            ...       ...                    ...   \n",
              "149996   0.040000  0.414382   5.631123e-08  0.355547                D20434A   \n",
              "149997   0.049038  0.414353   7.077383e-08  0.357346                D10223C   \n",
              "149998   0.049189  0.414333   2.367321e-08  0.357962                T51102A   \n",
              "149999   0.049006  0.414372   2.110279e-08  0.869979                L88342B   \n",
              "150000   0.052622  0.414326   9.385948e-06  0.487357                D41377B   \n",
              "\n",
              "        Avg RTT DL (ms)  Avg RTT UL (ms)  Avg Bearer TP DL (kbps)  \\\n",
              "0              0.000433         0.000702                 0.000061   \n",
              "1              0.000671         0.000702                 0.000042   \n",
              "2              0.001133         0.002481                 0.000016   \n",
              "3              0.001133         0.002481                 0.000116   \n",
              "4              0.001133         0.002481                 0.000016   \n",
              "...                 ...              ...                      ...   \n",
              "149996         0.000330         0.000000                 0.000138   \n",
              "149997         0.000279         0.000281                 0.000061   \n",
              "149998         0.000444         0.000843                 0.000114   \n",
              "149999         0.000382         0.000702                 0.000090   \n",
              "150000         0.001133         0.002481                 0.035170   \n",
              "\n",
              "        Avg Bearer TP UL (kbps)  TCP DL Retrans. Vol (Bytes)  \\\n",
              "0                      0.000751                     0.004846   \n",
              "1                      0.000444                     0.004846   \n",
              "2                      0.000154                     0.004846   \n",
              "3                      0.000751                     0.004846   \n",
              "4                      0.000154                     0.004846   \n",
              "...                         ...                          ...   \n",
              "149996                 0.001109                     0.004846   \n",
              "149997                 0.000921                     0.004846   \n",
              "149998                 0.000802                     0.004846   \n",
              "149999                 0.000631                     0.004846   \n",
              "150000                 0.030205                     0.004846   \n",
              "\n",
              "        TCP UL Retrans. Vol (Bytes)  DL TP < 50 Kbps (%)  \\\n",
              "0                          0.000261             1.000000   \n",
              "1                          0.000261             1.000000   \n",
              "2                          0.000261             1.000000   \n",
              "3                          0.000261             1.000000   \n",
              "4                          0.000261             1.000000   \n",
              "...                             ...                  ...   \n",
              "149996                     0.000261             1.000000   \n",
              "149997                     0.000261             1.000000   \n",
              "149998                     0.000261             1.000000   \n",
              "149999                     0.000261             1.000000   \n",
              "150000                     0.000261             0.928448   \n",
              "\n",
              "        50 Kbps < DL TP < 250 Kbps (%)  250 Kbps < DL TP < 1 Mbps (%)  \\\n",
              "0                             0.000000                       0.000000   \n",
              "1                             0.000000                       0.000000   \n",
              "2                             0.000000                       0.000000   \n",
              "3                             0.000000                       0.000000   \n",
              "4                             0.000000                       0.000000   \n",
              "...                                ...                            ...   \n",
              "149996                        0.000000                       0.000000   \n",
              "149997                        0.000000                       0.000000   \n",
              "149998                        0.000000                       0.000000   \n",
              "149999                        0.000000                       0.000000   \n",
              "150000                        0.033004                       0.017173   \n",
              "\n",
              "        DL TP > 1 Mbps (%)  UL TP < 10 Kbps (%)  \\\n",
              "0                 0.000000             1.000000   \n",
              "1                 0.000000             1.000000   \n",
              "2                 0.000000             1.000000   \n",
              "3                 0.000000             1.000000   \n",
              "4                 0.000000             1.000000   \n",
              "...                    ...                  ...   \n",
              "149996            0.000000             1.000000   \n",
              "149997            0.000000             1.000000   \n",
              "149998            0.000000             1.000000   \n",
              "149999            0.000000             1.000000   \n",
              "150000            0.017124             0.985301   \n",
              "\n",
              "        10 Kbps < UL TP < 50 Kbps (%)  50 Kbps < UL TP < 300 Kbps (%)  \\\n",
              "0                            0.000000                         0.00000   \n",
              "1                            0.000000                         0.00000   \n",
              "2                            0.000000                         0.00000   \n",
              "3                            0.000000                         0.00000   \n",
              "4                            0.000000                         0.00000   \n",
              "...                               ...                             ...   \n",
              "149996                       0.000000                         0.00000   \n",
              "149997                       0.000000                         0.00000   \n",
              "149998                       0.000000                         0.00000   \n",
              "149999                       0.000000                         0.00000   \n",
              "150000                       0.007926                         0.00148   \n",
              "\n",
              "        UL TP > 300 Kbps (%)  HTTP DL (Bytes)  HTTP UL (Bytes)  \\\n",
              "0                   0.000000         0.001578         0.002173   \n",
              "1                   0.000000         0.001578         0.002173   \n",
              "2                   0.000000         0.001578         0.002173   \n",
              "3                   0.000000         0.001578         0.002173   \n",
              "4                   0.000000         0.001578         0.002173   \n",
              "...                      ...              ...              ...   \n",
              "149996              0.000000         0.001578         0.002173   \n",
              "149997              0.000000         0.001578         0.002173   \n",
              "149998              0.000000         0.001578         0.002173   \n",
              "149999              0.000000         0.001578         0.002173   \n",
              "150000              0.000822         0.001578         0.002173   \n",
              "\n",
              "        Activity Duration DL (ms)  Activity Duration UL (ms)  Dur. (ms).1  \\\n",
              "0                        0.000276                   0.000268     0.980734   \n",
              "1                        0.000001                   0.000025     0.733164   \n",
              "2                        0.000000                   0.000000     0.731360   \n",
              "3                        0.000024                   0.000261     0.709627   \n",
              "4                        0.000000                   0.000000     0.584100   \n",
              "...                           ...                        ...          ...   \n",
              "149996                   0.000310                   0.000289     0.040000   \n",
              "149997                   0.000126                   0.000116     0.049038   \n",
              "149998                   0.000183                   0.000198     0.049188   \n",
              "149999                   0.000098                   0.000235     0.049005   \n",
              "150000                   0.013397                   0.009722     0.052622   \n",
              "\n",
              "       Handset Manufacturer                 Handset Type  \\\n",
              "0                   Samsung   Samsung Galaxy A5 Sm-A520F   \n",
              "1                   Samsung  Samsung Galaxy J5 (Sm-J530)   \n",
              "2                   Samsung     Samsung Galaxy A8 (2018)   \n",
              "3                     Apple             Huawei B528S-23A   \n",
              "4                   Samsung             Samsung Sm-G390F   \n",
              "...                     ...                          ...   \n",
              "149996                Apple  Apple iPhone 8 Plus (A1897)   \n",
              "149997                Apple      Apple iPhone Se (A1723)   \n",
              "149998                Apple      Apple iPhone Xs (A2097)   \n",
              "149999               Huawei               Huawei Fig-Lx1   \n",
              "150000                Apple             Huawei B528S-23A   \n",
              "\n",
              "        Nb of sec with 125000B < Vol DL  \\\n",
              "0                              0.012135   \n",
              "1                              0.012135   \n",
              "2                              0.012135   \n",
              "3                              0.012135   \n",
              "4                              0.012135   \n",
              "...                                 ...   \n",
              "149996                         0.012135   \n",
              "149997                         0.012135   \n",
              "149998                         0.012135   \n",
              "149999                         0.012135   \n",
              "150000                         0.012135   \n",
              "\n",
              "        Nb of sec with 1250B < Vol UL < 6250B  \\\n",
              "0                                    0.003974   \n",
              "1                                    0.003974   \n",
              "2                                    0.003974   \n",
              "3                                    0.003974   \n",
              "4                                    0.003974   \n",
              "...                                       ...   \n",
              "149996                               0.003974   \n",
              "149997                               0.003974   \n",
              "149998                               0.003974   \n",
              "149999                               0.003974   \n",
              "150000                               0.003974   \n",
              "\n",
              "        Nb of sec with 31250B < Vol DL < 125000B  \\\n",
              "0                                       0.013838   \n",
              "1                                       0.013838   \n",
              "2                                       0.013838   \n",
              "3                                       0.013838   \n",
              "4                                       0.013838   \n",
              "...                                          ...   \n",
              "149996                                  0.013838   \n",
              "149997                                  0.013838   \n",
              "149998                                  0.013838   \n",
              "149999                                  0.013838   \n",
              "150000                                  0.013838   \n",
              "\n",
              "        Nb of sec with 37500B < Vol UL  \\\n",
              "0                             0.002933   \n",
              "1                             0.002933   \n",
              "2                             0.002933   \n",
              "3                             0.002933   \n",
              "4                             0.002933   \n",
              "...                                ...   \n",
              "149996                        0.002933   \n",
              "149997                        0.002933   \n",
              "149998                        0.002933   \n",
              "149999                        0.002933   \n",
              "150000                        0.002933   \n",
              "\n",
              "        Nb of sec with 6250B < Vol DL < 31250B  \\\n",
              "0                                     0.014414   \n",
              "1                                     0.014414   \n",
              "2                                     0.014414   \n",
              "3                                     0.014414   \n",
              "4                                     0.014414   \n",
              "...                                        ...   \n",
              "149996                                0.014414   \n",
              "149997                                0.014414   \n",
              "149998                                0.014414   \n",
              "149999                                0.014414   \n",
              "150000                                0.014414   \n",
              "\n",
              "        Nb of sec with 6250B < Vol UL < 37500B  Nb of sec with Vol DL < 6250B  \\\n",
              "0                                     0.002831                       0.000351   \n",
              "1                                     0.002831                       0.001606   \n",
              "2                                     0.002831                       0.001242   \n",
              "3                                     0.002831                       0.000026   \n",
              "4                                     0.002831                       0.001003   \n",
              "...                                        ...                            ...   \n",
              "149996                                0.002831                       0.000368   \n",
              "149997                                0.002831                       0.000172   \n",
              "149998                                0.002831                       0.000171   \n",
              "149999                                0.002831                       0.000070   \n",
              "150000                                0.002831                       0.006156   \n",
              "\n",
              "        Nb of sec with Vol UL < 1250B  Social Media DL (Bytes)  \\\n",
              "0                            0.000353                 0.431046   \n",
              "1                            0.001690                 0.537109   \n",
              "2                            0.001149                 0.469609   \n",
              "3                            0.000341                 0.179615   \n",
              "4                            0.000998                 0.240540   \n",
              "...                               ...                      ...   \n",
              "149996                       0.000377                 0.966233   \n",
              "149997                       0.000167                 0.653799   \n",
              "149998                       0.000177                 0.347411   \n",
              "149999                       0.000134                 0.223515   \n",
              "150000                       0.006656                 0.500637   \n",
              "\n",
              "        Social Media UL (Bytes)  Google DL (Bytes)  Google UL (Bytes)  \\\n",
              "0                      0.370730           0.142574           0.308498   \n",
              "1                      0.108775           0.304792           0.223269   \n",
              "2                      0.641020           0.744581           0.411045   \n",
              "3                      0.203006           0.787213           0.676483   \n",
              "4                      0.761925           0.545083           0.364093   \n",
              "...                         ...                ...                ...   \n",
              "149996                 0.790815           0.869556           0.683588   \n",
              "149997                 0.115576           0.194477           0.530393   \n",
              "149998                 0.218521           0.335934           0.663514   \n",
              "149999                 0.327342           0.365498           0.865611   \n",
              "150000                 0.499900           0.501678           0.498996   \n",
              "\n",
              "        Email DL (Bytes)  Email UL (Bytes)  Youtube DL (Bytes)  \\\n",
              "0               0.993697          0.147114            0.681651   \n",
              "1               0.175407          0.329274            0.870515   \n",
              "2               0.750150          0.718667            0.848083   \n",
              "3               0.401474          0.674088            0.919559   \n",
              "4               0.539992          0.185656            0.656060   \n",
              "...                  ...               ...                 ...   \n",
              "149996          0.016069          0.676233            0.696143   \n",
              "149997          0.544988          0.178662            0.596636   \n",
              "149998          0.425450          0.568701            0.974264   \n",
              "149999          0.621354          0.664920            0.379081   \n",
              "150000          0.499623          0.499107            0.500193   \n",
              "\n",
              "        Youtube UL (Bytes)  Netflix DL (Bytes)  Netflix UL (Bytes)  \\\n",
              "0                 0.113631            0.352502            0.438681   \n",
              "1                 0.868242            0.788437            0.782626   \n",
              "2                 0.667798            0.756165            0.280002   \n",
              "3                 0.688108            0.601682            0.049878   \n",
              "4                 0.861480            0.736250            0.018862   \n",
              "...                    ...                 ...                 ...   \n",
              "149996            0.534408            0.768887            0.893976   \n",
              "149997            0.376532            0.831935            0.967345   \n",
              "149998            0.084309            0.428386            0.230136   \n",
              "149999            0.377310            0.142835            0.598428   \n",
              "150000            0.500153            0.499881            0.499807   \n",
              "\n",
              "        Gaming DL (Bytes)  Gaming UL (Bytes)  Other DL (Bytes)  \\\n",
              "0                0.329697           0.866255          0.203620   \n",
              "1                0.721744           0.070697          0.624705   \n",
              "2                0.272198           0.023889          0.486922   \n",
              "3                0.947947           0.655223          0.888074   \n",
              "4                0.625658           0.213165          0.652929   \n",
              "...                   ...                ...               ...   \n",
              "149996           0.624357           0.555426          0.003867   \n",
              "149997           0.743255           0.285950          0.844373   \n",
              "149998           0.656285           0.808894          0.143576   \n",
              "149999           0.417972           0.152754          0.965938   \n",
              "150000           0.500382           0.500542          0.499262   \n",
              "\n",
              "        Other UL (Bytes)  Total UL (Bytes)  Total DL (Bytes)  \n",
              "0               0.532304          0.448991          0.336846  \n",
              "1               0.909191          0.674934          0.721401  \n",
              "2               0.254587          0.331504          0.304394  \n",
              "3               0.772836          0.536111          0.936439  \n",
              "4               0.840054          0.472752          0.627361  \n",
              "...                  ...               ...               ...  \n",
              "149996          0.814514          0.725666          0.632983  \n",
              "149997          0.148418          0.480600          0.736207  \n",
              "149998          0.683303          0.424642          0.653758  \n",
              "149999          0.084957          0.354594          0.407188  \n",
              "150000          0.499113          0.506919          0.499555  \n",
              "\n",
              "[150001 rows x 55 columns]"
            ],
            "text/html": [
              "\n",
              "  <div id=\"df-94ed4027-f1c9-4441-9ce7-9b5f6b2c5dd8\">\n",
              "    <div class=\"colab-df-container\">\n",
              "      <div>\n",
              "<style scoped>\n",
              "    .dataframe tbody tr th:only-of-type {\n",
              "        vertical-align: middle;\n",
              "    }\n",
              "\n",
              "    .dataframe tbody tr th {\n",
              "        vertical-align: top;\n",
              "    }\n",
              "\n",
              "    .dataframe thead th {\n",
              "        text-align: right;\n",
              "    }\n",
              "</style>\n",
              "<table border=\"1\" class=\"dataframe\">\n",
              "  <thead>\n",
              "    <tr style=\"text-align: right;\">\n",
              "      <th></th>\n",
              "      <th>Bearer Id</th>\n",
              "      <th>Start</th>\n",
              "      <th>Start ms</th>\n",
              "      <th>End</th>\n",
              "      <th>End ms</th>\n",
              "      <th>Dur. (ms)</th>\n",
              "      <th>IMSI</th>\n",
              "      <th>MSISDN/Number</th>\n",
              "      <th>IMEI</th>\n",
              "      <th>Last Location Name</th>\n",
              "      <th>Avg RTT DL (ms)</th>\n",
              "      <th>Avg RTT UL (ms)</th>\n",
              "      <th>Avg Bearer TP DL (kbps)</th>\n",
              "      <th>Avg Bearer TP UL (kbps)</th>\n",
              "      <th>TCP DL Retrans. Vol (Bytes)</th>\n",
              "      <th>TCP UL Retrans. Vol (Bytes)</th>\n",
              "      <th>DL TP &lt; 50 Kbps (%)</th>\n",
              "      <th>50 Kbps &lt; DL TP &lt; 250 Kbps (%)</th>\n",
              "      <th>250 Kbps &lt; DL TP &lt; 1 Mbps (%)</th>\n",
              "      <th>DL TP &gt; 1 Mbps (%)</th>\n",
              "      <th>UL TP &lt; 10 Kbps (%)</th>\n",
              "      <th>10 Kbps &lt; UL TP &lt; 50 Kbps (%)</th>\n",
              "      <th>50 Kbps &lt; UL TP &lt; 300 Kbps (%)</th>\n",
              "      <th>UL TP &gt; 300 Kbps (%)</th>\n",
              "      <th>HTTP DL (Bytes)</th>\n",
              "      <th>HTTP UL (Bytes)</th>\n",
              "      <th>Activity Duration DL (ms)</th>\n",
              "      <th>Activity Duration UL (ms)</th>\n",
              "      <th>Dur. (ms).1</th>\n",
              "      <th>Handset Manufacturer</th>\n",
              "      <th>Handset Type</th>\n",
              "      <th>Nb of sec with 125000B &lt; Vol DL</th>\n",
              "      <th>Nb of sec with 1250B &lt; Vol UL &lt; 6250B</th>\n",
              "      <th>Nb of sec with 31250B &lt; Vol DL &lt; 125000B</th>\n",
              "      <th>Nb of sec with 37500B &lt; Vol UL</th>\n",
              "      <th>Nb of sec with 6250B &lt; Vol DL &lt; 31250B</th>\n",
              "      <th>Nb of sec with 6250B &lt; Vol UL &lt; 37500B</th>\n",
              "      <th>Nb of sec with Vol DL &lt; 6250B</th>\n",
              "      <th>Nb of sec with Vol UL &lt; 1250B</th>\n",
              "      <th>Social Media DL (Bytes)</th>\n",
              "      <th>Social Media UL (Bytes)</th>\n",
              "      <th>Google DL (Bytes)</th>\n",
              "      <th>Google UL (Bytes)</th>\n",
              "      <th>Email DL (Bytes)</th>\n",
              "      <th>Email UL (Bytes)</th>\n",
              "      <th>Youtube DL (Bytes)</th>\n",
              "      <th>Youtube UL (Bytes)</th>\n",
              "      <th>Netflix DL (Bytes)</th>\n",
              "      <th>Netflix UL (Bytes)</th>\n",
              "      <th>Gaming DL (Bytes)</th>\n",
              "      <th>Gaming UL (Bytes)</th>\n",
              "      <th>Other DL (Bytes)</th>\n",
              "      <th>Other UL (Bytes)</th>\n",
              "      <th>Total UL (Bytes)</th>\n",
              "      <th>Total DL (Bytes)</th>\n",
              "    </tr>\n",
              "  </thead>\n",
              "  <tbody>\n",
              "    <tr>\n",
              "      <th>0</th>\n",
              "      <td>0.988506</td>\n",
              "      <td>4/4/2019 12:01</td>\n",
              "      <td>0.770771</td>\n",
              "      <td>4/25/2019 14:35</td>\n",
              "      <td>0.662663</td>\n",
              "      <td>0.980734</td>\n",
              "      <td>0.414307</td>\n",
              "      <td>7.248772e-08</td>\n",
              "      <td>0.355933</td>\n",
              "      <td>9.16456699548519E+015</td>\n",
              "      <td>0.000433</td>\n",
              "      <td>0.000702</td>\n",
              "      <td>0.000061</td>\n",
              "      <td>0.000751</td>\n",
              "      <td>0.004846</td>\n",
              "      <td>0.000261</td>\n",
              "      <td>1.000000</td>\n",
              "      <td>0.000000</td>\n",
              "      <td>0.000000</td>\n",
              "      <td>0.000000</td>\n",
              "      <td>1.000000</td>\n",
              "      <td>0.000000</td>\n",
              "      <td>0.00000</td>\n",
              "      <td>0.000000</td>\n",
              "      <td>0.001578</td>\n",
              "      <td>0.002173</td>\n",
              "      <td>0.000276</td>\n",
              "      <td>0.000268</td>\n",
              "      <td>0.980734</td>\n",
              "      <td>Samsung</td>\n",
              "      <td>Samsung Galaxy A5 Sm-A520F</td>\n",
              "      <td>0.012135</td>\n",
              "      <td>0.003974</td>\n",
              "      <td>0.013838</td>\n",
              "      <td>0.002933</td>\n",
              "      <td>0.014414</td>\n",
              "      <td>0.002831</td>\n",
              "      <td>0.000351</td>\n",
              "      <td>0.000353</td>\n",
              "      <td>0.431046</td>\n",
              "      <td>0.370730</td>\n",
              "      <td>0.142574</td>\n",
              "      <td>0.308498</td>\n",
              "      <td>0.993697</td>\n",
              "      <td>0.147114</td>\n",
              "      <td>0.681651</td>\n",
              "      <td>0.113631</td>\n",
              "      <td>0.352502</td>\n",
              "      <td>0.438681</td>\n",
              "      <td>0.329697</td>\n",
              "      <td>0.866255</td>\n",
              "      <td>0.203620</td>\n",
              "      <td>0.532304</td>\n",
              "      <td>0.448991</td>\n",
              "      <td>0.336846</td>\n",
              "    </tr>\n",
              "    <tr>\n",
              "      <th>1</th>\n",
              "      <td>0.988506</td>\n",
              "      <td>4/9/2019 13:04</td>\n",
              "      <td>0.235235</td>\n",
              "      <td>4/25/2019 8:15</td>\n",
              "      <td>0.606607</td>\n",
              "      <td>0.733164</td>\n",
              "      <td>0.414353</td>\n",
              "      <td>9.163195e-08</td>\n",
              "      <td>0.358701</td>\n",
              "      <td>L77566A</td>\n",
              "      <td>0.000671</td>\n",
              "      <td>0.000702</td>\n",
              "      <td>0.000042</td>\n",
              "      <td>0.000444</td>\n",
              "      <td>0.004846</td>\n",
              "      <td>0.000261</td>\n",
              "      <td>1.000000</td>\n",
              "      <td>0.000000</td>\n",
              "      <td>0.000000</td>\n",
              "      <td>0.000000</td>\n",
              "      <td>1.000000</td>\n",
              "      <td>0.000000</td>\n",
              "      <td>0.00000</td>\n",
              "      <td>0.000000</td>\n",
              "      <td>0.001578</td>\n",
              "      <td>0.002173</td>\n",
              "      <td>0.000001</td>\n",
              "      <td>0.000025</td>\n",
              "      <td>0.733164</td>\n",
              "      <td>Samsung</td>\n",
              "      <td>Samsung Galaxy J5 (Sm-J530)</td>\n",
              "      <td>0.012135</td>\n",
              "      <td>0.003974</td>\n",
              "      <td>0.013838</td>\n",
              "      <td>0.002933</td>\n",
              "      <td>0.014414</td>\n",
              "      <td>0.002831</td>\n",
              "      <td>0.001606</td>\n",
              "      <td>0.001690</td>\n",
              "      <td>0.537109</td>\n",
              "      <td>0.108775</td>\n",
              "      <td>0.304792</td>\n",
              "      <td>0.223269</td>\n",
              "      <td>0.175407</td>\n",
              "      <td>0.329274</td>\n",
              "      <td>0.870515</td>\n",
              "      <td>0.868242</td>\n",
              "      <td>0.788437</td>\n",
              "      <td>0.782626</td>\n",
              "      <td>0.721744</td>\n",
              "      <td>0.070697</td>\n",
              "      <td>0.624705</td>\n",
              "      <td>0.909191</td>\n",
              "      <td>0.674934</td>\n",
              "      <td>0.721401</td>\n",
              "    </tr>\n",
              "    <tr>\n",
              "      <th>2</th>\n",
              "      <td>0.988506</td>\n",
              "      <td>4/9/2019 17:42</td>\n",
              "      <td>0.001001</td>\n",
              "      <td>4/25/2019 11:58</td>\n",
              "      <td>0.652653</td>\n",
              "      <td>0.731360</td>\n",
              "      <td>0.414194</td>\n",
              "      <td>1.809066e-07</td>\n",
              "      <td>0.353501</td>\n",
              "      <td>D42335A</td>\n",
              "      <td>0.001133</td>\n",
              "      <td>0.002481</td>\n",
              "      <td>0.000016</td>\n",
              "      <td>0.000154</td>\n",
              "      <td>0.004846</td>\n",
              "      <td>0.000261</td>\n",
              "      <td>1.000000</td>\n",
              "      <td>0.000000</td>\n",
              "      <td>0.000000</td>\n",
              "      <td>0.000000</td>\n",
              "      <td>1.000000</td>\n",
              "      <td>0.000000</td>\n",
              "      <td>0.00000</td>\n",
              "      <td>0.000000</td>\n",
              "      <td>0.001578</td>\n",
              "      <td>0.002173</td>\n",
              "      <td>0.000000</td>\n",
              "      <td>0.000000</td>\n",
              "      <td>0.731360</td>\n",
              "      <td>Samsung</td>\n",
              "      <td>Samsung Galaxy A8 (2018)</td>\n",
              "      <td>0.012135</td>\n",
              "      <td>0.003974</td>\n",
              "      <td>0.013838</td>\n",
              "      <td>0.002933</td>\n",
              "      <td>0.014414</td>\n",
              "      <td>0.002831</td>\n",
              "      <td>0.001242</td>\n",
              "      <td>0.001149</td>\n",
              "      <td>0.469609</td>\n",
              "      <td>0.641020</td>\n",
              "      <td>0.744581</td>\n",
              "      <td>0.411045</td>\n",
              "      <td>0.750150</td>\n",
              "      <td>0.718667</td>\n",
              "      <td>0.848083</td>\n",
              "      <td>0.667798</td>\n",
              "      <td>0.756165</td>\n",
              "      <td>0.280002</td>\n",
              "      <td>0.272198</td>\n",
              "      <td>0.023889</td>\n",
              "      <td>0.486922</td>\n",
              "      <td>0.254587</td>\n",
              "      <td>0.331504</td>\n",
              "      <td>0.304394</td>\n",
              "    </tr>\n",
              "    <tr>\n",
              "      <th>3</th>\n",
              "      <td>0.988506</td>\n",
              "      <td>4/10/2019 0:31</td>\n",
              "      <td>0.486486</td>\n",
              "      <td>4/25/2019 7:36</td>\n",
              "      <td>0.171171</td>\n",
              "      <td>0.709627</td>\n",
              "      <td>0.414303</td>\n",
              "      <td>1.692516e-07</td>\n",
              "      <td>0.354263</td>\n",
              "      <td>T21824A</td>\n",
              "      <td>0.001133</td>\n",
              "      <td>0.002481</td>\n",
              "      <td>0.000116</td>\n",
              "      <td>0.000751</td>\n",
              "      <td>0.004846</td>\n",
              "      <td>0.000261</td>\n",
              "      <td>1.000000</td>\n",
              "      <td>0.000000</td>\n",
              "      <td>0.000000</td>\n",
              "      <td>0.000000</td>\n",
              "      <td>1.000000</td>\n",
              "      <td>0.000000</td>\n",
              "      <td>0.00000</td>\n",
              "      <td>0.000000</td>\n",
              "      <td>0.001578</td>\n",
              "      <td>0.002173</td>\n",
              "      <td>0.000024</td>\n",
              "      <td>0.000261</td>\n",
              "      <td>0.709627</td>\n",
              "      <td>Apple</td>\n",
              "      <td>Huawei B528S-23A</td>\n",
              "      <td>0.012135</td>\n",
              "      <td>0.003974</td>\n",
              "      <td>0.013838</td>\n",
              "      <td>0.002933</td>\n",
              "      <td>0.014414</td>\n",
              "      <td>0.002831</td>\n",
              "      <td>0.000026</td>\n",
              "      <td>0.000341</td>\n",
              "      <td>0.179615</td>\n",
              "      <td>0.203006</td>\n",
              "      <td>0.787213</td>\n",
              "      <td>0.676483</td>\n",
              "      <td>0.401474</td>\n",
              "      <td>0.674088</td>\n",
              "      <td>0.919559</td>\n",
              "      <td>0.688108</td>\n",
              "      <td>0.601682</td>\n",
              "      <td>0.049878</td>\n",
              "      <td>0.947947</td>\n",
              "      <td>0.655223</td>\n",
              "      <td>0.888074</td>\n",
              "      <td>0.772836</td>\n",
              "      <td>0.536111</td>\n",
              "      <td>0.936439</td>\n",
              "    </tr>\n",
              "    <tr>\n",
              "      <th>4</th>\n",
              "      <td>0.988506</td>\n",
              "      <td>4/12/2019 20:10</td>\n",
              "      <td>0.565566</td>\n",
              "      <td>4/25/2019 10:40</td>\n",
              "      <td>0.954955</td>\n",
              "      <td>0.584100</td>\n",
              "      <td>0.414303</td>\n",
              "      <td>1.119654e-07</td>\n",
              "      <td>0.354774</td>\n",
              "      <td>D88865A</td>\n",
              "      <td>0.001133</td>\n",
              "      <td>0.002481</td>\n",
              "      <td>0.000016</td>\n",
              "      <td>0.000154</td>\n",
              "      <td>0.004846</td>\n",
              "      <td>0.000261</td>\n",
              "      <td>1.000000</td>\n",
              "      <td>0.000000</td>\n",
              "      <td>0.000000</td>\n",
              "      <td>0.000000</td>\n",
              "      <td>1.000000</td>\n",
              "      <td>0.000000</td>\n",
              "      <td>0.00000</td>\n",
              "      <td>0.000000</td>\n",
              "      <td>0.001578</td>\n",
              "      <td>0.002173</td>\n",
              "      <td>0.000000</td>\n",
              "      <td>0.000000</td>\n",
              "      <td>0.584100</td>\n",
              "      <td>Samsung</td>\n",
              "      <td>Samsung Sm-G390F</td>\n",
              "      <td>0.012135</td>\n",
              "      <td>0.003974</td>\n",
              "      <td>0.013838</td>\n",
              "      <td>0.002933</td>\n",
              "      <td>0.014414</td>\n",
              "      <td>0.002831</td>\n",
              "      <td>0.001003</td>\n",
              "      <td>0.000998</td>\n",
              "      <td>0.240540</td>\n",
              "      <td>0.761925</td>\n",
              "      <td>0.545083</td>\n",
              "      <td>0.364093</td>\n",
              "      <td>0.539992</td>\n",
              "      <td>0.185656</td>\n",
              "      <td>0.656060</td>\n",
              "      <td>0.861480</td>\n",
              "      <td>0.736250</td>\n",
              "      <td>0.018862</td>\n",
              "      <td>0.625658</td>\n",
              "      <td>0.213165</td>\n",
              "      <td>0.652929</td>\n",
              "      <td>0.840054</td>\n",
              "      <td>0.472752</td>\n",
              "      <td>0.627361</td>\n",
              "    </tr>\n",
              "    <tr>\n",
              "      <th>...</th>\n",
              "      <td>...</td>\n",
              "      <td>...</td>\n",
              "      <td>...</td>\n",
              "      <td>...</td>\n",
              "      <td>...</td>\n",
              "      <td>...</td>\n",
              "      <td>...</td>\n",
              "      <td>...</td>\n",
              "      <td>...</td>\n",
              "      <td>...</td>\n",
              "      <td>...</td>\n",
              "      <td>...</td>\n",
              "      <td>...</td>\n",
              "      <td>...</td>\n",
              "      <td>...</td>\n",
              "      <td>...</td>\n",
              "      <td>...</td>\n",
              "      <td>...</td>\n",
              "      <td>...</td>\n",
              "      <td>...</td>\n",
              "      <td>...</td>\n",
              "      <td>...</td>\n",
              "      <td>...</td>\n",
              "      <td>...</td>\n",
              "      <td>...</td>\n",
              "      <td>...</td>\n",
              "      <td>...</td>\n",
              "      <td>...</td>\n",
              "      <td>...</td>\n",
              "      <td>...</td>\n",
              "      <td>...</td>\n",
              "      <td>...</td>\n",
              "      <td>...</td>\n",
              "      <td>...</td>\n",
              "      <td>...</td>\n",
              "      <td>...</td>\n",
              "      <td>...</td>\n",
              "      <td>...</td>\n",
              "      <td>...</td>\n",
              "      <td>...</td>\n",
              "      <td>...</td>\n",
              "      <td>...</td>\n",
              "      <td>...</td>\n",
              "      <td>...</td>\n",
              "      <td>...</td>\n",
              "      <td>...</td>\n",
              "      <td>...</td>\n",
              "      <td>...</td>\n",
              "      <td>...</td>\n",
              "      <td>...</td>\n",
              "      <td>...</td>\n",
              "      <td>...</td>\n",
              "      <td>...</td>\n",
              "      <td>...</td>\n",
              "      <td>...</td>\n",
              "    </tr>\n",
              "    <tr>\n",
              "      <th>149996</th>\n",
              "      <td>0.057471</td>\n",
              "      <td>4/29/2019 7:28</td>\n",
              "      <td>0.451451</td>\n",
              "      <td>4/30/2019 6:02</td>\n",
              "      <td>0.214214</td>\n",
              "      <td>0.040000</td>\n",
              "      <td>0.414382</td>\n",
              "      <td>5.631123e-08</td>\n",
              "      <td>0.355547</td>\n",
              "      <td>D20434A</td>\n",
              "      <td>0.000330</td>\n",
              "      <td>0.000000</td>\n",
              "      <td>0.000138</td>\n",
              "      <td>0.001109</td>\n",
              "      <td>0.004846</td>\n",
              "      <td>0.000261</td>\n",
              "      <td>1.000000</td>\n",
              "      <td>0.000000</td>\n",
              "      <td>0.000000</td>\n",
              "      <td>0.000000</td>\n",
              "      <td>1.000000</td>\n",
              "      <td>0.000000</td>\n",
              "      <td>0.00000</td>\n",
              "      <td>0.000000</td>\n",
              "      <td>0.001578</td>\n",
              "      <td>0.002173</td>\n",
              "      <td>0.000310</td>\n",
              "      <td>0.000289</td>\n",
              "      <td>0.040000</td>\n",
              "      <td>Apple</td>\n",
              "      <td>Apple iPhone 8 Plus (A1897)</td>\n",
              "      <td>0.012135</td>\n",
              "      <td>0.003974</td>\n",
              "      <td>0.013838</td>\n",
              "      <td>0.002933</td>\n",
              "      <td>0.014414</td>\n",
              "      <td>0.002831</td>\n",
              "      <td>0.000368</td>\n",
              "      <td>0.000377</td>\n",
              "      <td>0.966233</td>\n",
              "      <td>0.790815</td>\n",
              "      <td>0.869556</td>\n",
              "      <td>0.683588</td>\n",
              "      <td>0.016069</td>\n",
              "      <td>0.676233</td>\n",
              "      <td>0.696143</td>\n",
              "      <td>0.534408</td>\n",
              "      <td>0.768887</td>\n",
              "      <td>0.893976</td>\n",
              "      <td>0.624357</td>\n",
              "      <td>0.555426</td>\n",
              "      <td>0.003867</td>\n",
              "      <td>0.814514</td>\n",
              "      <td>0.725666</td>\n",
              "      <td>0.632983</td>\n",
              "    </tr>\n",
              "    <tr>\n",
              "      <th>149997</th>\n",
              "      <td>0.068966</td>\n",
              "      <td>4/29/2019 7:28</td>\n",
              "      <td>0.483483</td>\n",
              "      <td>4/30/2019 10:41</td>\n",
              "      <td>0.187187</td>\n",
              "      <td>0.049038</td>\n",
              "      <td>0.414353</td>\n",
              "      <td>7.077383e-08</td>\n",
              "      <td>0.357346</td>\n",
              "      <td>D10223C</td>\n",
              "      <td>0.000279</td>\n",
              "      <td>0.000281</td>\n",
              "      <td>0.000061</td>\n",
              "      <td>0.000921</td>\n",
              "      <td>0.004846</td>\n",
              "      <td>0.000261</td>\n",
              "      <td>1.000000</td>\n",
              "      <td>0.000000</td>\n",
              "      <td>0.000000</td>\n",
              "      <td>0.000000</td>\n",
              "      <td>1.000000</td>\n",
              "      <td>0.000000</td>\n",
              "      <td>0.00000</td>\n",
              "      <td>0.000000</td>\n",
              "      <td>0.001578</td>\n",
              "      <td>0.002173</td>\n",
              "      <td>0.000126</td>\n",
              "      <td>0.000116</td>\n",
              "      <td>0.049038</td>\n",
              "      <td>Apple</td>\n",
              "      <td>Apple iPhone Se (A1723)</td>\n",
              "      <td>0.012135</td>\n",
              "      <td>0.003974</td>\n",
              "      <td>0.013838</td>\n",
              "      <td>0.002933</td>\n",
              "      <td>0.014414</td>\n",
              "      <td>0.002831</td>\n",
              "      <td>0.000172</td>\n",
              "      <td>0.000167</td>\n",
              "      <td>0.653799</td>\n",
              "      <td>0.115576</td>\n",
              "      <td>0.194477</td>\n",
              "      <td>0.530393</td>\n",
              "      <td>0.544988</td>\n",
              "      <td>0.178662</td>\n",
              "      <td>0.596636</td>\n",
              "      <td>0.376532</td>\n",
              "      <td>0.831935</td>\n",
              "      <td>0.967345</td>\n",
              "      <td>0.743255</td>\n",
              "      <td>0.285950</td>\n",
              "      <td>0.844373</td>\n",
              "      <td>0.148418</td>\n",
              "      <td>0.480600</td>\n",
              "      <td>0.736207</td>\n",
              "    </tr>\n",
              "    <tr>\n",
              "      <th>149998</th>\n",
              "      <td>0.988506</td>\n",
              "      <td>4/29/2019 7:28</td>\n",
              "      <td>0.283283</td>\n",
              "      <td>4/30/2019 10:46</td>\n",
              "      <td>0.810811</td>\n",
              "      <td>0.049189</td>\n",
              "      <td>0.414333</td>\n",
              "      <td>2.367321e-08</td>\n",
              "      <td>0.357962</td>\n",
              "      <td>T51102A</td>\n",
              "      <td>0.000444</td>\n",
              "      <td>0.000843</td>\n",
              "      <td>0.000114</td>\n",
              "      <td>0.000802</td>\n",
              "      <td>0.004846</td>\n",
              "      <td>0.000261</td>\n",
              "      <td>1.000000</td>\n",
              "      <td>0.000000</td>\n",
              "      <td>0.000000</td>\n",
              "      <td>0.000000</td>\n",
              "      <td>1.000000</td>\n",
              "      <td>0.000000</td>\n",
              "      <td>0.00000</td>\n",
              "      <td>0.000000</td>\n",
              "      <td>0.001578</td>\n",
              "      <td>0.002173</td>\n",
              "      <td>0.000183</td>\n",
              "      <td>0.000198</td>\n",
              "      <td>0.049188</td>\n",
              "      <td>Apple</td>\n",
              "      <td>Apple iPhone Xs (A2097)</td>\n",
              "      <td>0.012135</td>\n",
              "      <td>0.003974</td>\n",
              "      <td>0.013838</td>\n",
              "      <td>0.002933</td>\n",
              "      <td>0.014414</td>\n",
              "      <td>0.002831</td>\n",
              "      <td>0.000171</td>\n",
              "      <td>0.000177</td>\n",
              "      <td>0.347411</td>\n",
              "      <td>0.218521</td>\n",
              "      <td>0.335934</td>\n",
              "      <td>0.663514</td>\n",
              "      <td>0.425450</td>\n",
              "      <td>0.568701</td>\n",
              "      <td>0.974264</td>\n",
              "      <td>0.084309</td>\n",
              "      <td>0.428386</td>\n",
              "      <td>0.230136</td>\n",
              "      <td>0.656285</td>\n",
              "      <td>0.808894</td>\n",
              "      <td>0.143576</td>\n",
              "      <td>0.683303</td>\n",
              "      <td>0.424642</td>\n",
              "      <td>0.653758</td>\n",
              "    </tr>\n",
              "    <tr>\n",
              "      <th>149999</th>\n",
              "      <td>0.988506</td>\n",
              "      <td>4/29/2019 7:28</td>\n",
              "      <td>0.696697</td>\n",
              "      <td>4/30/2019 10:40</td>\n",
              "      <td>0.327327</td>\n",
              "      <td>0.049006</td>\n",
              "      <td>0.414372</td>\n",
              "      <td>2.110279e-08</td>\n",
              "      <td>0.869979</td>\n",
              "      <td>L88342B</td>\n",
              "      <td>0.000382</td>\n",
              "      <td>0.000702</td>\n",
              "      <td>0.000090</td>\n",
              "      <td>0.000631</td>\n",
              "      <td>0.004846</td>\n",
              "      <td>0.000261</td>\n",
              "      <td>1.000000</td>\n",
              "      <td>0.000000</td>\n",
              "      <td>0.000000</td>\n",
              "      <td>0.000000</td>\n",
              "      <td>1.000000</td>\n",
              "      <td>0.000000</td>\n",
              "      <td>0.00000</td>\n",
              "      <td>0.000000</td>\n",
              "      <td>0.001578</td>\n",
              "      <td>0.002173</td>\n",
              "      <td>0.000098</td>\n",
              "      <td>0.000235</td>\n",
              "      <td>0.049005</td>\n",
              "      <td>Huawei</td>\n",
              "      <td>Huawei Fig-Lx1</td>\n",
              "      <td>0.012135</td>\n",
              "      <td>0.003974</td>\n",
              "      <td>0.013838</td>\n",
              "      <td>0.002933</td>\n",
              "      <td>0.014414</td>\n",
              "      <td>0.002831</td>\n",
              "      <td>0.000070</td>\n",
              "      <td>0.000134</td>\n",
              "      <td>0.223515</td>\n",
              "      <td>0.327342</td>\n",
              "      <td>0.365498</td>\n",
              "      <td>0.865611</td>\n",
              "      <td>0.621354</td>\n",
              "      <td>0.664920</td>\n",
              "      <td>0.379081</td>\n",
              "      <td>0.377310</td>\n",
              "      <td>0.142835</td>\n",
              "      <td>0.598428</td>\n",
              "      <td>0.417972</td>\n",
              "      <td>0.152754</td>\n",
              "      <td>0.965938</td>\n",
              "      <td>0.084957</td>\n",
              "      <td>0.354594</td>\n",
              "      <td>0.407188</td>\n",
              "    </tr>\n",
              "    <tr>\n",
              "      <th>150000</th>\n",
              "      <td>0.513852</td>\n",
              "      <td>4/26/2019 7:25</td>\n",
              "      <td>0.499688</td>\n",
              "      <td>4/25/2019 0:01</td>\n",
              "      <td>0.499300</td>\n",
              "      <td>0.052622</td>\n",
              "      <td>0.414326</td>\n",
              "      <td>9.385948e-06</td>\n",
              "      <td>0.487357</td>\n",
              "      <td>D41377B</td>\n",
              "      <td>0.001133</td>\n",
              "      <td>0.002481</td>\n",
              "      <td>0.035170</td>\n",
              "      <td>0.030205</td>\n",
              "      <td>0.004846</td>\n",
              "      <td>0.000261</td>\n",
              "      <td>0.928448</td>\n",
              "      <td>0.033004</td>\n",
              "      <td>0.017173</td>\n",
              "      <td>0.017124</td>\n",
              "      <td>0.985301</td>\n",
              "      <td>0.007926</td>\n",
              "      <td>0.00148</td>\n",
              "      <td>0.000822</td>\n",
              "      <td>0.001578</td>\n",
              "      <td>0.002173</td>\n",
              "      <td>0.013397</td>\n",
              "      <td>0.009722</td>\n",
              "      <td>0.052622</td>\n",
              "      <td>Apple</td>\n",
              "      <td>Huawei B528S-23A</td>\n",
              "      <td>0.012135</td>\n",
              "      <td>0.003974</td>\n",
              "      <td>0.013838</td>\n",
              "      <td>0.002933</td>\n",
              "      <td>0.014414</td>\n",
              "      <td>0.002831</td>\n",
              "      <td>0.006156</td>\n",
              "      <td>0.006656</td>\n",
              "      <td>0.500637</td>\n",
              "      <td>0.499900</td>\n",
              "      <td>0.501678</td>\n",
              "      <td>0.498996</td>\n",
              "      <td>0.499623</td>\n",
              "      <td>0.499107</td>\n",
              "      <td>0.500193</td>\n",
              "      <td>0.500153</td>\n",
              "      <td>0.499881</td>\n",
              "      <td>0.499807</td>\n",
              "      <td>0.500382</td>\n",
              "      <td>0.500542</td>\n",
              "      <td>0.499262</td>\n",
              "      <td>0.499113</td>\n",
              "      <td>0.506919</td>\n",
              "      <td>0.499555</td>\n",
              "    </tr>\n",
              "  </tbody>\n",
              "</table>\n",
              "<p>150001 rows × 55 columns</p>\n",
              "</div>\n",
              "      <button class=\"colab-df-convert\" onclick=\"convertToInteractive('df-94ed4027-f1c9-4441-9ce7-9b5f6b2c5dd8')\"\n",
              "              title=\"Convert this dataframe to an interactive table.\"\n",
              "              style=\"display:none;\">\n",
              "        \n",
              "  <svg xmlns=\"http://www.w3.org/2000/svg\" height=\"24px\"viewBox=\"0 0 24 24\"\n",
              "       width=\"24px\">\n",
              "    <path d=\"M0 0h24v24H0V0z\" fill=\"none\"/>\n",
              "    <path d=\"M18.56 5.44l.94 2.06.94-2.06 2.06-.94-2.06-.94-.94-2.06-.94 2.06-2.06.94zm-11 1L8.5 8.5l.94-2.06 2.06-.94-2.06-.94L8.5 2.5l-.94 2.06-2.06.94zm10 10l.94 2.06.94-2.06 2.06-.94-2.06-.94-.94-2.06-.94 2.06-2.06.94z\"/><path d=\"M17.41 7.96l-1.37-1.37c-.4-.4-.92-.59-1.43-.59-.52 0-1.04.2-1.43.59L10.3 9.45l-7.72 7.72c-.78.78-.78 2.05 0 2.83L4 21.41c.39.39.9.59 1.41.59.51 0 1.02-.2 1.41-.59l7.78-7.78 2.81-2.81c.8-.78.8-2.07 0-2.86zM5.41 20L4 18.59l7.72-7.72 1.47 1.35L5.41 20z\"/>\n",
              "  </svg>\n",
              "      </button>\n",
              "      \n",
              "  <style>\n",
              "    .colab-df-container {\n",
              "      display:flex;\n",
              "      flex-wrap:wrap;\n",
              "      gap: 12px;\n",
              "    }\n",
              "\n",
              "    .colab-df-convert {\n",
              "      background-color: #E8F0FE;\n",
              "      border: none;\n",
              "      border-radius: 50%;\n",
              "      cursor: pointer;\n",
              "      display: none;\n",
              "      fill: #1967D2;\n",
              "      height: 32px;\n",
              "      padding: 0 0 0 0;\n",
              "      width: 32px;\n",
              "    }\n",
              "\n",
              "    .colab-df-convert:hover {\n",
              "      background-color: #E2EBFA;\n",
              "      box-shadow: 0px 1px 2px rgba(60, 64, 67, 0.3), 0px 1px 3px 1px rgba(60, 64, 67, 0.15);\n",
              "      fill: #174EA6;\n",
              "    }\n",
              "\n",
              "    [theme=dark] .colab-df-convert {\n",
              "      background-color: #3B4455;\n",
              "      fill: #D2E3FC;\n",
              "    }\n",
              "\n",
              "    [theme=dark] .colab-df-convert:hover {\n",
              "      background-color: #434B5C;\n",
              "      box-shadow: 0px 1px 3px 1px rgba(0, 0, 0, 0.15);\n",
              "      filter: drop-shadow(0px 1px 2px rgba(0, 0, 0, 0.3));\n",
              "      fill: #FFFFFF;\n",
              "    }\n",
              "  </style>\n",
              "\n",
              "      <script>\n",
              "        const buttonEl =\n",
              "          document.querySelector('#df-94ed4027-f1c9-4441-9ce7-9b5f6b2c5dd8 button.colab-df-convert');\n",
              "        buttonEl.style.display =\n",
              "          google.colab.kernel.accessAllowed ? 'block' : 'none';\n",
              "\n",
              "        async function convertToInteractive(key) {\n",
              "          const element = document.querySelector('#df-94ed4027-f1c9-4441-9ce7-9b5f6b2c5dd8');\n",
              "          const dataTable =\n",
              "            await google.colab.kernel.invokeFunction('convertToInteractive',\n",
              "                                                     [key], {});\n",
              "          if (!dataTable) return;\n",
              "\n",
              "          const docLinkHtml = 'Like what you see? Visit the ' +\n",
              "            '<a target=\"_blank\" href=https://colab.research.google.com/notebooks/data_table.ipynb>data table notebook</a>'\n",
              "            + ' to learn more about interactive tables.';\n",
              "          element.innerHTML = '';\n",
              "          dataTable['output_type'] = 'display_data';\n",
              "          await google.colab.output.renderOutput(dataTable, element);\n",
              "          const docLink = document.createElement('div');\n",
              "          docLink.innerHTML = docLinkHtml;\n",
              "          element.appendChild(docLink);\n",
              "        }\n",
              "      </script>\n",
              "    </div>\n",
              "  </div>\n",
              "  "
            ]
          },
          "metadata": {},
          "execution_count": 103
        }
      ]
    },
    {
      "cell_type": "markdown",
      "source": [
        "### Min values in each column"
      ],
      "metadata": {
        "id": "nXfo2ie-Vsoo"
      },
      "id": "nXfo2ie-Vsoo"
    },
    {
      "cell_type": "code",
      "execution_count": 104,
      "id": "887126c7",
      "metadata": {
        "id": "887126c7",
        "colab": {
          "base_uri": "https://localhost:8080/"
        },
        "outputId": "a7cef21c-1a28-47b7-fc74-6a4e49c38eba"
      },
      "outputs": [
        {
          "output_type": "execute_result",
          "data": {
            "text/plain": [
              "Bearer Id                                                     6917537518543529984.0\n",
              "Start                                                                4/10/2019 0:31\n",
              "Start ms                                                                        0.0\n",
              "End                                                                 4/24/2019 22:59\n",
              "End ms                                                                          0.0\n",
              "Dur. (ms)                                                                    7142.0\n",
              "IMSI                                                              204047108489451.0\n",
              "MSISDN/Number                                                         33601001722.0\n",
              "IMEI                                                                 440015202000.0\n",
              "Last Location Name                                            1.53279754934046E+017\n",
              "Avg RTT DL (ms)                                                                 0.0\n",
              "Avg RTT UL (ms)                                                                 0.0\n",
              "Avg Bearer TP DL (kbps)                                                         0.0\n",
              "Avg Bearer TP UL (kbps)                                                         0.0\n",
              "TCP DL Retrans. Vol (Bytes)                                                     2.0\n",
              "TCP UL Retrans. Vol (Bytes)                                                     1.0\n",
              "DL TP < 50 Kbps (%)                                                             0.0\n",
              "50 Kbps < DL TP < 250 Kbps (%)                                                  0.0\n",
              "250 Kbps < DL TP < 1 Mbps (%)                                                   0.0\n",
              "DL TP > 1 Mbps (%)                                                              0.0\n",
              "UL TP < 10 Kbps (%)                                                             0.0\n",
              "10 Kbps < UL TP < 50 Kbps (%)                                                   0.0\n",
              "50 Kbps < UL TP < 300 Kbps (%)                                                  0.0\n",
              "UL TP > 300 Kbps (%)                                                            0.0\n",
              "HTTP DL (Bytes)                                                                40.0\n",
              "HTTP UL (Bytes)                                                                40.0\n",
              "Activity Duration DL (ms)                                                       0.0\n",
              "Activity Duration UL (ms)                                                       0.0\n",
              "Dur. (ms).1                                                               7142988.0\n",
              "Handset Manufacturer                        A-Link Telecom International Co Limited\n",
              "Handset Type                                             A-Link Telecom I. Cubot A5\n",
              "Nb of sec with 125000B < Vol DL                                                 1.0\n",
              "Nb of sec with 1250B < Vol UL < 6250B                                           1.0\n",
              "Nb of sec with 31250B < Vol DL < 125000B                                        1.0\n",
              "Nb of sec with 37500B < Vol UL                                                  1.0\n",
              "Nb of sec with 6250B < Vol DL < 31250B                                          1.0\n",
              "Nb of sec with 6250B < Vol UL < 37500B                                          1.0\n",
              "Nb of sec with Vol DL < 6250B                                                   1.0\n",
              "Nb of sec with Vol UL < 1250B                                                   1.0\n",
              "Social Media DL (Bytes)                                                        12.0\n",
              "Social Media UL (Bytes)                                                         0.0\n",
              "Google DL (Bytes)                                                             207.0\n",
              "Google UL (Bytes)                                                               3.0\n",
              "Email DL (Bytes)                                                               14.0\n",
              "Email UL (Bytes)                                                                2.0\n",
              "Youtube DL (Bytes)                                                             53.0\n",
              "Youtube UL (Bytes)                                                            105.0\n",
              "Netflix DL (Bytes)                                                             42.0\n",
              "Netflix UL (Bytes)                                                             35.0\n",
              "Gaming DL (Bytes)                                                            2516.0\n",
              "Gaming UL (Bytes)                                                              59.0\n",
              "Other DL (Bytes)                                                             3290.0\n",
              "Other UL (Bytes)                                                              148.0\n",
              "Total UL (Bytes)                                                          2866892.0\n",
              "Total DL (Bytes)                                                          7114041.0\n",
              "dtype: object"
            ]
          },
          "metadata": {},
          "execution_count": 104
        }
      ],
      "source": [
        "db.min()"
      ]
    },
    {
      "cell_type": "markdown",
      "source": [
        "### Max values in each column"
      ],
      "metadata": {
        "id": "gghF7dmbWBAn"
      },
      "id": "gghF7dmbWBAn"
    },
    {
      "cell_type": "code",
      "source": [
        "db.max()"
      ],
      "metadata": {
        "colab": {
          "base_uri": "https://localhost:8080/"
        },
        "id": "Ip3wE0-LVdaO",
        "outputId": "b8fb0106-3111-4aaa-91ef-53e2d1d57659"
      },
      "id": "Ip3wE0-LVdaO",
      "execution_count": 105,
      "outputs": [
        {
          "output_type": "execute_result",
          "data": {
            "text/plain": [
              "Bearer Id                                            13186541167134199808.0\n",
              "Start                                                         4/9/2019 9:47\n",
              "Start ms                                                              999.0\n",
              "End                                                          4/30/2019 9:59\n",
              "End ms                                                                999.0\n",
              "Dur. (ms)                                                         1859336.0\n",
              "IMSI                                                      214074303349628.0\n",
              "MSISDN/Number                                             882397108489451.0\n",
              "IMEI                                                       99001201327774.0\n",
              "Last Location Name                                                  Y72157C\n",
              "Avg RTT DL (ms)                                                     96923.0\n",
              "Avg RTT UL (ms)                                                      7120.0\n",
              "Avg Bearer TP DL (kbps)                                            378160.0\n",
              "Avg Bearer TP UL (kbps)                                             58613.0\n",
              "TCP DL Retrans. Vol (Bytes)                                    4294425570.0\n",
              "TCP UL Retrans. Vol (Bytes)                                    2908226006.0\n",
              "DL TP < 50 Kbps (%)                                                   100.0\n",
              "50 Kbps < DL TP < 250 Kbps (%)                                         93.0\n",
              "250 Kbps < DL TP < 1 Mbps (%)                                         100.0\n",
              "DL TP > 1 Mbps (%)                                                     94.0\n",
              "UL TP < 10 Kbps (%)                                                   100.0\n",
              "10 Kbps < UL TP < 50 Kbps (%)                                          98.0\n",
              "50 Kbps < UL TP < 300 Kbps (%)                                        100.0\n",
              "UL TP > 300 Kbps (%)                                                   96.0\n",
              "HTTP DL (Bytes)                                               72530636168.0\n",
              "HTTP UL (Bytes)                                                1491889672.0\n",
              "Activity Duration DL (ms)                                       136536461.0\n",
              "Activity Duration UL (ms)                                       144911293.0\n",
              "Dur. (ms).1                                                    1859336442.0\n",
              "Handset Manufacturer                              Zyxel Communications Corp\n",
              "Handset Type                                Zyxel Communicat. Zyxel Wah7706\n",
              "Nb of sec with 125000B < Vol DL                                     81476.0\n",
              "Nb of sec with 1250B < Vol UL < 6250B                               85412.0\n",
              "Nb of sec with 31250B < Vol DL < 125000B                            58525.0\n",
              "Nb of sec with 37500B < Vol UL                                      50553.0\n",
              "Nb of sec with 6250B < Vol DL < 31250B                              66913.0\n",
              "Nb of sec with 6250B < Vol UL < 37500B                              49565.0\n",
              "Nb of sec with Vol DL < 6250B                                      604061.0\n",
              "Nb of sec with Vol UL < 1250B                                      604122.0\n",
              "Social Media DL (Bytes)                                           3586064.0\n",
              "Social Media UL (Bytes)                                             65870.0\n",
              "Google DL (Bytes)                                                11462832.0\n",
              "Google UL (Bytes)                                                 4121357.0\n",
              "Email DL (Bytes)                                                  3586146.0\n",
              "Email UL (Bytes)                                                   936418.0\n",
              "Youtube DL (Bytes)                                               23259098.0\n",
              "Youtube UL (Bytes)                                               22011962.0\n",
              "Netflix DL (Bytes)                                               23259189.0\n",
              "Netflix UL (Bytes)                                               22011955.0\n",
              "Gaming DL (Bytes)                                               843441889.0\n",
              "Gaming UL (Bytes)                                                16558794.0\n",
              "Other DL (Bytes)                                                843442489.0\n",
              "Other UL (Bytes)                                                 16558816.0\n",
              "Total UL (Bytes)                                                 78331311.0\n",
              "Total DL (Bytes)                                                902969616.0\n",
              "dtype: object"
            ]
          },
          "metadata": {},
          "execution_count": 105
        }
      ]
    },
    {
      "cell_type": "markdown",
      "source": [
        "### Difference between min and max values in each column"
      ],
      "metadata": {
        "id": "k-2x2TLFWG7o"
      },
      "id": "k-2x2TLFWG7o"
    },
    {
      "cell_type": "code",
      "source": [
        "# db.max() - db.min()"
      ],
      "metadata": {
        "id": "GKLdMidzVgMh"
      },
      "id": "GKLdMidzVgMh",
      "execution_count": 109,
      "outputs": []
    },
    {
      "cell_type": "code",
      "execution_count": 121,
      "id": "2c7ac099",
      "metadata": {
        "id": "2c7ac099",
        "colab": {
          "base_uri": "https://localhost:8080/",
          "height": 330
        },
        "outputId": "462e1034-a21d-4b99-d3a4-cadcc064ba3d"
      },
      "outputs": [
        {
          "output_type": "display_data",
          "data": {
            "text/plain": [
              "<Figure size 340.157x340.157 with 5 Axes>"
            ],
            "image/png": "[encoded data removed]"
          },
          "metadata": {
            "needs_background": "light"
          }
        }
      ],
      "source": [
        "def plotting_count(df):\n",
        "  num = df.select_dtypes(include=np.number)  # Get numeric columns\n",
        "  n = num.shape[1] # Number of cols\n",
        "\n",
        "  fig, axes = plt.subplots(5, 1, figsize=(12/2.54, 12/2.54))  # create subplots\n",
        "\n",
        "  for ax, col in zip(axes, num):  # For each column...\n",
        "      sns.distplot(num[col], ax=ax)   # Plot histogram\n",
        "      ax.axvline(num[col].mean(), c='k')  # Plot mean\n",
        "\n",
        "plotting_count(db)\n",
        "\n"
      ]
    },
    {
      "cell_type": "code",
      "source": [
        "db.head().plot(x=\"Dur. (ms)\", y=[\"Total UL (Bytes)\", \"Total DL (Bytes)\"],\n",
        "        kind=\"line\", figsize=(10, 6))"
      ],
      "metadata": {
        "colab": {
          "base_uri": "https://localhost:8080/",
          "height": 416
        },
        "id": "nA8hLQAgfLeg",
        "outputId": "d621287a-52c0-4780-f2d8-c534f43dc7ee"
      },
      "id": "nA8hLQAgfLeg",
      "execution_count": 127,
      "outputs": [
        {
          "output_type": "execute_result",
          "data": {
            "text/plain": [
              "<matplotlib.axes._subplots.AxesSubplot at 0x7f29377b5350>"
            ]
          },
          "metadata": {},
          "execution_count": 127
        },
        {
          "output_type": "display_data",
          "data": {
            "text/plain": [
              "<Figure size 720x432 with 1 Axes>"
            ],
            "image/png": "[encoded data removed]"
          },
          "metadata": {
            "needs_background": "light"
          }
        }
      ]
    },
    {
      "cell_type": "code",
      "execution_count": 137,
      "id": "168acc4d",
      "metadata": {
        "id": "168acc4d",
        "colab": {
          "base_uri": "https://localhost:8080/",
          "height": 265
        },
        "outputId": "2c1b0bae-9f89-4dae-e99a-07d6e31bd0c4"
      },
      "outputs": [
        {
          "output_type": "display_data",
          "data": {
            "text/plain": [
              "<Figure size 432x288 with 1 Axes>"
            ],
            "image/png": "[encoded data removed]"
          },
          "metadata": {
            "needs_background": "light"
          }
        }
      ],
      "source": [
        "# db.head().plot()\n",
        "\n",
        "def normalizer(df, col):\n",
        "    # norm = Normalizer()\n",
        "    # # normalize the exponential data with boxcox\n",
        "    # normalized_data = norm.fit_transform(df)\n",
        "    # # plot both together to compare\n",
        "    # fig, ax=plt.subplots(1,2, figsize=(10, 6))\n",
        "    # sns.histplot(df, ax=ax[0])\n",
        "    # ax[0].set_title(\"Original Data\")\n",
        "    # sns.histplot(normalized_data[0], ax=ax[1])\n",
        "    # ax[1].set_title(\"Normalized data\")\n",
        "    df[col].plot()\n",
        "\n",
        "db_num=db_sklearn.select_dtypes(include=np.number)\n",
        "# db_num\n",
        "normalizer(db_num, \"Dur. (ms)\")"
      ]
    },
    {
      "cell_type": "code",
      "execution_count": 134,
      "id": "2943df05",
      "metadata": {
        "id": "2943df05",
        "outputId": "e0083a15-75fe-4d44-cab1-138441087558",
        "colab": {
          "base_uri": "https://localhost:8080/"
        }
      },
      "outputs": [
        {
          "output_type": "stream",
          "name": "stdout",
          "text": [
            "<class 'pandas.core.frame.DataFrame'>\n",
            "RangeIndex: 150001 entries, 0 to 150000\n",
            "Data columns (total 55 columns):\n",
            " #   Column                                    Non-Null Count   Dtype  \n",
            "---  ------                                    --------------   -----  \n",
            " 0   Bearer Id                                 150001 non-null  float64\n",
            " 1   Start                                     150001 non-null  object \n",
            " 2   Start ms                                  150001 non-null  float64\n",
            " 3   End                                       150001 non-null  object \n",
            " 4   End ms                                    150001 non-null  float64\n",
            " 5   Dur. (ms)                                 150001 non-null  float64\n",
            " 6   IMSI                                      150001 non-null  float64\n",
            " 7   MSISDN/Number                             150001 non-null  float64\n",
            " 8   IMEI                                      150001 non-null  float64\n",
            " 9   Last Location Name                        150001 non-null  object \n",
            " 10  Avg RTT DL (ms)                           150001 non-null  float64\n",
            " 11  Avg RTT UL (ms)                           150001 non-null  float64\n",
            " 12  Avg Bearer TP DL (kbps)                   150001 non-null  float64\n",
            " 13  Avg Bearer TP UL (kbps)                   150001 non-null  float64\n",
            " 14  TCP DL Retrans. Vol (Bytes)               150001 non-null  float64\n",
            " 15  TCP UL Retrans. Vol (Bytes)               150001 non-null  float64\n",
            " 16  DL TP < 50 Kbps (%)                       150001 non-null  float64\n",
            " 17  50 Kbps < DL TP < 250 Kbps (%)            150001 non-null  float64\n",
            " 18  250 Kbps < DL TP < 1 Mbps (%)             150001 non-null  float64\n",
            " 19  DL TP > 1 Mbps (%)                        150001 non-null  float64\n",
            " 20  UL TP < 10 Kbps (%)                       150001 non-null  float64\n",
            " 21  10 Kbps < UL TP < 50 Kbps (%)             150001 non-null  float64\n",
            " 22  50 Kbps < UL TP < 300 Kbps (%)            150001 non-null  float64\n",
            " 23  UL TP > 300 Kbps (%)                      150001 non-null  float64\n",
            " 24  HTTP DL (Bytes)                           150001 non-null  float64\n",
            " 25  HTTP UL (Bytes)                           150001 non-null  float64\n",
            " 26  Activity Duration DL (ms)                 150001 non-null  float64\n",
            " 27  Activity Duration UL (ms)                 150001 non-null  float64\n",
            " 28  Dur. (ms).1                               150001 non-null  float64\n",
            " 29  Handset Manufacturer                      150001 non-null  object \n",
            " 30  Handset Type                              150001 non-null  object \n",
            " 31  Nb of sec with 125000B < Vol DL           150001 non-null  float64\n",
            " 32  Nb of sec with 1250B < Vol UL < 6250B     150001 non-null  float64\n",
            " 33  Nb of sec with 31250B < Vol DL < 125000B  150001 non-null  float64\n",
            " 34  Nb of sec with 37500B < Vol UL            150001 non-null  float64\n",
            " 35  Nb of sec with 6250B < Vol DL < 31250B    150001 non-null  float64\n",
            " 36  Nb of sec with 6250B < Vol UL < 37500B    150001 non-null  float64\n",
            " 37  Nb of sec with Vol DL < 6250B             150001 non-null  float64\n",
            " 38  Nb of sec with Vol UL < 1250B             150001 non-null  float64\n",
            " 39  Social Media DL (Bytes)                   150001 non-null  float64\n",
            " 40  Social Media UL (Bytes)                   150001 non-null  float64\n",
            " 41  Google DL (Bytes)                         150001 non-null  float64\n",
            " 42  Google UL (Bytes)                         150001 non-null  float64\n",
            " 43  Email DL (Bytes)                          150001 non-null  float64\n",
            " 44  Email UL (Bytes)                          150001 non-null  float64\n",
            " 45  Youtube DL (Bytes)                        150001 non-null  float64\n",
            " 46  Youtube UL (Bytes)                        150001 non-null  float64\n",
            " 47  Netflix DL (Bytes)                        150001 non-null  float64\n",
            " 48  Netflix UL (Bytes)                        150001 non-null  float64\n",
            " 49  Gaming DL (Bytes)                         150001 non-null  float64\n",
            " 50  Gaming UL (Bytes)                         150001 non-null  float64\n",
            " 51  Other DL (Bytes)                          150001 non-null  float64\n",
            " 52  Other UL (Bytes)                          150001 non-null  float64\n",
            " 53  Total UL (Bytes)                          150001 non-null  float64\n",
            " 54  Total DL (Bytes)                          150001 non-null  float64\n",
            "dtypes: float64(50), object(5)\n",
            "memory usage: 62.9+ MB\n"
          ]
        }
      ],
      "source": [
        "# check datatypes\n",
        "db.info()"
      ]
    },
    {
      "cell_type": "code",
      "execution_count": null,
      "id": "bef899e2",
      "metadata": {
        "id": "bef899e2"
      },
      "outputs": [],
      "source": [
        "# df_clean.info()"
      ]
    },
    {
      "cell_type": "code",
      "execution_count": null,
      "id": "f02225e2",
      "metadata": {
        "id": "f02225e2"
      },
      "outputs": [],
      "source": [
        "# df_clean['fix_age'].unique()"
      ]
    },
    {
      "cell_type": "code",
      "execution_count": null,
      "id": "a6b036ac",
      "metadata": {
        "id": "a6b036ac"
      },
      "outputs": [],
      "source": [
        "   \n",
        "# df_clean['age'] = [ ((int(i.split('-')[0]) + int(i.split('-')[1])) / 2)  for i in df_clean['fix_age']]"
      ]
    },
    {
      "cell_type": "markdown",
      "id": "f640ccb4",
      "metadata": {
        "id": "f640ccb4"
      },
      "source": [
        "## Utility Functions"
      ]
    },
    {
      "cell_type": "code",
      "execution_count": null,
      "id": "42f432b8",
      "metadata": {
        "id": "42f432b8"
      },
      "outputs": [],
      "source": [
        "# # Function to calculate missing values by column\n",
        "# def missing_values_table(df):\n",
        "#     # Total missing values\n",
        "#     mis_val = df.isnull().sum()\n",
        "\n",
        "#     # Percentage of missing values\n",
        "#     mis_val_percent = 100 * df.isnull().sum() / len(df)\n",
        "\n",
        "#     # dtype of missing values\n",
        "#     mis_val_dtype = df.dtypes\n",
        "\n",
        "#     # Make a table with the results\n",
        "#     mis_val_table = pd.concat([mis_val, mis_val_percent, mis_val_dtype], axis=1)\n",
        "\n",
        "#     # Rename the columns\n",
        "#     mis_val_table_ren_columns = mis_val_table.rename(\n",
        "#     columns = {0 : 'Missing Values', 1 : '% of Total Values', 2: 'Dtype'})\n",
        "\n",
        "#     # Sort the table by percentage of missing descending\n",
        "#     mis_val_table_ren_columns = mis_val_table_ren_columns[\n",
        "#         mis_val_table_ren_columns.iloc[:,1] != 0].sort_values(\n",
        "#     '% of Total Values', ascending=False).round(1)\n",
        "\n",
        "#     # Print some summary information\n",
        "#     print (\"Your selected dataframe has \" + str(df.shape[1]) + \" columns.\\n\"      \n",
        "#         \"There are \" + str(mis_val_table_ren_columns.shape[0]) +\n",
        "#           \" columns that have missing values.\")\n",
        "\n",
        "#     # Return the dataframe with missing information\n",
        "#     return mis_val_table_ren_columns\n",
        "\n",
        "# def format_float(value):\n",
        "#     return f'{value:,.2f}'\n",
        "\n",
        "# def find_agg(df:pd.DataFrame, agg_column:str, agg_metric:str, col_name:str, top:int, order=False )->pd.DataFrame:\n",
        "    \n",
        "#     new_df = df.groupby(agg_column)[agg_column].agg(agg_metric).reset_index(name=col_name).\\\n",
        "#                         sort_values(by=col_name, ascending=order)[:top]\n",
        "    \n",
        "#     return new_df\n",
        "\n",
        "# def convert_bytes_to_megabytes(df, bytes_data):\n",
        "#     \"\"\"\n",
        "#         This function takes the dataframe and the column which has the bytes values\n",
        "#         returns the megabytesof that value\n",
        "        \n",
        "#         Args:\n",
        "#         -----\n",
        "#         df: dataframe\n",
        "#         bytes_data: column with bytes values\n",
        "        \n",
        "#         Returns:\n",
        "#         --------\n",
        "#         A series\n",
        "#     \"\"\"\n",
        "    \n",
        "#     megabyte = 1*10e+5\n",
        "#     df[bytes_data] = df[bytes_data] / megabyte\n",
        "    \n",
        "#     return df[bytes_data]\n",
        "\n",
        "# pd.options.display.float_format = format_float"
      ]
    },
    {
      "cell_type": "markdown",
      "id": "0646f25b",
      "metadata": {
        "id": "0646f25b"
      },
      "source": [
        "## Extracting Data"
      ]
    },
    {
      "cell_type": "code",
      "execution_count": null,
      "id": "7903d60c",
      "metadata": {
        "id": "7903d60c"
      },
      "outputs": [],
      "source": [
        "# db['readmitted'].value_counts()"
      ]
    },
    {
      "cell_type": "code",
      "execution_count": null,
      "id": "17d1d430",
      "metadata": {
        "id": "17d1d430"
      },
      "outputs": [],
      "source": [
        "# percent_missing(df_clean)"
      ]
    },
    {
      "cell_type": "code",
      "execution_count": null,
      "id": "15163169",
      "metadata": {
        "id": "15163169"
      },
      "outputs": [],
      "source": [
        "# missing_values_table(df_clean)"
      ]
    },
    {
      "cell_type": "code",
      "execution_count": null,
      "id": "18e49f6d",
      "metadata": {
        "id": "18e49f6d"
      },
      "outputs": [],
      "source": [
        "# def map_readmitted(col):\n",
        "#     readmitted_map = {'NO' : 'NO', '>30': 'YES', '<30': 'YES'}\n",
        "#     return col.map(readmitted_map)\n",
        "# # \n",
        "# db['fix_readmitted'] = map_readmitted(db['readmitted'])"
      ]
    },
    {
      "cell_type": "code",
      "execution_count": null,
      "id": "ff11ea66",
      "metadata": {
        "id": "ff11ea66"
      },
      "outputs": [],
      "source": [
        "# unique encounter id\n",
        "# db['change'].unique()"
      ]
    },
    {
      "cell_type": "code",
      "execution_count": null,
      "id": "816de463",
      "metadata": {
        "id": "816de463"
      },
      "outputs": [],
      "source": [
        "# db.shape"
      ]
    },
    {
      "cell_type": "code",
      "execution_count": null,
      "id": "52bae06a",
      "metadata": {
        "id": "52bae06a"
      },
      "outputs": [],
      "source": [
        "# pd.set_option('max_column', None)\n",
        "# df = pd.read_excel(\"/content/drive/Shareddrives/10 Academy/Intensive training/Batch 6/Content-B6/Week-1/data/Week1_challenge_data_source.xlsx\", engine = 'openpyxl')\n",
        "# df.head()"
      ]
    },
    {
      "cell_type": "markdown",
      "source": [
        "### Mean and Mediam of some vital attributes"
      ],
      "metadata": {
        "id": "str8jKngNOGT"
      },
      "id": "str8jKngNOGT"
    },
    {
      "cell_type": "code",
      "source": [
        "columns = ['Social Media DL (Bytes)', 'Social Media UL (Bytes)',\n",
        "           'Google DL (Bytes)', 'Google UL (Bytes)','Total UL (Bytes)', 'Total DL (Bytes)']\n",
        "db[columns].mean()"
      ],
      "metadata": {
        "id": "B7WFB58yMV-Z"
      },
      "id": "B7WFB58yMV-Z",
      "execution_count": null,
      "outputs": []
    },
    {
      "cell_type": "code",
      "source": [
        "db[columns].median()"
      ],
      "metadata": {
        "id": "kBkuMvgtNLNL"
      },
      "id": "kBkuMvgtNLNL",
      "execution_count": null,
      "outputs": []
    },
    {
      "cell_type": "markdown",
      "source": [
        "### Univariate analysis"
      ],
      "metadata": {
        "id": "eXrsf2IiN_zI"
      },
      "id": "eXrsf2IiN_zI"
    },
    {
      "cell_type": "code",
      "source": [
        "import seaborn as sns\n",
        "import matplotlib.pyplot as plt\n",
        "import numpy as np\n",
        "sns.set_style('darkgrid')\n",
        "sns.set(font_scale=1.3)"
      ],
      "metadata": {
        "id": "R1e0sUFENZom"
      },
      "id": "R1e0sUFENZom",
      "execution_count": null,
      "outputs": []
    },
    {
      "cell_type": "markdown",
      "source": [
        "### Non-graphical Univariat EDA"
      ],
      "metadata": {
        "id": "x-pxo6bNQYcd"
      },
      "id": "x-pxo6bNQYcd"
    },
    {
      "cell_type": "code",
      "source": [
        "db.describe()"
      ],
      "metadata": {
        "id": "Opt9pyBqOGxO"
      },
      "id": "Opt9pyBqOGxO",
      "execution_count": null,
      "outputs": []
    },
    {
      "cell_type": "code",
      "source": [
        "db.info()"
      ],
      "metadata": {
        "id": "BydtQM9vQcTm"
      },
      "id": "BydtQM9vQcTm",
      "execution_count": null,
      "outputs": []
    },
    {
      "cell_type": "code",
      "source": [
        "db.isna().sum()"
      ],
      "metadata": {
        "id": "iEkWoes0Qf5r"
      },
      "id": "iEkWoes0Qf5r",
      "execution_count": null,
      "outputs": []
    },
    {
      "cell_type": "code",
      "source": [
        "db.isnull().sum()"
      ],
      "metadata": {
        "id": "maLG4q9GQokg"
      },
      "id": "maLG4q9GQokg",
      "execution_count": null,
      "outputs": []
    },
    {
      "cell_type": "markdown",
      "source": [
        "### Graphical Univariate EDA"
      ],
      "metadata": {
        "id": "rIxkFe0iQ2Vh"
      },
      "id": "rIxkFe0iQ2Vh"
    },
    {
      "cell_type": "code",
      "source": [
        "sns.histplot(x=columns[0], data =db)"
      ],
      "metadata": {
        "id": "KtiFioVsOUGj"
      },
      "id": "KtiFioVsOUGj",
      "execution_count": null,
      "outputs": []
    },
    {
      "cell_type": "code",
      "source": [
        "sns.histplot(x=columns[1], data =db)"
      ],
      "metadata": {
        "id": "fKa82-UQOhBE"
      },
      "id": "fKa82-UQOhBE",
      "execution_count": null,
      "outputs": []
    },
    {
      "cell_type": "code",
      "source": [
        "sns.histplot(x=db[columns]['Total UL (Bytes)'], data =db)"
      ],
      "metadata": {
        "id": "d5tNxGwdO_tP"
      },
      "id": "d5tNxGwdO_tP",
      "execution_count": null,
      "outputs": []
    },
    {
      "cell_type": "code",
      "source": [
        "sns.histplot(x=db[columns]['Total DL (Bytes)'], data =db)"
      ],
      "metadata": {
        "id": "fqc-9sBnPKH0"
      },
      "id": "fqc-9sBnPKH0",
      "execution_count": null,
      "outputs": []
    },
    {
      "cell_type": "markdown",
      "source": [
        "### Bivariate analysis"
      ],
      "metadata": {
        "id": "u6V_VWfJT20H"
      },
      "id": "u6V_VWfJT20H"
    },
    {
      "cell_type": "markdown",
      "source": [
        "# NB: The pivot_table() method took me too long to return the plot\n",
        "\n",
        "---\n",
        "\n"
      ],
      "metadata": {
        "id": "7q0zMbqSVZ7I"
      },
      "id": "7q0zMbqSVZ7I"
    },
    {
      "cell_type": "code",
      "source": [
        "# pd.pivot_table(db,columns =['Total DL (Bytes)','Social Media DL (Bytes)'])#,aggfunc=[np.sum])"
      ],
      "metadata": {
        "id": "CXDC0aQkPqLy"
      },
      "id": "CXDC0aQkPqLy",
      "execution_count": null,
      "outputs": []
    },
    {
      "cell_type": "code",
      "source": [
        "sns.regplot(x='Total DL (Bytes)',y='Social Media DL (Bytes)',data=db)\n",
        "# sns.countplot(x='Total DL (Bytes)',data=db) \n",
        "#boxplot, violinplot, stripplot, swarmplot, barplot also works"
      ],
      "metadata": {
        "id": "pTSZnPeqSShg"
      },
      "id": "pTSZnPeqSShg",
      "execution_count": null,
      "outputs": []
    },
    {
      "cell_type": "markdown",
      "source": [
        "### Correlation Analysis"
      ],
      "metadata": {
        "id": "X2OXmbRlVJ0Y"
      },
      "id": "X2OXmbRlVJ0Y"
    },
    {
      "cell_type": "code",
      "source": [
        "# db['Total UL (Bytes)'].corr(method='pearson')\n",
        "db.corr(method='pearson')"
      ],
      "metadata": {
        "id": "7cV1CItZS8gp"
      },
      "id": "7cV1CItZS8gp",
      "execution_count": null,
      "outputs": []
    },
    {
      "cell_type": "code",
      "source": [
        ""
      ],
      "metadata": {
        "id": "1tJyyd7rUiYr"
      },
      "id": "1tJyyd7rUiYr",
      "execution_count": null,
      "outputs": []
    }
  ],
  "metadata": {
    "kernelspec": {
      "display_name": "Python 3",
      "language": "python",
      "name": "python3"
    },
    "language_info": {
      "codemirror_mode": {
        "name": "ipython",
        "version": 3
      },
      "file_extension": ".py",
      "mimetype": "text/x-python",
      "name": "python",
      "nbconvert_exporter": "python",
      "pygments_lexer": "ipython3",
      "version": "3.9.5"
    },
    "colab": {
      "name": "UserOverviewAnalysis.ipynb",
      "provenance": [],
      "collapsed_sections": []
    }
  },
  "nbformat": 4,
  "nbformat_minor": 5
}