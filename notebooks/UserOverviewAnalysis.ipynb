{
  "cells": [
    {
      "cell_type": "markdown",
      "id": "aa4ed27a",
      "metadata": {
        "id": "aa4ed27a"
      },
      "source": [
        "## Module Imports"
      ]
    },
    {
      "cell_type": "code",
      "execution_count": 1,
      "id": "ee45d041",
      "metadata": {
        "id": "ee45d041"
      },
      "outputs": [],
      "source": [
        "import pandas as pd\n",
        "import numpy as np\n",
        "from sklearn import preprocessing\n",
        "from sklearn.preprocessing import Normalizer\n",
        "from sklearn.preprocessing import MinMaxScaler\n",
        "from matplotlib import pyplot as plt\n",
        "import seaborn as sns"
      ]
    },
    {
      "cell_type": "markdown",
      "source": [
        "### Mount Google Drive to Google Colab"
      ],
      "metadata": {
        "id": "FhOuq3a880aA"
      },
      "id": "FhOuq3a880aA"
    },
    {
      "cell_type": "code",
      "source": [
        "from google.colab import drive\n",
        "drive.mount('/content/drive')"
      ],
      "metadata": {
        "colab": {
          "base_uri": "https://localhost:8080/"
        },
        "id": "49URzGF-GcAN",
        "outputId": "895c5445-f2e1-43f6-eb2a-7d33a2dfb380"
      },
      "id": "49URzGF-GcAN",
      "execution_count": 2,
      "outputs": [
        {
          "output_type": "stream",
          "name": "stdout",
          "text": [
            "Drive already mounted at /content/drive; to attempt to forcibly remount, call drive.mount(\"/content/drive\", force_remount=True).\n"
          ]
        }
      ]
    },
    {
      "cell_type": "markdown",
      "source": [
        "# Data Understanding"
      ],
      "metadata": {
        "id": "i9-dwT1ifU_F"
      },
      "id": "i9-dwT1ifU_F"
    },
    {
      "cell_type": "markdown",
      "source": [
        "### **Identify datasets with NaN or None values**"
      ],
      "metadata": {
        "id": "ChJRgw2D9PfD"
      },
      "id": "ChJRgw2D9PfD"
    },
    {
      "cell_type": "code",
      "execution_count": 3,
      "id": "f1d57c38",
      "metadata": {
        "colab": {
          "base_uri": "https://localhost:8080/",
          "height": 583
        },
        "id": "f1d57c38",
        "outputId": "17b39bec-dc29-4562-cfbc-941ef3fae7d3"
      },
      "outputs": [
        {
          "output_type": "execute_result",
          "data": {
            "text/plain": [
              "      Bearer Id            Start  Start ms              End  End ms  \\\n",
              "0  1.311448e+19   4/4/2019 12:01     770.0  4/25/2019 14:35   662.0   \n",
              "1  1.311448e+19   4/9/2019 13:04     235.0   4/25/2019 8:15   606.0   \n",
              "2  1.311448e+19   4/9/2019 17:42       1.0  4/25/2019 11:58   652.0   \n",
              "3  1.311448e+19   4/10/2019 0:31     486.0   4/25/2019 7:36   171.0   \n",
              "4  1.311448e+19  4/12/2019 20:10     565.0  4/25/2019 10:40   954.0   \n",
              "\n",
              "   Dur. (ms)          IMSI  MSISDN/Number          IMEI  \\\n",
              "0  1823652.0  2.082014e+14   3.366496e+10  3.552121e+13   \n",
              "1  1365104.0  2.082019e+14   3.368185e+10  3.579401e+13   \n",
              "2  1361762.0  2.082003e+14   3.376063e+10  3.528151e+13   \n",
              "3  1321509.0  2.082014e+14   3.375034e+10  3.535661e+13   \n",
              "4  1089009.0  2.082014e+14   3.369980e+10  3.540701e+13   \n",
              "\n",
              "      Last Location Name  Avg RTT DL (ms)  Avg RTT UL (ms)  \\\n",
              "0  9.16456699548519E+015             42.0              5.0   \n",
              "1                L77566A             65.0              5.0   \n",
              "2                D42335A              NaN              NaN   \n",
              "3                T21824A              NaN              NaN   \n",
              "4                D88865A              NaN              NaN   \n",
              "\n",
              "   Avg Bearer TP DL (kbps)  Avg Bearer TP UL (kbps)  \\\n",
              "0                     23.0                     44.0   \n",
              "1                     16.0                     26.0   \n",
              "2                      6.0                      9.0   \n",
              "3                     44.0                     44.0   \n",
              "4                      6.0                      9.0   \n",
              "\n",
              "   TCP DL Retrans. Vol (Bytes)  TCP UL Retrans. Vol (Bytes)  \\\n",
              "0                          NaN                          NaN   \n",
              "1                          NaN                          NaN   \n",
              "2                          NaN                          NaN   \n",
              "3                          NaN                          NaN   \n",
              "4                          NaN                          NaN   \n",
              "\n",
              "   DL TP < 50 Kbps (%)  50 Kbps < DL TP < 250 Kbps (%)  \\\n",
              "0                100.0                             0.0   \n",
              "1                100.0                             0.0   \n",
              "2                100.0                             0.0   \n",
              "3                100.0                             0.0   \n",
              "4                100.0                             0.0   \n",
              "\n",
              "   250 Kbps < DL TP < 1 Mbps (%)  DL TP > 1 Mbps (%)  UL TP < 10 Kbps (%)  \\\n",
              "0                            0.0                 0.0                100.0   \n",
              "1                            0.0                 0.0                100.0   \n",
              "2                            0.0                 0.0                100.0   \n",
              "3                            0.0                 0.0                100.0   \n",
              "4                            0.0                 0.0                100.0   \n",
              "\n",
              "   10 Kbps < UL TP < 50 Kbps (%)  50 Kbps < UL TP < 300 Kbps (%)  \\\n",
              "0                            0.0                             0.0   \n",
              "1                            0.0                             0.0   \n",
              "2                            0.0                             0.0   \n",
              "3                            0.0                             0.0   \n",
              "4                            0.0                             0.0   \n",
              "\n",
              "   UL TP > 300 Kbps (%)  HTTP DL (Bytes)  HTTP UL (Bytes)  \\\n",
              "0                   0.0              NaN              NaN   \n",
              "1                   0.0              NaN              NaN   \n",
              "2                   0.0              NaN              NaN   \n",
              "3                   0.0              NaN              NaN   \n",
              "4                   0.0              NaN              NaN   \n",
              "\n",
              "   Activity Duration DL (ms)  Activity Duration UL (ms)   Dur. (ms).1  \\\n",
              "0                    37624.0                    38787.0  1.823653e+09   \n",
              "1                      168.0                     3560.0  1.365104e+09   \n",
              "2                        0.0                        0.0  1.361763e+09   \n",
              "3                     3330.0                    37882.0  1.321510e+09   \n",
              "4                        0.0                        0.0  1.089009e+09   \n",
              "\n",
              "  Handset Manufacturer                 Handset Type  \\\n",
              "0              Samsung   Samsung Galaxy A5 Sm-A520F   \n",
              "1              Samsung  Samsung Galaxy J5 (Sm-J530)   \n",
              "2              Samsung     Samsung Galaxy A8 (2018)   \n",
              "3                  NaN                          NaN   \n",
              "4              Samsung             Samsung Sm-G390F   \n",
              "\n",
              "   Nb of sec with 125000B < Vol DL  Nb of sec with 1250B < Vol UL < 6250B  \\\n",
              "0                              NaN                                    NaN   \n",
              "1                              NaN                                    NaN   \n",
              "2                              NaN                                    NaN   \n",
              "3                              NaN                                    NaN   \n",
              "4                              NaN                                    NaN   \n",
              "\n",
              "   Nb of sec with 31250B < Vol DL < 125000B  Nb of sec with 37500B < Vol UL  \\\n",
              "0                                       NaN                             NaN   \n",
              "1                                       NaN                             NaN   \n",
              "2                                       NaN                             NaN   \n",
              "3                                       NaN                             NaN   \n",
              "4                                       NaN                             NaN   \n",
              "\n",
              "   Nb of sec with 6250B < Vol DL < 31250B  \\\n",
              "0                                     NaN   \n",
              "1                                     NaN   \n",
              "2                                     NaN   \n",
              "3                                     NaN   \n",
              "4                                     NaN   \n",
              "\n",
              "   Nb of sec with 6250B < Vol UL < 37500B  Nb of sec with Vol DL < 6250B  \\\n",
              "0                                     NaN                          213.0   \n",
              "1                                     NaN                          971.0   \n",
              "2                                     NaN                          751.0   \n",
              "3                                     NaN                           17.0   \n",
              "4                                     NaN                          607.0   \n",
              "\n",
              "   Nb of sec with Vol UL < 1250B  Social Media DL (Bytes)  \\\n",
              "0                          214.0                1545765.0   \n",
              "1                         1022.0                1926113.0   \n",
              "2                          695.0                1684053.0   \n",
              "3                          207.0                 644121.0   \n",
              "4                          604.0                 862600.0   \n",
              "\n",
              "   Social Media UL (Bytes)  Google DL (Bytes)  Google UL (Bytes)  \\\n",
              "0                  24420.0          1634479.0          1271433.0   \n",
              "1                   7165.0          3493924.0           920172.0   \n",
              "2                  42224.0          8535055.0          1694064.0   \n",
              "3                  13372.0          9023734.0          2788027.0   \n",
              "4                  50188.0          6248284.0          1500559.0   \n",
              "\n",
              "   Email DL (Bytes)  Email UL (Bytes)  Youtube DL (Bytes)  Youtube UL (Bytes)  \\\n",
              "0         3563542.0          137762.0          15854611.0           2501332.0   \n",
              "1          629046.0          308339.0          20247395.0          19111729.0   \n",
              "2         2690151.0          672973.0          19725661.0          14699576.0   \n",
              "3         1439754.0          631229.0          21388122.0          15146643.0   \n",
              "4         1936496.0          173853.0          15259380.0          18962873.0   \n",
              "\n",
              "   Netflix DL (Bytes)  Netflix UL (Bytes)  Gaming DL (Bytes)  \\\n",
              "0           8198936.0           9656251.0        278082303.0   \n",
              "1          18338413.0          17227132.0        608750074.0   \n",
              "2          17587794.0           6163408.0        229584621.0   \n",
              "3          13994646.0           1097942.0        799538153.0   \n",
              "4          17124581.0            415218.0        527707248.0   \n",
              "\n",
              "   Gaming UL (Bytes)  Other DL (Bytes)  Other UL (Bytes)  Total UL (Bytes)  \\\n",
              "0         14344150.0       171744450.0         8814393.0        36749741.0   \n",
              "1          1170709.0       526904238.0        15055145.0        53800391.0   \n",
              "2           395630.0       410692588.0         4215763.0        27883638.0   \n",
              "3         10849722.0       749039933.0        12797283.0        43324218.0   \n",
              "4          3529801.0       550709500.0        13910322.0        38542814.0   \n",
              "\n",
              "   Total DL (Bytes)  \n",
              "0       308879636.0  \n",
              "1       653384965.0  \n",
              "2       279807335.0  \n",
              "3       846028530.0  \n",
              "4       569138589.0  "
            ],
            "text/html": [
              "\n",
              "  <div id=\"df-a4e20912-f1d8-4e2e-b0fb-4ba9d0591fc6\">\n",
              "    <div class=\"colab-df-container\">\n",
              "      <div>\n",
              "<style scoped>\n",
              "    .dataframe tbody tr th:only-of-type {\n",
              "        vertical-align: middle;\n",
              "    }\n",
              "\n",
              "    .dataframe tbody tr th {\n",
              "        vertical-align: top;\n",
              "    }\n",
              "\n",
              "    .dataframe thead th {\n",
              "        text-align: right;\n",
              "    }\n",
              "</style>\n",
              "<table border=\"1\" class=\"dataframe\">\n",
              "  <thead>\n",
              "    <tr style=\"text-align: right;\">\n",
              "      <th></th>\n",
              "      <th>Bearer Id</th>\n",
              "      <th>Start</th>\n",
              "      <th>Start ms</th>\n",
              "      <th>End</th>\n",
              "      <th>End ms</th>\n",
              "      <th>Dur. (ms)</th>\n",
              "      <th>IMSI</th>\n",
              "      <th>MSISDN/Number</th>\n",
              "      <th>IMEI</th>\n",
              "      <th>Last Location Name</th>\n",
              "      <th>Avg RTT DL (ms)</th>\n",
              "      <th>Avg RTT UL (ms)</th>\n",
              "      <th>Avg Bearer TP DL (kbps)</th>\n",
              "      <th>Avg Bearer TP UL (kbps)</th>\n",
              "      <th>TCP DL Retrans. Vol (Bytes)</th>\n",
              "      <th>TCP UL Retrans. Vol (Bytes)</th>\n",
              "      <th>DL TP &lt; 50 Kbps (%)</th>\n",
              "      <th>50 Kbps &lt; DL TP &lt; 250 Kbps (%)</th>\n",
              "      <th>250 Kbps &lt; DL TP &lt; 1 Mbps (%)</th>\n",
              "      <th>DL TP &gt; 1 Mbps (%)</th>\n",
              "      <th>UL TP &lt; 10 Kbps (%)</th>\n",
              "      <th>10 Kbps &lt; UL TP &lt; 50 Kbps (%)</th>\n",
              "      <th>50 Kbps &lt; UL TP &lt; 300 Kbps (%)</th>\n",
              "      <th>UL TP &gt; 300 Kbps (%)</th>\n",
              "      <th>HTTP DL (Bytes)</th>\n",
              "      <th>HTTP UL (Bytes)</th>\n",
              "      <th>Activity Duration DL (ms)</th>\n",
              "      <th>Activity Duration UL (ms)</th>\n",
              "      <th>Dur. (ms).1</th>\n",
              "      <th>Handset Manufacturer</th>\n",
              "      <th>Handset Type</th>\n",
              "      <th>Nb of sec with 125000B &lt; Vol DL</th>\n",
              "      <th>Nb of sec with 1250B &lt; Vol UL &lt; 6250B</th>\n",
              "      <th>Nb of sec with 31250B &lt; Vol DL &lt; 125000B</th>\n",
              "      <th>Nb of sec with 37500B &lt; Vol UL</th>\n",
              "      <th>Nb of sec with 6250B &lt; Vol DL &lt; 31250B</th>\n",
              "      <th>Nb of sec with 6250B &lt; Vol UL &lt; 37500B</th>\n",
              "      <th>Nb of sec with Vol DL &lt; 6250B</th>\n",
              "      <th>Nb of sec with Vol UL &lt; 1250B</th>\n",
              "      <th>Social Media DL (Bytes)</th>\n",
              "      <th>Social Media UL (Bytes)</th>\n",
              "      <th>Google DL (Bytes)</th>\n",
              "      <th>Google UL (Bytes)</th>\n",
              "      <th>Email DL (Bytes)</th>\n",
              "      <th>Email UL (Bytes)</th>\n",
              "      <th>Youtube DL (Bytes)</th>\n",
              "      <th>Youtube UL (Bytes)</th>\n",
              "      <th>Netflix DL (Bytes)</th>\n",
              "      <th>Netflix UL (Bytes)</th>\n",
              "      <th>Gaming DL (Bytes)</th>\n",
              "      <th>Gaming UL (Bytes)</th>\n",
              "      <th>Other DL (Bytes)</th>\n",
              "      <th>Other UL (Bytes)</th>\n",
              "      <th>Total UL (Bytes)</th>\n",
              "      <th>Total DL (Bytes)</th>\n",
              "    </tr>\n",
              "  </thead>\n",
              "  <tbody>\n",
              "    <tr>\n",
              "      <th>0</th>\n",
              "      <td>1.311448e+19</td>\n",
              "      <td>4/4/2019 12:01</td>\n",
              "      <td>770.0</td>\n",
              "      <td>4/25/2019 14:35</td>\n",
              "      <td>662.0</td>\n",
              "      <td>1823652.0</td>\n",
              "      <td>2.082014e+14</td>\n",
              "      <td>3.366496e+10</td>\n",
              "      <td>3.552121e+13</td>\n",
              "      <td>9.16456699548519E+015</td>\n",
              "      <td>42.0</td>\n",
              "      <td>5.0</td>\n",
              "      <td>23.0</td>\n",
              "      <td>44.0</td>\n",
              "      <td>NaN</td>\n",
              "      <td>NaN</td>\n",
              "      <td>100.0</td>\n",
              "      <td>0.0</td>\n",
              "      <td>0.0</td>\n",
              "      <td>0.0</td>\n",
              "      <td>100.0</td>\n",
              "      <td>0.0</td>\n",
              "      <td>0.0</td>\n",
              "      <td>0.0</td>\n",
              "      <td>NaN</td>\n",
              "      <td>NaN</td>\n",
              "      <td>37624.0</td>\n",
              "      <td>38787.0</td>\n",
              "      <td>1.823653e+09</td>\n",
              "      <td>Samsung</td>\n",
              "      <td>Samsung Galaxy A5 Sm-A520F</td>\n",
              "      <td>NaN</td>\n",
              "      <td>NaN</td>\n",
              "      <td>NaN</td>\n",
              "      <td>NaN</td>\n",
              "      <td>NaN</td>\n",
              "      <td>NaN</td>\n",
              "      <td>213.0</td>\n",
              "      <td>214.0</td>\n",
              "      <td>1545765.0</td>\n",
              "      <td>24420.0</td>\n",
              "      <td>1634479.0</td>\n",
              "      <td>1271433.0</td>\n",
              "      <td>3563542.0</td>\n",
              "      <td>137762.0</td>\n",
              "      <td>15854611.0</td>\n",
              "      <td>2501332.0</td>\n",
              "      <td>8198936.0</td>\n",
              "      <td>9656251.0</td>\n",
              "      <td>278082303.0</td>\n",
              "      <td>14344150.0</td>\n",
              "      <td>171744450.0</td>\n",
              "      <td>8814393.0</td>\n",
              "      <td>36749741.0</td>\n",
              "      <td>308879636.0</td>\n",
              "    </tr>\n",
              "    <tr>\n",
              "      <th>1</th>\n",
              "      <td>1.311448e+19</td>\n",
              "      <td>4/9/2019 13:04</td>\n",
              "      <td>235.0</td>\n",
              "      <td>4/25/2019 8:15</td>\n",
              "      <td>606.0</td>\n",
              "      <td>1365104.0</td>\n",
              "      <td>2.082019e+14</td>\n",
              "      <td>3.368185e+10</td>\n",
              "      <td>3.579401e+13</td>\n",
              "      <td>L77566A</td>\n",
              "      <td>65.0</td>\n",
              "      <td>5.0</td>\n",
              "      <td>16.0</td>\n",
              "      <td>26.0</td>\n",
              "      <td>NaN</td>\n",
              "      <td>NaN</td>\n",
              "      <td>100.0</td>\n",
              "      <td>0.0</td>\n",
              "      <td>0.0</td>\n",
              "      <td>0.0</td>\n",
              "      <td>100.0</td>\n",
              "      <td>0.0</td>\n",
              "      <td>0.0</td>\n",
              "      <td>0.0</td>\n",
              "      <td>NaN</td>\n",
              "      <td>NaN</td>\n",
              "      <td>168.0</td>\n",
              "      <td>3560.0</td>\n",
              "      <td>1.365104e+09</td>\n",
              "      <td>Samsung</td>\n",
              "      <td>Samsung Galaxy J5 (Sm-J530)</td>\n",
              "      <td>NaN</td>\n",
              "      <td>NaN</td>\n",
              "      <td>NaN</td>\n",
              "      <td>NaN</td>\n",
              "      <td>NaN</td>\n",
              "      <td>NaN</td>\n",
              "      <td>971.0</td>\n",
              "      <td>1022.0</td>\n",
              "      <td>1926113.0</td>\n",
              "      <td>7165.0</td>\n",
              "      <td>3493924.0</td>\n",
              "      <td>920172.0</td>\n",
              "      <td>629046.0</td>\n",
              "      <td>308339.0</td>\n",
              "      <td>20247395.0</td>\n",
              "      <td>19111729.0</td>\n",
              "      <td>18338413.0</td>\n",
              "      <td>17227132.0</td>\n",
              "      <td>608750074.0</td>\n",
              "      <td>1170709.0</td>\n",
              "      <td>526904238.0</td>\n",
              "      <td>15055145.0</td>\n",
              "      <td>53800391.0</td>\n",
              "      <td>653384965.0</td>\n",
              "    </tr>\n",
              "    <tr>\n",
              "      <th>2</th>\n",
              "      <td>1.311448e+19</td>\n",
              "      <td>4/9/2019 17:42</td>\n",
              "      <td>1.0</td>\n",
              "      <td>4/25/2019 11:58</td>\n",
              "      <td>652.0</td>\n",
              "      <td>1361762.0</td>\n",
              "      <td>2.082003e+14</td>\n",
              "      <td>3.376063e+10</td>\n",
              "      <td>3.528151e+13</td>\n",
              "      <td>D42335A</td>\n",
              "      <td>NaN</td>\n",
              "      <td>NaN</td>\n",
              "      <td>6.0</td>\n",
              "      <td>9.0</td>\n",
              "      <td>NaN</td>\n",
              "      <td>NaN</td>\n",
              "      <td>100.0</td>\n",
              "      <td>0.0</td>\n",
              "      <td>0.0</td>\n",
              "      <td>0.0</td>\n",
              "      <td>100.0</td>\n",
              "      <td>0.0</td>\n",
              "      <td>0.0</td>\n",
              "      <td>0.0</td>\n",
              "      <td>NaN</td>\n",
              "      <td>NaN</td>\n",
              "      <td>0.0</td>\n",
              "      <td>0.0</td>\n",
              "      <td>1.361763e+09</td>\n",
              "      <td>Samsung</td>\n",
              "      <td>Samsung Galaxy A8 (2018)</td>\n",
              "      <td>NaN</td>\n",
              "      <td>NaN</td>\n",
              "      <td>NaN</td>\n",
              "      <td>NaN</td>\n",
              "      <td>NaN</td>\n",
              "      <td>NaN</td>\n",
              "      <td>751.0</td>\n",
              "      <td>695.0</td>\n",
              "      <td>1684053.0</td>\n",
              "      <td>42224.0</td>\n",
              "      <td>8535055.0</td>\n",
              "      <td>1694064.0</td>\n",
              "      <td>2690151.0</td>\n",
              "      <td>672973.0</td>\n",
              "      <td>19725661.0</td>\n",
              "      <td>14699576.0</td>\n",
              "      <td>17587794.0</td>\n",
              "      <td>6163408.0</td>\n",
              "      <td>229584621.0</td>\n",
              "      <td>395630.0</td>\n",
              "      <td>410692588.0</td>\n",
              "      <td>4215763.0</td>\n",
              "      <td>27883638.0</td>\n",
              "      <td>279807335.0</td>\n",
              "    </tr>\n",
              "    <tr>\n",
              "      <th>3</th>\n",
              "      <td>1.311448e+19</td>\n",
              "      <td>4/10/2019 0:31</td>\n",
              "      <td>486.0</td>\n",
              "      <td>4/25/2019 7:36</td>\n",
              "      <td>171.0</td>\n",
              "      <td>1321509.0</td>\n",
              "      <td>2.082014e+14</td>\n",
              "      <td>3.375034e+10</td>\n",
              "      <td>3.535661e+13</td>\n",
              "      <td>T21824A</td>\n",
              "      <td>NaN</td>\n",
              "      <td>NaN</td>\n",
              "      <td>44.0</td>\n",
              "      <td>44.0</td>\n",
              "      <td>NaN</td>\n",
              "      <td>NaN</td>\n",
              "      <td>100.0</td>\n",
              "      <td>0.0</td>\n",
              "      <td>0.0</td>\n",
              "      <td>0.0</td>\n",
              "      <td>100.0</td>\n",
              "      <td>0.0</td>\n",
              "      <td>0.0</td>\n",
              "      <td>0.0</td>\n",
              "      <td>NaN</td>\n",
              "      <td>NaN</td>\n",
              "      <td>3330.0</td>\n",
              "      <td>37882.0</td>\n",
              "      <td>1.321510e+09</td>\n",
              "      <td>NaN</td>\n",
              "      <td>NaN</td>\n",
              "      <td>NaN</td>\n",
              "      <td>NaN</td>\n",
              "      <td>NaN</td>\n",
              "      <td>NaN</td>\n",
              "      <td>NaN</td>\n",
              "      <td>NaN</td>\n",
              "      <td>17.0</td>\n",
              "      <td>207.0</td>\n",
              "      <td>644121.0</td>\n",
              "      <td>13372.0</td>\n",
              "      <td>9023734.0</td>\n",
              "      <td>2788027.0</td>\n",
              "      <td>1439754.0</td>\n",
              "      <td>631229.0</td>\n",
              "      <td>21388122.0</td>\n",
              "      <td>15146643.0</td>\n",
              "      <td>13994646.0</td>\n",
              "      <td>1097942.0</td>\n",
              "      <td>799538153.0</td>\n",
              "      <td>10849722.0</td>\n",
              "      <td>749039933.0</td>\n",
              "      <td>12797283.0</td>\n",
              "      <td>43324218.0</td>\n",
              "      <td>846028530.0</td>\n",
              "    </tr>\n",
              "    <tr>\n",
              "      <th>4</th>\n",
              "      <td>1.311448e+19</td>\n",
              "      <td>4/12/2019 20:10</td>\n",
              "      <td>565.0</td>\n",
              "      <td>4/25/2019 10:40</td>\n",
              "      <td>954.0</td>\n",
              "      <td>1089009.0</td>\n",
              "      <td>2.082014e+14</td>\n",
              "      <td>3.369980e+10</td>\n",
              "      <td>3.540701e+13</td>\n",
              "      <td>D88865A</td>\n",
              "      <td>NaN</td>\n",
              "      <td>NaN</td>\n",
              "      <td>6.0</td>\n",
              "      <td>9.0</td>\n",
              "      <td>NaN</td>\n",
              "      <td>NaN</td>\n",
              "      <td>100.0</td>\n",
              "      <td>0.0</td>\n",
              "      <td>0.0</td>\n",
              "      <td>0.0</td>\n",
              "      <td>100.0</td>\n",
              "      <td>0.0</td>\n",
              "      <td>0.0</td>\n",
              "      <td>0.0</td>\n",
              "      <td>NaN</td>\n",
              "      <td>NaN</td>\n",
              "      <td>0.0</td>\n",
              "      <td>0.0</td>\n",
              "      <td>1.089009e+09</td>\n",
              "      <td>Samsung</td>\n",
              "      <td>Samsung Sm-G390F</td>\n",
              "      <td>NaN</td>\n",
              "      <td>NaN</td>\n",
              "      <td>NaN</td>\n",
              "      <td>NaN</td>\n",
              "      <td>NaN</td>\n",
              "      <td>NaN</td>\n",
              "      <td>607.0</td>\n",
              "      <td>604.0</td>\n",
              "      <td>862600.0</td>\n",
              "      <td>50188.0</td>\n",
              "      <td>6248284.0</td>\n",
              "      <td>1500559.0</td>\n",
              "      <td>1936496.0</td>\n",
              "      <td>173853.0</td>\n",
              "      <td>15259380.0</td>\n",
              "      <td>18962873.0</td>\n",
              "      <td>17124581.0</td>\n",
              "      <td>415218.0</td>\n",
              "      <td>527707248.0</td>\n",
              "      <td>3529801.0</td>\n",
              "      <td>550709500.0</td>\n",
              "      <td>13910322.0</td>\n",
              "      <td>38542814.0</td>\n",
              "      <td>569138589.0</td>\n",
              "    </tr>\n",
              "  </tbody>\n",
              "</table>\n",
              "</div>\n",
              "      <button class=\"colab-df-convert\" onclick=\"convertToInteractive('df-a4e20912-f1d8-4e2e-b0fb-4ba9d0591fc6')\"\n",
              "              title=\"Convert this dataframe to an interactive table.\"\n",
              "              style=\"display:none;\">\n",
              "        \n",
              "  <svg xmlns=\"http://www.w3.org/2000/svg\" height=\"24px\"viewBox=\"0 0 24 24\"\n",
              "       width=\"24px\">\n",
              "    <path d=\"M0 0h24v24H0V0z\" fill=\"none\"/>\n",
              "    <path d=\"M18.56 5.44l.94 2.06.94-2.06 2.06-.94-2.06-.94-.94-2.06-.94 2.06-2.06.94zm-11 1L8.5 8.5l.94-2.06 2.06-.94-2.06-.94L8.5 2.5l-.94 2.06-2.06.94zm10 10l.94 2.06.94-2.06 2.06-.94-2.06-.94-.94-2.06-.94 2.06-2.06.94z\"/><path d=\"M17.41 7.96l-1.37-1.37c-.4-.4-.92-.59-1.43-.59-.52 0-1.04.2-1.43.59L10.3 9.45l-7.72 7.72c-.78.78-.78 2.05 0 2.83L4 21.41c.39.39.9.59 1.41.59.51 0 1.02-.2 1.41-.59l7.78-7.78 2.81-2.81c.8-.78.8-2.07 0-2.86zM5.41 20L4 18.59l7.72-7.72 1.47 1.35L5.41 20z\"/>\n",
              "  </svg>\n",
              "      </button>\n",
              "      \n",
              "  <style>\n",
              "    .colab-df-container {\n",
              "      display:flex;\n",
              "      flex-wrap:wrap;\n",
              "      gap: 12px;\n",
              "    }\n",
              "\n",
              "    .colab-df-convert {\n",
              "      background-color: #E8F0FE;\n",
              "      border: none;\n",
              "      border-radius: 50%;\n",
              "      cursor: pointer;\n",
              "      display: none;\n",
              "      fill: #1967D2;\n",
              "      height: 32px;\n",
              "      padding: 0 0 0 0;\n",
              "      width: 32px;\n",
              "    }\n",
              "\n",
              "    .colab-df-convert:hover {\n",
              "      background-color: #E2EBFA;\n",
              "      box-shadow: 0px 1px 2px rgba(60, 64, 67, 0.3), 0px 1px 3px 1px rgba(60, 64, 67, 0.15);\n",
              "      fill: #174EA6;\n",
              "    }\n",
              "\n",
              "    [theme=dark] .colab-df-convert {\n",
              "      background-color: #3B4455;\n",
              "      fill: #D2E3FC;\n",
              "    }\n",
              "\n",
              "    [theme=dark] .colab-df-convert:hover {\n",
              "      background-color: #434B5C;\n",
              "      box-shadow: 0px 1px 3px 1px rgba(0, 0, 0, 0.15);\n",
              "      filter: drop-shadow(0px 1px 2px rgba(0, 0, 0, 0.3));\n",
              "      fill: #FFFFFF;\n",
              "    }\n",
              "  </style>\n",
              "\n",
              "      <script>\n",
              "        const buttonEl =\n",
              "          document.querySelector('#df-a4e20912-f1d8-4e2e-b0fb-4ba9d0591fc6 button.colab-df-convert');\n",
              "        buttonEl.style.display =\n",
              "          google.colab.kernel.accessAllowed ? 'block' : 'none';\n",
              "\n",
              "        async function convertToInteractive(key) {\n",
              "          const element = document.querySelector('#df-a4e20912-f1d8-4e2e-b0fb-4ba9d0591fc6');\n",
              "          const dataTable =\n",
              "            await google.colab.kernel.invokeFunction('convertToInteractive',\n",
              "                                                     [key], {});\n",
              "          if (!dataTable) return;\n",
              "\n",
              "          const docLinkHtml = 'Like what you see? Visit the ' +\n",
              "            '<a target=\"_blank\" href=https://colab.research.google.com/notebooks/data_table.ipynb>data table notebook</a>'\n",
              "            + ' to learn more about interactive tables.';\n",
              "          element.innerHTML = '';\n",
              "          dataTable['output_type'] = 'display_data';\n",
              "          await google.colab.output.renderOutput(dataTable, element);\n",
              "          const docLink = document.createElement('div');\n",
              "          docLink.innerHTML = docLinkHtml;\n",
              "          element.appendChild(docLink);\n",
              "        }\n",
              "      </script>\n",
              "    </div>\n",
              "  </div>\n",
              "  "
            ]
          },
          "metadata": {},
          "execution_count": 3
        }
      ],
      "source": [
        "import warnings\n",
        "warnings.filterwarnings('ignore')\n",
        "pd.set_option('max_column', None)\n",
        "db = pd.read_csv('/content/drive/MyDrive/Colab Notebooks/data/Week1_challenge_data_source(CSV).csv', na_values=['undefined','?', None])\n",
        "db.head() # the fisrt five rows"
      ]
    },
    {
      "cell_type": "markdown",
      "id": "4428adf1",
      "metadata": {
        "id": "4428adf1"
      },
      "source": [
        "# Size of the dataset\n",
        "### Columns of the dataset"
      ]
    },
    {
      "cell_type": "code",
      "execution_count": 4,
      "id": "d3d9e577",
      "metadata": {
        "scrolled": true,
        "colab": {
          "base_uri": "https://localhost:8080/"
        },
        "id": "d3d9e577",
        "outputId": "1e757622-0e6f-43cd-9f1f-5c8f15acac1b"
      },
      "outputs": [
        {
          "output_type": "execute_result",
          "data": {
            "text/plain": [
              "['Bearer Id',\n",
              " 'Start',\n",
              " 'Start ms',\n",
              " 'End',\n",
              " 'End ms',\n",
              " 'Dur. (ms)',\n",
              " 'IMSI',\n",
              " 'MSISDN/Number',\n",
              " 'IMEI',\n",
              " 'Last Location Name',\n",
              " 'Avg RTT DL (ms)',\n",
              " 'Avg RTT UL (ms)',\n",
              " 'Avg Bearer TP DL (kbps)',\n",
              " 'Avg Bearer TP UL (kbps)',\n",
              " 'TCP DL Retrans. Vol (Bytes)',\n",
              " 'TCP UL Retrans. Vol (Bytes)',\n",
              " 'DL TP < 50 Kbps (%)',\n",
              " '50 Kbps < DL TP < 250 Kbps (%)',\n",
              " '250 Kbps < DL TP < 1 Mbps (%)',\n",
              " 'DL TP > 1 Mbps (%)',\n",
              " 'UL TP < 10 Kbps (%)',\n",
              " '10 Kbps < UL TP < 50 Kbps (%)',\n",
              " '50 Kbps < UL TP < 300 Kbps (%)',\n",
              " 'UL TP > 300 Kbps (%)',\n",
              " 'HTTP DL (Bytes)',\n",
              " 'HTTP UL (Bytes)',\n",
              " 'Activity Duration DL (ms)',\n",
              " 'Activity Duration UL (ms)',\n",
              " 'Dur. (ms).1',\n",
              " 'Handset Manufacturer',\n",
              " 'Handset Type',\n",
              " 'Nb of sec with 125000B < Vol DL',\n",
              " 'Nb of sec with 1250B < Vol UL < 6250B',\n",
              " 'Nb of sec with 31250B < Vol DL < 125000B',\n",
              " 'Nb of sec with 37500B < Vol UL',\n",
              " 'Nb of sec with 6250B < Vol DL < 31250B',\n",
              " 'Nb of sec with 6250B < Vol UL < 37500B',\n",
              " 'Nb of sec with Vol DL < 6250B',\n",
              " 'Nb of sec with Vol UL < 1250B',\n",
              " 'Social Media DL (Bytes)',\n",
              " 'Social Media UL (Bytes)',\n",
              " 'Google DL (Bytes)',\n",
              " 'Google UL (Bytes)',\n",
              " 'Email DL (Bytes)',\n",
              " 'Email UL (Bytes)',\n",
              " 'Youtube DL (Bytes)',\n",
              " 'Youtube UL (Bytes)',\n",
              " 'Netflix DL (Bytes)',\n",
              " 'Netflix UL (Bytes)',\n",
              " 'Gaming DL (Bytes)',\n",
              " 'Gaming UL (Bytes)',\n",
              " 'Other DL (Bytes)',\n",
              " 'Other UL (Bytes)',\n",
              " 'Total UL (Bytes)',\n",
              " 'Total DL (Bytes)']"
            ]
          },
          "metadata": {},
          "execution_count": 4
        }
      ],
      "source": [
        "# list of column  names\n",
        "db.columns.tolist()"
      ]
    },
    {
      "cell_type": "markdown",
      "source": [
        "### Number of columns"
      ],
      "metadata": {
        "id": "qjL3zKn8-30S"
      },
      "id": "qjL3zKn8-30S"
    },
    {
      "cell_type": "code",
      "source": [
        "print(f\"Number of columns: \", len(db.columns))"
      ],
      "metadata": {
        "colab": {
          "base_uri": "https://localhost:8080/"
        },
        "id": "Bb_baujC-zIn",
        "outputId": "8e0403c1-7393-430a-d952-5061d4b6fe34"
      },
      "id": "Bb_baujC-zIn",
      "execution_count": 5,
      "outputs": [
        {
          "output_type": "stream",
          "name": "stdout",
          "text": [
            "Number of columns:  55\n"
          ]
        }
      ]
    },
    {
      "cell_type": "markdown",
      "id": "9ee8e8f3",
      "metadata": {
        "id": "9ee8e8f3"
      },
      "source": [
        "### Number of data points and data size"
      ]
    },
    {
      "cell_type": "code",
      "execution_count": 6,
      "id": "1e3e673f",
      "metadata": {
        "id": "1e3e673f",
        "outputId": "00343821-7fcc-41ff-fb17-8293c2b3913f",
        "colab": {
          "base_uri": "https://localhost:8080/"
        }
      },
      "outputs": [
        {
          "output_type": "stream",
          "name": "stdout",
          "text": [
            " There are 150001 rows and 55 columns\n"
          ]
        }
      ],
      "source": [
        "print(f\" There are {db.shape[0]} rows and {db.shape[1]} columns\")"
      ]
    },
    {
      "cell_type": "markdown",
      "source": [
        "### Features/columns and their data type"
      ],
      "metadata": {
        "id": "5_yTjSY_AO1m"
      },
      "id": "5_yTjSY_AO1m"
    },
    {
      "cell_type": "code",
      "source": [
        "db.dtypes"
      ],
      "metadata": {
        "id": "WzXiV-kds7YO",
        "outputId": "3ff4b21f-8104-432e-9043-29da314c69fb",
        "colab": {
          "base_uri": "https://localhost:8080/"
        }
      },
      "id": "WzXiV-kds7YO",
      "execution_count": 7,
      "outputs": [
        {
          "output_type": "execute_result",
          "data": {
            "text/plain": [
              "Bearer Id                                   float64\n",
              "Start                                        object\n",
              "Start ms                                    float64\n",
              "End                                          object\n",
              "End ms                                      float64\n",
              "Dur. (ms)                                   float64\n",
              "IMSI                                        float64\n",
              "MSISDN/Number                               float64\n",
              "IMEI                                        float64\n",
              "Last Location Name                           object\n",
              "Avg RTT DL (ms)                             float64\n",
              "Avg RTT UL (ms)                             float64\n",
              "Avg Bearer TP DL (kbps)                     float64\n",
              "Avg Bearer TP UL (kbps)                     float64\n",
              "TCP DL Retrans. Vol (Bytes)                 float64\n",
              "TCP UL Retrans. Vol (Bytes)                 float64\n",
              "DL TP < 50 Kbps (%)                         float64\n",
              "50 Kbps < DL TP < 250 Kbps (%)              float64\n",
              "250 Kbps < DL TP < 1 Mbps (%)               float64\n",
              "DL TP > 1 Mbps (%)                          float64\n",
              "UL TP < 10 Kbps (%)                         float64\n",
              "10 Kbps < UL TP < 50 Kbps (%)               float64\n",
              "50 Kbps < UL TP < 300 Kbps (%)              float64\n",
              "UL TP > 300 Kbps (%)                        float64\n",
              "HTTP DL (Bytes)                             float64\n",
              "HTTP UL (Bytes)                             float64\n",
              "Activity Duration DL (ms)                   float64\n",
              "Activity Duration UL (ms)                   float64\n",
              "Dur. (ms).1                                 float64\n",
              "Handset Manufacturer                         object\n",
              "Handset Type                                 object\n",
              "Nb of sec with 125000B < Vol DL             float64\n",
              "Nb of sec with 1250B < Vol UL < 6250B       float64\n",
              "Nb of sec with 31250B < Vol DL < 125000B    float64\n",
              "Nb of sec with 37500B < Vol UL              float64\n",
              "Nb of sec with 6250B < Vol DL < 31250B      float64\n",
              "Nb of sec with 6250B < Vol UL < 37500B      float64\n",
              "Nb of sec with Vol DL < 6250B               float64\n",
              "Nb of sec with Vol UL < 1250B               float64\n",
              "Social Media DL (Bytes)                     float64\n",
              "Social Media UL (Bytes)                     float64\n",
              "Google DL (Bytes)                           float64\n",
              "Google UL (Bytes)                           float64\n",
              "Email DL (Bytes)                            float64\n",
              "Email UL (Bytes)                            float64\n",
              "Youtube DL (Bytes)                          float64\n",
              "Youtube UL (Bytes)                          float64\n",
              "Netflix DL (Bytes)                          float64\n",
              "Netflix UL (Bytes)                          float64\n",
              "Gaming DL (Bytes)                           float64\n",
              "Gaming UL (Bytes)                           float64\n",
              "Other DL (Bytes)                            float64\n",
              "Other UL (Bytes)                            float64\n",
              "Total UL (Bytes)                            float64\n",
              "Total DL (Bytes)                            float64\n",
              "dtype: object"
            ]
          },
          "metadata": {},
          "execution_count": 7
        }
      ]
    },
    {
      "cell_type": "markdown",
      "id": "2f58547a",
      "metadata": {
        "id": "2f58547a"
      },
      "source": [
        "\n",
        "\n",
        "```\n",
        "# This is formatted as code\n",
        "```\n",
        "\n",
        "### Utility Functions"
      ]
    },
    {
      "cell_type": "code",
      "execution_count": 8,
      "id": "67977677",
      "metadata": {
        "colab": {
          "base_uri": "https://localhost:8080/"
        },
        "id": "67977677",
        "outputId": "70d24d0b-ecef-4ec3-c9e8-665b6b9d4f1d"
      },
      "outputs": [
        {
          "output_type": "stream",
          "name": "stdout",
          "text": [
            "The dataset contains 12.72 % missing values.\n"
          ]
        }
      ],
      "source": [
        "# how many missing values exist or better still what is the % of missing values in the dataset?\n",
        "def percent_missing(df):\n",
        "\n",
        "    # Calculate total number of cells in dataframe\n",
        "    totalCells = np.product(df.shape)\n",
        "\n",
        "    # Count number of missing values per column\n",
        "    missingCount = df.isnull().sum()\n",
        "\n",
        "    # Calculate total number of missing values\n",
        "    totalMissing = missingCount.sum()\n",
        "\n",
        "    # Calculate percentage of missing values\n",
        "    print(\"The dataset contains\", round(((totalMissing/totalCells) * 100), 3), \"%\", \"missing values.\")\n",
        "\n",
        "percent_missing(db)\n",
        "\n",
        "\n"
      ]
    },
    {
      "cell_type": "code",
      "metadata": {
        "id": "njVjvLy6DZxT"
      },
      "source": [
        "# Function to calculate missing values by column\n",
        "def missing_values_table(df):\n",
        "    # Total missing values\n",
        "    mis_val = df.isnull().sum()\n",
        "\n",
        "    # Percentage of missing values\n",
        "    mis_val_percent = 100 * df.isnull().sum() / len(df)\n",
        "\n",
        "    # dtype of missing values\n",
        "    mis_val_dtype = df.dtypes\n",
        "\n",
        "    # Make a table with the results\n",
        "    mis_val_table = pd.concat([mis_val, mis_val_percent, mis_val_dtype], axis=1)\n",
        "\n",
        "    # Rename the columns\n",
        "    mis_val_table_ren_columns = mis_val_table.rename(\n",
        "    columns = {0 : 'Missing Values', 1 : '% of Total Values', 2: 'Dtype'})\n",
        "\n",
        "    # Sort the table by percentage of missing descending\n",
        "    mis_val_table_ren_columns = mis_val_table_ren_columns[\n",
        "        mis_val_table_ren_columns.iloc[:,1] != 0].sort_values(\n",
        "    '% of Total Values', ascending=False).round(2)\n",
        "\n",
        "    # Print some summary information\n",
        "    print (\"Your selected dataframe has \" + str(df.shape[1]) + \" columns.\\n\"      \n",
        "        \"There are \" + str(mis_val_table_ren_columns.shape[0]) +\n",
        "          \" columns that have missing values.\")\n",
        "\n",
        "    # Return the dataframe with missing information\n",
        "    return mis_val_table_ren_columns\n",
        "\n",
        "def format_float(value):\n",
        "    return f'{value:,.2f}'\n",
        "\n",
        "def find_agg(df:pd.DataFrame, agg_column:str, agg_metric:str, col_name:str, top:int, order=False )->pd.DataFrame:\n",
        "    \n",
        "    new_df = df.groupby(agg_column)[agg_column].agg(agg_metric).reset_index(name=col_name).\\\n",
        "                        sort_values(by=col_name, ascending=order)[:top]\n",
        "    \n",
        "    return new_df\n",
        "\n",
        "def convert_bytes_to_megabytes(df, bytes_data):\n",
        "    \"\"\"\n",
        "        This function takes the dataframe and the column which has the bytes values\n",
        "        returns the megabytesof that value\n",
        "        \n",
        "        Args:\n",
        "        -----\n",
        "        df: dataframe\n",
        "        bytes_data: column with bytes values\n",
        "        \n",
        "        Returns:\n",
        "        --------\n",
        "        A series\n",
        "    \"\"\"\n",
        "    \n",
        "    megabyte = 1*10e+5\n",
        "    df[bytes_data] = df[bytes_data] / megabyte\n",
        "    return df[bytes_data]\n",
        "\n",
        "def fix_outlier(df, column):\n",
        "    df[column] = np.where(df[column] > df[column].quantile(0.95), df[column].median(),df[column])\n",
        "    \n",
        "    return df[column]\n",
        "\n",
        "\n",
        "###################################PLOTTING FUNCTIONS###################################\n",
        "\n",
        "def plot_hist(df:pd.DataFrame, column:str, color:str)->None:\n",
        "    # plt.figure(figsize=(15, 10))\n",
        "    # fig, ax = plt.subplots(1, figsize=(12, 7))\n",
        "    sns.displot(data=df, x=column, color=color, kde=True, height=7, aspect=2)\n",
        "    plt.title(f'Distribution of {column}', size=20, fontweight='bold')\n",
        "    plt.show()\n",
        "\n",
        "def plot_count(df:pd.DataFrame, column:str) -> None:\n",
        "    plt.figure(figsize=(12, 7))\n",
        "    sns.countplot(data=df, x=column)\n",
        "    plt.title(f'Distribution of {column}', size=20, fontweight='bold')\n",
        "    plt.show()\n",
        "    \n",
        "def plot_bar(df:pd.DataFrame, x_col:str, y_col:str, title:str, xlabel:str, ylabel:str)->None:\n",
        "    plt.figure(figsize=(12, 7))\n",
        "    sns.barplot(data = df, x=x_col, y=y_col)\n",
        "    plt.title(title, size=20)\n",
        "    plt.xticks(rotation=75, fontsize=14)\n",
        "    plt.yticks( fontsize=14)\n",
        "    plt.xlabel(xlabel, fontsize=16)\n",
        "    plt.ylabel(ylabel, fontsize=16)\n",
        "    plt.show()\n",
        "\n",
        "def plot_heatmap(df:pd.DataFrame, title:str, cbar=False)->None:\n",
        "    plt.figure(figsize=(12, 7))\n",
        "    sns.heatmap(df, annot=True, cmap='viridis', vmin=0, vmax=1, fmt='.2f', linewidths=.7, cbar=cbar )\n",
        "    plt.title(title, size=18, fontweight='bold')\n",
        "    plt.show()\n",
        "\n",
        "def plot_box(df:pd.DataFrame, x_col:str, title:str) -> None:\n",
        "    plt.figure(figsize=(12, 7))\n",
        "    sns.boxplot(data = df, x=x_col)\n",
        "    plt.title(title, size=20)\n",
        "    plt.xticks(rotation=75, fontsize=14)\n",
        "    plt.show()\n",
        "\n",
        "def plot_box_multi(df:pd.DataFrame, x_col:str, y_col:str, title:str) -> None:\n",
        "    plt.figure(figsize=(12, 7))\n",
        "    sns.boxplot(data = df, x=x_col, y=y_col)\n",
        "    plt.title(title, size=20)\n",
        "    plt.xticks(rotation=75, fontsize=14)\n",
        "    plt.yticks( fontsize=14)\n",
        "    plt.show()\n",
        "\n",
        "def plot_scatter(df: pd.DataFrame, x_col: str, y_col: str, title: str, hue: str, style: str) -> None:\n",
        "    plt.figure(figsize=(12, 7))\n",
        "    sns.scatterplot(data = df, x=x_col, y=y_col, hue=hue, style=style)\n",
        "    plt.title(title, size=20)\n",
        "    plt.xticks(fontsize=14)\n",
        "    plt.yticks( fontsize=14)\n",
        "    plt.show()\n",
        "\n",
        "\n",
        "pd.options.display.float_format = format_float"
      ],
      "execution_count": 9,
      "outputs": [],
      "id": "njVjvLy6DZxT"
    },
    {
      "cell_type": "markdown",
      "source": [
        "### Missing Value table"
      ],
      "metadata": {
        "id": "IvQ82hsGYGmz"
      },
      "id": "IvQ82hsGYGmz"
    },
    {
      "cell_type": "code",
      "source": [
        "missing_values_table(db)"
      ],
      "metadata": {
        "colab": {
          "base_uri": "https://localhost:8080/",
          "height": 1000
        },
        "id": "S1GAzllOEKZz",
        "outputId": "71815cc1-ef62-4d8c-d3e3-5ed3ffb0b01a"
      },
      "id": "S1GAzllOEKZz",
      "execution_count": 10,
      "outputs": [
        {
          "output_type": "stream",
          "name": "stdout",
          "text": [
            "Your selected dataframe has 55 columns.\n",
            "There are 41 columns that have missing values.\n"
          ]
        },
        {
          "output_type": "execute_result",
          "data": {
            "text/plain": [
              "                                          Missing Values  % of Total Values  \\\n",
              "Nb of sec with 37500B < Vol UL                    130254              86.84   \n",
              "Nb of sec with 6250B < Vol UL < 37500B            111843              74.56   \n",
              "Nb of sec with 125000B < Vol DL                    97538              65.02   \n",
              "TCP UL Retrans. Vol (Bytes)                        96649              64.43   \n",
              "Nb of sec with 31250B < Vol DL < 125000B           93586              62.39   \n",
              "Nb of sec with 1250B < Vol UL < 6250B              92894              61.93   \n",
              "Nb of sec with 6250B < Vol DL < 31250B             88317              58.88   \n",
              "TCP DL Retrans. Vol (Bytes)                        88146              58.76   \n",
              "HTTP UL (Bytes)                                    81810              54.54   \n",
              "HTTP DL (Bytes)                                    81474              54.32   \n",
              "Avg RTT DL (ms)                                    27829              18.55   \n",
              "Avg RTT UL (ms)                                    27812              18.54   \n",
              "Handset Manufacturer                                9559               6.37   \n",
              "Handset Type                                        9559               6.37   \n",
              "Last Location Name                                  1153               0.77   \n",
              "MSISDN/Number                                       1066               0.71   \n",
              "Bearer Id                                            991               0.66   \n",
              "Nb of sec with Vol UL < 1250B                        793               0.53   \n",
              "10 Kbps < UL TP < 50 Kbps (%)                        792               0.53   \n",
              "UL TP > 300 Kbps (%)                                 792               0.53   \n",
              "50 Kbps < UL TP < 300 Kbps (%)                       792               0.53   \n",
              "UL TP < 10 Kbps (%)                                  792               0.53   \n",
              "Nb of sec with Vol DL < 6250B                        755               0.50   \n",
              "250 Kbps < DL TP < 1 Mbps (%)                        754               0.50   \n",
              "50 Kbps < DL TP < 250 Kbps (%)                       754               0.50   \n",
              "DL TP < 50 Kbps (%)                                  754               0.50   \n",
              "DL TP > 1 Mbps (%)                                   754               0.50   \n",
              "IMEI                                                 572               0.38   \n",
              "IMSI                                                 570               0.38   \n",
              "Start                                                  1               0.00   \n",
              "End ms                                                 1               0.00   \n",
              "Total UL (Bytes)                                       1               0.00   \n",
              "Start ms                                               1               0.00   \n",
              "End                                                    1               0.00   \n",
              "Avg Bearer TP DL (kbps)                                1               0.00   \n",
              "Dur. (ms)                                              1               0.00   \n",
              "Avg Bearer TP UL (kbps)                                1               0.00   \n",
              "Dur. (ms).1                                            1               0.00   \n",
              "Activity Duration UL (ms)                              1               0.00   \n",
              "Activity Duration DL (ms)                              1               0.00   \n",
              "Total DL (Bytes)                                       1               0.00   \n",
              "\n",
              "                                            Dtype  \n",
              "Nb of sec with 37500B < Vol UL            float64  \n",
              "Nb of sec with 6250B < Vol UL < 37500B    float64  \n",
              "Nb of sec with 125000B < Vol DL           float64  \n",
              "TCP UL Retrans. Vol (Bytes)               float64  \n",
              "Nb of sec with 31250B < Vol DL < 125000B  float64  \n",
              "Nb of sec with 1250B < Vol UL < 6250B     float64  \n",
              "Nb of sec with 6250B < Vol DL < 31250B    float64  \n",
              "TCP DL Retrans. Vol (Bytes)               float64  \n",
              "HTTP UL (Bytes)                           float64  \n",
              "HTTP DL (Bytes)                           float64  \n",
              "Avg RTT DL (ms)                           float64  \n",
              "Avg RTT UL (ms)                           float64  \n",
              "Handset Manufacturer                       object  \n",
              "Handset Type                               object  \n",
              "Last Location Name                         object  \n",
              "MSISDN/Number                             float64  \n",
              "Bearer Id                                 float64  \n",
              "Nb of sec with Vol UL < 1250B             float64  \n",
              "10 Kbps < UL TP < 50 Kbps (%)             float64  \n",
              "UL TP > 300 Kbps (%)                      float64  \n",
              "50 Kbps < UL TP < 300 Kbps (%)            float64  \n",
              "UL TP < 10 Kbps (%)                       float64  \n",
              "Nb of sec with Vol DL < 6250B             float64  \n",
              "250 Kbps < DL TP < 1 Mbps (%)             float64  \n",
              "50 Kbps < DL TP < 250 Kbps (%)            float64  \n",
              "DL TP < 50 Kbps (%)                       float64  \n",
              "DL TP > 1 Mbps (%)                        float64  \n",
              "IMEI                                      float64  \n",
              "IMSI                                      float64  \n",
              "Start                                      object  \n",
              "End ms                                    float64  \n",
              "Total UL (Bytes)                          float64  \n",
              "Start ms                                  float64  \n",
              "End                                        object  \n",
              "Avg Bearer TP DL (kbps)                   float64  \n",
              "Dur. (ms)                                 float64  \n",
              "Avg Bearer TP UL (kbps)                   float64  \n",
              "Dur. (ms).1                               float64  \n",
              "Activity Duration UL (ms)                 float64  \n",
              "Activity Duration DL (ms)                 float64  \n",
              "Total DL (Bytes)                          float64  "
            ],
            "text/html": [
              "\n",
              "  <div id=\"df-0678398a-99e4-4dbd-898a-8ac6fa79b69c\">\n",
              "    <div class=\"colab-df-container\">\n",
              "      <div>\n",
              "<style scoped>\n",
              "    .dataframe tbody tr th:only-of-type {\n",
              "        vertical-align: middle;\n",
              "    }\n",
              "\n",
              "    .dataframe tbody tr th {\n",
              "        vertical-align: top;\n",
              "    }\n",
              "\n",
              "    .dataframe thead th {\n",
              "        text-align: right;\n",
              "    }\n",
              "</style>\n",
              "<table border=\"1\" class=\"dataframe\">\n",
              "  <thead>\n",
              "    <tr style=\"text-align: right;\">\n",
              "      <th></th>\n",
              "      <th>Missing Values</th>\n",
              "      <th>% of Total Values</th>\n",
              "      <th>Dtype</th>\n",
              "    </tr>\n",
              "  </thead>\n",
              "  <tbody>\n",
              "    <tr>\n",
              "      <th>Nb of sec with 37500B &lt; Vol UL</th>\n",
              "      <td>130254</td>\n",
              "      <td>86.84</td>\n",
              "      <td>float64</td>\n",
              "    </tr>\n",
              "    <tr>\n",
              "      <th>Nb of sec with 6250B &lt; Vol UL &lt; 37500B</th>\n",
              "      <td>111843</td>\n",
              "      <td>74.56</td>\n",
              "      <td>float64</td>\n",
              "    </tr>\n",
              "    <tr>\n",
              "      <th>Nb of sec with 125000B &lt; Vol DL</th>\n",
              "      <td>97538</td>\n",
              "      <td>65.02</td>\n",
              "      <td>float64</td>\n",
              "    </tr>\n",
              "    <tr>\n",
              "      <th>TCP UL Retrans. Vol (Bytes)</th>\n",
              "      <td>96649</td>\n",
              "      <td>64.43</td>\n",
              "      <td>float64</td>\n",
              "    </tr>\n",
              "    <tr>\n",
              "      <th>Nb of sec with 31250B &lt; Vol DL &lt; 125000B</th>\n",
              "      <td>93586</td>\n",
              "      <td>62.39</td>\n",
              "      <td>float64</td>\n",
              "    </tr>\n",
              "    <tr>\n",
              "      <th>Nb of sec with 1250B &lt; Vol UL &lt; 6250B</th>\n",
              "      <td>92894</td>\n",
              "      <td>61.93</td>\n",
              "      <td>float64</td>\n",
              "    </tr>\n",
              "    <tr>\n",
              "      <th>Nb of sec with 6250B &lt; Vol DL &lt; 31250B</th>\n",
              "      <td>88317</td>\n",
              "      <td>58.88</td>\n",
              "      <td>float64</td>\n",
              "    </tr>\n",
              "    <tr>\n",
              "      <th>TCP DL Retrans. Vol (Bytes)</th>\n",
              "      <td>88146</td>\n",
              "      <td>58.76</td>\n",
              "      <td>float64</td>\n",
              "    </tr>\n",
              "    <tr>\n",
              "      <th>HTTP UL (Bytes)</th>\n",
              "      <td>81810</td>\n",
              "      <td>54.54</td>\n",
              "      <td>float64</td>\n",
              "    </tr>\n",
              "    <tr>\n",
              "      <th>HTTP DL (Bytes)</th>\n",
              "      <td>81474</td>\n",
              "      <td>54.32</td>\n",
              "      <td>float64</td>\n",
              "    </tr>\n",
              "    <tr>\n",
              "      <th>Avg RTT DL (ms)</th>\n",
              "      <td>27829</td>\n",
              "      <td>18.55</td>\n",
              "      <td>float64</td>\n",
              "    </tr>\n",
              "    <tr>\n",
              "      <th>Avg RTT UL (ms)</th>\n",
              "      <td>27812</td>\n",
              "      <td>18.54</td>\n",
              "      <td>float64</td>\n",
              "    </tr>\n",
              "    <tr>\n",
              "      <th>Handset Manufacturer</th>\n",
              "      <td>9559</td>\n",
              "      <td>6.37</td>\n",
              "      <td>object</td>\n",
              "    </tr>\n",
              "    <tr>\n",
              "      <th>Handset Type</th>\n",
              "      <td>9559</td>\n",
              "      <td>6.37</td>\n",
              "      <td>object</td>\n",
              "    </tr>\n",
              "    <tr>\n",
              "      <th>Last Location Name</th>\n",
              "      <td>1153</td>\n",
              "      <td>0.77</td>\n",
              "      <td>object</td>\n",
              "    </tr>\n",
              "    <tr>\n",
              "      <th>MSISDN/Number</th>\n",
              "      <td>1066</td>\n",
              "      <td>0.71</td>\n",
              "      <td>float64</td>\n",
              "    </tr>\n",
              "    <tr>\n",
              "      <th>Bearer Id</th>\n",
              "      <td>991</td>\n",
              "      <td>0.66</td>\n",
              "      <td>float64</td>\n",
              "    </tr>\n",
              "    <tr>\n",
              "      <th>Nb of sec with Vol UL &lt; 1250B</th>\n",
              "      <td>793</td>\n",
              "      <td>0.53</td>\n",
              "      <td>float64</td>\n",
              "    </tr>\n",
              "    <tr>\n",
              "      <th>10 Kbps &lt; UL TP &lt; 50 Kbps (%)</th>\n",
              "      <td>792</td>\n",
              "      <td>0.53</td>\n",
              "      <td>float64</td>\n",
              "    </tr>\n",
              "    <tr>\n",
              "      <th>UL TP &gt; 300 Kbps (%)</th>\n",
              "      <td>792</td>\n",
              "      <td>0.53</td>\n",
              "      <td>float64</td>\n",
              "    </tr>\n",
              "    <tr>\n",
              "      <th>50 Kbps &lt; UL TP &lt; 300 Kbps (%)</th>\n",
              "      <td>792</td>\n",
              "      <td>0.53</td>\n",
              "      <td>float64</td>\n",
              "    </tr>\n",
              "    <tr>\n",
              "      <th>UL TP &lt; 10 Kbps (%)</th>\n",
              "      <td>792</td>\n",
              "      <td>0.53</td>\n",
              "      <td>float64</td>\n",
              "    </tr>\n",
              "    <tr>\n",
              "      <th>Nb of sec with Vol DL &lt; 6250B</th>\n",
              "      <td>755</td>\n",
              "      <td>0.50</td>\n",
              "      <td>float64</td>\n",
              "    </tr>\n",
              "    <tr>\n",
              "      <th>250 Kbps &lt; DL TP &lt; 1 Mbps (%)</th>\n",
              "      <td>754</td>\n",
              "      <td>0.50</td>\n",
              "      <td>float64</td>\n",
              "    </tr>\n",
              "    <tr>\n",
              "      <th>50 Kbps &lt; DL TP &lt; 250 Kbps (%)</th>\n",
              "      <td>754</td>\n",
              "      <td>0.50</td>\n",
              "      <td>float64</td>\n",
              "    </tr>\n",
              "    <tr>\n",
              "      <th>DL TP &lt; 50 Kbps (%)</th>\n",
              "      <td>754</td>\n",
              "      <td>0.50</td>\n",
              "      <td>float64</td>\n",
              "    </tr>\n",
              "    <tr>\n",
              "      <th>DL TP &gt; 1 Mbps (%)</th>\n",
              "      <td>754</td>\n",
              "      <td>0.50</td>\n",
              "      <td>float64</td>\n",
              "    </tr>\n",
              "    <tr>\n",
              "      <th>IMEI</th>\n",
              "      <td>572</td>\n",
              "      <td>0.38</td>\n",
              "      <td>float64</td>\n",
              "    </tr>\n",
              "    <tr>\n",
              "      <th>IMSI</th>\n",
              "      <td>570</td>\n",
              "      <td>0.38</td>\n",
              "      <td>float64</td>\n",
              "    </tr>\n",
              "    <tr>\n",
              "      <th>Start</th>\n",
              "      <td>1</td>\n",
              "      <td>0.00</td>\n",
              "      <td>object</td>\n",
              "    </tr>\n",
              "    <tr>\n",
              "      <th>End ms</th>\n",
              "      <td>1</td>\n",
              "      <td>0.00</td>\n",
              "      <td>float64</td>\n",
              "    </tr>\n",
              "    <tr>\n",
              "      <th>Total UL (Bytes)</th>\n",
              "      <td>1</td>\n",
              "      <td>0.00</td>\n",
              "      <td>float64</td>\n",
              "    </tr>\n",
              "    <tr>\n",
              "      <th>Start ms</th>\n",
              "      <td>1</td>\n",
              "      <td>0.00</td>\n",
              "      <td>float64</td>\n",
              "    </tr>\n",
              "    <tr>\n",
              "      <th>End</th>\n",
              "      <td>1</td>\n",
              "      <td>0.00</td>\n",
              "      <td>object</td>\n",
              "    </tr>\n",
              "    <tr>\n",
              "      <th>Avg Bearer TP DL (kbps)</th>\n",
              "      <td>1</td>\n",
              "      <td>0.00</td>\n",
              "      <td>float64</td>\n",
              "    </tr>\n",
              "    <tr>\n",
              "      <th>Dur. (ms)</th>\n",
              "      <td>1</td>\n",
              "      <td>0.00</td>\n",
              "      <td>float64</td>\n",
              "    </tr>\n",
              "    <tr>\n",
              "      <th>Avg Bearer TP UL (kbps)</th>\n",
              "      <td>1</td>\n",
              "      <td>0.00</td>\n",
              "      <td>float64</td>\n",
              "    </tr>\n",
              "    <tr>\n",
              "      <th>Dur. (ms).1</th>\n",
              "      <td>1</td>\n",
              "      <td>0.00</td>\n",
              "      <td>float64</td>\n",
              "    </tr>\n",
              "    <tr>\n",
              "      <th>Activity Duration UL (ms)</th>\n",
              "      <td>1</td>\n",
              "      <td>0.00</td>\n",
              "      <td>float64</td>\n",
              "    </tr>\n",
              "    <tr>\n",
              "      <th>Activity Duration DL (ms)</th>\n",
              "      <td>1</td>\n",
              "      <td>0.00</td>\n",
              "      <td>float64</td>\n",
              "    </tr>\n",
              "    <tr>\n",
              "      <th>Total DL (Bytes)</th>\n",
              "      <td>1</td>\n",
              "      <td>0.00</td>\n",
              "      <td>float64</td>\n",
              "    </tr>\n",
              "  </tbody>\n",
              "</table>\n",
              "</div>\n",
              "      <button class=\"colab-df-convert\" onclick=\"convertToInteractive('df-0678398a-99e4-4dbd-898a-8ac6fa79b69c')\"\n",
              "              title=\"Convert this dataframe to an interactive table.\"\n",
              "              style=\"display:none;\">\n",
              "        \n",
              "  <svg xmlns=\"http://www.w3.org/2000/svg\" height=\"24px\"viewBox=\"0 0 24 24\"\n",
              "       width=\"24px\">\n",
              "    <path d=\"M0 0h24v24H0V0z\" fill=\"none\"/>\n",
              "    <path d=\"M18.56 5.44l.94 2.06.94-2.06 2.06-.94-2.06-.94-.94-2.06-.94 2.06-2.06.94zm-11 1L8.5 8.5l.94-2.06 2.06-.94-2.06-.94L8.5 2.5l-.94 2.06-2.06.94zm10 10l.94 2.06.94-2.06 2.06-.94-2.06-.94-.94-2.06-.94 2.06-2.06.94z\"/><path d=\"M17.41 7.96l-1.37-1.37c-.4-.4-.92-.59-1.43-.59-.52 0-1.04.2-1.43.59L10.3 9.45l-7.72 7.72c-.78.78-.78 2.05 0 2.83L4 21.41c.39.39.9.59 1.41.59.51 0 1.02-.2 1.41-.59l7.78-7.78 2.81-2.81c.8-.78.8-2.07 0-2.86zM5.41 20L4 18.59l7.72-7.72 1.47 1.35L5.41 20z\"/>\n",
              "  </svg>\n",
              "      </button>\n",
              "      \n",
              "  <style>\n",
              "    .colab-df-container {\n",
              "      display:flex;\n",
              "      flex-wrap:wrap;\n",
              "      gap: 12px;\n",
              "    }\n",
              "\n",
              "    .colab-df-convert {\n",
              "      background-color: #E8F0FE;\n",
              "      border: none;\n",
              "      border-radius: 50%;\n",
              "      cursor: pointer;\n",
              "      display: none;\n",
              "      fill: #1967D2;\n",
              "      height: 32px;\n",
              "      padding: 0 0 0 0;\n",
              "      width: 32px;\n",
              "    }\n",
              "\n",
              "    .colab-df-convert:hover {\n",
              "      background-color: #E2EBFA;\n",
              "      box-shadow: 0px 1px 2px rgba(60, 64, 67, 0.3), 0px 1px 3px 1px rgba(60, 64, 67, 0.15);\n",
              "      fill: #174EA6;\n",
              "    }\n",
              "\n",
              "    [theme=dark] .colab-df-convert {\n",
              "      background-color: #3B4455;\n",
              "      fill: #D2E3FC;\n",
              "    }\n",
              "\n",
              "    [theme=dark] .colab-df-convert:hover {\n",
              "      background-color: #434B5C;\n",
              "      box-shadow: 0px 1px 3px 1px rgba(0, 0, 0, 0.15);\n",
              "      filter: drop-shadow(0px 1px 2px rgba(0, 0, 0, 0.3));\n",
              "      fill: #FFFFFF;\n",
              "    }\n",
              "  </style>\n",
              "\n",
              "      <script>\n",
              "        const buttonEl =\n",
              "          document.querySelector('#df-0678398a-99e4-4dbd-898a-8ac6fa79b69c button.colab-df-convert');\n",
              "        buttonEl.style.display =\n",
              "          google.colab.kernel.accessAllowed ? 'block' : 'none';\n",
              "\n",
              "        async function convertToInteractive(key) {\n",
              "          const element = document.querySelector('#df-0678398a-99e4-4dbd-898a-8ac6fa79b69c');\n",
              "          const dataTable =\n",
              "            await google.colab.kernel.invokeFunction('convertToInteractive',\n",
              "                                                     [key], {});\n",
              "          if (!dataTable) return;\n",
              "\n",
              "          const docLinkHtml = 'Like what you see? Visit the ' +\n",
              "            '<a target=\"_blank\" href=https://colab.research.google.com/notebooks/data_table.ipynb>data table notebook</a>'\n",
              "            + ' to learn more about interactive tables.';\n",
              "          element.innerHTML = '';\n",
              "          dataTable['output_type'] = 'display_data';\n",
              "          await google.colab.output.renderOutput(dataTable, element);\n",
              "          const docLink = document.createElement('div');\n",
              "          docLink.innerHTML = docLinkHtml;\n",
              "          element.appendChild(docLink);\n",
              "        }\n",
              "      </script>\n",
              "    </div>\n",
              "  </div>\n",
              "  "
            ]
          },
          "metadata": {},
          "execution_count": 10
        }
      ]
    },
    {
      "cell_type": "markdown",
      "source": [
        "### Columns with missing values count\n",
        "\n",
        "The Column \"Nb of sec with 37500B < Vol UL\" has maximum missing values of 130254 occurances"
      ],
      "metadata": {
        "id": "DCLGcOnkAzN8"
      },
      "id": "DCLGcOnkAzN8"
    },
    {
      "cell_type": "code",
      "execution_count": 11,
      "id": "33dae472",
      "metadata": {
        "scrolled": true,
        "id": "33dae472",
        "outputId": "3339cb90-ae07-47bf-ad34-358e2155dbf1",
        "colab": {
          "base_uri": "https://localhost:8080/"
        }
      },
      "outputs": [
        {
          "output_type": "execute_result",
          "data": {
            "text/plain": [
              "Bearer Id                                      991\n",
              "Start                                            1\n",
              "Start ms                                         1\n",
              "End                                              1\n",
              "End ms                                           1\n",
              "Dur. (ms)                                        1\n",
              "IMSI                                           570\n",
              "MSISDN/Number                                 1066\n",
              "IMEI                                           572\n",
              "Last Location Name                            1153\n",
              "Avg RTT DL (ms)                              27829\n",
              "Avg RTT UL (ms)                              27812\n",
              "Avg Bearer TP DL (kbps)                          1\n",
              "Avg Bearer TP UL (kbps)                          1\n",
              "TCP DL Retrans. Vol (Bytes)                  88146\n",
              "TCP UL Retrans. Vol (Bytes)                  96649\n",
              "DL TP < 50 Kbps (%)                            754\n",
              "50 Kbps < DL TP < 250 Kbps (%)                 754\n",
              "250 Kbps < DL TP < 1 Mbps (%)                  754\n",
              "DL TP > 1 Mbps (%)                             754\n",
              "UL TP < 10 Kbps (%)                            792\n",
              "10 Kbps < UL TP < 50 Kbps (%)                  792\n",
              "50 Kbps < UL TP < 300 Kbps (%)                 792\n",
              "UL TP > 300 Kbps (%)                           792\n",
              "HTTP DL (Bytes)                              81474\n",
              "HTTP UL (Bytes)                              81810\n",
              "Activity Duration DL (ms)                        1\n",
              "Activity Duration UL (ms)                        1\n",
              "Dur. (ms).1                                      1\n",
              "Handset Manufacturer                          9559\n",
              "Handset Type                                  9559\n",
              "Nb of sec with 125000B < Vol DL              97538\n",
              "Nb of sec with 1250B < Vol UL < 6250B        92894\n",
              "Nb of sec with 31250B < Vol DL < 125000B     93586\n",
              "Nb of sec with 37500B < Vol UL              130254\n",
              "Nb of sec with 6250B < Vol DL < 31250B       88317\n",
              "Nb of sec with 6250B < Vol UL < 37500B      111843\n",
              "Nb of sec with Vol DL < 6250B                  755\n",
              "Nb of sec with Vol UL < 1250B                  793\n",
              "Social Media DL (Bytes)                          0\n",
              "Social Media UL (Bytes)                          0\n",
              "Google DL (Bytes)                                0\n",
              "Google UL (Bytes)                                0\n",
              "Email DL (Bytes)                                 0\n",
              "Email UL (Bytes)                                 0\n",
              "Youtube DL (Bytes)                               0\n",
              "Youtube UL (Bytes)                               0\n",
              "Netflix DL (Bytes)                               0\n",
              "Netflix UL (Bytes)                               0\n",
              "Gaming DL (Bytes)                                0\n",
              "Gaming UL (Bytes)                                0\n",
              "Other DL (Bytes)                                 0\n",
              "Other UL (Bytes)                                 0\n",
              "Total UL (Bytes)                                 1\n",
              "Total DL (Bytes)                                 1\n",
              "dtype: int64"
            ]
          },
          "metadata": {},
          "execution_count": 11
        }
      ],
      "source": [
        "db.isna().sum() # missing values of each column"
      ]
    },
    {
      "cell_type": "code",
      "source": [
        "print (\"Maximum missing values per column: \", np.max(db.isna().sum())) # print(db.isna().sum().max())"
      ],
      "metadata": {
        "colab": {
          "base_uri": "https://localhost:8080/"
        },
        "id": "6LGr9zaXBZqP",
        "outputId": "f755da8f-a8be-43a2-d56f-8ad6a0d43fe6"
      },
      "id": "6LGr9zaXBZqP",
      "execution_count": 12,
      "outputs": [
        {
          "output_type": "stream",
          "name": "stdout",
          "text": [
            "Maximum missing values per column:  130254\n"
          ]
        }
      ]
    },
    {
      "cell_type": "markdown",
      "source": [
        "### Maximum values of each column"
      ],
      "metadata": {
        "id": "giNwKOiXHYrn"
      },
      "id": "giNwKOiXHYrn"
    },
    {
      "cell_type": "code",
      "source": [
        "db.max()"
      ],
      "metadata": {
        "colab": {
          "base_uri": "https://localhost:8080/"
        },
        "id": "rZK9rbcSGPRW",
        "outputId": "558845c6-dd57-459c-ca1e-63092188f0b3"
      },
      "id": "rZK9rbcSGPRW",
      "execution_count": 13,
      "outputs": [
        {
          "output_type": "execute_result",
          "data": {
            "text/plain": [
              "Bearer Id                                  13,186,541,167,134,199,808.00\n",
              "Start ms                                                          999.00\n",
              "End ms                                                            999.00\n",
              "Dur. (ms)                                                   1,859,336.00\n",
              "IMSI                                              214,074,303,349,628.00\n",
              "MSISDN/Number                                     882,397,108,489,451.00\n",
              "IMEI                                               99,001,201,327,774.00\n",
              "Avg RTT DL (ms)                                                96,923.00\n",
              "Avg RTT UL (ms)                                                 7,120.00\n",
              "Avg Bearer TP DL (kbps)                                       378,160.00\n",
              "Avg Bearer TP UL (kbps)                                        58,613.00\n",
              "TCP DL Retrans. Vol (Bytes)                             4,294,425,570.00\n",
              "TCP UL Retrans. Vol (Bytes)                             2,908,226,006.00\n",
              "DL TP < 50 Kbps (%)                                               100.00\n",
              "50 Kbps < DL TP < 250 Kbps (%)                                     93.00\n",
              "250 Kbps < DL TP < 1 Mbps (%)                                     100.00\n",
              "DL TP > 1 Mbps (%)                                                 94.00\n",
              "UL TP < 10 Kbps (%)                                               100.00\n",
              "10 Kbps < UL TP < 50 Kbps (%)                                      98.00\n",
              "50 Kbps < UL TP < 300 Kbps (%)                                    100.00\n",
              "UL TP > 300 Kbps (%)                                               96.00\n",
              "HTTP DL (Bytes)                                        72,530,636,168.00\n",
              "HTTP UL (Bytes)                                         1,491,889,672.00\n",
              "Activity Duration DL (ms)                                 136,536,461.00\n",
              "Activity Duration UL (ms)                                 144,911,293.00\n",
              "Dur. (ms).1                                             1,859,336,442.00\n",
              "Nb of sec with 125000B < Vol DL                                81,476.00\n",
              "Nb of sec with 1250B < Vol UL < 6250B                          85,412.00\n",
              "Nb of sec with 31250B < Vol DL < 125000B                       58,525.00\n",
              "Nb of sec with 37500B < Vol UL                                 50,553.00\n",
              "Nb of sec with 6250B < Vol DL < 31250B                         66,913.00\n",
              "Nb of sec with 6250B < Vol UL < 37500B                         49,565.00\n",
              "Nb of sec with Vol DL < 6250B                                 604,061.00\n",
              "Nb of sec with Vol UL < 1250B                                 604,122.00\n",
              "Social Media DL (Bytes)                                     3,586,064.00\n",
              "Social Media UL (Bytes)                                        65,870.00\n",
              "Google DL (Bytes)                                          11,462,832.00\n",
              "Google UL (Bytes)                                           4,121,357.00\n",
              "Email DL (Bytes)                                            3,586,146.00\n",
              "Email UL (Bytes)                                              936,418.00\n",
              "Youtube DL (Bytes)                                         23,259,098.00\n",
              "Youtube UL (Bytes)                                         22,011,962.00\n",
              "Netflix DL (Bytes)                                         23,259,189.00\n",
              "Netflix UL (Bytes)                                         22,011,955.00\n",
              "Gaming DL (Bytes)                                         843,441,889.00\n",
              "Gaming UL (Bytes)                                          16,558,794.00\n",
              "Other DL (Bytes)                                          843,442,489.00\n",
              "Other UL (Bytes)                                           16,558,816.00\n",
              "Total UL (Bytes)                                           78,331,311.00\n",
              "Total DL (Bytes)                                          902,969,616.00\n",
              "dtype: float64"
            ]
          },
          "metadata": {},
          "execution_count": 13
        }
      ]
    },
    {
      "cell_type": "markdown",
      "source": [
        "### Top 10 Handsets used"
      ],
      "metadata": {
        "id": "U121nP_ZVHpi"
      },
      "id": "U121nP_ZVHpi"
    },
    {
      "cell_type": "code",
      "source": [
        "db_hndset_count = db['Handset Type'].value_counts()\n",
        "top_10_hndsets = db_hndset_count.head(10)\n",
        "print(\"Most used handset types in Descending order:\\n\", db_hndset_count)\n",
        "print(\"\\n\\nTop 10 handsets used: \\n\", top_10_hndsets)"
      ],
      "metadata": {
        "colab": {
          "base_uri": "https://localhost:8080/"
        },
        "id": "0H2elwfdHwye",
        "outputId": "a5090c17-ba08-445b-95c1-84899c83035a"
      },
      "id": "0H2elwfdHwye",
      "execution_count": 14,
      "outputs": [
        {
          "output_type": "stream",
          "name": "stdout",
          "text": [
            "Most used handset types in Descending order:\n",
            " Huawei B528S-23A                                           19752\n",
            "Apple iPhone 6S (A1688)                                     9419\n",
            "Apple iPhone 6 (A1586)                                      9023\n",
            "Apple iPhone 7 (A1778)                                      6326\n",
            "Apple iPhone Se (A1723)                                     5187\n",
            "                                                           ...  \n",
            "Tct Mobile Suzho. Alcatel One Touch Y580D                      1\n",
            "Shenzhen Fortune. M-Ppas6                                      1\n",
            "Wiko Global Sasu Wiko Ridge 4G                                 1\n",
            "Hongkong Ipro Te. Ipro I9350 I9400 S3 Wave 3.5 Wave 4.0        1\n",
            "Shenzhen Jeko Co. Blackview Bv5800 Pro                         1\n",
            "Name: Handset Type, Length: 1395, dtype: int64\n",
            "\n",
            "\n",
            "Top 10 handsets used: \n",
            " Huawei B528S-23A                19752\n",
            "Apple iPhone 6S (A1688)          9419\n",
            "Apple iPhone 6 (A1586)           9023\n",
            "Apple iPhone 7 (A1778)           6326\n",
            "Apple iPhone Se (A1723)          5187\n",
            "Apple iPhone 8 (A1905)           4993\n",
            "Apple iPhone Xr (A2105)          4568\n",
            "Samsung Galaxy S8 (Sm-G950F)     4520\n",
            "Apple iPhone X (A1901)           3813\n",
            "Samsung Galaxy A5 Sm-A520F       3724\n",
            "Name: Handset Type, dtype: int64\n"
          ]
        }
      ]
    },
    {
      "cell_type": "markdown",
      "source": [
        "### Top 3 handset manufacturers"
      ],
      "metadata": {
        "id": "c-K8AOj3VOaM"
      },
      "id": "c-K8AOj3VOaM"
    },
    {
      "cell_type": "code",
      "source": [
        "db_hndset_manufac_count = db['Handset Manufacturer'].value_counts()\n",
        "top_3_manufact = db_hndset_manufac_count.head(3)\n",
        "print(\"Dominant manufacturers in descending order:\\n\", db_hndset_manufac_count)\n",
        "print(\"\\n\\nTop 3 manufacturers: \\n\", top_3_manufact)"
      ],
      "metadata": {
        "colab": {
          "base_uri": "https://localhost:8080/"
        },
        "id": "2ETLDPfxVVWP",
        "outputId": "93bc743d-41d8-40c6-8fe4-a669b1c5e909"
      },
      "id": "2ETLDPfxVVWP",
      "execution_count": 15,
      "outputs": [
        {
          "output_type": "stream",
          "name": "stdout",
          "text": [
            "Dominant manufacturers in descending order:\n",
            " Apple                               59565\n",
            "Samsung                             40839\n",
            "Huawei                              34423\n",
            "Sony Mobile Communications Ab         980\n",
            "Wiko Global Sasu                      747\n",
            "                                    ...  \n",
            "Pt. Arga Mas Lestari                    1\n",
            "Doke Communication (Hk) Limited         1\n",
            "Vastking Technology (Hk) Limited        1\n",
            "Mobiwire Sas                            1\n",
            "Shenzhen Gaoxinqi                       1\n",
            "Name: Handset Manufacturer, Length: 169, dtype: int64\n",
            "\n",
            "\n",
            "Top 3 manufacturers: \n",
            " Apple      59565\n",
            "Samsung    40839\n",
            "Huawei     34423\n",
            "Name: Handset Manufacturer, dtype: int64\n"
          ]
        }
      ]
    },
    {
      "cell_type": "markdown",
      "source": [
        "### Manufacturer-Handset pairs"
      ],
      "metadata": {
        "id": "dPOkS4FmcRcJ"
      },
      "id": "dPOkS4FmcRcJ"
    },
    {
      "cell_type": "code",
      "source": [
        "db_hndset_manufac_pair = db.value_counts([\"Handset Manufacturer\", \"Handset Type\"])\n",
        "top_3_manufact_5_hndset = db_hndset_manufac_pair.head(3)\n",
        "print(\"Manufacturers-handset pair:\\n\", top_3_manufact_5_hndset)"
      ],
      "metadata": {
        "colab": {
          "base_uri": "https://localhost:8080/"
        },
        "id": "4MidPe74X2l2",
        "outputId": "162cebd7-30d4-4a25-efa3-a05413e0ee81"
      },
      "id": "4MidPe74X2l2",
      "execution_count": 16,
      "outputs": [
        {
          "output_type": "stream",
          "name": "stdout",
          "text": [
            "Manufacturers-handset pair:\n",
            " Handset Manufacturer  Handset Type           \n",
            "Huawei                Huawei B528S-23A           19752\n",
            "Apple                 Apple iPhone 6S (A1688)     9419\n",
            "                      Apple iPhone 6 (A1586)      9023\n",
            "dtype: int64\n"
          ]
        }
      ]
    },
    {
      "cell_type": "markdown",
      "source": [
        ""
      ],
      "metadata": {
        "id": "kCknEPly-ESn"
      },
      "id": "kCknEPly-ESn"
    },
    {
      "cell_type": "markdown",
      "source": [
        "### Data Aggregation with each column"
      ],
      "metadata": {
        "id": "SrTo5Dqz-EXW"
      },
      "id": "SrTo5Dqz-EXW"
    },
    {
      "cell_type": "code",
      "source": [
        "db['Bearer Id'].value_counts() # Each BearerID occurances aggregated\n",
        "# db.value_counts('Bearer Id') also works"
      ],
      "metadata": {
        "colab": {
          "base_uri": "https://localhost:8080/"
        },
        "id": "Zq-jkyNed0hg",
        "outputId": "852daf97-d005-46ce-bac8-a6f9e19ee318"
      },
      "id": "Zq-jkyNed0hg",
      "execution_count": 17,
      "outputs": [
        {
          "output_type": "execute_result",
          "data": {
            "text/plain": [
              "13,042,425,979,269,199,872.00    16\n",
              "13,042,425,965,944,199,168.00    10\n",
              "13,042,425,981,873,399,808.00     9\n",
              "13,042,425,972,278,300,672.00     9\n",
              "13,042,425,978,774,599,680.00     9\n",
              "                                 ..\n",
              "7,349,883,250,965,940,224.00      1\n",
              "7,349,883,250,964,910,080.00      1\n",
              "13,114,483,554,813,700,096.00     1\n",
              "7,349,883,250,962,140,160.00      1\n",
              "7,349,883,256,421,359,616.00      1\n",
              "Name: Bearer Id, Length: 134708, dtype: int64"
            ]
          },
          "metadata": {},
          "execution_count": 17
        }
      ]
    },
    {
      "cell_type": "markdown",
      "source": [
        "### User (MSISDN) Grouped and Agregated with Bearer Id(xDR session)\n",
        "Each user has unique xDR session"
      ],
      "metadata": {
        "id": "5RCFersHkfpS"
      },
      "id": "5RCFersHkfpS"
    },
    {
      "cell_type": "code",
      "source": [
        "# db_user_xDR = db.groupby([\"IMEI\",\"Bearer Id\"]).agg(session_count = ('Bearer Id', 'value_counts')) # it also works\n",
        "db_user_xDR = db.groupby([\"MSISDN/Number\",\"Bearer Id\"]).size()\n",
        "db_user_xDR"
      ],
      "metadata": {
        "colab": {
          "base_uri": "https://localhost:8080/"
        },
        "id": "J_C6-j2ghRCB",
        "outputId": "9457df88-c653-42ae-e090-06320e814b5a"
      },
      "id": "J_C6-j2ghRCB",
      "execution_count": 18,
      "outputs": [
        {
          "output_type": "execute_result",
          "data": {
            "text/plain": [
              "MSISDN/Number           Bearer Id                    \n",
              "33,601,001,722.00       13,114,483,554,762,799,104.00    1\n",
              "33,601,001,754.00       7,349,883,260,786,089,984.00     1\n",
              "33,601,002,511.00       7,349,883,263,388,680,192.00     1\n",
              "33,601,007,832.00       13,042,425,972,781,099,008.00    1\n",
              "33,601,008,617.00       7,277,825,655,840,339,968.00     1\n",
              "                                                        ..\n",
              "33,789,996,170.00       13,042,425,959,639,599,104.00    1\n",
              "33,789,997,247.00       13,114,483,558,421,200,896.00    1\n",
              "3,197,020,876,596.00    7,277,825,624,788,950,016.00     1\n",
              "337,000,037,000,919.00  7,349,883,258,102,979,584.00     1\n",
              "882,397,108,489,451.00  7,277,825,601,573,409,792.00     1\n",
              "Length: 147028, dtype: int64"
            ]
          },
          "metadata": {},
          "execution_count": 18
        }
      ]
    },
    {
      "cell_type": "markdown",
      "source": [
        "### User(MSISDN) Grouped and Aggregated with xDR duration"
      ],
      "metadata": {
        "id": "7bEI9z8mnQ0a"
      },
      "id": "7bEI9z8mnQ0a"
    },
    {
      "cell_type": "code",
      "source": [
        "db_user_Duration = db.groupby([\"MSISDN/Number\",\"Dur. (ms)\"]).size() #transform(sum)\n",
        "db_user_Duration"
      ],
      "metadata": {
        "colab": {
          "base_uri": "https://localhost:8080/"
        },
        "id": "P941MAz-nP2i",
        "outputId": "20c0a803-4dc8-4f8b-9ced-4d58d12777db"
      },
      "id": "P941MAz-nP2i",
      "execution_count": 19,
      "outputs": [
        {
          "output_type": "execute_result",
          "data": {
            "text/plain": [
              "MSISDN/Number           Dur. (ms) \n",
              "33,601,001,722.00       116,720.00    1\n",
              "33,601,001,754.00       181,230.00    1\n",
              "33,601,002,511.00       134,969.00    1\n",
              "33,601,007,832.00       49,878.00     1\n",
              "33,601,008,617.00       18,549.00     1\n",
              "                                     ..\n",
              "33,789,996,170.00       8,810.00      1\n",
              "33,789,997,247.00       140,988.00    1\n",
              "3,197,020,876,596.00    877,385.00    1\n",
              "337,000,037,000,919.00  253,030.00    1\n",
              "882,397,108,489,451.00  869,844.00    1\n",
              "Length: 141436, dtype: int64"
            ]
          },
          "metadata": {},
          "execution_count": 19
        }
      ]
    },
    {
      "cell_type": "markdown",
      "source": [
        "### User(MSISDN) and Total UL(Upload) Grouped and Aggregated"
      ],
      "metadata": {
        "id": "Y9KmONNCvvrk"
      },
      "id": "Y9KmONNCvvrk"
    },
    {
      "cell_type": "code",
      "source": [
        "db_user_UL_data = db.groupby([\"MSISDN/Number\",\"Total UL (Bytes)\"]).size()\n",
        "db_user_UL_data"
      ],
      "metadata": {
        "colab": {
          "base_uri": "https://localhost:8080/"
        },
        "id": "pu9uuB5Tv51B",
        "outputId": "d8ead363-de17-41e6-b512-26eb54ffe241"
      },
      "id": "pu9uuB5Tv51B",
      "execution_count": 20,
      "outputs": [
        {
          "output_type": "execute_result",
          "data": {
            "text/plain": [
              "MSISDN/Number           Total UL (Bytes)\n",
              "33,601,001,722.00       36,053,108.00       1\n",
              "33,601,001,754.00       36,104,459.00       1\n",
              "33,601,002,511.00       39,306,820.00       1\n",
              "33,601,007,832.00       20,327,526.00       1\n",
              "33,601,008,617.00       38,481,427.00       1\n",
              "                                           ..\n",
              "33,789,996,170.00       26,716,429.00       1\n",
              "33,789,997,247.00       35,732,243.00       1\n",
              "3,197,020,876,596.00    37,295,915.00       1\n",
              "337,000,037,000,919.00  56,652,839.00       1\n",
              "882,397,108,489,451.00  60,456,049.00       1\n",
              "Length: 148935, dtype: int64"
            ]
          },
          "metadata": {},
          "execution_count": 20
        }
      ]
    },
    {
      "cell_type": "markdown",
      "source": [
        "### User(MSISDN) and total download(DL) grouped and aggregated"
      ],
      "metadata": {
        "id": "z-3dxxdfwziK"
      },
      "id": "z-3dxxdfwziK"
    },
    {
      "cell_type": "code",
      "source": [
        "db_user_DL_data = db.groupby([\"MSISDN/Number\",\"Total DL (Bytes)\"]).size()\n",
        "db_user_DL_data"
      ],
      "metadata": {
        "colab": {
          "base_uri": "https://localhost:8080/"
        },
        "id": "Fda129YfxAwR",
        "outputId": "06b5d6d9-30a7-45a4-edef-4f922f0ea892"
      },
      "id": "Fda129YfxAwR",
      "execution_count": 21,
      "outputs": [
        {
          "output_type": "execute_result",
          "data": {
            "text/plain": [
              "MSISDN/Number           Total DL (Bytes)\n",
              "33,601,001,722.00       842,637,466.00      1\n",
              "33,601,001,754.00       120,755,184.00      1\n",
              "33,601,002,511.00       556,659,663.00      1\n",
              "33,601,007,832.00       401,993,172.00      1\n",
              "33,601,008,617.00       547,096,937.00      1\n",
              "                                           ..\n",
              "33,789,996,170.00       687,925,212.00      1\n",
              "33,789,997,247.00       444,575,092.00      1\n",
              "3,197,020,876,596.00    194,828,056.00      1\n",
              "337,000,037,000,919.00  539,634,985.00      1\n",
              "882,397,108,489,451.00  78,697,597.00       1\n",
              "Length: 148935, dtype: int64"
            ]
          },
          "metadata": {},
          "execution_count": 21
        }
      ]
    },
    {
      "cell_type": "markdown",
      "source": [
        "### User (MSISDN) aggregated with Social Media DL data volume"
      ],
      "metadata": {
        "id": "LtXeDKCizNra"
      },
      "id": "LtXeDKCizNra"
    },
    {
      "cell_type": "code",
      "source": [
        "db_user_DL_social_media = db.groupby([\"MSISDN/Number\",\"Social Media DL (Bytes)\"]).size()\n",
        "db_user_DL_social_media"
      ],
      "metadata": {
        "colab": {
          "base_uri": "https://localhost:8080/"
        },
        "id": "GwczfglzzMrE",
        "outputId": "87879c92-0beb-4036-c66d-cf6ddd45b70a"
      },
      "id": "GwczfglzzMrE",
      "execution_count": 22,
      "outputs": [
        {
          "output_type": "execute_result",
          "data": {
            "text/plain": [
              "MSISDN/Number           Social Media DL (Bytes)\n",
              "33,601,001,722.00       2,206,504.00               1\n",
              "33,601,001,754.00       2,598,548.00               1\n",
              "33,601,002,511.00       3,148,004.00               1\n",
              "33,601,007,832.00       251,469.00                 1\n",
              "33,601,008,617.00       1,359,904.00               1\n",
              "                                                  ..\n",
              "33,789,996,170.00       234,320.00                 1\n",
              "33,789,997,247.00       442,214.00                 1\n",
              "3,197,020,876,596.00    668,596.00                 1\n",
              "337,000,037,000,919.00  496,337.00                 1\n",
              "882,397,108,489,451.00  1,500,145.00               1\n",
              "Length: 148935, dtype: int64"
            ]
          },
          "metadata": {},
          "execution_count": 22
        }
      ]
    },
    {
      "cell_type": "markdown",
      "source": [
        "### Data volume for Social Media UL (Bytes)"
      ],
      "metadata": {
        "id": "0oYA_XGs0FGn"
      },
      "id": "0oYA_XGs0FGn"
    },
    {
      "cell_type": "code",
      "source": [
        "db_user_UL_social_media = db.groupby([\"IMEI\",\"Social Media UL (Bytes)\"]).size()\n",
        "db_user_UL_social_media"
      ],
      "metadata": {
        "colab": {
          "base_uri": "https://localhost:8080/"
        },
        "id": "XJKwpETi0N2X",
        "outputId": "fe6f713b-4e5a-4f64-bbd6-0dfdb01b733e"
      },
      "id": "XJKwpETi0N2X",
      "execution_count": 23,
      "outputs": [
        {
          "output_type": "execute_result",
          "data": {
            "text/plain": [
              "IMEI                   Social Media UL (Bytes)\n",
              "440,015,202,000.00     23,968.00                  1\n",
              "440,213,760,252.00     10,391.00                  1\n",
              "1,194,900,553,757.00   21,582.00                  1\n",
              "1,198,200,957,179.00   47,026.00                  1\n",
              "1,202,600,872,459.00   40,729.00                  1\n",
              "                                                 ..\n",
              "99,001,201,170,334.00  19,423.00                  1\n",
              "99,001,201,173,604.00  40,173.00                  1\n",
              "99,001,201,174,446.00  11,484.00                  1\n",
              "99,001,201,184,888.00  36,687.00                  1\n",
              "99,001,201,327,774.00  47,571.00                  1\n",
              "Length: 149429, dtype: int64"
            ]
          },
          "metadata": {},
          "execution_count": 23
        }
      ]
    },
    {
      "cell_type": "markdown",
      "source": [
        "### Data volume for YouTube DL (Bytes)"
      ],
      "metadata": {
        "id": "GKnXSube0hO0"
      },
      "id": "GKnXSube0hO0"
    },
    {
      "cell_type": "code",
      "source": [
        "db_user_DL_Youtube = db.groupby([\"IMEI\",\"Youtube DL (Bytes)\"]).size()\n",
        "db_user_DL_Youtube"
      ],
      "metadata": {
        "colab": {
          "base_uri": "https://localhost:8080/"
        },
        "id": "xU2K89q313bI",
        "outputId": "efad8f2c-8e24-4340-ab11-d2a04f1a00ac"
      },
      "id": "xU2K89q313bI",
      "execution_count": 24,
      "outputs": [
        {
          "output_type": "execute_result",
          "data": {
            "text/plain": [
              "IMEI                   Youtube DL (Bytes)\n",
              "440,015,202,000.00     17,663,991.00         1\n",
              "440,213,760,252.00     16,138,988.00         1\n",
              "1,194,900,553,757.00   11,564,842.00         1\n",
              "1,198,200,957,179.00   17,902,177.00         1\n",
              "1,202,600,872,459.00   14,930,167.00         1\n",
              "                                            ..\n",
              "99,001,201,170,334.00  23,028,070.00         1\n",
              "99,001,201,173,604.00  7,657,831.00          1\n",
              "99,001,201,174,446.00  7,758,118.00          1\n",
              "99,001,201,184,888.00  21,892,427.00         1\n",
              "99,001,201,327,774.00  11,712,040.00         1\n",
              "Length: 149429, dtype: int64"
            ]
          },
          "metadata": {},
          "execution_count": 24
        }
      ]
    },
    {
      "cell_type": "markdown",
      "source": [
        "### Data volume for YouTube UL (Bytes)"
      ],
      "metadata": {
        "id": "h7cIUkeO0mGP"
      },
      "id": "h7cIUkeO0mGP"
    },
    {
      "cell_type": "code",
      "source": [
        "db_user_UL_Youtube = db.groupby([\"IMEI\",\"Youtube UL (Bytes)\"]).size()\n",
        "db_user_UL_Youtube"
      ],
      "metadata": {
        "colab": {
          "base_uri": "https://localhost:8080/"
        },
        "id": "CE7w_Xu02er2",
        "outputId": "bf3f42cc-abef-49b1-f39d-89735a9a7dd8"
      },
      "id": "CE7w_Xu02er2",
      "execution_count": 25,
      "outputs": [
        {
          "output_type": "execute_result",
          "data": {
            "text/plain": [
              "IMEI                   Youtube UL (Bytes)\n",
              "440,015,202,000.00     10,703,865.00         1\n",
              "440,213,760,252.00     5,122,393.00          1\n",
              "1,194,900,553,757.00   12,364,791.00         1\n",
              "1,198,200,957,179.00   19,542,058.00         1\n",
              "1,202,600,872,459.00   5,631,939.00          1\n",
              "                                            ..\n",
              "99,001,201,170,334.00  3,288,163.00          1\n",
              "99,001,201,173,604.00  16,255,095.00         1\n",
              "99,001,201,174,446.00  18,200,855.00         1\n",
              "99,001,201,184,888.00  20,132,095.00         1\n",
              "99,001,201,327,774.00  17,491,066.00         1\n",
              "Length: 149429, dtype: int64"
            ]
          },
          "metadata": {},
          "execution_count": 25
        }
      ]
    },
    {
      "cell_type": "markdown",
      "source": [
        "### Data volume for Netflix DL (Bytes)"
      ],
      "metadata": {
        "id": "H7AuqlsB03i1"
      },
      "id": "H7AuqlsB03i1"
    },
    {
      "cell_type": "code",
      "source": [
        "db_user_DL_Netflix = db.groupby([\"IMEI\",\"Netflix DL (Bytes)\"]).size()\n",
        "db_user_DL_Netflix"
      ],
      "metadata": {
        "colab": {
          "base_uri": "https://localhost:8080/"
        },
        "id": "MpLLrcHA2trj",
        "outputId": "631e9448-95c3-4711-e6ae-2ad9360773ca"
      },
      "id": "MpLLrcHA2trj",
      "execution_count": 26,
      "outputs": [
        {
          "output_type": "execute_result",
          "data": {
            "text/plain": [
              "IMEI                   Netflix DL (Bytes)\n",
              "440,015,202,000.00     6,289,240.00          1\n",
              "440,213,760,252.00     18,158,139.00         1\n",
              "1,194,900,553,757.00   6,415,185.00          1\n",
              "1,198,200,957,179.00   21,142,414.00         1\n",
              "1,202,600,872,459.00   3,775,834.00          1\n",
              "                                            ..\n",
              "99,001,201,170,334.00  12,108,876.00         1\n",
              "99,001,201,173,604.00  13,351,462.00         1\n",
              "99,001,201,174,446.00  568,035.00            1\n",
              "99,001,201,184,888.00  17,069,544.00         1\n",
              "99,001,201,327,774.00  6,866,986.00          1\n",
              "Length: 149429, dtype: int64"
            ]
          },
          "metadata": {},
          "execution_count": 26
        }
      ]
    },
    {
      "cell_type": "markdown",
      "source": [
        "### Data volume for Netflix UL (Bytes)"
      ],
      "metadata": {
        "id": "yKEYyvoH08l4"
      },
      "id": "yKEYyvoH08l4"
    },
    {
      "cell_type": "code",
      "source": [
        "db_user_UL_Netflix = db.groupby([\"IMEI\",\"Netflix UL (Bytes)\"]).size()\n",
        "db_user_UL_Netflix"
      ],
      "metadata": {
        "colab": {
          "base_uri": "https://localhost:8080/"
        },
        "id": "Xm4eOpAK2yaq",
        "outputId": "907f4ff0-9a86-47b1-96bf-7ea61ae4ad66"
      },
      "id": "Xm4eOpAK2yaq",
      "execution_count": 27,
      "outputs": [
        {
          "output_type": "execute_result",
          "data": {
            "text/plain": [
              "IMEI                   Netflix UL (Bytes)\n",
              "440,015,202,000.00     16,570,359.00         1\n",
              "440,213,760,252.00     3,929,179.00          1\n",
              "1,194,900,553,757.00   7,003,752.00          1\n",
              "1,198,200,957,179.00   6,731,353.00          1\n",
              "1,202,600,872,459.00   16,166,734.00         1\n",
              "                                            ..\n",
              "99,001,201,170,334.00  7,786,350.00          1\n",
              "99,001,201,173,604.00  20,540,669.00         1\n",
              "99,001,201,174,446.00  18,503,538.00         1\n",
              "99,001,201,184,888.00  10,935,676.00         1\n",
              "99,001,201,327,774.00  15,478,761.00         1\n",
              "Length: 149429, dtype: int64"
            ]
          },
          "metadata": {},
          "execution_count": 27
        }
      ]
    },
    {
      "cell_type": "markdown",
      "source": [
        "### Data volume for Google DL (Bytes)"
      ],
      "metadata": {
        "id": "sV-j80Wl1AwR"
      },
      "id": "sV-j80Wl1AwR"
    },
    {
      "cell_type": "code",
      "source": [
        "db_user_DL_Google = db.groupby([\"IMEI\",\"Google DL (Bytes)\"]).size()\n",
        "db_user_DL_Google"
      ],
      "metadata": {
        "colab": {
          "base_uri": "https://localhost:8080/"
        },
        "id": "g7hJE8_72zz5",
        "outputId": "97105dea-072d-44fc-eb03-a0fcc959e130"
      },
      "id": "g7hJE8_72zz5",
      "execution_count": 28,
      "outputs": [
        {
          "output_type": "execute_result",
          "data": {
            "text/plain": [
              "IMEI                   Google DL (Bytes)\n",
              "440,015,202,000.00     9,125,569.00         1\n",
              "440,213,760,252.00     8,520,422.00         1\n",
              "1,194,900,553,757.00   8,410,141.00         1\n",
              "1,198,200,957,179.00   5,157,701.00         1\n",
              "1,202,600,872,459.00   5,895,854.00         1\n",
              "                                           ..\n",
              "99,001,201,170,334.00  6,692,349.00         1\n",
              "99,001,201,173,604.00  10,320,330.00        1\n",
              "99,001,201,174,446.00  8,423,513.00         1\n",
              "99,001,201,184,888.00  7,989,805.00         1\n",
              "99,001,201,327,774.00  2,273,925.00         1\n",
              "Length: 149429, dtype: int64"
            ]
          },
          "metadata": {},
          "execution_count": 28
        }
      ]
    },
    {
      "cell_type": "markdown",
      "source": [
        "### Data volume for Google UL (Bytes)"
      ],
      "metadata": {
        "id": "Vrzk5muO1HZo"
      },
      "id": "Vrzk5muO1HZo"
    },
    {
      "cell_type": "code",
      "source": [
        "db_user_UL_Google = db.groupby([\"IMEI\",\"Google UL (Bytes)\"]).size()\n",
        "db_user_UL_Google"
      ],
      "metadata": {
        "colab": {
          "base_uri": "https://localhost:8080/"
        },
        "id": "vDIf71GF20_w",
        "outputId": "98939e7a-2b73-4ae6-9dac-3da8d81d44f8"
      },
      "id": "vDIf71GF20_w",
      "execution_count": 29,
      "outputs": [
        {
          "output_type": "execute_result",
          "data": {
            "text/plain": [
              "IMEI                   Google UL (Bytes)\n",
              "440,015,202,000.00     3,608,143.00         1\n",
              "440,213,760,252.00     1,514,991.00         1\n",
              "1,194,900,553,757.00   1,073,199.00         1\n",
              "1,198,200,957,179.00   1,790,556.00         1\n",
              "1,202,600,872,459.00   1,209,943.00         1\n",
              "                                           ..\n",
              "99,001,201,170,334.00  1,614,004.00         1\n",
              "99,001,201,173,604.00  3,955,033.00         1\n",
              "99,001,201,174,446.00  224,804.00           1\n",
              "99,001,201,184,888.00  3,664,900.00         1\n",
              "99,001,201,327,774.00  692,421.00           1\n",
              "Length: 149429, dtype: int64"
            ]
          },
          "metadata": {},
          "execution_count": 29
        }
      ]
    },
    {
      "cell_type": "markdown",
      "source": [
        "### Data volume for Email DL (Bytes)"
      ],
      "metadata": {
        "id": "MP35Uhc61NNt"
      },
      "id": "MP35Uhc61NNt"
    },
    {
      "cell_type": "code",
      "source": [
        "db_user_DL_Email = db.groupby([\"IMEI\",\"Email DL (Bytes)\"]).size()\n",
        "db_user_DL_Email"
      ],
      "metadata": {
        "colab": {
          "base_uri": "https://localhost:8080/"
        },
        "id": "l7p0k80a22gz",
        "outputId": "d02f8607-9d70-4cc6-8bc7-f280552b5aa2"
      },
      "id": "l7p0k80a22gz",
      "execution_count": 30,
      "outputs": [
        {
          "output_type": "execute_result",
          "data": {
            "text/plain": [
              "IMEI                   Email DL (Bytes)\n",
              "440,015,202,000.00     989,198.00          1\n",
              "440,213,760,252.00     2,585,927.00        1\n",
              "1,194,900,553,757.00   1,483,785.00        1\n",
              "1,198,200,957,179.00   1,641,265.00        1\n",
              "1,202,600,872,459.00   413,901.00          1\n",
              "                                          ..\n",
              "99,001,201,170,334.00  3,072,288.00        1\n",
              "99,001,201,173,604.00  855,847.00          1\n",
              "99,001,201,174,446.00  2,540,187.00        1\n",
              "99,001,201,184,888.00  3,518,168.00        1\n",
              "99,001,201,327,774.00  1,412,808.00        1\n",
              "Length: 149429, dtype: int64"
            ]
          },
          "metadata": {},
          "execution_count": 30
        }
      ]
    },
    {
      "cell_type": "markdown",
      "source": [
        "### Data volume for Email UL (Bytes)"
      ],
      "metadata": {
        "id": "tXriBPsK1Q_S"
      },
      "id": "tXriBPsK1Q_S"
    },
    {
      "cell_type": "code",
      "source": [
        "db_user_UL_Email = db.groupby([\"IMEI\",\"Email UL (Bytes)\"]).size()\n",
        "db_user_UL_Email"
      ],
      "metadata": {
        "colab": {
          "base_uri": "https://localhost:8080/"
        },
        "id": "9uZOZpw225A3",
        "outputId": "8385d182-e4d8-4203-a565-ff409e5941fc"
      },
      "id": "9uZOZpw225A3",
      "execution_count": 31,
      "outputs": [
        {
          "output_type": "execute_result",
          "data": {
            "text/plain": [
              "IMEI                   Email UL (Bytes)\n",
              "440,015,202,000.00     144,441.00          1\n",
              "440,213,760,252.00     688,283.00          1\n",
              "1,194,900,553,757.00   580,787.00          1\n",
              "1,198,200,957,179.00   17,994.00           1\n",
              "1,202,600,872,459.00   422,686.00          1\n",
              "                                          ..\n",
              "99,001,201,170,334.00  262,886.00          1\n",
              "99,001,201,173,604.00  407,553.00          1\n",
              "99,001,201,174,446.00  714,363.00          1\n",
              "99,001,201,184,888.00  332,090.00          1\n",
              "99,001,201,327,774.00  303,858.00          1\n",
              "Length: 149429, dtype: int64"
            ]
          },
          "metadata": {},
          "execution_count": 31
        }
      ]
    },
    {
      "cell_type": "markdown",
      "source": [
        "### Data volume for Gaming DL (Bytes)"
      ],
      "metadata": {
        "id": "RLhFZOnF1ROV"
      },
      "id": "RLhFZOnF1ROV"
    },
    {
      "cell_type": "code",
      "source": [
        "db_user_DL_Gaming = db.groupby([\"IMEI\",\"Gaming DL (Bytes)\"]).agg({'Gaming DL (Bytes)':'sum'})#.size()\n",
        "db_user_DL_Gaming"
      ],
      "metadata": {
        "colab": {
          "base_uri": "https://localhost:8080/",
          "height": 455
        },
        "id": "1Hiqbs8i2511",
        "outputId": "4b25978e-b391-4d7a-9550-295c8143d97f"
      },
      "id": "1Hiqbs8i2511",
      "execution_count": 32,
      "outputs": [
        {
          "output_type": "execute_result",
          "data": {
            "text/plain": [
              "                                         Gaming DL (Bytes)\n",
              "IMEI                  Gaming DL (Bytes)                   \n",
              "440,015,202,000.00    159,786,457.00        159,786,457.00\n",
              "440,213,760,252.00    86,956,751.00          86,956,751.00\n",
              "1,194,900,553,757.00  827,578,143.00        827,578,143.00\n",
              "1,198,200,957,179.00  743,030,255.00        743,030,255.00\n",
              "1,202,600,872,459.00  770,457,035.00        770,457,035.00\n",
              "...                                                    ...\n",
              "99,001,201,170,334.00 810,397,893.00        810,397,893.00\n",
              "99,001,201,173,604.00 253,039,860.00        253,039,860.00\n",
              "99,001,201,174,446.00 313,938,694.00        313,938,694.00\n",
              "99,001,201,184,888.00 813,588,652.00        813,588,652.00\n",
              "99,001,201,327,774.00 458,369,987.00        458,369,987.00\n",
              "\n",
              "[149429 rows x 1 columns]"
            ],
            "text/html": [
              "\n",
              "  <div id=\"df-b0ebe813-eddf-4cba-9379-75f5a35a877f\">\n",
              "    <div class=\"colab-df-container\">\n",
              "      <div>\n",
              "<style scoped>\n",
              "    .dataframe tbody tr th:only-of-type {\n",
              "        vertical-align: middle;\n",
              "    }\n",
              "\n",
              "    .dataframe tbody tr th {\n",
              "        vertical-align: top;\n",
              "    }\n",
              "\n",
              "    .dataframe thead th {\n",
              "        text-align: right;\n",
              "    }\n",
              "</style>\n",
              "<table border=\"1\" class=\"dataframe\">\n",
              "  <thead>\n",
              "    <tr style=\"text-align: right;\">\n",
              "      <th></th>\n",
              "      <th></th>\n",
              "      <th>Gaming DL (Bytes)</th>\n",
              "    </tr>\n",
              "    <tr>\n",
              "      <th>IMEI</th>\n",
              "      <th>Gaming DL (Bytes)</th>\n",
              "      <th></th>\n",
              "    </tr>\n",
              "  </thead>\n",
              "  <tbody>\n",
              "    <tr>\n",
              "      <th>440,015,202,000.00</th>\n",
              "      <th>159,786,457.00</th>\n",
              "      <td>159,786,457.00</td>\n",
              "    </tr>\n",
              "    <tr>\n",
              "      <th>440,213,760,252.00</th>\n",
              "      <th>86,956,751.00</th>\n",
              "      <td>86,956,751.00</td>\n",
              "    </tr>\n",
              "    <tr>\n",
              "      <th>1,194,900,553,757.00</th>\n",
              "      <th>827,578,143.00</th>\n",
              "      <td>827,578,143.00</td>\n",
              "    </tr>\n",
              "    <tr>\n",
              "      <th>1,198,200,957,179.00</th>\n",
              "      <th>743,030,255.00</th>\n",
              "      <td>743,030,255.00</td>\n",
              "    </tr>\n",
              "    <tr>\n",
              "      <th>1,202,600,872,459.00</th>\n",
              "      <th>770,457,035.00</th>\n",
              "      <td>770,457,035.00</td>\n",
              "    </tr>\n",
              "    <tr>\n",
              "      <th>...</th>\n",
              "      <th>...</th>\n",
              "      <td>...</td>\n",
              "    </tr>\n",
              "    <tr>\n",
              "      <th>99,001,201,170,334.00</th>\n",
              "      <th>810,397,893.00</th>\n",
              "      <td>810,397,893.00</td>\n",
              "    </tr>\n",
              "    <tr>\n",
              "      <th>99,001,201,173,604.00</th>\n",
              "      <th>253,039,860.00</th>\n",
              "      <td>253,039,860.00</td>\n",
              "    </tr>\n",
              "    <tr>\n",
              "      <th>99,001,201,174,446.00</th>\n",
              "      <th>313,938,694.00</th>\n",
              "      <td>313,938,694.00</td>\n",
              "    </tr>\n",
              "    <tr>\n",
              "      <th>99,001,201,184,888.00</th>\n",
              "      <th>813,588,652.00</th>\n",
              "      <td>813,588,652.00</td>\n",
              "    </tr>\n",
              "    <tr>\n",
              "      <th>99,001,201,327,774.00</th>\n",
              "      <th>458,369,987.00</th>\n",
              "      <td>458,369,987.00</td>\n",
              "    </tr>\n",
              "  </tbody>\n",
              "</table>\n",
              "<p>149429 rows × 1 columns</p>\n",
              "</div>\n",
              "      <button class=\"colab-df-convert\" onclick=\"convertToInteractive('df-b0ebe813-eddf-4cba-9379-75f5a35a877f')\"\n",
              "              title=\"Convert this dataframe to an interactive table.\"\n",
              "              style=\"display:none;\">\n",
              "        \n",
              "  <svg xmlns=\"http://www.w3.org/2000/svg\" height=\"24px\"viewBox=\"0 0 24 24\"\n",
              "       width=\"24px\">\n",
              "    <path d=\"M0 0h24v24H0V0z\" fill=\"none\"/>\n",
              "    <path d=\"M18.56 5.44l.94 2.06.94-2.06 2.06-.94-2.06-.94-.94-2.06-.94 2.06-2.06.94zm-11 1L8.5 8.5l.94-2.06 2.06-.94-2.06-.94L8.5 2.5l-.94 2.06-2.06.94zm10 10l.94 2.06.94-2.06 2.06-.94-2.06-.94-.94-2.06-.94 2.06-2.06.94z\"/><path d=\"M17.41 7.96l-1.37-1.37c-.4-.4-.92-.59-1.43-.59-.52 0-1.04.2-1.43.59L10.3 9.45l-7.72 7.72c-.78.78-.78 2.05 0 2.83L4 21.41c.39.39.9.59 1.41.59.51 0 1.02-.2 1.41-.59l7.78-7.78 2.81-2.81c.8-.78.8-2.07 0-2.86zM5.41 20L4 18.59l7.72-7.72 1.47 1.35L5.41 20z\"/>\n",
              "  </svg>\n",
              "      </button>\n",
              "      \n",
              "  <style>\n",
              "    .colab-df-container {\n",
              "      display:flex;\n",
              "      flex-wrap:wrap;\n",
              "      gap: 12px;\n",
              "    }\n",
              "\n",
              "    .colab-df-convert {\n",
              "      background-color: #E8F0FE;\n",
              "      border: none;\n",
              "      border-radius: 50%;\n",
              "      cursor: pointer;\n",
              "      display: none;\n",
              "      fill: #1967D2;\n",
              "      height: 32px;\n",
              "      padding: 0 0 0 0;\n",
              "      width: 32px;\n",
              "    }\n",
              "\n",
              "    .colab-df-convert:hover {\n",
              "      background-color: #E2EBFA;\n",
              "      box-shadow: 0px 1px 2px rgba(60, 64, 67, 0.3), 0px 1px 3px 1px rgba(60, 64, 67, 0.15);\n",
              "      fill: #174EA6;\n",
              "    }\n",
              "\n",
              "    [theme=dark] .colab-df-convert {\n",
              "      background-color: #3B4455;\n",
              "      fill: #D2E3FC;\n",
              "    }\n",
              "\n",
              "    [theme=dark] .colab-df-convert:hover {\n",
              "      background-color: #434B5C;\n",
              "      box-shadow: 0px 1px 3px 1px rgba(0, 0, 0, 0.15);\n",
              "      filter: drop-shadow(0px 1px 2px rgba(0, 0, 0, 0.3));\n",
              "      fill: #FFFFFF;\n",
              "    }\n",
              "  </style>\n",
              "\n",
              "      <script>\n",
              "        const buttonEl =\n",
              "          document.querySelector('#df-b0ebe813-eddf-4cba-9379-75f5a35a877f button.colab-df-convert');\n",
              "        buttonEl.style.display =\n",
              "          google.colab.kernel.accessAllowed ? 'block' : 'none';\n",
              "\n",
              "        async function convertToInteractive(key) {\n",
              "          const element = document.querySelector('#df-b0ebe813-eddf-4cba-9379-75f5a35a877f');\n",
              "          const dataTable =\n",
              "            await google.colab.kernel.invokeFunction('convertToInteractive',\n",
              "                                                     [key], {});\n",
              "          if (!dataTable) return;\n",
              "\n",
              "          const docLinkHtml = 'Like what you see? Visit the ' +\n",
              "            '<a target=\"_blank\" href=https://colab.research.google.com/notebooks/data_table.ipynb>data table notebook</a>'\n",
              "            + ' to learn more about interactive tables.';\n",
              "          element.innerHTML = '';\n",
              "          dataTable['output_type'] = 'display_data';\n",
              "          await google.colab.output.renderOutput(dataTable, element);\n",
              "          const docLink = document.createElement('div');\n",
              "          docLink.innerHTML = docLinkHtml;\n",
              "          element.appendChild(docLink);\n",
              "        }\n",
              "      </script>\n",
              "    </div>\n",
              "  </div>\n",
              "  "
            ]
          },
          "metadata": {},
          "execution_count": 32
        }
      ]
    },
    {
      "cell_type": "markdown",
      "source": [
        "### Data volume for Gaming UL (Bytes)"
      ],
      "metadata": {
        "id": "UWl0Ko391e-d"
      },
      "id": "UWl0Ko391e-d"
    },
    {
      "cell_type": "code",
      "source": [
        "db_user_UL_Gaming = db.groupby([\"IMEI\",\"Gaming UL (Bytes)\"]).size()\n",
        "db_user_UL_Gaming"
      ],
      "metadata": {
        "colab": {
          "base_uri": "https://localhost:8080/"
        },
        "id": "IV55-Shb26zV",
        "outputId": "5e97cc19-30b1-426f-be96-d5344997f84b"
      },
      "id": "IV55-Shb26zV",
      "execution_count": 33,
      "outputs": [
        {
          "output_type": "execute_result",
          "data": {
            "text/plain": [
              "IMEI                   Gaming UL (Bytes)\n",
              "440,015,202,000.00     1,317,702.00         1\n",
              "440,213,760,252.00     4,188,367.00         1\n",
              "1,194,900,553,757.00   11,383,285.00        1\n",
              "1,198,200,957,179.00   11,575,761.00        1\n",
              "1,202,600,872,459.00   3,537,598.00         1\n",
              "                                           ..\n",
              "99,001,201,170,334.00  8,034,861.00         1\n",
              "99,001,201,173,604.00  5,811,282.00         1\n",
              "99,001,201,174,446.00  14,484,574.00        1\n",
              "99,001,201,184,888.00  15,139,625.00        1\n",
              "99,001,201,327,774.00  8,456,271.00         1\n",
              "Length: 149429, dtype: int64"
            ]
          },
          "metadata": {},
          "execution_count": 33
        }
      ]
    },
    {
      "cell_type": "markdown",
      "source": [
        "### Data volume for Other DL"
      ],
      "metadata": {
        "id": "KkPaj8xd1fEe"
      },
      "id": "KkPaj8xd1fEe"
    },
    {
      "cell_type": "code",
      "source": [
        "db_user_DL_Other = db.groupby([\"IMEI\",\"Other DL (Bytes)\"]).size()\n",
        "db_user_DL_Other"
      ],
      "metadata": {
        "colab": {
          "base_uri": "https://localhost:8080/"
        },
        "id": "EbN46Hqp28Jk",
        "outputId": "f1a33dff-44fa-4302-c3fa-1e2cbe342aac"
      },
      "id": "EbN46Hqp28Jk",
      "execution_count": 34,
      "outputs": [
        {
          "output_type": "execute_result",
          "data": {
            "text/plain": [
              "IMEI                   Other DL (Bytes)\n",
              "440,015,202,000.00     312,057,084.00      1\n",
              "440,213,760,252.00     510,810,737.00      1\n",
              "1,194,900,553,757.00   74,601,835.00       1\n",
              "1,198,200,957,179.00   805,940,256.00      1\n",
              "1,202,600,872,459.00   585,417,309.00      1\n",
              "                                          ..\n",
              "99,001,201,170,334.00  832,539,560.00      1\n",
              "99,001,201,173,604.00  451,146,519.00      1\n",
              "99,001,201,174,446.00  48,646,759.00       1\n",
              "99,001,201,184,888.00  338,473,361.00      1\n",
              "99,001,201,327,774.00  79,836,909.00       1\n",
              "Length: 149429, dtype: int64"
            ]
          },
          "metadata": {},
          "execution_count": 34
        }
      ]
    },
    {
      "cell_type": "markdown",
      "source": [
        "### Data Volume for Other UL"
      ],
      "metadata": {
        "id": "93E8L26b1fKV"
      },
      "id": "93E8L26b1fKV"
    },
    {
      "cell_type": "code",
      "source": [
        "db_user_UL_Other = db.groupby([\"IMEI\",\"Other UL (Bytes)\"]).size()\n",
        "db_user_UL_Other"
      ],
      "metadata": {
        "colab": {
          "base_uri": "https://localhost:8080/"
        },
        "id": "lrMYwRQ62-s6",
        "outputId": "07e45a35-42cd-4ef4-8f17-a2c04856c546"
      },
      "id": "lrMYwRQ62-s6",
      "execution_count": 35,
      "outputs": [
        {
          "output_type": "execute_result",
          "data": {
            "text/plain": [
              "IMEI                   Other UL (Bytes)\n",
              "440,015,202,000.00     7,056,636.00        1\n",
              "440,213,760,252.00     9,402,717.00        1\n",
              "1,194,900,553,757.00   11,982,162.00       1\n",
              "1,198,200,957,179.00   15,136,299.00       1\n",
              "1,202,600,872,459.00   11,060,984.00       1\n",
              "                                          ..\n",
              "99,001,201,170,334.00  6,509,391.00        1\n",
              "99,001,201,173,604.00  5,500,808.00        1\n",
              "99,001,201,174,446.00  8,566,261.00        1\n",
              "99,001,201,184,888.00  12,222,019.00       1\n",
              "99,001,201,327,774.00  5,053,212.00        1\n",
              "Length: 149429, dtype: int64"
            ]
          },
          "metadata": {},
          "execution_count": 35
        }
      ]
    },
    {
      "cell_type": "markdown",
      "source": [
        "# Data Exploration"
      ],
      "metadata": {
        "id": "7kRXUvfAfeSz"
      },
      "id": "7kRXUvfAfeSz"
    },
    {
      "cell_type": "markdown",
      "id": "c83faeff",
      "metadata": {
        "id": "c83faeff"
      },
      "source": [
        "Use Mode method to fill the missing datapoints of all 'object' type features and Mean/Median methods for all numuric type features.\n",
        "*   use Median method for skewed(negative/positive) numeric feature and \n",
        "*   use MEAN/Median for non-skewd/symetrical numeric feature\n"
      ]
    },
    {
      "cell_type": "markdown",
      "source": [
        "### Method selection based on data skewness"
      ],
      "metadata": {
        "id": "2dIPGu_3AbDb"
      },
      "id": "2dIPGu_3AbDb"
    },
    {
      "cell_type": "code",
      "source": [
        "db.skew(axis=0)"
      ],
      "metadata": {
        "id": "tk6dinhg9MFg",
        "outputId": "75a41df1-5448-42ad-bb82-d408d07ec21e",
        "colab": {
          "base_uri": "https://localhost:8080/"
        }
      },
      "id": "tk6dinhg9MFg",
      "execution_count": 36,
      "outputs": [
        {
          "output_type": "execute_result",
          "data": {
            "text/plain": [
              "Bearer Id                                    0.03\n",
              "Start ms                                     0.00\n",
              "End ms                                      -0.00\n",
              "Dur. (ms)                                    3.95\n",
              "IMSI                                        41.05\n",
              "MSISDN/Number                              332.16\n",
              "IMEI                                         1.07\n",
              "Avg RTT DL (ms)                             62.91\n",
              "Avg RTT UL (ms)                             28.46\n",
              "Avg Bearer TP DL (kbps)                      2.59\n",
              "Avg Bearer TP UL (kbps)                      4.50\n",
              "TCP DL Retrans. Vol (Bytes)                 15.95\n",
              "TCP UL Retrans. Vol (Bytes)                 84.11\n",
              "DL TP < 50 Kbps (%)                         -2.30\n",
              "50 Kbps < DL TP < 250 Kbps (%)               3.27\n",
              "250 Kbps < DL TP < 1 Mbps (%)                4.57\n",
              "DL TP > 1 Mbps (%)                           5.37\n",
              "UL TP < 10 Kbps (%)                         -8.99\n",
              "10 Kbps < UL TP < 50 Kbps (%)               10.94\n",
              "50 Kbps < UL TP < 300 Kbps (%)              21.88\n",
              "UL TP > 300 Kbps (%)                        36.17\n",
              "HTTP DL (Bytes)                             38.94\n",
              "HTTP UL (Bytes)                             32.47\n",
              "Activity Duration DL (ms)                    5.87\n",
              "Activity Duration UL (ms)                    7.38\n",
              "Dur. (ms).1                                  3.95\n",
              "Nb of sec with 125000B < Vol DL              6.59\n",
              "Nb of sec with 1250B < Vol UL < 6250B       22.04\n",
              "Nb of sec with 31250B < Vol DL < 125000B     6.61\n",
              "Nb of sec with 37500B < Vol UL              21.56\n",
              "Nb of sec with 6250B < Vol DL < 31250B       6.90\n",
              "Nb of sec with 6250B < Vol UL < 37500B      19.64\n",
              "Nb of sec with Vol DL < 6250B                9.04\n",
              "Nb of sec with Vol UL < 1250B                7.50\n",
              "Social Media DL (Bytes)                     -0.00\n",
              "Social Media UL (Bytes)                     -0.00\n",
              "Google DL (Bytes)                           -0.01\n",
              "Google UL (Bytes)                            0.00\n",
              "Email DL (Bytes)                            -0.00\n",
              "Email UL (Bytes)                             0.01\n",
              "Youtube DL (Bytes)                           0.00\n",
              "Youtube UL (Bytes)                          -0.00\n",
              "Netflix DL (Bytes)                          -0.00\n",
              "Netflix UL (Bytes)                          -0.00\n",
              "Gaming DL (Bytes)                           -0.00\n",
              "Gaming UL (Bytes)                           -0.00\n",
              "Other DL (Bytes)                             0.00\n",
              "Other UL (Bytes)                             0.00\n",
              "Total UL (Bytes)                            -0.00\n",
              "Total DL (Bytes)                            -0.00\n",
              "dtype: float64"
            ]
          },
          "metadata": {},
          "execution_count": 36
        }
      ]
    },
    {
      "cell_type": "markdown",
      "source": [
        "### Skewness visualization with histogram"
      ],
      "metadata": {
        "id": "aWt3hCKI8paZ"
      },
      "id": "aWt3hCKI8paZ"
    },
    {
      "cell_type": "code",
      "source": [
        "db['Total UL (Bytes)'].hist()"
      ],
      "metadata": {
        "colab": {
          "base_uri": "https://localhost:8080/",
          "height": 295
        },
        "id": "Mc-39xGk8ZHv",
        "outputId": "1bbb9536-c489-4304-ea98-bacfcdcdcf1a"
      },
      "id": "Mc-39xGk8ZHv",
      "execution_count": 37,
      "outputs": [
        {
          "output_type": "execute_result",
          "data": {
            "text/plain": [
              "<matplotlib.axes._subplots.AxesSubplot at 0x7f72385c8e90>"
            ]
          },
          "metadata": {},
          "execution_count": 37
        },
        {
          "output_type": "display_data",
          "data": {
            "text/plain": [
              "<Figure size 432x288 with 1 Axes>"
            ],
            "image/png": "[encoded data removed]"
          },
          "metadata": {
            "needs_background": "light"
          }
        }
      ]
    },
    {
      "cell_type": "code",
      "source": [
        "db['Total DL (Bytes)'].hist()"
      ],
      "metadata": {
        "colab": {
          "base_uri": "https://localhost:8080/",
          "height": 295
        },
        "id": "rAunCOq88uoS",
        "outputId": "341b9e4e-307c-476d-c6f9-b7d51ed7325e"
      },
      "id": "rAunCOq88uoS",
      "execution_count": 38,
      "outputs": [
        {
          "output_type": "execute_result",
          "data": {
            "text/plain": [
              "<matplotlib.axes._subplots.AxesSubplot at 0x7f722b282f10>"
            ]
          },
          "metadata": {},
          "execution_count": 38
        },
        {
          "output_type": "display_data",
          "data": {
            "text/plain": [
              "<Figure size 432x288 with 1 Axes>"
            ],
            "image/png": "[encoded data removed]"
          },
          "metadata": {
            "needs_background": "light"
          }
        }
      ]
    },
    {
      "cell_type": "code",
      "source": [
        "db['Total UL (Bytes)'].hist()"
      ],
      "metadata": {
        "colab": {
          "base_uri": "https://localhost:8080/",
          "height": 295
        },
        "id": "mkpDG9oG9GI4",
        "outputId": "ebfbd88f-32e3-4f4e-d828-2d0360df858d"
      },
      "id": "mkpDG9oG9GI4",
      "execution_count": 39,
      "outputs": [
        {
          "output_type": "execute_result",
          "data": {
            "text/plain": [
              "<matplotlib.axes._subplots.AxesSubplot at 0x7f722b3ccd50>"
            ]
          },
          "metadata": {},
          "execution_count": 39
        },
        {
          "output_type": "display_data",
          "data": {
            "text/plain": [
              "<Figure size 432x288 with 1 Axes>"
            ],
            "image/png": "[encoded data removed]"
          },
          "metadata": {
            "needs_background": "light"
          }
        }
      ]
    },
    {
      "cell_type": "markdown",
      "source": [
        "### Positively skewed parameter"
      ],
      "metadata": {
        "id": "YXVTAOvD9WZS"
      },
      "id": "YXVTAOvD9WZS"
    },
    {
      "cell_type": "code",
      "source": [
        "db['HTTP DL (Bytes)'].hist()"
      ],
      "metadata": {
        "colab": {
          "base_uri": "https://localhost:8080/",
          "height": 295
        },
        "id": "-sjQK6o49QuI",
        "outputId": "7b26907b-c31d-4db5-9938-49180eb3841c"
      },
      "id": "-sjQK6o49QuI",
      "execution_count": 40,
      "outputs": [
        {
          "output_type": "execute_result",
          "data": {
            "text/plain": [
              "<matplotlib.axes._subplots.AxesSubplot at 0x7f722b40d4d0>"
            ]
          },
          "metadata": {},
          "execution_count": 40
        },
        {
          "output_type": "display_data",
          "data": {
            "text/plain": [
              "<Figure size 432x288 with 1 Axes>"
            ],
            "image/png": "[encoded data removed]"
          },
          "metadata": {
            "needs_background": "light"
          }
        }
      ]
    },
    {
      "cell_type": "markdown",
      "source": [
        "### Negatively skewwed parameter\n"
      ],
      "metadata": {
        "id": "Cy6A_kTw9llO"
      },
      "id": "Cy6A_kTw9llO"
    },
    {
      "cell_type": "code",
      "source": [
        "db['UL TP < 10 Kbps (%)'].hist()"
      ],
      "metadata": {
        "colab": {
          "base_uri": "https://localhost:8080/",
          "height": 282
        },
        "id": "dShKar3X9poc",
        "outputId": "813121cf-3a3c-47e0-d823-d32d8651751d"
      },
      "id": "dShKar3X9poc",
      "execution_count": 41,
      "outputs": [
        {
          "output_type": "execute_result",
          "data": {
            "text/plain": [
              "<matplotlib.axes._subplots.AxesSubplot at 0x7f722ac9ca10>"
            ]
          },
          "metadata": {},
          "execution_count": 41
        },
        {
          "output_type": "display_data",
          "data": {
            "text/plain": [
              "<Figure size 432x288 with 1 Axes>"
            ],
            "image/png": "[encoded data removed]"
          },
          "metadata": {
            "needs_background": "light"
          }
        }
      ]
    },
    {
      "cell_type": "markdown",
      "id": "280fa475",
      "metadata": {
        "id": "280fa475"
      },
      "source": [
        "### Data with sum of missing values in each column - revisited"
      ]
    },
    {
      "cell_type": "code",
      "source": [
        "db.isna().sum()"
      ],
      "metadata": {
        "colab": {
          "base_uri": "https://localhost:8080/"
        },
        "id": "O4iOgqxy90W8",
        "outputId": "cc021e4d-36f2-4971-cb41-d71cdad0fd9a"
      },
      "id": "O4iOgqxy90W8",
      "execution_count": 42,
      "outputs": [
        {
          "output_type": "execute_result",
          "data": {
            "text/plain": [
              "Bearer Id                                      991\n",
              "Start                                            1\n",
              "Start ms                                         1\n",
              "End                                              1\n",
              "End ms                                           1\n",
              "Dur. (ms)                                        1\n",
              "IMSI                                           570\n",
              "MSISDN/Number                                 1066\n",
              "IMEI                                           572\n",
              "Last Location Name                            1153\n",
              "Avg RTT DL (ms)                              27829\n",
              "Avg RTT UL (ms)                              27812\n",
              "Avg Bearer TP DL (kbps)                          1\n",
              "Avg Bearer TP UL (kbps)                          1\n",
              "TCP DL Retrans. Vol (Bytes)                  88146\n",
              "TCP UL Retrans. Vol (Bytes)                  96649\n",
              "DL TP < 50 Kbps (%)                            754\n",
              "50 Kbps < DL TP < 250 Kbps (%)                 754\n",
              "250 Kbps < DL TP < 1 Mbps (%)                  754\n",
              "DL TP > 1 Mbps (%)                             754\n",
              "UL TP < 10 Kbps (%)                            792\n",
              "10 Kbps < UL TP < 50 Kbps (%)                  792\n",
              "50 Kbps < UL TP < 300 Kbps (%)                 792\n",
              "UL TP > 300 Kbps (%)                           792\n",
              "HTTP DL (Bytes)                              81474\n",
              "HTTP UL (Bytes)                              81810\n",
              "Activity Duration DL (ms)                        1\n",
              "Activity Duration UL (ms)                        1\n",
              "Dur. (ms).1                                      1\n",
              "Handset Manufacturer                          9559\n",
              "Handset Type                                  9559\n",
              "Nb of sec with 125000B < Vol DL              97538\n",
              "Nb of sec with 1250B < Vol UL < 6250B        92894\n",
              "Nb of sec with 31250B < Vol DL < 125000B     93586\n",
              "Nb of sec with 37500B < Vol UL              130254\n",
              "Nb of sec with 6250B < Vol DL < 31250B       88317\n",
              "Nb of sec with 6250B < Vol UL < 37500B      111843\n",
              "Nb of sec with Vol DL < 6250B                  755\n",
              "Nb of sec with Vol UL < 1250B                  793\n",
              "Social Media DL (Bytes)                          0\n",
              "Social Media UL (Bytes)                          0\n",
              "Google DL (Bytes)                                0\n",
              "Google UL (Bytes)                                0\n",
              "Email DL (Bytes)                                 0\n",
              "Email UL (Bytes)                                 0\n",
              "Youtube DL (Bytes)                               0\n",
              "Youtube UL (Bytes)                               0\n",
              "Netflix DL (Bytes)                               0\n",
              "Netflix UL (Bytes)                               0\n",
              "Gaming DL (Bytes)                                0\n",
              "Gaming UL (Bytes)                                0\n",
              "Other DL (Bytes)                                 0\n",
              "Other UL (Bytes)                                 0\n",
              "Total UL (Bytes)                                 1\n",
              "Total DL (Bytes)                                 1\n",
              "dtype: int64"
            ]
          },
          "metadata": {},
          "execution_count": 42
        }
      ]
    },
    {
      "cell_type": "markdown",
      "source": [
        "### Column data types - revisited"
      ],
      "metadata": {
        "id": "POfjys0CAn1h"
      },
      "id": "POfjys0CAn1h"
    },
    {
      "cell_type": "code",
      "source": [
        "db.dtypes"
      ],
      "metadata": {
        "colab": {
          "base_uri": "https://localhost:8080/"
        },
        "id": "w2paxz2WAw2P",
        "outputId": "017bdf14-c608-430c-97e4-a694b6552f36"
      },
      "id": "w2paxz2WAw2P",
      "execution_count": 43,
      "outputs": [
        {
          "output_type": "execute_result",
          "data": {
            "text/plain": [
              "Bearer Id                                   float64\n",
              "Start                                        object\n",
              "Start ms                                    float64\n",
              "End                                          object\n",
              "End ms                                      float64\n",
              "Dur. (ms)                                   float64\n",
              "IMSI                                        float64\n",
              "MSISDN/Number                               float64\n",
              "IMEI                                        float64\n",
              "Last Location Name                           object\n",
              "Avg RTT DL (ms)                             float64\n",
              "Avg RTT UL (ms)                             float64\n",
              "Avg Bearer TP DL (kbps)                     float64\n",
              "Avg Bearer TP UL (kbps)                     float64\n",
              "TCP DL Retrans. Vol (Bytes)                 float64\n",
              "TCP UL Retrans. Vol (Bytes)                 float64\n",
              "DL TP < 50 Kbps (%)                         float64\n",
              "50 Kbps < DL TP < 250 Kbps (%)              float64\n",
              "250 Kbps < DL TP < 1 Mbps (%)               float64\n",
              "DL TP > 1 Mbps (%)                          float64\n",
              "UL TP < 10 Kbps (%)                         float64\n",
              "10 Kbps < UL TP < 50 Kbps (%)               float64\n",
              "50 Kbps < UL TP < 300 Kbps (%)              float64\n",
              "UL TP > 300 Kbps (%)                        float64\n",
              "HTTP DL (Bytes)                             float64\n",
              "HTTP UL (Bytes)                             float64\n",
              "Activity Duration DL (ms)                   float64\n",
              "Activity Duration UL (ms)                   float64\n",
              "Dur. (ms).1                                 float64\n",
              "Handset Manufacturer                         object\n",
              "Handset Type                                 object\n",
              "Nb of sec with 125000B < Vol DL             float64\n",
              "Nb of sec with 1250B < Vol UL < 6250B       float64\n",
              "Nb of sec with 31250B < Vol DL < 125000B    float64\n",
              "Nb of sec with 37500B < Vol UL              float64\n",
              "Nb of sec with 6250B < Vol DL < 31250B      float64\n",
              "Nb of sec with 6250B < Vol UL < 37500B      float64\n",
              "Nb of sec with Vol DL < 6250B               float64\n",
              "Nb of sec with Vol UL < 1250B               float64\n",
              "Social Media DL (Bytes)                     float64\n",
              "Social Media UL (Bytes)                     float64\n",
              "Google DL (Bytes)                           float64\n",
              "Google UL (Bytes)                           float64\n",
              "Email DL (Bytes)                            float64\n",
              "Email UL (Bytes)                            float64\n",
              "Youtube DL (Bytes)                          float64\n",
              "Youtube UL (Bytes)                          float64\n",
              "Netflix DL (Bytes)                          float64\n",
              "Netflix UL (Bytes)                          float64\n",
              "Gaming DL (Bytes)                           float64\n",
              "Gaming UL (Bytes)                           float64\n",
              "Other DL (Bytes)                            float64\n",
              "Other UL (Bytes)                            float64\n",
              "Total UL (Bytes)                            float64\n",
              "Total DL (Bytes)                            float64\n",
              "dtype: object"
            ]
          },
          "metadata": {},
          "execution_count": 43
        }
      ]
    },
    {
      "cell_type": "markdown",
      "source": [
        "### Utility function to fill missing values\n",
        "* numeric missing values with mean method\n",
        "* object type missing values with mode method"
      ],
      "metadata": {
        "id": "vIe7AIhW7ngQ"
      },
      "id": "vIe7AIhW7ngQ"
    },
    {
      "cell_type": "code",
      "execution_count": 44,
      "id": "85f2e55b",
      "metadata": {
        "id": "85f2e55b"
      },
      "outputs": [],
      "source": [
        "# fill numeric columns with ffill and bfill\n",
        "\"\"\"\n",
        "df[col].fillna(method='ffill') and df[col].fillna(method='bfill') or \n",
        "df[col].ffill(axis = 0) and df[col].bfill(axis = 0) fills the missing values with the value before/after it\n",
        "\"\"\"\n",
        "# fill missing numeric values with mean and object type values with mode\n",
        "def fill_missing_values(df):\n",
        "  for column in df.columns:\n",
        "    if df[column].dtype == 'float64':\n",
        "      df[column] = df[column].fillna(df[column].mean())\n",
        "    elif df[column].dtypes == 'object':\n",
        "      df[column] = df[column].fillna(df[column].mode()[0])\n",
        "  return df\n"
      ]
    },
    {
      "cell_type": "markdown",
      "source": [
        "### Data with all missing values filled - zero null count\n",
        "\n"
      ],
      "metadata": {
        "id": "cIvi0YfE79_S"
      },
      "id": "cIvi0YfE79_S"
    },
    {
      "cell_type": "code",
      "source": [
        "fill_missing_values(db).isna().sum()"
      ],
      "metadata": {
        "colab": {
          "base_uri": "https://localhost:8080/"
        },
        "id": "UgcopQW26yID",
        "outputId": "b07a8e99-e360-4932-e6e5-598446c8d18c"
      },
      "id": "UgcopQW26yID",
      "execution_count": 45,
      "outputs": [
        {
          "output_type": "execute_result",
          "data": {
            "text/plain": [
              "Bearer Id                                   0\n",
              "Start                                       0\n",
              "Start ms                                    0\n",
              "End                                         0\n",
              "End ms                                      0\n",
              "Dur. (ms)                                   0\n",
              "IMSI                                        0\n",
              "MSISDN/Number                               0\n",
              "IMEI                                        0\n",
              "Last Location Name                          0\n",
              "Avg RTT DL (ms)                             0\n",
              "Avg RTT UL (ms)                             0\n",
              "Avg Bearer TP DL (kbps)                     0\n",
              "Avg Bearer TP UL (kbps)                     0\n",
              "TCP DL Retrans. Vol (Bytes)                 0\n",
              "TCP UL Retrans. Vol (Bytes)                 0\n",
              "DL TP < 50 Kbps (%)                         0\n",
              "50 Kbps < DL TP < 250 Kbps (%)              0\n",
              "250 Kbps < DL TP < 1 Mbps (%)               0\n",
              "DL TP > 1 Mbps (%)                          0\n",
              "UL TP < 10 Kbps (%)                         0\n",
              "10 Kbps < UL TP < 50 Kbps (%)               0\n",
              "50 Kbps < UL TP < 300 Kbps (%)              0\n",
              "UL TP > 300 Kbps (%)                        0\n",
              "HTTP DL (Bytes)                             0\n",
              "HTTP UL (Bytes)                             0\n",
              "Activity Duration DL (ms)                   0\n",
              "Activity Duration UL (ms)                   0\n",
              "Dur. (ms).1                                 0\n",
              "Handset Manufacturer                        0\n",
              "Handset Type                                0\n",
              "Nb of sec with 125000B < Vol DL             0\n",
              "Nb of sec with 1250B < Vol UL < 6250B       0\n",
              "Nb of sec with 31250B < Vol DL < 125000B    0\n",
              "Nb of sec with 37500B < Vol UL              0\n",
              "Nb of sec with 6250B < Vol DL < 31250B      0\n",
              "Nb of sec with 6250B < Vol UL < 37500B      0\n",
              "Nb of sec with Vol DL < 6250B               0\n",
              "Nb of sec with Vol UL < 1250B               0\n",
              "Social Media DL (Bytes)                     0\n",
              "Social Media UL (Bytes)                     0\n",
              "Google DL (Bytes)                           0\n",
              "Google UL (Bytes)                           0\n",
              "Email DL (Bytes)                            0\n",
              "Email UL (Bytes)                            0\n",
              "Youtube DL (Bytes)                          0\n",
              "Youtube UL (Bytes)                          0\n",
              "Netflix DL (Bytes)                          0\n",
              "Netflix UL (Bytes)                          0\n",
              "Gaming DL (Bytes)                           0\n",
              "Gaming UL (Bytes)                           0\n",
              "Other DL (Bytes)                            0\n",
              "Other UL (Bytes)                            0\n",
              "Total UL (Bytes)                            0\n",
              "Total DL (Bytes)                            0\n",
              "dtype: int64"
            ]
          },
          "metadata": {},
          "execution_count": 45
        }
      ]
    },
    {
      "cell_type": "markdown",
      "source": [
        "### Other method of handling missing values - Interpolation\n",
        "* We can use interpolation while working with time-series data because in time-series data we like to fill missing values with previous one or two values.\n",
        "* It can be used to estimate unknown data points between two known data points.\n",
        "\n",
        "##### Since we are not considering the time-series nature of the telecom data, we choose not to use interpolation here."
      ],
      "metadata": {
        "id": "iV4n53BBRbzQ"
      },
      "id": "iV4n53BBRbzQ"
    },
    {
      "cell_type": "code",
      "source": [
        "# db.interpolate(inplace=True)"
      ],
      "metadata": {
        "id": "M5dhj-iiBAr-"
      },
      "id": "M5dhj-iiBAr-",
      "execution_count": 46,
      "outputs": []
    },
    {
      "cell_type": "markdown",
      "id": "2f92e917",
      "metadata": {
        "id": "2f92e917"
      },
      "source": [
        "## Transforming Data\n",
        "\n",
        "**Scaling and Normalization**"
      ]
    },
    {
      "cell_type": "markdown",
      "id": "31af9f33",
      "metadata": {
        "id": "31af9f33"
      },
      "source": [
        "##### Scaling - changing the range of your data \n",
        "##### Normalization, you're changing the shape of the distribution of your data.\n",
        "\n",
        "#### Scaling\n",
        "\n",
        "* This transforms data so that it fits within a specific scale, like 0-100 or 0-1. \n",
        "* It is important when we're using methods based on distance measures of data points like support vector machines (SVM) or k-nearest neighbors (KNN).\n",
        "* We use the scaler method from sklearn.\n",
        "\n",
        "#### Normalization\n",
        "\n",
        "Scaling just changes the range of your data. Normalization is a more radical transformation. The point of normalization is to change your observations so that they can be described as a normal distribution.\n",
        "\n",
        "* Normal distribution (\"bell curve\", Gaussian distribution) is a specific statistical distribution where a roughly equal observations fall above and below the mean\n",
        " * The mean and the median are the same, and there are more observations closer to the mean.\n",
        "\n",
        "* In general, you'll normalize your data if you're going to be using a machine learning or statistics technique like LDA and Gaussian naive Bayes that assumes your data is normally distributed. Some examples of these include linear discriminant analysis (LDA) and Gaussian naive Bayes. (Pro tip: any method with \"Gaussian\" in the name probably assumes normality.)\n",
        "\n",
        "* We usee the Normalizer method from sklearn\n",
        "\n"
      ]
    },
    {
      "cell_type": "markdown",
      "source": [
        "### Numeric value scalling"
      ],
      "metadata": {
        "id": "iHZChLrTTqKG"
      },
      "id": "iHZChLrTTqKG"
    },
    {
      "cell_type": "code",
      "execution_count": 47,
      "id": "4db69c6f",
      "metadata": {
        "id": "4db69c6f"
      },
      "outputs": [],
      "source": [
        "minmax_scaler = preprocessing.MinMaxScaler()\n",
        "def scalling_numeric_values(df):\n",
        "  col_values = []\n",
        "  for column in df.columns:\n",
        "    if df[column].dtype == 'float64':\n",
        "      col_values.append(list(df[column].values))\n",
        "  col_values_skaled = minmax_scaler.fit_transform(col_values)\n",
        "  db_scaled = pd.DataFrame(col_values_skaled)\n",
        "  return df\n",
        "\n"
      ]
    },
    {
      "cell_type": "code",
      "source": [
        "db_sklearn = fill_missing_values(db.copy())\n",
        "scalling_numeric_values(db_sklearn)"
      ],
      "metadata": {
        "colab": {
          "base_uri": "https://localhost:8080/",
          "height": 887
        },
        "id": "ogVJ2dm9ON-0",
        "outputId": "216d828c-f882-442a-fe22-35751e91c324"
      },
      "id": "ogVJ2dm9ON-0",
      "execution_count": 48,
      "outputs": [
        {
          "output_type": "execute_result",
          "data": {
            "text/plain": [
              "                           Bearer Id            Start  Start ms  \\\n",
              "0      13,114,483,460,844,900,352.00   4/4/2019 12:01    770.00   \n",
              "1      13,114,483,482,878,900,224.00   4/9/2019 13:04    235.00   \n",
              "2      13,114,483,484,080,500,736.00   4/9/2019 17:42      1.00   \n",
              "3      13,114,483,485,442,799,616.00   4/10/2019 0:31    486.00   \n",
              "4      13,114,483,499,480,700,928.00  4/12/2019 20:10    565.00   \n",
              "...                              ...              ...       ...   \n",
              "149996  7,277,825,670,196,679,680.00   4/29/2019 7:28    451.00   \n",
              "149997  7,349,883,264,234,609,664.00   4/29/2019 7:28    483.00   \n",
              "149998 13,114,483,573,367,300,096.00   4/29/2019 7:28    283.00   \n",
              "149999 13,114,483,573,367,300,096.00   4/29/2019 7:28    696.00   \n",
              "150000 10,138,874,654,256,340,992.00   4/26/2019 7:25    499.19   \n",
              "\n",
              "                    End  End ms    Dur. (ms)                   IMSI  \\\n",
              "0       4/25/2019 14:35  662.00 1,823,652.00 208,201,448,079,117.00   \n",
              "1        4/25/2019 8:15  606.00 1,365,104.00 208,201,909,211,140.00   \n",
              "2       4/25/2019 11:58  652.00 1,361,762.00 208,200,314,458,056.00   \n",
              "3        4/25/2019 7:36  171.00 1,321,509.00 208,201,402,342,131.00   \n",
              "4       4/25/2019 10:40  954.00 1,089,009.00 208,201,401,415,120.00   \n",
              "...                 ...     ...          ...                    ...   \n",
              "149996   4/30/2019 6:02  214.00    81,230.00 208,202,201,200,072.00   \n",
              "149997  4/30/2019 10:41  187.00    97,970.00 208,201,908,153,249.00   \n",
              "149998  4/30/2019 10:46  810.00    98,249.00 208,201,711,161,187.00   \n",
              "149999  4/30/2019 10:40  327.00    97,910.00 208,202,101,098,075.00   \n",
              "150000   4/25/2019 0:01  498.80   104,608.56 208,201,639,651,669.06   \n",
              "\n",
              "           MSISDN/Number                  IMEI     Last Location Name  \\\n",
              "0      33,664,962,239.00 35,521,209,507,511.00  9.16456699548519E+015   \n",
              "1      33,681,854,413.00 35,794,009,006,359.00                L77566A   \n",
              "2      33,760,627,129.00 35,281,510,359,387.00                D42335A   \n",
              "3      33,750,343,200.00 35,356,610,164,913.00                T21824A   \n",
              "4      33,699,795,932.00 35,407,009,745,539.00                D88865A   \n",
              "...                  ...                   ...                    ...   \n",
              "149996 33,650,688,697.00 35,483,109,451,938.00                D20434A   \n",
              "149997 33,663,449,963.00 35,660,508,296,467.00                D10223C   \n",
              "149998 33,621,890,103.00 35,721,209,870,907.00                T51102A   \n",
              "149999 33,619,622,058.00 86,186,204,011,457.00                L88342B   \n",
              "150000 41,882,819,545.03 48,474,547,977,654.53                D41377B   \n",
              "\n",
              "        Avg RTT DL (ms)  Avg RTT UL (ms)  Avg Bearer TP DL (kbps)  \\\n",
              "0                 42.00             5.00                    23.00   \n",
              "1                 65.00             5.00                    16.00   \n",
              "2                109.80            17.66                     6.00   \n",
              "3                109.80            17.66                    44.00   \n",
              "4                109.80            17.66                     6.00   \n",
              "...                 ...              ...                      ...   \n",
              "149996            32.00             0.00                    52.00   \n",
              "149997            27.00             2.00                    23.00   \n",
              "149998            43.00             6.00                    43.00   \n",
              "149999            37.00             5.00                    34.00   \n",
              "150000           109.80            17.66                13,300.05   \n",
              "\n",
              "        Avg Bearer TP UL (kbps)  TCP DL Retrans. Vol (Bytes)  \\\n",
              "0                         44.00                20,809,914.27   \n",
              "1                         26.00                20,809,914.27   \n",
              "2                          9.00                20,809,914.27   \n",
              "3                         44.00                20,809,914.27   \n",
              "4                          9.00                20,809,914.27   \n",
              "...                         ...                          ...   \n",
              "149996                    65.00                20,809,914.27   \n",
              "149997                    54.00                20,809,914.27   \n",
              "149998                    47.00                20,809,914.27   \n",
              "149999                    37.00                20,809,914.27   \n",
              "150000                 1,770.43                20,809,914.27   \n",
              "\n",
              "        TCP UL Retrans. Vol (Bytes)  DL TP < 50 Kbps (%)  \\\n",
              "0                        759,658.66               100.00   \n",
              "1                        759,658.66               100.00   \n",
              "2                        759,658.66               100.00   \n",
              "3                        759,658.66               100.00   \n",
              "4                        759,658.66               100.00   \n",
              "...                             ...                  ...   \n",
              "149996                   759,658.66               100.00   \n",
              "149997                   759,658.66               100.00   \n",
              "149998                   759,658.66               100.00   \n",
              "149999                   759,658.66               100.00   \n",
              "150000                   759,658.66                92.84   \n",
              "\n",
              "        50 Kbps < DL TP < 250 Kbps (%)  250 Kbps < DL TP < 1 Mbps (%)  \\\n",
              "0                                 0.00                           0.00   \n",
              "1                                 0.00                           0.00   \n",
              "2                                 0.00                           0.00   \n",
              "3                                 0.00                           0.00   \n",
              "4                                 0.00                           0.00   \n",
              "...                                ...                            ...   \n",
              "149996                            0.00                           0.00   \n",
              "149997                            0.00                           0.00   \n",
              "149998                            0.00                           0.00   \n",
              "149999                            0.00                           0.00   \n",
              "150000                            3.07                           1.72   \n",
              "\n",
              "        DL TP > 1 Mbps (%)  UL TP < 10 Kbps (%)  \\\n",
              "0                     0.00               100.00   \n",
              "1                     0.00               100.00   \n",
              "2                     0.00               100.00   \n",
              "3                     0.00               100.00   \n",
              "4                     0.00               100.00   \n",
              "...                    ...                  ...   \n",
              "149996                0.00               100.00   \n",
              "149997                0.00               100.00   \n",
              "149998                0.00               100.00   \n",
              "149999                0.00               100.00   \n",
              "150000                1.61                98.53   \n",
              "\n",
              "        10 Kbps < UL TP < 50 Kbps (%)  50 Kbps < UL TP < 300 Kbps (%)  \\\n",
              "0                                0.00                            0.00   \n",
              "1                                0.00                            0.00   \n",
              "2                                0.00                            0.00   \n",
              "3                                0.00                            0.00   \n",
              "4                                0.00                            0.00   \n",
              "...                               ...                             ...   \n",
              "149996                           0.00                            0.00   \n",
              "149997                           0.00                            0.00   \n",
              "149998                           0.00                            0.00   \n",
              "149999                           0.00                            0.00   \n",
              "150000                           0.78                            0.15   \n",
              "\n",
              "        UL TP > 300 Kbps (%)  HTTP DL (Bytes)  HTTP UL (Bytes)  \\\n",
              "0                       0.00   114,471,023.70     3,242,301.38   \n",
              "1                       0.00   114,471,023.70     3,242,301.38   \n",
              "2                       0.00   114,471,023.70     3,242,301.38   \n",
              "3                       0.00   114,471,023.70     3,242,301.38   \n",
              "4                       0.00   114,471,023.70     3,242,301.38   \n",
              "...                      ...              ...              ...   \n",
              "149996                  0.00   114,471,023.70     3,242,301.38   \n",
              "149997                  0.00   114,471,023.70     3,242,301.38   \n",
              "149998                  0.00   114,471,023.70     3,242,301.38   \n",
              "149999                  0.00   114,471,023.70     3,242,301.38   \n",
              "150000                  0.08   114,471,023.70     3,242,301.38   \n",
              "\n",
              "        Activity Duration DL (ms)  Activity Duration UL (ms)      Dur. (ms).1  \\\n",
              "0                       37,624.00                  38,787.00 1,823,652,892.00   \n",
              "1                          168.00                   3,560.00 1,365,104,371.00   \n",
              "2                            0.00                       0.00 1,361,762,651.00   \n",
              "3                        3,330.00                  37,882.00 1,321,509,685.00   \n",
              "4                            0.00                       0.00 1,089,009,389.00   \n",
              "...                           ...                        ...              ...   \n",
              "149996                  42,376.00                  41,915.00    81,230,763.00   \n",
              "149997                  17,264.00                  16,759.00    97,970,704.00   \n",
              "149998                  25,003.00                  28,640.00    98,249,527.00   \n",
              "149999                  13,405.00                  34,088.00    97,910,631.00   \n",
              "150000               1,829,176.87               1,408,879.97   104,609,105.55   \n",
              "\n",
              "       Handset Manufacturer                 Handset Type  \\\n",
              "0                   Samsung   Samsung Galaxy A5 Sm-A520F   \n",
              "1                   Samsung  Samsung Galaxy J5 (Sm-J530)   \n",
              "2                   Samsung     Samsung Galaxy A8 (2018)   \n",
              "3                     Apple             Huawei B528S-23A   \n",
              "4                   Samsung             Samsung Sm-G390F   \n",
              "...                     ...                          ...   \n",
              "149996                Apple  Apple iPhone 8 Plus (A1897)   \n",
              "149997                Apple      Apple iPhone Se (A1723)   \n",
              "149998                Apple      Apple iPhone Xs (A2097)   \n",
              "149999               Huawei               Huawei Fig-Lx1   \n",
              "150000                Apple             Huawei B528S-23A   \n",
              "\n",
              "        Nb of sec with 125000B < Vol DL  \\\n",
              "0                                989.70   \n",
              "1                                989.70   \n",
              "2                                989.70   \n",
              "3                                989.70   \n",
              "4                                989.70   \n",
              "...                                 ...   \n",
              "149996                           989.70   \n",
              "149997                           989.70   \n",
              "149998                           989.70   \n",
              "149999                           989.70   \n",
              "150000                           989.70   \n",
              "\n",
              "        Nb of sec with 1250B < Vol UL < 6250B  \\\n",
              "0                                      340.43   \n",
              "1                                      340.43   \n",
              "2                                      340.43   \n",
              "3                                      340.43   \n",
              "4                                      340.43   \n",
              "...                                       ...   \n",
              "149996                                 340.43   \n",
              "149997                                 340.43   \n",
              "149998                                 340.43   \n",
              "149999                                 340.43   \n",
              "150000                                 340.43   \n",
              "\n",
              "        Nb of sec with 31250B < Vol DL < 125000B  \\\n",
              "0                                         810.84   \n",
              "1                                         810.84   \n",
              "2                                         810.84   \n",
              "3                                         810.84   \n",
              "4                                         810.84   \n",
              "...                                          ...   \n",
              "149996                                    810.84   \n",
              "149997                                    810.84   \n",
              "149998                                    810.84   \n",
              "149999                                    810.84   \n",
              "150000                                    810.84   \n",
              "\n",
              "        Nb of sec with 37500B < Vol UL  \\\n",
              "0                               149.26   \n",
              "1                               149.26   \n",
              "2                               149.26   \n",
              "3                               149.26   \n",
              "4                               149.26   \n",
              "...                                ...   \n",
              "149996                          149.26   \n",
              "149997                          149.26   \n",
              "149998                          149.26   \n",
              "149999                          149.26   \n",
              "150000                          149.26   \n",
              "\n",
              "        Nb of sec with 6250B < Vol DL < 31250B  \\\n",
              "0                                       965.46   \n",
              "1                                       965.46   \n",
              "2                                       965.46   \n",
              "3                                       965.46   \n",
              "4                                       965.46   \n",
              "...                                        ...   \n",
              "149996                                  965.46   \n",
              "149997                                  965.46   \n",
              "149998                                  965.46   \n",
              "149999                                  965.46   \n",
              "150000                                  965.46   \n",
              "\n",
              "        Nb of sec with 6250B < Vol UL < 37500B  Nb of sec with Vol DL < 6250B  \\\n",
              "0                                       141.30                         213.00   \n",
              "1                                       141.30                         971.00   \n",
              "2                                       141.30                         751.00   \n",
              "3                                       141.30                          17.00   \n",
              "4                                       141.30                         607.00   \n",
              "...                                        ...                            ...   \n",
              "149996                                  141.30                         223.00   \n",
              "149997                                  141.30                         105.00   \n",
              "149998                                  141.30                         104.00   \n",
              "149999                                  141.30                          43.00   \n",
              "150000                                  141.30                       3,719.79   \n",
              "\n",
              "        Nb of sec with Vol UL < 1250B  Social Media DL (Bytes)  \\\n",
              "0                              214.00             1,545,765.00   \n",
              "1                            1,022.00             1,926,113.00   \n",
              "2                              695.00             1,684,053.00   \n",
              "3                              207.00               644,121.00   \n",
              "4                              604.00               862,600.00   \n",
              "...                               ...                      ...   \n",
              "149996                         229.00             3,464,974.00   \n",
              "149997                         102.00             2,344,568.00   \n",
              "149998                         108.00             1,245,845.00   \n",
              "149999                          82.00               801,547.00   \n",
              "150000                       4,022.08             1,795,321.77   \n",
              "\n",
              "        Social Media UL (Bytes)  Google DL (Bytes)  Google UL (Bytes)  \\\n",
              "0                     24,420.00       1,634,479.00       1,271,433.00   \n",
              "1                      7,165.00       3,493,924.00         920,172.00   \n",
              "2                     42,224.00       8,535,055.00       1,694,064.00   \n",
              "3                     13,372.00       9,023,734.00       2,788,027.00   \n",
              "4                     50,188.00       6,248,284.00       1,500,559.00   \n",
              "...                         ...                ...                ...   \n",
              "149996                52,091.00       9,967,603.00       2,817,311.00   \n",
              "149997                 7,613.00       2,229,420.00       2,185,941.00   \n",
              "149998                14,394.00       3,850,890.00       2,734,579.00   \n",
              "149999                21,562.00       4,189,773.00       3,567,494.00   \n",
              "150000                32,928.43       5,750,752.62       2,056,541.93   \n",
              "\n",
              "        Email DL (Bytes)  Email UL (Bytes)  Youtube DL (Bytes)  \\\n",
              "0           3,563,542.00        137,762.00       15,854,611.00   \n",
              "1             629,046.00        308,339.00       20,247,395.00   \n",
              "2           2,690,151.00        672,973.00       19,725,661.00   \n",
              "3           1,439,754.00        631,229.00       21,388,122.00   \n",
              "4           1,936,496.00        173,853.00       15,259,380.00   \n",
              "...                  ...               ...                 ...   \n",
              "149996         57,639.00        633,237.00       16,191,667.00   \n",
              "149997      1,954,414.00        167,304.00       13,877,234.00   \n",
              "149998      1,525,734.00        532,543.00       22,660,510.00   \n",
              "149999      2,228,270.00        622,644.00        8,817,106.00   \n",
              "150000      1,791,728.87        467,373.44       11,634,072.50   \n",
              "\n",
              "        Youtube UL (Bytes)  Netflix DL (Bytes)  Netflix UL (Bytes)  \\\n",
              "0             2,501,332.00        8,198,936.00        9,656,251.00   \n",
              "1            19,111,729.00       18,338,413.00       17,227,132.00   \n",
              "2            14,699,576.00       17,587,794.00        6,163,408.00   \n",
              "3            15,146,643.00       13,994,646.00        1,097,942.00   \n",
              "4            18,962,873.00       17,124,581.00          415,218.00   \n",
              "...                    ...                 ...                 ...   \n",
              "149996       11,763,428.00       17,883,703.00       19,678,161.00   \n",
              "149997        8,288,284.00       19,350,146.00       21,293,148.00   \n",
              "149998        1,855,903.00        9,963,942.00        5,065,760.00   \n",
              "149999        8,305,402.00        3,322,253.00       13,172,589.00   \n",
              "150000       11,009,410.13       11,626,851.72       11,001,754.82   \n",
              "\n",
              "        Gaming DL (Bytes)  Gaming UL (Bytes)  Other DL (Bytes)  \\\n",
              "0          278,082,303.00      14,344,150.00    171,744,450.00   \n",
              "1          608,750,074.00       1,170,709.00    526,904,238.00   \n",
              "2          229,584,621.00         395,630.00    410,692,588.00   \n",
              "3          799,538,153.00      10,849,722.00    749,039,933.00   \n",
              "4          527,707,248.00       3,529,801.00    550,709,500.00   \n",
              "...                   ...                ...               ...   \n",
              "149996     526,609,673.00       9,197,207.00      3,264,510.00   \n",
              "149997     626,893,062.00       4,735,033.00    712,180,387.00   \n",
              "149998     553,539,484.00      13,394,316.00    121,100,856.00   \n",
              "149999     352,536,971.00       2,529,475.00    814,713,113.00   \n",
              "150000     422,044,702.60       8,288,398.11    421,100,544.19   \n",
              "\n",
              "        Other UL (Bytes)  Total UL (Bytes)  Total DL (Bytes)  \n",
              "0           8,814,393.00     36,749,741.00    308,879,636.00  \n",
              "1          15,055,145.00     53,800,391.00    653,384,965.00  \n",
              "2           4,215,763.00     27,883,638.00    279,807,335.00  \n",
              "3          12,797,283.00     43,324,218.00    846,028,530.00  \n",
              "4          13,910,322.00     38,542,814.00    569,138,589.00  \n",
              "...                  ...               ...               ...  \n",
              "149996     13,487,416.00     57,628,851.00    574,175,259.00  \n",
              "149997      2,457,758.00     39,135,081.00    666,648,844.00  \n",
              "149998     11,314,729.00     34,912,224.00    592,786,405.00  \n",
              "149999      1,406,930.00     29,626,096.00    371,895,920.00  \n",
              "150000      8,264,799.42     41,121,206.29    454,643,430.08  \n",
              "\n",
              "[150001 rows x 55 columns]"
            ],
            "text/html": [
              "\n",
              "  <div id=\"df-bceeb10c-64f2-4a77-be1b-b5f2d5a4c94d\">\n",
              "    <div class=\"colab-df-container\">\n",
              "      <div>\n",
              "<style scoped>\n",
              "    .dataframe tbody tr th:only-of-type {\n",
              "        vertical-align: middle;\n",
              "    }\n",
              "\n",
              "    .dataframe tbody tr th {\n",
              "        vertical-align: top;\n",
              "    }\n",
              "\n",
              "    .dataframe thead th {\n",
              "        text-align: right;\n",
              "    }\n",
              "</style>\n",
              "<table border=\"1\" class=\"dataframe\">\n",
              "  <thead>\n",
              "    <tr style=\"text-align: right;\">\n",
              "      <th></th>\n",
              "      <th>Bearer Id</th>\n",
              "      <th>Start</th>\n",
              "      <th>Start ms</th>\n",
              "      <th>End</th>\n",
              "      <th>End ms</th>\n",
              "      <th>Dur. (ms)</th>\n",
              "      <th>IMSI</th>\n",
              "      <th>MSISDN/Number</th>\n",
              "      <th>IMEI</th>\n",
              "      <th>Last Location Name</th>\n",
              "      <th>Avg RTT DL (ms)</th>\n",
              "      <th>Avg RTT UL (ms)</th>\n",
              "      <th>Avg Bearer TP DL (kbps)</th>\n",
              "      <th>Avg Bearer TP UL (kbps)</th>\n",
              "      <th>TCP DL Retrans. Vol (Bytes)</th>\n",
              "      <th>TCP UL Retrans. Vol (Bytes)</th>\n",
              "      <th>DL TP &lt; 50 Kbps (%)</th>\n",
              "      <th>50 Kbps &lt; DL TP &lt; 250 Kbps (%)</th>\n",
              "      <th>250 Kbps &lt; DL TP &lt; 1 Mbps (%)</th>\n",
              "      <th>DL TP &gt; 1 Mbps (%)</th>\n",
              "      <th>UL TP &lt; 10 Kbps (%)</th>\n",
              "      <th>10 Kbps &lt; UL TP &lt; 50 Kbps (%)</th>\n",
              "      <th>50 Kbps &lt; UL TP &lt; 300 Kbps (%)</th>\n",
              "      <th>UL TP &gt; 300 Kbps (%)</th>\n",
              "      <th>HTTP DL (Bytes)</th>\n",
              "      <th>HTTP UL (Bytes)</th>\n",
              "      <th>Activity Duration DL (ms)</th>\n",
              "      <th>Activity Duration UL (ms)</th>\n",
              "      <th>Dur. (ms).1</th>\n",
              "      <th>Handset Manufacturer</th>\n",
              "      <th>Handset Type</th>\n",
              "      <th>Nb of sec with 125000B &lt; Vol DL</th>\n",
              "      <th>Nb of sec with 1250B &lt; Vol UL &lt; 6250B</th>\n",
              "      <th>Nb of sec with 31250B &lt; Vol DL &lt; 125000B</th>\n",
              "      <th>Nb of sec with 37500B &lt; Vol UL</th>\n",
              "      <th>Nb of sec with 6250B &lt; Vol DL &lt; 31250B</th>\n",
              "      <th>Nb of sec with 6250B &lt; Vol UL &lt; 37500B</th>\n",
              "      <th>Nb of sec with Vol DL &lt; 6250B</th>\n",
              "      <th>Nb of sec with Vol UL &lt; 1250B</th>\n",
              "      <th>Social Media DL (Bytes)</th>\n",
              "      <th>Social Media UL (Bytes)</th>\n",
              "      <th>Google DL (Bytes)</th>\n",
              "      <th>Google UL (Bytes)</th>\n",
              "      <th>Email DL (Bytes)</th>\n",
              "      <th>Email UL (Bytes)</th>\n",
              "      <th>Youtube DL (Bytes)</th>\n",
              "      <th>Youtube UL (Bytes)</th>\n",
              "      <th>Netflix DL (Bytes)</th>\n",
              "      <th>Netflix UL (Bytes)</th>\n",
              "      <th>Gaming DL (Bytes)</th>\n",
              "      <th>Gaming UL (Bytes)</th>\n",
              "      <th>Other DL (Bytes)</th>\n",
              "      <th>Other UL (Bytes)</th>\n",
              "      <th>Total UL (Bytes)</th>\n",
              "      <th>Total DL (Bytes)</th>\n",
              "    </tr>\n",
              "  </thead>\n",
              "  <tbody>\n",
              "    <tr>\n",
              "      <th>0</th>\n",
              "      <td>13,114,483,460,844,900,352.00</td>\n",
              "      <td>4/4/2019 12:01</td>\n",
              "      <td>770.00</td>\n",
              "      <td>4/25/2019 14:35</td>\n",
              "      <td>662.00</td>\n",
              "      <td>1,823,652.00</td>\n",
              "      <td>208,201,448,079,117.00</td>\n",
              "      <td>33,664,962,239.00</td>\n",
              "      <td>35,521,209,507,511.00</td>\n",
              "      <td>9.16456699548519E+015</td>\n",
              "      <td>42.00</td>\n",
              "      <td>5.00</td>\n",
              "      <td>23.00</td>\n",
              "      <td>44.00</td>\n",
              "      <td>20,809,914.27</td>\n",
              "      <td>759,658.66</td>\n",
              "      <td>100.00</td>\n",
              "      <td>0.00</td>\n",
              "      <td>0.00</td>\n",
              "      <td>0.00</td>\n",
              "      <td>100.00</td>\n",
              "      <td>0.00</td>\n",
              "      <td>0.00</td>\n",
              "      <td>0.00</td>\n",
              "      <td>114,471,023.70</td>\n",
              "      <td>3,242,301.38</td>\n",
              "      <td>37,624.00</td>\n",
              "      <td>38,787.00</td>\n",
              "      <td>1,823,652,892.00</td>\n",
              "      <td>Samsung</td>\n",
              "      <td>Samsung Galaxy A5 Sm-A520F</td>\n",
              "      <td>989.70</td>\n",
              "      <td>340.43</td>\n",
              "      <td>810.84</td>\n",
              "      <td>149.26</td>\n",
              "      <td>965.46</td>\n",
              "      <td>141.30</td>\n",
              "      <td>213.00</td>\n",
              "      <td>214.00</td>\n",
              "      <td>1,545,765.00</td>\n",
              "      <td>24,420.00</td>\n",
              "      <td>1,634,479.00</td>\n",
              "      <td>1,271,433.00</td>\n",
              "      <td>3,563,542.00</td>\n",
              "      <td>137,762.00</td>\n",
              "      <td>15,854,611.00</td>\n",
              "      <td>2,501,332.00</td>\n",
              "      <td>8,198,936.00</td>\n",
              "      <td>9,656,251.00</td>\n",
              "      <td>278,082,303.00</td>\n",
              "      <td>14,344,150.00</td>\n",
              "      <td>171,744,450.00</td>\n",
              "      <td>8,814,393.00</td>\n",
              "      <td>36,749,741.00</td>\n",
              "      <td>308,879,636.00</td>\n",
              "    </tr>\n",
              "    <tr>\n",
              "      <th>1</th>\n",
              "      <td>13,114,483,482,878,900,224.00</td>\n",
              "      <td>4/9/2019 13:04</td>\n",
              "      <td>235.00</td>\n",
              "      <td>4/25/2019 8:15</td>\n",
              "      <td>606.00</td>\n",
              "      <td>1,365,104.00</td>\n",
              "      <td>208,201,909,211,140.00</td>\n",
              "      <td>33,681,854,413.00</td>\n",
              "      <td>35,794,009,006,359.00</td>\n",
              "      <td>L77566A</td>\n",
              "      <td>65.00</td>\n",
              "      <td>5.00</td>\n",
              "      <td>16.00</td>\n",
              "      <td>26.00</td>\n",
              "      <td>20,809,914.27</td>\n",
              "      <td>759,658.66</td>\n",
              "      <td>100.00</td>\n",
              "      <td>0.00</td>\n",
              "      <td>0.00</td>\n",
              "      <td>0.00</td>\n",
              "      <td>100.00</td>\n",
              "      <td>0.00</td>\n",
              "      <td>0.00</td>\n",
              "      <td>0.00</td>\n",
              "      <td>114,471,023.70</td>\n",
              "      <td>3,242,301.38</td>\n",
              "      <td>168.00</td>\n",
              "      <td>3,560.00</td>\n",
              "      <td>1,365,104,371.00</td>\n",
              "      <td>Samsung</td>\n",
              "      <td>Samsung Galaxy J5 (Sm-J530)</td>\n",
              "      <td>989.70</td>\n",
              "      <td>340.43</td>\n",
              "      <td>810.84</td>\n",
              "      <td>149.26</td>\n",
              "      <td>965.46</td>\n",
              "      <td>141.30</td>\n",
              "      <td>971.00</td>\n",
              "      <td>1,022.00</td>\n",
              "      <td>1,926,113.00</td>\n",
              "      <td>7,165.00</td>\n",
              "      <td>3,493,924.00</td>\n",
              "      <td>920,172.00</td>\n",
              "      <td>629,046.00</td>\n",
              "      <td>308,339.00</td>\n",
              "      <td>20,247,395.00</td>\n",
              "      <td>19,111,729.00</td>\n",
              "      <td>18,338,413.00</td>\n",
              "      <td>17,227,132.00</td>\n",
              "      <td>608,750,074.00</td>\n",
              "      <td>1,170,709.00</td>\n",
              "      <td>526,904,238.00</td>\n",
              "      <td>15,055,145.00</td>\n",
              "      <td>53,800,391.00</td>\n",
              "      <td>653,384,965.00</td>\n",
              "    </tr>\n",
              "    <tr>\n",
              "      <th>2</th>\n",
              "      <td>13,114,483,484,080,500,736.00</td>\n",
              "      <td>4/9/2019 17:42</td>\n",
              "      <td>1.00</td>\n",
              "      <td>4/25/2019 11:58</td>\n",
              "      <td>652.00</td>\n",
              "      <td>1,361,762.00</td>\n",
              "      <td>208,200,314,458,056.00</td>\n",
              "      <td>33,760,627,129.00</td>\n",
              "      <td>35,281,510,359,387.00</td>\n",
              "      <td>D42335A</td>\n",
              "      <td>109.80</td>\n",
              "      <td>17.66</td>\n",
              "      <td>6.00</td>\n",
              "      <td>9.00</td>\n",
              "      <td>20,809,914.27</td>\n",
              "      <td>759,658.66</td>\n",
              "      <td>100.00</td>\n",
              "      <td>0.00</td>\n",
              "      <td>0.00</td>\n",
              "      <td>0.00</td>\n",
              "      <td>100.00</td>\n",
              "      <td>0.00</td>\n",
              "      <td>0.00</td>\n",
              "      <td>0.00</td>\n",
              "      <td>114,471,023.70</td>\n",
              "      <td>3,242,301.38</td>\n",
              "      <td>0.00</td>\n",
              "      <td>0.00</td>\n",
              "      <td>1,361,762,651.00</td>\n",
              "      <td>Samsung</td>\n",
              "      <td>Samsung Galaxy A8 (2018)</td>\n",
              "      <td>989.70</td>\n",
              "      <td>340.43</td>\n",
              "      <td>810.84</td>\n",
              "      <td>149.26</td>\n",
              "      <td>965.46</td>\n",
              "      <td>141.30</td>\n",
              "      <td>751.00</td>\n",
              "      <td>695.00</td>\n",
              "      <td>1,684,053.00</td>\n",
              "      <td>42,224.00</td>\n",
              "      <td>8,535,055.00</td>\n",
              "      <td>1,694,064.00</td>\n",
              "      <td>2,690,151.00</td>\n",
              "      <td>672,973.00</td>\n",
              "      <td>19,725,661.00</td>\n",
              "      <td>14,699,576.00</td>\n",
              "      <td>17,587,794.00</td>\n",
              "      <td>6,163,408.00</td>\n",
              "      <td>229,584,621.00</td>\n",
              "      <td>395,630.00</td>\n",
              "      <td>410,692,588.00</td>\n",
              "      <td>4,215,763.00</td>\n",
              "      <td>27,883,638.00</td>\n",
              "      <td>279,807,335.00</td>\n",
              "    </tr>\n",
              "    <tr>\n",
              "      <th>3</th>\n",
              "      <td>13,114,483,485,442,799,616.00</td>\n",
              "      <td>4/10/2019 0:31</td>\n",
              "      <td>486.00</td>\n",
              "      <td>4/25/2019 7:36</td>\n",
              "      <td>171.00</td>\n",
              "      <td>1,321,509.00</td>\n",
              "      <td>208,201,402,342,131.00</td>\n",
              "      <td>33,750,343,200.00</td>\n",
              "      <td>35,356,610,164,913.00</td>\n",
              "      <td>T21824A</td>\n",
              "      <td>109.80</td>\n",
              "      <td>17.66</td>\n",
              "      <td>44.00</td>\n",
              "      <td>44.00</td>\n",
              "      <td>20,809,914.27</td>\n",
              "      <td>759,658.66</td>\n",
              "      <td>100.00</td>\n",
              "      <td>0.00</td>\n",
              "      <td>0.00</td>\n",
              "      <td>0.00</td>\n",
              "      <td>100.00</td>\n",
              "      <td>0.00</td>\n",
              "      <td>0.00</td>\n",
              "      <td>0.00</td>\n",
              "      <td>114,471,023.70</td>\n",
              "      <td>3,242,301.38</td>\n",
              "      <td>3,330.00</td>\n",
              "      <td>37,882.00</td>\n",
              "      <td>1,321,509,685.00</td>\n",
              "      <td>Apple</td>\n",
              "      <td>Huawei B528S-23A</td>\n",
              "      <td>989.70</td>\n",
              "      <td>340.43</td>\n",
              "      <td>810.84</td>\n",
              "      <td>149.26</td>\n",
              "      <td>965.46</td>\n",
              "      <td>141.30</td>\n",
              "      <td>17.00</td>\n",
              "      <td>207.00</td>\n",
              "      <td>644,121.00</td>\n",
              "      <td>13,372.00</td>\n",
              "      <td>9,023,734.00</td>\n",
              "      <td>2,788,027.00</td>\n",
              "      <td>1,439,754.00</td>\n",
              "      <td>631,229.00</td>\n",
              "      <td>21,388,122.00</td>\n",
              "      <td>15,146,643.00</td>\n",
              "      <td>13,994,646.00</td>\n",
              "      <td>1,097,942.00</td>\n",
              "      <td>799,538,153.00</td>\n",
              "      <td>10,849,722.00</td>\n",
              "      <td>749,039,933.00</td>\n",
              "      <td>12,797,283.00</td>\n",
              "      <td>43,324,218.00</td>\n",
              "      <td>846,028,530.00</td>\n",
              "    </tr>\n",
              "    <tr>\n",
              "      <th>4</th>\n",
              "      <td>13,114,483,499,480,700,928.00</td>\n",
              "      <td>4/12/2019 20:10</td>\n",
              "      <td>565.00</td>\n",
              "      <td>4/25/2019 10:40</td>\n",
              "      <td>954.00</td>\n",
              "      <td>1,089,009.00</td>\n",
              "      <td>208,201,401,415,120.00</td>\n",
              "      <td>33,699,795,932.00</td>\n",
              "      <td>35,407,009,745,539.00</td>\n",
              "      <td>D88865A</td>\n",
              "      <td>109.80</td>\n",
              "      <td>17.66</td>\n",
              "      <td>6.00</td>\n",
              "      <td>9.00</td>\n",
              "      <td>20,809,914.27</td>\n",
              "      <td>759,658.66</td>\n",
              "      <td>100.00</td>\n",
              "      <td>0.00</td>\n",
              "      <td>0.00</td>\n",
              "      <td>0.00</td>\n",
              "      <td>100.00</td>\n",
              "      <td>0.00</td>\n",
              "      <td>0.00</td>\n",
              "      <td>0.00</td>\n",
              "      <td>114,471,023.70</td>\n",
              "      <td>3,242,301.38</td>\n",
              "      <td>0.00</td>\n",
              "      <td>0.00</td>\n",
              "      <td>1,089,009,389.00</td>\n",
              "      <td>Samsung</td>\n",
              "      <td>Samsung Sm-G390F</td>\n",
              "      <td>989.70</td>\n",
              "      <td>340.43</td>\n",
              "      <td>810.84</td>\n",
              "      <td>149.26</td>\n",
              "      <td>965.46</td>\n",
              "      <td>141.30</td>\n",
              "      <td>607.00</td>\n",
              "      <td>604.00</td>\n",
              "      <td>862,600.00</td>\n",
              "      <td>50,188.00</td>\n",
              "      <td>6,248,284.00</td>\n",
              "      <td>1,500,559.00</td>\n",
              "      <td>1,936,496.00</td>\n",
              "      <td>173,853.00</td>\n",
              "      <td>15,259,380.00</td>\n",
              "      <td>18,962,873.00</td>\n",
              "      <td>17,124,581.00</td>\n",
              "      <td>415,218.00</td>\n",
              "      <td>527,707,248.00</td>\n",
              "      <td>3,529,801.00</td>\n",
              "      <td>550,709,500.00</td>\n",
              "      <td>13,910,322.00</td>\n",
              "      <td>38,542,814.00</td>\n",
              "      <td>569,138,589.00</td>\n",
              "    </tr>\n",
              "    <tr>\n",
              "      <th>...</th>\n",
              "      <td>...</td>\n",
              "      <td>...</td>\n",
              "      <td>...</td>\n",
              "      <td>...</td>\n",
              "      <td>...</td>\n",
              "      <td>...</td>\n",
              "      <td>...</td>\n",
              "      <td>...</td>\n",
              "      <td>...</td>\n",
              "      <td>...</td>\n",
              "      <td>...</td>\n",
              "      <td>...</td>\n",
              "      <td>...</td>\n",
              "      <td>...</td>\n",
              "      <td>...</td>\n",
              "      <td>...</td>\n",
              "      <td>...</td>\n",
              "      <td>...</td>\n",
              "      <td>...</td>\n",
              "      <td>...</td>\n",
              "      <td>...</td>\n",
              "      <td>...</td>\n",
              "      <td>...</td>\n",
              "      <td>...</td>\n",
              "      <td>...</td>\n",
              "      <td>...</td>\n",
              "      <td>...</td>\n",
              "      <td>...</td>\n",
              "      <td>...</td>\n",
              "      <td>...</td>\n",
              "      <td>...</td>\n",
              "      <td>...</td>\n",
              "      <td>...</td>\n",
              "      <td>...</td>\n",
              "      <td>...</td>\n",
              "      <td>...</td>\n",
              "      <td>...</td>\n",
              "      <td>...</td>\n",
              "      <td>...</td>\n",
              "      <td>...</td>\n",
              "      <td>...</td>\n",
              "      <td>...</td>\n",
              "      <td>...</td>\n",
              "      <td>...</td>\n",
              "      <td>...</td>\n",
              "      <td>...</td>\n",
              "      <td>...</td>\n",
              "      <td>...</td>\n",
              "      <td>...</td>\n",
              "      <td>...</td>\n",
              "      <td>...</td>\n",
              "      <td>...</td>\n",
              "      <td>...</td>\n",
              "      <td>...</td>\n",
              "      <td>...</td>\n",
              "    </tr>\n",
              "    <tr>\n",
              "      <th>149996</th>\n",
              "      <td>7,277,825,670,196,679,680.00</td>\n",
              "      <td>4/29/2019 7:28</td>\n",
              "      <td>451.00</td>\n",
              "      <td>4/30/2019 6:02</td>\n",
              "      <td>214.00</td>\n",
              "      <td>81,230.00</td>\n",
              "      <td>208,202,201,200,072.00</td>\n",
              "      <td>33,650,688,697.00</td>\n",
              "      <td>35,483,109,451,938.00</td>\n",
              "      <td>D20434A</td>\n",
              "      <td>32.00</td>\n",
              "      <td>0.00</td>\n",
              "      <td>52.00</td>\n",
              "      <td>65.00</td>\n",
              "      <td>20,809,914.27</td>\n",
              "      <td>759,658.66</td>\n",
              "      <td>100.00</td>\n",
              "      <td>0.00</td>\n",
              "      <td>0.00</td>\n",
              "      <td>0.00</td>\n",
              "      <td>100.00</td>\n",
              "      <td>0.00</td>\n",
              "      <td>0.00</td>\n",
              "      <td>0.00</td>\n",
              "      <td>114,471,023.70</td>\n",
              "      <td>3,242,301.38</td>\n",
              "      <td>42,376.00</td>\n",
              "      <td>41,915.00</td>\n",
              "      <td>81,230,763.00</td>\n",
              "      <td>Apple</td>\n",
              "      <td>Apple iPhone 8 Plus (A1897)</td>\n",
              "      <td>989.70</td>\n",
              "      <td>340.43</td>\n",
              "      <td>810.84</td>\n",
              "      <td>149.26</td>\n",
              "      <td>965.46</td>\n",
              "      <td>141.30</td>\n",
              "      <td>223.00</td>\n",
              "      <td>229.00</td>\n",
              "      <td>3,464,974.00</td>\n",
              "      <td>52,091.00</td>\n",
              "      <td>9,967,603.00</td>\n",
              "      <td>2,817,311.00</td>\n",
              "      <td>57,639.00</td>\n",
              "      <td>633,237.00</td>\n",
              "      <td>16,191,667.00</td>\n",
              "      <td>11,763,428.00</td>\n",
              "      <td>17,883,703.00</td>\n",
              "      <td>19,678,161.00</td>\n",
              "      <td>526,609,673.00</td>\n",
              "      <td>9,197,207.00</td>\n",
              "      <td>3,264,510.00</td>\n",
              "      <td>13,487,416.00</td>\n",
              "      <td>57,628,851.00</td>\n",
              "      <td>574,175,259.00</td>\n",
              "    </tr>\n",
              "    <tr>\n",
              "      <th>149997</th>\n",
              "      <td>7,349,883,264,234,609,664.00</td>\n",
              "      <td>4/29/2019 7:28</td>\n",
              "      <td>483.00</td>\n",
              "      <td>4/30/2019 10:41</td>\n",
              "      <td>187.00</td>\n",
              "      <td>97,970.00</td>\n",
              "      <td>208,201,908,153,249.00</td>\n",
              "      <td>33,663,449,963.00</td>\n",
              "      <td>35,660,508,296,467.00</td>\n",
              "      <td>D10223C</td>\n",
              "      <td>27.00</td>\n",
              "      <td>2.00</td>\n",
              "      <td>23.00</td>\n",
              "      <td>54.00</td>\n",
              "      <td>20,809,914.27</td>\n",
              "      <td>759,658.66</td>\n",
              "      <td>100.00</td>\n",
              "      <td>0.00</td>\n",
              "      <td>0.00</td>\n",
              "      <td>0.00</td>\n",
              "      <td>100.00</td>\n",
              "      <td>0.00</td>\n",
              "      <td>0.00</td>\n",
              "      <td>0.00</td>\n",
              "      <td>114,471,023.70</td>\n",
              "      <td>3,242,301.38</td>\n",
              "      <td>17,264.00</td>\n",
              "      <td>16,759.00</td>\n",
              "      <td>97,970,704.00</td>\n",
              "      <td>Apple</td>\n",
              "      <td>Apple iPhone Se (A1723)</td>\n",
              "      <td>989.70</td>\n",
              "      <td>340.43</td>\n",
              "      <td>810.84</td>\n",
              "      <td>149.26</td>\n",
              "      <td>965.46</td>\n",
              "      <td>141.30</td>\n",
              "      <td>105.00</td>\n",
              "      <td>102.00</td>\n",
              "      <td>2,344,568.00</td>\n",
              "      <td>7,613.00</td>\n",
              "      <td>2,229,420.00</td>\n",
              "      <td>2,185,941.00</td>\n",
              "      <td>1,954,414.00</td>\n",
              "      <td>167,304.00</td>\n",
              "      <td>13,877,234.00</td>\n",
              "      <td>8,288,284.00</td>\n",
              "      <td>19,350,146.00</td>\n",
              "      <td>21,293,148.00</td>\n",
              "      <td>626,893,062.00</td>\n",
              "      <td>4,735,033.00</td>\n",
              "      <td>712,180,387.00</td>\n",
              "      <td>2,457,758.00</td>\n",
              "      <td>39,135,081.00</td>\n",
              "      <td>666,648,844.00</td>\n",
              "    </tr>\n",
              "    <tr>\n",
              "      <th>149998</th>\n",
              "      <td>13,114,483,573,367,300,096.00</td>\n",
              "      <td>4/29/2019 7:28</td>\n",
              "      <td>283.00</td>\n",
              "      <td>4/30/2019 10:46</td>\n",
              "      <td>810.00</td>\n",
              "      <td>98,249.00</td>\n",
              "      <td>208,201,711,161,187.00</td>\n",
              "      <td>33,621,890,103.00</td>\n",
              "      <td>35,721,209,870,907.00</td>\n",
              "      <td>T51102A</td>\n",
              "      <td>43.00</td>\n",
              "      <td>6.00</td>\n",
              "      <td>43.00</td>\n",
              "      <td>47.00</td>\n",
              "      <td>20,809,914.27</td>\n",
              "      <td>759,658.66</td>\n",
              "      <td>100.00</td>\n",
              "      <td>0.00</td>\n",
              "      <td>0.00</td>\n",
              "      <td>0.00</td>\n",
              "      <td>100.00</td>\n",
              "      <td>0.00</td>\n",
              "      <td>0.00</td>\n",
              "      <td>0.00</td>\n",
              "      <td>114,471,023.70</td>\n",
              "      <td>3,242,301.38</td>\n",
              "      <td>25,003.00</td>\n",
              "      <td>28,640.00</td>\n",
              "      <td>98,249,527.00</td>\n",
              "      <td>Apple</td>\n",
              "      <td>Apple iPhone Xs (A2097)</td>\n",
              "      <td>989.70</td>\n",
              "      <td>340.43</td>\n",
              "      <td>810.84</td>\n",
              "      <td>149.26</td>\n",
              "      <td>965.46</td>\n",
              "      <td>141.30</td>\n",
              "      <td>104.00</td>\n",
              "      <td>108.00</td>\n",
              "      <td>1,245,845.00</td>\n",
              "      <td>14,394.00</td>\n",
              "      <td>3,850,890.00</td>\n",
              "      <td>2,734,579.00</td>\n",
              "      <td>1,525,734.00</td>\n",
              "      <td>532,543.00</td>\n",
              "      <td>22,660,510.00</td>\n",
              "      <td>1,855,903.00</td>\n",
              "      <td>9,963,942.00</td>\n",
              "      <td>5,065,760.00</td>\n",
              "      <td>553,539,484.00</td>\n",
              "      <td>13,394,316.00</td>\n",
              "      <td>121,100,856.00</td>\n",
              "      <td>11,314,729.00</td>\n",
              "      <td>34,912,224.00</td>\n",
              "      <td>592,786,405.00</td>\n",
              "    </tr>\n",
              "    <tr>\n",
              "      <th>149999</th>\n",
              "      <td>13,114,483,573,367,300,096.00</td>\n",
              "      <td>4/29/2019 7:28</td>\n",
              "      <td>696.00</td>\n",
              "      <td>4/30/2019 10:40</td>\n",
              "      <td>327.00</td>\n",
              "      <td>97,910.00</td>\n",
              "      <td>208,202,101,098,075.00</td>\n",
              "      <td>33,619,622,058.00</td>\n",
              "      <td>86,186,204,011,457.00</td>\n",
              "      <td>L88342B</td>\n",
              "      <td>37.00</td>\n",
              "      <td>5.00</td>\n",
              "      <td>34.00</td>\n",
              "      <td>37.00</td>\n",
              "      <td>20,809,914.27</td>\n",
              "      <td>759,658.66</td>\n",
              "      <td>100.00</td>\n",
              "      <td>0.00</td>\n",
              "      <td>0.00</td>\n",
              "      <td>0.00</td>\n",
              "      <td>100.00</td>\n",
              "      <td>0.00</td>\n",
              "      <td>0.00</td>\n",
              "      <td>0.00</td>\n",
              "      <td>114,471,023.70</td>\n",
              "      <td>3,242,301.38</td>\n",
              "      <td>13,405.00</td>\n",
              "      <td>34,088.00</td>\n",
              "      <td>97,910,631.00</td>\n",
              "      <td>Huawei</td>\n",
              "      <td>Huawei Fig-Lx1</td>\n",
              "      <td>989.70</td>\n",
              "      <td>340.43</td>\n",
              "      <td>810.84</td>\n",
              "      <td>149.26</td>\n",
              "      <td>965.46</td>\n",
              "      <td>141.30</td>\n",
              "      <td>43.00</td>\n",
              "      <td>82.00</td>\n",
              "      <td>801,547.00</td>\n",
              "      <td>21,562.00</td>\n",
              "      <td>4,189,773.00</td>\n",
              "      <td>3,567,494.00</td>\n",
              "      <td>2,228,270.00</td>\n",
              "      <td>622,644.00</td>\n",
              "      <td>8,817,106.00</td>\n",
              "      <td>8,305,402.00</td>\n",
              "      <td>3,322,253.00</td>\n",
              "      <td>13,172,589.00</td>\n",
              "      <td>352,536,971.00</td>\n",
              "      <td>2,529,475.00</td>\n",
              "      <td>814,713,113.00</td>\n",
              "      <td>1,406,930.00</td>\n",
              "      <td>29,626,096.00</td>\n",
              "      <td>371,895,920.00</td>\n",
              "    </tr>\n",
              "    <tr>\n",
              "      <th>150000</th>\n",
              "      <td>10,138,874,654,256,340,992.00</td>\n",
              "      <td>4/26/2019 7:25</td>\n",
              "      <td>499.19</td>\n",
              "      <td>4/25/2019 0:01</td>\n",
              "      <td>498.80</td>\n",
              "      <td>104,608.56</td>\n",
              "      <td>208,201,639,651,669.06</td>\n",
              "      <td>41,882,819,545.03</td>\n",
              "      <td>48,474,547,977,654.53</td>\n",
              "      <td>D41377B</td>\n",
              "      <td>109.80</td>\n",
              "      <td>17.66</td>\n",
              "      <td>13,300.05</td>\n",
              "      <td>1,770.43</td>\n",
              "      <td>20,809,914.27</td>\n",
              "      <td>759,658.66</td>\n",
              "      <td>92.84</td>\n",
              "      <td>3.07</td>\n",
              "      <td>1.72</td>\n",
              "      <td>1.61</td>\n",
              "      <td>98.53</td>\n",
              "      <td>0.78</td>\n",
              "      <td>0.15</td>\n",
              "      <td>0.08</td>\n",
              "      <td>114,471,023.70</td>\n",
              "      <td>3,242,301.38</td>\n",
              "      <td>1,829,176.87</td>\n",
              "      <td>1,408,879.97</td>\n",
              "      <td>104,609,105.55</td>\n",
              "      <td>Apple</td>\n",
              "      <td>Huawei B528S-23A</td>\n",
              "      <td>989.70</td>\n",
              "      <td>340.43</td>\n",
              "      <td>810.84</td>\n",
              "      <td>149.26</td>\n",
              "      <td>965.46</td>\n",
              "      <td>141.30</td>\n",
              "      <td>3,719.79</td>\n",
              "      <td>4,022.08</td>\n",
              "      <td>1,795,321.77</td>\n",
              "      <td>32,928.43</td>\n",
              "      <td>5,750,752.62</td>\n",
              "      <td>2,056,541.93</td>\n",
              "      <td>1,791,728.87</td>\n",
              "      <td>467,373.44</td>\n",
              "      <td>11,634,072.50</td>\n",
              "      <td>11,009,410.13</td>\n",
              "      <td>11,626,851.72</td>\n",
              "      <td>11,001,754.82</td>\n",
              "      <td>422,044,702.60</td>\n",
              "      <td>8,288,398.11</td>\n",
              "      <td>421,100,544.19</td>\n",
              "      <td>8,264,799.42</td>\n",
              "      <td>41,121,206.29</td>\n",
              "      <td>454,643,430.08</td>\n",
              "    </tr>\n",
              "  </tbody>\n",
              "</table>\n",
              "<p>150001 rows × 55 columns</p>\n",
              "</div>\n",
              "      <button class=\"colab-df-convert\" onclick=\"convertToInteractive('df-bceeb10c-64f2-4a77-be1b-b5f2d5a4c94d')\"\n",
              "              title=\"Convert this dataframe to an interactive table.\"\n",
              "              style=\"display:none;\">\n",
              "        \n",
              "  <svg xmlns=\"http://www.w3.org/2000/svg\" height=\"24px\"viewBox=\"0 0 24 24\"\n",
              "       width=\"24px\">\n",
              "    <path d=\"M0 0h24v24H0V0z\" fill=\"none\"/>\n",
              "    <path d=\"M18.56 5.44l.94 2.06.94-2.06 2.06-.94-2.06-.94-.94-2.06-.94 2.06-2.06.94zm-11 1L8.5 8.5l.94-2.06 2.06-.94-2.06-.94L8.5 2.5l-.94 2.06-2.06.94zm10 10l.94 2.06.94-2.06 2.06-.94-2.06-.94-.94-2.06-.94 2.06-2.06.94z\"/><path d=\"M17.41 7.96l-1.37-1.37c-.4-.4-.92-.59-1.43-.59-.52 0-1.04.2-1.43.59L10.3 9.45l-7.72 7.72c-.78.78-.78 2.05 0 2.83L4 21.41c.39.39.9.59 1.41.59.51 0 1.02-.2 1.41-.59l7.78-7.78 2.81-2.81c.8-.78.8-2.07 0-2.86zM5.41 20L4 18.59l7.72-7.72 1.47 1.35L5.41 20z\"/>\n",
              "  </svg>\n",
              "      </button>\n",
              "      \n",
              "  <style>\n",
              "    .colab-df-container {\n",
              "      display:flex;\n",
              "      flex-wrap:wrap;\n",
              "      gap: 12px;\n",
              "    }\n",
              "\n",
              "    .colab-df-convert {\n",
              "      background-color: #E8F0FE;\n",
              "      border: none;\n",
              "      border-radius: 50%;\n",
              "      cursor: pointer;\n",
              "      display: none;\n",
              "      fill: #1967D2;\n",
              "      height: 32px;\n",
              "      padding: 0 0 0 0;\n",
              "      width: 32px;\n",
              "    }\n",
              "\n",
              "    .colab-df-convert:hover {\n",
              "      background-color: #E2EBFA;\n",
              "      box-shadow: 0px 1px 2px rgba(60, 64, 67, 0.3), 0px 1px 3px 1px rgba(60, 64, 67, 0.15);\n",
              "      fill: #174EA6;\n",
              "    }\n",
              "\n",
              "    [theme=dark] .colab-df-convert {\n",
              "      background-color: #3B4455;\n",
              "      fill: #D2E3FC;\n",
              "    }\n",
              "\n",
              "    [theme=dark] .colab-df-convert:hover {\n",
              "      background-color: #434B5C;\n",
              "      box-shadow: 0px 1px 3px 1px rgba(0, 0, 0, 0.15);\n",
              "      filter: drop-shadow(0px 1px 2px rgba(0, 0, 0, 0.3));\n",
              "      fill: #FFFFFF;\n",
              "    }\n",
              "  </style>\n",
              "\n",
              "      <script>\n",
              "        const buttonEl =\n",
              "          document.querySelector('#df-bceeb10c-64f2-4a77-be1b-b5f2d5a4c94d button.colab-df-convert');\n",
              "        buttonEl.style.display =\n",
              "          google.colab.kernel.accessAllowed ? 'block' : 'none';\n",
              "\n",
              "        async function convertToInteractive(key) {\n",
              "          const element = document.querySelector('#df-bceeb10c-64f2-4a77-be1b-b5f2d5a4c94d');\n",
              "          const dataTable =\n",
              "            await google.colab.kernel.invokeFunction('convertToInteractive',\n",
              "                                                     [key], {});\n",
              "          if (!dataTable) return;\n",
              "\n",
              "          const docLinkHtml = 'Like what you see? Visit the ' +\n",
              "            '<a target=\"_blank\" href=https://colab.research.google.com/notebooks/data_table.ipynb>data table notebook</a>'\n",
              "            + ' to learn more about interactive tables.';\n",
              "          element.innerHTML = '';\n",
              "          dataTable['output_type'] = 'display_data';\n",
              "          await google.colab.output.renderOutput(dataTable, element);\n",
              "          const docLink = document.createElement('div');\n",
              "          docLink.innerHTML = docLinkHtml;\n",
              "          element.appendChild(docLink);\n",
              "        }\n",
              "      </script>\n",
              "    </div>\n",
              "  </div>\n",
              "  "
            ]
          },
          "metadata": {},
          "execution_count": 48
        }
      ]
    },
    {
      "cell_type": "markdown",
      "source": [
        "### Scaling between [0,1]"
      ],
      "metadata": {
        "id": "Bphm1ckjUAK0"
      },
      "id": "Bphm1ckjUAK0"
    },
    {
      "cell_type": "code",
      "source": [
        "def scalling_numeric_values_0_1(df):\n",
        "  for column in df.columns:\n",
        "    if df[column].dtype == 'float64':\n",
        "      df[column] = MinMaxScaler().fit_transform(np.array(df[column]).reshape(150001,1))\n",
        "  return df"
      ],
      "metadata": {
        "id": "r4Prs1aJUIvy"
      },
      "id": "r4Prs1aJUIvy",
      "execution_count": 49,
      "outputs": []
    },
    {
      "cell_type": "code",
      "source": [
        "db_sklearn = fill_missing_values(db.copy())\n",
        "scalling_numeric_values_0_1(db_sklearn)"
      ],
      "metadata": {
        "colab": {
          "base_uri": "https://localhost:8080/",
          "height": 887
        },
        "id": "FwFHO9yYUKcf",
        "outputId": "2b8a7746-00fe-4f84-8609-708483d0fe8c"
      },
      "id": "FwFHO9yYUKcf",
      "execution_count": 50,
      "outputs": [
        {
          "output_type": "execute_result",
          "data": {
            "text/plain": [
              "        Bearer Id            Start  Start ms              End  End ms  \\\n",
              "0            0.99   4/4/2019 12:01      0.77  4/25/2019 14:35    0.66   \n",
              "1            0.99   4/9/2019 13:04      0.24   4/25/2019 8:15    0.61   \n",
              "2            0.99   4/9/2019 17:42      0.00  4/25/2019 11:58    0.65   \n",
              "3            0.99   4/10/2019 0:31      0.49   4/25/2019 7:36    0.17   \n",
              "4            0.99  4/12/2019 20:10      0.57  4/25/2019 10:40    0.95   \n",
              "...           ...              ...       ...              ...     ...   \n",
              "149996       0.06   4/29/2019 7:28      0.45   4/30/2019 6:02    0.21   \n",
              "149997       0.07   4/29/2019 7:28      0.48  4/30/2019 10:41    0.19   \n",
              "149998       0.99   4/29/2019 7:28      0.28  4/30/2019 10:46    0.81   \n",
              "149999       0.99   4/29/2019 7:28      0.70  4/30/2019 10:40    0.33   \n",
              "150000       0.51   4/26/2019 7:25      0.50   4/25/2019 0:01    0.50   \n",
              "\n",
              "        Dur. (ms)  IMSI  MSISDN/Number  IMEI     Last Location Name  \\\n",
              "0            0.98  0.41           0.00  0.36  9.16456699548519E+015   \n",
              "1            0.73  0.41           0.00  0.36                L77566A   \n",
              "2            0.73  0.41           0.00  0.35                D42335A   \n",
              "3            0.71  0.41           0.00  0.35                T21824A   \n",
              "4            0.58  0.41           0.00  0.35                D88865A   \n",
              "...           ...   ...            ...   ...                    ...   \n",
              "149996       0.04  0.41           0.00  0.36                D20434A   \n",
              "149997       0.05  0.41           0.00  0.36                D10223C   \n",
              "149998       0.05  0.41           0.00  0.36                T51102A   \n",
              "149999       0.05  0.41           0.00  0.87                L88342B   \n",
              "150000       0.05  0.41           0.00  0.49                D41377B   \n",
              "\n",
              "        Avg RTT DL (ms)  Avg RTT UL (ms)  Avg Bearer TP DL (kbps)  \\\n",
              "0                  0.00             0.00                     0.00   \n",
              "1                  0.00             0.00                     0.00   \n",
              "2                  0.00             0.00                     0.00   \n",
              "3                  0.00             0.00                     0.00   \n",
              "4                  0.00             0.00                     0.00   \n",
              "...                 ...              ...                      ...   \n",
              "149996             0.00             0.00                     0.00   \n",
              "149997             0.00             0.00                     0.00   \n",
              "149998             0.00             0.00                     0.00   \n",
              "149999             0.00             0.00                     0.00   \n",
              "150000             0.00             0.00                     0.04   \n",
              "\n",
              "        Avg Bearer TP UL (kbps)  TCP DL Retrans. Vol (Bytes)  \\\n",
              "0                          0.00                         0.00   \n",
              "1                          0.00                         0.00   \n",
              "2                          0.00                         0.00   \n",
              "3                          0.00                         0.00   \n",
              "4                          0.00                         0.00   \n",
              "...                         ...                          ...   \n",
              "149996                     0.00                         0.00   \n",
              "149997                     0.00                         0.00   \n",
              "149998                     0.00                         0.00   \n",
              "149999                     0.00                         0.00   \n",
              "150000                     0.03                         0.00   \n",
              "\n",
              "        TCP UL Retrans. Vol (Bytes)  DL TP < 50 Kbps (%)  \\\n",
              "0                              0.00                 1.00   \n",
              "1                              0.00                 1.00   \n",
              "2                              0.00                 1.00   \n",
              "3                              0.00                 1.00   \n",
              "4                              0.00                 1.00   \n",
              "...                             ...                  ...   \n",
              "149996                         0.00                 1.00   \n",
              "149997                         0.00                 1.00   \n",
              "149998                         0.00                 1.00   \n",
              "149999                         0.00                 1.00   \n",
              "150000                         0.00                 0.93   \n",
              "\n",
              "        50 Kbps < DL TP < 250 Kbps (%)  250 Kbps < DL TP < 1 Mbps (%)  \\\n",
              "0                                 0.00                           0.00   \n",
              "1                                 0.00                           0.00   \n",
              "2                                 0.00                           0.00   \n",
              "3                                 0.00                           0.00   \n",
              "4                                 0.00                           0.00   \n",
              "...                                ...                            ...   \n",
              "149996                            0.00                           0.00   \n",
              "149997                            0.00                           0.00   \n",
              "149998                            0.00                           0.00   \n",
              "149999                            0.00                           0.00   \n",
              "150000                            0.03                           0.02   \n",
              "\n",
              "        DL TP > 1 Mbps (%)  UL TP < 10 Kbps (%)  \\\n",
              "0                     0.00                 1.00   \n",
              "1                     0.00                 1.00   \n",
              "2                     0.00                 1.00   \n",
              "3                     0.00                 1.00   \n",
              "4                     0.00                 1.00   \n",
              "...                    ...                  ...   \n",
              "149996                0.00                 1.00   \n",
              "149997                0.00                 1.00   \n",
              "149998                0.00                 1.00   \n",
              "149999                0.00                 1.00   \n",
              "150000                0.02                 0.99   \n",
              "\n",
              "        10 Kbps < UL TP < 50 Kbps (%)  50 Kbps < UL TP < 300 Kbps (%)  \\\n",
              "0                                0.00                            0.00   \n",
              "1                                0.00                            0.00   \n",
              "2                                0.00                            0.00   \n",
              "3                                0.00                            0.00   \n",
              "4                                0.00                            0.00   \n",
              "...                               ...                             ...   \n",
              "149996                           0.00                            0.00   \n",
              "149997                           0.00                            0.00   \n",
              "149998                           0.00                            0.00   \n",
              "149999                           0.00                            0.00   \n",
              "150000                           0.01                            0.00   \n",
              "\n",
              "        UL TP > 300 Kbps (%)  HTTP DL (Bytes)  HTTP UL (Bytes)  \\\n",
              "0                       0.00             0.00             0.00   \n",
              "1                       0.00             0.00             0.00   \n",
              "2                       0.00             0.00             0.00   \n",
              "3                       0.00             0.00             0.00   \n",
              "4                       0.00             0.00             0.00   \n",
              "...                      ...              ...              ...   \n",
              "149996                  0.00             0.00             0.00   \n",
              "149997                  0.00             0.00             0.00   \n",
              "149998                  0.00             0.00             0.00   \n",
              "149999                  0.00             0.00             0.00   \n",
              "150000                  0.00             0.00             0.00   \n",
              "\n",
              "        Activity Duration DL (ms)  Activity Duration UL (ms)  Dur. (ms).1  \\\n",
              "0                            0.00                       0.00         0.98   \n",
              "1                            0.00                       0.00         0.73   \n",
              "2                            0.00                       0.00         0.73   \n",
              "3                            0.00                       0.00         0.71   \n",
              "4                            0.00                       0.00         0.58   \n",
              "...                           ...                        ...          ...   \n",
              "149996                       0.00                       0.00         0.04   \n",
              "149997                       0.00                       0.00         0.05   \n",
              "149998                       0.00                       0.00         0.05   \n",
              "149999                       0.00                       0.00         0.05   \n",
              "150000                       0.01                       0.01         0.05   \n",
              "\n",
              "       Handset Manufacturer                 Handset Type  \\\n",
              "0                   Samsung   Samsung Galaxy A5 Sm-A520F   \n",
              "1                   Samsung  Samsung Galaxy J5 (Sm-J530)   \n",
              "2                   Samsung     Samsung Galaxy A8 (2018)   \n",
              "3                     Apple             Huawei B528S-23A   \n",
              "4                   Samsung             Samsung Sm-G390F   \n",
              "...                     ...                          ...   \n",
              "149996                Apple  Apple iPhone 8 Plus (A1897)   \n",
              "149997                Apple      Apple iPhone Se (A1723)   \n",
              "149998                Apple      Apple iPhone Xs (A2097)   \n",
              "149999               Huawei               Huawei Fig-Lx1   \n",
              "150000                Apple             Huawei B528S-23A   \n",
              "\n",
              "        Nb of sec with 125000B < Vol DL  \\\n",
              "0                                  0.01   \n",
              "1                                  0.01   \n",
              "2                                  0.01   \n",
              "3                                  0.01   \n",
              "4                                  0.01   \n",
              "...                                 ...   \n",
              "149996                             0.01   \n",
              "149997                             0.01   \n",
              "149998                             0.01   \n",
              "149999                             0.01   \n",
              "150000                             0.01   \n",
              "\n",
              "        Nb of sec with 1250B < Vol UL < 6250B  \\\n",
              "0                                        0.00   \n",
              "1                                        0.00   \n",
              "2                                        0.00   \n",
              "3                                        0.00   \n",
              "4                                        0.00   \n",
              "...                                       ...   \n",
              "149996                                   0.00   \n",
              "149997                                   0.00   \n",
              "149998                                   0.00   \n",
              "149999                                   0.00   \n",
              "150000                                   0.00   \n",
              "\n",
              "        Nb of sec with 31250B < Vol DL < 125000B  \\\n",
              "0                                           0.01   \n",
              "1                                           0.01   \n",
              "2                                           0.01   \n",
              "3                                           0.01   \n",
              "4                                           0.01   \n",
              "...                                          ...   \n",
              "149996                                      0.01   \n",
              "149997                                      0.01   \n",
              "149998                                      0.01   \n",
              "149999                                      0.01   \n",
              "150000                                      0.01   \n",
              "\n",
              "        Nb of sec with 37500B < Vol UL  \\\n",
              "0                                 0.00   \n",
              "1                                 0.00   \n",
              "2                                 0.00   \n",
              "3                                 0.00   \n",
              "4                                 0.00   \n",
              "...                                ...   \n",
              "149996                            0.00   \n",
              "149997                            0.00   \n",
              "149998                            0.00   \n",
              "149999                            0.00   \n",
              "150000                            0.00   \n",
              "\n",
              "        Nb of sec with 6250B < Vol DL < 31250B  \\\n",
              "0                                         0.01   \n",
              "1                                         0.01   \n",
              "2                                         0.01   \n",
              "3                                         0.01   \n",
              "4                                         0.01   \n",
              "...                                        ...   \n",
              "149996                                    0.01   \n",
              "149997                                    0.01   \n",
              "149998                                    0.01   \n",
              "149999                                    0.01   \n",
              "150000                                    0.01   \n",
              "\n",
              "        Nb of sec with 6250B < Vol UL < 37500B  Nb of sec with Vol DL < 6250B  \\\n",
              "0                                         0.00                           0.00   \n",
              "1                                         0.00                           0.00   \n",
              "2                                         0.00                           0.00   \n",
              "3                                         0.00                           0.00   \n",
              "4                                         0.00                           0.00   \n",
              "...                                        ...                            ...   \n",
              "149996                                    0.00                           0.00   \n",
              "149997                                    0.00                           0.00   \n",
              "149998                                    0.00                           0.00   \n",
              "149999                                    0.00                           0.00   \n",
              "150000                                    0.00                           0.01   \n",
              "\n",
              "        Nb of sec with Vol UL < 1250B  Social Media DL (Bytes)  \\\n",
              "0                                0.00                     0.43   \n",
              "1                                0.00                     0.54   \n",
              "2                                0.00                     0.47   \n",
              "3                                0.00                     0.18   \n",
              "4                                0.00                     0.24   \n",
              "...                               ...                      ...   \n",
              "149996                           0.00                     0.97   \n",
              "149997                           0.00                     0.65   \n",
              "149998                           0.00                     0.35   \n",
              "149999                           0.00                     0.22   \n",
              "150000                           0.01                     0.50   \n",
              "\n",
              "        Social Media UL (Bytes)  Google DL (Bytes)  Google UL (Bytes)  \\\n",
              "0                          0.37               0.14               0.31   \n",
              "1                          0.11               0.30               0.22   \n",
              "2                          0.64               0.74               0.41   \n",
              "3                          0.20               0.79               0.68   \n",
              "4                          0.76               0.55               0.36   \n",
              "...                         ...                ...                ...   \n",
              "149996                     0.79               0.87               0.68   \n",
              "149997                     0.12               0.19               0.53   \n",
              "149998                     0.22               0.34               0.66   \n",
              "149999                     0.33               0.37               0.87   \n",
              "150000                     0.50               0.50               0.50   \n",
              "\n",
              "        Email DL (Bytes)  Email UL (Bytes)  Youtube DL (Bytes)  \\\n",
              "0                   0.99              0.15                0.68   \n",
              "1                   0.18              0.33                0.87   \n",
              "2                   0.75              0.72                0.85   \n",
              "3                   0.40              0.67                0.92   \n",
              "4                   0.54              0.19                0.66   \n",
              "...                  ...               ...                 ...   \n",
              "149996              0.02              0.68                0.70   \n",
              "149997              0.54              0.18                0.60   \n",
              "149998              0.43              0.57                0.97   \n",
              "149999              0.62              0.66                0.38   \n",
              "150000              0.50              0.50                0.50   \n",
              "\n",
              "        Youtube UL (Bytes)  Netflix DL (Bytes)  Netflix UL (Bytes)  \\\n",
              "0                     0.11                0.35                0.44   \n",
              "1                     0.87                0.79                0.78   \n",
              "2                     0.67                0.76                0.28   \n",
              "3                     0.69                0.60                0.05   \n",
              "4                     0.86                0.74                0.02   \n",
              "...                    ...                 ...                 ...   \n",
              "149996                0.53                0.77                0.89   \n",
              "149997                0.38                0.83                0.97   \n",
              "149998                0.08                0.43                0.23   \n",
              "149999                0.38                0.14                0.60   \n",
              "150000                0.50                0.50                0.50   \n",
              "\n",
              "        Gaming DL (Bytes)  Gaming UL (Bytes)  Other DL (Bytes)  \\\n",
              "0                    0.33               0.87              0.20   \n",
              "1                    0.72               0.07              0.62   \n",
              "2                    0.27               0.02              0.49   \n",
              "3                    0.95               0.66              0.89   \n",
              "4                    0.63               0.21              0.65   \n",
              "...                   ...                ...               ...   \n",
              "149996               0.62               0.56              0.00   \n",
              "149997               0.74               0.29              0.84   \n",
              "149998               0.66               0.81              0.14   \n",
              "149999               0.42               0.15              0.97   \n",
              "150000               0.50               0.50              0.50   \n",
              "\n",
              "        Other UL (Bytes)  Total UL (Bytes)  Total DL (Bytes)  \n",
              "0                   0.53              0.45              0.34  \n",
              "1                   0.91              0.67              0.72  \n",
              "2                   0.25              0.33              0.30  \n",
              "3                   0.77              0.54              0.94  \n",
              "4                   0.84              0.47              0.63  \n",
              "...                  ...               ...               ...  \n",
              "149996              0.81              0.73              0.63  \n",
              "149997              0.15              0.48              0.74  \n",
              "149998              0.68              0.42              0.65  \n",
              "149999              0.08              0.35              0.41  \n",
              "150000              0.50              0.51              0.50  \n",
              "\n",
              "[150001 rows x 55 columns]"
            ],
            "text/html": [
              "\n",
              "  <div id=\"df-738cc426-f217-4473-9ed6-6dc023dd872b\">\n",
              "    <div class=\"colab-df-container\">\n",
              "      <div>\n",
              "<style scoped>\n",
              "    .dataframe tbody tr th:only-of-type {\n",
              "        vertical-align: middle;\n",
              "    }\n",
              "\n",
              "    .dataframe tbody tr th {\n",
              "        vertical-align: top;\n",
              "    }\n",
              "\n",
              "    .dataframe thead th {\n",
              "        text-align: right;\n",
              "    }\n",
              "</style>\n",
              "<table border=\"1\" class=\"dataframe\">\n",
              "  <thead>\n",
              "    <tr style=\"text-align: right;\">\n",
              "      <th></th>\n",
              "      <th>Bearer Id</th>\n",
              "      <th>Start</th>\n",
              "      <th>Start ms</th>\n",
              "      <th>End</th>\n",
              "      <th>End ms</th>\n",
              "      <th>Dur. (ms)</th>\n",
              "      <th>IMSI</th>\n",
              "      <th>MSISDN/Number</th>\n",
              "      <th>IMEI</th>\n",
              "      <th>Last Location Name</th>\n",
              "      <th>Avg RTT DL (ms)</th>\n",
              "      <th>Avg RTT UL (ms)</th>\n",
              "      <th>Avg Bearer TP DL (kbps)</th>\n",
              "      <th>Avg Bearer TP UL (kbps)</th>\n",
              "      <th>TCP DL Retrans. Vol (Bytes)</th>\n",
              "      <th>TCP UL Retrans. Vol (Bytes)</th>\n",
              "      <th>DL TP &lt; 50 Kbps (%)</th>\n",
              "      <th>50 Kbps &lt; DL TP &lt; 250 Kbps (%)</th>\n",
              "      <th>250 Kbps &lt; DL TP &lt; 1 Mbps (%)</th>\n",
              "      <th>DL TP &gt; 1 Mbps (%)</th>\n",
              "      <th>UL TP &lt; 10 Kbps (%)</th>\n",
              "      <th>10 Kbps &lt; UL TP &lt; 50 Kbps (%)</th>\n",
              "      <th>50 Kbps &lt; UL TP &lt; 300 Kbps (%)</th>\n",
              "      <th>UL TP &gt; 300 Kbps (%)</th>\n",
              "      <th>HTTP DL (Bytes)</th>\n",
              "      <th>HTTP UL (Bytes)</th>\n",
              "      <th>Activity Duration DL (ms)</th>\n",
              "      <th>Activity Duration UL (ms)</th>\n",
              "      <th>Dur. (ms).1</th>\n",
              "      <th>Handset Manufacturer</th>\n",
              "      <th>Handset Type</th>\n",
              "      <th>Nb of sec with 125000B &lt; Vol DL</th>\n",
              "      <th>Nb of sec with 1250B &lt; Vol UL &lt; 6250B</th>\n",
              "      <th>Nb of sec with 31250B &lt; Vol DL &lt; 125000B</th>\n",
              "      <th>Nb of sec with 37500B &lt; Vol UL</th>\n",
              "      <th>Nb of sec with 6250B &lt; Vol DL &lt; 31250B</th>\n",
              "      <th>Nb of sec with 6250B &lt; Vol UL &lt; 37500B</th>\n",
              "      <th>Nb of sec with Vol DL &lt; 6250B</th>\n",
              "      <th>Nb of sec with Vol UL &lt; 1250B</th>\n",
              "      <th>Social Media DL (Bytes)</th>\n",
              "      <th>Social Media UL (Bytes)</th>\n",
              "      <th>Google DL (Bytes)</th>\n",
              "      <th>Google UL (Bytes)</th>\n",
              "      <th>Email DL (Bytes)</th>\n",
              "      <th>Email UL (Bytes)</th>\n",
              "      <th>Youtube DL (Bytes)</th>\n",
              "      <th>Youtube UL (Bytes)</th>\n",
              "      <th>Netflix DL (Bytes)</th>\n",
              "      <th>Netflix UL (Bytes)</th>\n",
              "      <th>Gaming DL (Bytes)</th>\n",
              "      <th>Gaming UL (Bytes)</th>\n",
              "      <th>Other DL (Bytes)</th>\n",
              "      <th>Other UL (Bytes)</th>\n",
              "      <th>Total UL (Bytes)</th>\n",
              "      <th>Total DL (Bytes)</th>\n",
              "    </tr>\n",
              "  </thead>\n",
              "  <tbody>\n",
              "    <tr>\n",
              "      <th>0</th>\n",
              "      <td>0.99</td>\n",
              "      <td>4/4/2019 12:01</td>\n",
              "      <td>0.77</td>\n",
              "      <td>4/25/2019 14:35</td>\n",
              "      <td>0.66</td>\n",
              "      <td>0.98</td>\n",
              "      <td>0.41</td>\n",
              "      <td>0.00</td>\n",
              "      <td>0.36</td>\n",
              "      <td>9.16456699548519E+015</td>\n",
              "      <td>0.00</td>\n",
              "      <td>0.00</td>\n",
              "      <td>0.00</td>\n",
              "      <td>0.00</td>\n",
              "      <td>0.00</td>\n",
              "      <td>0.00</td>\n",
              "      <td>1.00</td>\n",
              "      <td>0.00</td>\n",
              "      <td>0.00</td>\n",
              "      <td>0.00</td>\n",
              "      <td>1.00</td>\n",
              "      <td>0.00</td>\n",
              "      <td>0.00</td>\n",
              "      <td>0.00</td>\n",
              "      <td>0.00</td>\n",
              "      <td>0.00</td>\n",
              "      <td>0.00</td>\n",
              "      <td>0.00</td>\n",
              "      <td>0.98</td>\n",
              "      <td>Samsung</td>\n",
              "      <td>Samsung Galaxy A5 Sm-A520F</td>\n",
              "      <td>0.01</td>\n",
              "      <td>0.00</td>\n",
              "      <td>0.01</td>\n",
              "      <td>0.00</td>\n",
              "      <td>0.01</td>\n",
              "      <td>0.00</td>\n",
              "      <td>0.00</td>\n",
              "      <td>0.00</td>\n",
              "      <td>0.43</td>\n",
              "      <td>0.37</td>\n",
              "      <td>0.14</td>\n",
              "      <td>0.31</td>\n",
              "      <td>0.99</td>\n",
              "      <td>0.15</td>\n",
              "      <td>0.68</td>\n",
              "      <td>0.11</td>\n",
              "      <td>0.35</td>\n",
              "      <td>0.44</td>\n",
              "      <td>0.33</td>\n",
              "      <td>0.87</td>\n",
              "      <td>0.20</td>\n",
              "      <td>0.53</td>\n",
              "      <td>0.45</td>\n",
              "      <td>0.34</td>\n",
              "    </tr>\n",
              "    <tr>\n",
              "      <th>1</th>\n",
              "      <td>0.99</td>\n",
              "      <td>4/9/2019 13:04</td>\n",
              "      <td>0.24</td>\n",
              "      <td>4/25/2019 8:15</td>\n",
              "      <td>0.61</td>\n",
              "      <td>0.73</td>\n",
              "      <td>0.41</td>\n",
              "      <td>0.00</td>\n",
              "      <td>0.36</td>\n",
              "      <td>L77566A</td>\n",
              "      <td>0.00</td>\n",
              "      <td>0.00</td>\n",
              "      <td>0.00</td>\n",
              "      <td>0.00</td>\n",
              "      <td>0.00</td>\n",
              "      <td>0.00</td>\n",
              "      <td>1.00</td>\n",
              "      <td>0.00</td>\n",
              "      <td>0.00</td>\n",
              "      <td>0.00</td>\n",
              "      <td>1.00</td>\n",
              "      <td>0.00</td>\n",
              "      <td>0.00</td>\n",
              "      <td>0.00</td>\n",
              "      <td>0.00</td>\n",
              "      <td>0.00</td>\n",
              "      <td>0.00</td>\n",
              "      <td>0.00</td>\n",
              "      <td>0.73</td>\n",
              "      <td>Samsung</td>\n",
              "      <td>Samsung Galaxy J5 (Sm-J530)</td>\n",
              "      <td>0.01</td>\n",
              "      <td>0.00</td>\n",
              "      <td>0.01</td>\n",
              "      <td>0.00</td>\n",
              "      <td>0.01</td>\n",
              "      <td>0.00</td>\n",
              "      <td>0.00</td>\n",
              "      <td>0.00</td>\n",
              "      <td>0.54</td>\n",
              "      <td>0.11</td>\n",
              "      <td>0.30</td>\n",
              "      <td>0.22</td>\n",
              "      <td>0.18</td>\n",
              "      <td>0.33</td>\n",
              "      <td>0.87</td>\n",
              "      <td>0.87</td>\n",
              "      <td>0.79</td>\n",
              "      <td>0.78</td>\n",
              "      <td>0.72</td>\n",
              "      <td>0.07</td>\n",
              "      <td>0.62</td>\n",
              "      <td>0.91</td>\n",
              "      <td>0.67</td>\n",
              "      <td>0.72</td>\n",
              "    </tr>\n",
              "    <tr>\n",
              "      <th>2</th>\n",
              "      <td>0.99</td>\n",
              "      <td>4/9/2019 17:42</td>\n",
              "      <td>0.00</td>\n",
              "      <td>4/25/2019 11:58</td>\n",
              "      <td>0.65</td>\n",
              "      <td>0.73</td>\n",
              "      <td>0.41</td>\n",
              "      <td>0.00</td>\n",
              "      <td>0.35</td>\n",
              "      <td>D42335A</td>\n",
              "      <td>0.00</td>\n",
              "      <td>0.00</td>\n",
              "      <td>0.00</td>\n",
              "      <td>0.00</td>\n",
              "      <td>0.00</td>\n",
              "      <td>0.00</td>\n",
              "      <td>1.00</td>\n",
              "      <td>0.00</td>\n",
              "      <td>0.00</td>\n",
              "      <td>0.00</td>\n",
              "      <td>1.00</td>\n",
              "      <td>0.00</td>\n",
              "      <td>0.00</td>\n",
              "      <td>0.00</td>\n",
              "      <td>0.00</td>\n",
              "      <td>0.00</td>\n",
              "      <td>0.00</td>\n",
              "      <td>0.00</td>\n",
              "      <td>0.73</td>\n",
              "      <td>Samsung</td>\n",
              "      <td>Samsung Galaxy A8 (2018)</td>\n",
              "      <td>0.01</td>\n",
              "      <td>0.00</td>\n",
              "      <td>0.01</td>\n",
              "      <td>0.00</td>\n",
              "      <td>0.01</td>\n",
              "      <td>0.00</td>\n",
              "      <td>0.00</td>\n",
              "      <td>0.00</td>\n",
              "      <td>0.47</td>\n",
              "      <td>0.64</td>\n",
              "      <td>0.74</td>\n",
              "      <td>0.41</td>\n",
              "      <td>0.75</td>\n",
              "      <td>0.72</td>\n",
              "      <td>0.85</td>\n",
              "      <td>0.67</td>\n",
              "      <td>0.76</td>\n",
              "      <td>0.28</td>\n",
              "      <td>0.27</td>\n",
              "      <td>0.02</td>\n",
              "      <td>0.49</td>\n",
              "      <td>0.25</td>\n",
              "      <td>0.33</td>\n",
              "      <td>0.30</td>\n",
              "    </tr>\n",
              "    <tr>\n",
              "      <th>3</th>\n",
              "      <td>0.99</td>\n",
              "      <td>4/10/2019 0:31</td>\n",
              "      <td>0.49</td>\n",
              "      <td>4/25/2019 7:36</td>\n",
              "      <td>0.17</td>\n",
              "      <td>0.71</td>\n",
              "      <td>0.41</td>\n",
              "      <td>0.00</td>\n",
              "      <td>0.35</td>\n",
              "      <td>T21824A</td>\n",
              "      <td>0.00</td>\n",
              "      <td>0.00</td>\n",
              "      <td>0.00</td>\n",
              "      <td>0.00</td>\n",
              "      <td>0.00</td>\n",
              "      <td>0.00</td>\n",
              "      <td>1.00</td>\n",
              "      <td>0.00</td>\n",
              "      <td>0.00</td>\n",
              "      <td>0.00</td>\n",
              "      <td>1.00</td>\n",
              "      <td>0.00</td>\n",
              "      <td>0.00</td>\n",
              "      <td>0.00</td>\n",
              "      <td>0.00</td>\n",
              "      <td>0.00</td>\n",
              "      <td>0.00</td>\n",
              "      <td>0.00</td>\n",
              "      <td>0.71</td>\n",
              "      <td>Apple</td>\n",
              "      <td>Huawei B528S-23A</td>\n",
              "      <td>0.01</td>\n",
              "      <td>0.00</td>\n",
              "      <td>0.01</td>\n",
              "      <td>0.00</td>\n",
              "      <td>0.01</td>\n",
              "      <td>0.00</td>\n",
              "      <td>0.00</td>\n",
              "      <td>0.00</td>\n",
              "      <td>0.18</td>\n",
              "      <td>0.20</td>\n",
              "      <td>0.79</td>\n",
              "      <td>0.68</td>\n",
              "      <td>0.40</td>\n",
              "      <td>0.67</td>\n",
              "      <td>0.92</td>\n",
              "      <td>0.69</td>\n",
              "      <td>0.60</td>\n",
              "      <td>0.05</td>\n",
              "      <td>0.95</td>\n",
              "      <td>0.66</td>\n",
              "      <td>0.89</td>\n",
              "      <td>0.77</td>\n",
              "      <td>0.54</td>\n",
              "      <td>0.94</td>\n",
              "    </tr>\n",
              "    <tr>\n",
              "      <th>4</th>\n",
              "      <td>0.99</td>\n",
              "      <td>4/12/2019 20:10</td>\n",
              "      <td>0.57</td>\n",
              "      <td>4/25/2019 10:40</td>\n",
              "      <td>0.95</td>\n",
              "      <td>0.58</td>\n",
              "      <td>0.41</td>\n",
              "      <td>0.00</td>\n",
              "      <td>0.35</td>\n",
              "      <td>D88865A</td>\n",
              "      <td>0.00</td>\n",
              "      <td>0.00</td>\n",
              "      <td>0.00</td>\n",
              "      <td>0.00</td>\n",
              "      <td>0.00</td>\n",
              "      <td>0.00</td>\n",
              "      <td>1.00</td>\n",
              "      <td>0.00</td>\n",
              "      <td>0.00</td>\n",
              "      <td>0.00</td>\n",
              "      <td>1.00</td>\n",
              "      <td>0.00</td>\n",
              "      <td>0.00</td>\n",
              "      <td>0.00</td>\n",
              "      <td>0.00</td>\n",
              "      <td>0.00</td>\n",
              "      <td>0.00</td>\n",
              "      <td>0.00</td>\n",
              "      <td>0.58</td>\n",
              "      <td>Samsung</td>\n",
              "      <td>Samsung Sm-G390F</td>\n",
              "      <td>0.01</td>\n",
              "      <td>0.00</td>\n",
              "      <td>0.01</td>\n",
              "      <td>0.00</td>\n",
              "      <td>0.01</td>\n",
              "      <td>0.00</td>\n",
              "      <td>0.00</td>\n",
              "      <td>0.00</td>\n",
              "      <td>0.24</td>\n",
              "      <td>0.76</td>\n",
              "      <td>0.55</td>\n",
              "      <td>0.36</td>\n",
              "      <td>0.54</td>\n",
              "      <td>0.19</td>\n",
              "      <td>0.66</td>\n",
              "      <td>0.86</td>\n",
              "      <td>0.74</td>\n",
              "      <td>0.02</td>\n",
              "      <td>0.63</td>\n",
              "      <td>0.21</td>\n",
              "      <td>0.65</td>\n",
              "      <td>0.84</td>\n",
              "      <td>0.47</td>\n",
              "      <td>0.63</td>\n",
              "    </tr>\n",
              "    <tr>\n",
              "      <th>...</th>\n",
              "      <td>...</td>\n",
              "      <td>...</td>\n",
              "      <td>...</td>\n",
              "      <td>...</td>\n",
              "      <td>...</td>\n",
              "      <td>...</td>\n",
              "      <td>...</td>\n",
              "      <td>...</td>\n",
              "      <td>...</td>\n",
              "      <td>...</td>\n",
              "      <td>...</td>\n",
              "      <td>...</td>\n",
              "      <td>...</td>\n",
              "      <td>...</td>\n",
              "      <td>...</td>\n",
              "      <td>...</td>\n",
              "      <td>...</td>\n",
              "      <td>...</td>\n",
              "      <td>...</td>\n",
              "      <td>...</td>\n",
              "      <td>...</td>\n",
              "      <td>...</td>\n",
              "      <td>...</td>\n",
              "      <td>...</td>\n",
              "      <td>...</td>\n",
              "      <td>...</td>\n",
              "      <td>...</td>\n",
              "      <td>...</td>\n",
              "      <td>...</td>\n",
              "      <td>...</td>\n",
              "      <td>...</td>\n",
              "      <td>...</td>\n",
              "      <td>...</td>\n",
              "      <td>...</td>\n",
              "      <td>...</td>\n",
              "      <td>...</td>\n",
              "      <td>...</td>\n",
              "      <td>...</td>\n",
              "      <td>...</td>\n",
              "      <td>...</td>\n",
              "      <td>...</td>\n",
              "      <td>...</td>\n",
              "      <td>...</td>\n",
              "      <td>...</td>\n",
              "      <td>...</td>\n",
              "      <td>...</td>\n",
              "      <td>...</td>\n",
              "      <td>...</td>\n",
              "      <td>...</td>\n",
              "      <td>...</td>\n",
              "      <td>...</td>\n",
              "      <td>...</td>\n",
              "      <td>...</td>\n",
              "      <td>...</td>\n",
              "      <td>...</td>\n",
              "    </tr>\n",
              "    <tr>\n",
              "      <th>149996</th>\n",
              "      <td>0.06</td>\n",
              "      <td>4/29/2019 7:28</td>\n",
              "      <td>0.45</td>\n",
              "      <td>4/30/2019 6:02</td>\n",
              "      <td>0.21</td>\n",
              "      <td>0.04</td>\n",
              "      <td>0.41</td>\n",
              "      <td>0.00</td>\n",
              "      <td>0.36</td>\n",
              "      <td>D20434A</td>\n",
              "      <td>0.00</td>\n",
              "      <td>0.00</td>\n",
              "      <td>0.00</td>\n",
              "      <td>0.00</td>\n",
              "      <td>0.00</td>\n",
              "      <td>0.00</td>\n",
              "      <td>1.00</td>\n",
              "      <td>0.00</td>\n",
              "      <td>0.00</td>\n",
              "      <td>0.00</td>\n",
              "      <td>1.00</td>\n",
              "      <td>0.00</td>\n",
              "      <td>0.00</td>\n",
              "      <td>0.00</td>\n",
              "      <td>0.00</td>\n",
              "      <td>0.00</td>\n",
              "      <td>0.00</td>\n",
              "      <td>0.00</td>\n",
              "      <td>0.04</td>\n",
              "      <td>Apple</td>\n",
              "      <td>Apple iPhone 8 Plus (A1897)</td>\n",
              "      <td>0.01</td>\n",
              "      <td>0.00</td>\n",
              "      <td>0.01</td>\n",
              "      <td>0.00</td>\n",
              "      <td>0.01</td>\n",
              "      <td>0.00</td>\n",
              "      <td>0.00</td>\n",
              "      <td>0.00</td>\n",
              "      <td>0.97</td>\n",
              "      <td>0.79</td>\n",
              "      <td>0.87</td>\n",
              "      <td>0.68</td>\n",
              "      <td>0.02</td>\n",
              "      <td>0.68</td>\n",
              "      <td>0.70</td>\n",
              "      <td>0.53</td>\n",
              "      <td>0.77</td>\n",
              "      <td>0.89</td>\n",
              "      <td>0.62</td>\n",
              "      <td>0.56</td>\n",
              "      <td>0.00</td>\n",
              "      <td>0.81</td>\n",
              "      <td>0.73</td>\n",
              "      <td>0.63</td>\n",
              "    </tr>\n",
              "    <tr>\n",
              "      <th>149997</th>\n",
              "      <td>0.07</td>\n",
              "      <td>4/29/2019 7:28</td>\n",
              "      <td>0.48</td>\n",
              "      <td>4/30/2019 10:41</td>\n",
              "      <td>0.19</td>\n",
              "      <td>0.05</td>\n",
              "      <td>0.41</td>\n",
              "      <td>0.00</td>\n",
              "      <td>0.36</td>\n",
              "      <td>D10223C</td>\n",
              "      <td>0.00</td>\n",
              "      <td>0.00</td>\n",
              "      <td>0.00</td>\n",
              "      <td>0.00</td>\n",
              "      <td>0.00</td>\n",
              "      <td>0.00</td>\n",
              "      <td>1.00</td>\n",
              "      <td>0.00</td>\n",
              "      <td>0.00</td>\n",
              "      <td>0.00</td>\n",
              "      <td>1.00</td>\n",
              "      <td>0.00</td>\n",
              "      <td>0.00</td>\n",
              "      <td>0.00</td>\n",
              "      <td>0.00</td>\n",
              "      <td>0.00</td>\n",
              "      <td>0.00</td>\n",
              "      <td>0.00</td>\n",
              "      <td>0.05</td>\n",
              "      <td>Apple</td>\n",
              "      <td>Apple iPhone Se (A1723)</td>\n",
              "      <td>0.01</td>\n",
              "      <td>0.00</td>\n",
              "      <td>0.01</td>\n",
              "      <td>0.00</td>\n",
              "      <td>0.01</td>\n",
              "      <td>0.00</td>\n",
              "      <td>0.00</td>\n",
              "      <td>0.00</td>\n",
              "      <td>0.65</td>\n",
              "      <td>0.12</td>\n",
              "      <td>0.19</td>\n",
              "      <td>0.53</td>\n",
              "      <td>0.54</td>\n",
              "      <td>0.18</td>\n",
              "      <td>0.60</td>\n",
              "      <td>0.38</td>\n",
              "      <td>0.83</td>\n",
              "      <td>0.97</td>\n",
              "      <td>0.74</td>\n",
              "      <td>0.29</td>\n",
              "      <td>0.84</td>\n",
              "      <td>0.15</td>\n",
              "      <td>0.48</td>\n",
              "      <td>0.74</td>\n",
              "    </tr>\n",
              "    <tr>\n",
              "      <th>149998</th>\n",
              "      <td>0.99</td>\n",
              "      <td>4/29/2019 7:28</td>\n",
              "      <td>0.28</td>\n",
              "      <td>4/30/2019 10:46</td>\n",
              "      <td>0.81</td>\n",
              "      <td>0.05</td>\n",
              "      <td>0.41</td>\n",
              "      <td>0.00</td>\n",
              "      <td>0.36</td>\n",
              "      <td>T51102A</td>\n",
              "      <td>0.00</td>\n",
              "      <td>0.00</td>\n",
              "      <td>0.00</td>\n",
              "      <td>0.00</td>\n",
              "      <td>0.00</td>\n",
              "      <td>0.00</td>\n",
              "      <td>1.00</td>\n",
              "      <td>0.00</td>\n",
              "      <td>0.00</td>\n",
              "      <td>0.00</td>\n",
              "      <td>1.00</td>\n",
              "      <td>0.00</td>\n",
              "      <td>0.00</td>\n",
              "      <td>0.00</td>\n",
              "      <td>0.00</td>\n",
              "      <td>0.00</td>\n",
              "      <td>0.00</td>\n",
              "      <td>0.00</td>\n",
              "      <td>0.05</td>\n",
              "      <td>Apple</td>\n",
              "      <td>Apple iPhone Xs (A2097)</td>\n",
              "      <td>0.01</td>\n",
              "      <td>0.00</td>\n",
              "      <td>0.01</td>\n",
              "      <td>0.00</td>\n",
              "      <td>0.01</td>\n",
              "      <td>0.00</td>\n",
              "      <td>0.00</td>\n",
              "      <td>0.00</td>\n",
              "      <td>0.35</td>\n",
              "      <td>0.22</td>\n",
              "      <td>0.34</td>\n",
              "      <td>0.66</td>\n",
              "      <td>0.43</td>\n",
              "      <td>0.57</td>\n",
              "      <td>0.97</td>\n",
              "      <td>0.08</td>\n",
              "      <td>0.43</td>\n",
              "      <td>0.23</td>\n",
              "      <td>0.66</td>\n",
              "      <td>0.81</td>\n",
              "      <td>0.14</td>\n",
              "      <td>0.68</td>\n",
              "      <td>0.42</td>\n",
              "      <td>0.65</td>\n",
              "    </tr>\n",
              "    <tr>\n",
              "      <th>149999</th>\n",
              "      <td>0.99</td>\n",
              "      <td>4/29/2019 7:28</td>\n",
              "      <td>0.70</td>\n",
              "      <td>4/30/2019 10:40</td>\n",
              "      <td>0.33</td>\n",
              "      <td>0.05</td>\n",
              "      <td>0.41</td>\n",
              "      <td>0.00</td>\n",
              "      <td>0.87</td>\n",
              "      <td>L88342B</td>\n",
              "      <td>0.00</td>\n",
              "      <td>0.00</td>\n",
              "      <td>0.00</td>\n",
              "      <td>0.00</td>\n",
              "      <td>0.00</td>\n",
              "      <td>0.00</td>\n",
              "      <td>1.00</td>\n",
              "      <td>0.00</td>\n",
              "      <td>0.00</td>\n",
              "      <td>0.00</td>\n",
              "      <td>1.00</td>\n",
              "      <td>0.00</td>\n",
              "      <td>0.00</td>\n",
              "      <td>0.00</td>\n",
              "      <td>0.00</td>\n",
              "      <td>0.00</td>\n",
              "      <td>0.00</td>\n",
              "      <td>0.00</td>\n",
              "      <td>0.05</td>\n",
              "      <td>Huawei</td>\n",
              "      <td>Huawei Fig-Lx1</td>\n",
              "      <td>0.01</td>\n",
              "      <td>0.00</td>\n",
              "      <td>0.01</td>\n",
              "      <td>0.00</td>\n",
              "      <td>0.01</td>\n",
              "      <td>0.00</td>\n",
              "      <td>0.00</td>\n",
              "      <td>0.00</td>\n",
              "      <td>0.22</td>\n",
              "      <td>0.33</td>\n",
              "      <td>0.37</td>\n",
              "      <td>0.87</td>\n",
              "      <td>0.62</td>\n",
              "      <td>0.66</td>\n",
              "      <td>0.38</td>\n",
              "      <td>0.38</td>\n",
              "      <td>0.14</td>\n",
              "      <td>0.60</td>\n",
              "      <td>0.42</td>\n",
              "      <td>0.15</td>\n",
              "      <td>0.97</td>\n",
              "      <td>0.08</td>\n",
              "      <td>0.35</td>\n",
              "      <td>0.41</td>\n",
              "    </tr>\n",
              "    <tr>\n",
              "      <th>150000</th>\n",
              "      <td>0.51</td>\n",
              "      <td>4/26/2019 7:25</td>\n",
              "      <td>0.50</td>\n",
              "      <td>4/25/2019 0:01</td>\n",
              "      <td>0.50</td>\n",
              "      <td>0.05</td>\n",
              "      <td>0.41</td>\n",
              "      <td>0.00</td>\n",
              "      <td>0.49</td>\n",
              "      <td>D41377B</td>\n",
              "      <td>0.00</td>\n",
              "      <td>0.00</td>\n",
              "      <td>0.04</td>\n",
              "      <td>0.03</td>\n",
              "      <td>0.00</td>\n",
              "      <td>0.00</td>\n",
              "      <td>0.93</td>\n",
              "      <td>0.03</td>\n",
              "      <td>0.02</td>\n",
              "      <td>0.02</td>\n",
              "      <td>0.99</td>\n",
              "      <td>0.01</td>\n",
              "      <td>0.00</td>\n",
              "      <td>0.00</td>\n",
              "      <td>0.00</td>\n",
              "      <td>0.00</td>\n",
              "      <td>0.01</td>\n",
              "      <td>0.01</td>\n",
              "      <td>0.05</td>\n",
              "      <td>Apple</td>\n",
              "      <td>Huawei B528S-23A</td>\n",
              "      <td>0.01</td>\n",
              "      <td>0.00</td>\n",
              "      <td>0.01</td>\n",
              "      <td>0.00</td>\n",
              "      <td>0.01</td>\n",
              "      <td>0.00</td>\n",
              "      <td>0.01</td>\n",
              "      <td>0.01</td>\n",
              "      <td>0.50</td>\n",
              "      <td>0.50</td>\n",
              "      <td>0.50</td>\n",
              "      <td>0.50</td>\n",
              "      <td>0.50</td>\n",
              "      <td>0.50</td>\n",
              "      <td>0.50</td>\n",
              "      <td>0.50</td>\n",
              "      <td>0.50</td>\n",
              "      <td>0.50</td>\n",
              "      <td>0.50</td>\n",
              "      <td>0.50</td>\n",
              "      <td>0.50</td>\n",
              "      <td>0.50</td>\n",
              "      <td>0.51</td>\n",
              "      <td>0.50</td>\n",
              "    </tr>\n",
              "  </tbody>\n",
              "</table>\n",
              "<p>150001 rows × 55 columns</p>\n",
              "</div>\n",
              "      <button class=\"colab-df-convert\" onclick=\"convertToInteractive('df-738cc426-f217-4473-9ed6-6dc023dd872b')\"\n",
              "              title=\"Convert this dataframe to an interactive table.\"\n",
              "              style=\"display:none;\">\n",
              "        \n",
              "  <svg xmlns=\"http://www.w3.org/2000/svg\" height=\"24px\"viewBox=\"0 0 24 24\"\n",
              "       width=\"24px\">\n",
              "    <path d=\"M0 0h24v24H0V0z\" fill=\"none\"/>\n",
              "    <path d=\"M18.56 5.44l.94 2.06.94-2.06 2.06-.94-2.06-.94-.94-2.06-.94 2.06-2.06.94zm-11 1L8.5 8.5l.94-2.06 2.06-.94-2.06-.94L8.5 2.5l-.94 2.06-2.06.94zm10 10l.94 2.06.94-2.06 2.06-.94-2.06-.94-.94-2.06-.94 2.06-2.06.94z\"/><path d=\"M17.41 7.96l-1.37-1.37c-.4-.4-.92-.59-1.43-.59-.52 0-1.04.2-1.43.59L10.3 9.45l-7.72 7.72c-.78.78-.78 2.05 0 2.83L4 21.41c.39.39.9.59 1.41.59.51 0 1.02-.2 1.41-.59l7.78-7.78 2.81-2.81c.8-.78.8-2.07 0-2.86zM5.41 20L4 18.59l7.72-7.72 1.47 1.35L5.41 20z\"/>\n",
              "  </svg>\n",
              "      </button>\n",
              "      \n",
              "  <style>\n",
              "    .colab-df-container {\n",
              "      display:flex;\n",
              "      flex-wrap:wrap;\n",
              "      gap: 12px;\n",
              "    }\n",
              "\n",
              "    .colab-df-convert {\n",
              "      background-color: #E8F0FE;\n",
              "      border: none;\n",
              "      border-radius: 50%;\n",
              "      cursor: pointer;\n",
              "      display: none;\n",
              "      fill: #1967D2;\n",
              "      height: 32px;\n",
              "      padding: 0 0 0 0;\n",
              "      width: 32px;\n",
              "    }\n",
              "\n",
              "    .colab-df-convert:hover {\n",
              "      background-color: #E2EBFA;\n",
              "      box-shadow: 0px 1px 2px rgba(60, 64, 67, 0.3), 0px 1px 3px 1px rgba(60, 64, 67, 0.15);\n",
              "      fill: #174EA6;\n",
              "    }\n",
              "\n",
              "    [theme=dark] .colab-df-convert {\n",
              "      background-color: #3B4455;\n",
              "      fill: #D2E3FC;\n",
              "    }\n",
              "\n",
              "    [theme=dark] .colab-df-convert:hover {\n",
              "      background-color: #434B5C;\n",
              "      box-shadow: 0px 1px 3px 1px rgba(0, 0, 0, 0.15);\n",
              "      filter: drop-shadow(0px 1px 2px rgba(0, 0, 0, 0.3));\n",
              "      fill: #FFFFFF;\n",
              "    }\n",
              "  </style>\n",
              "\n",
              "      <script>\n",
              "        const buttonEl =\n",
              "          document.querySelector('#df-738cc426-f217-4473-9ed6-6dc023dd872b button.colab-df-convert');\n",
              "        buttonEl.style.display =\n",
              "          google.colab.kernel.accessAllowed ? 'block' : 'none';\n",
              "\n",
              "        async function convertToInteractive(key) {\n",
              "          const element = document.querySelector('#df-738cc426-f217-4473-9ed6-6dc023dd872b');\n",
              "          const dataTable =\n",
              "            await google.colab.kernel.invokeFunction('convertToInteractive',\n",
              "                                                     [key], {});\n",
              "          if (!dataTable) return;\n",
              "\n",
              "          const docLinkHtml = 'Like what you see? Visit the ' +\n",
              "            '<a target=\"_blank\" href=https://colab.research.google.com/notebooks/data_table.ipynb>data table notebook</a>'\n",
              "            + ' to learn more about interactive tables.';\n",
              "          element.innerHTML = '';\n",
              "          dataTable['output_type'] = 'display_data';\n",
              "          await google.colab.output.renderOutput(dataTable, element);\n",
              "          const docLink = document.createElement('div');\n",
              "          docLink.innerHTML = docLinkHtml;\n",
              "          element.appendChild(docLink);\n",
              "        }\n",
              "      </script>\n",
              "    </div>\n",
              "  </div>\n",
              "  "
            ]
          },
          "metadata": {},
          "execution_count": 50
        }
      ]
    },
    {
      "cell_type": "markdown",
      "source": [
        "### Min values in each column"
      ],
      "metadata": {
        "id": "nXfo2ie-Vsoo"
      },
      "id": "nXfo2ie-Vsoo"
    },
    {
      "cell_type": "code",
      "execution_count": 51,
      "id": "887126c7",
      "metadata": {
        "id": "887126c7",
        "colab": {
          "base_uri": "https://localhost:8080/"
        },
        "outputId": "5f6144a6-3da4-4f1b-dd56-e6129d0f42d1"
      },
      "outputs": [
        {
          "output_type": "execute_result",
          "data": {
            "text/plain": [
              "Bearer Id                                              6,917,537,518,543,529,984.00\n",
              "Start                                                                4/10/2019 0:31\n",
              "Start ms                                                                       0.00\n",
              "End                                                                 4/24/2019 22:59\n",
              "End ms                                                                         0.00\n",
              "Dur. (ms)                                                                  7,142.00\n",
              "IMSI                                                         204,047,108,489,451.00\n",
              "MSISDN/Number                                                     33,601,001,722.00\n",
              "IMEI                                                             440,015,202,000.00\n",
              "Last Location Name                                            1.53279754934046E+017\n",
              "Avg RTT DL (ms)                                                                0.00\n",
              "Avg RTT UL (ms)                                                                0.00\n",
              "Avg Bearer TP DL (kbps)                                                        0.00\n",
              "Avg Bearer TP UL (kbps)                                                        0.00\n",
              "TCP DL Retrans. Vol (Bytes)                                                    2.00\n",
              "TCP UL Retrans. Vol (Bytes)                                                    1.00\n",
              "DL TP < 50 Kbps (%)                                                            0.00\n",
              "50 Kbps < DL TP < 250 Kbps (%)                                                 0.00\n",
              "250 Kbps < DL TP < 1 Mbps (%)                                                  0.00\n",
              "DL TP > 1 Mbps (%)                                                             0.00\n",
              "UL TP < 10 Kbps (%)                                                            0.00\n",
              "10 Kbps < UL TP < 50 Kbps (%)                                                  0.00\n",
              "50 Kbps < UL TP < 300 Kbps (%)                                                 0.00\n",
              "UL TP > 300 Kbps (%)                                                           0.00\n",
              "HTTP DL (Bytes)                                                               40.00\n",
              "HTTP UL (Bytes)                                                               40.00\n",
              "Activity Duration DL (ms)                                                      0.00\n",
              "Activity Duration UL (ms)                                                      0.00\n",
              "Dur. (ms).1                                                            7,142,988.00\n",
              "Handset Manufacturer                        A-Link Telecom International Co Limited\n",
              "Handset Type                                             A-Link Telecom I. Cubot A5\n",
              "Nb of sec with 125000B < Vol DL                                                1.00\n",
              "Nb of sec with 1250B < Vol UL < 6250B                                          1.00\n",
              "Nb of sec with 31250B < Vol DL < 125000B                                       1.00\n",
              "Nb of sec with 37500B < Vol UL                                                 1.00\n",
              "Nb of sec with 6250B < Vol DL < 31250B                                         1.00\n",
              "Nb of sec with 6250B < Vol UL < 37500B                                         1.00\n",
              "Nb of sec with Vol DL < 6250B                                                  1.00\n",
              "Nb of sec with Vol UL < 1250B                                                  1.00\n",
              "Social Media DL (Bytes)                                                       12.00\n",
              "Social Media UL (Bytes)                                                        0.00\n",
              "Google DL (Bytes)                                                            207.00\n",
              "Google UL (Bytes)                                                              3.00\n",
              "Email DL (Bytes)                                                              14.00\n",
              "Email UL (Bytes)                                                               2.00\n",
              "Youtube DL (Bytes)                                                            53.00\n",
              "Youtube UL (Bytes)                                                           105.00\n",
              "Netflix DL (Bytes)                                                            42.00\n",
              "Netflix UL (Bytes)                                                            35.00\n",
              "Gaming DL (Bytes)                                                          2,516.00\n",
              "Gaming UL (Bytes)                                                             59.00\n",
              "Other DL (Bytes)                                                           3,290.00\n",
              "Other UL (Bytes)                                                             148.00\n",
              "Total UL (Bytes)                                                       2,866,892.00\n",
              "Total DL (Bytes)                                                       7,114,041.00\n",
              "dtype: object"
            ]
          },
          "metadata": {},
          "execution_count": 51
        }
      ],
      "source": [
        "db.min()"
      ]
    },
    {
      "cell_type": "markdown",
      "source": [
        "### Max values in each column"
      ],
      "metadata": {
        "id": "gghF7dmbWBAn"
      },
      "id": "gghF7dmbWBAn"
    },
    {
      "cell_type": "code",
      "source": [
        "db.max()"
      ],
      "metadata": {
        "colab": {
          "base_uri": "https://localhost:8080/"
        },
        "id": "Ip3wE0-LVdaO",
        "outputId": "248c24da-f63f-4501-ed05-5f4ee8e6298f"
      },
      "id": "Ip3wE0-LVdaO",
      "execution_count": 52,
      "outputs": [
        {
          "output_type": "execute_result",
          "data": {
            "text/plain": [
              "Bearer Id                                     13,186,541,167,134,199,808.00\n",
              "Start                                                         4/9/2019 9:47\n",
              "Start ms                                                             999.00\n",
              "End                                                          4/30/2019 9:59\n",
              "End ms                                                               999.00\n",
              "Dur. (ms)                                                      1,859,336.00\n",
              "IMSI                                                 214,074,303,349,628.00\n",
              "MSISDN/Number                                        882,397,108,489,451.00\n",
              "IMEI                                                  99,001,201,327,774.00\n",
              "Last Location Name                                                  Y72157C\n",
              "Avg RTT DL (ms)                                                   96,923.00\n",
              "Avg RTT UL (ms)                                                    7,120.00\n",
              "Avg Bearer TP DL (kbps)                                          378,160.00\n",
              "Avg Bearer TP UL (kbps)                                           58,613.00\n",
              "TCP DL Retrans. Vol (Bytes)                                4,294,425,570.00\n",
              "TCP UL Retrans. Vol (Bytes)                                2,908,226,006.00\n",
              "DL TP < 50 Kbps (%)                                                  100.00\n",
              "50 Kbps < DL TP < 250 Kbps (%)                                        93.00\n",
              "250 Kbps < DL TP < 1 Mbps (%)                                        100.00\n",
              "DL TP > 1 Mbps (%)                                                    94.00\n",
              "UL TP < 10 Kbps (%)                                                  100.00\n",
              "10 Kbps < UL TP < 50 Kbps (%)                                         98.00\n",
              "50 Kbps < UL TP < 300 Kbps (%)                                       100.00\n",
              "UL TP > 300 Kbps (%)                                                  96.00\n",
              "HTTP DL (Bytes)                                           72,530,636,168.00\n",
              "HTTP UL (Bytes)                                            1,491,889,672.00\n",
              "Activity Duration DL (ms)                                    136,536,461.00\n",
              "Activity Duration UL (ms)                                    144,911,293.00\n",
              "Dur. (ms).1                                                1,859,336,442.00\n",
              "Handset Manufacturer                              Zyxel Communications Corp\n",
              "Handset Type                                Zyxel Communicat. Zyxel Wah7706\n",
              "Nb of sec with 125000B < Vol DL                                   81,476.00\n",
              "Nb of sec with 1250B < Vol UL < 6250B                             85,412.00\n",
              "Nb of sec with 31250B < Vol DL < 125000B                          58,525.00\n",
              "Nb of sec with 37500B < Vol UL                                    50,553.00\n",
              "Nb of sec with 6250B < Vol DL < 31250B                            66,913.00\n",
              "Nb of sec with 6250B < Vol UL < 37500B                            49,565.00\n",
              "Nb of sec with Vol DL < 6250B                                    604,061.00\n",
              "Nb of sec with Vol UL < 1250B                                    604,122.00\n",
              "Social Media DL (Bytes)                                        3,586,064.00\n",
              "Social Media UL (Bytes)                                           65,870.00\n",
              "Google DL (Bytes)                                             11,462,832.00\n",
              "Google UL (Bytes)                                              4,121,357.00\n",
              "Email DL (Bytes)                                               3,586,146.00\n",
              "Email UL (Bytes)                                                 936,418.00\n",
              "Youtube DL (Bytes)                                            23,259,098.00\n",
              "Youtube UL (Bytes)                                            22,011,962.00\n",
              "Netflix DL (Bytes)                                            23,259,189.00\n",
              "Netflix UL (Bytes)                                            22,011,955.00\n",
              "Gaming DL (Bytes)                                            843,441,889.00\n",
              "Gaming UL (Bytes)                                             16,558,794.00\n",
              "Other DL (Bytes)                                             843,442,489.00\n",
              "Other UL (Bytes)                                              16,558,816.00\n",
              "Total UL (Bytes)                                              78,331,311.00\n",
              "Total DL (Bytes)                                             902,969,616.00\n",
              "dtype: object"
            ]
          },
          "metadata": {},
          "execution_count": 52
        }
      ]
    },
    {
      "cell_type": "markdown",
      "source": [
        "### Data Extraction"
      ],
      "metadata": {
        "id": "__2VFA-qyQ4m"
      },
      "id": "__2VFA-qyQ4m"
    },
    {
      "cell_type": "code",
      "source": [
        "db['MSISDN/Number'].value_counts()"
      ],
      "metadata": {
        "colab": {
          "base_uri": "https://localhost:8080/"
        },
        "id": "rkbuTLUWyMpd",
        "outputId": "408cd3e0-a2d6-4b60-80dd-7f3999b7ba86"
      },
      "id": "rkbuTLUWyMpd",
      "execution_count": 55,
      "outputs": [
        {
          "output_type": "execute_result",
          "data": {
            "text/plain": [
              "41,882,819,545.03    1066\n",
              "33,626,320,676.00      18\n",
              "33,614,892,860.00      17\n",
              "33,625,779,332.00      17\n",
              "33,659,725,664.00      16\n",
              "                     ... \n",
              "33,664,955,942.00       1\n",
              "33,663,469,453.00       1\n",
              "33,665,287,654.00       1\n",
              "33,659,372,298.00       1\n",
              "33,619,622,058.00       1\n",
              "Name: MSISDN/Number, Length: 106857, dtype: int64"
            ]
          },
          "metadata": {},
          "execution_count": 55
        }
      ]
    },
    {
      "cell_type": "code",
      "source": [
        "db['Dur. (ms)'].value_counts()"
      ],
      "metadata": {
        "colab": {
          "base_uri": "https://localhost:8080/"
        },
        "id": "tA2RCY7BzM0n",
        "outputId": "7c13508d-5836-45c8-de4e-14dbbda48d03"
      },
      "id": "tA2RCY7BzM0n",
      "execution_count": 56,
      "outputs": [
        {
          "output_type": "execute_result",
          "data": {
            "text/plain": [
              "86,399.00     21413\n",
              "86,400.00      6437\n",
              "85,499.00       188\n",
              "86,398.00       145\n",
              "86,397.00       110\n",
              "              ...  \n",
              "171,697.00        1\n",
              "180,450.00        1\n",
              "176,343.00        1\n",
              "180,189.00        1\n",
              "104,608.56        1\n",
              "Name: Dur. (ms), Length: 89526, dtype: int64"
            ]
          },
          "metadata": {},
          "execution_count": 56
        }
      ]
    },
    {
      "cell_type": "code",
      "source": [
        "percent_missing(db)"
      ],
      "metadata": {
        "colab": {
          "base_uri": "https://localhost:8080/"
        },
        "id": "hpLoCOMKzWu7",
        "outputId": "0e66dfef-2a98-4417-b3b0-58cc119e0ede"
      },
      "id": "hpLoCOMKzWu7",
      "execution_count": 57,
      "outputs": [
        {
          "output_type": "stream",
          "name": "stdout",
          "text": [
            "The dataset contains 0.0 % missing values.\n"
          ]
        }
      ]
    },
    {
      "cell_type": "code",
      "source": [
        "missing_values_table(db)"
      ],
      "metadata": {
        "colab": {
          "base_uri": "https://localhost:8080/",
          "height": 84
        },
        "id": "rDyh_NgzzsbD",
        "outputId": "38d204b6-a944-4867-ea04-8458eb472413"
      },
      "id": "rDyh_NgzzsbD",
      "execution_count": 58,
      "outputs": [
        {
          "output_type": "stream",
          "name": "stdout",
          "text": [
            "Your selected dataframe has 55 columns.\n",
            "There are 0 columns that have missing values.\n"
          ]
        },
        {
          "output_type": "execute_result",
          "data": {
            "text/plain": [
              "Empty DataFrame\n",
              "Columns: [Missing Values, % of Total Values, Dtype]\n",
              "Index: []"
            ],
            "text/html": [
              "\n",
              "  <div id=\"df-03c6d73e-3081-428c-8abb-d937f9b9a3e6\">\n",
              "    <div class=\"colab-df-container\">\n",
              "      <div>\n",
              "<style scoped>\n",
              "    .dataframe tbody tr th:only-of-type {\n",
              "        vertical-align: middle;\n",
              "    }\n",
              "\n",
              "    .dataframe tbody tr th {\n",
              "        vertical-align: top;\n",
              "    }\n",
              "\n",
              "    .dataframe thead th {\n",
              "        text-align: right;\n",
              "    }\n",
              "</style>\n",
              "<table border=\"1\" class=\"dataframe\">\n",
              "  <thead>\n",
              "    <tr style=\"text-align: right;\">\n",
              "      <th></th>\n",
              "      <th>Missing Values</th>\n",
              "      <th>% of Total Values</th>\n",
              "      <th>Dtype</th>\n",
              "    </tr>\n",
              "  </thead>\n",
              "  <tbody>\n",
              "  </tbody>\n",
              "</table>\n",
              "</div>\n",
              "      <button class=\"colab-df-convert\" onclick=\"convertToInteractive('df-03c6d73e-3081-428c-8abb-d937f9b9a3e6')\"\n",
              "              title=\"Convert this dataframe to an interactive table.\"\n",
              "              style=\"display:none;\">\n",
              "        \n",
              "  <svg xmlns=\"http://www.w3.org/2000/svg\" height=\"24px\"viewBox=\"0 0 24 24\"\n",
              "       width=\"24px\">\n",
              "    <path d=\"M0 0h24v24H0V0z\" fill=\"none\"/>\n",
              "    <path d=\"M18.56 5.44l.94 2.06.94-2.06 2.06-.94-2.06-.94-.94-2.06-.94 2.06-2.06.94zm-11 1L8.5 8.5l.94-2.06 2.06-.94-2.06-.94L8.5 2.5l-.94 2.06-2.06.94zm10 10l.94 2.06.94-2.06 2.06-.94-2.06-.94-.94-2.06-.94 2.06-2.06.94z\"/><path d=\"M17.41 7.96l-1.37-1.37c-.4-.4-.92-.59-1.43-.59-.52 0-1.04.2-1.43.59L10.3 9.45l-7.72 7.72c-.78.78-.78 2.05 0 2.83L4 21.41c.39.39.9.59 1.41.59.51 0 1.02-.2 1.41-.59l7.78-7.78 2.81-2.81c.8-.78.8-2.07 0-2.86zM5.41 20L4 18.59l7.72-7.72 1.47 1.35L5.41 20z\"/>\n",
              "  </svg>\n",
              "      </button>\n",
              "      \n",
              "  <style>\n",
              "    .colab-df-container {\n",
              "      display:flex;\n",
              "      flex-wrap:wrap;\n",
              "      gap: 12px;\n",
              "    }\n",
              "\n",
              "    .colab-df-convert {\n",
              "      background-color: #E8F0FE;\n",
              "      border: none;\n",
              "      border-radius: 50%;\n",
              "      cursor: pointer;\n",
              "      display: none;\n",
              "      fill: #1967D2;\n",
              "      height: 32px;\n",
              "      padding: 0 0 0 0;\n",
              "      width: 32px;\n",
              "    }\n",
              "\n",
              "    .colab-df-convert:hover {\n",
              "      background-color: #E2EBFA;\n",
              "      box-shadow: 0px 1px 2px rgba(60, 64, 67, 0.3), 0px 1px 3px 1px rgba(60, 64, 67, 0.15);\n",
              "      fill: #174EA6;\n",
              "    }\n",
              "\n",
              "    [theme=dark] .colab-df-convert {\n",
              "      background-color: #3B4455;\n",
              "      fill: #D2E3FC;\n",
              "    }\n",
              "\n",
              "    [theme=dark] .colab-df-convert:hover {\n",
              "      background-color: #434B5C;\n",
              "      box-shadow: 0px 1px 3px 1px rgba(0, 0, 0, 0.15);\n",
              "      filter: drop-shadow(0px 1px 2px rgba(0, 0, 0, 0.3));\n",
              "      fill: #FFFFFF;\n",
              "    }\n",
              "  </style>\n",
              "\n",
              "      <script>\n",
              "        const buttonEl =\n",
              "          document.querySelector('#df-03c6d73e-3081-428c-8abb-d937f9b9a3e6 button.colab-df-convert');\n",
              "        buttonEl.style.display =\n",
              "          google.colab.kernel.accessAllowed ? 'block' : 'none';\n",
              "\n",
              "        async function convertToInteractive(key) {\n",
              "          const element = document.querySelector('#df-03c6d73e-3081-428c-8abb-d937f9b9a3e6');\n",
              "          const dataTable =\n",
              "            await google.colab.kernel.invokeFunction('convertToInteractive',\n",
              "                                                     [key], {});\n",
              "          if (!dataTable) return;\n",
              "\n",
              "          const docLinkHtml = 'Like what you see? Visit the ' +\n",
              "            '<a target=\"_blank\" href=https://colab.research.google.com/notebooks/data_table.ipynb>data table notebook</a>'\n",
              "            + ' to learn more about interactive tables.';\n",
              "          element.innerHTML = '';\n",
              "          dataTable['output_type'] = 'display_data';\n",
              "          await google.colab.output.renderOutput(dataTable, element);\n",
              "          const docLink = document.createElement('div');\n",
              "          docLink.innerHTML = docLinkHtml;\n",
              "          element.appendChild(docLink);\n",
              "        }\n",
              "      </script>\n",
              "    </div>\n",
              "  </div>\n",
              "  "
            ]
          },
          "metadata": {},
          "execution_count": 58
        }
      ]
    },
    {
      "cell_type": "markdown",
      "source": [
        "### Mean and Mediam of some vital attributes"
      ],
      "metadata": {
        "id": "str8jKngNOGT"
      },
      "id": "str8jKngNOGT"
    },
    {
      "cell_type": "code",
      "source": [
        "important_columns_numeric = ['Bearer Id','Dur. (ms)','MSISDN/Number',\n",
        "                      'Avg RTT DL (ms)','Avg RTT UL (ms)',\n",
        "                      'TCP DL Retrans. Vol (Bytes)','TCP UL Retrans. Vol (Bytes)',\n",
        "                      'Social Media DL (Bytes)', 'Social Media UL (Bytes)',\n",
        "                      'Google DL (Bytes)', 'Google UL (Bytes)', \n",
        "                      'Email DL (Bytes)','Email UL (Bytes)',\n",
        "                      'Youtube DL (Bytes)', 'Youtube UL (Bytes)',\n",
        "                      'Netflix DL (Bytes)', 'Netflix UL (Bytes)', \n",
        "                      'Gaming DL (Bytes)','Gaming UL (Bytes)',\n",
        "                      'Other DL (Bytes)', 'Other UL (Bytes)',\n",
        "                      'Total UL (Bytes)', 'Total DL (Bytes)' ]\n",
        "important_columns_object = ['Handset Manufacturer','Handset Type']\n",
        "db[important_columns_numeric].mean()"
      ],
      "metadata": {
        "id": "B7WFB58yMV-Z",
        "colab": {
          "base_uri": "https://localhost:8080/"
        },
        "outputId": "e8e5375e-0ae9-4199-fac0-4bb397de2404"
      },
      "id": "B7WFB58yMV-Z",
      "execution_count": 59,
      "outputs": [
        {
          "output_type": "execute_result",
          "data": {
            "text/plain": [
              "Bearer Id                     10,138,874,654,256,338,944.00\n",
              "Dur. (ms)                                        104,608.56\n",
              "MSISDN/Number                             41,882,819,545.03\n",
              "Avg RTT DL (ms)                                      109.80\n",
              "Avg RTT UL (ms)                                       17.66\n",
              "TCP DL Retrans. Vol (Bytes)                   20,809,914.27\n",
              "TCP UL Retrans. Vol (Bytes)                      759,658.66\n",
              "Social Media DL (Bytes)                        1,795,321.77\n",
              "Social Media UL (Bytes)                           32,928.43\n",
              "Google DL (Bytes)                              5,750,752.62\n",
              "Google UL (Bytes)                              2,056,541.93\n",
              "Email DL (Bytes)                               1,791,728.87\n",
              "Email UL (Bytes)                                 467,373.44\n",
              "Youtube DL (Bytes)                            11,634,072.50\n",
              "Youtube UL (Bytes)                            11,009,410.13\n",
              "Netflix DL (Bytes)                            11,626,851.72\n",
              "Netflix UL (Bytes)                            11,001,754.82\n",
              "Gaming DL (Bytes)                            422,044,702.60\n",
              "Gaming UL (Bytes)                              8,288,398.11\n",
              "Other DL (Bytes)                             421,100,544.19\n",
              "Other UL (Bytes)                               8,264,799.42\n",
              "Total UL (Bytes)                              41,121,206.29\n",
              "Total DL (Bytes)                             454,643,430.08\n",
              "dtype: float64"
            ]
          },
          "metadata": {},
          "execution_count": 59
        }
      ]
    },
    {
      "cell_type": "code",
      "source": [
        "db[important_columns_numeric].median()"
      ],
      "metadata": {
        "id": "kBkuMvgtNLNL",
        "colab": {
          "base_uri": "https://localhost:8080/"
        },
        "outputId": "fe19bfab-c63f-42f2-d6f5-45cceac8d0fb"
      },
      "id": "kBkuMvgtNLNL",
      "execution_count": 60,
      "outputs": [
        {
          "output_type": "execute_result",
          "data": {
            "text/plain": [
              "Bearer Id                     7,349,883,264,196,119,552.00\n",
              "Dur. (ms)                                        86,399.00\n",
              "MSISDN/Number                            33,663,797,508.00\n",
              "Avg RTT DL (ms)                                      54.00\n",
              "Avg RTT UL (ms)                                       7.00\n",
              "TCP DL Retrans. Vol (Bytes)                  20,809,914.27\n",
              "TCP UL Retrans. Vol (Bytes)                     759,658.66\n",
              "Social Media DL (Bytes)                       1,794,369.00\n",
              "Social Media UL (Bytes)                          32,920.00\n",
              "Google DL (Bytes)                             5,765,829.00\n",
              "Google UL (Bytes)                             2,054,573.00\n",
              "Email DL (Bytes)                              1,793,505.00\n",
              "Email UL (Bytes)                                466,250.00\n",
              "Youtube DL (Bytes)                           11,616,019.00\n",
              "Youtube UL (Bytes)                           11,013,447.00\n",
              "Netflix DL (Bytes)                           11,642,217.00\n",
              "Netflix UL (Bytes)                           10,996,384.00\n",
              "Gaming DL (Bytes)                           423,408,104.00\n",
              "Gaming UL (Bytes)                             8,291,208.00\n",
              "Other DL (Bytes)                            421,803,006.00\n",
              "Other UL (Bytes)                              8,267,071.00\n",
              "Total UL (Bytes)                             41,143,242.00\n",
              "Total DL (Bytes)                            455,840,911.00\n",
              "dtype: float64"
            ]
          },
          "metadata": {},
          "execution_count": 60
        }
      ]
    },
    {
      "cell_type": "code",
      "source": [
        "db[important_columns_object].mode()"
      ],
      "metadata": {
        "colab": {
          "base_uri": "https://localhost:8080/",
          "height": 81
        },
        "id": "3PxEsIvQ33NE",
        "outputId": "f872e437-ae37-461a-c6a1-9ff344ad10d1"
      },
      "id": "3PxEsIvQ33NE",
      "execution_count": 61,
      "outputs": [
        {
          "output_type": "execute_result",
          "data": {
            "text/plain": [
              "  Handset Manufacturer      Handset Type\n",
              "0                Apple  Huawei B528S-23A"
            ],
            "text/html": [
              "\n",
              "  <div id=\"df-e12fee18-aefb-4256-9b88-673cba206ab6\">\n",
              "    <div class=\"colab-df-container\">\n",
              "      <div>\n",
              "<style scoped>\n",
              "    .dataframe tbody tr th:only-of-type {\n",
              "        vertical-align: middle;\n",
              "    }\n",
              "\n",
              "    .dataframe tbody tr th {\n",
              "        vertical-align: top;\n",
              "    }\n",
              "\n",
              "    .dataframe thead th {\n",
              "        text-align: right;\n",
              "    }\n",
              "</style>\n",
              "<table border=\"1\" class=\"dataframe\">\n",
              "  <thead>\n",
              "    <tr style=\"text-align: right;\">\n",
              "      <th></th>\n",
              "      <th>Handset Manufacturer</th>\n",
              "      <th>Handset Type</th>\n",
              "    </tr>\n",
              "  </thead>\n",
              "  <tbody>\n",
              "    <tr>\n",
              "      <th>0</th>\n",
              "      <td>Apple</td>\n",
              "      <td>Huawei B528S-23A</td>\n",
              "    </tr>\n",
              "  </tbody>\n",
              "</table>\n",
              "</div>\n",
              "      <button class=\"colab-df-convert\" onclick=\"convertToInteractive('df-e12fee18-aefb-4256-9b88-673cba206ab6')\"\n",
              "              title=\"Convert this dataframe to an interactive table.\"\n",
              "              style=\"display:none;\">\n",
              "        \n",
              "  <svg xmlns=\"http://www.w3.org/2000/svg\" height=\"24px\"viewBox=\"0 0 24 24\"\n",
              "       width=\"24px\">\n",
              "    <path d=\"M0 0h24v24H0V0z\" fill=\"none\"/>\n",
              "    <path d=\"M18.56 5.44l.94 2.06.94-2.06 2.06-.94-2.06-.94-.94-2.06-.94 2.06-2.06.94zm-11 1L8.5 8.5l.94-2.06 2.06-.94-2.06-.94L8.5 2.5l-.94 2.06-2.06.94zm10 10l.94 2.06.94-2.06 2.06-.94-2.06-.94-.94-2.06-.94 2.06-2.06.94z\"/><path d=\"M17.41 7.96l-1.37-1.37c-.4-.4-.92-.59-1.43-.59-.52 0-1.04.2-1.43.59L10.3 9.45l-7.72 7.72c-.78.78-.78 2.05 0 2.83L4 21.41c.39.39.9.59 1.41.59.51 0 1.02-.2 1.41-.59l7.78-7.78 2.81-2.81c.8-.78.8-2.07 0-2.86zM5.41 20L4 18.59l7.72-7.72 1.47 1.35L5.41 20z\"/>\n",
              "  </svg>\n",
              "      </button>\n",
              "      \n",
              "  <style>\n",
              "    .colab-df-container {\n",
              "      display:flex;\n",
              "      flex-wrap:wrap;\n",
              "      gap: 12px;\n",
              "    }\n",
              "\n",
              "    .colab-df-convert {\n",
              "      background-color: #E8F0FE;\n",
              "      border: none;\n",
              "      border-radius: 50%;\n",
              "      cursor: pointer;\n",
              "      display: none;\n",
              "      fill: #1967D2;\n",
              "      height: 32px;\n",
              "      padding: 0 0 0 0;\n",
              "      width: 32px;\n",
              "    }\n",
              "\n",
              "    .colab-df-convert:hover {\n",
              "      background-color: #E2EBFA;\n",
              "      box-shadow: 0px 1px 2px rgba(60, 64, 67, 0.3), 0px 1px 3px 1px rgba(60, 64, 67, 0.15);\n",
              "      fill: #174EA6;\n",
              "    }\n",
              "\n",
              "    [theme=dark] .colab-df-convert {\n",
              "      background-color: #3B4455;\n",
              "      fill: #D2E3FC;\n",
              "    }\n",
              "\n",
              "    [theme=dark] .colab-df-convert:hover {\n",
              "      background-color: #434B5C;\n",
              "      box-shadow: 0px 1px 3px 1px rgba(0, 0, 0, 0.15);\n",
              "      filter: drop-shadow(0px 1px 2px rgba(0, 0, 0, 0.3));\n",
              "      fill: #FFFFFF;\n",
              "    }\n",
              "  </style>\n",
              "\n",
              "      <script>\n",
              "        const buttonEl =\n",
              "          document.querySelector('#df-e12fee18-aefb-4256-9b88-673cba206ab6 button.colab-df-convert');\n",
              "        buttonEl.style.display =\n",
              "          google.colab.kernel.accessAllowed ? 'block' : 'none';\n",
              "\n",
              "        async function convertToInteractive(key) {\n",
              "          const element = document.querySelector('#df-e12fee18-aefb-4256-9b88-673cba206ab6');\n",
              "          const dataTable =\n",
              "            await google.colab.kernel.invokeFunction('convertToInteractive',\n",
              "                                                     [key], {});\n",
              "          if (!dataTable) return;\n",
              "\n",
              "          const docLinkHtml = 'Like what you see? Visit the ' +\n",
              "            '<a target=\"_blank\" href=https://colab.research.google.com/notebooks/data_table.ipynb>data table notebook</a>'\n",
              "            + ' to learn more about interactive tables.';\n",
              "          element.innerHTML = '';\n",
              "          dataTable['output_type'] = 'display_data';\n",
              "          await google.colab.output.renderOutput(dataTable, element);\n",
              "          const docLink = document.createElement('div');\n",
              "          docLink.innerHTML = docLinkHtml;\n",
              "          element.appendChild(docLink);\n",
              "        }\n",
              "      </script>\n",
              "    </div>\n",
              "  </div>\n",
              "  "
            ]
          },
          "metadata": {},
          "execution_count": 61
        }
      ]
    },
    {
      "cell_type": "markdown",
      "source": [
        "### Univariate analysis - Analysis using only one feature/variable"
      ],
      "metadata": {
        "id": "eXrsf2IiN_zI"
      },
      "id": "eXrsf2IiN_zI"
    },
    {
      "cell_type": "code",
      "source": [
        "db_explore = db.copy()"
      ],
      "metadata": {
        "id": "zPjay-UA4-IP"
      },
      "id": "zPjay-UA4-IP",
      "execution_count": 62,
      "outputs": []
    },
    {
      "cell_type": "code",
      "source": [
        "fix_outlier(db_explore, \"MSISDN/Number\")"
      ],
      "metadata": {
        "id": "QxHZFD4Wnutg",
        "outputId": "1b91a770-9efb-49de-fc59-fe6f59785fca",
        "colab": {
          "base_uri": "https://localhost:8080/"
        }
      },
      "id": "QxHZFD4Wnutg",
      "execution_count": 63,
      "outputs": [
        {
          "output_type": "execute_result",
          "data": {
            "text/plain": [
              "0        33,664,962,239.00\n",
              "1        33,681,854,413.00\n",
              "2        33,760,627,129.00\n",
              "3        33,750,343,200.00\n",
              "4        33,699,795,932.00\n",
              "                ...       \n",
              "149996   33,650,688,697.00\n",
              "149997   33,663,449,963.00\n",
              "149998   33,621,890,103.00\n",
              "149999   33,619,622,058.00\n",
              "150000   33,663,797,508.00\n",
              "Name: MSISDN/Number, Length: 150001, dtype: float64"
            ]
          },
          "metadata": {},
          "execution_count": 63
        }
      ]
    },
    {
      "cell_type": "code",
      "source": [
        "plot_hist(db_explore.head(10000),\"MSISDN/Number\" ,'green')"
      ],
      "metadata": {
        "id": "R1e0sUFENZom",
        "colab": {
          "base_uri": "https://localhost:8080/",
          "height": 534
        },
        "outputId": "9b309423-5d22-4f58-8de6-85a640cdd1dd"
      },
      "id": "R1e0sUFENZom",
      "execution_count": 64,
      "outputs": [
        {
          "output_type": "display_data",
          "data": {
            "text/plain": [
              "<Figure size 1008x504 with 1 Axes>"
            ],
            "image/png": "[encoded data removed]"
          },
          "metadata": {
            "needs_background": "light"
          }
        }
      ]
    },
    {
      "cell_type": "code",
      "source": [
        "plot_hist(db_explore, \"Dur. (ms)\", \"green\")"
      ],
      "metadata": {
        "colab": {
          "base_uri": "https://localhost:8080/",
          "height": 534
        },
        "id": "zjC9Z8UH53y6",
        "outputId": "9b4b1031-28ea-48dd-b479-fad978ab04f5"
      },
      "id": "zjC9Z8UH53y6",
      "execution_count": 65,
      "outputs": [
        {
          "output_type": "display_data",
          "data": {
            "text/plain": [
              "<Figure size 1008x504 with 1 Axes>"
            ],
            "image/png": "[encoded data removed]"
          },
          "metadata": {
            "needs_background": "light"
          }
        }
      ]
    },
    {
      "cell_type": "code",
      "source": [
        "plot_hist(db_explore, \"Bearer Id\", \"green\")"
      ],
      "metadata": {
        "colab": {
          "base_uri": "https://localhost:8080/",
          "height": 534
        },
        "id": "4ebDxqQE58dB",
        "outputId": "e3a66a5f-99cf-4546-dba6-41ca0a096507"
      },
      "id": "4ebDxqQE58dB",
      "execution_count": 66,
      "outputs": [
        {
          "output_type": "display_data",
          "data": {
            "text/plain": [
              "<Figure size 1008x504 with 1 Axes>"
            ],
            "image/png": "[encoded data removed]"
          },
          "metadata": {
            "needs_background": "light"
          }
        }
      ]
    },
    {
      "cell_type": "code",
      "source": [
        "plot_hist(db_explore, \"Avg RTT DL (ms)\", \"green\")"
      ],
      "metadata": {
        "colab": {
          "base_uri": "https://localhost:8080/",
          "height": 534
        },
        "id": "fNkd1Msb6QHH",
        "outputId": "51461e02-a4cf-426f-80f3-cf47dcc1b8d5"
      },
      "id": "fNkd1Msb6QHH",
      "execution_count": 67,
      "outputs": [
        {
          "output_type": "display_data",
          "data": {
            "text/plain": [
              "<Figure size 1008x504 with 1 Axes>"
            ],
            "image/png": "[encoded data removed]"
          },
          "metadata": {
            "needs_background": "light"
          }
        }
      ]
    },
    {
      "cell_type": "code",
      "source": [
        "plot_hist(db_explore, \"Avg RTT UL (ms)\", \"green\")"
      ],
      "metadata": {
        "colab": {
          "base_uri": "https://localhost:8080/",
          "height": 534
        },
        "id": "JWcOtVWO6ffv",
        "outputId": "41de1a11-4618-41aa-e4f9-4d78db72dcdf"
      },
      "id": "JWcOtVWO6ffv",
      "execution_count": 68,
      "outputs": [
        {
          "output_type": "display_data",
          "data": {
            "text/plain": [
              "<Figure size 1008x504 with 1 Axes>"
            ],
            "image/png": "[encoded data removed]"
          },
          "metadata": {
            "needs_background": "light"
          }
        }
      ]
    },
    {
      "cell_type": "code",
      "source": [
        "plot_hist(db_explore.head(50000), \"Handset Manufacturer\", \"blue\")"
      ],
      "metadata": {
        "colab": {
          "base_uri": "https://localhost:8080/",
          "height": 534
        },
        "id": "sJiYY8kU6iWn",
        "outputId": "26657839-41a4-4967-8ae6-d9c5ba577ff8"
      },
      "id": "sJiYY8kU6iWn",
      "execution_count": 69,
      "outputs": [
        {
          "output_type": "display_data",
          "data": {
            "text/plain": [
              "<Figure size 1008x504 with 1 Axes>"
            ],
            "image/png": "[encoded data removed]"
          },
          "metadata": {
            "needs_background": "light"
          }
        }
      ]
    },
    {
      "cell_type": "code",
      "source": [
        "plot_hist(db_explore.head(50000), \"Handset Type\", \"blue\")"
      ],
      "metadata": {
        "colab": {
          "base_uri": "https://localhost:8080/",
          "height": 534
        },
        "id": "kM6yo2aI6teX",
        "outputId": "c3d0ce0f-490b-4b1e-da8f-25e3e06a9aec"
      },
      "id": "kM6yo2aI6teX",
      "execution_count": 70,
      "outputs": [
        {
          "output_type": "display_data",
          "data": {
            "text/plain": [
              "<Figure size 1008x504 with 1 Axes>"
            ],
            "image/png": "[encoded data removed]"
          },
          "metadata": {
            "needs_background": "light"
          }
        }
      ]
    },
    {
      "cell_type": "code",
      "source": [
        "plot_hist(db_explore, \"Social Media DL (Bytes)\", \"green\")\n",
        "# sns.histplot(x=columns[0], data =db) # this also works"
      ],
      "metadata": {
        "colab": {
          "base_uri": "https://localhost:8080/",
          "height": 534
        },
        "id": "Sr6Z1-gs6xX7",
        "outputId": "e964230b-aa35-4550-ce1f-38dbb04cc8e7"
      },
      "id": "Sr6Z1-gs6xX7",
      "execution_count": 71,
      "outputs": [
        {
          "output_type": "display_data",
          "data": {
            "text/plain": [
              "<Figure size 1008x504 with 1 Axes>"
            ],
            "image/png": "[encoded data removed]"
          },
          "metadata": {
            "needs_background": "light"
          }
        }
      ]
    },
    {
      "cell_type": "code",
      "source": [
        "plot_hist(db_explore, \"Social Media UL (Bytes)\", \"green\")"
      ],
      "metadata": {
        "colab": {
          "base_uri": "https://localhost:8080/",
          "height": 534
        },
        "id": "9sdzuP8Q69DA",
        "outputId": "bb1d9e48-e2c6-49da-8832-d5b2e1532436"
      },
      "id": "9sdzuP8Q69DA",
      "execution_count": 72,
      "outputs": [
        {
          "output_type": "display_data",
          "data": {
            "text/plain": [
              "<Figure size 1008x504 with 1 Axes>"
            ],
            "image/png": "[encoded data removed]"
          },
          "metadata": {
            "needs_background": "light"
          }
        }
      ]
    },
    {
      "cell_type": "code",
      "source": [
        "plot_hist(db_explore, \"Total DL (Bytes)\", \"green\")"
      ],
      "metadata": {
        "colab": {
          "base_uri": "https://localhost:8080/",
          "height": 534
        },
        "id": "8hExza6-7BBJ",
        "outputId": "9d56d56c-ad7f-4bfa-9fc9-a19ed57b4f5b"
      },
      "id": "8hExza6-7BBJ",
      "execution_count": 73,
      "outputs": [
        {
          "output_type": "display_data",
          "data": {
            "text/plain": [
              "<Figure size 1008x504 with 1 Axes>"
            ],
            "image/png": "[encoded data removed]"
          },
          "metadata": {
            "needs_background": "light"
          }
        }
      ]
    },
    {
      "cell_type": "code",
      "source": [
        "plot_hist(db_explore, \"Total UL (Bytes)\", \"green\")"
      ],
      "metadata": {
        "colab": {
          "base_uri": "https://localhost:8080/",
          "height": 534
        },
        "id": "H37uHT9D7Ek2",
        "outputId": "80d9485f-2f03-4855-d60f-90da23b0d814"
      },
      "id": "H37uHT9D7Ek2",
      "execution_count": 74,
      "outputs": [
        {
          "output_type": "display_data",
          "data": {
            "text/plain": [
              "<Figure size 1008x504 with 1 Axes>"
            ],
            "image/png": "[encoded data removed]"
          },
          "metadata": {
            "needs_background": "light"
          }
        }
      ]
    },
    {
      "cell_type": "code",
      "source": [
        "plot_box(db_explore, \"Dur. (ms)\", \"Session Duration Outliers\")"
      ],
      "metadata": {
        "colab": {
          "base_uri": "https://localhost:8080/",
          "height": 487
        },
        "id": "ZNbk44nc8z9R",
        "outputId": "47871dce-e777-44f3-fb5d-d58fd70926a2"
      },
      "id": "ZNbk44nc8z9R",
      "execution_count": 75,
      "outputs": [
        {
          "output_type": "display_data",
          "data": {
            "text/plain": [
              "<Figure size 864x504 with 1 Axes>"
            ],
            "image/png": "[encoded data removed]"
          },
          "metadata": {
            "needs_background": "light"
          }
        }
      ]
    },
    {
      "cell_type": "code",
      "source": [
        "plot_box(db_explore, \"Avg RTT DL (ms)\", \"Avg RTT DL (ms) Outliers\")"
      ],
      "metadata": {
        "colab": {
          "base_uri": "https://localhost:8080/",
          "height": 508
        },
        "id": "3IUuRuaL9N21",
        "outputId": "1b52625e-56f6-4c1c-a987-c7484862fdfc"
      },
      "id": "3IUuRuaL9N21",
      "execution_count": 76,
      "outputs": [
        {
          "output_type": "display_data",
          "data": {
            "text/plain": [
              "<Figure size 864x504 with 1 Axes>"
            ],
            "image/png": "[encoded data removed]"
          },
          "metadata": {
            "needs_background": "light"
          }
        }
      ]
    },
    {
      "cell_type": "code",
      "source": [
        "plot_box(db_explore, \"Avg RTT UL (ms)\", \"Avg RTT UL (ms) Outliers\")"
      ],
      "metadata": {
        "colab": {
          "base_uri": "https://localhost:8080/",
          "height": 491
        },
        "id": "WrCq16S89Y1C",
        "outputId": "febb001f-70ff-454e-ae0b-fbfc84c3e70a"
      },
      "id": "WrCq16S89Y1C",
      "execution_count": 77,
      "outputs": [
        {
          "output_type": "display_data",
          "data": {
            "text/plain": [
              "<Figure size 864x504 with 1 Axes>"
            ],
            "image/png": "[encoded data removed]"
          },
          "metadata": {
            "needs_background": "light"
          }
        }
      ]
    },
    {
      "cell_type": "code",
      "source": [
        "plot_box(db_explore, \"TCP DL Retrans. Vol (Bytes)\", \"TCP DL Retrans. Vol (Bytes) Outliers\")"
      ],
      "metadata": {
        "colab": {
          "base_uri": "https://localhost:8080/",
          "height": 466
        },
        "id": "CXJgBwSL9szB",
        "outputId": "e213f1f1-4fd7-4f48-9345-9f1b82525e34"
      },
      "id": "CXJgBwSL9szB",
      "execution_count": 78,
      "outputs": [
        {
          "output_type": "display_data",
          "data": {
            "text/plain": [
              "<Figure size 864x504 with 1 Axes>"
            ],
            "image/png": "[encoded data removed]"
          },
          "metadata": {
            "needs_background": "light"
          }
        }
      ]
    },
    {
      "cell_type": "code",
      "source": [
        "plot_box(db_explore, \"TCP UL Retrans. Vol (Bytes)\", \"TCP UL Retrans. Vol (Bytes) Outliers\")"
      ],
      "metadata": {
        "colab": {
          "base_uri": "https://localhost:8080/",
          "height": 479
        },
        "id": "ij5JdX5X9_5f",
        "outputId": "e95c4aed-1601-4dc9-9549-b77a7d432c82"
      },
      "id": "ij5JdX5X9_5f",
      "execution_count": 79,
      "outputs": [
        {
          "output_type": "display_data",
          "data": {
            "text/plain": [
              "<Figure size 864x504 with 1 Axes>"
            ],
            "image/png": "[encoded data removed]"
          },
          "metadata": {
            "needs_background": "light"
          }
        }
      ]
    },
    {
      "cell_type": "code",
      "source": [
        "plot_box(db_explore, \"Social Media DL (Bytes)\", \"Social Media DL (Bytes) Outliers\")"
      ],
      "metadata": {
        "colab": {
          "base_uri": "https://localhost:8080/",
          "height": 479
        },
        "id": "Rg1s9n-4-GNT",
        "outputId": "e515eee0-0eea-4629-fe53-2aba400fbd2d"
      },
      "id": "Rg1s9n-4-GNT",
      "execution_count": 80,
      "outputs": [
        {
          "output_type": "display_data",
          "data": {
            "text/plain": [
              "<Figure size 864x504 with 1 Axes>"
            ],
            "image/png": "[encoded data removed]"
          },
          "metadata": {
            "needs_background": "light"
          }
        }
      ]
    },
    {
      "cell_type": "code",
      "source": [
        "plot_box(db_explore, \"Social Media UL (Bytes)\", \"Social Media UL (Bytes) Outliers\")"
      ],
      "metadata": {
        "colab": {
          "base_uri": "https://localhost:8080/",
          "height": 499
        },
        "id": "EgK71Qw3-RvB",
        "outputId": "90fd2930-c076-4d0b-ea05-dfb64c1f5dc1"
      },
      "id": "EgK71Qw3-RvB",
      "execution_count": 81,
      "outputs": [
        {
          "output_type": "display_data",
          "data": {
            "text/plain": [
              "<Figure size 864x504 with 1 Axes>"
            ],
            "image/png": "[encoded data removed]"
          },
          "metadata": {
            "needs_background": "light"
          }
        }
      ]
    },
    {
      "cell_type": "code",
      "source": [
        "plot_box(db_explore, \"Total DL (Bytes)\", \"Total DL (Bytes) Outliers\")"
      ],
      "metadata": {
        "colab": {
          "base_uri": "https://localhost:8080/",
          "height": 466
        },
        "id": "BbMIRVB7-a1x",
        "outputId": "2286fbc8-9267-4b8b-9df6-8ba3c0ec5471"
      },
      "id": "BbMIRVB7-a1x",
      "execution_count": 82,
      "outputs": [
        {
          "output_type": "display_data",
          "data": {
            "text/plain": [
              "<Figure size 864x504 with 1 Axes>"
            ],
            "image/png": "[encoded data removed]"
          },
          "metadata": {
            "needs_background": "light"
          }
        }
      ]
    },
    {
      "cell_type": "code",
      "source": [
        "plot_box(db_explore, \"Total UL (Bytes)\", \"Total UL (Bytes) Outliers\")"
      ],
      "metadata": {
        "colab": {
          "base_uri": "https://localhost:8080/",
          "height": 466
        },
        "id": "YqYWJSOn-miX",
        "outputId": "99e7833a-e174-4b5a-a901-0a83e88f9ab4"
      },
      "id": "YqYWJSOn-miX",
      "execution_count": 83,
      "outputs": [
        {
          "output_type": "display_data",
          "data": {
            "text/plain": [
              "<Figure size 864x504 with 1 Axes>"
            ],
            "image/png": "[encoded data removed]"
          },
          "metadata": {
            "needs_background": "light"
          }
        }
      ]
    },
    {
      "cell_type": "markdown",
      "source": [
        "### Categorical Data Plot"
      ],
      "metadata": {
        "id": "pbPOi2IT_SYR"
      },
      "id": "pbPOi2IT_SYR"
    },
    {
      "cell_type": "code",
      "source": [
        "plot_count(db_explore, \"Handset Manufacturer\")"
      ],
      "metadata": {
        "colab": {
          "base_uri": "https://localhost:8080/",
          "height": 463
        },
        "id": "1_6sIVAL_W7V",
        "outputId": "d69e9432-cb0f-416e-918c-6fc26adf6ac1"
      },
      "id": "1_6sIVAL_W7V",
      "execution_count": 84,
      "outputs": [
        {
          "output_type": "display_data",
          "data": {
            "text/plain": [
              "<Figure size 864x504 with 1 Axes>"
            ],
            "image/png": "[encoded data removed]"
          },
          "metadata": {
            "needs_background": "light"
          }
        }
      ]
    },
    {
      "cell_type": "code",
      "source": [
        "plot_count(db_explore, \"Handset Type\")"
      ],
      "metadata": {
        "colab": {
          "base_uri": "https://localhost:8080/",
          "height": 464
        },
        "id": "jKU1PWKy_gmI",
        "outputId": "0a9ddad5-dc2f-4479-8af3-59e8efd21c47"
      },
      "id": "jKU1PWKy_gmI",
      "execution_count": 85,
      "outputs": [
        {
          "output_type": "display_data",
          "data": {
            "text/plain": [
              "<Figure size 864x504 with 1 Axes>"
            ],
            "image/png": "[encoded data removed]"
          },
          "metadata": {
            "needs_background": "light"
          }
        }
      ]
    },
    {
      "cell_type": "markdown",
      "source": [
        "### Non-graphical Univariat EDA"
      ],
      "metadata": {
        "id": "x-pxo6bNQYcd"
      },
      "id": "x-pxo6bNQYcd"
    },
    {
      "cell_type": "code",
      "source": [
        "db.describe()"
      ],
      "metadata": {
        "id": "Opt9pyBqOGxO",
        "colab": {
          "base_uri": "https://localhost:8080/",
          "height": 434
        },
        "outputId": "e1bfbb2e-9b62-47bc-d9e2-598dac392ad0"
      },
      "id": "Opt9pyBqOGxO",
      "execution_count": 86,
      "outputs": [
        {
          "output_type": "execute_result",
          "data": {
            "text/plain": [
              "                          Bearer Id   Start ms     End ms    Dur. (ms)  \\\n",
              "count                    150,001.00 150,001.00 150,001.00   150,001.00   \n",
              "mean  10,138,874,654,256,338,944.00     499.19     498.80   104,608.56   \n",
              "std    2,883,599,561,544,278,016.00     288.61     288.10    81,037.35   \n",
              "min    6,917,537,518,543,529,984.00       0.00       0.00     7,142.00   \n",
              "25%    7,349,883,247,447,919,616.00     250.00     251.00    57,442.00   \n",
              "50%    7,349,883,264,196,119,552.00     499.00     500.00    86,399.00   \n",
              "75%   13,042,425,978,928,500,736.00     749.00     750.00   132,430.00   \n",
              "max   13,186,541,167,134,199,808.00     999.00     999.00 1,859,336.00   \n",
              "\n",
              "                        IMSI          MSISDN/Number                  IMEI  \\\n",
              "count             150,001.00             150,001.00            150,001.00   \n",
              "mean  208,201,639,651,669.06      41,882,819,545.03 48,474,547,977,654.55   \n",
              "std        21,447,224,608.89   2,438,731,270,479.18 22,373,590,654,759.21   \n",
              "min   204,047,108,489,451.00      33,601,001,722.00    440,015,202,000.00   \n",
              "25%   208,201,401,264,956.00      33,651,508,781.00 35,462,609,538,986.00   \n",
              "50%   208,201,546,359,072.00      33,663,797,508.00 35,722,409,972,293.00   \n",
              "75%   208,201,771,607,314.00      33,684,730,950.00 86,119,704,277,453.00   \n",
              "max   214,074,303,349,628.00 882,397,108,489,451.00 99,001,201,327,774.00   \n",
              "\n",
              "       Avg RTT DL (ms)  Avg RTT UL (ms)  Avg Bearer TP DL (kbps)  \\\n",
              "count       150,001.00       150,001.00               150,001.00   \n",
              "mean            109.80            17.66                13,300.05   \n",
              "std             559.34            76.53                23,971.80   \n",
              "min               0.00             0.00                     0.00   \n",
              "25%              35.00             3.00                    43.00   \n",
              "50%              54.00             7.00                    63.00   \n",
              "75%             109.80            17.66                19,710.00   \n",
              "max          96,923.00         7,120.00               378,160.00   \n",
              "\n",
              "       Avg Bearer TP UL (kbps)  TCP DL Retrans. Vol (Bytes)  \\\n",
              "count               150,001.00                   150,001.00   \n",
              "mean                  1,770.43                20,809,914.27   \n",
              "std                   4,625.34               117,235,576.02   \n",
              "min                       0.00                         2.00   \n",
              "25%                      47.00                 1,332,932.00   \n",
              "50%                      63.00                20,809,914.27   \n",
              "75%                   1,120.00                20,809,914.27   \n",
              "max                  58,613.00             4,294,425,570.00   \n",
              "\n",
              "       TCP UL Retrans. Vol (Bytes)  DL TP < 50 Kbps (%)  \\\n",
              "count                   150,001.00           150,001.00   \n",
              "mean                    759,658.66                92.84   \n",
              "std                  15,776,162.06                13.01   \n",
              "min                           1.00                 0.00   \n",
              "25%                      63,009.00                91.00   \n",
              "50%                     759,658.66               100.00   \n",
              "75%                     759,658.66               100.00   \n",
              "max               2,908,226,006.00               100.00   \n",
              "\n",
              "       50 Kbps < DL TP < 250 Kbps (%)  250 Kbps < DL TP < 1 Mbps (%)  \\\n",
              "count                      150,001.00                     150,001.00   \n",
              "mean                             3.07                           1.72   \n",
              "std                              6.20                           4.15   \n",
              "min                              0.00                           0.00   \n",
              "25%                              0.00                           0.00   \n",
              "50%                              0.00                           0.00   \n",
              "75%                              4.00                           1.00   \n",
              "max                             93.00                         100.00   \n",
              "\n",
              "       DL TP > 1 Mbps (%)  UL TP < 10 Kbps (%)  10 Kbps < UL TP < 50 Kbps (%)  \\\n",
              "count          150,001.00           150,001.00                     150,001.00   \n",
              "mean                 1.61                98.53                           0.78   \n",
              "std                  4.82                 4.62                           3.22   \n",
              "min                  0.00                 0.00                           0.00   \n",
              "25%                  0.00                99.00                           0.00   \n",
              "50%                  0.00               100.00                           0.00   \n",
              "75%                  1.00               100.00                           0.00   \n",
              "max                 94.00               100.00                          98.00   \n",
              "\n",
              "       50 Kbps < UL TP < 300 Kbps (%)  UL TP > 300 Kbps (%)   HTTP DL (Bytes)  \\\n",
              "count                      150,001.00            150,001.00        150,001.00   \n",
              "mean                             0.15                  0.08    114,471,023.70   \n",
              "std                              1.62                  1.29    651,022,628.64   \n",
              "min                              0.00                  0.00             40.00   \n",
              "25%                              0.00                  0.00      3,028,893.00   \n",
              "50%                              0.00                  0.00    114,471,023.70   \n",
              "75%                              0.00                  0.00    114,471,023.70   \n",
              "max                            100.00                 96.00 72,530,636,168.00   \n",
              "\n",
              "       HTTP UL (Bytes)  Activity Duration DL (ms)  Activity Duration UL (ms)  \\\n",
              "count       150,001.00                 150,001.00                 150,001.00   \n",
              "mean      3,242,301.38               1,829,176.87               1,408,879.97   \n",
              "std      13,195,316.58               5,696,376.48               4,643,215.12   \n",
              "min              40.00                       0.00                       0.00   \n",
              "25%         336,016.00                  14,878.00                  21,540.00   \n",
              "50%       3,242,301.38                  39,305.00                  46,794.00   \n",
              "75%       3,242,301.38                 679,611.00                 599,114.00   \n",
              "max   1,491,889,672.00             136,536,461.00             144,911,293.00   \n",
              "\n",
              "           Dur. (ms).1  Nb of sec with 125000B < Vol DL  \\\n",
              "count       150,001.00                       150,001.00   \n",
              "mean    104,609,105.55                           989.70   \n",
              "std      81,037,341.45                         1,506.00   \n",
              "min       7,142,988.00                             1.00   \n",
              "25%      57,442,058.00                           533.00   \n",
              "50%      86,399,983.00                           989.70   \n",
              "75%     132,430,686.00                           989.70   \n",
              "max   1,859,336,442.00                        81,476.00   \n",
              "\n",
              "       Nb of sec with 1250B < Vol UL < 6250B  \\\n",
              "count                             150,001.00   \n",
              "mean                                  340.43   \n",
              "std                                   891.81   \n",
              "min                                     1.00   \n",
              "25%                                   121.00   \n",
              "50%                                   340.43   \n",
              "75%                                   340.43   \n",
              "max                                85,412.00   \n",
              "\n",
              "       Nb of sec with 31250B < Vol DL < 125000B  \\\n",
              "count                                150,001.00   \n",
              "mean                                     810.84   \n",
              "std                                    1,129.73   \n",
              "min                                        1.00   \n",
              "25%                                      453.00   \n",
              "50%                                      810.84   \n",
              "75%                                      810.84   \n",
              "max                                   58,525.00   \n",
              "\n",
              "       Nb of sec with 37500B < Vol UL  Nb of sec with 6250B < Vol DL < 31250B  \\\n",
              "count                      150,001.00                              150,001.00   \n",
              "mean                           149.26                                  965.46   \n",
              "std                            442.32                                1,248.15   \n",
              "min                              1.00                                    1.00   \n",
              "25%                            149.26                                  527.00   \n",
              "50%                            149.26                                  965.46   \n",
              "75%                            149.26                                  965.46   \n",
              "max                         50,553.00                               66,913.00   \n",
              "\n",
              "       Nb of sec with 6250B < Vol UL < 37500B  Nb of sec with Vol DL < 6250B  \\\n",
              "count                              150,001.00                     150,001.00   \n",
              "mean                                   141.30                       3,719.79   \n",
              "std                                    501.01                       9,148.50   \n",
              "min                                      1.00                           1.00   \n",
              "25%                                    141.30                          88.00   \n",
              "50%                                    141.30                         205.00   \n",
              "75%                                    141.30                       2,765.00   \n",
              "max                                 49,565.00                     604,061.00   \n",
              "\n",
              "       Nb of sec with Vol UL < 1250B  Social Media DL (Bytes)  \\\n",
              "count                     150,001.00               150,001.00   \n",
              "mean                        4,022.08             1,795,321.77   \n",
              "std                        10,133.43             1,035,482.28   \n",
              "min                             1.00                    12.00   \n",
              "25%                           107.00               899,148.00   \n",
              "50%                           220.00             1,794,369.00   \n",
              "75%                         2,560.00             2,694,938.00   \n",
              "max                       604,122.00             3,586,064.00   \n",
              "\n",
              "       Social Media UL (Bytes)  Google DL (Bytes)  Google UL (Bytes)  \\\n",
              "count               150,001.00         150,001.00         150,001.00   \n",
              "mean                 32,928.43       5,750,752.62       2,056,541.93   \n",
              "std                  19,006.18       3,309,097.02       1,189,916.93   \n",
              "min                       0.00             207.00               3.00   \n",
              "25%                  16,448.00       2,882,393.00       1,024,279.00   \n",
              "50%                  32,920.00       5,765,829.00       2,054,573.00   \n",
              "75%                  49,334.00       8,623,552.00       3,088,454.00   \n",
              "max                  65,870.00      11,462,832.00       4,121,357.00   \n",
              "\n",
              "       Email DL (Bytes)  Email UL (Bytes)  Youtube DL (Bytes)  \\\n",
              "count        150,001.00        150,001.00          150,001.00   \n",
              "mean       1,791,728.87        467,373.44       11,634,072.50   \n",
              "std        1,035,839.51        269,969.31        6,710,568.85   \n",
              "min               14.00              2.00               53.00   \n",
              "25%          892,793.00        233,383.00        5,833,501.00   \n",
              "50%        1,793,505.00        466,250.00       11,616,019.00   \n",
              "75%        2,689,327.00        700,440.00       17,448,518.00   \n",
              "max        3,586,146.00        936,418.00       23,259,098.00   \n",
              "\n",
              "       Youtube UL (Bytes)  Netflix DL (Bytes)  Netflix UL (Bytes)  \\\n",
              "count          150,001.00          150,001.00          150,001.00   \n",
              "mean        11,009,410.13       11,626,851.72       11,001,754.82   \n",
              "std          6,345,423.35        6,725,218.03        6,359,489.76   \n",
              "min                105.00               42.00               35.00   \n",
              "25%          5,517,965.00        5,777,156.00        5,475,981.00   \n",
              "50%         11,013,447.00       11,642,217.00       10,996,384.00   \n",
              "75%         16,515,562.00       17,470,478.00       16,507,268.00   \n",
              "max         22,011,962.00       23,259,189.00       22,011,955.00   \n",
              "\n",
              "       Gaming DL (Bytes)  Gaming UL (Bytes)  Other DL (Bytes)  \\\n",
              "count         150,001.00         150,001.00        150,001.00   \n",
              "mean      422,044,702.60       8,288,398.11    421,100,544.19   \n",
              "std       243,967,494.35       4,782,699.66    243,205,009.81   \n",
              "min             2,516.00              59.00          3,290.00   \n",
              "25%       210,473,253.00       4,128,476.00    210,186,872.00   \n",
              "50%       423,408,104.00       8,291,208.00    421,803,006.00   \n",
              "75%       633,174,167.00      12,431,624.00    631,691,786.00   \n",
              "max       843,441,889.00      16,558,794.00    843,442,489.00   \n",
              "\n",
              "       Other UL (Bytes)  Total UL (Bytes)  Total DL (Bytes)  \n",
              "count        150,001.00        150,001.00        150,001.00  \n",
              "mean       8,264,799.42     41,121,206.29    454,643,430.08  \n",
              "std        4,769,003.69     11,276,348.93    244,142,060.57  \n",
              "min              148.00      2,866,892.00      7,114,041.00  \n",
              "25%        4,145,943.00     33,222,029.00    243,107,173.00  \n",
              "50%        8,267,071.00     41,143,242.00    455,840,911.00  \n",
              "75%       12,384,148.00     49,034,238.00    665,705,138.00  \n",
              "max       16,558,816.00     78,331,311.00    902,969,616.00  "
            ],
            "text/html": [
              "\n",
              "  <div id=\"df-b89f7c32-556f-4000-bc28-5c5ed9550ad3\">\n",
              "    <div class=\"colab-df-container\">\n",
              "      <div>\n",
              "<style scoped>\n",
              "    .dataframe tbody tr th:only-of-type {\n",
              "        vertical-align: middle;\n",
              "    }\n",
              "\n",
              "    .dataframe tbody tr th {\n",
              "        vertical-align: top;\n",
              "    }\n",
              "\n",
              "    .dataframe thead th {\n",
              "        text-align: right;\n",
              "    }\n",
              "</style>\n",
              "<table border=\"1\" class=\"dataframe\">\n",
              "  <thead>\n",
              "    <tr style=\"text-align: right;\">\n",
              "      <th></th>\n",
              "      <th>Bearer Id</th>\n",
              "      <th>Start ms</th>\n",
              "      <th>End ms</th>\n",
              "      <th>Dur. (ms)</th>\n",
              "      <th>IMSI</th>\n",
              "      <th>MSISDN/Number</th>\n",
              "      <th>IMEI</th>\n",
              "      <th>Avg RTT DL (ms)</th>\n",
              "      <th>Avg RTT UL (ms)</th>\n",
              "      <th>Avg Bearer TP DL (kbps)</th>\n",
              "      <th>Avg Bearer TP UL (kbps)</th>\n",
              "      <th>TCP DL Retrans. Vol (Bytes)</th>\n",
              "      <th>TCP UL Retrans. Vol (Bytes)</th>\n",
              "      <th>DL TP &lt; 50 Kbps (%)</th>\n",
              "      <th>50 Kbps &lt; DL TP &lt; 250 Kbps (%)</th>\n",
              "      <th>250 Kbps &lt; DL TP &lt; 1 Mbps (%)</th>\n",
              "      <th>DL TP &gt; 1 Mbps (%)</th>\n",
              "      <th>UL TP &lt; 10 Kbps (%)</th>\n",
              "      <th>10 Kbps &lt; UL TP &lt; 50 Kbps (%)</th>\n",
              "      <th>50 Kbps &lt; UL TP &lt; 300 Kbps (%)</th>\n",
              "      <th>UL TP &gt; 300 Kbps (%)</th>\n",
              "      <th>HTTP DL (Bytes)</th>\n",
              "      <th>HTTP UL (Bytes)</th>\n",
              "      <th>Activity Duration DL (ms)</th>\n",
              "      <th>Activity Duration UL (ms)</th>\n",
              "      <th>Dur. (ms).1</th>\n",
              "      <th>Nb of sec with 125000B &lt; Vol DL</th>\n",
              "      <th>Nb of sec with 1250B &lt; Vol UL &lt; 6250B</th>\n",
              "      <th>Nb of sec with 31250B &lt; Vol DL &lt; 125000B</th>\n",
              "      <th>Nb of sec with 37500B &lt; Vol UL</th>\n",
              "      <th>Nb of sec with 6250B &lt; Vol DL &lt; 31250B</th>\n",
              "      <th>Nb of sec with 6250B &lt; Vol UL &lt; 37500B</th>\n",
              "      <th>Nb of sec with Vol DL &lt; 6250B</th>\n",
              "      <th>Nb of sec with Vol UL &lt; 1250B</th>\n",
              "      <th>Social Media DL (Bytes)</th>\n",
              "      <th>Social Media UL (Bytes)</th>\n",
              "      <th>Google DL (Bytes)</th>\n",
              "      <th>Google UL (Bytes)</th>\n",
              "      <th>Email DL (Bytes)</th>\n",
              "      <th>Email UL (Bytes)</th>\n",
              "      <th>Youtube DL (Bytes)</th>\n",
              "      <th>Youtube UL (Bytes)</th>\n",
              "      <th>Netflix DL (Bytes)</th>\n",
              "      <th>Netflix UL (Bytes)</th>\n",
              "      <th>Gaming DL (Bytes)</th>\n",
              "      <th>Gaming UL (Bytes)</th>\n",
              "      <th>Other DL (Bytes)</th>\n",
              "      <th>Other UL (Bytes)</th>\n",
              "      <th>Total UL (Bytes)</th>\n",
              "      <th>Total DL (Bytes)</th>\n",
              "    </tr>\n",
              "  </thead>\n",
              "  <tbody>\n",
              "    <tr>\n",
              "      <th>count</th>\n",
              "      <td>150,001.00</td>\n",
              "      <td>150,001.00</td>\n",
              "      <td>150,001.00</td>\n",
              "      <td>150,001.00</td>\n",
              "      <td>150,001.00</td>\n",
              "      <td>150,001.00</td>\n",
              "      <td>150,001.00</td>\n",
              "      <td>150,001.00</td>\n",
              "      <td>150,001.00</td>\n",
              "      <td>150,001.00</td>\n",
              "      <td>150,001.00</td>\n",
              "      <td>150,001.00</td>\n",
              "      <td>150,001.00</td>\n",
              "      <td>150,001.00</td>\n",
              "      <td>150,001.00</td>\n",
              "      <td>150,001.00</td>\n",
              "      <td>150,001.00</td>\n",
              "      <td>150,001.00</td>\n",
              "      <td>150,001.00</td>\n",
              "      <td>150,001.00</td>\n",
              "      <td>150,001.00</td>\n",
              "      <td>150,001.00</td>\n",
              "      <td>150,001.00</td>\n",
              "      <td>150,001.00</td>\n",
              "      <td>150,001.00</td>\n",
              "      <td>150,001.00</td>\n",
              "      <td>150,001.00</td>\n",
              "      <td>150,001.00</td>\n",
              "      <td>150,001.00</td>\n",
              "      <td>150,001.00</td>\n",
              "      <td>150,001.00</td>\n",
              "      <td>150,001.00</td>\n",
              "      <td>150,001.00</td>\n",
              "      <td>150,001.00</td>\n",
              "      <td>150,001.00</td>\n",
              "      <td>150,001.00</td>\n",
              "      <td>150,001.00</td>\n",
              "      <td>150,001.00</td>\n",
              "      <td>150,001.00</td>\n",
              "      <td>150,001.00</td>\n",
              "      <td>150,001.00</td>\n",
              "      <td>150,001.00</td>\n",
              "      <td>150,001.00</td>\n",
              "      <td>150,001.00</td>\n",
              "      <td>150,001.00</td>\n",
              "      <td>150,001.00</td>\n",
              "      <td>150,001.00</td>\n",
              "      <td>150,001.00</td>\n",
              "      <td>150,001.00</td>\n",
              "      <td>150,001.00</td>\n",
              "    </tr>\n",
              "    <tr>\n",
              "      <th>mean</th>\n",
              "      <td>10,138,874,654,256,338,944.00</td>\n",
              "      <td>499.19</td>\n",
              "      <td>498.80</td>\n",
              "      <td>104,608.56</td>\n",
              "      <td>208,201,639,651,669.06</td>\n",
              "      <td>41,882,819,545.03</td>\n",
              "      <td>48,474,547,977,654.55</td>\n",
              "      <td>109.80</td>\n",
              "      <td>17.66</td>\n",
              "      <td>13,300.05</td>\n",
              "      <td>1,770.43</td>\n",
              "      <td>20,809,914.27</td>\n",
              "      <td>759,658.66</td>\n",
              "      <td>92.84</td>\n",
              "      <td>3.07</td>\n",
              "      <td>1.72</td>\n",
              "      <td>1.61</td>\n",
              "      <td>98.53</td>\n",
              "      <td>0.78</td>\n",
              "      <td>0.15</td>\n",
              "      <td>0.08</td>\n",
              "      <td>114,471,023.70</td>\n",
              "      <td>3,242,301.38</td>\n",
              "      <td>1,829,176.87</td>\n",
              "      <td>1,408,879.97</td>\n",
              "      <td>104,609,105.55</td>\n",
              "      <td>989.70</td>\n",
              "      <td>340.43</td>\n",
              "      <td>810.84</td>\n",
              "      <td>149.26</td>\n",
              "      <td>965.46</td>\n",
              "      <td>141.30</td>\n",
              "      <td>3,719.79</td>\n",
              "      <td>4,022.08</td>\n",
              "      <td>1,795,321.77</td>\n",
              "      <td>32,928.43</td>\n",
              "      <td>5,750,752.62</td>\n",
              "      <td>2,056,541.93</td>\n",
              "      <td>1,791,728.87</td>\n",
              "      <td>467,373.44</td>\n",
              "      <td>11,634,072.50</td>\n",
              "      <td>11,009,410.13</td>\n",
              "      <td>11,626,851.72</td>\n",
              "      <td>11,001,754.82</td>\n",
              "      <td>422,044,702.60</td>\n",
              "      <td>8,288,398.11</td>\n",
              "      <td>421,100,544.19</td>\n",
              "      <td>8,264,799.42</td>\n",
              "      <td>41,121,206.29</td>\n",
              "      <td>454,643,430.08</td>\n",
              "    </tr>\n",
              "    <tr>\n",
              "      <th>std</th>\n",
              "      <td>2,883,599,561,544,278,016.00</td>\n",
              "      <td>288.61</td>\n",
              "      <td>288.10</td>\n",
              "      <td>81,037.35</td>\n",
              "      <td>21,447,224,608.89</td>\n",
              "      <td>2,438,731,270,479.18</td>\n",
              "      <td>22,373,590,654,759.21</td>\n",
              "      <td>559.34</td>\n",
              "      <td>76.53</td>\n",
              "      <td>23,971.80</td>\n",
              "      <td>4,625.34</td>\n",
              "      <td>117,235,576.02</td>\n",
              "      <td>15,776,162.06</td>\n",
              "      <td>13.01</td>\n",
              "      <td>6.20</td>\n",
              "      <td>4.15</td>\n",
              "      <td>4.82</td>\n",
              "      <td>4.62</td>\n",
              "      <td>3.22</td>\n",
              "      <td>1.62</td>\n",
              "      <td>1.29</td>\n",
              "      <td>651,022,628.64</td>\n",
              "      <td>13,195,316.58</td>\n",
              "      <td>5,696,376.48</td>\n",
              "      <td>4,643,215.12</td>\n",
              "      <td>81,037,341.45</td>\n",
              "      <td>1,506.00</td>\n",
              "      <td>891.81</td>\n",
              "      <td>1,129.73</td>\n",
              "      <td>442.32</td>\n",
              "      <td>1,248.15</td>\n",
              "      <td>501.01</td>\n",
              "      <td>9,148.50</td>\n",
              "      <td>10,133.43</td>\n",
              "      <td>1,035,482.28</td>\n",
              "      <td>19,006.18</td>\n",
              "      <td>3,309,097.02</td>\n",
              "      <td>1,189,916.93</td>\n",
              "      <td>1,035,839.51</td>\n",
              "      <td>269,969.31</td>\n",
              "      <td>6,710,568.85</td>\n",
              "      <td>6,345,423.35</td>\n",
              "      <td>6,725,218.03</td>\n",
              "      <td>6,359,489.76</td>\n",
              "      <td>243,967,494.35</td>\n",
              "      <td>4,782,699.66</td>\n",
              "      <td>243,205,009.81</td>\n",
              "      <td>4,769,003.69</td>\n",
              "      <td>11,276,348.93</td>\n",
              "      <td>244,142,060.57</td>\n",
              "    </tr>\n",
              "    <tr>\n",
              "      <th>min</th>\n",
              "      <td>6,917,537,518,543,529,984.00</td>\n",
              "      <td>0.00</td>\n",
              "      <td>0.00</td>\n",
              "      <td>7,142.00</td>\n",
              "      <td>204,047,108,489,451.00</td>\n",
              "      <td>33,601,001,722.00</td>\n",
              "      <td>440,015,202,000.00</td>\n",
              "      <td>0.00</td>\n",
              "      <td>0.00</td>\n",
              "      <td>0.00</td>\n",
              "      <td>0.00</td>\n",
              "      <td>2.00</td>\n",
              "      <td>1.00</td>\n",
              "      <td>0.00</td>\n",
              "      <td>0.00</td>\n",
              "      <td>0.00</td>\n",
              "      <td>0.00</td>\n",
              "      <td>0.00</td>\n",
              "      <td>0.00</td>\n",
              "      <td>0.00</td>\n",
              "      <td>0.00</td>\n",
              "      <td>40.00</td>\n",
              "      <td>40.00</td>\n",
              "      <td>0.00</td>\n",
              "      <td>0.00</td>\n",
              "      <td>7,142,988.00</td>\n",
              "      <td>1.00</td>\n",
              "      <td>1.00</td>\n",
              "      <td>1.00</td>\n",
              "      <td>1.00</td>\n",
              "      <td>1.00</td>\n",
              "      <td>1.00</td>\n",
              "      <td>1.00</td>\n",
              "      <td>1.00</td>\n",
              "      <td>12.00</td>\n",
              "      <td>0.00</td>\n",
              "      <td>207.00</td>\n",
              "      <td>3.00</td>\n",
              "      <td>14.00</td>\n",
              "      <td>2.00</td>\n",
              "      <td>53.00</td>\n",
              "      <td>105.00</td>\n",
              "      <td>42.00</td>\n",
              "      <td>35.00</td>\n",
              "      <td>2,516.00</td>\n",
              "      <td>59.00</td>\n",
              "      <td>3,290.00</td>\n",
              "      <td>148.00</td>\n",
              "      <td>2,866,892.00</td>\n",
              "      <td>7,114,041.00</td>\n",
              "    </tr>\n",
              "    <tr>\n",
              "      <th>25%</th>\n",
              "      <td>7,349,883,247,447,919,616.00</td>\n",
              "      <td>250.00</td>\n",
              "      <td>251.00</td>\n",
              "      <td>57,442.00</td>\n",
              "      <td>208,201,401,264,956.00</td>\n",
              "      <td>33,651,508,781.00</td>\n",
              "      <td>35,462,609,538,986.00</td>\n",
              "      <td>35.00</td>\n",
              "      <td>3.00</td>\n",
              "      <td>43.00</td>\n",
              "      <td>47.00</td>\n",
              "      <td>1,332,932.00</td>\n",
              "      <td>63,009.00</td>\n",
              "      <td>91.00</td>\n",
              "      <td>0.00</td>\n",
              "      <td>0.00</td>\n",
              "      <td>0.00</td>\n",
              "      <td>99.00</td>\n",
              "      <td>0.00</td>\n",
              "      <td>0.00</td>\n",
              "      <td>0.00</td>\n",
              "      <td>3,028,893.00</td>\n",
              "      <td>336,016.00</td>\n",
              "      <td>14,878.00</td>\n",
              "      <td>21,540.00</td>\n",
              "      <td>57,442,058.00</td>\n",
              "      <td>533.00</td>\n",
              "      <td>121.00</td>\n",
              "      <td>453.00</td>\n",
              "      <td>149.26</td>\n",
              "      <td>527.00</td>\n",
              "      <td>141.30</td>\n",
              "      <td>88.00</td>\n",
              "      <td>107.00</td>\n",
              "      <td>899,148.00</td>\n",
              "      <td>16,448.00</td>\n",
              "      <td>2,882,393.00</td>\n",
              "      <td>1,024,279.00</td>\n",
              "      <td>892,793.00</td>\n",
              "      <td>233,383.00</td>\n",
              "      <td>5,833,501.00</td>\n",
              "      <td>5,517,965.00</td>\n",
              "      <td>5,777,156.00</td>\n",
              "      <td>5,475,981.00</td>\n",
              "      <td>210,473,253.00</td>\n",
              "      <td>4,128,476.00</td>\n",
              "      <td>210,186,872.00</td>\n",
              "      <td>4,145,943.00</td>\n",
              "      <td>33,222,029.00</td>\n",
              "      <td>243,107,173.00</td>\n",
              "    </tr>\n",
              "    <tr>\n",
              "      <th>50%</th>\n",
              "      <td>7,349,883,264,196,119,552.00</td>\n",
              "      <td>499.00</td>\n",
              "      <td>500.00</td>\n",
              "      <td>86,399.00</td>\n",
              "      <td>208,201,546,359,072.00</td>\n",
              "      <td>33,663,797,508.00</td>\n",
              "      <td>35,722,409,972,293.00</td>\n",
              "      <td>54.00</td>\n",
              "      <td>7.00</td>\n",
              "      <td>63.00</td>\n",
              "      <td>63.00</td>\n",
              "      <td>20,809,914.27</td>\n",
              "      <td>759,658.66</td>\n",
              "      <td>100.00</td>\n",
              "      <td>0.00</td>\n",
              "      <td>0.00</td>\n",
              "      <td>0.00</td>\n",
              "      <td>100.00</td>\n",
              "      <td>0.00</td>\n",
              "      <td>0.00</td>\n",
              "      <td>0.00</td>\n",
              "      <td>114,471,023.70</td>\n",
              "      <td>3,242,301.38</td>\n",
              "      <td>39,305.00</td>\n",
              "      <td>46,794.00</td>\n",
              "      <td>86,399,983.00</td>\n",
              "      <td>989.70</td>\n",
              "      <td>340.43</td>\n",
              "      <td>810.84</td>\n",
              "      <td>149.26</td>\n",
              "      <td>965.46</td>\n",
              "      <td>141.30</td>\n",
              "      <td>205.00</td>\n",
              "      <td>220.00</td>\n",
              "      <td>1,794,369.00</td>\n",
              "      <td>32,920.00</td>\n",
              "      <td>5,765,829.00</td>\n",
              "      <td>2,054,573.00</td>\n",
              "      <td>1,793,505.00</td>\n",
              "      <td>466,250.00</td>\n",
              "      <td>11,616,019.00</td>\n",
              "      <td>11,013,447.00</td>\n",
              "      <td>11,642,217.00</td>\n",
              "      <td>10,996,384.00</td>\n",
              "      <td>423,408,104.00</td>\n",
              "      <td>8,291,208.00</td>\n",
              "      <td>421,803,006.00</td>\n",
              "      <td>8,267,071.00</td>\n",
              "      <td>41,143,242.00</td>\n",
              "      <td>455,840,911.00</td>\n",
              "    </tr>\n",
              "    <tr>\n",
              "      <th>75%</th>\n",
              "      <td>13,042,425,978,928,500,736.00</td>\n",
              "      <td>749.00</td>\n",
              "      <td>750.00</td>\n",
              "      <td>132,430.00</td>\n",
              "      <td>208,201,771,607,314.00</td>\n",
              "      <td>33,684,730,950.00</td>\n",
              "      <td>86,119,704,277,453.00</td>\n",
              "      <td>109.80</td>\n",
              "      <td>17.66</td>\n",
              "      <td>19,710.00</td>\n",
              "      <td>1,120.00</td>\n",
              "      <td>20,809,914.27</td>\n",
              "      <td>759,658.66</td>\n",
              "      <td>100.00</td>\n",
              "      <td>4.00</td>\n",
              "      <td>1.00</td>\n",
              "      <td>1.00</td>\n",
              "      <td>100.00</td>\n",
              "      <td>0.00</td>\n",
              "      <td>0.00</td>\n",
              "      <td>0.00</td>\n",
              "      <td>114,471,023.70</td>\n",
              "      <td>3,242,301.38</td>\n",
              "      <td>679,611.00</td>\n",
              "      <td>599,114.00</td>\n",
              "      <td>132,430,686.00</td>\n",
              "      <td>989.70</td>\n",
              "      <td>340.43</td>\n",
              "      <td>810.84</td>\n",
              "      <td>149.26</td>\n",
              "      <td>965.46</td>\n",
              "      <td>141.30</td>\n",
              "      <td>2,765.00</td>\n",
              "      <td>2,560.00</td>\n",
              "      <td>2,694,938.00</td>\n",
              "      <td>49,334.00</td>\n",
              "      <td>8,623,552.00</td>\n",
              "      <td>3,088,454.00</td>\n",
              "      <td>2,689,327.00</td>\n",
              "      <td>700,440.00</td>\n",
              "      <td>17,448,518.00</td>\n",
              "      <td>16,515,562.00</td>\n",
              "      <td>17,470,478.00</td>\n",
              "      <td>16,507,268.00</td>\n",
              "      <td>633,174,167.00</td>\n",
              "      <td>12,431,624.00</td>\n",
              "      <td>631,691,786.00</td>\n",
              "      <td>12,384,148.00</td>\n",
              "      <td>49,034,238.00</td>\n",
              "      <td>665,705,138.00</td>\n",
              "    </tr>\n",
              "    <tr>\n",
              "      <th>max</th>\n",
              "      <td>13,186,541,167,134,199,808.00</td>\n",
              "      <td>999.00</td>\n",
              "      <td>999.00</td>\n",
              "      <td>1,859,336.00</td>\n",
              "      <td>214,074,303,349,628.00</td>\n",
              "      <td>882,397,108,489,451.00</td>\n",
              "      <td>99,001,201,327,774.00</td>\n",
              "      <td>96,923.00</td>\n",
              "      <td>7,120.00</td>\n",
              "      <td>378,160.00</td>\n",
              "      <td>58,613.00</td>\n",
              "      <td>4,294,425,570.00</td>\n",
              "      <td>2,908,226,006.00</td>\n",
              "      <td>100.00</td>\n",
              "      <td>93.00</td>\n",
              "      <td>100.00</td>\n",
              "      <td>94.00</td>\n",
              "      <td>100.00</td>\n",
              "      <td>98.00</td>\n",
              "      <td>100.00</td>\n",
              "      <td>96.00</td>\n",
              "      <td>72,530,636,168.00</td>\n",
              "      <td>1,491,889,672.00</td>\n",
              "      <td>136,536,461.00</td>\n",
              "      <td>144,911,293.00</td>\n",
              "      <td>1,859,336,442.00</td>\n",
              "      <td>81,476.00</td>\n",
              "      <td>85,412.00</td>\n",
              "      <td>58,525.00</td>\n",
              "      <td>50,553.00</td>\n",
              "      <td>66,913.00</td>\n",
              "      <td>49,565.00</td>\n",
              "      <td>604,061.00</td>\n",
              "      <td>604,122.00</td>\n",
              "      <td>3,586,064.00</td>\n",
              "      <td>65,870.00</td>\n",
              "      <td>11,462,832.00</td>\n",
              "      <td>4,121,357.00</td>\n",
              "      <td>3,586,146.00</td>\n",
              "      <td>936,418.00</td>\n",
              "      <td>23,259,098.00</td>\n",
              "      <td>22,011,962.00</td>\n",
              "      <td>23,259,189.00</td>\n",
              "      <td>22,011,955.00</td>\n",
              "      <td>843,441,889.00</td>\n",
              "      <td>16,558,794.00</td>\n",
              "      <td>843,442,489.00</td>\n",
              "      <td>16,558,816.00</td>\n",
              "      <td>78,331,311.00</td>\n",
              "      <td>902,969,616.00</td>\n",
              "    </tr>\n",
              "  </tbody>\n",
              "</table>\n",
              "</div>\n",
              "      <button class=\"colab-df-convert\" onclick=\"convertToInteractive('df-b89f7c32-556f-4000-bc28-5c5ed9550ad3')\"\n",
              "              title=\"Convert this dataframe to an interactive table.\"\n",
              "              style=\"display:none;\">\n",
              "        \n",
              "  <svg xmlns=\"http://www.w3.org/2000/svg\" height=\"24px\"viewBox=\"0 0 24 24\"\n",
              "       width=\"24px\">\n",
              "    <path d=\"M0 0h24v24H0V0z\" fill=\"none\"/>\n",
              "    <path d=\"M18.56 5.44l.94 2.06.94-2.06 2.06-.94-2.06-.94-.94-2.06-.94 2.06-2.06.94zm-11 1L8.5 8.5l.94-2.06 2.06-.94-2.06-.94L8.5 2.5l-.94 2.06-2.06.94zm10 10l.94 2.06.94-2.06 2.06-.94-2.06-.94-.94-2.06-.94 2.06-2.06.94z\"/><path d=\"M17.41 7.96l-1.37-1.37c-.4-.4-.92-.59-1.43-.59-.52 0-1.04.2-1.43.59L10.3 9.45l-7.72 7.72c-.78.78-.78 2.05 0 2.83L4 21.41c.39.39.9.59 1.41.59.51 0 1.02-.2 1.41-.59l7.78-7.78 2.81-2.81c.8-.78.8-2.07 0-2.86zM5.41 20L4 18.59l7.72-7.72 1.47 1.35L5.41 20z\"/>\n",
              "  </svg>\n",
              "      </button>\n",
              "      \n",
              "  <style>\n",
              "    .colab-df-container {\n",
              "      display:flex;\n",
              "      flex-wrap:wrap;\n",
              "      gap: 12px;\n",
              "    }\n",
              "\n",
              "    .colab-df-convert {\n",
              "      background-color: #E8F0FE;\n",
              "      border: none;\n",
              "      border-radius: 50%;\n",
              "      cursor: pointer;\n",
              "      display: none;\n",
              "      fill: #1967D2;\n",
              "      height: 32px;\n",
              "      padding: 0 0 0 0;\n",
              "      width: 32px;\n",
              "    }\n",
              "\n",
              "    .colab-df-convert:hover {\n",
              "      background-color: #E2EBFA;\n",
              "      box-shadow: 0px 1px 2px rgba(60, 64, 67, 0.3), 0px 1px 3px 1px rgba(60, 64, 67, 0.15);\n",
              "      fill: #174EA6;\n",
              "    }\n",
              "\n",
              "    [theme=dark] .colab-df-convert {\n",
              "      background-color: #3B4455;\n",
              "      fill: #D2E3FC;\n",
              "    }\n",
              "\n",
              "    [theme=dark] .colab-df-convert:hover {\n",
              "      background-color: #434B5C;\n",
              "      box-shadow: 0px 1px 3px 1px rgba(0, 0, 0, 0.15);\n",
              "      filter: drop-shadow(0px 1px 2px rgba(0, 0, 0, 0.3));\n",
              "      fill: #FFFFFF;\n",
              "    }\n",
              "  </style>\n",
              "\n",
              "      <script>\n",
              "        const buttonEl =\n",
              "          document.querySelector('#df-b89f7c32-556f-4000-bc28-5c5ed9550ad3 button.colab-df-convert');\n",
              "        buttonEl.style.display =\n",
              "          google.colab.kernel.accessAllowed ? 'block' : 'none';\n",
              "\n",
              "        async function convertToInteractive(key) {\n",
              "          const element = document.querySelector('#df-b89f7c32-556f-4000-bc28-5c5ed9550ad3');\n",
              "          const dataTable =\n",
              "            await google.colab.kernel.invokeFunction('convertToInteractive',\n",
              "                                                     [key], {});\n",
              "          if (!dataTable) return;\n",
              "\n",
              "          const docLinkHtml = 'Like what you see? Visit the ' +\n",
              "            '<a target=\"_blank\" href=https://colab.research.google.com/notebooks/data_table.ipynb>data table notebook</a>'\n",
              "            + ' to learn more about interactive tables.';\n",
              "          element.innerHTML = '';\n",
              "          dataTable['output_type'] = 'display_data';\n",
              "          await google.colab.output.renderOutput(dataTable, element);\n",
              "          const docLink = document.createElement('div');\n",
              "          docLink.innerHTML = docLinkHtml;\n",
              "          element.appendChild(docLink);\n",
              "        }\n",
              "      </script>\n",
              "    </div>\n",
              "  </div>\n",
              "  "
            ]
          },
          "metadata": {},
          "execution_count": 86
        }
      ]
    },
    {
      "cell_type": "code",
      "source": [
        "db[\"Total DL (Bytes)\"].describe()"
      ],
      "metadata": {
        "colab": {
          "base_uri": "https://localhost:8080/"
        },
        "id": "J_pGusuG7vv9",
        "outputId": "576154e4-d89f-4429-e207-6a11ada96f54"
      },
      "id": "J_pGusuG7vv9",
      "execution_count": 87,
      "outputs": [
        {
          "output_type": "execute_result",
          "data": {
            "text/plain": [
              "count       150,001.00\n",
              "mean    454,643,430.08\n",
              "std     244,142,060.57\n",
              "min       7,114,041.00\n",
              "25%     243,107,173.00\n",
              "50%     455,840,911.00\n",
              "75%     665,705,138.00\n",
              "max     902,969,616.00\n",
              "Name: Total DL (Bytes), dtype: float64"
            ]
          },
          "metadata": {},
          "execution_count": 87
        }
      ]
    },
    {
      "cell_type": "code",
      "source": [
        "db[\"Total UL (Bytes)\"].describe()"
      ],
      "metadata": {
        "colab": {
          "base_uri": "https://localhost:8080/"
        },
        "id": "tWoPoPcy748z",
        "outputId": "520db3b3-05ea-4a6c-c255-96715c6fa034"
      },
      "id": "tWoPoPcy748z",
      "execution_count": 88,
      "outputs": [
        {
          "output_type": "execute_result",
          "data": {
            "text/plain": [
              "count      150,001.00\n",
              "mean    41,121,206.29\n",
              "std     11,276,348.93\n",
              "min      2,866,892.00\n",
              "25%     33,222,029.00\n",
              "50%     41,143,242.00\n",
              "75%     49,034,238.00\n",
              "max     78,331,311.00\n",
              "Name: Total UL (Bytes), dtype: float64"
            ]
          },
          "metadata": {},
          "execution_count": 88
        }
      ]
    },
    {
      "cell_type": "code",
      "source": [
        "db[\"MSISDN/Number\"].describe()"
      ],
      "metadata": {
        "colab": {
          "base_uri": "https://localhost:8080/"
        },
        "id": "ckNxbALN761W",
        "outputId": "f24f0e74-32af-455d-89a3-d27117d8c34a"
      },
      "id": "ckNxbALN761W",
      "execution_count": 89,
      "outputs": [
        {
          "output_type": "execute_result",
          "data": {
            "text/plain": [
              "count               150,001.00\n",
              "mean         41,882,819,545.03\n",
              "std       2,438,731,270,479.18\n",
              "min          33,601,001,722.00\n",
              "25%          33,651,508,781.00\n",
              "50%          33,663,797,508.00\n",
              "75%          33,684,730,950.00\n",
              "max     882,397,108,489,451.00\n",
              "Name: MSISDN/Number, dtype: float64"
            ]
          },
          "metadata": {},
          "execution_count": 89
        }
      ]
    },
    {
      "cell_type": "code",
      "source": [
        "db.info()"
      ],
      "metadata": {
        "id": "BydtQM9vQcTm",
        "colab": {
          "base_uri": "https://localhost:8080/"
        },
        "outputId": "672fb21c-5ac1-4162-d053-71c49ac57889"
      },
      "id": "BydtQM9vQcTm",
      "execution_count": 90,
      "outputs": [
        {
          "output_type": "stream",
          "name": "stdout",
          "text": [
            "<class 'pandas.core.frame.DataFrame'>\n",
            "RangeIndex: 150001 entries, 0 to 150000\n",
            "Data columns (total 55 columns):\n",
            " #   Column                                    Non-Null Count   Dtype  \n",
            "---  ------                                    --------------   -----  \n",
            " 0   Bearer Id                                 150001 non-null  float64\n",
            " 1   Start                                     150001 non-null  object \n",
            " 2   Start ms                                  150001 non-null  float64\n",
            " 3   End                                       150001 non-null  object \n",
            " 4   End ms                                    150001 non-null  float64\n",
            " 5   Dur. (ms)                                 150001 non-null  float64\n",
            " 6   IMSI                                      150001 non-null  float64\n",
            " 7   MSISDN/Number                             150001 non-null  float64\n",
            " 8   IMEI                                      150001 non-null  float64\n",
            " 9   Last Location Name                        150001 non-null  object \n",
            " 10  Avg RTT DL (ms)                           150001 non-null  float64\n",
            " 11  Avg RTT UL (ms)                           150001 non-null  float64\n",
            " 12  Avg Bearer TP DL (kbps)                   150001 non-null  float64\n",
            " 13  Avg Bearer TP UL (kbps)                   150001 non-null  float64\n",
            " 14  TCP DL Retrans. Vol (Bytes)               150001 non-null  float64\n",
            " 15  TCP UL Retrans. Vol (Bytes)               150001 non-null  float64\n",
            " 16  DL TP < 50 Kbps (%)                       150001 non-null  float64\n",
            " 17  50 Kbps < DL TP < 250 Kbps (%)            150001 non-null  float64\n",
            " 18  250 Kbps < DL TP < 1 Mbps (%)             150001 non-null  float64\n",
            " 19  DL TP > 1 Mbps (%)                        150001 non-null  float64\n",
            " 20  UL TP < 10 Kbps (%)                       150001 non-null  float64\n",
            " 21  10 Kbps < UL TP < 50 Kbps (%)             150001 non-null  float64\n",
            " 22  50 Kbps < UL TP < 300 Kbps (%)            150001 non-null  float64\n",
            " 23  UL TP > 300 Kbps (%)                      150001 non-null  float64\n",
            " 24  HTTP DL (Bytes)                           150001 non-null  float64\n",
            " 25  HTTP UL (Bytes)                           150001 non-null  float64\n",
            " 26  Activity Duration DL (ms)                 150001 non-null  float64\n",
            " 27  Activity Duration UL (ms)                 150001 non-null  float64\n",
            " 28  Dur. (ms).1                               150001 non-null  float64\n",
            " 29  Handset Manufacturer                      150001 non-null  object \n",
            " 30  Handset Type                              150001 non-null  object \n",
            " 31  Nb of sec with 125000B < Vol DL           150001 non-null  float64\n",
            " 32  Nb of sec with 1250B < Vol UL < 6250B     150001 non-null  float64\n",
            " 33  Nb of sec with 31250B < Vol DL < 125000B  150001 non-null  float64\n",
            " 34  Nb of sec with 37500B < Vol UL            150001 non-null  float64\n",
            " 35  Nb of sec with 6250B < Vol DL < 31250B    150001 non-null  float64\n",
            " 36  Nb of sec with 6250B < Vol UL < 37500B    150001 non-null  float64\n",
            " 37  Nb of sec with Vol DL < 6250B             150001 non-null  float64\n",
            " 38  Nb of sec with Vol UL < 1250B             150001 non-null  float64\n",
            " 39  Social Media DL (Bytes)                   150001 non-null  float64\n",
            " 40  Social Media UL (Bytes)                   150001 non-null  float64\n",
            " 41  Google DL (Bytes)                         150001 non-null  float64\n",
            " 42  Google UL (Bytes)                         150001 non-null  float64\n",
            " 43  Email DL (Bytes)                          150001 non-null  float64\n",
            " 44  Email UL (Bytes)                          150001 non-null  float64\n",
            " 45  Youtube DL (Bytes)                        150001 non-null  float64\n",
            " 46  Youtube UL (Bytes)                        150001 non-null  float64\n",
            " 47  Netflix DL (Bytes)                        150001 non-null  float64\n",
            " 48  Netflix UL (Bytes)                        150001 non-null  float64\n",
            " 49  Gaming DL (Bytes)                         150001 non-null  float64\n",
            " 50  Gaming UL (Bytes)                         150001 non-null  float64\n",
            " 51  Other DL (Bytes)                          150001 non-null  float64\n",
            " 52  Other UL (Bytes)                          150001 non-null  float64\n",
            " 53  Total UL (Bytes)                          150001 non-null  float64\n",
            " 54  Total DL (Bytes)                          150001 non-null  float64\n",
            "dtypes: float64(50), object(5)\n",
            "memory usage: 62.9+ MB\n"
          ]
        }
      ]
    },
    {
      "cell_type": "code",
      "source": [
        "db.isna().sum()"
      ],
      "metadata": {
        "id": "iEkWoes0Qf5r",
        "colab": {
          "base_uri": "https://localhost:8080/"
        },
        "outputId": "67703f76-caae-45ff-c3a1-f183c5d7ecd4"
      },
      "id": "iEkWoes0Qf5r",
      "execution_count": 91,
      "outputs": [
        {
          "output_type": "execute_result",
          "data": {
            "text/plain": [
              "Bearer Id                                   0\n",
              "Start                                       0\n",
              "Start ms                                    0\n",
              "End                                         0\n",
              "End ms                                      0\n",
              "Dur. (ms)                                   0\n",
              "IMSI                                        0\n",
              "MSISDN/Number                               0\n",
              "IMEI                                        0\n",
              "Last Location Name                          0\n",
              "Avg RTT DL (ms)                             0\n",
              "Avg RTT UL (ms)                             0\n",
              "Avg Bearer TP DL (kbps)                     0\n",
              "Avg Bearer TP UL (kbps)                     0\n",
              "TCP DL Retrans. Vol (Bytes)                 0\n",
              "TCP UL Retrans. Vol (Bytes)                 0\n",
              "DL TP < 50 Kbps (%)                         0\n",
              "50 Kbps < DL TP < 250 Kbps (%)              0\n",
              "250 Kbps < DL TP < 1 Mbps (%)               0\n",
              "DL TP > 1 Mbps (%)                          0\n",
              "UL TP < 10 Kbps (%)                         0\n",
              "10 Kbps < UL TP < 50 Kbps (%)               0\n",
              "50 Kbps < UL TP < 300 Kbps (%)              0\n",
              "UL TP > 300 Kbps (%)                        0\n",
              "HTTP DL (Bytes)                             0\n",
              "HTTP UL (Bytes)                             0\n",
              "Activity Duration DL (ms)                   0\n",
              "Activity Duration UL (ms)                   0\n",
              "Dur. (ms).1                                 0\n",
              "Handset Manufacturer                        0\n",
              "Handset Type                                0\n",
              "Nb of sec with 125000B < Vol DL             0\n",
              "Nb of sec with 1250B < Vol UL < 6250B       0\n",
              "Nb of sec with 31250B < Vol DL < 125000B    0\n",
              "Nb of sec with 37500B < Vol UL              0\n",
              "Nb of sec with 6250B < Vol DL < 31250B      0\n",
              "Nb of sec with 6250B < Vol UL < 37500B      0\n",
              "Nb of sec with Vol DL < 6250B               0\n",
              "Nb of sec with Vol UL < 1250B               0\n",
              "Social Media DL (Bytes)                     0\n",
              "Social Media UL (Bytes)                     0\n",
              "Google DL (Bytes)                           0\n",
              "Google UL (Bytes)                           0\n",
              "Email DL (Bytes)                            0\n",
              "Email UL (Bytes)                            0\n",
              "Youtube DL (Bytes)                          0\n",
              "Youtube UL (Bytes)                          0\n",
              "Netflix DL (Bytes)                          0\n",
              "Netflix UL (Bytes)                          0\n",
              "Gaming DL (Bytes)                           0\n",
              "Gaming UL (Bytes)                           0\n",
              "Other DL (Bytes)                            0\n",
              "Other UL (Bytes)                            0\n",
              "Total UL (Bytes)                            0\n",
              "Total DL (Bytes)                            0\n",
              "dtype: int64"
            ]
          },
          "metadata": {},
          "execution_count": 91
        }
      ]
    },
    {
      "cell_type": "code",
      "source": [
        "# sns.histplot(x=db[columns]['Total UL (Bytes)'], data =db)"
      ],
      "metadata": {
        "id": "d5tNxGwdO_tP"
      },
      "id": "d5tNxGwdO_tP",
      "execution_count": 92,
      "outputs": []
    },
    {
      "cell_type": "code",
      "source": [
        "# sns.histplot(x=db[columns]['Total DL (Bytes)'], data =db)"
      ],
      "metadata": {
        "id": "fqc-9sBnPKH0"
      },
      "id": "fqc-9sBnPKH0",
      "execution_count": 93,
      "outputs": []
    },
    {
      "cell_type": "markdown",
      "source": [
        "### Bivariate analysis\n",
        "#### Applications Vs Total DL and Total UL"
      ],
      "metadata": {
        "id": "u6V_VWfJT20H"
      },
      "id": "u6V_VWfJT20H"
    },
    {
      "cell_type": "code",
      "source": [
        "db_explore_100 = db_explore.head(100)\n",
        "sns.barplot(x='Total DL (Bytes)',y='Social Media DL (Bytes)',data=db_explore_100)\n",
        "# sns.countplot(x='Total DL (Bytes)',data=db) \n",
        "#boxplot, violinplot, stripplot, swarmplot, barplot also works"
      ],
      "metadata": {
        "id": "pTSZnPeqSShg",
        "colab": {
          "base_uri": "https://localhost:8080/",
          "height": 307
        },
        "outputId": "8f67bf05-0d64-4a05-ab1b-657693b271b5"
      },
      "id": "pTSZnPeqSShg",
      "execution_count": 94,
      "outputs": [
        {
          "output_type": "execute_result",
          "data": {
            "text/plain": [
              "<matplotlib.axes._subplots.AxesSubplot at 0x7f7227adee90>"
            ]
          },
          "metadata": {},
          "execution_count": 94
        },
        {
          "output_type": "display_data",
          "data": {
            "text/plain": [
              "<Figure size 432x288 with 1 Axes>"
            ],
            "image/png": "[encoded data removed]"
          },
          "metadata": {
            "needs_background": "light"
          }
        }
      ]
    },
    {
      "cell_type": "code",
      "source": [
        "sns.barplot(x='Total DL (Bytes)',y='Social Media UL (Bytes)',data=db_explore)"
      ],
      "metadata": {
        "colab": {
          "base_uri": "https://localhost:8080/"
        },
        "id": "XHAuCGFjgR9t",
        "outputId": "658587c5-3160-4b8a-9814-066d8857609e"
      },
      "id": "XHAuCGFjgR9t",
      "execution_count": null,
      "outputs": [
        {
          "output_type": "execute_result",
          "data": {
            "text/plain": [
              "<matplotlib.axes._subplots.AxesSubplot at 0x7f721ff46c10>"
            ]
          },
          "metadata": {},
          "execution_count": 95
        }
      ]
    },
    {
      "cell_type": "code",
      "source": [
        "sns.barplot(x='Total DL (Bytes)',y='Social Media UL (Bytes)',data=db_explore)"
      ],
      "metadata": {
        "id": "eweH814N2w36"
      },
      "id": "eweH814N2w36",
      "execution_count": null,
      "outputs": []
    },
    {
      "cell_type": "code",
      "source": [
        "sns.barplot(x='Total UL (Bytes)',y='Social Media DL (Bytes)',data=db_explore_100)"
      ],
      "metadata": {
        "id": "9rRnaExHk9JA"
      },
      "id": "9rRnaExHk9JA",
      "execution_count": null,
      "outputs": []
    },
    {
      "cell_type": "code",
      "source": [
        "sns.barplot(x='Total UL (Bytes)',y='Social Media UL (Bytes)',data=db_explore_100)"
      ],
      "metadata": {
        "id": "1lp05ST3lM15"
      },
      "id": "1lp05ST3lM15",
      "execution_count": null,
      "outputs": []
    },
    {
      "cell_type": "code",
      "source": [
        "sns.regplot(x='Total DL (Bytes)',y='Google DL (Bytes)',data=db_explore_100)"
      ],
      "metadata": {
        "id": "sgkysIeIgvIF"
      },
      "id": "sgkysIeIgvIF",
      "execution_count": null,
      "outputs": []
    },
    {
      "cell_type": "code",
      "source": [
        "sns.regplot(x='Total DL (Bytes)',y='Google UL (Bytes)',data=db_explore_100)"
      ],
      "metadata": {
        "id": "BqCzZI4gg169"
      },
      "id": "BqCzZI4gg169",
      "execution_count": null,
      "outputs": []
    },
    {
      "cell_type": "code",
      "source": [
        "sns.regplot(x='Total UL (Bytes)',y='Google DL (Bytes)',data=db_explore_100)"
      ],
      "metadata": {
        "id": "g9laNRTNlYvm"
      },
      "id": "g9laNRTNlYvm",
      "execution_count": null,
      "outputs": []
    },
    {
      "cell_type": "code",
      "source": [
        "sns.regplot(x='Total UL (Bytes)',y='Google UL (Bytes)',data=db_explore_100)"
      ],
      "metadata": {
        "id": "p9MYxH6jlY7M"
      },
      "id": "p9MYxH6jlY7M",
      "execution_count": null,
      "outputs": []
    },
    {
      "cell_type": "code",
      "source": [
        "sns.stripplot(x='Total DL (Bytes)',y='Email DL (Bytes)',data=db_explore_100)"
      ],
      "metadata": {
        "id": "wo3AMvLfg43V"
      },
      "id": "wo3AMvLfg43V",
      "execution_count": null,
      "outputs": []
    },
    {
      "cell_type": "code",
      "source": [
        "sns.stripplot(x='Total DL (Bytes)',y='Email UL (Bytes)',data=db_explore_100)"
      ],
      "metadata": {
        "id": "alejjhpWhB21"
      },
      "id": "alejjhpWhB21",
      "execution_count": null,
      "outputs": []
    },
    {
      "cell_type": "code",
      "source": [
        "sns.stripplot(x='Total UL (Bytes)',y='Email DL (Bytes)',data=db_explore_100)"
      ],
      "metadata": {
        "id": "oSbBDr78lgdP"
      },
      "id": "oSbBDr78lgdP",
      "execution_count": null,
      "outputs": []
    },
    {
      "cell_type": "code",
      "source": [
        "sns.stripplot(x='Total UL (Bytes)',y='Email UL (Bytes)',data=db_explore_100)"
      ],
      "metadata": {
        "id": "V2iDeK7WlgpH"
      },
      "id": "V2iDeK7WlgpH",
      "execution_count": null,
      "outputs": []
    },
    {
      "cell_type": "code",
      "source": [
        "sns.regplot(x='Total DL (Bytes)',y='Youtube DL (Bytes)',data=db_explore_100)"
      ],
      "metadata": {
        "id": "F1KxZrbNhFkx"
      },
      "id": "F1KxZrbNhFkx",
      "execution_count": null,
      "outputs": []
    },
    {
      "cell_type": "code",
      "source": [
        "sns.regplot(x='Total DL (Bytes)',y='Youtube UL (Bytes)',data=db_explore_100)"
      ],
      "metadata": {
        "id": "jGQfA0kGjKS4"
      },
      "id": "jGQfA0kGjKS4",
      "execution_count": null,
      "outputs": []
    },
    {
      "cell_type": "code",
      "source": [
        "sns.regplot(x='Total UL (Bytes)',y='Youtube DL (Bytes)',data=db_explore_100)"
      ],
      "metadata": {
        "id": "1Ns32-xFlqQi"
      },
      "id": "1Ns32-xFlqQi",
      "execution_count": null,
      "outputs": []
    },
    {
      "cell_type": "code",
      "source": [
        "sns.regplot(x='Total UL (Bytes)',y='Youtube UL (Bytes)',data=db_explore_100)"
      ],
      "metadata": {
        "id": "BFQL97dmlrud"
      },
      "id": "BFQL97dmlrud",
      "execution_count": null,
      "outputs": []
    },
    {
      "cell_type": "code",
      "source": [
        "sns.barplot(x='Total DL (Bytes)',y='Netflix DL (Bytes)',data=db_explore_100)"
      ],
      "metadata": {
        "id": "L6HZbkg1jusr"
      },
      "id": "L6HZbkg1jusr",
      "execution_count": null,
      "outputs": []
    },
    {
      "cell_type": "code",
      "source": [
        "sns.barplot(x='Total DL (Bytes)',y='Netflix UL (Bytes)',data=db_explore_100)"
      ],
      "metadata": {
        "id": "7M3Ewy8Xj3rF"
      },
      "id": "7M3Ewy8Xj3rF",
      "execution_count": null,
      "outputs": []
    },
    {
      "cell_type": "code",
      "source": [
        "sns.barplot(x='Total UL (Bytes)',y='Netflix DL (Bytes)',data=db_explore_100)"
      ],
      "metadata": {
        "id": "7Ea-lLW8lyoW"
      },
      "id": "7Ea-lLW8lyoW",
      "execution_count": null,
      "outputs": []
    },
    {
      "cell_type": "code",
      "source": [
        "sns.barplot(x='Total UL (Bytes)',y='Netflix UL (Bytes)',data=db_explore_100)"
      ],
      "metadata": {
        "id": "sSb5gVdxlyzk"
      },
      "id": "sSb5gVdxlyzk",
      "execution_count": null,
      "outputs": []
    },
    {
      "cell_type": "code",
      "source": [
        "sns.regplot(x='Total DL (Bytes)',y='Gaming DL (Bytes)',data=db_explore_100)"
      ],
      "metadata": {
        "id": "T0ZrhluRj8Yd"
      },
      "id": "T0ZrhluRj8Yd",
      "execution_count": null,
      "outputs": []
    },
    {
      "cell_type": "code",
      "source": [
        "sns.regplot(x='Total DL (Bytes)',y='Gaming UL (Bytes)',data=db_explore_100)"
      ],
      "metadata": {
        "id": "c-HipBWhj9FF"
      },
      "id": "c-HipBWhj9FF",
      "execution_count": null,
      "outputs": []
    },
    {
      "cell_type": "code",
      "source": [
        "sns.regplot(x='Total UL (Bytes)',y='Gaming DL (Bytes)',data=db_explore_100)"
      ],
      "metadata": {
        "id": "Z4tOHUqSl_Hl"
      },
      "id": "Z4tOHUqSl_Hl",
      "execution_count": null,
      "outputs": []
    },
    {
      "cell_type": "code",
      "source": [
        "sns.regplot(x='Total UL (Bytes)',y='Gaming UL (Bytes)',data=db_explore_100)"
      ],
      "metadata": {
        "id": "1g0uvIrCl_Vm"
      },
      "id": "1g0uvIrCl_Vm",
      "execution_count": null,
      "outputs": []
    },
    {
      "cell_type": "code",
      "source": [
        "sns.regplot(x='Total DL (Bytes)',y='Other DL (Bytes)',data=db_explore_100)"
      ],
      "metadata": {
        "id": "kbwda0G-kOO4"
      },
      "id": "kbwda0G-kOO4",
      "execution_count": null,
      "outputs": []
    },
    {
      "cell_type": "code",
      "source": [
        "sns.regplot(x='Total DL (Bytes)',y='Other UL (Bytes)',data=db_explore_100)"
      ],
      "metadata": {
        "id": "QBGjRdl4kTVM"
      },
      "id": "QBGjRdl4kTVM",
      "execution_count": null,
      "outputs": []
    },
    {
      "cell_type": "code",
      "source": [
        "sns.regplot(x='Total UL (Bytes)',y='Other DL (Bytes)',data=db_explore_100)"
      ],
      "metadata": {
        "id": "dpBYEwT9mMy9"
      },
      "id": "dpBYEwT9mMy9",
      "execution_count": null,
      "outputs": []
    },
    {
      "cell_type": "code",
      "source": [
        "sns.regplot(x='Total UL (Bytes)',y='Other UL (Bytes)',data=db_explore_100)"
      ],
      "metadata": {
        "id": "mMv3_NikmM-T"
      },
      "id": "mMv3_NikmM-T",
      "execution_count": null,
      "outputs": []
    },
    {
      "cell_type": "markdown",
      "source": [
        "### Multivariate Analysis"
      ],
      "metadata": {
        "id": "9svpXtakAwc3"
      },
      "id": "9svpXtakAwc3"
    },
    {
      "cell_type": "code",
      "source": [
        "plot_scatter(db_explore.head(100), x_col=\"MSISDN/Number\", y_col=\"Social Media DL (Bytes)\", hue=\"Social Media UL (Bytes)\",\n",
        "             style=\"Social Media UL (Bytes)\", title=\"Social media DL consumption per user\")"
      ],
      "metadata": {
        "id": "l1sv1tNDA0GJ"
      },
      "id": "l1sv1tNDA0GJ",
      "execution_count": null,
      "outputs": []
    },
    {
      "cell_type": "code",
      "source": [
        "plot_scatter(db_explore.head(100), x_col=\"MSISDN/Number\", y_col=\"Total DL (Bytes)\", hue=\"Total UL (Bytes)\",\n",
        "             style=\"Total UL (Bytes)\", title=\"Total DL consumption per user\")"
      ],
      "metadata": {
        "id": "Rp4SOlNdB_a1"
      },
      "id": "Rp4SOlNdB_a1",
      "execution_count": null,
      "outputs": []
    },
    {
      "cell_type": "code",
      "source": [
        "plot_box_multi(db_explore.head(100), x_col=\"MSISDN/Number\", y_col=\"TCP DL Retrans. Vol (Bytes)\", \n",
        "               title=\"TCP DL Retrans. Vol (Bytes) outilers in MSISDN/Number column\")"
      ],
      "metadata": {
        "id": "sbwldqbICuhl"
      },
      "id": "sbwldqbICuhl",
      "execution_count": null,
      "outputs": []
    },
    {
      "cell_type": "code",
      "source": [
        "dfPair = db_explore.head(50)[[\"MSISDN/Number\", \"Dur. (ms)\", \"Avg RTT DL (ms)\", \"Social Media DL (Bytes)\", \"Total DL (Bytes)\"]]\n",
        "sns.pairplot(dfPair, hue = 'Total DL (Bytes)', diag_kind = 'kde',\n",
        "             plot_kws = {'alpha': 0.6, 's': 80, 'edgecolor': 'k'},\n",
        "             height=4)"
      ],
      "metadata": {
        "id": "b6DF3tfZDdgV"
      },
      "id": "b6DF3tfZDdgV",
      "execution_count": null,
      "outputs": []
    },
    {
      "cell_type": "code",
      "source": [
        "dfPair = db_explore.head(50)[[\"MSISDN/Number\", \"Dur. (ms)\", \"Avg RTT DL (ms)\", \"Social Media DL (Bytes)\", \"Total DL (Bytes)\"]]\n",
        "sns.pairplot(dfPair, hue = 'Total DL (Bytes)', diag_kind = 'kde',height=4)"
      ],
      "metadata": {
        "id": "68G2mRitFp7X"
      },
      "id": "68G2mRitFp7X",
      "execution_count": null,
      "outputs": []
    },
    {
      "cell_type": "markdown",
      "source": [
        "### Deciles"
      ],
      "metadata": {
        "id": "3XtiHGhTpPPd"
      },
      "id": "3XtiHGhTpPPd"
    },
    {
      "cell_type": "code",
      "source": [
        "decile_columns = ['MSISDN/Number','Dur. (ms)','Total UL (Bytes)', 'Total DL (Bytes)' ] # to limit the number of columns to be displayed\n",
        "db_decile = db_explore[decile_columns]\n",
        "# df:pd.DataFrame, agg_column:str, agg_metric:str, col_name:str, top:int, order=False\n",
        "db_decile_group = find_agg(db_decile, \"MSISDN/Number\", \"sum\",\"Dur. (Bytes)\", 100, order = True)\n",
        "db_decile_group.head(10)\n",
        "\n",
        "# db_decile_group[\"Dur. Rank\"] = pd.qcut(db_decile_group['Dur. (ms)'], 5, labels = ['Dec 1','Dec 2','Dec 3','Dec 4','Dec 5'])\n",
        "# db_decile_group"
      ],
      "metadata": {
        "id": "ThWp7AHXpZNO"
      },
      "id": "ThWp7AHXpZNO",
      "execution_count": null,
      "outputs": []
    },
    {
      "cell_type": "code",
      "source": [
        "db_decile_Tot_DL = db_decile.groupby(pd.qcut(db_decile[\"Total DL (Bytes)\"], 5))['Total DL (Bytes)'].sum()\n",
        "db_decile_group[\"Dur. Rank\"] = pd.qcut(db_decile_group['Dur. (ms)'], 5, labels = ['Dec 1','Dec 2','Dec 3','Dec 4','Dec 5'])\n",
        "db_decile_Tot_group"
      ],
      "metadata": {
        "id": "2KUJHSSSqE5Q"
      },
      "id": "2KUJHSSSqE5Q",
      "execution_count": null,
      "outputs": []
    },
    {
      "cell_type": "markdown",
      "source": [
        "### Correlation Analysis"
      ],
      "metadata": {
        "id": "X2OXmbRlVJ0Y"
      },
      "id": "X2OXmbRlVJ0Y"
    },
    {
      "cell_type": "code",
      "source": [
        "# db['Total UL (Bytes)'].corr(method='pearson')\n",
        "db.corr(method='pearson')"
      ],
      "metadata": {
        "id": "7cV1CItZS8gp"
      },
      "id": "7cV1CItZS8gp",
      "execution_count": null,
      "outputs": []
    },
    {
      "cell_type": "code",
      "source": [
        ""
      ],
      "metadata": {
        "id": "1tJyyd7rUiYr"
      },
      "id": "1tJyyd7rUiYr",
      "execution_count": null,
      "outputs": []
    }
  ],
  "metadata": {
    "kernelspec": {
      "display_name": "Python 3",
      "language": "python",
      "name": "python3"
    },
    "language_info": {
      "codemirror_mode": {
        "name": "ipython",
        "version": 3
      },
      "file_extension": ".py",
      "mimetype": "text/x-python",
      "name": "python",
      "nbconvert_exporter": "python",
      "pygments_lexer": "ipython3",
      "version": "3.9.5"
    },
    "colab": {
      "name": "UserOverviewAnalysis.ipynb",
      "provenance": [],
      "collapsed_sections": []
    }
  },
  "nbformat": 4,
  "nbformat_minor": 5
}