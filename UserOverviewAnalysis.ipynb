{
  "cells": [
    {
      "cell_type": "markdown",
      "metadata": {
        "id": "view-in-github",
        "colab_type": "text"
      },
      "source": [
        "<a href=\"https://colab.research.google.com/github/YasabnehT/Telecom_Data_Analysis/blob/main/UserOverviewAnalysis.ipynb\" target=\"_parent\"><img src=\"https://colab.research.google.com/assets/colab-badge.svg\" alt=\"Open In Colab\"/></a>"
      ]
    },
    {
      "cell_type": "markdown",
      "id": "aa4ed27a",
      "metadata": {
        "id": "aa4ed27a"
      },
      "source": [
        "**Data Cleaning is one of the essential step towards making real meaning of any dataset. It makes the data ready for modelling and analysis**.\n",
        "\n",
        "Here you will be learning how to do data cleaning."
      ]
    },
    {
      "cell_type": "code",
      "execution_count": 1,
      "id": "ee45d041",
      "metadata": {
        "id": "ee45d041"
      },
      "outputs": [],
      "source": [
        "import pandas as pd\n",
        "import numpy as np\n",
        "from IPython.display import Image"
      ]
    },
    {
      "cell_type": "code",
      "source": [
        "from google.colab import drive\n",
        "drive.mount('/content/drive')"
      ],
      "metadata": {
        "colab": {
          "base_uri": "https://localhost:8080/"
        },
        "id": "49URzGF-GcAN",
        "outputId": "f870e001-aeb6-4839-dfaa-2c210c9e1175"
      },
      "id": "49URzGF-GcAN",
      "execution_count": 2,
      "outputs": [
        {
          "output_type": "stream",
          "name": "stdout",
          "text": [
            "Mounted at /content/drive\n"
          ]
        }
      ]
    },
    {
      "cell_type": "markdown",
      "source": [
        "# **Identify datasets with NaN or None values**"
      ],
      "metadata": {
        "id": "ChJRgw2D9PfD"
      },
      "id": "ChJRgw2D9PfD"
    },
    {
      "cell_type": "code",
      "execution_count": 30,
      "id": "f1d57c38",
      "metadata": {
        "colab": {
          "base_uri": "https://localhost:8080/",
          "height": 583
        },
        "id": "f1d57c38",
        "outputId": "e1f9b19c-b5cf-4e46-ac10-f47430b35657"
      },
      "outputs": [
        {
          "output_type": "execute_result",
          "data": {
            "text/plain": [
              "      Bearer Id            Start  Start ms              End  End ms  \\\n",
              "0  1.311448e+19   4/4/2019 12:01     770.0  4/25/2019 14:35   662.0   \n",
              "1  1.311448e+19   4/9/2019 13:04     235.0   4/25/2019 8:15   606.0   \n",
              "2  1.311448e+19   4/9/2019 17:42       1.0  4/25/2019 11:58   652.0   \n",
              "3  1.311448e+19   4/10/2019 0:31     486.0   4/25/2019 7:36   171.0   \n",
              "4  1.311448e+19  4/12/2019 20:10     565.0  4/25/2019 10:40   954.0   \n",
              "\n",
              "   Dur. (ms)          IMSI  MSISDN/Number          IMEI  \\\n",
              "0  1823652.0  2.082014e+14   3.366496e+10  3.552121e+13   \n",
              "1  1365104.0  2.082019e+14   3.368185e+10  3.579401e+13   \n",
              "2  1361762.0  2.082003e+14   3.376063e+10  3.528151e+13   \n",
              "3  1321509.0  2.082014e+14   3.375034e+10  3.535661e+13   \n",
              "4  1089009.0  2.082014e+14   3.369980e+10  3.540701e+13   \n",
              "\n",
              "      Last Location Name  Avg RTT DL (ms)  Avg RTT UL (ms)  \\\n",
              "0  9.16456699548519E+015             42.0              5.0   \n",
              "1                L77566A             65.0              5.0   \n",
              "2                D42335A              NaN              NaN   \n",
              "3                T21824A              NaN              NaN   \n",
              "4                D88865A              NaN              NaN   \n",
              "\n",
              "   Avg Bearer TP DL (kbps)  Avg Bearer TP UL (kbps)  \\\n",
              "0                     23.0                     44.0   \n",
              "1                     16.0                     26.0   \n",
              "2                      6.0                      9.0   \n",
              "3                     44.0                     44.0   \n",
              "4                      6.0                      9.0   \n",
              "\n",
              "   TCP DL Retrans. Vol (Bytes)  TCP UL Retrans. Vol (Bytes)  \\\n",
              "0                          NaN                          NaN   \n",
              "1                          NaN                          NaN   \n",
              "2                          NaN                          NaN   \n",
              "3                          NaN                          NaN   \n",
              "4                          NaN                          NaN   \n",
              "\n",
              "   DL TP < 50 Kbps (%)  50 Kbps < DL TP < 250 Kbps (%)  \\\n",
              "0                100.0                             0.0   \n",
              "1                100.0                             0.0   \n",
              "2                100.0                             0.0   \n",
              "3                100.0                             0.0   \n",
              "4                100.0                             0.0   \n",
              "\n",
              "   250 Kbps < DL TP < 1 Mbps (%)  DL TP > 1 Mbps (%)  UL TP < 10 Kbps (%)  \\\n",
              "0                            0.0                 0.0                100.0   \n",
              "1                            0.0                 0.0                100.0   \n",
              "2                            0.0                 0.0                100.0   \n",
              "3                            0.0                 0.0                100.0   \n",
              "4                            0.0                 0.0                100.0   \n",
              "\n",
              "   10 Kbps < UL TP < 50 Kbps (%)  50 Kbps < UL TP < 300 Kbps (%)  \\\n",
              "0                            0.0                             0.0   \n",
              "1                            0.0                             0.0   \n",
              "2                            0.0                             0.0   \n",
              "3                            0.0                             0.0   \n",
              "4                            0.0                             0.0   \n",
              "\n",
              "   UL TP > 300 Kbps (%)  HTTP DL (Bytes)  HTTP UL (Bytes)  \\\n",
              "0                   0.0              NaN              NaN   \n",
              "1                   0.0              NaN              NaN   \n",
              "2                   0.0              NaN              NaN   \n",
              "3                   0.0              NaN              NaN   \n",
              "4                   0.0              NaN              NaN   \n",
              "\n",
              "   Activity Duration DL (ms)  Activity Duration UL (ms)   Dur. (ms).1  \\\n",
              "0                    37624.0                    38787.0  1.823653e+09   \n",
              "1                      168.0                     3560.0  1.365104e+09   \n",
              "2                        0.0                        0.0  1.361763e+09   \n",
              "3                     3330.0                    37882.0  1.321510e+09   \n",
              "4                        0.0                        0.0  1.089009e+09   \n",
              "\n",
              "  Handset Manufacturer                 Handset Type  \\\n",
              "0              Samsung   Samsung Galaxy A5 Sm-A520F   \n",
              "1              Samsung  Samsung Galaxy J5 (Sm-J530)   \n",
              "2              Samsung     Samsung Galaxy A8 (2018)   \n",
              "3                  NaN                          NaN   \n",
              "4              Samsung             Samsung Sm-G390F   \n",
              "\n",
              "   Nb of sec with 125000B < Vol DL  Nb of sec with 1250B < Vol UL < 6250B  \\\n",
              "0                              NaN                                    NaN   \n",
              "1                              NaN                                    NaN   \n",
              "2                              NaN                                    NaN   \n",
              "3                              NaN                                    NaN   \n",
              "4                              NaN                                    NaN   \n",
              "\n",
              "   Nb of sec with 31250B < Vol DL < 125000B  Nb of sec with 37500B < Vol UL  \\\n",
              "0                                       NaN                             NaN   \n",
              "1                                       NaN                             NaN   \n",
              "2                                       NaN                             NaN   \n",
              "3                                       NaN                             NaN   \n",
              "4                                       NaN                             NaN   \n",
              "\n",
              "   Nb of sec with 6250B < Vol DL < 31250B  \\\n",
              "0                                     NaN   \n",
              "1                                     NaN   \n",
              "2                                     NaN   \n",
              "3                                     NaN   \n",
              "4                                     NaN   \n",
              "\n",
              "   Nb of sec with 6250B < Vol UL < 37500B  Nb of sec with Vol DL < 6250B  \\\n",
              "0                                     NaN                          213.0   \n",
              "1                                     NaN                          971.0   \n",
              "2                                     NaN                          751.0   \n",
              "3                                     NaN                           17.0   \n",
              "4                                     NaN                          607.0   \n",
              "\n",
              "   Nb of sec with Vol UL < 1250B  Social Media DL (Bytes)  \\\n",
              "0                          214.0                1545765.0   \n",
              "1                         1022.0                1926113.0   \n",
              "2                          695.0                1684053.0   \n",
              "3                          207.0                 644121.0   \n",
              "4                          604.0                 862600.0   \n",
              "\n",
              "   Social Media UL (Bytes)  Google DL (Bytes)  Google UL (Bytes)  \\\n",
              "0                  24420.0          1634479.0          1271433.0   \n",
              "1                   7165.0          3493924.0           920172.0   \n",
              "2                  42224.0          8535055.0          1694064.0   \n",
              "3                  13372.0          9023734.0          2788027.0   \n",
              "4                  50188.0          6248284.0          1500559.0   \n",
              "\n",
              "   Email DL (Bytes)  Email UL (Bytes)  Youtube DL (Bytes)  Youtube UL (Bytes)  \\\n",
              "0         3563542.0          137762.0          15854611.0           2501332.0   \n",
              "1          629046.0          308339.0          20247395.0          19111729.0   \n",
              "2         2690151.0          672973.0          19725661.0          14699576.0   \n",
              "3         1439754.0          631229.0          21388122.0          15146643.0   \n",
              "4         1936496.0          173853.0          15259380.0          18962873.0   \n",
              "\n",
              "   Netflix DL (Bytes)  Netflix UL (Bytes)  Gaming DL (Bytes)  \\\n",
              "0           8198936.0           9656251.0        278082303.0   \n",
              "1          18338413.0          17227132.0        608750074.0   \n",
              "2          17587794.0           6163408.0        229584621.0   \n",
              "3          13994646.0           1097942.0        799538153.0   \n",
              "4          17124581.0            415218.0        527707248.0   \n",
              "\n",
              "   Gaming UL (Bytes)  Other DL (Bytes)  Other UL (Bytes)  Total UL (Bytes)  \\\n",
              "0         14344150.0       171744450.0         8814393.0        36749741.0   \n",
              "1          1170709.0       526904238.0        15055145.0        53800391.0   \n",
              "2           395630.0       410692588.0         4215763.0        27883638.0   \n",
              "3         10849722.0       749039933.0        12797283.0        43324218.0   \n",
              "4          3529801.0       550709500.0        13910322.0        38542814.0   \n",
              "\n",
              "   Total DL (Bytes)  \n",
              "0       308879636.0  \n",
              "1       653384965.0  \n",
              "2       279807335.0  \n",
              "3       846028530.0  \n",
              "4       569138589.0  "
            ],
            "text/html": [
              "\n",
              "  <div id=\"df-f6671ef7-d12d-4f20-90f9-296be270d121\">\n",
              "    <div class=\"colab-df-container\">\n",
              "      <div>\n",
              "<style scoped>\n",
              "    .dataframe tbody tr th:only-of-type {\n",
              "        vertical-align: middle;\n",
              "    }\n",
              "\n",
              "    .dataframe tbody tr th {\n",
              "        vertical-align: top;\n",
              "    }\n",
              "\n",
              "    .dataframe thead th {\n",
              "        text-align: right;\n",
              "    }\n",
              "</style>\n",
              "<table border=\"1\" class=\"dataframe\">\n",
              "  <thead>\n",
              "    <tr style=\"text-align: right;\">\n",
              "      <th></th>\n",
              "      <th>Bearer Id</th>\n",
              "      <th>Start</th>\n",
              "      <th>Start ms</th>\n",
              "      <th>End</th>\n",
              "      <th>End ms</th>\n",
              "      <th>Dur. (ms)</th>\n",
              "      <th>IMSI</th>\n",
              "      <th>MSISDN/Number</th>\n",
              "      <th>IMEI</th>\n",
              "      <th>Last Location Name</th>\n",
              "      <th>Avg RTT DL (ms)</th>\n",
              "      <th>Avg RTT UL (ms)</th>\n",
              "      <th>Avg Bearer TP DL (kbps)</th>\n",
              "      <th>Avg Bearer TP UL (kbps)</th>\n",
              "      <th>TCP DL Retrans. Vol (Bytes)</th>\n",
              "      <th>TCP UL Retrans. Vol (Bytes)</th>\n",
              "      <th>DL TP &lt; 50 Kbps (%)</th>\n",
              "      <th>50 Kbps &lt; DL TP &lt; 250 Kbps (%)</th>\n",
              "      <th>250 Kbps &lt; DL TP &lt; 1 Mbps (%)</th>\n",
              "      <th>DL TP &gt; 1 Mbps (%)</th>\n",
              "      <th>UL TP &lt; 10 Kbps (%)</th>\n",
              "      <th>10 Kbps &lt; UL TP &lt; 50 Kbps (%)</th>\n",
              "      <th>50 Kbps &lt; UL TP &lt; 300 Kbps (%)</th>\n",
              "      <th>UL TP &gt; 300 Kbps (%)</th>\n",
              "      <th>HTTP DL (Bytes)</th>\n",
              "      <th>HTTP UL (Bytes)</th>\n",
              "      <th>Activity Duration DL (ms)</th>\n",
              "      <th>Activity Duration UL (ms)</th>\n",
              "      <th>Dur. (ms).1</th>\n",
              "      <th>Handset Manufacturer</th>\n",
              "      <th>Handset Type</th>\n",
              "      <th>Nb of sec with 125000B &lt; Vol DL</th>\n",
              "      <th>Nb of sec with 1250B &lt; Vol UL &lt; 6250B</th>\n",
              "      <th>Nb of sec with 31250B &lt; Vol DL &lt; 125000B</th>\n",
              "      <th>Nb of sec with 37500B &lt; Vol UL</th>\n",
              "      <th>Nb of sec with 6250B &lt; Vol DL &lt; 31250B</th>\n",
              "      <th>Nb of sec with 6250B &lt; Vol UL &lt; 37500B</th>\n",
              "      <th>Nb of sec with Vol DL &lt; 6250B</th>\n",
              "      <th>Nb of sec with Vol UL &lt; 1250B</th>\n",
              "      <th>Social Media DL (Bytes)</th>\n",
              "      <th>Social Media UL (Bytes)</th>\n",
              "      <th>Google DL (Bytes)</th>\n",
              "      <th>Google UL (Bytes)</th>\n",
              "      <th>Email DL (Bytes)</th>\n",
              "      <th>Email UL (Bytes)</th>\n",
              "      <th>Youtube DL (Bytes)</th>\n",
              "      <th>Youtube UL (Bytes)</th>\n",
              "      <th>Netflix DL (Bytes)</th>\n",
              "      <th>Netflix UL (Bytes)</th>\n",
              "      <th>Gaming DL (Bytes)</th>\n",
              "      <th>Gaming UL (Bytes)</th>\n",
              "      <th>Other DL (Bytes)</th>\n",
              "      <th>Other UL (Bytes)</th>\n",
              "      <th>Total UL (Bytes)</th>\n",
              "      <th>Total DL (Bytes)</th>\n",
              "    </tr>\n",
              "  </thead>\n",
              "  <tbody>\n",
              "    <tr>\n",
              "      <th>0</th>\n",
              "      <td>1.311448e+19</td>\n",
              "      <td>4/4/2019 12:01</td>\n",
              "      <td>770.0</td>\n",
              "      <td>4/25/2019 14:35</td>\n",
              "      <td>662.0</td>\n",
              "      <td>1823652.0</td>\n",
              "      <td>2.082014e+14</td>\n",
              "      <td>3.366496e+10</td>\n",
              "      <td>3.552121e+13</td>\n",
              "      <td>9.16456699548519E+015</td>\n",
              "      <td>42.0</td>\n",
              "      <td>5.0</td>\n",
              "      <td>23.0</td>\n",
              "      <td>44.0</td>\n",
              "      <td>NaN</td>\n",
              "      <td>NaN</td>\n",
              "      <td>100.0</td>\n",
              "      <td>0.0</td>\n",
              "      <td>0.0</td>\n",
              "      <td>0.0</td>\n",
              "      <td>100.0</td>\n",
              "      <td>0.0</td>\n",
              "      <td>0.0</td>\n",
              "      <td>0.0</td>\n",
              "      <td>NaN</td>\n",
              "      <td>NaN</td>\n",
              "      <td>37624.0</td>\n",
              "      <td>38787.0</td>\n",
              "      <td>1.823653e+09</td>\n",
              "      <td>Samsung</td>\n",
              "      <td>Samsung Galaxy A5 Sm-A520F</td>\n",
              "      <td>NaN</td>\n",
              "      <td>NaN</td>\n",
              "      <td>NaN</td>\n",
              "      <td>NaN</td>\n",
              "      <td>NaN</td>\n",
              "      <td>NaN</td>\n",
              "      <td>213.0</td>\n",
              "      <td>214.0</td>\n",
              "      <td>1545765.0</td>\n",
              "      <td>24420.0</td>\n",
              "      <td>1634479.0</td>\n",
              "      <td>1271433.0</td>\n",
              "      <td>3563542.0</td>\n",
              "      <td>137762.0</td>\n",
              "      <td>15854611.0</td>\n",
              "      <td>2501332.0</td>\n",
              "      <td>8198936.0</td>\n",
              "      <td>9656251.0</td>\n",
              "      <td>278082303.0</td>\n",
              "      <td>14344150.0</td>\n",
              "      <td>171744450.0</td>\n",
              "      <td>8814393.0</td>\n",
              "      <td>36749741.0</td>\n",
              "      <td>308879636.0</td>\n",
              "    </tr>\n",
              "    <tr>\n",
              "      <th>1</th>\n",
              "      <td>1.311448e+19</td>\n",
              "      <td>4/9/2019 13:04</td>\n",
              "      <td>235.0</td>\n",
              "      <td>4/25/2019 8:15</td>\n",
              "      <td>606.0</td>\n",
              "      <td>1365104.0</td>\n",
              "      <td>2.082019e+14</td>\n",
              "      <td>3.368185e+10</td>\n",
              "      <td>3.579401e+13</td>\n",
              "      <td>L77566A</td>\n",
              "      <td>65.0</td>\n",
              "      <td>5.0</td>\n",
              "      <td>16.0</td>\n",
              "      <td>26.0</td>\n",
              "      <td>NaN</td>\n",
              "      <td>NaN</td>\n",
              "      <td>100.0</td>\n",
              "      <td>0.0</td>\n",
              "      <td>0.0</td>\n",
              "      <td>0.0</td>\n",
              "      <td>100.0</td>\n",
              "      <td>0.0</td>\n",
              "      <td>0.0</td>\n",
              "      <td>0.0</td>\n",
              "      <td>NaN</td>\n",
              "      <td>NaN</td>\n",
              "      <td>168.0</td>\n",
              "      <td>3560.0</td>\n",
              "      <td>1.365104e+09</td>\n",
              "      <td>Samsung</td>\n",
              "      <td>Samsung Galaxy J5 (Sm-J530)</td>\n",
              "      <td>NaN</td>\n",
              "      <td>NaN</td>\n",
              "      <td>NaN</td>\n",
              "      <td>NaN</td>\n",
              "      <td>NaN</td>\n",
              "      <td>NaN</td>\n",
              "      <td>971.0</td>\n",
              "      <td>1022.0</td>\n",
              "      <td>1926113.0</td>\n",
              "      <td>7165.0</td>\n",
              "      <td>3493924.0</td>\n",
              "      <td>920172.0</td>\n",
              "      <td>629046.0</td>\n",
              "      <td>308339.0</td>\n",
              "      <td>20247395.0</td>\n",
              "      <td>19111729.0</td>\n",
              "      <td>18338413.0</td>\n",
              "      <td>17227132.0</td>\n",
              "      <td>608750074.0</td>\n",
              "      <td>1170709.0</td>\n",
              "      <td>526904238.0</td>\n",
              "      <td>15055145.0</td>\n",
              "      <td>53800391.0</td>\n",
              "      <td>653384965.0</td>\n",
              "    </tr>\n",
              "    <tr>\n",
              "      <th>2</th>\n",
              "      <td>1.311448e+19</td>\n",
              "      <td>4/9/2019 17:42</td>\n",
              "      <td>1.0</td>\n",
              "      <td>4/25/2019 11:58</td>\n",
              "      <td>652.0</td>\n",
              "      <td>1361762.0</td>\n",
              "      <td>2.082003e+14</td>\n",
              "      <td>3.376063e+10</td>\n",
              "      <td>3.528151e+13</td>\n",
              "      <td>D42335A</td>\n",
              "      <td>NaN</td>\n",
              "      <td>NaN</td>\n",
              "      <td>6.0</td>\n",
              "      <td>9.0</td>\n",
              "      <td>NaN</td>\n",
              "      <td>NaN</td>\n",
              "      <td>100.0</td>\n",
              "      <td>0.0</td>\n",
              "      <td>0.0</td>\n",
              "      <td>0.0</td>\n",
              "      <td>100.0</td>\n",
              "      <td>0.0</td>\n",
              "      <td>0.0</td>\n",
              "      <td>0.0</td>\n",
              "      <td>NaN</td>\n",
              "      <td>NaN</td>\n",
              "      <td>0.0</td>\n",
              "      <td>0.0</td>\n",
              "      <td>1.361763e+09</td>\n",
              "      <td>Samsung</td>\n",
              "      <td>Samsung Galaxy A8 (2018)</td>\n",
              "      <td>NaN</td>\n",
              "      <td>NaN</td>\n",
              "      <td>NaN</td>\n",
              "      <td>NaN</td>\n",
              "      <td>NaN</td>\n",
              "      <td>NaN</td>\n",
              "      <td>751.0</td>\n",
              "      <td>695.0</td>\n",
              "      <td>1684053.0</td>\n",
              "      <td>42224.0</td>\n",
              "      <td>8535055.0</td>\n",
              "      <td>1694064.0</td>\n",
              "      <td>2690151.0</td>\n",
              "      <td>672973.0</td>\n",
              "      <td>19725661.0</td>\n",
              "      <td>14699576.0</td>\n",
              "      <td>17587794.0</td>\n",
              "      <td>6163408.0</td>\n",
              "      <td>229584621.0</td>\n",
              "      <td>395630.0</td>\n",
              "      <td>410692588.0</td>\n",
              "      <td>4215763.0</td>\n",
              "      <td>27883638.0</td>\n",
              "      <td>279807335.0</td>\n",
              "    </tr>\n",
              "    <tr>\n",
              "      <th>3</th>\n",
              "      <td>1.311448e+19</td>\n",
              "      <td>4/10/2019 0:31</td>\n",
              "      <td>486.0</td>\n",
              "      <td>4/25/2019 7:36</td>\n",
              "      <td>171.0</td>\n",
              "      <td>1321509.0</td>\n",
              "      <td>2.082014e+14</td>\n",
              "      <td>3.375034e+10</td>\n",
              "      <td>3.535661e+13</td>\n",
              "      <td>T21824A</td>\n",
              "      <td>NaN</td>\n",
              "      <td>NaN</td>\n",
              "      <td>44.0</td>\n",
              "      <td>44.0</td>\n",
              "      <td>NaN</td>\n",
              "      <td>NaN</td>\n",
              "      <td>100.0</td>\n",
              "      <td>0.0</td>\n",
              "      <td>0.0</td>\n",
              "      <td>0.0</td>\n",
              "      <td>100.0</td>\n",
              "      <td>0.0</td>\n",
              "      <td>0.0</td>\n",
              "      <td>0.0</td>\n",
              "      <td>NaN</td>\n",
              "      <td>NaN</td>\n",
              "      <td>3330.0</td>\n",
              "      <td>37882.0</td>\n",
              "      <td>1.321510e+09</td>\n",
              "      <td>NaN</td>\n",
              "      <td>NaN</td>\n",
              "      <td>NaN</td>\n",
              "      <td>NaN</td>\n",
              "      <td>NaN</td>\n",
              "      <td>NaN</td>\n",
              "      <td>NaN</td>\n",
              "      <td>NaN</td>\n",
              "      <td>17.0</td>\n",
              "      <td>207.0</td>\n",
              "      <td>644121.0</td>\n",
              "      <td>13372.0</td>\n",
              "      <td>9023734.0</td>\n",
              "      <td>2788027.0</td>\n",
              "      <td>1439754.0</td>\n",
              "      <td>631229.0</td>\n",
              "      <td>21388122.0</td>\n",
              "      <td>15146643.0</td>\n",
              "      <td>13994646.0</td>\n",
              "      <td>1097942.0</td>\n",
              "      <td>799538153.0</td>\n",
              "      <td>10849722.0</td>\n",
              "      <td>749039933.0</td>\n",
              "      <td>12797283.0</td>\n",
              "      <td>43324218.0</td>\n",
              "      <td>846028530.0</td>\n",
              "    </tr>\n",
              "    <tr>\n",
              "      <th>4</th>\n",
              "      <td>1.311448e+19</td>\n",
              "      <td>4/12/2019 20:10</td>\n",
              "      <td>565.0</td>\n",
              "      <td>4/25/2019 10:40</td>\n",
              "      <td>954.0</td>\n",
              "      <td>1089009.0</td>\n",
              "      <td>2.082014e+14</td>\n",
              "      <td>3.369980e+10</td>\n",
              "      <td>3.540701e+13</td>\n",
              "      <td>D88865A</td>\n",
              "      <td>NaN</td>\n",
              "      <td>NaN</td>\n",
              "      <td>6.0</td>\n",
              "      <td>9.0</td>\n",
              "      <td>NaN</td>\n",
              "      <td>NaN</td>\n",
              "      <td>100.0</td>\n",
              "      <td>0.0</td>\n",
              "      <td>0.0</td>\n",
              "      <td>0.0</td>\n",
              "      <td>100.0</td>\n",
              "      <td>0.0</td>\n",
              "      <td>0.0</td>\n",
              "      <td>0.0</td>\n",
              "      <td>NaN</td>\n",
              "      <td>NaN</td>\n",
              "      <td>0.0</td>\n",
              "      <td>0.0</td>\n",
              "      <td>1.089009e+09</td>\n",
              "      <td>Samsung</td>\n",
              "      <td>Samsung Sm-G390F</td>\n",
              "      <td>NaN</td>\n",
              "      <td>NaN</td>\n",
              "      <td>NaN</td>\n",
              "      <td>NaN</td>\n",
              "      <td>NaN</td>\n",
              "      <td>NaN</td>\n",
              "      <td>607.0</td>\n",
              "      <td>604.0</td>\n",
              "      <td>862600.0</td>\n",
              "      <td>50188.0</td>\n",
              "      <td>6248284.0</td>\n",
              "      <td>1500559.0</td>\n",
              "      <td>1936496.0</td>\n",
              "      <td>173853.0</td>\n",
              "      <td>15259380.0</td>\n",
              "      <td>18962873.0</td>\n",
              "      <td>17124581.0</td>\n",
              "      <td>415218.0</td>\n",
              "      <td>527707248.0</td>\n",
              "      <td>3529801.0</td>\n",
              "      <td>550709500.0</td>\n",
              "      <td>13910322.0</td>\n",
              "      <td>38542814.0</td>\n",
              "      <td>569138589.0</td>\n",
              "    </tr>\n",
              "  </tbody>\n",
              "</table>\n",
              "</div>\n",
              "      <button class=\"colab-df-convert\" onclick=\"convertToInteractive('df-f6671ef7-d12d-4f20-90f9-296be270d121')\"\n",
              "              title=\"Convert this dataframe to an interactive table.\"\n",
              "              style=\"display:none;\">\n",
              "        \n",
              "  <svg xmlns=\"http://www.w3.org/2000/svg\" height=\"24px\"viewBox=\"0 0 24 24\"\n",
              "       width=\"24px\">\n",
              "    <path d=\"M0 0h24v24H0V0z\" fill=\"none\"/>\n",
              "    <path d=\"M18.56 5.44l.94 2.06.94-2.06 2.06-.94-2.06-.94-.94-2.06-.94 2.06-2.06.94zm-11 1L8.5 8.5l.94-2.06 2.06-.94-2.06-.94L8.5 2.5l-.94 2.06-2.06.94zm10 10l.94 2.06.94-2.06 2.06-.94-2.06-.94-.94-2.06-.94 2.06-2.06.94z\"/><path d=\"M17.41 7.96l-1.37-1.37c-.4-.4-.92-.59-1.43-.59-.52 0-1.04.2-1.43.59L10.3 9.45l-7.72 7.72c-.78.78-.78 2.05 0 2.83L4 21.41c.39.39.9.59 1.41.59.51 0 1.02-.2 1.41-.59l7.78-7.78 2.81-2.81c.8-.78.8-2.07 0-2.86zM5.41 20L4 18.59l7.72-7.72 1.47 1.35L5.41 20z\"/>\n",
              "  </svg>\n",
              "      </button>\n",
              "      \n",
              "  <style>\n",
              "    .colab-df-container {\n",
              "      display:flex;\n",
              "      flex-wrap:wrap;\n",
              "      gap: 12px;\n",
              "    }\n",
              "\n",
              "    .colab-df-convert {\n",
              "      background-color: #E8F0FE;\n",
              "      border: none;\n",
              "      border-radius: 50%;\n",
              "      cursor: pointer;\n",
              "      display: none;\n",
              "      fill: #1967D2;\n",
              "      height: 32px;\n",
              "      padding: 0 0 0 0;\n",
              "      width: 32px;\n",
              "    }\n",
              "\n",
              "    .colab-df-convert:hover {\n",
              "      background-color: #E2EBFA;\n",
              "      box-shadow: 0px 1px 2px rgba(60, 64, 67, 0.3), 0px 1px 3px 1px rgba(60, 64, 67, 0.15);\n",
              "      fill: #174EA6;\n",
              "    }\n",
              "\n",
              "    [theme=dark] .colab-df-convert {\n",
              "      background-color: #3B4455;\n",
              "      fill: #D2E3FC;\n",
              "    }\n",
              "\n",
              "    [theme=dark] .colab-df-convert:hover {\n",
              "      background-color: #434B5C;\n",
              "      box-shadow: 0px 1px 3px 1px rgba(0, 0, 0, 0.15);\n",
              "      filter: drop-shadow(0px 1px 2px rgba(0, 0, 0, 0.3));\n",
              "      fill: #FFFFFF;\n",
              "    }\n",
              "  </style>\n",
              "\n",
              "      <script>\n",
              "        const buttonEl =\n",
              "          document.querySelector('#df-f6671ef7-d12d-4f20-90f9-296be270d121 button.colab-df-convert');\n",
              "        buttonEl.style.display =\n",
              "          google.colab.kernel.accessAllowed ? 'block' : 'none';\n",
              "\n",
              "        async function convertToInteractive(key) {\n",
              "          const element = document.querySelector('#df-f6671ef7-d12d-4f20-90f9-296be270d121');\n",
              "          const dataTable =\n",
              "            await google.colab.kernel.invokeFunction('convertToInteractive',\n",
              "                                                     [key], {});\n",
              "          if (!dataTable) return;\n",
              "\n",
              "          const docLinkHtml = 'Like what you see? Visit the ' +\n",
              "            '<a target=\"_blank\" href=https://colab.research.google.com/notebooks/data_table.ipynb>data table notebook</a>'\n",
              "            + ' to learn more about interactive tables.';\n",
              "          element.innerHTML = '';\n",
              "          dataTable['output_type'] = 'display_data';\n",
              "          await google.colab.output.renderOutput(dataTable, element);\n",
              "          const docLink = document.createElement('div');\n",
              "          docLink.innerHTML = docLinkHtml;\n",
              "          element.appendChild(docLink);\n",
              "        }\n",
              "      </script>\n",
              "    </div>\n",
              "  </div>\n",
              "  "
            ]
          },
          "metadata": {},
          "execution_count": 30
        }
      ],
      "source": [
        "import warnings\n",
        "warnings.filterwarnings('ignore')\n",
        "pd.set_option('max_column', None)\n",
        "db = pd.read_csv('/content/drive/MyDrive/Colab Notebooks/data/Week1_challenge_data_source(CSV).csv', na_values=['undefined','?', None])\n",
        "db.head() # the fisrt five rows"
      ]
    },
    {
      "cell_type": "markdown",
      "id": "4428adf1",
      "metadata": {
        "id": "4428adf1"
      },
      "source": [
        "# Size of the dataset\n",
        "### Columns of the dataset"
      ]
    },
    {
      "cell_type": "code",
      "execution_count": 6,
      "id": "d3d9e577",
      "metadata": {
        "scrolled": true,
        "colab": {
          "base_uri": "https://localhost:8080/"
        },
        "id": "d3d9e577",
        "outputId": "bea00e94-7f9e-4860-e71b-5ad3f738bdc8"
      },
      "outputs": [
        {
          "output_type": "execute_result",
          "data": {
            "text/plain": [
              "['Bearer Id',\n",
              " 'Start',\n",
              " 'Start ms',\n",
              " 'End',\n",
              " 'End ms',\n",
              " 'Dur. (ms)',\n",
              " 'IMSI',\n",
              " 'MSISDN/Number',\n",
              " 'IMEI',\n",
              " 'Last Location Name',\n",
              " 'Avg RTT DL (ms)',\n",
              " 'Avg RTT UL (ms)',\n",
              " 'Avg Bearer TP DL (kbps)',\n",
              " 'Avg Bearer TP UL (kbps)',\n",
              " 'TCP DL Retrans. Vol (Bytes)',\n",
              " 'TCP UL Retrans. Vol (Bytes)',\n",
              " 'DL TP < 50 Kbps (%)',\n",
              " '50 Kbps < DL TP < 250 Kbps (%)',\n",
              " '250 Kbps < DL TP < 1 Mbps (%)',\n",
              " 'DL TP > 1 Mbps (%)',\n",
              " 'UL TP < 10 Kbps (%)',\n",
              " '10 Kbps < UL TP < 50 Kbps (%)',\n",
              " '50 Kbps < UL TP < 300 Kbps (%)',\n",
              " 'UL TP > 300 Kbps (%)',\n",
              " 'HTTP DL (Bytes)',\n",
              " 'HTTP UL (Bytes)',\n",
              " 'Activity Duration DL (ms)',\n",
              " 'Activity Duration UL (ms)',\n",
              " 'Dur. (ms).1',\n",
              " 'Handset Manufacturer',\n",
              " 'Handset Type',\n",
              " 'Nb of sec with 125000B < Vol DL',\n",
              " 'Nb of sec with 1250B < Vol UL < 6250B',\n",
              " 'Nb of sec with 31250B < Vol DL < 125000B',\n",
              " 'Nb of sec with 37500B < Vol UL',\n",
              " 'Nb of sec with 6250B < Vol DL < 31250B',\n",
              " 'Nb of sec with 6250B < Vol UL < 37500B',\n",
              " 'Nb of sec with Vol DL < 6250B',\n",
              " 'Nb of sec with Vol UL < 1250B',\n",
              " 'Social Media DL (Bytes)',\n",
              " 'Social Media UL (Bytes)',\n",
              " 'Google DL (Bytes)',\n",
              " 'Google UL (Bytes)',\n",
              " 'Email DL (Bytes)',\n",
              " 'Email UL (Bytes)',\n",
              " 'Youtube DL (Bytes)',\n",
              " 'Youtube UL (Bytes)',\n",
              " 'Netflix DL (Bytes)',\n",
              " 'Netflix UL (Bytes)',\n",
              " 'Gaming DL (Bytes)',\n",
              " 'Gaming UL (Bytes)',\n",
              " 'Other DL (Bytes)',\n",
              " 'Other UL (Bytes)',\n",
              " 'Total UL (Bytes)',\n",
              " 'Total DL (Bytes)']"
            ]
          },
          "metadata": {},
          "execution_count": 6
        }
      ],
      "source": [
        "# column names\n",
        "db.columns.tolist()"
      ]
    },
    {
      "cell_type": "markdown",
      "source": [
        "### Number of columns"
      ],
      "metadata": {
        "id": "qjL3zKn8-30S"
      },
      "id": "qjL3zKn8-30S"
    },
    {
      "cell_type": "code",
      "source": [
        "print(f\"Number of columns: \", len(db.columns))"
      ],
      "metadata": {
        "colab": {
          "base_uri": "https://localhost:8080/"
        },
        "id": "Bb_baujC-zIn",
        "outputId": "59bbedc6-7932-4207-a4e9-4ed4d948e47b"
      },
      "id": "Bb_baujC-zIn",
      "execution_count": 10,
      "outputs": [
        {
          "output_type": "stream",
          "name": "stdout",
          "text": [
            "Number of columns:  55\n"
          ]
        }
      ]
    },
    {
      "cell_type": "markdown",
      "id": "9ee8e8f3",
      "metadata": {
        "id": "9ee8e8f3"
      },
      "source": [
        "### Number of data points"
      ]
    },
    {
      "cell_type": "code",
      "execution_count": null,
      "id": "1e3e673f",
      "metadata": {
        "id": "1e3e673f",
        "outputId": "a6c76b5b-b73f-4cd2-fcd3-31f8bc5acc5d",
        "colab": {
          "base_uri": "https://localhost:8080/"
        }
      },
      "outputs": [
        {
          "output_type": "stream",
          "name": "stdout",
          "text": [
            " There are 150001 rows and 55 columns\n"
          ]
        }
      ],
      "source": [
        "print(f\" There are {db.shape[0]} rows and {db.shape[1]} columns\")"
      ]
    },
    {
      "cell_type": "markdown",
      "source": [
        "### Features/columns and their data type"
      ],
      "metadata": {
        "id": "5_yTjSY_AO1m"
      },
      "id": "5_yTjSY_AO1m"
    },
    {
      "cell_type": "code",
      "source": [
        "db.dtypes"
      ],
      "metadata": {
        "id": "WzXiV-kds7YO",
        "outputId": "0b245c45-5336-4b94-b1a6-8f4715d386bc",
        "colab": {
          "base_uri": "https://localhost:8080/"
        }
      },
      "id": "WzXiV-kds7YO",
      "execution_count": null,
      "outputs": [
        {
          "output_type": "execute_result",
          "data": {
            "text/plain": [
              "Bearer Id                                   float64\n",
              "Start                                        object\n",
              "Start ms                                    float64\n",
              "End                                          object\n",
              "End ms                                      float64\n",
              "Dur. (ms)                                   float64\n",
              "IMSI                                        float64\n",
              "MSISDN/Number                               float64\n",
              "IMEI                                        float64\n",
              "Last Location Name                           object\n",
              "Avg RTT DL (ms)                             float64\n",
              "Avg RTT UL (ms)                             float64\n",
              "Avg Bearer TP DL (kbps)                     float64\n",
              "Avg Bearer TP UL (kbps)                     float64\n",
              "TCP DL Retrans. Vol (Bytes)                 float64\n",
              "TCP UL Retrans. Vol (Bytes)                 float64\n",
              "DL TP < 50 Kbps (%)                         float64\n",
              "50 Kbps < DL TP < 250 Kbps (%)              float64\n",
              "250 Kbps < DL TP < 1 Mbps (%)               float64\n",
              "DL TP > 1 Mbps (%)                          float64\n",
              "UL TP < 10 Kbps (%)                         float64\n",
              "10 Kbps < UL TP < 50 Kbps (%)               float64\n",
              "50 Kbps < UL TP < 300 Kbps (%)              float64\n",
              "UL TP > 300 Kbps (%)                        float64\n",
              "HTTP DL (Bytes)                             float64\n",
              "HTTP UL (Bytes)                             float64\n",
              "Activity Duration DL (ms)                   float64\n",
              "Activity Duration UL (ms)                   float64\n",
              "Dur. (ms).1                                 float64\n",
              "Handset Manufacturer                         object\n",
              "Handset Type                                 object\n",
              "Nb of sec with 125000B < Vol DL             float64\n",
              "Nb of sec with 1250B < Vol UL < 6250B       float64\n",
              "Nb of sec with 31250B < Vol DL < 125000B    float64\n",
              "Nb of sec with 37500B < Vol UL              float64\n",
              "Nb of sec with 6250B < Vol DL < 31250B      float64\n",
              "Nb of sec with 6250B < Vol UL < 37500B      float64\n",
              "Nb of sec with Vol DL < 6250B               float64\n",
              "Nb of sec with Vol UL < 1250B               float64\n",
              "Social Media DL (Bytes)                     float64\n",
              "Social Media UL (Bytes)                     float64\n",
              "Google DL (Bytes)                           float64\n",
              "Google UL (Bytes)                           float64\n",
              "Email DL (Bytes)                            float64\n",
              "Email UL (Bytes)                            float64\n",
              "Youtube DL (Bytes)                          float64\n",
              "Youtube UL (Bytes)                          float64\n",
              "Netflix DL (Bytes)                          float64\n",
              "Netflix UL (Bytes)                          float64\n",
              "Gaming DL (Bytes)                           float64\n",
              "Gaming UL (Bytes)                           float64\n",
              "Other DL (Bytes)                            float64\n",
              "Other UL (Bytes)                            float64\n",
              "Total UL (Bytes)                            float64\n",
              "Total DL (Bytes)                            float64\n",
              "dtype: object"
            ]
          },
          "metadata": {},
          "execution_count": 6
        }
      ]
    },
    {
      "cell_type": "markdown",
      "id": "2f58547a",
      "metadata": {
        "id": "2f58547a"
      },
      "source": [
        "## Handling Missing Values"
      ]
    },
    {
      "cell_type": "code",
      "execution_count": 117,
      "id": "67977677",
      "metadata": {
        "colab": {
          "base_uri": "https://localhost:8080/"
        },
        "id": "67977677",
        "outputId": "6f69d8c6-9bec-4134-9b37-40fcca798402"
      },
      "outputs": [
        {
          "output_type": "stream",
          "name": "stdout",
          "text": [
            "The dataset contains 12.72 % missing values.\n"
          ]
        }
      ],
      "source": [
        "# how many missing values exist or better still what is the % of missing values in the dataset?\n",
        "def percent_missing(df):\n",
        "\n",
        "    # Calculate total number of cells in dataframe\n",
        "    totalCells = np.product(df.shape)\n",
        "\n",
        "    # Count number of missing values per column\n",
        "    missingCount = df.isnull().sum()\n",
        "\n",
        "    # Calculate total number of missing values\n",
        "    totalMissing = missingCount.sum()\n",
        "\n",
        "    # Calculate percentage of missing values\n",
        "    print(\"The dataset contains\", round(((totalMissing/totalCells) * 100), 3), \"%\", \"missing values.\")\n",
        "\n",
        "percent_missing(db)"
      ]
    },
    {
      "cell_type": "markdown",
      "source": [
        "### Columns with missing values\n",
        "\n",
        "The Column \"Nb of sec with 37500B < Vol UL\" has maximum missing values of 130254 occurances"
      ],
      "metadata": {
        "id": "DCLGcOnkAzN8"
      },
      "id": "DCLGcOnkAzN8"
    },
    {
      "cell_type": "code",
      "execution_count": null,
      "id": "33dae472",
      "metadata": {
        "scrolled": true,
        "id": "33dae472",
        "outputId": "5bd49c76-f278-47c8-9910-64b6cfa3d609",
        "colab": {
          "base_uri": "https://localhost:8080/"
        }
      },
      "outputs": [
        {
          "output_type": "execute_result",
          "data": {
            "text/plain": [
              "Bearer Id                                      991\n",
              "Start                                            1\n",
              "Start ms                                         1\n",
              "End                                              1\n",
              "End ms                                           1\n",
              "Dur. (ms)                                        1\n",
              "IMSI                                           570\n",
              "MSISDN/Number                                 1066\n",
              "IMEI                                           572\n",
              "Last Location Name                            1153\n",
              "Avg RTT DL (ms)                              27829\n",
              "Avg RTT UL (ms)                              27812\n",
              "Avg Bearer TP DL (kbps)                          1\n",
              "Avg Bearer TP UL (kbps)                          1\n",
              "TCP DL Retrans. Vol (Bytes)                  88146\n",
              "TCP UL Retrans. Vol (Bytes)                  96649\n",
              "DL TP < 50 Kbps (%)                            754\n",
              "50 Kbps < DL TP < 250 Kbps (%)                 754\n",
              "250 Kbps < DL TP < 1 Mbps (%)                  754\n",
              "DL TP > 1 Mbps (%)                             754\n",
              "UL TP < 10 Kbps (%)                            792\n",
              "10 Kbps < UL TP < 50 Kbps (%)                  792\n",
              "50 Kbps < UL TP < 300 Kbps (%)                 792\n",
              "UL TP > 300 Kbps (%)                           792\n",
              "HTTP DL (Bytes)                              81474\n",
              "HTTP UL (Bytes)                              81810\n",
              "Activity Duration DL (ms)                        1\n",
              "Activity Duration UL (ms)                        1\n",
              "Dur. (ms).1                                      1\n",
              "Handset Manufacturer                           572\n",
              "Handset Type                                   572\n",
              "Nb of sec with 125000B < Vol DL              97538\n",
              "Nb of sec with 1250B < Vol UL < 6250B        92894\n",
              "Nb of sec with 31250B < Vol DL < 125000B     93586\n",
              "Nb of sec with 37500B < Vol UL              130254\n",
              "Nb of sec with 6250B < Vol DL < 31250B       88317\n",
              "Nb of sec with 6250B < Vol UL < 37500B      111843\n",
              "Nb of sec with Vol DL < 6250B                  755\n",
              "Nb of sec with Vol UL < 1250B                  793\n",
              "Social Media DL (Bytes)                          0\n",
              "Social Media UL (Bytes)                          0\n",
              "Google DL (Bytes)                                0\n",
              "Google UL (Bytes)                                0\n",
              "Email DL (Bytes)                                 0\n",
              "Email UL (Bytes)                                 0\n",
              "Youtube DL (Bytes)                               0\n",
              "Youtube UL (Bytes)                               0\n",
              "Netflix DL (Bytes)                               0\n",
              "Netflix UL (Bytes)                               0\n",
              "Gaming DL (Bytes)                                0\n",
              "Gaming UL (Bytes)                                0\n",
              "Other DL (Bytes)                                 0\n",
              "Other UL (Bytes)                                 0\n",
              "Total UL (Bytes)                                 1\n",
              "Total DL (Bytes)                                 1\n",
              "dtype: int64"
            ]
          },
          "metadata": {},
          "execution_count": 8
        }
      ],
      "source": [
        "db.isna().sum() # missing values of each column"
      ]
    },
    {
      "cell_type": "code",
      "source": [
        "print (\"Maximum missing values per column: \", np.max(db.isna().sum())) # print(db.isna().sum().max())"
      ],
      "metadata": {
        "colab": {
          "base_uri": "https://localhost:8080/"
        },
        "id": "6LGr9zaXBZqP",
        "outputId": "f1746fb7-9538-46b2-af4c-920b01e81705"
      },
      "id": "6LGr9zaXBZqP",
      "execution_count": 17,
      "outputs": [
        {
          "output_type": "stream",
          "name": "stdout",
          "text": [
            "Maximum missing values per column:  130254\n"
          ]
        }
      ]
    },
    {
      "cell_type": "markdown",
      "source": [
        "### maximum values of each column"
      ],
      "metadata": {
        "id": "giNwKOiXHYrn"
      },
      "id": "giNwKOiXHYrn"
    },
    {
      "cell_type": "code",
      "source": [
        "db.max()"
      ],
      "metadata": {
        "colab": {
          "base_uri": "https://localhost:8080/"
        },
        "id": "rZK9rbcSGPRW",
        "outputId": "cf8e195a-a3ec-4dea-dd2c-3f4ac37a705e"
      },
      "id": "rZK9rbcSGPRW",
      "execution_count": 20,
      "outputs": [
        {
          "output_type": "execute_result",
          "data": {
            "text/plain": [
              "Bearer Id                                   1.318654e+19\n",
              "Start ms                                    9.990000e+02\n",
              "End ms                                      9.990000e+02\n",
              "Dur. (ms)                                   1.859336e+06\n",
              "IMSI                                        2.140743e+14\n",
              "MSISDN/Number                               8.823971e+14\n",
              "IMEI                                        9.900120e+13\n",
              "Avg RTT DL (ms)                             9.692300e+04\n",
              "Avg RTT UL (ms)                             7.120000e+03\n",
              "Avg Bearer TP DL (kbps)                     3.781600e+05\n",
              "Avg Bearer TP UL (kbps)                     5.861300e+04\n",
              "TCP DL Retrans. Vol (Bytes)                 4.294426e+09\n",
              "TCP UL Retrans. Vol (Bytes)                 2.908226e+09\n",
              "DL TP < 50 Kbps (%)                         1.000000e+02\n",
              "50 Kbps < DL TP < 250 Kbps (%)              9.300000e+01\n",
              "250 Kbps < DL TP < 1 Mbps (%)               1.000000e+02\n",
              "DL TP > 1 Mbps (%)                          9.400000e+01\n",
              "UL TP < 10 Kbps (%)                         1.000000e+02\n",
              "10 Kbps < UL TP < 50 Kbps (%)               9.800000e+01\n",
              "50 Kbps < UL TP < 300 Kbps (%)              1.000000e+02\n",
              "UL TP > 300 Kbps (%)                        9.600000e+01\n",
              "HTTP DL (Bytes)                             7.253064e+10\n",
              "HTTP UL (Bytes)                             1.491890e+09\n",
              "Activity Duration DL (ms)                   1.365365e+08\n",
              "Activity Duration UL (ms)                   1.449113e+08\n",
              "Dur. (ms).1                                 1.859336e+09\n",
              "Nb of sec with 125000B < Vol DL             8.147600e+04\n",
              "Nb of sec with 1250B < Vol UL < 6250B       8.541200e+04\n",
              "Nb of sec with 31250B < Vol DL < 125000B    5.852500e+04\n",
              "Nb of sec with 37500B < Vol UL              5.055300e+04\n",
              "Nb of sec with 6250B < Vol DL < 31250B      6.691300e+04\n",
              "Nb of sec with 6250B < Vol UL < 37500B      4.956500e+04\n",
              "Nb of sec with Vol DL < 6250B               6.040610e+05\n",
              "Nb of sec with Vol UL < 1250B               6.041220e+05\n",
              "Social Media DL (Bytes)                     3.586064e+06\n",
              "Social Media UL (Bytes)                     6.587000e+04\n",
              "Google DL (Bytes)                           1.146283e+07\n",
              "Google UL (Bytes)                           4.121357e+06\n",
              "Email DL (Bytes)                            3.586146e+06\n",
              "Email UL (Bytes)                            9.364180e+05\n",
              "Youtube DL (Bytes)                          2.325910e+07\n",
              "Youtube UL (Bytes)                          2.201196e+07\n",
              "Netflix DL (Bytes)                          2.325919e+07\n",
              "Netflix UL (Bytes)                          2.201196e+07\n",
              "Gaming DL (Bytes)                           8.434419e+08\n",
              "Gaming UL (Bytes)                           1.655879e+07\n",
              "Other DL (Bytes)                            8.434425e+08\n",
              "Other UL (Bytes)                            1.655882e+07\n",
              "Total UL (Bytes)                            7.833131e+07\n",
              "Total DL (Bytes)                            9.029696e+08\n",
              "dtype: float64"
            ]
          },
          "metadata": {},
          "execution_count": 20
        }
      ]
    },
    {
      "cell_type": "markdown",
      "source": [
        "### Top 10 Handsets used"
      ],
      "metadata": {
        "id": "U121nP_ZVHpi"
      },
      "id": "U121nP_ZVHpi"
    },
    {
      "cell_type": "code",
      "source": [
        "db_hndset_count = db['Handset Type'].value_counts()\n",
        "top_10_hndsets = db_hndset_count.head(10)\n",
        "print(\"Most used handset types in Descending order:\\n\", db_hndset_count)\n",
        "print(\"\\n\\nTop 10 handsets used: \\n\", top_10_hndsets)\n",
        "# i, r = pd.factorize(db['Handset Type'])\n",
        "# a = np.argsort(-np.bincount(i)[i], kind='mergesort')\n",
        "# db.iloc[a]\n",
        "# db_sort_handset = db.sort_values('Handset Type',ascending = False) #groupby('pidx')\n",
        "# db_sort_handset.head(10)"
      ],
      "metadata": {
        "colab": {
          "base_uri": "https://localhost:8080/"
        },
        "id": "0H2elwfdHwye",
        "outputId": "9f241b1c-c8e1-400a-ae9b-bd9642f22970"
      },
      "id": "0H2elwfdHwye",
      "execution_count": 38,
      "outputs": [
        {
          "output_type": "stream",
          "name": "stdout",
          "text": [
            "Most used handset types in Descending order:\n",
            " Huawei B528S-23A                                           19752\n",
            "Apple iPhone 6S (A1688)                                     9419\n",
            "Apple iPhone 6 (A1586)                                      9023\n",
            "Apple iPhone 7 (A1778)                                      6326\n",
            "Apple iPhone Se (A1723)                                     5187\n",
            "                                                           ...  \n",
            "Tct Mobile Suzho. Alcatel One Touch Y580D                      1\n",
            "Shenzhen Fortune. M-Ppas6                                      1\n",
            "Wiko Global Sasu Wiko Ridge 4G                                 1\n",
            "Hongkong Ipro Te. Ipro I9350 I9400 S3 Wave 3.5 Wave 4.0        1\n",
            "Shenzhen Jeko Co. Blackview Bv5800 Pro                         1\n",
            "Name: Handset Type, Length: 1395, dtype: int64\n",
            "\n",
            "\n",
            "Top 10 handsets used: \n",
            " Huawei B528S-23A                19752\n",
            "Apple iPhone 6S (A1688)          9419\n",
            "Apple iPhone 6 (A1586)           9023\n",
            "Apple iPhone 7 (A1778)           6326\n",
            "Apple iPhone Se (A1723)          5187\n",
            "Apple iPhone 8 (A1905)           4993\n",
            "Apple iPhone Xr (A2105)          4568\n",
            "Samsung Galaxy S8 (Sm-G950F)     4520\n",
            "Apple iPhone X (A1901)           3813\n",
            "Samsung Galaxy A5 Sm-A520F       3724\n",
            "Name: Handset Type, dtype: int64\n"
          ]
        }
      ]
    },
    {
      "cell_type": "markdown",
      "source": [
        "### top 3 handset manufacturers"
      ],
      "metadata": {
        "id": "c-K8AOj3VOaM"
      },
      "id": "c-K8AOj3VOaM"
    },
    {
      "cell_type": "code",
      "source": [
        "db_hndset_manufac_count = db['Handset Manufacturer'].value_counts()\n",
        "top_3_manufact = db_hndset_manufac_count.head(3)\n",
        "print(\"Dominant manufacturers in descending order:\\n\", db_hndset_manufac_count)\n",
        "print(\"\\n\\nTop 3 manufacturers: \\n\", top_3_manufact)"
      ],
      "metadata": {
        "colab": {
          "base_uri": "https://localhost:8080/"
        },
        "id": "2ETLDPfxVVWP",
        "outputId": "c2cdda5b-a374-442c-ba11-84a98f0ec950"
      },
      "id": "2ETLDPfxVVWP",
      "execution_count": 41,
      "outputs": [
        {
          "output_type": "stream",
          "name": "stdout",
          "text": [
            "Dominant manufacturers in descending order:\n",
            " Apple                               59565\n",
            "Samsung                             40839\n",
            "Huawei                              34423\n",
            "Sony Mobile Communications Ab         980\n",
            "Wiko Global Sasu                      747\n",
            "                                    ...  \n",
            "Pt. Arga Mas Lestari                    1\n",
            "Doke Communication (Hk) Limited         1\n",
            "Vastking Technology (Hk) Limited        1\n",
            "Mobiwire Sas                            1\n",
            "Shenzhen Gaoxinqi                       1\n",
            "Name: Handset Manufacturer, Length: 169, dtype: int64\n",
            "\n",
            "\n",
            "Top 3 manufacturers: \n",
            " Apple      59565\n",
            "Samsung    40839\n",
            "Huawei     34423\n",
            "Name: Handset Manufacturer, dtype: int64\n"
          ]
        }
      ]
    },
    {
      "cell_type": "markdown",
      "source": [
        "### Manufacturer-Handset pairs"
      ],
      "metadata": {
        "id": "dPOkS4FmcRcJ"
      },
      "id": "dPOkS4FmcRcJ"
    },
    {
      "cell_type": "code",
      "source": [
        "db_hndset_manufac_pair = db.value_counts([\"Handset Manufacturer\", \"Handset Type\"])\n",
        "top_3_manufact_5_hndset = db_hndset_manufac_pair.head(3)\n",
        "print(\"Manufacturers-handset pair:\\n\", top_3_manufact_5_hndset)\n",
        "# print(\"\\n\\nTop 3 manufacturers: \\n\", top_3_manufact)\n",
        "# db_manufac_hndset = db.groupby(\"Handset Manufacturer\", \"Handset Type\")"
      ],
      "metadata": {
        "colab": {
          "base_uri": "https://localhost:8080/"
        },
        "id": "4MidPe74X2l2",
        "outputId": "21b083bd-f180-457b-a871-2095d1f47056"
      },
      "id": "4MidPe74X2l2",
      "execution_count": 42,
      "outputs": [
        {
          "output_type": "stream",
          "name": "stdout",
          "text": [
            "Manufacturers-handset pair:\n",
            " Handset Manufacturer  Handset Type           \n",
            "Huawei                Huawei B528S-23A           19752\n",
            "Apple                 Apple iPhone 6S (A1688)     9419\n",
            "                      Apple iPhone 6 (A1586)      9023\n",
            "dtype: int64\n"
          ]
        }
      ]
    },
    {
      "cell_type": "code",
      "source": [
        "db['Bearer Id'].value_counts() # Each BearerID occurances aggregated"
      ],
      "metadata": {
        "colab": {
          "base_uri": "https://localhost:8080/"
        },
        "id": "Zq-jkyNed0hg",
        "outputId": "941dc2ad-a690-4a79-a8cc-e6d4daaa246f"
      },
      "id": "Zq-jkyNed0hg",
      "execution_count": 43,
      "outputs": [
        {
          "output_type": "execute_result",
          "data": {
            "text/plain": [
              "1.304243e+19    16\n",
              "1.304243e+19    10\n",
              "1.304243e+19     9\n",
              "1.304243e+19     9\n",
              "1.304243e+19     9\n",
              "                ..\n",
              "7.349883e+18     1\n",
              "7.349883e+18     1\n",
              "1.311448e+19     1\n",
              "7.349883e+18     1\n",
              "7.349883e+18     1\n",
              "Name: Bearer Id, Length: 134708, dtype: int64"
            ]
          },
          "metadata": {},
          "execution_count": 43
        }
      ]
    },
    {
      "cell_type": "code",
      "source": [
        "# db.value_counts('Bearer Id')"
      ],
      "metadata": {
        "colab": {
          "base_uri": "https://localhost:8080/"
        },
        "id": "Sj-uxlpIeYFC",
        "outputId": "127df87d-58c9-40f6-922b-f13d7008130a"
      },
      "id": "Sj-uxlpIeYFC",
      "execution_count": 44,
      "outputs": [
        {
          "output_type": "execute_result",
          "data": {
            "text/plain": [
              "Bearer Id\n",
              "1.304243e+19    16\n",
              "1.304243e+19    10\n",
              "1.304243e+19     9\n",
              "1.304243e+19     9\n",
              "1.304243e+19     9\n",
              "                ..\n",
              "7.349883e+18     1\n",
              "7.349883e+18     1\n",
              "7.349883e+18     1\n",
              "7.349883e+18     1\n",
              "1.318654e+19     1\n",
              "Length: 134708, dtype: int64"
            ]
          },
          "metadata": {},
          "execution_count": 44
        }
      ]
    },
    {
      "cell_type": "markdown",
      "source": [
        "### user (IMEI) Grouped and Agregated with Bearer Id(xDR session)"
      ],
      "metadata": {
        "id": "5RCFersHkfpS"
      },
      "id": "5RCFersHkfpS"
    },
    {
      "cell_type": "code",
      "source": [
        "# db_user_xDR = db.groupby([\"IMEI\",\"Bearer Id\"]).agg(session_count = ('Bearer Id', 'value_counts')) # it also works\n",
        "db_user_xDR = db.groupby([\"IMEI\",\"Bearer Id\"]).size()\n",
        "db_user_xDR"
      ],
      "metadata": {
        "colab": {
          "base_uri": "https://localhost:8080/"
        },
        "id": "J_C6-j2ghRCB",
        "outputId": "c1583f1b-f296-45a5-dc2b-97ab1eda8828"
      },
      "id": "J_C6-j2ghRCB",
      "execution_count": 70,
      "outputs": [
        {
          "output_type": "execute_result",
          "data": {
            "text/plain": [
              "IMEI          Bearer Id   \n",
              "4.400152e+11  6.917538e+18    1\n",
              "4.402138e+11  6.917538e+18    1\n",
              "1.194901e+12  6.917538e+18    1\n",
              "1.198201e+12  6.917538e+18    1\n",
              "1.202601e+12  6.917538e+18    1\n",
              "                             ..\n",
              "9.900120e+13  7.277826e+18    1\n",
              "              1.311448e+19    1\n",
              "              1.304243e+19    1\n",
              "              7.349883e+18    1\n",
              "              1.304243e+19    1\n",
              "Length: 147517, dtype: int64"
            ]
          },
          "metadata": {},
          "execution_count": 70
        }
      ]
    },
    {
      "cell_type": "markdown",
      "source": [
        ""
      ],
      "metadata": {
        "id": "7Qlm97IWnQoU"
      },
      "id": "7Qlm97IWnQoU"
    },
    {
      "cell_type": "markdown",
      "source": [
        "### User(IMEI) Grouped and Aggregated with session duration"
      ],
      "metadata": {
        "id": "7bEI9z8mnQ0a"
      },
      "id": "7bEI9z8mnQ0a"
    },
    {
      "cell_type": "code",
      "source": [
        "# db_user_Duration = db.groupby([\"IMEI\",\"Dur. (ms)\"]).size()\n",
        "# db_user_Duration = pd.pivot_table(db, values = \"Dur. (ms)\",index=[\"IMEI\"],aggfunc=np.sum)\n",
        "db_user_Duration = db.groupby([\"IMEI\",\"Dur. (ms)\"]).size() #transform(sum)\n",
        "db_user_Duration"
      ],
      "metadata": {
        "colab": {
          "base_uri": "https://localhost:8080/"
        },
        "id": "P941MAz-nP2i",
        "outputId": "2331695d-e6a6-437e-8fad-8b84ca7ca9a2"
      },
      "id": "P941MAz-nP2i",
      "execution_count": 93,
      "outputs": [
        {
          "output_type": "execute_result",
          "data": {
            "text/plain": [
              "IMEI          Dur. (ms)\n",
              "4.400152e+11  74399.0      1\n",
              "4.402138e+11  86399.0      1\n",
              "1.194901e+12  87799.0      1\n",
              "1.198201e+12  56344.0      1\n",
              "1.202601e+12  18004.0      1\n",
              "                          ..\n",
              "9.900120e+13  17217.0      1\n",
              "              84563.0      1\n",
              "              9321.0       1\n",
              "              100874.0     1\n",
              "              32614.0      1\n",
              "Length: 141917, dtype: int64"
            ]
          },
          "metadata": {},
          "execution_count": 93
        }
      ]
    },
    {
      "cell_type": "markdown",
      "source": [
        "### User(IMEI) and Total UL(Upload) Grouped and Aggregated"
      ],
      "metadata": {
        "id": "Y9KmONNCvvrk"
      },
      "id": "Y9KmONNCvvrk"
    },
    {
      "cell_type": "code",
      "source": [
        "db_user_UL_data = db.groupby([\"IMEI\",\"Total UL (Bytes)\"]).size()\n",
        "db_user_UL_data"
      ],
      "metadata": {
        "colab": {
          "base_uri": "https://localhost:8080/"
        },
        "id": "pu9uuB5Tv51B",
        "outputId": "9f4ea8fd-c04c-44d3-fcfb-9aef4c986af0"
      },
      "id": "pu9uuB5Tv51B",
      "execution_count": 95,
      "outputs": [
        {
          "output_type": "execute_result",
          "data": {
            "text/plain": [
              "IMEI          Total UL (Bytes)\n",
              "4.400152e+11  39425114.0          1\n",
              "4.402138e+11  24856321.0          1\n",
              "1.194901e+12  44409558.0          1\n",
              "1.198201e+12  54841047.0          1\n",
              "1.202601e+12  38070613.0          1\n",
              "                                 ..\n",
              "9.900120e+13  27515078.0          1\n",
              "              52510613.0          1\n",
              "              60705879.0          1\n",
              "              62463092.0          1\n",
              "              47523160.0          1\n",
              "Length: 149429, dtype: int64"
            ]
          },
          "metadata": {},
          "execution_count": 95
        }
      ]
    },
    {
      "cell_type": "markdown",
      "source": [
        "### User(IMEI) and total download(DL) grouped and aggregated"
      ],
      "metadata": {
        "id": "z-3dxxdfwziK"
      },
      "id": "z-3dxxdfwziK"
    },
    {
      "cell_type": "code",
      "source": [
        "db_user_DL_data = db.groupby([\"IMEI\",\"Total DL (Bytes)\"]).size()\n",
        "db_user_DL_data"
      ],
      "metadata": {
        "colab": {
          "base_uri": "https://localhost:8080/"
        },
        "id": "Fda129YfxAwR",
        "outputId": "7bc075f6-0e8a-44fe-9755-c651a4d8d564"
      },
      "id": "Fda129YfxAwR",
      "execution_count": 96,
      "outputs": [
        {
          "output_type": "execute_result",
          "data": {
            "text/plain": [
              "IMEI          Total DL (Bytes)\n",
              "4.400152e+11  196385061.0         1\n",
              "4.402138e+11  133661264.0         1\n",
              "1.194901e+12  858892798.0         1\n",
              "1.198201e+12  791029122.0         1\n",
              "1.202601e+12  795829234.0         1\n",
              "                                 ..\n",
              "9.900120e+13  857848384.0         1\n",
              "              287049110.0         1\n",
              "              334422603.0         1\n",
              "              865582569.0         1\n",
              "              483796100.0         1\n",
              "Length: 149429, dtype: int64"
            ]
          },
          "metadata": {},
          "execution_count": 96
        }
      ]
    },
    {
      "cell_type": "markdown",
      "source": [
        "### Data Volume for Social Media DL (Bytes)"
      ],
      "metadata": {
        "id": "LtXeDKCizNra"
      },
      "id": "LtXeDKCizNra"
    },
    {
      "cell_type": "code",
      "source": [
        "db_user_DL_social_media = db.groupby([\"IMEI\",\"Social Media DL (Bytes)\"]).size()\n",
        "db_user_DL_social_media"
      ],
      "metadata": {
        "colab": {
          "base_uri": "https://localhost:8080/"
        },
        "id": "GwczfglzzMrE",
        "outputId": "99fcc4a4-6953-4e7b-9081-557a228a4497"
      },
      "id": "GwczfglzzMrE",
      "execution_count": 98,
      "outputs": [
        {
          "output_type": "execute_result",
          "data": {
            "text/plain": [
              "IMEI          Social Media DL (Bytes)\n",
              "4.400152e+11  2530606.0                  1\n",
              "4.402138e+11  1301037.0                  1\n",
              "1.194901e+12  3440702.0                  1\n",
              "1.198201e+12  2155310.0                  1\n",
              "1.202601e+12  356443.0                   1\n",
              "                                        ..\n",
              "9.900120e+13  2548908.0                  1\n",
              "              1823780.0                  1\n",
              "              1194056.0                  1\n",
              "              1523973.0                  1\n",
              "              3160354.0                  1\n",
              "Length: 149429, dtype: int64"
            ]
          },
          "metadata": {},
          "execution_count": 98
        }
      ]
    },
    {
      "cell_type": "markdown",
      "source": [
        "### Data volume for Social Media UL (Bytes)"
      ],
      "metadata": {
        "id": "0oYA_XGs0FGn"
      },
      "id": "0oYA_XGs0FGn"
    },
    {
      "cell_type": "code",
      "source": [
        "db_user_UL_social_media = db.groupby([\"IMEI\",\"Social Media UL (Bytes)\"]).size()\n",
        "db_user_UL_social_media"
      ],
      "metadata": {
        "colab": {
          "base_uri": "https://localhost:8080/"
        },
        "id": "XJKwpETi0N2X",
        "outputId": "a56dd380-a026-4b7f-c2e3-c6f13341c07b"
      },
      "id": "XJKwpETi0N2X",
      "execution_count": 99,
      "outputs": [
        {
          "output_type": "execute_result",
          "data": {
            "text/plain": [
              "IMEI          Social Media UL (Bytes)\n",
              "4.400152e+11  23968.0                    1\n",
              "4.402138e+11  10391.0                    1\n",
              "1.194901e+12  21582.0                    1\n",
              "1.198201e+12  47026.0                    1\n",
              "1.202601e+12  40729.0                    1\n",
              "                                        ..\n",
              "9.900120e+13  19423.0                    1\n",
              "              40173.0                    1\n",
              "              11484.0                    1\n",
              "              36687.0                    1\n",
              "              47571.0                    1\n",
              "Length: 149429, dtype: int64"
            ]
          },
          "metadata": {},
          "execution_count": 99
        }
      ]
    },
    {
      "cell_type": "markdown",
      "source": [
        "### Data volume for YouTube DL (Bytes)"
      ],
      "metadata": {
        "id": "GKnXSube0hO0"
      },
      "id": "GKnXSube0hO0"
    },
    {
      "cell_type": "code",
      "source": [
        "db_user_DL_Youtube = db.groupby([\"IMEI\",\"Youtube DL (Bytes)\"]).size()\n",
        "db_user_DL_Youtube"
      ],
      "metadata": {
        "colab": {
          "base_uri": "https://localhost:8080/"
        },
        "id": "xU2K89q313bI",
        "outputId": "b86bba92-3811-45ab-a165-c4ae7f7bc520"
      },
      "id": "xU2K89q313bI",
      "execution_count": 102,
      "outputs": [
        {
          "output_type": "execute_result",
          "data": {
            "text/plain": [
              "IMEI          Youtube DL (Bytes)\n",
              "4.400152e+11  17663991.0            1\n",
              "4.402138e+11  16138988.0            1\n",
              "1.194901e+12  11564842.0            1\n",
              "1.198201e+12  17902177.0            1\n",
              "1.202601e+12  14930167.0            1\n",
              "                                   ..\n",
              "9.900120e+13  23028070.0            1\n",
              "              7657831.0             1\n",
              "              7758118.0             1\n",
              "              21892427.0            1\n",
              "              11712040.0            1\n",
              "Length: 149429, dtype: int64"
            ]
          },
          "metadata": {},
          "execution_count": 102
        }
      ]
    },
    {
      "cell_type": "markdown",
      "source": [
        "### Data volume for YouTube UL (Bytes)"
      ],
      "metadata": {
        "id": "h7cIUkeO0mGP"
      },
      "id": "h7cIUkeO0mGP"
    },
    {
      "cell_type": "code",
      "source": [
        "db_user_UL_Youtube = db.groupby([\"IMEI\",\"Youtube UL (Bytes)\"]).size()\n",
        "db_user_UL_Youtube"
      ],
      "metadata": {
        "colab": {
          "base_uri": "https://localhost:8080/"
        },
        "id": "CE7w_Xu02er2",
        "outputId": "ebc3a7a8-6cd5-425e-b2bf-7be6dc61c768"
      },
      "id": "CE7w_Xu02er2",
      "execution_count": 103,
      "outputs": [
        {
          "output_type": "execute_result",
          "data": {
            "text/plain": [
              "IMEI          Youtube UL (Bytes)\n",
              "4.400152e+11  10703865.0            1\n",
              "4.402138e+11  5122393.0             1\n",
              "1.194901e+12  12364791.0            1\n",
              "1.198201e+12  19542058.0            1\n",
              "1.202601e+12  5631939.0             1\n",
              "                                   ..\n",
              "9.900120e+13  3288163.0             1\n",
              "              16255095.0            1\n",
              "              18200855.0            1\n",
              "              20132095.0            1\n",
              "              17491066.0            1\n",
              "Length: 149429, dtype: int64"
            ]
          },
          "metadata": {},
          "execution_count": 103
        }
      ]
    },
    {
      "cell_type": "markdown",
      "source": [
        "### Data volume for Netflix DL (Bytes)"
      ],
      "metadata": {
        "id": "H7AuqlsB03i1"
      },
      "id": "H7AuqlsB03i1"
    },
    {
      "cell_type": "code",
      "source": [
        "db_user_DL_Netflix = db.groupby([\"IMEI\",\"Netflix DL (Bytes)\"]).size()\n",
        "db_user_DL_Netflix"
      ],
      "metadata": {
        "colab": {
          "base_uri": "https://localhost:8080/"
        },
        "id": "MpLLrcHA2trj",
        "outputId": "245ae839-61b4-4c52-9e8e-7c5cae9d9b6a"
      },
      "id": "MpLLrcHA2trj",
      "execution_count": 104,
      "outputs": [
        {
          "output_type": "execute_result",
          "data": {
            "text/plain": [
              "IMEI          Netflix DL (Bytes)\n",
              "4.400152e+11  6289240.0             1\n",
              "4.402138e+11  18158139.0            1\n",
              "1.194901e+12  6415185.0             1\n",
              "1.198201e+12  21142414.0            1\n",
              "1.202601e+12  3775834.0             1\n",
              "                                   ..\n",
              "9.900120e+13  12108876.0            1\n",
              "              13351462.0            1\n",
              "              568035.0              1\n",
              "              17069544.0            1\n",
              "              6866986.0             1\n",
              "Length: 149429, dtype: int64"
            ]
          },
          "metadata": {},
          "execution_count": 104
        }
      ]
    },
    {
      "cell_type": "markdown",
      "source": [
        "### Data volume for Netflix UL (Bytes)"
      ],
      "metadata": {
        "id": "yKEYyvoH08l4"
      },
      "id": "yKEYyvoH08l4"
    },
    {
      "cell_type": "code",
      "source": [
        "db_user_UL_Netflix = db.groupby([\"IMEI\",\"Netflix UL (Bytes)\"]).size()\n",
        "db_user_UL_Netflix"
      ],
      "metadata": {
        "colab": {
          "base_uri": "https://localhost:8080/"
        },
        "id": "Xm4eOpAK2yaq",
        "outputId": "1f573b11-85ff-49ab-d15e-a57a1037f4cf"
      },
      "id": "Xm4eOpAK2yaq",
      "execution_count": 105,
      "outputs": [
        {
          "output_type": "execute_result",
          "data": {
            "text/plain": [
              "IMEI          Netflix UL (Bytes)\n",
              "4.400152e+11  16570359.0            1\n",
              "4.402138e+11  3929179.0             1\n",
              "1.194901e+12  7003752.0             1\n",
              "1.198201e+12  6731353.0             1\n",
              "1.202601e+12  16166734.0            1\n",
              "                                   ..\n",
              "9.900120e+13  7786350.0             1\n",
              "              20540669.0            1\n",
              "              18503538.0            1\n",
              "              10935676.0            1\n",
              "              15478761.0            1\n",
              "Length: 149429, dtype: int64"
            ]
          },
          "metadata": {},
          "execution_count": 105
        }
      ]
    },
    {
      "cell_type": "markdown",
      "source": [
        "### Data volume for Google DL (Bytes)"
      ],
      "metadata": {
        "id": "sV-j80Wl1AwR"
      },
      "id": "sV-j80Wl1AwR"
    },
    {
      "cell_type": "code",
      "source": [
        "db_user_DL_Google = db.groupby([\"IMEI\",\"Google DL (Bytes)\"]).size()\n",
        "db_user_DL_Google"
      ],
      "metadata": {
        "colab": {
          "base_uri": "https://localhost:8080/"
        },
        "id": "g7hJE8_72zz5",
        "outputId": "55ad2829-02f1-43a1-b12d-0f352dcaa86a"
      },
      "id": "g7hJE8_72zz5",
      "execution_count": 106,
      "outputs": [
        {
          "output_type": "execute_result",
          "data": {
            "text/plain": [
              "IMEI          Google DL (Bytes)\n",
              "4.400152e+11  9125569.0            1\n",
              "4.402138e+11  8520422.0            1\n",
              "1.194901e+12  8410141.0            1\n",
              "1.198201e+12  5157701.0            1\n",
              "1.202601e+12  5895854.0            1\n",
              "                                  ..\n",
              "9.900120e+13  6692349.0            1\n",
              "              10320330.0           1\n",
              "              8423513.0            1\n",
              "              7989805.0            1\n",
              "              2273925.0            1\n",
              "Length: 149429, dtype: int64"
            ]
          },
          "metadata": {},
          "execution_count": 106
        }
      ]
    },
    {
      "cell_type": "markdown",
      "source": [
        "### Data volume for Google UL (Bytes)"
      ],
      "metadata": {
        "id": "Vrzk5muO1HZo"
      },
      "id": "Vrzk5muO1HZo"
    },
    {
      "cell_type": "code",
      "source": [
        "db_user_UL_Google = db.groupby([\"IMEI\",\"Google UL (Bytes)\"]).size()\n",
        "db_user_UL_Google"
      ],
      "metadata": {
        "colab": {
          "base_uri": "https://localhost:8080/"
        },
        "id": "vDIf71GF20_w",
        "outputId": "b6dedb25-3ae2-45e8-c2f3-533d2d9ddd2e"
      },
      "id": "vDIf71GF20_w",
      "execution_count": 107,
      "outputs": [
        {
          "output_type": "execute_result",
          "data": {
            "text/plain": [
              "IMEI          Google UL (Bytes)\n",
              "4.400152e+11  3608143.0            1\n",
              "4.402138e+11  1514991.0            1\n",
              "1.194901e+12  1073199.0            1\n",
              "1.198201e+12  1790556.0            1\n",
              "1.202601e+12  1209943.0            1\n",
              "                                  ..\n",
              "9.900120e+13  1614004.0            1\n",
              "              3955033.0            1\n",
              "              224804.0             1\n",
              "              3664900.0            1\n",
              "              692421.0             1\n",
              "Length: 149429, dtype: int64"
            ]
          },
          "metadata": {},
          "execution_count": 107
        }
      ]
    },
    {
      "cell_type": "markdown",
      "source": [
        "### Data volume for Email DL (Bytes)"
      ],
      "metadata": {
        "id": "MP35Uhc61NNt"
      },
      "id": "MP35Uhc61NNt"
    },
    {
      "cell_type": "code",
      "source": [
        "db_user_DL_Email = db.groupby([\"IMEI\",\"Email DL (Bytes)\"]).size()\n",
        "db_user_DL_Email"
      ],
      "metadata": {
        "colab": {
          "base_uri": "https://localhost:8080/"
        },
        "id": "l7p0k80a22gz",
        "outputId": "0603720d-6bce-41cd-a0e1-a8e2f2956bb3"
      },
      "id": "l7p0k80a22gz",
      "execution_count": 108,
      "outputs": [
        {
          "output_type": "execute_result",
          "data": {
            "text/plain": [
              "IMEI          Email DL (Bytes)\n",
              "4.400152e+11  989198.0            1\n",
              "4.402138e+11  2585927.0           1\n",
              "1.194901e+12  1483785.0           1\n",
              "1.198201e+12  1641265.0           1\n",
              "1.202601e+12  413901.0            1\n",
              "                                 ..\n",
              "9.900120e+13  3072288.0           1\n",
              "              855847.0            1\n",
              "              2540187.0           1\n",
              "              3518168.0           1\n",
              "              1412808.0           1\n",
              "Length: 149429, dtype: int64"
            ]
          },
          "metadata": {},
          "execution_count": 108
        }
      ]
    },
    {
      "cell_type": "markdown",
      "source": [
        "### Data volume for Email UL (Bytes)"
      ],
      "metadata": {
        "id": "tXriBPsK1Q_S"
      },
      "id": "tXriBPsK1Q_S"
    },
    {
      "cell_type": "code",
      "source": [
        "db_user_UL_Email = db.groupby([\"IMEI\",\"Email UL (Bytes)\"]).size()\n",
        "db_user_UL_Email"
      ],
      "metadata": {
        "colab": {
          "base_uri": "https://localhost:8080/"
        },
        "id": "9uZOZpw225A3",
        "outputId": "746d2398-eb30-4876-9f58-bbdc3bb5af19"
      },
      "id": "9uZOZpw225A3",
      "execution_count": 109,
      "outputs": [
        {
          "output_type": "execute_result",
          "data": {
            "text/plain": [
              "IMEI          Email UL (Bytes)\n",
              "4.400152e+11  144441.0            1\n",
              "4.402138e+11  688283.0            1\n",
              "1.194901e+12  580787.0            1\n",
              "1.198201e+12  17994.0             1\n",
              "1.202601e+12  422686.0            1\n",
              "                                 ..\n",
              "9.900120e+13  262886.0            1\n",
              "              407553.0            1\n",
              "              714363.0            1\n",
              "              332090.0            1\n",
              "              303858.0            1\n",
              "Length: 149429, dtype: int64"
            ]
          },
          "metadata": {},
          "execution_count": 109
        }
      ]
    },
    {
      "cell_type": "markdown",
      "source": [
        "### Data volume for Gaming DL (Bytes)"
      ],
      "metadata": {
        "id": "RLhFZOnF1ROV"
      },
      "id": "RLhFZOnF1ROV"
    },
    {
      "cell_type": "code",
      "source": [
        "db_user_DL_Gaming = db.groupby([\"IMEI\",\"Gaming DL (Bytes)\"]).size()\n",
        "db_user_DL_Gaming"
      ],
      "metadata": {
        "colab": {
          "base_uri": "https://localhost:8080/"
        },
        "id": "1Hiqbs8i2511",
        "outputId": "f1824602-8e6d-407a-c663-29305367a6bd"
      },
      "id": "1Hiqbs8i2511",
      "execution_count": 110,
      "outputs": [
        {
          "output_type": "execute_result",
          "data": {
            "text/plain": [
              "IMEI          Gaming DL (Bytes)\n",
              "4.400152e+11  159786457.0          1\n",
              "4.402138e+11  86956751.0           1\n",
              "1.194901e+12  827578143.0          1\n",
              "1.198201e+12  743030255.0          1\n",
              "1.202601e+12  770457035.0          1\n",
              "                                  ..\n",
              "9.900120e+13  810397893.0          1\n",
              "              253039860.0          1\n",
              "              313938694.0          1\n",
              "              813588652.0          1\n",
              "              458369987.0          1\n",
              "Length: 149429, dtype: int64"
            ]
          },
          "metadata": {},
          "execution_count": 110
        }
      ]
    },
    {
      "cell_type": "markdown",
      "source": [
        "### Data volume for Gaming UL (Bytes)"
      ],
      "metadata": {
        "id": "UWl0Ko391e-d"
      },
      "id": "UWl0Ko391e-d"
    },
    {
      "cell_type": "code",
      "source": [
        "db_user_UL_Gaming = db.groupby([\"IMEI\",\"Gaming UL (Bytes)\"]).size()\n",
        "db_user_UL_Gaming"
      ],
      "metadata": {
        "colab": {
          "base_uri": "https://localhost:8080/"
        },
        "id": "IV55-Shb26zV",
        "outputId": "0445aa91-47f2-49dc-a42c-e7f3b2add89c"
      },
      "id": "IV55-Shb26zV",
      "execution_count": 111,
      "outputs": [
        {
          "output_type": "execute_result",
          "data": {
            "text/plain": [
              "IMEI          Gaming UL (Bytes)\n",
              "4.400152e+11  1317702.0            1\n",
              "4.402138e+11  4188367.0            1\n",
              "1.194901e+12  11383285.0           1\n",
              "1.198201e+12  11575761.0           1\n",
              "1.202601e+12  3537598.0            1\n",
              "                                  ..\n",
              "9.900120e+13  8034861.0            1\n",
              "              5811282.0            1\n",
              "              14484574.0           1\n",
              "              15139625.0           1\n",
              "              8456271.0            1\n",
              "Length: 149429, dtype: int64"
            ]
          },
          "metadata": {},
          "execution_count": 111
        }
      ]
    },
    {
      "cell_type": "markdown",
      "source": [
        "### Data volume for Other DL"
      ],
      "metadata": {
        "id": "KkPaj8xd1fEe"
      },
      "id": "KkPaj8xd1fEe"
    },
    {
      "cell_type": "code",
      "source": [
        "db_user_DL_Other = db.groupby([\"IMEI\",\"Other DL (Bytes)\"]).size()\n",
        "db_user_DL_Other"
      ],
      "metadata": {
        "colab": {
          "base_uri": "https://localhost:8080/"
        },
        "id": "EbN46Hqp28Jk",
        "outputId": "0d19d76a-78e4-4dee-9b34-61807b4bbe16"
      },
      "id": "EbN46Hqp28Jk",
      "execution_count": 112,
      "outputs": [
        {
          "output_type": "execute_result",
          "data": {
            "text/plain": [
              "IMEI          Other DL (Bytes)\n",
              "4.400152e+11  312057084.0         1\n",
              "4.402138e+11  510810737.0         1\n",
              "1.194901e+12  74601835.0          1\n",
              "1.198201e+12  805940256.0         1\n",
              "1.202601e+12  585417309.0         1\n",
              "                                 ..\n",
              "9.900120e+13  832539560.0         1\n",
              "              451146519.0         1\n",
              "              48646759.0          1\n",
              "              338473361.0         1\n",
              "              79836909.0          1\n",
              "Length: 149429, dtype: int64"
            ]
          },
          "metadata": {},
          "execution_count": 112
        }
      ]
    },
    {
      "cell_type": "markdown",
      "source": [
        "### Data Volume for Other UL"
      ],
      "metadata": {
        "id": "93E8L26b1fKV"
      },
      "id": "93E8L26b1fKV"
    },
    {
      "cell_type": "code",
      "source": [
        "db_user_UL_Other = db.groupby([\"IMEI\",\"Other UL (Bytes)\"]).size()\n",
        "db_user_UL_Other"
      ],
      "metadata": {
        "colab": {
          "base_uri": "https://localhost:8080/"
        },
        "id": "lrMYwRQ62-s6",
        "outputId": "0c4e892f-4647-411a-d857-6c636044d9a5"
      },
      "id": "lrMYwRQ62-s6",
      "execution_count": 114,
      "outputs": [
        {
          "output_type": "execute_result",
          "data": {
            "text/plain": [
              "IMEI          Other UL (Bytes)\n",
              "4.400152e+11  7056636.0           1\n",
              "4.402138e+11  9402717.0           1\n",
              "1.194901e+12  11982162.0          1\n",
              "1.198201e+12  15136299.0          1\n",
              "1.202601e+12  11060984.0          1\n",
              "                                 ..\n",
              "9.900120e+13  6509391.0           1\n",
              "              5500808.0           1\n",
              "              8566261.0           1\n",
              "              12222019.0          1\n",
              "              5053212.0           1\n",
              "Length: 149429, dtype: int64"
            ]
          },
          "metadata": {},
          "execution_count": 114
        }
      ]
    },
    {
      "cell_type": "markdown",
      "id": "c83faeff",
      "metadata": {
        "id": "c83faeff"
      },
      "source": [
        "Fixing Missing values is a crucial part of any data science/ML project because you might be making the data better by your method or otherwise. So your decision has to be perfect or close enough.\n",
        "\n",
        "The rule of thumb is for all object datatype kind of column/features use the mode method to fill the missing datapoints and for number kind of features use the mean/median method.\n",
        "\n",
        "The question now is how to choose which method to fill a number feature with. Well the simple answer is check if it is skewed. Now what is skew?\n",
        "\n",
        "> In a normal distribution, the mean divides the curve symmetrically into two equal parts at the median and the value of skewness is zero. The data on the left will be equal to the data on the right side. \n",
        " \n",
        "> When a distribution is asymmetrical the tail of the distribution is skewed to one side-to the right or to the left.\n",
        "\n",
        "> When the value of the skewness is negative, the tail of the distribution is longer towards the left hand side of the curve. In this type of distribution the mean, median, and mode of the distribution are negative rather than positive or zero.\n",
        "\n",
        "> When the value of the skewness is positive, the tail of the distribution is longer towards the right hand side of the curve. In this type of distribution the mean, median, and mode of the distribution are positive rather than negative or zero.\n",
        "\n",
        "Back to the rule of thumb, if the data is not skewed, filling with either mean or median will work well. But if it is indeed skew, then fill with Median. The idea is ...."
      ]
    },
    {
      "cell_type": "markdown",
      "source": [
        "Tip:\n",
        " There are different ways to look/measure the skewness of a data in pandas dataframe:\n",
        " One way is to calculate the skewness of a column:\n",
        " \n",
        "\n",
        "```\n",
        "df.skew(axis=0)\n",
        "```\n",
        "\n"
      ],
      "metadata": {
        "id": "bCT9knbUf3_a"
      },
      "id": "bCT9knbUf3_a"
    },
    {
      "cell_type": "code",
      "source": [
        "db.skew(axis=0)"
      ],
      "metadata": {
        "id": "tk6dinhg9MFg",
        "outputId": "a108c461-42b6-43d9-f80b-6793ea44fd8c",
        "colab": {
          "base_uri": "https://localhost:8080/"
        }
      },
      "id": "tk6dinhg9MFg",
      "execution_count": 115,
      "outputs": [
        {
          "output_type": "execute_result",
          "data": {
            "text/plain": [
              "Bearer Id                                     0.026666\n",
              "Start ms                                      0.000968\n",
              "End ms                                       -0.001163\n",
              "Dur. (ms)                                     3.952609\n",
              "IMSI                                         41.045956\n",
              "MSISDN/Number                               332.155856\n",
              "IMEI                                          1.071470\n",
              "Avg RTT DL (ms)                              62.907828\n",
              "Avg RTT UL (ms)                              28.457415\n",
              "Avg Bearer TP DL (kbps)                       2.589437\n",
              "Avg Bearer TP UL (kbps)                       4.503413\n",
              "TCP DL Retrans. Vol (Bytes)                  15.951809\n",
              "TCP UL Retrans. Vol (Bytes)                  84.113393\n",
              "DL TP < 50 Kbps (%)                          -2.297803\n",
              "50 Kbps < DL TP < 250 Kbps (%)                3.271453\n",
              "250 Kbps < DL TP < 1 Mbps (%)                 4.566158\n",
              "DL TP > 1 Mbps (%)                            5.370351\n",
              "UL TP < 10 Kbps (%)                          -8.985016\n",
              "10 Kbps < UL TP < 50 Kbps (%)                10.943888\n",
              "50 Kbps < UL TP < 300 Kbps (%)               21.878495\n",
              "UL TP > 300 Kbps (%)                         36.174053\n",
              "HTTP DL (Bytes)                              38.944710\n",
              "HTTP UL (Bytes)                              32.474970\n",
              "Activity Duration DL (ms)                     5.872256\n",
              "Activity Duration UL (ms)                     7.382557\n",
              "Dur. (ms).1                                   3.952609\n",
              "Nb of sec with 125000B < Vol DL               6.592502\n",
              "Nb of sec with 1250B < Vol UL < 6250B        22.035745\n",
              "Nb of sec with 31250B < Vol DL < 125000B      6.610541\n",
              "Nb of sec with 37500B < Vol UL               21.560028\n",
              "Nb of sec with 6250B < Vol DL < 31250B        6.896050\n",
              "Nb of sec with 6250B < Vol UL < 37500B       19.642752\n",
              "Nb of sec with Vol DL < 6250B                 9.042166\n",
              "Nb of sec with Vol UL < 1250B                 7.495176\n",
              "Social Media DL (Bytes)                      -0.002136\n",
              "Social Media UL (Bytes)                      -0.000359\n",
              "Google DL (Bytes)                            -0.008092\n",
              "Google UL (Bytes)                             0.002216\n",
              "Email DL (Bytes)                             -0.002463\n",
              "Email UL (Bytes)                              0.007358\n",
              "Youtube DL (Bytes)                            0.000231\n",
              "Youtube UL (Bytes)                           -0.001142\n",
              "Netflix DL (Bytes)                           -0.002442\n",
              "Netflix UL (Bytes)                           -0.000113\n",
              "Gaming DL (Bytes)                            -0.003460\n",
              "Gaming UL (Bytes)                            -0.001840\n",
              "Other DL (Bytes)                              0.001400\n",
              "Other UL (Bytes)                              0.001392\n",
              "Total UL (Bytes)                             -0.002456\n",
              "Total DL (Bytes)                             -0.003153\n",
              "dtype: float64"
            ]
          },
          "metadata": {},
          "execution_count": 115
        }
      ]
    },
    {
      "cell_type": "markdown",
      "source": [
        "### Skewness visualization with histogram"
      ],
      "metadata": {
        "id": "aWt3hCKI8paZ"
      },
      "id": "aWt3hCKI8paZ"
    },
    {
      "cell_type": "code",
      "source": [
        "db['Total UL (Bytes)'].hist()"
      ],
      "metadata": {
        "colab": {
          "base_uri": "https://localhost:8080/",
          "height": 295
        },
        "id": "Mc-39xGk8ZHv",
        "outputId": "cb9f4756-8e24-468a-8d84-f682a34a9330"
      },
      "id": "Mc-39xGk8ZHv",
      "execution_count": 119,
      "outputs": [
        {
          "output_type": "execute_result",
          "data": {
            "text/plain": [
              "<matplotlib.axes._subplots.AxesSubplot at 0x7fb7017758d0>"
            ]
          },
          "metadata": {},
          "execution_count": 119
        },
        {
          "output_type": "display_data",
          "data": {
            "text/plain": [
              "<Figure size 432x288 with 1 Axes>"
            ],
            "image/png": "[encoded data removed]"
          },
          "metadata": {
            "needs_background": "light"
          }
        }
      ]
    },
    {
      "cell_type": "code",
      "source": [
        "db['Total DL (Bytes)'].hist()"
      ],
      "metadata": {
        "colab": {
          "base_uri": "https://localhost:8080/",
          "height": 295
        },
        "id": "rAunCOq88uoS",
        "outputId": "e98abbc3-04ec-4a18-d95f-bd5a99ea9186"
      },
      "id": "rAunCOq88uoS",
      "execution_count": 121,
      "outputs": [
        {
          "output_type": "execute_result",
          "data": {
            "text/plain": [
              "<matplotlib.axes._subplots.AxesSubplot at 0x7fb7011d2b10>"
            ]
          },
          "metadata": {},
          "execution_count": 121
        },
        {
          "output_type": "display_data",
          "data": {
            "text/plain": [
              "<Figure size 432x288 with 1 Axes>"
            ],
            "image/png": "[encoded data removed]"
          },
          "metadata": {
            "needs_background": "light"
          }
        }
      ]
    },
    {
      "cell_type": "code",
      "source": [
        "db['Total UL (Bytes)'].hist()"
      ],
      "metadata": {
        "colab": {
          "base_uri": "https://localhost:8080/",
          "height": 295
        },
        "id": "mkpDG9oG9GI4",
        "outputId": "80700b1d-a26d-4a0e-a92f-6f7440d1366e"
      },
      "id": "mkpDG9oG9GI4",
      "execution_count": 122,
      "outputs": [
        {
          "output_type": "execute_result",
          "data": {
            "text/plain": [
              "<matplotlib.axes._subplots.AxesSubplot at 0x7fb701157350>"
            ]
          },
          "metadata": {},
          "execution_count": 122
        },
        {
          "output_type": "display_data",
          "data": {
            "text/plain": [
              "<Figure size 432x288 with 1 Axes>"
            ],
            "image/png": "[encoded data removed]"
          },
          "metadata": {
            "needs_background": "light"
          }
        }
      ]
    },
    {
      "cell_type": "markdown",
      "source": [
        "### Positively skewed parameter"
      ],
      "metadata": {
        "id": "YXVTAOvD9WZS"
      },
      "id": "YXVTAOvD9WZS"
    },
    {
      "cell_type": "code",
      "source": [
        "db['HTTP DL (Bytes)'].hist()"
      ],
      "metadata": {
        "colab": {
          "base_uri": "https://localhost:8080/",
          "height": 295
        },
        "id": "-sjQK6o49QuI",
        "outputId": "4e8349c4-4567-49bf-ef17-33cb411c091d"
      },
      "id": "-sjQK6o49QuI",
      "execution_count": 123,
      "outputs": [
        {
          "output_type": "execute_result",
          "data": {
            "text/plain": [
              "<matplotlib.axes._subplots.AxesSubplot at 0x7fb701083150>"
            ]
          },
          "metadata": {},
          "execution_count": 123
        },
        {
          "output_type": "display_data",
          "data": {
            "text/plain": [
              "<Figure size 432x288 with 1 Axes>"
            ],
            "image/png": "[encoded data removed]"
          },
          "metadata": {
            "needs_background": "light"
          }
        }
      ]
    },
    {
      "cell_type": "markdown",
      "source": [
        "### Negatively skewwed parameter\n"
      ],
      "metadata": {
        "id": "Cy6A_kTw9llO"
      },
      "id": "Cy6A_kTw9llO"
    },
    {
      "cell_type": "code",
      "source": [
        "db['UL TP < 10 Kbps (%)'].hist()"
      ],
      "metadata": {
        "colab": {
          "base_uri": "https://localhost:8080/",
          "height": 282
        },
        "id": "dShKar3X9poc",
        "outputId": "fe97ecac-34da-4a7a-ec2d-70dcaf2eac32"
      },
      "id": "dShKar3X9poc",
      "execution_count": 124,
      "outputs": [
        {
          "output_type": "execute_result",
          "data": {
            "text/plain": [
              "<matplotlib.axes._subplots.AxesSubplot at 0x7fb701018450>"
            ]
          },
          "metadata": {},
          "execution_count": 124
        },
        {
          "output_type": "display_data",
          "data": {
            "text/plain": [
              "<Figure size 432x288 with 1 Axes>"
            ],
            "image/png": "[encoded data removed]"
          },
          "metadata": {
            "needs_background": "light"
          }
        }
      ]
    },
    {
      "cell_type": "markdown",
      "id": "d8d4d436",
      "metadata": {
        "id": "d8d4d436"
      },
      "source": [
        "Other method of dealing with missing values exists like fill-forward,backward-fill etc"
      ]
    },
    {
      "cell_type": "markdown",
      "id": "280fa475",
      "metadata": {
        "id": "280fa475"
      },
      "source": [
        "You also need to consider what the column represent before you fill missing values for example:  ...\n",
        "\n",
        "Another easy way to do this is to just drop all misisng rows and moving on with analysis if you have data left atleast."
      ]
    },
    {
      "cell_type": "code",
      "source": [
        "db.isna().sum()"
      ],
      "metadata": {
        "colab": {
          "base_uri": "https://localhost:8080/"
        },
        "id": "O4iOgqxy90W8",
        "outputId": "dc944c8c-af4e-4b5a-db94-10c387ad3aa1"
      },
      "id": "O4iOgqxy90W8",
      "execution_count": 125,
      "outputs": [
        {
          "output_type": "execute_result",
          "data": {
            "text/plain": [
              "Bearer Id                                      991\n",
              "Start                                            1\n",
              "Start ms                                         1\n",
              "End                                              1\n",
              "End ms                                           1\n",
              "Dur. (ms)                                        1\n",
              "IMSI                                           570\n",
              "MSISDN/Number                                 1066\n",
              "IMEI                                           572\n",
              "Last Location Name                            1153\n",
              "Avg RTT DL (ms)                              27829\n",
              "Avg RTT UL (ms)                              27812\n",
              "Avg Bearer TP DL (kbps)                          1\n",
              "Avg Bearer TP UL (kbps)                          1\n",
              "TCP DL Retrans. Vol (Bytes)                  88146\n",
              "TCP UL Retrans. Vol (Bytes)                  96649\n",
              "DL TP < 50 Kbps (%)                            754\n",
              "50 Kbps < DL TP < 250 Kbps (%)                 754\n",
              "250 Kbps < DL TP < 1 Mbps (%)                  754\n",
              "DL TP > 1 Mbps (%)                             754\n",
              "UL TP < 10 Kbps (%)                            792\n",
              "10 Kbps < UL TP < 50 Kbps (%)                  792\n",
              "50 Kbps < UL TP < 300 Kbps (%)                 792\n",
              "UL TP > 300 Kbps (%)                           792\n",
              "HTTP DL (Bytes)                              81474\n",
              "HTTP UL (Bytes)                              81810\n",
              "Activity Duration DL (ms)                        1\n",
              "Activity Duration UL (ms)                        1\n",
              "Dur. (ms).1                                      1\n",
              "Handset Manufacturer                          9559\n",
              "Handset Type                                  9559\n",
              "Nb of sec with 125000B < Vol DL              97538\n",
              "Nb of sec with 1250B < Vol UL < 6250B        92894\n",
              "Nb of sec with 31250B < Vol DL < 125000B     93586\n",
              "Nb of sec with 37500B < Vol UL              130254\n",
              "Nb of sec with 6250B < Vol DL < 31250B       88317\n",
              "Nb of sec with 6250B < Vol UL < 37500B      111843\n",
              "Nb of sec with Vol DL < 6250B                  755\n",
              "Nb of sec with Vol UL < 1250B                  793\n",
              "Social Media DL (Bytes)                          0\n",
              "Social Media UL (Bytes)                          0\n",
              "Google DL (Bytes)                                0\n",
              "Google UL (Bytes)                                0\n",
              "Email DL (Bytes)                                 0\n",
              "Email UL (Bytes)                                 0\n",
              "Youtube DL (Bytes)                               0\n",
              "Youtube UL (Bytes)                               0\n",
              "Netflix DL (Bytes)                               0\n",
              "Netflix UL (Bytes)                               0\n",
              "Gaming DL (Bytes)                                0\n",
              "Gaming UL (Bytes)                                0\n",
              "Other DL (Bytes)                                 0\n",
              "Other UL (Bytes)                                 0\n",
              "Total UL (Bytes)                                 1\n",
              "Total DL (Bytes)                                 1\n",
              "dtype: int64"
            ]
          },
          "metadata": {},
          "execution_count": 125
        }
      ]
    },
    {
      "cell_type": "code",
      "source": [
        "db.dtypes"
      ],
      "metadata": {
        "colab": {
          "base_uri": "https://localhost:8080/"
        },
        "id": "JYIqxoMF99C7",
        "outputId": "e87ffea3-5b21-4a62-f788-5c12eaefe22e"
      },
      "id": "JYIqxoMF99C7",
      "execution_count": 126,
      "outputs": [
        {
          "output_type": "execute_result",
          "data": {
            "text/plain": [
              "Bearer Id                                   float64\n",
              "Start                                        object\n",
              "Start ms                                    float64\n",
              "End                                          object\n",
              "End ms                                      float64\n",
              "Dur. (ms)                                   float64\n",
              "IMSI                                        float64\n",
              "MSISDN/Number                               float64\n",
              "IMEI                                        float64\n",
              "Last Location Name                           object\n",
              "Avg RTT DL (ms)                             float64\n",
              "Avg RTT UL (ms)                             float64\n",
              "Avg Bearer TP DL (kbps)                     float64\n",
              "Avg Bearer TP UL (kbps)                     float64\n",
              "TCP DL Retrans. Vol (Bytes)                 float64\n",
              "TCP UL Retrans. Vol (Bytes)                 float64\n",
              "DL TP < 50 Kbps (%)                         float64\n",
              "50 Kbps < DL TP < 250 Kbps (%)              float64\n",
              "250 Kbps < DL TP < 1 Mbps (%)               float64\n",
              "DL TP > 1 Mbps (%)                          float64\n",
              "UL TP < 10 Kbps (%)                         float64\n",
              "10 Kbps < UL TP < 50 Kbps (%)               float64\n",
              "50 Kbps < UL TP < 300 Kbps (%)              float64\n",
              "UL TP > 300 Kbps (%)                        float64\n",
              "HTTP DL (Bytes)                             float64\n",
              "HTTP UL (Bytes)                             float64\n",
              "Activity Duration DL (ms)                   float64\n",
              "Activity Duration UL (ms)                   float64\n",
              "Dur. (ms).1                                 float64\n",
              "Handset Manufacturer                         object\n",
              "Handset Type                                 object\n",
              "Nb of sec with 125000B < Vol DL             float64\n",
              "Nb of sec with 1250B < Vol UL < 6250B       float64\n",
              "Nb of sec with 31250B < Vol DL < 125000B    float64\n",
              "Nb of sec with 37500B < Vol UL              float64\n",
              "Nb of sec with 6250B < Vol DL < 31250B      float64\n",
              "Nb of sec with 6250B < Vol UL < 37500B      float64\n",
              "Nb of sec with Vol DL < 6250B               float64\n",
              "Nb of sec with Vol UL < 1250B               float64\n",
              "Social Media DL (Bytes)                     float64\n",
              "Social Media UL (Bytes)                     float64\n",
              "Google DL (Bytes)                           float64\n",
              "Google UL (Bytes)                           float64\n",
              "Email DL (Bytes)                            float64\n",
              "Email UL (Bytes)                            float64\n",
              "Youtube DL (Bytes)                          float64\n",
              "Youtube UL (Bytes)                          float64\n",
              "Netflix DL (Bytes)                          float64\n",
              "Netflix UL (Bytes)                          float64\n",
              "Gaming DL (Bytes)                           float64\n",
              "Gaming UL (Bytes)                           float64\n",
              "Other DL (Bytes)                            float64\n",
              "Other UL (Bytes)                            float64\n",
              "Total UL (Bytes)                            float64\n",
              "Total DL (Bytes)                            float64\n",
              "dtype: object"
            ]
          },
          "metadata": {},
          "execution_count": 126
        }
      ]
    },
    {
      "cell_type": "code",
      "execution_count": 118,
      "id": "6711f019",
      "metadata": {
        "id": "6711f019"
      },
      "outputs": [],
      "source": [
        "# # drop columns with more than 30% missing values\n",
        "# df_clean = db.drop(['weight', 'payer_code', 'medical_specialty', 'max_glu_serum', 'A1Cresult'], axis=1)\n",
        "# df_clean.shape"
      ]
    },
    {
      "cell_type": "code",
      "execution_count": 129,
      "id": "85f2e55b",
      "metadata": {
        "id": "85f2e55b",
        "colab": {
          "base_uri": "https://localhost:8080/"
        },
        "outputId": "88969c6f-7f3a-4fa2-bfea-af270256ab1e"
      },
      "outputs": [
        {
          "output_type": "execute_result",
          "data": {
            "text/plain": [
              "0          Samsung Galaxy A5 Sm-A520F\n",
              "1         Samsung Galaxy J5 (Sm-J530)\n",
              "2            Samsung Galaxy A8 (2018)\n",
              "3                    Huawei B528S-23A\n",
              "4                    Samsung Sm-G390F\n",
              "                     ...             \n",
              "149996    Apple iPhone 8 Plus (A1897)\n",
              "149997        Apple iPhone Se (A1723)\n",
              "149998        Apple iPhone Xs (A2097)\n",
              "149999                 Huawei Fig-Lx1\n",
              "150000               Huawei B528S-23A\n",
              "Name: Handset Type, Length: 150001, dtype: object"
            ]
          },
          "metadata": {},
          "execution_count": 129
        }
      ],
      "source": [
        "# fill missing with ffill method for columns (diag_1, diag_2, diag_3)\n",
        "\n",
        "def fix_missing_ffill(df, col):\n",
        "    df[col] = df[col].fillna(method='ffill')\n",
        "    return df[col]\n",
        "\n",
        "\n",
        "def fix_missing_bfill(df, col):\n",
        "    df[col] = df[col].fillna(method='bfill')\n",
        "    return df[col]\n",
        "\n",
        "# fill numeric columns with ffill and bfill\n",
        "db['Nb of sec with 6250B < Vol UL < 37500B'] = fix_missing_ffill(db, 'Nb of sec with 6250B < Vol UL < 37500B')\n",
        "db['Nb of sec with 37500B < Vol UL'] = fix_missing_ffill(db, 'Nb of sec with 37500B < Vol UL')\n",
        "\n",
        "# fill  object columns with mode \n",
        "db['Handset Manufacturer'] = db['Handset Manufacturer'].fillna(db['Handset Manufacturer'].mode()[0])\n",
        "db['Handset Type'] = db['Handset Type'].fillna(db['Handset Type'].mode()[0])\n",
        "\n",
        "db['Handset Type']"
      ]
    },
    {
      "cell_type": "markdown",
      "source": [
        "It is also possible to fillna with interploate method. Fill NaN values using an interpolation method. Based on the approach/method used, Interpolate will try to determine any missing values.\n",
        "\n",
        "df.interpolate(inplace=True)"
      ],
      "metadata": {
        "id": "iV4n53BBRbzQ"
      },
      "id": "iV4n53BBRbzQ"
    },
    {
      "cell_type": "code",
      "source": [
        "db.interpolate(inplace=True)\n",
        "db"
      ],
      "metadata": {
        "colab": {
          "base_uri": "https://localhost:8080/",
          "height": 887
        },
        "id": "M5dhj-iiBAr-",
        "outputId": "0dc54602-5877-4883-805c-8b8473aeb6b2"
      },
      "id": "M5dhj-iiBAr-",
      "execution_count": 131,
      "outputs": [
        {
          "output_type": "execute_result",
          "data": {
            "text/plain": [
              "           Bearer Id            Start  Start ms              End  End ms  \\\n",
              "0       1.311448e+19   4/4/2019 12:01     770.0  4/25/2019 14:35   662.0   \n",
              "1       1.311448e+19   4/9/2019 13:04     235.0   4/25/2019 8:15   606.0   \n",
              "2       1.311448e+19   4/9/2019 17:42       1.0  4/25/2019 11:58   652.0   \n",
              "3       1.311448e+19   4/10/2019 0:31     486.0   4/25/2019 7:36   171.0   \n",
              "4       1.311448e+19  4/12/2019 20:10     565.0  4/25/2019 10:40   954.0   \n",
              "...              ...              ...       ...              ...     ...   \n",
              "149996  7.277826e+18   4/29/2019 7:28     451.0   4/30/2019 6:02   214.0   \n",
              "149997  7.349883e+18   4/29/2019 7:28     483.0  4/30/2019 10:41   187.0   \n",
              "149998  1.311448e+19   4/29/2019 7:28     283.0  4/30/2019 10:46   810.0   \n",
              "149999  1.311448e+19   4/29/2019 7:28     696.0  4/30/2019 10:40   327.0   \n",
              "150000  1.311448e+19              NaN     696.0              NaN   327.0   \n",
              "\n",
              "        Dur. (ms)          IMSI  MSISDN/Number          IMEI  \\\n",
              "0       1823652.0  2.082014e+14   3.366496e+10  3.552121e+13   \n",
              "1       1365104.0  2.082019e+14   3.368185e+10  3.579401e+13   \n",
              "2       1361762.0  2.082003e+14   3.376063e+10  3.528151e+13   \n",
              "3       1321509.0  2.082014e+14   3.375034e+10  3.535661e+13   \n",
              "4       1089009.0  2.082014e+14   3.369980e+10  3.540701e+13   \n",
              "...           ...           ...            ...           ...   \n",
              "149996    81230.0  2.082022e+14   3.365069e+10  3.548311e+13   \n",
              "149997    97970.0  2.082019e+14   3.366345e+10  3.566051e+13   \n",
              "149998    98249.0  2.082017e+14   3.362189e+10  3.572121e+13   \n",
              "149999    97910.0  2.082021e+14   3.361962e+10  8.618620e+13   \n",
              "150000    97910.0  2.082021e+14   3.361962e+10  8.618620e+13   \n",
              "\n",
              "           Last Location Name  Avg RTT DL (ms)  Avg RTT UL (ms)  \\\n",
              "0       9.16456699548519E+015             42.0              5.0   \n",
              "1                     L77566A             65.0              5.0   \n",
              "2                     D42335A             72.4              5.0   \n",
              "3                     T21824A             79.8              5.0   \n",
              "4                     D88865A             87.2              5.0   \n",
              "...                       ...              ...              ...   \n",
              "149996                D20434A             32.0              0.0   \n",
              "149997                D10223C             27.0              2.0   \n",
              "149998                T51102A             43.0              6.0   \n",
              "149999                L88342B             37.0              5.0   \n",
              "150000                    NaN             37.0              5.0   \n",
              "\n",
              "        Avg Bearer TP DL (kbps)  Avg Bearer TP UL (kbps)  \\\n",
              "0                          23.0                     44.0   \n",
              "1                          16.0                     26.0   \n",
              "2                           6.0                      9.0   \n",
              "3                          44.0                     44.0   \n",
              "4                           6.0                      9.0   \n",
              "...                         ...                      ...   \n",
              "149996                     52.0                     65.0   \n",
              "149997                     23.0                     54.0   \n",
              "149998                     43.0                     47.0   \n",
              "149999                     34.0                     37.0   \n",
              "150000                     34.0                     37.0   \n",
              "\n",
              "        TCP DL Retrans. Vol (Bytes)  TCP UL Retrans. Vol (Bytes)  \\\n",
              "0                               NaN                          NaN   \n",
              "1                               NaN                          NaN   \n",
              "2                               NaN                          NaN   \n",
              "3                               NaN                          NaN   \n",
              "4                               NaN                          NaN   \n",
              "...                             ...                          ...   \n",
              "149996                   16552848.0                     162614.0   \n",
              "149997                   16552848.0                     162614.0   \n",
              "149998                   16552848.0                     162614.0   \n",
              "149999                   16552848.0                     162614.0   \n",
              "150000                   16552848.0                     162614.0   \n",
              "\n",
              "        DL TP < 50 Kbps (%)  50 Kbps < DL TP < 250 Kbps (%)  \\\n",
              "0                     100.0                             0.0   \n",
              "1                     100.0                             0.0   \n",
              "2                     100.0                             0.0   \n",
              "3                     100.0                             0.0   \n",
              "4                     100.0                             0.0   \n",
              "...                     ...                             ...   \n",
              "149996                100.0                             0.0   \n",
              "149997                100.0                             0.0   \n",
              "149998                100.0                             0.0   \n",
              "149999                100.0                             0.0   \n",
              "150000                100.0                             0.0   \n",
              "\n",
              "        250 Kbps < DL TP < 1 Mbps (%)  DL TP > 1 Mbps (%)  \\\n",
              "0                                 0.0                 0.0   \n",
              "1                                 0.0                 0.0   \n",
              "2                                 0.0                 0.0   \n",
              "3                                 0.0                 0.0   \n",
              "4                                 0.0                 0.0   \n",
              "...                               ...                 ...   \n",
              "149996                            0.0                 0.0   \n",
              "149997                            0.0                 0.0   \n",
              "149998                            0.0                 0.0   \n",
              "149999                            0.0                 0.0   \n",
              "150000                            0.0                 0.0   \n",
              "\n",
              "        UL TP < 10 Kbps (%)  10 Kbps < UL TP < 50 Kbps (%)  \\\n",
              "0                     100.0                            0.0   \n",
              "1                     100.0                            0.0   \n",
              "2                     100.0                            0.0   \n",
              "3                     100.0                            0.0   \n",
              "4                     100.0                            0.0   \n",
              "...                     ...                            ...   \n",
              "149996                100.0                            0.0   \n",
              "149997                100.0                            0.0   \n",
              "149998                100.0                            0.0   \n",
              "149999                100.0                            0.0   \n",
              "150000                100.0                            0.0   \n",
              "\n",
              "        50 Kbps < UL TP < 300 Kbps (%)  UL TP > 300 Kbps (%)  HTTP DL (Bytes)  \\\n",
              "0                                  0.0                   0.0              NaN   \n",
              "1                                  0.0                   0.0              NaN   \n",
              "2                                  0.0                   0.0              NaN   \n",
              "3                                  0.0                   0.0              NaN   \n",
              "4                                  0.0                   0.0              NaN   \n",
              "...                                ...                   ...              ...   \n",
              "149996                             0.0                   0.0       16388988.0   \n",
              "149997                             0.0                   0.0       16388988.0   \n",
              "149998                             0.0                   0.0       16388988.0   \n",
              "149999                             0.0                   0.0       16388988.0   \n",
              "150000                             0.0                   0.0       16388988.0   \n",
              "\n",
              "        HTTP UL (Bytes)  Activity Duration DL (ms)  Activity Duration UL (ms)  \\\n",
              "0                   NaN                    37624.0                    38787.0   \n",
              "1                   NaN                      168.0                     3560.0   \n",
              "2                   NaN                        0.0                        0.0   \n",
              "3                   NaN                     3330.0                    37882.0   \n",
              "4                   NaN                        0.0                        0.0   \n",
              "...                 ...                        ...                        ...   \n",
              "149996        2672663.0                    42376.0                    41915.0   \n",
              "149997        2672663.0                    17264.0                    16759.0   \n",
              "149998        2672663.0                    25003.0                    28640.0   \n",
              "149999        2672663.0                    13405.0                    34088.0   \n",
              "150000        2672663.0                    13405.0                    34088.0   \n",
              "\n",
              "         Dur. (ms).1 Handset Manufacturer                 Handset Type  \\\n",
              "0       1.823653e+09              Samsung   Samsung Galaxy A5 Sm-A520F   \n",
              "1       1.365104e+09              Samsung  Samsung Galaxy J5 (Sm-J530)   \n",
              "2       1.361763e+09              Samsung     Samsung Galaxy A8 (2018)   \n",
              "3       1.321510e+09                Apple             Huawei B528S-23A   \n",
              "4       1.089009e+09              Samsung             Samsung Sm-G390F   \n",
              "...              ...                  ...                          ...   \n",
              "149996  8.123076e+07                Apple  Apple iPhone 8 Plus (A1897)   \n",
              "149997  9.797070e+07                Apple      Apple iPhone Se (A1723)   \n",
              "149998  9.824953e+07                Apple      Apple iPhone Xs (A2097)   \n",
              "149999  9.791063e+07               Huawei               Huawei Fig-Lx1   \n",
              "150000  9.791063e+07                Apple             Huawei B528S-23A   \n",
              "\n",
              "        Nb of sec with 125000B < Vol DL  \\\n",
              "0                                   NaN   \n",
              "1                                   NaN   \n",
              "2                                   NaN   \n",
              "3                                   NaN   \n",
              "4                                   NaN   \n",
              "...                                 ...   \n",
              "149996                           1080.0   \n",
              "149997                           1080.0   \n",
              "149998                           1080.0   \n",
              "149999                           1080.0   \n",
              "150000                           1080.0   \n",
              "\n",
              "        Nb of sec with 1250B < Vol UL < 6250B  \\\n",
              "0                                         NaN   \n",
              "1                                         NaN   \n",
              "2                                         NaN   \n",
              "3                                         NaN   \n",
              "4                                         NaN   \n",
              "...                                       ...   \n",
              "149996                                  314.0   \n",
              "149997                                  314.0   \n",
              "149998                                  314.0   \n",
              "149999                                  314.0   \n",
              "150000                                  314.0   \n",
              "\n",
              "        Nb of sec with 31250B < Vol DL < 125000B  \\\n",
              "0                                            NaN   \n",
              "1                                            NaN   \n",
              "2                                            NaN   \n",
              "3                                            NaN   \n",
              "4                                            NaN   \n",
              "...                                          ...   \n",
              "149996                                     852.0   \n",
              "149997                                     852.0   \n",
              "149998                                     852.0   \n",
              "149999                                     852.0   \n",
              "150000                                     852.0   \n",
              "\n",
              "        Nb of sec with 37500B < Vol UL  \\\n",
              "0                                  NaN   \n",
              "1                                  NaN   \n",
              "2                                  NaN   \n",
              "3                                  NaN   \n",
              "4                                  NaN   \n",
              "...                                ...   \n",
              "149996                             5.0   \n",
              "149997                             5.0   \n",
              "149998                             5.0   \n",
              "149999                             5.0   \n",
              "150000                             5.0   \n",
              "\n",
              "        Nb of sec with 6250B < Vol DL < 31250B  \\\n",
              "0                                          NaN   \n",
              "1                                          NaN   \n",
              "2                                          NaN   \n",
              "3                                          NaN   \n",
              "4                                          NaN   \n",
              "...                                        ...   \n",
              "149996                                  2068.0   \n",
              "149997                                  2068.0   \n",
              "149998                                  2068.0   \n",
              "149999                                  2068.0   \n",
              "150000                                  2068.0   \n",
              "\n",
              "        Nb of sec with 6250B < Vol UL < 37500B  Nb of sec with Vol DL < 6250B  \\\n",
              "0                                          NaN                          213.0   \n",
              "1                                          NaN                          971.0   \n",
              "2                                          NaN                          751.0   \n",
              "3                                          NaN                           17.0   \n",
              "4                                          NaN                          607.0   \n",
              "...                                        ...                            ...   \n",
              "149996                                     8.0                          223.0   \n",
              "149997                                     8.0                          105.0   \n",
              "149998                                     8.0                          104.0   \n",
              "149999                                     8.0                           43.0   \n",
              "150000                                     8.0                           43.0   \n",
              "\n",
              "        Nb of sec with Vol UL < 1250B  Social Media DL (Bytes)  \\\n",
              "0                               214.0             1.545765e+06   \n",
              "1                              1022.0             1.926113e+06   \n",
              "2                               695.0             1.684053e+06   \n",
              "3                               207.0             6.441210e+05   \n",
              "4                               604.0             8.626000e+05   \n",
              "...                               ...                      ...   \n",
              "149996                          229.0             3.464974e+06   \n",
              "149997                          102.0             2.344568e+06   \n",
              "149998                          108.0             1.245845e+06   \n",
              "149999                           82.0             8.015470e+05   \n",
              "150000                           82.0             1.795322e+06   \n",
              "\n",
              "        Social Media UL (Bytes)  Google DL (Bytes)  Google UL (Bytes)  \\\n",
              "0                   24420.00000       1.634479e+06       1.271433e+06   \n",
              "1                    7165.00000       3.493924e+06       9.201720e+05   \n",
              "2                   42224.00000       8.535055e+06       1.694064e+06   \n",
              "3                   13372.00000       9.023734e+06       2.788027e+06   \n",
              "4                   50188.00000       6.248284e+06       1.500559e+06   \n",
              "...                         ...                ...                ...   \n",
              "149996              52091.00000       9.967603e+06       2.817311e+06   \n",
              "149997               7613.00000       2.229420e+06       2.185941e+06   \n",
              "149998              14394.00000       3.850890e+06       2.734579e+06   \n",
              "149999              21562.00000       4.189773e+06       3.567494e+06   \n",
              "150000              32928.43438       5.750753e+06       2.056542e+06   \n",
              "\n",
              "        Email DL (Bytes)  Email UL (Bytes)  Youtube DL (Bytes)  \\\n",
              "0           3.563542e+06      137762.00000        1.585461e+07   \n",
              "1           6.290460e+05      308339.00000        2.024740e+07   \n",
              "2           2.690151e+06      672973.00000        1.972566e+07   \n",
              "3           1.439754e+06      631229.00000        2.138812e+07   \n",
              "4           1.936496e+06      173853.00000        1.525938e+07   \n",
              "...                  ...               ...                 ...   \n",
              "149996      5.763900e+04      633237.00000        1.619167e+07   \n",
              "149997      1.954414e+06      167304.00000        1.387723e+07   \n",
              "149998      1.525734e+06      532543.00000        2.266051e+07   \n",
              "149999      2.228270e+06      622644.00000        8.817106e+06   \n",
              "150000      1.791729e+06      467373.44194        1.163407e+07   \n",
              "\n",
              "        Youtube UL (Bytes)  Netflix DL (Bytes)  Netflix UL (Bytes)  \\\n",
              "0             2.501332e+06        8.198936e+06        9.656251e+06   \n",
              "1             1.911173e+07        1.833841e+07        1.722713e+07   \n",
              "2             1.469958e+07        1.758779e+07        6.163408e+06   \n",
              "3             1.514664e+07        1.399465e+07        1.097942e+06   \n",
              "4             1.896287e+07        1.712458e+07        4.152180e+05   \n",
              "...                    ...                 ...                 ...   \n",
              "149996        1.176343e+07        1.788370e+07        1.967816e+07   \n",
              "149997        8.288284e+06        1.935015e+07        2.129315e+07   \n",
              "149998        1.855903e+06        9.963942e+06        5.065760e+06   \n",
              "149999        8.305402e+06        3.322253e+06        1.317259e+07   \n",
              "150000        1.100941e+07        1.162685e+07        1.100175e+07   \n",
              "\n",
              "        Gaming DL (Bytes)  Gaming UL (Bytes)  Other DL (Bytes)  \\\n",
              "0            2.780823e+08       1.434415e+07      1.717444e+08   \n",
              "1            6.087501e+08       1.170709e+06      5.269042e+08   \n",
              "2            2.295846e+08       3.956300e+05      4.106926e+08   \n",
              "3            7.995382e+08       1.084972e+07      7.490399e+08   \n",
              "4            5.277072e+08       3.529801e+06      5.507095e+08   \n",
              "...                   ...                ...               ...   \n",
              "149996       5.266097e+08       9.197207e+06      3.264510e+06   \n",
              "149997       6.268931e+08       4.735033e+06      7.121804e+08   \n",
              "149998       5.535395e+08       1.339432e+07      1.211009e+08   \n",
              "149999       3.525370e+08       2.529475e+06      8.147131e+08   \n",
              "150000       4.220447e+08       8.288398e+06      4.211005e+08   \n",
              "\n",
              "        Other UL (Bytes)  Total UL (Bytes)  Total DL (Bytes)  \n",
              "0           8.814393e+06        36749741.0       308879636.0  \n",
              "1           1.505514e+07        53800391.0       653384965.0  \n",
              "2           4.215763e+06        27883638.0       279807335.0  \n",
              "3           1.279728e+07        43324218.0       846028530.0  \n",
              "4           1.391032e+07        38542814.0       569138589.0  \n",
              "...                  ...               ...               ...  \n",
              "149996      1.348742e+07        57628851.0       574175259.0  \n",
              "149997      2.457758e+06        39135081.0       666648844.0  \n",
              "149998      1.131473e+07        34912224.0       592786405.0  \n",
              "149999      1.406930e+06        29626096.0       371895920.0  \n",
              "150000      8.264799e+06        29626096.0       371895920.0  \n",
              "\n",
              "[150001 rows x 55 columns]"
            ],
            "text/html": [
              "\n",
              "  <div id=\"df-b646f5cb-908e-444a-8770-ad2886277f86\">\n",
              "    <div class=\"colab-df-container\">\n",
              "      <div>\n",
              "<style scoped>\n",
              "    .dataframe tbody tr th:only-of-type {\n",
              "        vertical-align: middle;\n",
              "    }\n",
              "\n",
              "    .dataframe tbody tr th {\n",
              "        vertical-align: top;\n",
              "    }\n",
              "\n",
              "    .dataframe thead th {\n",
              "        text-align: right;\n",
              "    }\n",
              "</style>\n",
              "<table border=\"1\" class=\"dataframe\">\n",
              "  <thead>\n",
              "    <tr style=\"text-align: right;\">\n",
              "      <th></th>\n",
              "      <th>Bearer Id</th>\n",
              "      <th>Start</th>\n",
              "      <th>Start ms</th>\n",
              "      <th>End</th>\n",
              "      <th>End ms</th>\n",
              "      <th>Dur. (ms)</th>\n",
              "      <th>IMSI</th>\n",
              "      <th>MSISDN/Number</th>\n",
              "      <th>IMEI</th>\n",
              "      <th>Last Location Name</th>\n",
              "      <th>Avg RTT DL (ms)</th>\n",
              "      <th>Avg RTT UL (ms)</th>\n",
              "      <th>Avg Bearer TP DL (kbps)</th>\n",
              "      <th>Avg Bearer TP UL (kbps)</th>\n",
              "      <th>TCP DL Retrans. Vol (Bytes)</th>\n",
              "      <th>TCP UL Retrans. Vol (Bytes)</th>\n",
              "      <th>DL TP &lt; 50 Kbps (%)</th>\n",
              "      <th>50 Kbps &lt; DL TP &lt; 250 Kbps (%)</th>\n",
              "      <th>250 Kbps &lt; DL TP &lt; 1 Mbps (%)</th>\n",
              "      <th>DL TP &gt; 1 Mbps (%)</th>\n",
              "      <th>UL TP &lt; 10 Kbps (%)</th>\n",
              "      <th>10 Kbps &lt; UL TP &lt; 50 Kbps (%)</th>\n",
              "      <th>50 Kbps &lt; UL TP &lt; 300 Kbps (%)</th>\n",
              "      <th>UL TP &gt; 300 Kbps (%)</th>\n",
              "      <th>HTTP DL (Bytes)</th>\n",
              "      <th>HTTP UL (Bytes)</th>\n",
              "      <th>Activity Duration DL (ms)</th>\n",
              "      <th>Activity Duration UL (ms)</th>\n",
              "      <th>Dur. (ms).1</th>\n",
              "      <th>Handset Manufacturer</th>\n",
              "      <th>Handset Type</th>\n",
              "      <th>Nb of sec with 125000B &lt; Vol DL</th>\n",
              "      <th>Nb of sec with 1250B &lt; Vol UL &lt; 6250B</th>\n",
              "      <th>Nb of sec with 31250B &lt; Vol DL &lt; 125000B</th>\n",
              "      <th>Nb of sec with 37500B &lt; Vol UL</th>\n",
              "      <th>Nb of sec with 6250B &lt; Vol DL &lt; 31250B</th>\n",
              "      <th>Nb of sec with 6250B &lt; Vol UL &lt; 37500B</th>\n",
              "      <th>Nb of sec with Vol DL &lt; 6250B</th>\n",
              "      <th>Nb of sec with Vol UL &lt; 1250B</th>\n",
              "      <th>Social Media DL (Bytes)</th>\n",
              "      <th>Social Media UL (Bytes)</th>\n",
              "      <th>Google DL (Bytes)</th>\n",
              "      <th>Google UL (Bytes)</th>\n",
              "      <th>Email DL (Bytes)</th>\n",
              "      <th>Email UL (Bytes)</th>\n",
              "      <th>Youtube DL (Bytes)</th>\n",
              "      <th>Youtube UL (Bytes)</th>\n",
              "      <th>Netflix DL (Bytes)</th>\n",
              "      <th>Netflix UL (Bytes)</th>\n",
              "      <th>Gaming DL (Bytes)</th>\n",
              "      <th>Gaming UL (Bytes)</th>\n",
              "      <th>Other DL (Bytes)</th>\n",
              "      <th>Other UL (Bytes)</th>\n",
              "      <th>Total UL (Bytes)</th>\n",
              "      <th>Total DL (Bytes)</th>\n",
              "    </tr>\n",
              "  </thead>\n",
              "  <tbody>\n",
              "    <tr>\n",
              "      <th>0</th>\n",
              "      <td>1.311448e+19</td>\n",
              "      <td>4/4/2019 12:01</td>\n",
              "      <td>770.0</td>\n",
              "      <td>4/25/2019 14:35</td>\n",
              "      <td>662.0</td>\n",
              "      <td>1823652.0</td>\n",
              "      <td>2.082014e+14</td>\n",
              "      <td>3.366496e+10</td>\n",
              "      <td>3.552121e+13</td>\n",
              "      <td>9.16456699548519E+015</td>\n",
              "      <td>42.0</td>\n",
              "      <td>5.0</td>\n",
              "      <td>23.0</td>\n",
              "      <td>44.0</td>\n",
              "      <td>NaN</td>\n",
              "      <td>NaN</td>\n",
              "      <td>100.0</td>\n",
              "      <td>0.0</td>\n",
              "      <td>0.0</td>\n",
              "      <td>0.0</td>\n",
              "      <td>100.0</td>\n",
              "      <td>0.0</td>\n",
              "      <td>0.0</td>\n",
              "      <td>0.0</td>\n",
              "      <td>NaN</td>\n",
              "      <td>NaN</td>\n",
              "      <td>37624.0</td>\n",
              "      <td>38787.0</td>\n",
              "      <td>1.823653e+09</td>\n",
              "      <td>Samsung</td>\n",
              "      <td>Samsung Galaxy A5 Sm-A520F</td>\n",
              "      <td>NaN</td>\n",
              "      <td>NaN</td>\n",
              "      <td>NaN</td>\n",
              "      <td>NaN</td>\n",
              "      <td>NaN</td>\n",
              "      <td>NaN</td>\n",
              "      <td>213.0</td>\n",
              "      <td>214.0</td>\n",
              "      <td>1.545765e+06</td>\n",
              "      <td>24420.00000</td>\n",
              "      <td>1.634479e+06</td>\n",
              "      <td>1.271433e+06</td>\n",
              "      <td>3.563542e+06</td>\n",
              "      <td>137762.00000</td>\n",
              "      <td>1.585461e+07</td>\n",
              "      <td>2.501332e+06</td>\n",
              "      <td>8.198936e+06</td>\n",
              "      <td>9.656251e+06</td>\n",
              "      <td>2.780823e+08</td>\n",
              "      <td>1.434415e+07</td>\n",
              "      <td>1.717444e+08</td>\n",
              "      <td>8.814393e+06</td>\n",
              "      <td>36749741.0</td>\n",
              "      <td>308879636.0</td>\n",
              "    </tr>\n",
              "    <tr>\n",
              "      <th>1</th>\n",
              "      <td>1.311448e+19</td>\n",
              "      <td>4/9/2019 13:04</td>\n",
              "      <td>235.0</td>\n",
              "      <td>4/25/2019 8:15</td>\n",
              "      <td>606.0</td>\n",
              "      <td>1365104.0</td>\n",
              "      <td>2.082019e+14</td>\n",
              "      <td>3.368185e+10</td>\n",
              "      <td>3.579401e+13</td>\n",
              "      <td>L77566A</td>\n",
              "      <td>65.0</td>\n",
              "      <td>5.0</td>\n",
              "      <td>16.0</td>\n",
              "      <td>26.0</td>\n",
              "      <td>NaN</td>\n",
              "      <td>NaN</td>\n",
              "      <td>100.0</td>\n",
              "      <td>0.0</td>\n",
              "      <td>0.0</td>\n",
              "      <td>0.0</td>\n",
              "      <td>100.0</td>\n",
              "      <td>0.0</td>\n",
              "      <td>0.0</td>\n",
              "      <td>0.0</td>\n",
              "      <td>NaN</td>\n",
              "      <td>NaN</td>\n",
              "      <td>168.0</td>\n",
              "      <td>3560.0</td>\n",
              "      <td>1.365104e+09</td>\n",
              "      <td>Samsung</td>\n",
              "      <td>Samsung Galaxy J5 (Sm-J530)</td>\n",
              "      <td>NaN</td>\n",
              "      <td>NaN</td>\n",
              "      <td>NaN</td>\n",
              "      <td>NaN</td>\n",
              "      <td>NaN</td>\n",
              "      <td>NaN</td>\n",
              "      <td>971.0</td>\n",
              "      <td>1022.0</td>\n",
              "      <td>1.926113e+06</td>\n",
              "      <td>7165.00000</td>\n",
              "      <td>3.493924e+06</td>\n",
              "      <td>9.201720e+05</td>\n",
              "      <td>6.290460e+05</td>\n",
              "      <td>308339.00000</td>\n",
              "      <td>2.024740e+07</td>\n",
              "      <td>1.911173e+07</td>\n",
              "      <td>1.833841e+07</td>\n",
              "      <td>1.722713e+07</td>\n",
              "      <td>6.087501e+08</td>\n",
              "      <td>1.170709e+06</td>\n",
              "      <td>5.269042e+08</td>\n",
              "      <td>1.505514e+07</td>\n",
              "      <td>53800391.0</td>\n",
              "      <td>653384965.0</td>\n",
              "    </tr>\n",
              "    <tr>\n",
              "      <th>2</th>\n",
              "      <td>1.311448e+19</td>\n",
              "      <td>4/9/2019 17:42</td>\n",
              "      <td>1.0</td>\n",
              "      <td>4/25/2019 11:58</td>\n",
              "      <td>652.0</td>\n",
              "      <td>1361762.0</td>\n",
              "      <td>2.082003e+14</td>\n",
              "      <td>3.376063e+10</td>\n",
              "      <td>3.528151e+13</td>\n",
              "      <td>D42335A</td>\n",
              "      <td>72.4</td>\n",
              "      <td>5.0</td>\n",
              "      <td>6.0</td>\n",
              "      <td>9.0</td>\n",
              "      <td>NaN</td>\n",
              "      <td>NaN</td>\n",
              "      <td>100.0</td>\n",
              "      <td>0.0</td>\n",
              "      <td>0.0</td>\n",
              "      <td>0.0</td>\n",
              "      <td>100.0</td>\n",
              "      <td>0.0</td>\n",
              "      <td>0.0</td>\n",
              "      <td>0.0</td>\n",
              "      <td>NaN</td>\n",
              "      <td>NaN</td>\n",
              "      <td>0.0</td>\n",
              "      <td>0.0</td>\n",
              "      <td>1.361763e+09</td>\n",
              "      <td>Samsung</td>\n",
              "      <td>Samsung Galaxy A8 (2018)</td>\n",
              "      <td>NaN</td>\n",
              "      <td>NaN</td>\n",
              "      <td>NaN</td>\n",
              "      <td>NaN</td>\n",
              "      <td>NaN</td>\n",
              "      <td>NaN</td>\n",
              "      <td>751.0</td>\n",
              "      <td>695.0</td>\n",
              "      <td>1.684053e+06</td>\n",
              "      <td>42224.00000</td>\n",
              "      <td>8.535055e+06</td>\n",
              "      <td>1.694064e+06</td>\n",
              "      <td>2.690151e+06</td>\n",
              "      <td>672973.00000</td>\n",
              "      <td>1.972566e+07</td>\n",
              "      <td>1.469958e+07</td>\n",
              "      <td>1.758779e+07</td>\n",
              "      <td>6.163408e+06</td>\n",
              "      <td>2.295846e+08</td>\n",
              "      <td>3.956300e+05</td>\n",
              "      <td>4.106926e+08</td>\n",
              "      <td>4.215763e+06</td>\n",
              "      <td>27883638.0</td>\n",
              "      <td>279807335.0</td>\n",
              "    </tr>\n",
              "    <tr>\n",
              "      <th>3</th>\n",
              "      <td>1.311448e+19</td>\n",
              "      <td>4/10/2019 0:31</td>\n",
              "      <td>486.0</td>\n",
              "      <td>4/25/2019 7:36</td>\n",
              "      <td>171.0</td>\n",
              "      <td>1321509.0</td>\n",
              "      <td>2.082014e+14</td>\n",
              "      <td>3.375034e+10</td>\n",
              "      <td>3.535661e+13</td>\n",
              "      <td>T21824A</td>\n",
              "      <td>79.8</td>\n",
              "      <td>5.0</td>\n",
              "      <td>44.0</td>\n",
              "      <td>44.0</td>\n",
              "      <td>NaN</td>\n",
              "      <td>NaN</td>\n",
              "      <td>100.0</td>\n",
              "      <td>0.0</td>\n",
              "      <td>0.0</td>\n",
              "      <td>0.0</td>\n",
              "      <td>100.0</td>\n",
              "      <td>0.0</td>\n",
              "      <td>0.0</td>\n",
              "      <td>0.0</td>\n",
              "      <td>NaN</td>\n",
              "      <td>NaN</td>\n",
              "      <td>3330.0</td>\n",
              "      <td>37882.0</td>\n",
              "      <td>1.321510e+09</td>\n",
              "      <td>Apple</td>\n",
              "      <td>Huawei B528S-23A</td>\n",
              "      <td>NaN</td>\n",
              "      <td>NaN</td>\n",
              "      <td>NaN</td>\n",
              "      <td>NaN</td>\n",
              "      <td>NaN</td>\n",
              "      <td>NaN</td>\n",
              "      <td>17.0</td>\n",
              "      <td>207.0</td>\n",
              "      <td>6.441210e+05</td>\n",
              "      <td>13372.00000</td>\n",
              "      <td>9.023734e+06</td>\n",
              "      <td>2.788027e+06</td>\n",
              "      <td>1.439754e+06</td>\n",
              "      <td>631229.00000</td>\n",
              "      <td>2.138812e+07</td>\n",
              "      <td>1.514664e+07</td>\n",
              "      <td>1.399465e+07</td>\n",
              "      <td>1.097942e+06</td>\n",
              "      <td>7.995382e+08</td>\n",
              "      <td>1.084972e+07</td>\n",
              "      <td>7.490399e+08</td>\n",
              "      <td>1.279728e+07</td>\n",
              "      <td>43324218.0</td>\n",
              "      <td>846028530.0</td>\n",
              "    </tr>\n",
              "    <tr>\n",
              "      <th>4</th>\n",
              "      <td>1.311448e+19</td>\n",
              "      <td>4/12/2019 20:10</td>\n",
              "      <td>565.0</td>\n",
              "      <td>4/25/2019 10:40</td>\n",
              "      <td>954.0</td>\n",
              "      <td>1089009.0</td>\n",
              "      <td>2.082014e+14</td>\n",
              "      <td>3.369980e+10</td>\n",
              "      <td>3.540701e+13</td>\n",
              "      <td>D88865A</td>\n",
              "      <td>87.2</td>\n",
              "      <td>5.0</td>\n",
              "      <td>6.0</td>\n",
              "      <td>9.0</td>\n",
              "      <td>NaN</td>\n",
              "      <td>NaN</td>\n",
              "      <td>100.0</td>\n",
              "      <td>0.0</td>\n",
              "      <td>0.0</td>\n",
              "      <td>0.0</td>\n",
              "      <td>100.0</td>\n",
              "      <td>0.0</td>\n",
              "      <td>0.0</td>\n",
              "      <td>0.0</td>\n",
              "      <td>NaN</td>\n",
              "      <td>NaN</td>\n",
              "      <td>0.0</td>\n",
              "      <td>0.0</td>\n",
              "      <td>1.089009e+09</td>\n",
              "      <td>Samsung</td>\n",
              "      <td>Samsung Sm-G390F</td>\n",
              "      <td>NaN</td>\n",
              "      <td>NaN</td>\n",
              "      <td>NaN</td>\n",
              "      <td>NaN</td>\n",
              "      <td>NaN</td>\n",
              "      <td>NaN</td>\n",
              "      <td>607.0</td>\n",
              "      <td>604.0</td>\n",
              "      <td>8.626000e+05</td>\n",
              "      <td>50188.00000</td>\n",
              "      <td>6.248284e+06</td>\n",
              "      <td>1.500559e+06</td>\n",
              "      <td>1.936496e+06</td>\n",
              "      <td>173853.00000</td>\n",
              "      <td>1.525938e+07</td>\n",
              "      <td>1.896287e+07</td>\n",
              "      <td>1.712458e+07</td>\n",
              "      <td>4.152180e+05</td>\n",
              "      <td>5.277072e+08</td>\n",
              "      <td>3.529801e+06</td>\n",
              "      <td>5.507095e+08</td>\n",
              "      <td>1.391032e+07</td>\n",
              "      <td>38542814.0</td>\n",
              "      <td>569138589.0</td>\n",
              "    </tr>\n",
              "    <tr>\n",
              "      <th>...</th>\n",
              "      <td>...</td>\n",
              "      <td>...</td>\n",
              "      <td>...</td>\n",
              "      <td>...</td>\n",
              "      <td>...</td>\n",
              "      <td>...</td>\n",
              "      <td>...</td>\n",
              "      <td>...</td>\n",
              "      <td>...</td>\n",
              "      <td>...</td>\n",
              "      <td>...</td>\n",
              "      <td>...</td>\n",
              "      <td>...</td>\n",
              "      <td>...</td>\n",
              "      <td>...</td>\n",
              "      <td>...</td>\n",
              "      <td>...</td>\n",
              "      <td>...</td>\n",
              "      <td>...</td>\n",
              "      <td>...</td>\n",
              "      <td>...</td>\n",
              "      <td>...</td>\n",
              "      <td>...</td>\n",
              "      <td>...</td>\n",
              "      <td>...</td>\n",
              "      <td>...</td>\n",
              "      <td>...</td>\n",
              "      <td>...</td>\n",
              "      <td>...</td>\n",
              "      <td>...</td>\n",
              "      <td>...</td>\n",
              "      <td>...</td>\n",
              "      <td>...</td>\n",
              "      <td>...</td>\n",
              "      <td>...</td>\n",
              "      <td>...</td>\n",
              "      <td>...</td>\n",
              "      <td>...</td>\n",
              "      <td>...</td>\n",
              "      <td>...</td>\n",
              "      <td>...</td>\n",
              "      <td>...</td>\n",
              "      <td>...</td>\n",
              "      <td>...</td>\n",
              "      <td>...</td>\n",
              "      <td>...</td>\n",
              "      <td>...</td>\n",
              "      <td>...</td>\n",
              "      <td>...</td>\n",
              "      <td>...</td>\n",
              "      <td>...</td>\n",
              "      <td>...</td>\n",
              "      <td>...</td>\n",
              "      <td>...</td>\n",
              "      <td>...</td>\n",
              "    </tr>\n",
              "    <tr>\n",
              "      <th>149996</th>\n",
              "      <td>7.277826e+18</td>\n",
              "      <td>4/29/2019 7:28</td>\n",
              "      <td>451.0</td>\n",
              "      <td>4/30/2019 6:02</td>\n",
              "      <td>214.0</td>\n",
              "      <td>81230.0</td>\n",
              "      <td>2.082022e+14</td>\n",
              "      <td>3.365069e+10</td>\n",
              "      <td>3.548311e+13</td>\n",
              "      <td>D20434A</td>\n",
              "      <td>32.0</td>\n",
              "      <td>0.0</td>\n",
              "      <td>52.0</td>\n",
              "      <td>65.0</td>\n",
              "      <td>16552848.0</td>\n",
              "      <td>162614.0</td>\n",
              "      <td>100.0</td>\n",
              "      <td>0.0</td>\n",
              "      <td>0.0</td>\n",
              "      <td>0.0</td>\n",
              "      <td>100.0</td>\n",
              "      <td>0.0</td>\n",
              "      <td>0.0</td>\n",
              "      <td>0.0</td>\n",
              "      <td>16388988.0</td>\n",
              "      <td>2672663.0</td>\n",
              "      <td>42376.0</td>\n",
              "      <td>41915.0</td>\n",
              "      <td>8.123076e+07</td>\n",
              "      <td>Apple</td>\n",
              "      <td>Apple iPhone 8 Plus (A1897)</td>\n",
              "      <td>1080.0</td>\n",
              "      <td>314.0</td>\n",
              "      <td>852.0</td>\n",
              "      <td>5.0</td>\n",
              "      <td>2068.0</td>\n",
              "      <td>8.0</td>\n",
              "      <td>223.0</td>\n",
              "      <td>229.0</td>\n",
              "      <td>3.464974e+06</td>\n",
              "      <td>52091.00000</td>\n",
              "      <td>9.967603e+06</td>\n",
              "      <td>2.817311e+06</td>\n",
              "      <td>5.763900e+04</td>\n",
              "      <td>633237.00000</td>\n",
              "      <td>1.619167e+07</td>\n",
              "      <td>1.176343e+07</td>\n",
              "      <td>1.788370e+07</td>\n",
              "      <td>1.967816e+07</td>\n",
              "      <td>5.266097e+08</td>\n",
              "      <td>9.197207e+06</td>\n",
              "      <td>3.264510e+06</td>\n",
              "      <td>1.348742e+07</td>\n",
              "      <td>57628851.0</td>\n",
              "      <td>574175259.0</td>\n",
              "    </tr>\n",
              "    <tr>\n",
              "      <th>149997</th>\n",
              "      <td>7.349883e+18</td>\n",
              "      <td>4/29/2019 7:28</td>\n",
              "      <td>483.0</td>\n",
              "      <td>4/30/2019 10:41</td>\n",
              "      <td>187.0</td>\n",
              "      <td>97970.0</td>\n",
              "      <td>2.082019e+14</td>\n",
              "      <td>3.366345e+10</td>\n",
              "      <td>3.566051e+13</td>\n",
              "      <td>D10223C</td>\n",
              "      <td>27.0</td>\n",
              "      <td>2.0</td>\n",
              "      <td>23.0</td>\n",
              "      <td>54.0</td>\n",
              "      <td>16552848.0</td>\n",
              "      <td>162614.0</td>\n",
              "      <td>100.0</td>\n",
              "      <td>0.0</td>\n",
              "      <td>0.0</td>\n",
              "      <td>0.0</td>\n",
              "      <td>100.0</td>\n",
              "      <td>0.0</td>\n",
              "      <td>0.0</td>\n",
              "      <td>0.0</td>\n",
              "      <td>16388988.0</td>\n",
              "      <td>2672663.0</td>\n",
              "      <td>17264.0</td>\n",
              "      <td>16759.0</td>\n",
              "      <td>9.797070e+07</td>\n",
              "      <td>Apple</td>\n",
              "      <td>Apple iPhone Se (A1723)</td>\n",
              "      <td>1080.0</td>\n",
              "      <td>314.0</td>\n",
              "      <td>852.0</td>\n",
              "      <td>5.0</td>\n",
              "      <td>2068.0</td>\n",
              "      <td>8.0</td>\n",
              "      <td>105.0</td>\n",
              "      <td>102.0</td>\n",
              "      <td>2.344568e+06</td>\n",
              "      <td>7613.00000</td>\n",
              "      <td>2.229420e+06</td>\n",
              "      <td>2.185941e+06</td>\n",
              "      <td>1.954414e+06</td>\n",
              "      <td>167304.00000</td>\n",
              "      <td>1.387723e+07</td>\n",
              "      <td>8.288284e+06</td>\n",
              "      <td>1.935015e+07</td>\n",
              "      <td>2.129315e+07</td>\n",
              "      <td>6.268931e+08</td>\n",
              "      <td>4.735033e+06</td>\n",
              "      <td>7.121804e+08</td>\n",
              "      <td>2.457758e+06</td>\n",
              "      <td>39135081.0</td>\n",
              "      <td>666648844.0</td>\n",
              "    </tr>\n",
              "    <tr>\n",
              "      <th>149998</th>\n",
              "      <td>1.311448e+19</td>\n",
              "      <td>4/29/2019 7:28</td>\n",
              "      <td>283.0</td>\n",
              "      <td>4/30/2019 10:46</td>\n",
              "      <td>810.0</td>\n",
              "      <td>98249.0</td>\n",
              "      <td>2.082017e+14</td>\n",
              "      <td>3.362189e+10</td>\n",
              "      <td>3.572121e+13</td>\n",
              "      <td>T51102A</td>\n",
              "      <td>43.0</td>\n",
              "      <td>6.0</td>\n",
              "      <td>43.0</td>\n",
              "      <td>47.0</td>\n",
              "      <td>16552848.0</td>\n",
              "      <td>162614.0</td>\n",
              "      <td>100.0</td>\n",
              "      <td>0.0</td>\n",
              "      <td>0.0</td>\n",
              "      <td>0.0</td>\n",
              "      <td>100.0</td>\n",
              "      <td>0.0</td>\n",
              "      <td>0.0</td>\n",
              "      <td>0.0</td>\n",
              "      <td>16388988.0</td>\n",
              "      <td>2672663.0</td>\n",
              "      <td>25003.0</td>\n",
              "      <td>28640.0</td>\n",
              "      <td>9.824953e+07</td>\n",
              "      <td>Apple</td>\n",
              "      <td>Apple iPhone Xs (A2097)</td>\n",
              "      <td>1080.0</td>\n",
              "      <td>314.0</td>\n",
              "      <td>852.0</td>\n",
              "      <td>5.0</td>\n",
              "      <td>2068.0</td>\n",
              "      <td>8.0</td>\n",
              "      <td>104.0</td>\n",
              "      <td>108.0</td>\n",
              "      <td>1.245845e+06</td>\n",
              "      <td>14394.00000</td>\n",
              "      <td>3.850890e+06</td>\n",
              "      <td>2.734579e+06</td>\n",
              "      <td>1.525734e+06</td>\n",
              "      <td>532543.00000</td>\n",
              "      <td>2.266051e+07</td>\n",
              "      <td>1.855903e+06</td>\n",
              "      <td>9.963942e+06</td>\n",
              "      <td>5.065760e+06</td>\n",
              "      <td>5.535395e+08</td>\n",
              "      <td>1.339432e+07</td>\n",
              "      <td>1.211009e+08</td>\n",
              "      <td>1.131473e+07</td>\n",
              "      <td>34912224.0</td>\n",
              "      <td>592786405.0</td>\n",
              "    </tr>\n",
              "    <tr>\n",
              "      <th>149999</th>\n",
              "      <td>1.311448e+19</td>\n",
              "      <td>4/29/2019 7:28</td>\n",
              "      <td>696.0</td>\n",
              "      <td>4/30/2019 10:40</td>\n",
              "      <td>327.0</td>\n",
              "      <td>97910.0</td>\n",
              "      <td>2.082021e+14</td>\n",
              "      <td>3.361962e+10</td>\n",
              "      <td>8.618620e+13</td>\n",
              "      <td>L88342B</td>\n",
              "      <td>37.0</td>\n",
              "      <td>5.0</td>\n",
              "      <td>34.0</td>\n",
              "      <td>37.0</td>\n",
              "      <td>16552848.0</td>\n",
              "      <td>162614.0</td>\n",
              "      <td>100.0</td>\n",
              "      <td>0.0</td>\n",
              "      <td>0.0</td>\n",
              "      <td>0.0</td>\n",
              "      <td>100.0</td>\n",
              "      <td>0.0</td>\n",
              "      <td>0.0</td>\n",
              "      <td>0.0</td>\n",
              "      <td>16388988.0</td>\n",
              "      <td>2672663.0</td>\n",
              "      <td>13405.0</td>\n",
              "      <td>34088.0</td>\n",
              "      <td>9.791063e+07</td>\n",
              "      <td>Huawei</td>\n",
              "      <td>Huawei Fig-Lx1</td>\n",
              "      <td>1080.0</td>\n",
              "      <td>314.0</td>\n",
              "      <td>852.0</td>\n",
              "      <td>5.0</td>\n",
              "      <td>2068.0</td>\n",
              "      <td>8.0</td>\n",
              "      <td>43.0</td>\n",
              "      <td>82.0</td>\n",
              "      <td>8.015470e+05</td>\n",
              "      <td>21562.00000</td>\n",
              "      <td>4.189773e+06</td>\n",
              "      <td>3.567494e+06</td>\n",
              "      <td>2.228270e+06</td>\n",
              "      <td>622644.00000</td>\n",
              "      <td>8.817106e+06</td>\n",
              "      <td>8.305402e+06</td>\n",
              "      <td>3.322253e+06</td>\n",
              "      <td>1.317259e+07</td>\n",
              "      <td>3.525370e+08</td>\n",
              "      <td>2.529475e+06</td>\n",
              "      <td>8.147131e+08</td>\n",
              "      <td>1.406930e+06</td>\n",
              "      <td>29626096.0</td>\n",
              "      <td>371895920.0</td>\n",
              "    </tr>\n",
              "    <tr>\n",
              "      <th>150000</th>\n",
              "      <td>1.311448e+19</td>\n",
              "      <td>NaN</td>\n",
              "      <td>696.0</td>\n",
              "      <td>NaN</td>\n",
              "      <td>327.0</td>\n",
              "      <td>97910.0</td>\n",
              "      <td>2.082021e+14</td>\n",
              "      <td>3.361962e+10</td>\n",
              "      <td>8.618620e+13</td>\n",
              "      <td>NaN</td>\n",
              "      <td>37.0</td>\n",
              "      <td>5.0</td>\n",
              "      <td>34.0</td>\n",
              "      <td>37.0</td>\n",
              "      <td>16552848.0</td>\n",
              "      <td>162614.0</td>\n",
              "      <td>100.0</td>\n",
              "      <td>0.0</td>\n",
              "      <td>0.0</td>\n",
              "      <td>0.0</td>\n",
              "      <td>100.0</td>\n",
              "      <td>0.0</td>\n",
              "      <td>0.0</td>\n",
              "      <td>0.0</td>\n",
              "      <td>16388988.0</td>\n",
              "      <td>2672663.0</td>\n",
              "      <td>13405.0</td>\n",
              "      <td>34088.0</td>\n",
              "      <td>9.791063e+07</td>\n",
              "      <td>Apple</td>\n",
              "      <td>Huawei B528S-23A</td>\n",
              "      <td>1080.0</td>\n",
              "      <td>314.0</td>\n",
              "      <td>852.0</td>\n",
              "      <td>5.0</td>\n",
              "      <td>2068.0</td>\n",
              "      <td>8.0</td>\n",
              "      <td>43.0</td>\n",
              "      <td>82.0</td>\n",
              "      <td>1.795322e+06</td>\n",
              "      <td>32928.43438</td>\n",
              "      <td>5.750753e+06</td>\n",
              "      <td>2.056542e+06</td>\n",
              "      <td>1.791729e+06</td>\n",
              "      <td>467373.44194</td>\n",
              "      <td>1.163407e+07</td>\n",
              "      <td>1.100941e+07</td>\n",
              "      <td>1.162685e+07</td>\n",
              "      <td>1.100175e+07</td>\n",
              "      <td>4.220447e+08</td>\n",
              "      <td>8.288398e+06</td>\n",
              "      <td>4.211005e+08</td>\n",
              "      <td>8.264799e+06</td>\n",
              "      <td>29626096.0</td>\n",
              "      <td>371895920.0</td>\n",
              "    </tr>\n",
              "  </tbody>\n",
              "</table>\n",
              "<p>150001 rows × 55 columns</p>\n",
              "</div>\n",
              "      <button class=\"colab-df-convert\" onclick=\"convertToInteractive('df-b646f5cb-908e-444a-8770-ad2886277f86')\"\n",
              "              title=\"Convert this dataframe to an interactive table.\"\n",
              "              style=\"display:none;\">\n",
              "        \n",
              "  <svg xmlns=\"http://www.w3.org/2000/svg\" height=\"24px\"viewBox=\"0 0 24 24\"\n",
              "       width=\"24px\">\n",
              "    <path d=\"M0 0h24v24H0V0z\" fill=\"none\"/>\n",
              "    <path d=\"M18.56 5.44l.94 2.06.94-2.06 2.06-.94-2.06-.94-.94-2.06-.94 2.06-2.06.94zm-11 1L8.5 8.5l.94-2.06 2.06-.94-2.06-.94L8.5 2.5l-.94 2.06-2.06.94zm10 10l.94 2.06.94-2.06 2.06-.94-2.06-.94-.94-2.06-.94 2.06-2.06.94z\"/><path d=\"M17.41 7.96l-1.37-1.37c-.4-.4-.92-.59-1.43-.59-.52 0-1.04.2-1.43.59L10.3 9.45l-7.72 7.72c-.78.78-.78 2.05 0 2.83L4 21.41c.39.39.9.59 1.41.59.51 0 1.02-.2 1.41-.59l7.78-7.78 2.81-2.81c.8-.78.8-2.07 0-2.86zM5.41 20L4 18.59l7.72-7.72 1.47 1.35L5.41 20z\"/>\n",
              "  </svg>\n",
              "      </button>\n",
              "      \n",
              "  <style>\n",
              "    .colab-df-container {\n",
              "      display:flex;\n",
              "      flex-wrap:wrap;\n",
              "      gap: 12px;\n",
              "    }\n",
              "\n",
              "    .colab-df-convert {\n",
              "      background-color: #E8F0FE;\n",
              "      border: none;\n",
              "      border-radius: 50%;\n",
              "      cursor: pointer;\n",
              "      display: none;\n",
              "      fill: #1967D2;\n",
              "      height: 32px;\n",
              "      padding: 0 0 0 0;\n",
              "      width: 32px;\n",
              "    }\n",
              "\n",
              "    .colab-df-convert:hover {\n",
              "      background-color: #E2EBFA;\n",
              "      box-shadow: 0px 1px 2px rgba(60, 64, 67, 0.3), 0px 1px 3px 1px rgba(60, 64, 67, 0.15);\n",
              "      fill: #174EA6;\n",
              "    }\n",
              "\n",
              "    [theme=dark] .colab-df-convert {\n",
              "      background-color: #3B4455;\n",
              "      fill: #D2E3FC;\n",
              "    }\n",
              "\n",
              "    [theme=dark] .colab-df-convert:hover {\n",
              "      background-color: #434B5C;\n",
              "      box-shadow: 0px 1px 3px 1px rgba(0, 0, 0, 0.15);\n",
              "      filter: drop-shadow(0px 1px 2px rgba(0, 0, 0, 0.3));\n",
              "      fill: #FFFFFF;\n",
              "    }\n",
              "  </style>\n",
              "\n",
              "      <script>\n",
              "        const buttonEl =\n",
              "          document.querySelector('#df-b646f5cb-908e-444a-8770-ad2886277f86 button.colab-df-convert');\n",
              "        buttonEl.style.display =\n",
              "          google.colab.kernel.accessAllowed ? 'block' : 'none';\n",
              "\n",
              "        async function convertToInteractive(key) {\n",
              "          const element = document.querySelector('#df-b646f5cb-908e-444a-8770-ad2886277f86');\n",
              "          const dataTable =\n",
              "            await google.colab.kernel.invokeFunction('convertToInteractive',\n",
              "                                                     [key], {});\n",
              "          if (!dataTable) return;\n",
              "\n",
              "          const docLinkHtml = 'Like what you see? Visit the ' +\n",
              "            '<a target=\"_blank\" href=https://colab.research.google.com/notebooks/data_table.ipynb>data table notebook</a>'\n",
              "            + ' to learn more about interactive tables.';\n",
              "          element.innerHTML = '';\n",
              "          dataTable['output_type'] = 'display_data';\n",
              "          await google.colab.output.renderOutput(dataTable, element);\n",
              "          const docLink = document.createElement('div');\n",
              "          docLink.innerHTML = docLinkHtml;\n",
              "          element.appendChild(docLink);\n",
              "        }\n",
              "      </script>\n",
              "    </div>\n",
              "  </div>\n",
              "  "
            ]
          },
          "metadata": {},
          "execution_count": 131
        }
      ]
    },
    {
      "cell_type": "markdown",
      "id": "2f92e917",
      "metadata": {
        "id": "2f92e917"
      },
      "source": [
        "## Transforming Data\n",
        "\n",
        "**Scaling and Normalization**"
      ]
    },
    {
      "cell_type": "markdown",
      "id": "31af9f33",
      "metadata": {
        "id": "31af9f33"
      },
      "source": [
        "Scaling vs. Normalization: What's the difference?\n",
        "\n",
        "One of the reasons that it's easy to get confused between scaling and normalization is because the terms are sometimes used interchangeably and, to make it even more confusing, they are very similar! In both cases, you're transforming the values of numeric variables so that the transformed data points have specific helpful properties. The difference is that:\n",
        "\n",
        "    - in scaling, you're changing the range of your data, while\n",
        "    - in normalization, you're changing the shape of the distribution of your data.\n",
        "\n",
        "Scaling\n",
        "\n",
        "This means that you're transforming your data so that it fits within a specific scale, like 0-100 or 0-1. You want to scale data when you're using methods based on measures of how far apart data points are, like support vector machines (SVM) or k-nearest neighbors (KNN). With these algorithms, a change of \"1\" in any numeric feature is given the same importance.\n",
        "\n",
        "For example, you might be looking at the prices of some products in both Yen and US Dollars. One US Dollar is worth about 100 Yen, but if you don't scale your prices, methods like SVM or KNN will consider a difference in price of 1 Yen as important as a difference of 1 US Dollar! This clearly doesn't fit with our intuitions of the world. With currency, you can convert between currencies. But what about if you're looking at something like height and weight? It's not entirely clear how many pounds should equal one inch (or how many kilograms should equal one meter).\n",
        "\n",
        "\n"
      ]
    },
    {
      "cell_type": "code",
      "execution_count": 132,
      "id": "4db69c6f",
      "metadata": {
        "id": "4db69c6f"
      },
      "outputs": [],
      "source": [
        "from sklearn.preprocessing import MinMaxScaler\n",
        "\n",
        "minmax_scaler = MinMaxScaler()\n",
        "\n",
        "# # generate 1000 data points randomly drawn from an exponential distribution\n",
        "# original_data = pd.DataFrame(np.random.exponential(200, size=2000))\n",
        "\n",
        "# original_data.sample(5)"
      ]
    },
    {
      "cell_type": "code",
      "execution_count": 136,
      "id": "887126c7",
      "metadata": {
        "id": "887126c7"
      },
      "outputs": [],
      "source": [
        "# db[1].min(), db[1].max()"
      ]
    },
    {
      "cell_type": "code",
      "execution_count": 139,
      "id": "2c7ac099",
      "metadata": {
        "id": "2c7ac099"
      },
      "outputs": [],
      "source": [
        "# from matplotlib import pyplot as plt\n",
        "# count, bins, ignored = plt.hist(db, 14)\n",
        "# plt.show()"
      ]
    },
    {
      "cell_type": "code",
      "execution_count": null,
      "id": "f72facb7",
      "metadata": {
        "id": "f72facb7",
        "outputId": "aa816348-d667-4b70-da4b-71bacca1a524"
      },
      "outputs": [
        {
          "data": {
            "image/png": "[encoded data removed]",
            "text/plain": [
              "<Figure size 720x432 with 2 Axes>"
            ]
          },
          "metadata": {
            "needs_background": "light"
          },
          "output_type": "display_data"
        }
      ],
      "source": [
        "# mix-max scale the data between 0 and 1\n",
        "def scaler(df):\n",
        "    scaled_data = minmax_scaler.fit_transform(df)\n",
        "\n",
        "    # plot both together to compare\n",
        "    fig, ax = plt.subplots(1,2, figsize=(10, 6))\n",
        "    sns.histplot(original_data, ax=ax[0])\n",
        "    ax[0].set_title(\"Original Data\")\n",
        "    sns.histplot(scaled_data, ax=ax[1])\n",
        "    ax[1].set_title(\"Scaled data\")\n",
        "    \n",
        "scaler(original_data)"
      ]
    },
    {
      "cell_type": "markdown",
      "id": "c3293805",
      "metadata": {
        "id": "c3293805"
      },
      "source": [
        "Normalization\n",
        "\n",
        "Scaling just changes the range of your data. Normalization is a more radical transformation. The point of normalization is to change your observations so that they can be described as a normal distribution.\n",
        "\n",
        "    Normal distribution: Also known as the \"bell curve\", this is a specific statistical distribution where a roughly equal observations fall above and below the mean, the mean and the median are the same, and there are more observations closer to the mean. The normal distribution is also known as the Gaussian distribution.\n",
        "\n",
        "In general, you'll normalize your data if you're going to be using a machine learning or statistics technique that assumes your data is normally distributed. Some examples of these include linear discriminant analysis (LDA) and Gaussian naive Bayes. (Pro tip: any method with \"Gaussian\" in the name probably assumes normality.)\n",
        "\n",
        "The method you will be using to normalize here is called the Normalizer method from sklearn. Let's take a quick peek at what normalizing some data looks like:"
      ]
    },
    {
      "cell_type": "code",
      "execution_count": null,
      "id": "168acc4d",
      "metadata": {
        "id": "168acc4d",
        "outputId": "ee7ff059-319c-4933-b39d-47214f24ee6e"
      },
      "outputs": [
        {
          "data": {
            "image/png": "[encoded data removed]",
            "text/plain": [
              "<Figure size 720x432 with 2 Axes>"
            ]
          },
          "metadata": {
            "needs_background": "light"
          },
          "output_type": "display_data"
        }
      ],
      "source": [
        "from sklearn.preprocessing import Normalizer\n",
        "\n",
        "def normalizer(df):\n",
        "    norm = Normalizer()\n",
        "    # normalize the exponential data with boxcox\n",
        "    normalized_data = norm.fit_transform(df)\n",
        "\n",
        "    # plot both together to compare\n",
        "    fig, ax=plt.subplots(1,2, figsize=(10, 6))\n",
        "    sns.histplot(df, ax=ax[0])\n",
        "    ax[0].set_title(\"Original Data\")\n",
        "    sns.histplot(normalized_data[0], ax=ax[1])\n",
        "    ax[1].set_title(\"Normalized data\")\n",
        "\n",
        "normalizer(original_data)"
      ]
    },
    {
      "cell_type": "code",
      "execution_count": null,
      "id": "2943df05",
      "metadata": {
        "id": "2943df05",
        "outputId": "5b5d13d3-8dd5-4bf8-bcd5-1993235bac45"
      },
      "outputs": [
        {
          "name": "stdout",
          "output_type": "stream",
          "text": [
            "<class 'pandas.core.frame.DataFrame'>\n",
            "RangeIndex: 101766 entries, 0 to 101765\n",
            "Data columns (total 45 columns):\n",
            " #   Column                    Non-Null Count   Dtype \n",
            "---  ------                    --------------   ----- \n",
            " 0   encounter_id              101766 non-null  int64 \n",
            " 1   patient_nbr               101766 non-null  int64 \n",
            " 2   race                      101766 non-null  object\n",
            " 3   gender                    101766 non-null  object\n",
            " 4   age                       101766 non-null  object\n",
            " 5   admission_type_id         101766 non-null  int64 \n",
            " 6   discharge_disposition_id  101766 non-null  int64 \n",
            " 7   admission_source_id       101766 non-null  int64 \n",
            " 8   time_in_hospital          101766 non-null  int64 \n",
            " 9   num_lab_procedures        101766 non-null  int64 \n",
            " 10  num_procedures            101766 non-null  int64 \n",
            " 11  num_medications           101766 non-null  int64 \n",
            " 12  number_outpatient         101766 non-null  int64 \n",
            " 13  number_emergency          101766 non-null  int64 \n",
            " 14  number_inpatient          101766 non-null  int64 \n",
            " 15  diag_1                    101766 non-null  object\n",
            " 16  diag_2                    101765 non-null  object\n",
            " 17  diag_3                    101765 non-null  object\n",
            " 18  number_diagnoses          101766 non-null  int64 \n",
            " 19  metformin                 101766 non-null  object\n",
            " 20  repaglinide               101766 non-null  object\n",
            " 21  nateglinide               101766 non-null  object\n",
            " 22  chlorpropamide            101766 non-null  object\n",
            " 23  glimepiride               101766 non-null  object\n",
            " 24  acetohexamide             101766 non-null  object\n",
            " 25  glipizide                 101766 non-null  object\n",
            " 26  glyburide                 101766 non-null  object\n",
            " 27  tolbutamide               101766 non-null  object\n",
            " 28  pioglitazone              101766 non-null  object\n",
            " 29  rosiglitazone             101766 non-null  object\n",
            " 30  acarbose                  101766 non-null  object\n",
            " 31  miglitol                  101766 non-null  object\n",
            " 32  troglitazone              101766 non-null  object\n",
            " 33  tolazamide                101766 non-null  object\n",
            " 34  examide                   101766 non-null  object\n",
            " 35  citoglipton               101766 non-null  object\n",
            " 36  insulin                   101766 non-null  object\n",
            " 37  glyburide-metformin       101766 non-null  object\n",
            " 38  glipizide-metformin       101766 non-null  object\n",
            " 39  glimepiride-pioglitazone  101766 non-null  object\n",
            " 40  metformin-rosiglitazone   101766 non-null  object\n",
            " 41  metformin-pioglitazone    101766 non-null  object\n",
            " 42  change                    101766 non-null  object\n",
            " 43  diabetesMed               101766 non-null  object\n",
            " 44  readmitted                101766 non-null  object\n",
            "dtypes: int64(13), object(32)\n",
            "memory usage: 34.9+ MB\n"
          ]
        }
      ],
      "source": [
        "# check datatypes\n",
        "df_clean.info()"
      ]
    },
    {
      "cell_type": "code",
      "execution_count": null,
      "id": "9af79008",
      "metadata": {
        "collapsed": true,
        "id": "9af79008",
        "outputId": "b32ddb4d-49f0-40a8-d70c-fbdfa20e888a"
      },
      "outputs": [
        {
          "ename": "AttributeError",
          "evalue": "'float' object has no attribute 'replace'",
          "output_type": "error",
          "traceback": [
            "\u001b[0;31m---------------------------------------------------------------------------\u001b[0m",
            "\u001b[0;31mAttributeError\u001b[0m                            Traceback (most recent call last)",
            "\u001b[0;32m<ipython-input-143-9ed993a77796>\u001b[0m in \u001b[0;36m<module>\u001b[0;34m\u001b[0m\n\u001b[1;32m      4\u001b[0m     \u001b[0;32mreturn\u001b[0m \u001b[0mweight\u001b[0m\u001b[0;34m\u001b[0m\u001b[0;34m\u001b[0m\u001b[0m\n\u001b[1;32m      5\u001b[0m \u001b[0;34m\u001b[0m\u001b[0m\n\u001b[0;32m----> 6\u001b[0;31m \u001b[0mdf_clean\u001b[0m\u001b[0;34m[\u001b[0m\u001b[0;34m'fix_age'\u001b[0m\u001b[0;34m]\u001b[0m \u001b[0;34m=\u001b[0m \u001b[0mfix_weight\u001b[0m\u001b[0;34m(\u001b[0m\u001b[0mdf_clean\u001b[0m\u001b[0;34m[\u001b[0m\u001b[0;34m'age'\u001b[0m\u001b[0;34m]\u001b[0m\u001b[0;34m)\u001b[0m\u001b[0;34m\u001b[0m\u001b[0;34m\u001b[0m\u001b[0m\n\u001b[0m",
            "\u001b[0;32m<ipython-input-64-424a6305f3df>\u001b[0m in \u001b[0;36mfix_weight\u001b[0;34m(col)\u001b[0m\n\u001b[1;32m      1\u001b[0m \u001b[0;32mdef\u001b[0m \u001b[0mfix_weight\u001b[0m\u001b[0;34m(\u001b[0m\u001b[0mcol\u001b[0m\u001b[0;34m)\u001b[0m\u001b[0;34m:\u001b[0m\u001b[0;34m\u001b[0m\u001b[0;34m\u001b[0m\u001b[0m\n\u001b[0;32m----> 2\u001b[0;31m     \u001b[0mweight\u001b[0m \u001b[0;34m=\u001b[0m \u001b[0;34m[\u001b[0m\u001b[0mx\u001b[0m\u001b[0;34m.\u001b[0m\u001b[0mreplace\u001b[0m\u001b[0;34m(\u001b[0m \u001b[0;34m'['\u001b[0m\u001b[0;34m,\u001b[0m \u001b[0;34m''\u001b[0m \u001b[0;34m)\u001b[0m\u001b[0;34m.\u001b[0m\u001b[0mreplace\u001b[0m\u001b[0;34m(\u001b[0m \u001b[0;34m')'\u001b[0m\u001b[0;34m,\u001b[0m \u001b[0;34m''\u001b[0m \u001b[0;34m)\u001b[0m \u001b[0;32mfor\u001b[0m \u001b[0mx\u001b[0m \u001b[0;32min\u001b[0m \u001b[0mcol\u001b[0m\u001b[0;34m.\u001b[0m\u001b[0mfillna\u001b[0m\u001b[0;34m(\u001b[0m\u001b[0;34m''\u001b[0m\u001b[0;34m)\u001b[0m \u001b[0;34m]\u001b[0m\u001b[0;34m\u001b[0m\u001b[0;34m\u001b[0m\u001b[0m\n\u001b[0m\u001b[1;32m      3\u001b[0m     \u001b[0;32mreturn\u001b[0m \u001b[0mweight\u001b[0m\u001b[0;34m\u001b[0m\u001b[0;34m\u001b[0m\u001b[0m\n\u001b[1;32m      4\u001b[0m \u001b[0;34m\u001b[0m\u001b[0m\n\u001b[1;32m      5\u001b[0m \u001b[0mdb\u001b[0m\u001b[0;34m[\u001b[0m\u001b[0;34m'fix_weight'\u001b[0m\u001b[0;34m]\u001b[0m \u001b[0;34m=\u001b[0m \u001b[0mfix_weight\u001b[0m\u001b[0;34m(\u001b[0m\u001b[0mdb\u001b[0m\u001b[0;34m[\u001b[0m\u001b[0;34m'weight'\u001b[0m\u001b[0;34m]\u001b[0m\u001b[0;34m)\u001b[0m\u001b[0;34m\u001b[0m\u001b[0;34m\u001b[0m\u001b[0m\n",
            "\u001b[0;32m<ipython-input-64-424a6305f3df>\u001b[0m in \u001b[0;36m<listcomp>\u001b[0;34m(.0)\u001b[0m\n\u001b[1;32m      1\u001b[0m \u001b[0;32mdef\u001b[0m \u001b[0mfix_weight\u001b[0m\u001b[0;34m(\u001b[0m\u001b[0mcol\u001b[0m\u001b[0;34m)\u001b[0m\u001b[0;34m:\u001b[0m\u001b[0;34m\u001b[0m\u001b[0;34m\u001b[0m\u001b[0m\n\u001b[0;32m----> 2\u001b[0;31m     \u001b[0mweight\u001b[0m \u001b[0;34m=\u001b[0m \u001b[0;34m[\u001b[0m\u001b[0mx\u001b[0m\u001b[0;34m.\u001b[0m\u001b[0mreplace\u001b[0m\u001b[0;34m(\u001b[0m \u001b[0;34m'['\u001b[0m\u001b[0;34m,\u001b[0m \u001b[0;34m''\u001b[0m \u001b[0;34m)\u001b[0m\u001b[0;34m.\u001b[0m\u001b[0mreplace\u001b[0m\u001b[0;34m(\u001b[0m \u001b[0;34m')'\u001b[0m\u001b[0;34m,\u001b[0m \u001b[0;34m''\u001b[0m \u001b[0;34m)\u001b[0m \u001b[0;32mfor\u001b[0m \u001b[0mx\u001b[0m \u001b[0;32min\u001b[0m \u001b[0mcol\u001b[0m\u001b[0;34m.\u001b[0m\u001b[0mfillna\u001b[0m\u001b[0;34m(\u001b[0m\u001b[0;34m''\u001b[0m\u001b[0;34m)\u001b[0m \u001b[0;34m]\u001b[0m\u001b[0;34m\u001b[0m\u001b[0;34m\u001b[0m\u001b[0m\n\u001b[0m\u001b[1;32m      3\u001b[0m     \u001b[0;32mreturn\u001b[0m \u001b[0mweight\u001b[0m\u001b[0;34m\u001b[0m\u001b[0;34m\u001b[0m\u001b[0m\n\u001b[1;32m      4\u001b[0m \u001b[0;34m\u001b[0m\u001b[0m\n\u001b[1;32m      5\u001b[0m \u001b[0mdb\u001b[0m\u001b[0;34m[\u001b[0m\u001b[0;34m'fix_weight'\u001b[0m\u001b[0;34m]\u001b[0m \u001b[0;34m=\u001b[0m \u001b[0mfix_weight\u001b[0m\u001b[0;34m(\u001b[0m\u001b[0mdb\u001b[0m\u001b[0;34m[\u001b[0m\u001b[0;34m'weight'\u001b[0m\u001b[0;34m]\u001b[0m\u001b[0;34m)\u001b[0m\u001b[0;34m\u001b[0m\u001b[0;34m\u001b[0m\u001b[0m\n",
            "\u001b[0;31mAttributeError\u001b[0m: 'float' object has no attribute 'replace'"
          ]
        }
      ],
      "source": [
        "def fix_age(col):\n",
        "    weight = [ x.replace( '[', '' ).replace( ')', '' ) for x in col.fillna('') ]\n",
        "    new_age = [ ( ( int(i.split('-')[0] ) + int( i.split('-')[1] ) ) / 2)  for i in weight ]\n",
        "    return weight, new_age\n",
        "\n",
        "df['age_group'], df_clean['fix_age'] = fix_weight(df_clean['age'])"
      ]
    },
    {
      "cell_type": "code",
      "execution_count": null,
      "id": "476db42b",
      "metadata": {
        "id": "476db42b"
      },
      "outputs": [],
      "source": [
        "\n",
        "df_clean['diag_1'] = pd.to_numeric(df_clean['diag_1'], errors='coerce')\n",
        "df_clean['diag_2'] = pd.to_numeric(df_clean['diag_2'], errors='coerce')\n",
        "df_clean['diag_3'] = pd.to_numeric(df_clean['diag_3'], errors='coerce')\n"
      ]
    },
    {
      "cell_type": "code",
      "execution_count": null,
      "id": "bef899e2",
      "metadata": {
        "id": "bef899e2",
        "outputId": "1587f4e2-e2bd-4529-d6ed-f6e4c9183ec9"
      },
      "outputs": [
        {
          "name": "stdout",
          "output_type": "stream",
          "text": [
            "<class 'pandas.core.frame.DataFrame'>\n",
            "RangeIndex: 101766 entries, 0 to 101765\n",
            "Data columns (total 46 columns):\n",
            " #   Column                    Non-Null Count   Dtype  \n",
            "---  ------                    --------------   -----  \n",
            " 0   encounter_id              101766 non-null  int64  \n",
            " 1   patient_nbr               101766 non-null  int64  \n",
            " 2   race                      101766 non-null  object \n",
            " 3   gender                    101766 non-null  object \n",
            " 4   age                       101766 non-null  object \n",
            " 5   admission_type_id         101766 non-null  int64  \n",
            " 6   discharge_disposition_id  101766 non-null  int64  \n",
            " 7   admission_source_id       101766 non-null  int64  \n",
            " 8   time_in_hospital          101766 non-null  int64  \n",
            " 9   num_lab_procedures        101766 non-null  int64  \n",
            " 10  num_procedures            101766 non-null  int64  \n",
            " 11  num_medications           101766 non-null  int64  \n",
            " 12  number_outpatient         101766 non-null  int64  \n",
            " 13  number_emergency          101766 non-null  int64  \n",
            " 14  number_inpatient          101766 non-null  int64  \n",
            " 15  diag_1                    100121 non-null  float64\n",
            " 16  diag_2                    99228 non-null   float64\n",
            " 17  diag_3                    96635 non-null   float64\n",
            " 18  number_diagnoses          101766 non-null  int64  \n",
            " 19  metformin                 101766 non-null  object \n",
            " 20  repaglinide               101766 non-null  object \n",
            " 21  nateglinide               101766 non-null  object \n",
            " 22  chlorpropamide            101766 non-null  object \n",
            " 23  glimepiride               101766 non-null  object \n",
            " 24  acetohexamide             101766 non-null  object \n",
            " 25  glipizide                 101766 non-null  object \n",
            " 26  glyburide                 101766 non-null  object \n",
            " 27  tolbutamide               101766 non-null  object \n",
            " 28  pioglitazone              101766 non-null  object \n",
            " 29  rosiglitazone             101766 non-null  object \n",
            " 30  acarbose                  101766 non-null  object \n",
            " 31  miglitol                  101766 non-null  object \n",
            " 32  troglitazone              101766 non-null  object \n",
            " 33  tolazamide                101766 non-null  object \n",
            " 34  examide                   101766 non-null  object \n",
            " 35  citoglipton               101766 non-null  object \n",
            " 36  insulin                   101766 non-null  object \n",
            " 37  glyburide-metformin       101766 non-null  object \n",
            " 38  glipizide-metformin       101766 non-null  object \n",
            " 39  glimepiride-pioglitazone  101766 non-null  object \n",
            " 40  metformin-rosiglitazone   101766 non-null  object \n",
            " 41  metformin-pioglitazone    101766 non-null  object \n",
            " 42  change                    101766 non-null  object \n",
            " 43  diabetesMed               101766 non-null  object \n",
            " 44  readmitted                101766 non-null  object \n",
            " 45  fix_age                   101766 non-null  object \n",
            "dtypes: float64(3), int64(13), object(30)\n",
            "memory usage: 35.7+ MB\n"
          ]
        }
      ],
      "source": [
        "df_clean.info()"
      ]
    },
    {
      "cell_type": "code",
      "execution_count": null,
      "id": "f02225e2",
      "metadata": {
        "id": "f02225e2",
        "outputId": "cfbb5bab-228f-4e2c-b01e-c79815e94665"
      },
      "outputs": [
        {
          "data": {
            "text/plain": [
              "array(['0-10', '10-20', '20-30', '30-40', '40-50', '50-60', '60-70',\n",
              "       '70-80', '80-90', '90-100'], dtype=object)"
            ]
          },
          "execution_count": 135,
          "metadata": {},
          "output_type": "execute_result"
        }
      ],
      "source": [
        "df_clean['fix_age'].unique()"
      ]
    },
    {
      "cell_type": "code",
      "execution_count": null,
      "id": "a6b036ac",
      "metadata": {
        "id": "a6b036ac"
      },
      "outputs": [],
      "source": [
        "   \n",
        "df_clean['age'] = [ ((int(i.split('-')[0]) + int(i.split('-')[1])) / 2)  for i in df_clean['fix_age']]"
      ]
    },
    {
      "cell_type": "markdown",
      "id": "f640ccb4",
      "metadata": {
        "id": "f640ccb4"
      },
      "source": [
        "## Utility Functions"
      ]
    },
    {
      "cell_type": "code",
      "execution_count": null,
      "id": "42f432b8",
      "metadata": {
        "id": "42f432b8"
      },
      "outputs": [],
      "source": [
        "# Function to calculate missing values by column\n",
        "def missing_values_table(df):\n",
        "    # Total missing values\n",
        "    mis_val = df.isnull().sum()\n",
        "\n",
        "    # Percentage of missing values\n",
        "    mis_val_percent = 100 * df.isnull().sum() / len(df)\n",
        "\n",
        "    # dtype of missing values\n",
        "    mis_val_dtype = df.dtypes\n",
        "\n",
        "    # Make a table with the results\n",
        "    mis_val_table = pd.concat([mis_val, mis_val_percent, mis_val_dtype], axis=1)\n",
        "\n",
        "    # Rename the columns\n",
        "    mis_val_table_ren_columns = mis_val_table.rename(\n",
        "    columns = {0 : 'Missing Values', 1 : '% of Total Values', 2: 'Dtype'})\n",
        "\n",
        "    # Sort the table by percentage of missing descending\n",
        "    mis_val_table_ren_columns = mis_val_table_ren_columns[\n",
        "        mis_val_table_ren_columns.iloc[:,1] != 0].sort_values(\n",
        "    '% of Total Values', ascending=False).round(1)\n",
        "\n",
        "    # Print some summary information\n",
        "    print (\"Your selected dataframe has \" + str(df.shape[1]) + \" columns.\\n\"      \n",
        "        \"There are \" + str(mis_val_table_ren_columns.shape[0]) +\n",
        "          \" columns that have missing values.\")\n",
        "\n",
        "    # Return the dataframe with missing information\n",
        "    return mis_val_table_ren_columns\n",
        "\n",
        "def format_float(value):\n",
        "    return f'{value:,.2f}'\n",
        "\n",
        "def find_agg(df:pd.DataFrame, agg_column:str, agg_metric:str, col_name:str, top:int, order=False )->pd.DataFrame:\n",
        "    \n",
        "    new_df = df.groupby(agg_column)[agg_column].agg(agg_metric).reset_index(name=col_name).\\\n",
        "                        sort_values(by=col_name, ascending=order)[:top]\n",
        "    \n",
        "    return new_df\n",
        "\n",
        "def convert_bytes_to_megabytes(df, bytes_data):\n",
        "    \"\"\"\n",
        "        This function takes the dataframe and the column which has the bytes values\n",
        "        returns the megabytesof that value\n",
        "        \n",
        "        Args:\n",
        "        -----\n",
        "        df: dataframe\n",
        "        bytes_data: column with bytes values\n",
        "        \n",
        "        Returns:\n",
        "        --------\n",
        "        A series\n",
        "    \"\"\"\n",
        "    \n",
        "    megabyte = 1*10e+5\n",
        "    df[bytes_data] = df[bytes_data] / megabyte\n",
        "    \n",
        "    return df[bytes_data]\n",
        "\n",
        "pd.options.display.float_format = format_float"
      ]
    },
    {
      "cell_type": "markdown",
      "id": "0646f25b",
      "metadata": {
        "id": "0646f25b"
      },
      "source": [
        "## Extracting Data"
      ]
    },
    {
      "cell_type": "code",
      "execution_count": null,
      "id": "7903d60c",
      "metadata": {
        "id": "7903d60c",
        "outputId": "70f96bfd-7689-4b5c-d3c7-3b16ec113d04"
      },
      "outputs": [
        {
          "data": {
            "text/plain": [
              "NO     54864\n",
              ">30    35545\n",
              "<30    11357\n",
              "Name: readmitted, dtype: int64"
            ]
          },
          "execution_count": 47,
          "metadata": {},
          "output_type": "execute_result"
        }
      ],
      "source": [
        "db['readmitted'].value_counts()"
      ]
    },
    {
      "cell_type": "code",
      "execution_count": null,
      "id": "17d1d430",
      "metadata": {
        "id": "17d1d430",
        "outputId": "1bf5ef19-4bbb-4619-ff9e-1d5363bfc80a"
      },
      "outputs": [
        {
          "name": "stdout",
          "output_type": "stream",
          "text": [
            "The Diabetes dataset contains 0.0 % missing values.\n"
          ]
        }
      ],
      "source": [
        "percent_missing(df_clean)"
      ]
    },
    {
      "cell_type": "code",
      "execution_count": null,
      "id": "15163169",
      "metadata": {
        "id": "15163169",
        "outputId": "55a97469-891a-4e74-9930-0a651c6652e9"
      },
      "outputs": [
        {
          "name": "stdout",
          "output_type": "stream",
          "text": [
            "Your selected dataframe has 46 columns.\n",
            "There are 3 columns that have missing values.\n"
          ]
        },
        {
          "data": {
            "text/html": [
              "<div>\n",
              "<style scoped>\n",
              "    .dataframe tbody tr th:only-of-type {\n",
              "        vertical-align: middle;\n",
              "    }\n",
              "\n",
              "    .dataframe tbody tr th {\n",
              "        vertical-align: top;\n",
              "    }\n",
              "\n",
              "    .dataframe thead th {\n",
              "        text-align: right;\n",
              "    }\n",
              "</style>\n",
              "<table border=\"1\" class=\"dataframe\">\n",
              "  <thead>\n",
              "    <tr style=\"text-align: right;\">\n",
              "      <th></th>\n",
              "      <th>Missing Values</th>\n",
              "      <th>% of Total Values</th>\n",
              "      <th>Dtype</th>\n",
              "    </tr>\n",
              "  </thead>\n",
              "  <tbody>\n",
              "    <tr>\n",
              "      <th>diag_3</th>\n",
              "      <td>5131</td>\n",
              "      <td>5.00</td>\n",
              "      <td>float64</td>\n",
              "    </tr>\n",
              "    <tr>\n",
              "      <th>diag_2</th>\n",
              "      <td>2538</td>\n",
              "      <td>2.50</td>\n",
              "      <td>float64</td>\n",
              "    </tr>\n",
              "    <tr>\n",
              "      <th>diag_1</th>\n",
              "      <td>1645</td>\n",
              "      <td>1.60</td>\n",
              "      <td>float64</td>\n",
              "    </tr>\n",
              "  </tbody>\n",
              "</table>\n",
              "</div>"
            ],
            "text/plain": [
              "        Missing Values  % of Total Values    Dtype\n",
              "diag_3            5131               5.00  float64\n",
              "diag_2            2538               2.50  float64\n",
              "diag_1            1645               1.60  float64"
            ]
          },
          "execution_count": 144,
          "metadata": {},
          "output_type": "execute_result"
        }
      ],
      "source": [
        "missing_values_table(df_clean)"
      ]
    },
    {
      "cell_type": "code",
      "execution_count": null,
      "id": "18e49f6d",
      "metadata": {
        "id": "18e49f6d"
      },
      "outputs": [],
      "source": [
        "def map_readmitted(col):\n",
        "    readmitted_map = {'NO' : 'NO', '>30': 'YES', '<30': 'YES'}\n",
        "    return col.map(readmitted_map)\n",
        "\n",
        "db['fix_readmitted'] = map_readmitted(db['readmitted'])"
      ]
    },
    {
      "cell_type": "code",
      "execution_count": null,
      "id": "ff11ea66",
      "metadata": {
        "id": "ff11ea66",
        "outputId": "cdbd63c7-698a-4808-bf7c-0a234e87bce7"
      },
      "outputs": [
        {
          "data": {
            "text/plain": [
              "array(['No', 'Ch'], dtype=object)"
            ]
          },
          "execution_count": 71,
          "metadata": {},
          "output_type": "execute_result"
        }
      ],
      "source": [
        "# unique encounter id\n",
        "db['change'].unique()"
      ]
    },
    {
      "cell_type": "code",
      "execution_count": null,
      "id": "816de463",
      "metadata": {
        "id": "816de463",
        "outputId": "be8dbf82-d34a-4675-b5f6-f6c57d08d1c7"
      },
      "outputs": [
        {
          "data": {
            "text/plain": [
              "(101766, 50)"
            ]
          },
          "execution_count": 50,
          "metadata": {},
          "output_type": "execute_result"
        }
      ],
      "source": [
        "db.shape"
      ]
    },
    {
      "cell_type": "code",
      "execution_count": null,
      "id": "52bae06a",
      "metadata": {
        "colab": {
          "base_uri": "https://localhost:8080/",
          "height": 583
        },
        "id": "52bae06a",
        "outputId": "5fa9c16f-83bf-4b93-f67c-1cfa11bc9e8a"
      },
      "outputs": [
        {
          "output_type": "execute_result",
          "data": {
            "text/plain": [
              "      Bearer Id               Start  Start ms                 End  End ms  \\\n",
              "0  1.311448e+19 2019-04-04 12:01:18     770.0 2019-04-25 14:35:31   662.0   \n",
              "1  1.311448e+19 2019-04-09 13:04:04     235.0 2019-04-25 08:15:48   606.0   \n",
              "2  1.311448e+19 2019-04-09 17:42:11       1.0 2019-04-25 11:58:13   652.0   \n",
              "3  1.311448e+19 2019-04-10 00:31:25     486.0 2019-04-25 07:36:35   171.0   \n",
              "4  1.311448e+19 2019-04-12 20:10:23     565.0 2019-04-25 10:40:32   954.0   \n",
              "\n",
              "   Dur. (ms)          IMSI  MSISDN/Number          IMEI Last Location Name  \\\n",
              "0  1823652.0  2.082014e+14   3.366496e+10  3.552121e+13   9164566995485190   \n",
              "1  1365104.0  2.082019e+14   3.368185e+10  3.579401e+13            L77566A   \n",
              "2  1361762.0  2.082003e+14   3.376063e+10  3.528151e+13            D42335A   \n",
              "3  1321509.0  2.082014e+14   3.375034e+10  3.535661e+13            T21824A   \n",
              "4  1089009.0  2.082014e+14   3.369980e+10  3.540701e+13            D88865A   \n",
              "\n",
              "   Avg RTT DL (ms)  Avg RTT UL (ms)  Avg Bearer TP DL (kbps)  \\\n",
              "0             42.0              5.0                     23.0   \n",
              "1             65.0              5.0                     16.0   \n",
              "2              NaN              NaN                      6.0   \n",
              "3              NaN              NaN                     44.0   \n",
              "4              NaN              NaN                      6.0   \n",
              "\n",
              "   Avg Bearer TP UL (kbps)  TCP DL Retrans. Vol (Bytes)  \\\n",
              "0                     44.0                          NaN   \n",
              "1                     26.0                          NaN   \n",
              "2                      9.0                          NaN   \n",
              "3                     44.0                          NaN   \n",
              "4                      9.0                          NaN   \n",
              "\n",
              "   TCP UL Retrans. Vol (Bytes)  DL TP < 50 Kbps (%)  \\\n",
              "0                          NaN                100.0   \n",
              "1                          NaN                100.0   \n",
              "2                          NaN                100.0   \n",
              "3                          NaN                100.0   \n",
              "4                          NaN                100.0   \n",
              "\n",
              "   50 Kbps < DL TP < 250 Kbps (%)  250 Kbps < DL TP < 1 Mbps (%)  \\\n",
              "0                             0.0                            0.0   \n",
              "1                             0.0                            0.0   \n",
              "2                             0.0                            0.0   \n",
              "3                             0.0                            0.0   \n",
              "4                             0.0                            0.0   \n",
              "\n",
              "   DL TP > 1 Mbps (%)  UL TP < 10 Kbps (%)  10 Kbps < UL TP < 50 Kbps (%)  \\\n",
              "0                 0.0                100.0                            0.0   \n",
              "1                 0.0                100.0                            0.0   \n",
              "2                 0.0                100.0                            0.0   \n",
              "3                 0.0                100.0                            0.0   \n",
              "4                 0.0                100.0                            0.0   \n",
              "\n",
              "   50 Kbps < UL TP < 300 Kbps (%)  UL TP > 300 Kbps (%)  HTTP DL (Bytes)  \\\n",
              "0                             0.0                   0.0              NaN   \n",
              "1                             0.0                   0.0              NaN   \n",
              "2                             0.0                   0.0              NaN   \n",
              "3                             0.0                   0.0              NaN   \n",
              "4                             0.0                   0.0              NaN   \n",
              "\n",
              "   HTTP UL (Bytes)  Activity Duration DL (ms)  Activity Duration UL (ms)  \\\n",
              "0              NaN                    37624.0                    38787.0   \n",
              "1              NaN                      168.0                     3560.0   \n",
              "2              NaN                        0.0                        0.0   \n",
              "3              NaN                     3330.0                    37882.0   \n",
              "4              NaN                        0.0                        0.0   \n",
              "\n",
              "    Dur. (ms).1 Handset Manufacturer                 Handset Type  \\\n",
              "0  1.823653e+09              Samsung   Samsung Galaxy A5 Sm-A520F   \n",
              "1  1.365104e+09              Samsung  Samsung Galaxy J5 (Sm-J530)   \n",
              "2  1.361763e+09              Samsung     Samsung Galaxy A8 (2018)   \n",
              "3  1.321510e+09            undefined                    undefined   \n",
              "4  1.089009e+09              Samsung             Samsung Sm-G390F   \n",
              "\n",
              "   Nb of sec with 125000B < Vol DL  Nb of sec with 1250B < Vol UL < 6250B  \\\n",
              "0                              NaN                                    NaN   \n",
              "1                              NaN                                    NaN   \n",
              "2                              NaN                                    NaN   \n",
              "3                              NaN                                    NaN   \n",
              "4                              NaN                                    NaN   \n",
              "\n",
              "   Nb of sec with 31250B < Vol DL < 125000B  Nb of sec with 37500B < Vol UL  \\\n",
              "0                                       NaN                             NaN   \n",
              "1                                       NaN                             NaN   \n",
              "2                                       NaN                             NaN   \n",
              "3                                       NaN                             NaN   \n",
              "4                                       NaN                             NaN   \n",
              "\n",
              "   Nb of sec with 6250B < Vol DL < 31250B  \\\n",
              "0                                     NaN   \n",
              "1                                     NaN   \n",
              "2                                     NaN   \n",
              "3                                     NaN   \n",
              "4                                     NaN   \n",
              "\n",
              "   Nb of sec with 6250B < Vol UL < 37500B  Nb of sec with Vol DL < 6250B  \\\n",
              "0                                     NaN                          213.0   \n",
              "1                                     NaN                          971.0   \n",
              "2                                     NaN                          751.0   \n",
              "3                                     NaN                           17.0   \n",
              "4                                     NaN                          607.0   \n",
              "\n",
              "   Nb of sec with Vol UL < 1250B  Social Media DL (Bytes)  \\\n",
              "0                          214.0                1545765.0   \n",
              "1                         1022.0                1926113.0   \n",
              "2                          695.0                1684053.0   \n",
              "3                          207.0                 644121.0   \n",
              "4                          604.0                 862600.0   \n",
              "\n",
              "   Social Media UL (Bytes)  Google DL (Bytes)  Google UL (Bytes)  \\\n",
              "0                  24420.0          1634479.0          1271433.0   \n",
              "1                   7165.0          3493924.0           920172.0   \n",
              "2                  42224.0          8535055.0          1694064.0   \n",
              "3                  13372.0          9023734.0          2788027.0   \n",
              "4                  50188.0          6248284.0          1500559.0   \n",
              "\n",
              "   Email DL (Bytes)  Email UL (Bytes)  Youtube DL (Bytes)  Youtube UL (Bytes)  \\\n",
              "0         3563542.0          137762.0          15854611.0           2501332.0   \n",
              "1          629046.0          308339.0          20247395.0          19111729.0   \n",
              "2         2690151.0          672973.0          19725661.0          14699576.0   \n",
              "3         1439754.0          631229.0          21388122.0          15146643.0   \n",
              "4         1936496.0          173853.0          15259380.0          18962873.0   \n",
              "\n",
              "   Netflix DL (Bytes)  Netflix UL (Bytes)  Gaming DL (Bytes)  \\\n",
              "0           8198936.0           9656251.0        278082303.0   \n",
              "1          18338413.0          17227132.0        608750074.0   \n",
              "2          17587794.0           6163408.0        229584621.0   \n",
              "3          13994646.0           1097942.0        799538153.0   \n",
              "4          17124581.0            415218.0        527707248.0   \n",
              "\n",
              "   Gaming UL (Bytes)  Other DL (Bytes)  Other UL (Bytes)  Total UL (Bytes)  \\\n",
              "0         14344150.0       171744450.0         8814393.0        36749741.0   \n",
              "1          1170709.0       526904238.0        15055145.0        53800391.0   \n",
              "2           395630.0       410692588.0         4215763.0        27883638.0   \n",
              "3         10849722.0       749039933.0        12797283.0        43324218.0   \n",
              "4          3529801.0       550709500.0        13910322.0        38542814.0   \n",
              "\n",
              "   Total DL (Bytes)  \n",
              "0       308879636.0  \n",
              "1       653384965.0  \n",
              "2       279807335.0  \n",
              "3       846028530.0  \n",
              "4       569138589.0  "
            ],
            "text/html": [
              "\n",
              "  <div id=\"df-0bb2a888-09a1-461b-b10f-dd38561db7ef\">\n",
              "    <div class=\"colab-df-container\">\n",
              "      <div>\n",
              "<style scoped>\n",
              "    .dataframe tbody tr th:only-of-type {\n",
              "        vertical-align: middle;\n",
              "    }\n",
              "\n",
              "    .dataframe tbody tr th {\n",
              "        vertical-align: top;\n",
              "    }\n",
              "\n",
              "    .dataframe thead th {\n",
              "        text-align: right;\n",
              "    }\n",
              "</style>\n",
              "<table border=\"1\" class=\"dataframe\">\n",
              "  <thead>\n",
              "    <tr style=\"text-align: right;\">\n",
              "      <th></th>\n",
              "      <th>Bearer Id</th>\n",
              "      <th>Start</th>\n",
              "      <th>Start ms</th>\n",
              "      <th>End</th>\n",
              "      <th>End ms</th>\n",
              "      <th>Dur. (ms)</th>\n",
              "      <th>IMSI</th>\n",
              "      <th>MSISDN/Number</th>\n",
              "      <th>IMEI</th>\n",
              "      <th>Last Location Name</th>\n",
              "      <th>Avg RTT DL (ms)</th>\n",
              "      <th>Avg RTT UL (ms)</th>\n",
              "      <th>Avg Bearer TP DL (kbps)</th>\n",
              "      <th>Avg Bearer TP UL (kbps)</th>\n",
              "      <th>TCP DL Retrans. Vol (Bytes)</th>\n",
              "      <th>TCP UL Retrans. Vol (Bytes)</th>\n",
              "      <th>DL TP &lt; 50 Kbps (%)</th>\n",
              "      <th>50 Kbps &lt; DL TP &lt; 250 Kbps (%)</th>\n",
              "      <th>250 Kbps &lt; DL TP &lt; 1 Mbps (%)</th>\n",
              "      <th>DL TP &gt; 1 Mbps (%)</th>\n",
              "      <th>UL TP &lt; 10 Kbps (%)</th>\n",
              "      <th>10 Kbps &lt; UL TP &lt; 50 Kbps (%)</th>\n",
              "      <th>50 Kbps &lt; UL TP &lt; 300 Kbps (%)</th>\n",
              "      <th>UL TP &gt; 300 Kbps (%)</th>\n",
              "      <th>HTTP DL (Bytes)</th>\n",
              "      <th>HTTP UL (Bytes)</th>\n",
              "      <th>Activity Duration DL (ms)</th>\n",
              "      <th>Activity Duration UL (ms)</th>\n",
              "      <th>Dur. (ms).1</th>\n",
              "      <th>Handset Manufacturer</th>\n",
              "      <th>Handset Type</th>\n",
              "      <th>Nb of sec with 125000B &lt; Vol DL</th>\n",
              "      <th>Nb of sec with 1250B &lt; Vol UL &lt; 6250B</th>\n",
              "      <th>Nb of sec with 31250B &lt; Vol DL &lt; 125000B</th>\n",
              "      <th>Nb of sec with 37500B &lt; Vol UL</th>\n",
              "      <th>Nb of sec with 6250B &lt; Vol DL &lt; 31250B</th>\n",
              "      <th>Nb of sec with 6250B &lt; Vol UL &lt; 37500B</th>\n",
              "      <th>Nb of sec with Vol DL &lt; 6250B</th>\n",
              "      <th>Nb of sec with Vol UL &lt; 1250B</th>\n",
              "      <th>Social Media DL (Bytes)</th>\n",
              "      <th>Social Media UL (Bytes)</th>\n",
              "      <th>Google DL (Bytes)</th>\n",
              "      <th>Google UL (Bytes)</th>\n",
              "      <th>Email DL (Bytes)</th>\n",
              "      <th>Email UL (Bytes)</th>\n",
              "      <th>Youtube DL (Bytes)</th>\n",
              "      <th>Youtube UL (Bytes)</th>\n",
              "      <th>Netflix DL (Bytes)</th>\n",
              "      <th>Netflix UL (Bytes)</th>\n",
              "      <th>Gaming DL (Bytes)</th>\n",
              "      <th>Gaming UL (Bytes)</th>\n",
              "      <th>Other DL (Bytes)</th>\n",
              "      <th>Other UL (Bytes)</th>\n",
              "      <th>Total UL (Bytes)</th>\n",
              "      <th>Total DL (Bytes)</th>\n",
              "    </tr>\n",
              "  </thead>\n",
              "  <tbody>\n",
              "    <tr>\n",
              "      <th>0</th>\n",
              "      <td>1.311448e+19</td>\n",
              "      <td>2019-04-04 12:01:18</td>\n",
              "      <td>770.0</td>\n",
              "      <td>2019-04-25 14:35:31</td>\n",
              "      <td>662.0</td>\n",
              "      <td>1823652.0</td>\n",
              "      <td>2.082014e+14</td>\n",
              "      <td>3.366496e+10</td>\n",
              "      <td>3.552121e+13</td>\n",
              "      <td>9164566995485190</td>\n",
              "      <td>42.0</td>\n",
              "      <td>5.0</td>\n",
              "      <td>23.0</td>\n",
              "      <td>44.0</td>\n",
              "      <td>NaN</td>\n",
              "      <td>NaN</td>\n",
              "      <td>100.0</td>\n",
              "      <td>0.0</td>\n",
              "      <td>0.0</td>\n",
              "      <td>0.0</td>\n",
              "      <td>100.0</td>\n",
              "      <td>0.0</td>\n",
              "      <td>0.0</td>\n",
              "      <td>0.0</td>\n",
              "      <td>NaN</td>\n",
              "      <td>NaN</td>\n",
              "      <td>37624.0</td>\n",
              "      <td>38787.0</td>\n",
              "      <td>1.823653e+09</td>\n",
              "      <td>Samsung</td>\n",
              "      <td>Samsung Galaxy A5 Sm-A520F</td>\n",
              "      <td>NaN</td>\n",
              "      <td>NaN</td>\n",
              "      <td>NaN</td>\n",
              "      <td>NaN</td>\n",
              "      <td>NaN</td>\n",
              "      <td>NaN</td>\n",
              "      <td>213.0</td>\n",
              "      <td>214.0</td>\n",
              "      <td>1545765.0</td>\n",
              "      <td>24420.0</td>\n",
              "      <td>1634479.0</td>\n",
              "      <td>1271433.0</td>\n",
              "      <td>3563542.0</td>\n",
              "      <td>137762.0</td>\n",
              "      <td>15854611.0</td>\n",
              "      <td>2501332.0</td>\n",
              "      <td>8198936.0</td>\n",
              "      <td>9656251.0</td>\n",
              "      <td>278082303.0</td>\n",
              "      <td>14344150.0</td>\n",
              "      <td>171744450.0</td>\n",
              "      <td>8814393.0</td>\n",
              "      <td>36749741.0</td>\n",
              "      <td>308879636.0</td>\n",
              "    </tr>\n",
              "    <tr>\n",
              "      <th>1</th>\n",
              "      <td>1.311448e+19</td>\n",
              "      <td>2019-04-09 13:04:04</td>\n",
              "      <td>235.0</td>\n",
              "      <td>2019-04-25 08:15:48</td>\n",
              "      <td>606.0</td>\n",
              "      <td>1365104.0</td>\n",
              "      <td>2.082019e+14</td>\n",
              "      <td>3.368185e+10</td>\n",
              "      <td>3.579401e+13</td>\n",
              "      <td>L77566A</td>\n",
              "      <td>65.0</td>\n",
              "      <td>5.0</td>\n",
              "      <td>16.0</td>\n",
              "      <td>26.0</td>\n",
              "      <td>NaN</td>\n",
              "      <td>NaN</td>\n",
              "      <td>100.0</td>\n",
              "      <td>0.0</td>\n",
              "      <td>0.0</td>\n",
              "      <td>0.0</td>\n",
              "      <td>100.0</td>\n",
              "      <td>0.0</td>\n",
              "      <td>0.0</td>\n",
              "      <td>0.0</td>\n",
              "      <td>NaN</td>\n",
              "      <td>NaN</td>\n",
              "      <td>168.0</td>\n",
              "      <td>3560.0</td>\n",
              "      <td>1.365104e+09</td>\n",
              "      <td>Samsung</td>\n",
              "      <td>Samsung Galaxy J5 (Sm-J530)</td>\n",
              "      <td>NaN</td>\n",
              "      <td>NaN</td>\n",
              "      <td>NaN</td>\n",
              "      <td>NaN</td>\n",
              "      <td>NaN</td>\n",
              "      <td>NaN</td>\n",
              "      <td>971.0</td>\n",
              "      <td>1022.0</td>\n",
              "      <td>1926113.0</td>\n",
              "      <td>7165.0</td>\n",
              "      <td>3493924.0</td>\n",
              "      <td>920172.0</td>\n",
              "      <td>629046.0</td>\n",
              "      <td>308339.0</td>\n",
              "      <td>20247395.0</td>\n",
              "      <td>19111729.0</td>\n",
              "      <td>18338413.0</td>\n",
              "      <td>17227132.0</td>\n",
              "      <td>608750074.0</td>\n",
              "      <td>1170709.0</td>\n",
              "      <td>526904238.0</td>\n",
              "      <td>15055145.0</td>\n",
              "      <td>53800391.0</td>\n",
              "      <td>653384965.0</td>\n",
              "    </tr>\n",
              "    <tr>\n",
              "      <th>2</th>\n",
              "      <td>1.311448e+19</td>\n",
              "      <td>2019-04-09 17:42:11</td>\n",
              "      <td>1.0</td>\n",
              "      <td>2019-04-25 11:58:13</td>\n",
              "      <td>652.0</td>\n",
              "      <td>1361762.0</td>\n",
              "      <td>2.082003e+14</td>\n",
              "      <td>3.376063e+10</td>\n",
              "      <td>3.528151e+13</td>\n",
              "      <td>D42335A</td>\n",
              "      <td>NaN</td>\n",
              "      <td>NaN</td>\n",
              "      <td>6.0</td>\n",
              "      <td>9.0</td>\n",
              "      <td>NaN</td>\n",
              "      <td>NaN</td>\n",
              "      <td>100.0</td>\n",
              "      <td>0.0</td>\n",
              "      <td>0.0</td>\n",
              "      <td>0.0</td>\n",
              "      <td>100.0</td>\n",
              "      <td>0.0</td>\n",
              "      <td>0.0</td>\n",
              "      <td>0.0</td>\n",
              "      <td>NaN</td>\n",
              "      <td>NaN</td>\n",
              "      <td>0.0</td>\n",
              "      <td>0.0</td>\n",
              "      <td>1.361763e+09</td>\n",
              "      <td>Samsung</td>\n",
              "      <td>Samsung Galaxy A8 (2018)</td>\n",
              "      <td>NaN</td>\n",
              "      <td>NaN</td>\n",
              "      <td>NaN</td>\n",
              "      <td>NaN</td>\n",
              "      <td>NaN</td>\n",
              "      <td>NaN</td>\n",
              "      <td>751.0</td>\n",
              "      <td>695.0</td>\n",
              "      <td>1684053.0</td>\n",
              "      <td>42224.0</td>\n",
              "      <td>8535055.0</td>\n",
              "      <td>1694064.0</td>\n",
              "      <td>2690151.0</td>\n",
              "      <td>672973.0</td>\n",
              "      <td>19725661.0</td>\n",
              "      <td>14699576.0</td>\n",
              "      <td>17587794.0</td>\n",
              "      <td>6163408.0</td>\n",
              "      <td>229584621.0</td>\n",
              "      <td>395630.0</td>\n",
              "      <td>410692588.0</td>\n",
              "      <td>4215763.0</td>\n",
              "      <td>27883638.0</td>\n",
              "      <td>279807335.0</td>\n",
              "    </tr>\n",
              "    <tr>\n",
              "      <th>3</th>\n",
              "      <td>1.311448e+19</td>\n",
              "      <td>2019-04-10 00:31:25</td>\n",
              "      <td>486.0</td>\n",
              "      <td>2019-04-25 07:36:35</td>\n",
              "      <td>171.0</td>\n",
              "      <td>1321509.0</td>\n",
              "      <td>2.082014e+14</td>\n",
              "      <td>3.375034e+10</td>\n",
              "      <td>3.535661e+13</td>\n",
              "      <td>T21824A</td>\n",
              "      <td>NaN</td>\n",
              "      <td>NaN</td>\n",
              "      <td>44.0</td>\n",
              "      <td>44.0</td>\n",
              "      <td>NaN</td>\n",
              "      <td>NaN</td>\n",
              "      <td>100.0</td>\n",
              "      <td>0.0</td>\n",
              "      <td>0.0</td>\n",
              "      <td>0.0</td>\n",
              "      <td>100.0</td>\n",
              "      <td>0.0</td>\n",
              "      <td>0.0</td>\n",
              "      <td>0.0</td>\n",
              "      <td>NaN</td>\n",
              "      <td>NaN</td>\n",
              "      <td>3330.0</td>\n",
              "      <td>37882.0</td>\n",
              "      <td>1.321510e+09</td>\n",
              "      <td>undefined</td>\n",
              "      <td>undefined</td>\n",
              "      <td>NaN</td>\n",
              "      <td>NaN</td>\n",
              "      <td>NaN</td>\n",
              "      <td>NaN</td>\n",
              "      <td>NaN</td>\n",
              "      <td>NaN</td>\n",
              "      <td>17.0</td>\n",
              "      <td>207.0</td>\n",
              "      <td>644121.0</td>\n",
              "      <td>13372.0</td>\n",
              "      <td>9023734.0</td>\n",
              "      <td>2788027.0</td>\n",
              "      <td>1439754.0</td>\n",
              "      <td>631229.0</td>\n",
              "      <td>21388122.0</td>\n",
              "      <td>15146643.0</td>\n",
              "      <td>13994646.0</td>\n",
              "      <td>1097942.0</td>\n",
              "      <td>799538153.0</td>\n",
              "      <td>10849722.0</td>\n",
              "      <td>749039933.0</td>\n",
              "      <td>12797283.0</td>\n",
              "      <td>43324218.0</td>\n",
              "      <td>846028530.0</td>\n",
              "    </tr>\n",
              "    <tr>\n",
              "      <th>4</th>\n",
              "      <td>1.311448e+19</td>\n",
              "      <td>2019-04-12 20:10:23</td>\n",
              "      <td>565.0</td>\n",
              "      <td>2019-04-25 10:40:32</td>\n",
              "      <td>954.0</td>\n",
              "      <td>1089009.0</td>\n",
              "      <td>2.082014e+14</td>\n",
              "      <td>3.369980e+10</td>\n",
              "      <td>3.540701e+13</td>\n",
              "      <td>D88865A</td>\n",
              "      <td>NaN</td>\n",
              "      <td>NaN</td>\n",
              "      <td>6.0</td>\n",
              "      <td>9.0</td>\n",
              "      <td>NaN</td>\n",
              "      <td>NaN</td>\n",
              "      <td>100.0</td>\n",
              "      <td>0.0</td>\n",
              "      <td>0.0</td>\n",
              "      <td>0.0</td>\n",
              "      <td>100.0</td>\n",
              "      <td>0.0</td>\n",
              "      <td>0.0</td>\n",
              "      <td>0.0</td>\n",
              "      <td>NaN</td>\n",
              "      <td>NaN</td>\n",
              "      <td>0.0</td>\n",
              "      <td>0.0</td>\n",
              "      <td>1.089009e+09</td>\n",
              "      <td>Samsung</td>\n",
              "      <td>Samsung Sm-G390F</td>\n",
              "      <td>NaN</td>\n",
              "      <td>NaN</td>\n",
              "      <td>NaN</td>\n",
              "      <td>NaN</td>\n",
              "      <td>NaN</td>\n",
              "      <td>NaN</td>\n",
              "      <td>607.0</td>\n",
              "      <td>604.0</td>\n",
              "      <td>862600.0</td>\n",
              "      <td>50188.0</td>\n",
              "      <td>6248284.0</td>\n",
              "      <td>1500559.0</td>\n",
              "      <td>1936496.0</td>\n",
              "      <td>173853.0</td>\n",
              "      <td>15259380.0</td>\n",
              "      <td>18962873.0</td>\n",
              "      <td>17124581.0</td>\n",
              "      <td>415218.0</td>\n",
              "      <td>527707248.0</td>\n",
              "      <td>3529801.0</td>\n",
              "      <td>550709500.0</td>\n",
              "      <td>13910322.0</td>\n",
              "      <td>38542814.0</td>\n",
              "      <td>569138589.0</td>\n",
              "    </tr>\n",
              "  </tbody>\n",
              "</table>\n",
              "</div>\n",
              "      <button class=\"colab-df-convert\" onclick=\"convertToInteractive('df-0bb2a888-09a1-461b-b10f-dd38561db7ef')\"\n",
              "              title=\"Convert this dataframe to an interactive table.\"\n",
              "              style=\"display:none;\">\n",
              "        \n",
              "  <svg xmlns=\"http://www.w3.org/2000/svg\" height=\"24px\"viewBox=\"0 0 24 24\"\n",
              "       width=\"24px\">\n",
              "    <path d=\"M0 0h24v24H0V0z\" fill=\"none\"/>\n",
              "    <path d=\"M18.56 5.44l.94 2.06.94-2.06 2.06-.94-2.06-.94-.94-2.06-.94 2.06-2.06.94zm-11 1L8.5 8.5l.94-2.06 2.06-.94-2.06-.94L8.5 2.5l-.94 2.06-2.06.94zm10 10l.94 2.06.94-2.06 2.06-.94-2.06-.94-.94-2.06-.94 2.06-2.06.94z\"/><path d=\"M17.41 7.96l-1.37-1.37c-.4-.4-.92-.59-1.43-.59-.52 0-1.04.2-1.43.59L10.3 9.45l-7.72 7.72c-.78.78-.78 2.05 0 2.83L4 21.41c.39.39.9.59 1.41.59.51 0 1.02-.2 1.41-.59l7.78-7.78 2.81-2.81c.8-.78.8-2.07 0-2.86zM5.41 20L4 18.59l7.72-7.72 1.47 1.35L5.41 20z\"/>\n",
              "  </svg>\n",
              "      </button>\n",
              "      \n",
              "  <style>\n",
              "    .colab-df-container {\n",
              "      display:flex;\n",
              "      flex-wrap:wrap;\n",
              "      gap: 12px;\n",
              "    }\n",
              "\n",
              "    .colab-df-convert {\n",
              "      background-color: #E8F0FE;\n",
              "      border: none;\n",
              "      border-radius: 50%;\n",
              "      cursor: pointer;\n",
              "      display: none;\n",
              "      fill: #1967D2;\n",
              "      height: 32px;\n",
              "      padding: 0 0 0 0;\n",
              "      width: 32px;\n",
              "    }\n",
              "\n",
              "    .colab-df-convert:hover {\n",
              "      background-color: #E2EBFA;\n",
              "      box-shadow: 0px 1px 2px rgba(60, 64, 67, 0.3), 0px 1px 3px 1px rgba(60, 64, 67, 0.15);\n",
              "      fill: #174EA6;\n",
              "    }\n",
              "\n",
              "    [theme=dark] .colab-df-convert {\n",
              "      background-color: #3B4455;\n",
              "      fill: #D2E3FC;\n",
              "    }\n",
              "\n",
              "    [theme=dark] .colab-df-convert:hover {\n",
              "      background-color: #434B5C;\n",
              "      box-shadow: 0px 1px 3px 1px rgba(0, 0, 0, 0.15);\n",
              "      filter: drop-shadow(0px 1px 2px rgba(0, 0, 0, 0.3));\n",
              "      fill: #FFFFFF;\n",
              "    }\n",
              "  </style>\n",
              "\n",
              "      <script>\n",
              "        const buttonEl =\n",
              "          document.querySelector('#df-0bb2a888-09a1-461b-b10f-dd38561db7ef button.colab-df-convert');\n",
              "        buttonEl.style.display =\n",
              "          google.colab.kernel.accessAllowed ? 'block' : 'none';\n",
              "\n",
              "        async function convertToInteractive(key) {\n",
              "          const element = document.querySelector('#df-0bb2a888-09a1-461b-b10f-dd38561db7ef');\n",
              "          const dataTable =\n",
              "            await google.colab.kernel.invokeFunction('convertToInteractive',\n",
              "                                                     [key], {});\n",
              "          if (!dataTable) return;\n",
              "\n",
              "          const docLinkHtml = 'Like what you see? Visit the ' +\n",
              "            '<a target=\"_blank\" href=https://colab.research.google.com/notebooks/data_table.ipynb>data table notebook</a>'\n",
              "            + ' to learn more about interactive tables.';\n",
              "          element.innerHTML = '';\n",
              "          dataTable['output_type'] = 'display_data';\n",
              "          await google.colab.output.renderOutput(dataTable, element);\n",
              "          const docLink = document.createElement('div');\n",
              "          docLink.innerHTML = docLinkHtml;\n",
              "          element.appendChild(docLink);\n",
              "        }\n",
              "      </script>\n",
              "    </div>\n",
              "  </div>\n",
              "  "
            ]
          },
          "metadata": {},
          "execution_count": 47
        }
      ],
      "source": [
        "pd.set_option('max_column', None)\n",
        "df = pd.read_excel(\"/content/drive/Shareddrives/10 Academy/Intensive training/Batch 6/Content-B6/Week-1/data/Week1_challenge_data_source.xlsx\", engine = 'openpyxl')\n",
        "df.head()"
      ]
    }
  ],
  "metadata": {
    "kernelspec": {
      "display_name": "Python 3",
      "language": "python",
      "name": "python3"
    },
    "language_info": {
      "codemirror_mode": {
        "name": "ipython",
        "version": 3
      },
      "file_extension": ".py",
      "mimetype": "text/x-python",
      "name": "python",
      "nbconvert_exporter": "python",
      "pygments_lexer": "ipython3",
      "version": "3.9.5"
    },
    "colab": {
      "name": "UserOverviewAnalysis.ipynb",
      "provenance": [],
      "collapsed_sections": [],
      "include_colab_link": true
    }
  },
  "nbformat": 4,
  "nbformat_minor": 5
}